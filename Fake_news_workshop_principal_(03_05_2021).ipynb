{
  "nbformat": 4,
  "nbformat_minor": 0,
  "metadata": {
    "colab": {
      "name": "Fake_news_workshop_principal_(03_05_2021).ipynb",
      "provenance": [],
      "collapsed_sections": [
        "6MZvFKhPpJ3j",
        "zmCdOsAApYcc"
      ],
      "toc_visible": true,
      "machine_shape": "hm"
    },
    "kernelspec": {
      "display_name": "Python 3",
      "language": "python",
      "name": "python3"
    },
    "language_info": {
      "codemirror_mode": {
        "name": "ipython",
        "version": 3
      },
      "file_extension": ".py",
      "mimetype": "text/x-python",
      "name": "python",
      "nbconvert_exporter": "python",
      "pygments_lexer": "ipython3",
      "version": "3.8.5"
    }
  },
  "cells": [
    {
      "cell_type": "code",
      "metadata": {
        "id": "oLFjP62zXpfx",
        "colab": {
          "base_uri": "https://localhost:8080/"
        },
        "outputId": "5061b36b-1b2b-433a-cfda-9610bed2f3a5"
      },
      "source": [
        "#!pip install google.colab\n",
        "from google.colab import drive\n",
        "drive.mount('/content/drive')"
      ],
      "execution_count": null,
      "outputs": [
        {
          "output_type": "stream",
          "text": [
            "Drive already mounted at /content/drive; to attempt to forcibly remount, call drive.mount(\"/content/drive\", force_remount=True).\n"
          ],
          "name": "stdout"
        }
      ]
    },
    {
      "cell_type": "markdown",
      "metadata": {
        "id": "5r9iJgz8kpAC"
      },
      "source": [
        "# **Fake News Tutorial**\n"
      ]
    },
    {
      "cell_type": "markdown",
      "metadata": {
        "id": "e5JNA8N57ErM"
      },
      "source": [
        "## **1. Introduction**\n",
        "\n",
        "There have always been fake news, but with the emergence of the Internet and new communication and information technologies, fake news has become part of our daily lives. Social media algorithms do not have an easy task determining the truthfulness of information. In this way, supposedly real images and videos that have been professionally manipulated are disseminated. This disinformation can influence debates and public opinion and cause a hugh damage on our society and daily lifes.\n",
        "\n",
        "A clear recent example of the impact that fake news had on people was the case of Donald Trump’s election or Brexit. Several media outlets claim that one of the main reasons Donald Trump won the election was because he abused the posting of fake news on several of his social networks. \n",
        "\n",
        "Unfortunately, very few people are able to detect fake news or have time to verify if the information they are reading is real or false. This should not be a problem for people, because thanks to artificial intelligence we will be able to detect whether it is a fake or a real news.\n",
        "\n",
        "In this notebook you will learn how to do an exploratory data analysis as well as using machine learning and deep learning algorithms to automate and detect fake news.\n",
        "\n",
        "![](https://drive.google.com/uc?export=view&id=1IE2GD2yg-MiP7VG_j3EEgqxWuWaBJ3ey)"
      ]
    },
    {
      "cell_type": "markdown",
      "metadata": {
        "id": "nttAA6kYlCa9"
      },
      "source": [
        "## **2. Dataset explained**\n"
      ]
    },
    {
      "cell_type": "markdown",
      "metadata": {
        "id": "4mKzlSl-9z--"
      },
      "source": [
        "Training and testing examples were taken from http://www.fakenewschallenge.org/\n",
        "\n",
        "\n",
        "The goal of the Fake News Challenge is to explore how artificial intelligence technologies, particularly machine learning and natural language processing, might be leveraged to combat the fake news problem. We believe that these AI technologies hold promise for significantly automating parts of the procedure human fact checkers use today to determine if a story is real or a hoax.\n",
        "\n",
        "Assessing the veracity of a news story is a complex and cumbersome task, even for trained experts 3. Fortunately, the process can be broken down into steps or stages. A helpful first step towards identifying fake news is to understand what other news organizations are saying about the topic. We believe automating this process, called Stance Detection, could serve as a useful building block in an AI-assisted fact-checking pipeline. So stage #1 of the Fake News Challenge (FNC-1) focuses on the task of Stance Detection.\n",
        "\n",
        "Stance Detection involves estimating the relative perspective (or stance) of two pieces of text relative to a topic, claim or issue. The version of Stance Detection we have selected for FNC-1 extends the work of Ferreira & Vlachos 4. For FNC-1 we have chosen the task of estimating the stance of a body text from a news article relative to a headline. Specifically, the body text may agree, disagree, discuss or be unrelated to the headline.\n",
        "\n",
        "The dataset input is a  headline and a body text - either from the same news article or from two different articles and the output label is the stance of the body text relative to the claim made in the headline into one of four categories:\n",
        "Agrees: The body text agrees with the headline.\n",
        "Disagrees: The body text disagrees with the headline.\n",
        "Discusses: The body text discuss the same topic as the headline, but does not take a position\n",
        "Unrelated: The body text discusses a different topic than the headline\n",
        "\n",
        "The image bellow help us understand better the struture of our dataset\n",
        "\n",
        "![](https://drive.google.com/uc?export=view&id=1xjXYtNWbl2lyzlsMN7Lf5aG_7I29bwjw)\n"
      ]
    },
    {
      "cell_type": "markdown",
      "metadata": {
        "id": "UIELUahJcczK"
      },
      "source": [
        "## **3. 🔎 Getting, Cleaning, Data Exploratory Analysis**\n",
        "We will start with some **exploratory data analysis (EDA)**. This is a very important first step every time we start working with a new dataset. \n",
        "\n",
        "EDA is meant to help us understand the dataset better before doing more complex analyses. It is also an opportunity to prepare and \"clean\" the data.\n",
        "\n",
        "Data preparation steps might include:\n",
        "*   Removing duplicated or irrelevant observations.\n",
        "*   Filtering out outlier values (sometimes caused by measurement errors) which might otherwise cause problems in our analysis.\n",
        "*   Handling missing values. \n",
        "*   Plotting some of the features of the data, for example using histograms, to gain an intuitive understanding of the dataset.\n",
        "\n",
        "The dataset is already divided in train set and test set. Thus, we just need to use the one that suits us along the way. \n",
        "\n"
      ]
    },
    {
      "cell_type": "markdown",
      "metadata": {
        "id": "mevw_bE_Wl8m"
      },
      "source": [
        "### **3.1 Data Exploratory Analysis**\n",
        "\n",
        "We as humans are very biased. In everyday life, we make many assumptions that turn out to be wrong. For example, when something bad happened, we have a \"hindsight bias\", i.e. we think that we expected this to happen, even though we actually didn't. Or the loss-aversion bias. If an item has a certain value, then we weight loosing it higher than gaining it. There are many more biases, and Wikipedia has a very exhaustive list, [if you're interested](https://en.wikipedia.org/wiki/List_of_cognitive_biases) . We may be born with some of these biases, but others are usually acquired when we grow up.\n",
        "\n",
        "Similarly, Machine Learning algorithms can also acquire biases when they grow up, i.e. when we train them on a problem. If you want your algorithm to classify diseases, but only provide images of a certain sub-population, it will assume that everyone falls into that population. For example, if you train it on images of men, it'll assume that there are only men in this world. If you then show it a picture of a woman, it'll make a wrong decision. This can have very bad consequences. In the worst case, your algorithm discriminates against a certain ethnicity, and suddenly you make headlines as the inventor of a racist AI. Important to note is that the algorithm itself has no tendency to be biased. But if we provide it with a biased dataset, it will eventually become biased, because it doesn't know better.\n",
        "\n",
        "In this step we will check for a balanced data so we can train the machine learning models without oversampling or undersampling classes. If we see some bias towards one class we need to apply techniques to manage this issue with our data set.\n",
        "\n",
        "First step is to check if we have all Python packages we need be using to visualize the characteristics of the dataset to check for class balance, and install those missing if any. We will need to join files containing labeling of examples to content of articles for our purpose.\n",
        "\n",
        "We want to check for: 1. Number of examples in each class, 2. Total Percentage of examples in each class, 3. Distribution of the lenght of each example as we will use its word content to train for classification.\n"
      ]
    },
    {
      "cell_type": "markdown",
      "metadata": {
        "id": "dAGDPipevMsl"
      },
      "source": [
        "Now that we have secured environment requirements for python packages that will be declared in the code, next we will import them into the program"
      ]
    },
    {
      "cell_type": "code",
      "metadata": {
        "id": "j1ZntwLOvMfk"
      },
      "source": [
        "import matplotlib.pyplot as plt\n",
        "#import required libraries\n",
        "import matplotlib.ticker as mtick\n",
        "import numpy as np\n",
        "import nltk\n",
        "from nltk.corpus import stopwords\n",
        "from nltk.stem import WordNetLemmatizer\n",
        "import pandas as pd\n",
        "import pickle as pkl\n",
        "import re\n",
        "import seaborn as sns\n",
        "from sklearn.feature_extraction.text import TfidfVectorizer\n",
        "from sklearn.model_selection import train_test_split\n",
        "from sklearn.feature_selection import chi2\n",
        "from sklearn.decomposition import PCA, TruncatedSVD\n",
        "from sklearn.preprocessing import LabelEncoder\n",
        "from sklearn.preprocessing import OneHotEncoder\n",
        "import warnings\n",
        "#GBM algorithm\n",
        "from sklearn.ensemble import GradientBoostingClassifier\n",
        "from pprint import pprint\n",
        "import lightgbm as lgb\n",
        "from sklearn.model_selection import RandomizedSearchCV\n",
        "from sklearn.model_selection import GridSearchCV\n",
        "from sklearn.metrics import classification_report, confusion_matrix, accuracy_score\n",
        "from sklearn.model_selection import ShuffleSplit\n",
        "from matplotlib.pylab import rcParams\n",
        "from sklearn import tree\n",
        "from csv import DictReader\n",
        "from csv import DictWriter\n",
        "from sklearn.feature_extraction.text import CountVectorizer\n",
        "from sklearn.feature_extraction.text import TfidfTransformer\n",
        "from sklearn.metrics.pairwise import cosine_similarity\n",
        "import tensorflow as tf\n",
        "from tensorflow.python.keras.layers import  Input, Embedding, Dot, Reshape, Dense\n",
        "from tensorflow.python.keras.models import Model\n",
        "import random\n",
        "from sklearn.ensemble import RandomForestClassifier\n",
        "from sklearn.linear_model import LogisticRegression\n",
        "\n",
        "%matplotlib inline"
      ],
      "execution_count": null,
      "outputs": []
    },
    {
      "cell_type": "markdown",
      "metadata": {
        "id": "V6bR0056rHOL"
      },
      "source": [
        "We want to check for: 1. Number of examples in each class, 2. Total Percentage of examples in each class, 3. Distribution of the lenght of each example as we will use its word content to train for classification.\n",
        "\n",
        "Data is already included in /content/FakeNews folder. Data is already separated by example content and labeled files, and also in train, test and demo files to keep process clean.\n"
      ]
    },
    {
      "cell_type": "markdown",
      "metadata": {
        "id": "gMLi_5V6RCu-"
      },
      "source": [
        "To upload trainning examples (which are stored in CSV )files is from the GitHub repository. Click on the dataset in repository, then click on View Raw. Copy the link to the raw dataset and store it as a string variable then to load the link into Pandas read_csv to get the data frame."
      ]
    },
    {
      "cell_type": "markdown",
      "metadata": {
        "id": "tOiynOhfFWOe"
      },
      "source": [
        "We create variables where we will store all our training examples data."
      ]
    },
    {
      "cell_type": "code",
      "metadata": {
        "id": "oZjf8xu5SL88"
      },
      "source": [
        "data = []\n",
        "train_df=[]\n",
        "trainbodies_df = []\n",
        "trainstances_df = []"
      ],
      "execution_count": null,
      "outputs": []
    },
    {
      "cell_type": "markdown",
      "metadata": {
        "id": "DpJdnBTCG2sP"
      },
      "source": [
        "The read_csv () function is smart enough to decipher whether it's working with full or relative file paths and convert your flat file as a DataFrame without a problem."
      ]
    },
    {
      "cell_type": "code",
      "metadata": {
        "id": "ORK_PlGzQ2cm"
      },
      "source": [
        "trainbodies_url = 'https://raw.githubusercontent.com/StavroK/MtySaturdayAI2020/master/train_bodies.csv'\n",
        "trainbodies_df = pd.read_csv(trainbodies_url)"
      ],
      "execution_count": null,
      "outputs": []
    },
    {
      "cell_type": "code",
      "metadata": {
        "id": "RCd8-rlrRvvB"
      },
      "source": [
        "trainstances_url = 'https://raw.githubusercontent.com/StavroK/MtySaturdayAI2020/master/train_stances.random.csv'\n",
        "trainstances_df = pd.read_csv(trainstances_url)"
      ],
      "execution_count": null,
      "outputs": []
    },
    {
      "cell_type": "code",
      "metadata": {
        "colab": {
          "base_uri": "https://localhost:8080/"
        },
        "id": "CFwdB7NKPTtr",
        "outputId": "22edb612-f11c-46aa-b76d-c7e94f8bd52e"
      },
      "source": [
        "print(\"Total stances: \" + str(len(trainstances_df)))\n",
        "print(\"Total bodies: \" + str(len(trainbodies_df)))"
      ],
      "execution_count": null,
      "outputs": [
        {
          "output_type": "stream",
          "text": [
            "Total stances: 49972\n",
            "Total bodies: 1683\n"
          ],
          "name": "stdout"
        }
      ]
    },
    {
      "cell_type": "markdown",
      "metadata": {
        "id": "fOeNnVq5G6aI"
      },
      "source": [
        "We take a look at our columns of our dataframe trainbodies.\n",
        "\n"
      ]
    },
    {
      "cell_type": "code",
      "metadata": {
        "colab": {
          "base_uri": "https://localhost:8080/"
        },
        "id": "iHQCTC52r5fO",
        "outputId": "56a77d93-a4b5-496e-9666-e0a5a64076a3"
      },
      "source": [
        "trainbodies_df.columns"
      ],
      "execution_count": null,
      "outputs": [
        {
          "output_type": "execute_result",
          "data": {
            "text/plain": [
              "Index(['Body ID', 'articleBody'], dtype='object')"
            ]
          },
          "metadata": {
            "tags": []
          },
          "execution_count": 7
        }
      ]
    },
    {
      "cell_type": "markdown",
      "metadata": {
        "id": "m5TIeb3bHD7v"
      },
      "source": [
        "We also take a look at the top 5 results ordered by id value."
      ]
    },
    {
      "cell_type": "code",
      "metadata": {
        "colab": {
          "base_uri": "https://localhost:8080/",
          "height": 204
        },
        "id": "rxMwwoTRBN9n",
        "outputId": "4b58c8da-e59d-4481-ead0-5c678d1fe8ae"
      },
      "source": [
        "trainbodies_df.sort_values(by='Body ID')\n",
        "trainbodies_df.head()"
      ],
      "execution_count": null,
      "outputs": [
        {
          "output_type": "execute_result",
          "data": {
            "text/html": [
              "<div>\n",
              "<style scoped>\n",
              "    .dataframe tbody tr th:only-of-type {\n",
              "        vertical-align: middle;\n",
              "    }\n",
              "\n",
              "    .dataframe tbody tr th {\n",
              "        vertical-align: top;\n",
              "    }\n",
              "\n",
              "    .dataframe thead th {\n",
              "        text-align: right;\n",
              "    }\n",
              "</style>\n",
              "<table border=\"1\" class=\"dataframe\">\n",
              "  <thead>\n",
              "    <tr style=\"text-align: right;\">\n",
              "      <th></th>\n",
              "      <th>Body ID</th>\n",
              "      <th>articleBody</th>\n",
              "    </tr>\n",
              "  </thead>\n",
              "  <tbody>\n",
              "    <tr>\n",
              "      <th>0</th>\n",
              "      <td>0</td>\n",
              "      <td>A small meteorite crashed into a wooded area i...</td>\n",
              "    </tr>\n",
              "    <tr>\n",
              "      <th>1</th>\n",
              "      <td>4</td>\n",
              "      <td>Last week we hinted at what was to come as Ebo...</td>\n",
              "    </tr>\n",
              "    <tr>\n",
              "      <th>2</th>\n",
              "      <td>5</td>\n",
              "      <td>(NEWSER) – Wonder how long a Quarter Pounder w...</td>\n",
              "    </tr>\n",
              "    <tr>\n",
              "      <th>3</th>\n",
              "      <td>6</td>\n",
              "      <td>Posting photos of a gun-toting child online, I...</td>\n",
              "    </tr>\n",
              "    <tr>\n",
              "      <th>4</th>\n",
              "      <td>7</td>\n",
              "      <td>At least 25 suspected Boko Haram insurgents we...</td>\n",
              "    </tr>\n",
              "  </tbody>\n",
              "</table>\n",
              "</div>"
            ],
            "text/plain": [
              "   Body ID                                        articleBody\n",
              "0        0  A small meteorite crashed into a wooded area i...\n",
              "1        4  Last week we hinted at what was to come as Ebo...\n",
              "2        5  (NEWSER) – Wonder how long a Quarter Pounder w...\n",
              "3        6  Posting photos of a gun-toting child online, I...\n",
              "4        7  At least 25 suspected Boko Haram insurgents we..."
            ]
          },
          "metadata": {
            "tags": []
          },
          "execution_count": 8
        }
      ]
    },
    {
      "cell_type": "markdown",
      "metadata": {
        "id": "TfDArBJAH6Ud"
      },
      "source": [
        "As well we take a look at our columns of our dataframe trainstances to verify that there are no errors."
      ]
    },
    {
      "cell_type": "code",
      "metadata": {
        "colab": {
          "base_uri": "https://localhost:8080/"
        },
        "id": "E3slEZyq2ANY",
        "outputId": "fb02a079-4208-47c0-e589-37bfddfe5f98"
      },
      "source": [
        "trainstances_df.columns\n"
      ],
      "execution_count": null,
      "outputs": [
        {
          "output_type": "execute_result",
          "data": {
            "text/plain": [
              "Index(['Headline', 'Body ID', 'Stance'], dtype='object')"
            ]
          },
          "metadata": {
            "tags": []
          },
          "execution_count": 9
        }
      ]
    },
    {
      "cell_type": "markdown",
      "metadata": {
        "id": "Ok38qzPjIZ0W"
      },
      "source": [
        "Like before take a look at the top 5 results ordered by id value."
      ]
    },
    {
      "cell_type": "code",
      "metadata": {
        "colab": {
          "base_uri": "https://localhost:8080/",
          "height": 204
        },
        "id": "3cYVWsVCBKdW",
        "outputId": "24399ec6-833c-4670-8f7d-e4653dc3368f"
      },
      "source": [
        "trainstances_df.sort_values(by='Body ID')\n",
        "trainstances_df.head()"
      ],
      "execution_count": null,
      "outputs": [
        {
          "output_type": "execute_result",
          "data": {
            "text/html": [
              "<div>\n",
              "<style scoped>\n",
              "    .dataframe tbody tr th:only-of-type {\n",
              "        vertical-align: middle;\n",
              "    }\n",
              "\n",
              "    .dataframe tbody tr th {\n",
              "        vertical-align: top;\n",
              "    }\n",
              "\n",
              "    .dataframe thead th {\n",
              "        text-align: right;\n",
              "    }\n",
              "</style>\n",
              "<table border=\"1\" class=\"dataframe\">\n",
              "  <thead>\n",
              "    <tr style=\"text-align: right;\">\n",
              "      <th></th>\n",
              "      <th>Headline</th>\n",
              "      <th>Body ID</th>\n",
              "      <th>Stance</th>\n",
              "    </tr>\n",
              "  </thead>\n",
              "  <tbody>\n",
              "    <tr>\n",
              "      <th>0</th>\n",
              "      <td>Police find mass graves with at least '15 bodi...</td>\n",
              "      <td>712</td>\n",
              "      <td>discuss</td>\n",
              "    </tr>\n",
              "    <tr>\n",
              "      <th>1</th>\n",
              "      <td>Hundreds of Palestinians flee floods in Gaza a...</td>\n",
              "      <td>158</td>\n",
              "      <td>discuss</td>\n",
              "    </tr>\n",
              "    <tr>\n",
              "      <th>2</th>\n",
              "      <td>Christian Bale passes on role of Steve Jobs, a...</td>\n",
              "      <td>137</td>\n",
              "      <td>disagree</td>\n",
              "    </tr>\n",
              "    <tr>\n",
              "      <th>3</th>\n",
              "      <td>HBO and Apple in Talks for $15/Month Apple TV ...</td>\n",
              "      <td>1034</td>\n",
              "      <td>disagree</td>\n",
              "    </tr>\n",
              "    <tr>\n",
              "      <th>4</th>\n",
              "      <td>Spider burrowed through tourist's stomach and ...</td>\n",
              "      <td>1923</td>\n",
              "      <td>agree</td>\n",
              "    </tr>\n",
              "  </tbody>\n",
              "</table>\n",
              "</div>"
            ],
            "text/plain": [
              "                                            Headline  Body ID    Stance\n",
              "0  Police find mass graves with at least '15 bodi...      712   discuss\n",
              "1  Hundreds of Palestinians flee floods in Gaza a...      158   discuss\n",
              "2  Christian Bale passes on role of Steve Jobs, a...      137  disagree\n",
              "3  HBO and Apple in Talks for $15/Month Apple TV ...     1034  disagree\n",
              "4  Spider burrowed through tourist's stomach and ...     1923     agree"
            ]
          },
          "metadata": {
            "tags": []
          },
          "execution_count": 10
        }
      ]
    },
    {
      "cell_type": "markdown",
      "metadata": {
        "id": "udzBuw6xIr2-"
      },
      "source": [
        "We merge both dataframes and save them in a new dataframe variable."
      ]
    },
    {
      "cell_type": "code",
      "metadata": {
        "colab": {
          "base_uri": "https://localhost:8080/"
        },
        "id": "PwbusOPt3Y8O",
        "outputId": "75e622e0-b82f-4736-ad51-c74b6cdb514d"
      },
      "source": [
        "train_df = pd.merge(trainbodies_df,trainstances_df, on=\"Body ID\")\n",
        "print(\"Total training examples: \" + str(len(train_df)))"
      ],
      "execution_count": null,
      "outputs": [
        {
          "output_type": "stream",
          "text": [
            "Total training examples: 49972\n"
          ],
          "name": "stdout"
        }
      ]
    },
    {
      "cell_type": "markdown",
      "metadata": {
        "id": "oQ-lracdJVU9"
      },
      "source": [
        "We see the columns of the new dataframe and the first and last 5 results."
      ]
    },
    {
      "cell_type": "code",
      "metadata": {
        "colab": {
          "base_uri": "https://localhost:8080/"
        },
        "id": "re_qv_IQBd6H",
        "outputId": "3aa2bd38-6901-4131-8dbf-1c6abdffd6d0"
      },
      "source": [
        "train_df.columns"
      ],
      "execution_count": null,
      "outputs": [
        {
          "output_type": "execute_result",
          "data": {
            "text/plain": [
              "Index(['Body ID', 'articleBody', 'Headline', 'Stance'], dtype='object')"
            ]
          },
          "metadata": {
            "tags": []
          },
          "execution_count": 12
        }
      ]
    },
    {
      "cell_type": "code",
      "metadata": {
        "colab": {
          "base_uri": "https://localhost:8080/",
          "height": 204
        },
        "id": "tQH7gocfBkzg",
        "outputId": "80f13206-e2c5-4e88-cd2a-ed836810cc31"
      },
      "source": [
        "train_df.head()"
      ],
      "execution_count": null,
      "outputs": [
        {
          "output_type": "execute_result",
          "data": {
            "text/html": [
              "<div>\n",
              "<style scoped>\n",
              "    .dataframe tbody tr th:only-of-type {\n",
              "        vertical-align: middle;\n",
              "    }\n",
              "\n",
              "    .dataframe tbody tr th {\n",
              "        vertical-align: top;\n",
              "    }\n",
              "\n",
              "    .dataframe thead th {\n",
              "        text-align: right;\n",
              "    }\n",
              "</style>\n",
              "<table border=\"1\" class=\"dataframe\">\n",
              "  <thead>\n",
              "    <tr style=\"text-align: right;\">\n",
              "      <th></th>\n",
              "      <th>Body ID</th>\n",
              "      <th>articleBody</th>\n",
              "      <th>Headline</th>\n",
              "      <th>Stance</th>\n",
              "    </tr>\n",
              "  </thead>\n",
              "  <tbody>\n",
              "    <tr>\n",
              "      <th>0</th>\n",
              "      <td>0</td>\n",
              "      <td>A small meteorite crashed into a wooded area i...</td>\n",
              "      <td>Soldier shot, Parliament locked down after gun...</td>\n",
              "      <td>discuss</td>\n",
              "    </tr>\n",
              "    <tr>\n",
              "      <th>1</th>\n",
              "      <td>0</td>\n",
              "      <td>A small meteorite crashed into a wooded area i...</td>\n",
              "      <td>Tourist dubbed ‘Spider Man’ after spider burro...</td>\n",
              "      <td>disagree</td>\n",
              "    </tr>\n",
              "    <tr>\n",
              "      <th>2</th>\n",
              "      <td>0</td>\n",
              "      <td>A small meteorite crashed into a wooded area i...</td>\n",
              "      <td>Luke Somers 'killed in failed rescue attempt i...</td>\n",
              "      <td>agree</td>\n",
              "    </tr>\n",
              "    <tr>\n",
              "      <th>3</th>\n",
              "      <td>0</td>\n",
              "      <td>A small meteorite crashed into a wooded area i...</td>\n",
              "      <td>BREAKING: Soldier shot at War Memorial in Ottawa</td>\n",
              "      <td>unrelated</td>\n",
              "    </tr>\n",
              "    <tr>\n",
              "      <th>4</th>\n",
              "      <td>0</td>\n",
              "      <td>A small meteorite crashed into a wooded area i...</td>\n",
              "      <td>Giant 8ft 9in catfish weighing 19 stone caught...</td>\n",
              "      <td>agree</td>\n",
              "    </tr>\n",
              "  </tbody>\n",
              "</table>\n",
              "</div>"
            ],
            "text/plain": [
              "   Body ID  ...     Stance\n",
              "0        0  ...    discuss\n",
              "1        0  ...   disagree\n",
              "2        0  ...      agree\n",
              "3        0  ...  unrelated\n",
              "4        0  ...      agree\n",
              "\n",
              "[5 rows x 4 columns]"
            ]
          },
          "metadata": {
            "tags": []
          },
          "execution_count": 13
        }
      ]
    },
    {
      "cell_type": "code",
      "metadata": {
        "colab": {
          "base_uri": "https://localhost:8080/",
          "height": 204
        },
        "id": "flG1wmhGBmaT",
        "outputId": "dc7be0b4-6a84-4a8f-a41e-74d2b1a4b094"
      },
      "source": [
        "train_df.tail()"
      ],
      "execution_count": null,
      "outputs": [
        {
          "output_type": "execute_result",
          "data": {
            "text/html": [
              "<div>\n",
              "<style scoped>\n",
              "    .dataframe tbody tr th:only-of-type {\n",
              "        vertical-align: middle;\n",
              "    }\n",
              "\n",
              "    .dataframe tbody tr th {\n",
              "        vertical-align: top;\n",
              "    }\n",
              "\n",
              "    .dataframe thead th {\n",
              "        text-align: right;\n",
              "    }\n",
              "</style>\n",
              "<table border=\"1\" class=\"dataframe\">\n",
              "  <thead>\n",
              "    <tr style=\"text-align: right;\">\n",
              "      <th></th>\n",
              "      <th>Body ID</th>\n",
              "      <th>articleBody</th>\n",
              "      <th>Headline</th>\n",
              "      <th>Stance</th>\n",
              "    </tr>\n",
              "  </thead>\n",
              "  <tbody>\n",
              "    <tr>\n",
              "      <th>49967</th>\n",
              "      <td>2532</td>\n",
              "      <td>ANN ARBOR, Mich. – A pizza delivery man in Mic...</td>\n",
              "      <td>Pizza delivery man gets tipped more than $2,00...</td>\n",
              "      <td>disagree</td>\n",
              "    </tr>\n",
              "    <tr>\n",
              "      <th>49968</th>\n",
              "      <td>2532</td>\n",
              "      <td>ANN ARBOR, Mich. – A pizza delivery man in Mic...</td>\n",
              "      <td>Pizza delivery man gets $2,000 tip</td>\n",
              "      <td>unrelated</td>\n",
              "    </tr>\n",
              "    <tr>\n",
              "      <th>49969</th>\n",
              "      <td>2532</td>\n",
              "      <td>ANN ARBOR, Mich. – A pizza delivery man in Mic...</td>\n",
              "      <td>Luckiest Pizza Delivery Guy Ever Gets $2,000 Tip</td>\n",
              "      <td>discuss</td>\n",
              "    </tr>\n",
              "    <tr>\n",
              "      <th>49970</th>\n",
              "      <td>2532</td>\n",
              "      <td>ANN ARBOR, Mich. – A pizza delivery man in Mic...</td>\n",
              "      <td>Ann Arbor pizza delivery driver surprised with...</td>\n",
              "      <td>disagree</td>\n",
              "    </tr>\n",
              "    <tr>\n",
              "      <th>49971</th>\n",
              "      <td>2532</td>\n",
              "      <td>ANN ARBOR, Mich. – A pizza delivery man in Mic...</td>\n",
              "      <td>Ann Arbor pizza delivery driver surprised with...</td>\n",
              "      <td>agree</td>\n",
              "    </tr>\n",
              "  </tbody>\n",
              "</table>\n",
              "</div>"
            ],
            "text/plain": [
              "       Body ID  ...     Stance\n",
              "49967     2532  ...   disagree\n",
              "49968     2532  ...  unrelated\n",
              "49969     2532  ...    discuss\n",
              "49970     2532  ...   disagree\n",
              "49971     2532  ...      agree\n",
              "\n",
              "[5 rows x 4 columns]"
            ]
          },
          "metadata": {
            "tags": []
          },
          "execution_count": 14
        }
      ]
    },
    {
      "cell_type": "markdown",
      "metadata": {
        "id": "tZXk7BN8Jmqq"
      },
      "source": [
        "We see the stances that our training dataframe has."
      ]
    },
    {
      "cell_type": "code",
      "metadata": {
        "id": "jMw8zv30U0wg"
      },
      "source": [
        "stances = []\n",
        "stances = train_df['Stance']"
      ],
      "execution_count": null,
      "outputs": []
    },
    {
      "cell_type": "code",
      "metadata": {
        "colab": {
          "base_uri": "https://localhost:8080/"
        },
        "id": "JLi4uURuYW7s",
        "outputId": "ddb45d39-06f2-49ae-ef18-3ea959e6ce58"
      },
      "source": [
        "stances.head()"
      ],
      "execution_count": null,
      "outputs": [
        {
          "output_type": "execute_result",
          "data": {
            "text/plain": [
              "0      discuss\n",
              "1     disagree\n",
              "2        agree\n",
              "3    unrelated\n",
              "4        agree\n",
              "Name: Stance, dtype: object"
            ]
          },
          "metadata": {
            "tags": []
          },
          "execution_count": 16
        }
      ]
    },
    {
      "cell_type": "code",
      "metadata": {
        "colab": {
          "base_uri": "https://localhost:8080/"
        },
        "id": "3nN2JsSjX-yE",
        "outputId": "e6daab26-6c1e-4ac3-c5c8-1fabced847d9"
      },
      "source": [
        "stances.unique()"
      ],
      "execution_count": null,
      "outputs": [
        {
          "output_type": "execute_result",
          "data": {
            "text/plain": [
              "array(['discuss', 'disagree', 'agree', 'unrelated'], dtype=object)"
            ]
          },
          "metadata": {
            "tags": []
          },
          "execution_count": 17
        }
      ]
    },
    {
      "cell_type": "markdown",
      "metadata": {
        "id": "qjKssjQ8YDff"
      },
      "source": [
        "As we can see there's 4 stances of classification into our dataset. Let's see how many articles there are that correspond to each stance. We will use Matplotlib that is a library for the generation of graphs from data contained in lists or arrays."
      ]
    },
    {
      "cell_type": "code",
      "metadata": {
        "colab": {
          "base_uri": "https://localhost:8080/",
          "height": 421
        },
        "id": "hLShcUS8jfiF",
        "outputId": "13ad6c86-0734-4b28-8b98-a7184af40b42"
      },
      "source": [
        "pkmn_type_colors = ['#78C850',  # Grass\n",
        "                    '#F08030',  # Fire\n",
        "                    '#6890F0',  # Water\n",
        "                    '#A8B820',  # Bug\n",
        "                    '#A8A878',  # Normal\n",
        "                    '#A040A0',  # Poison\n",
        "                    '#F8D030',  # Electric\n",
        "                    '#E0C068',  # Ground\n",
        "                    '#EE99AC',  # Fairy\n",
        "                    '#C03028',  # Fighting\n",
        "                    '#F85888',  # Psychic\n",
        "                    '#B8A038',  # Rock\n",
        "                    '#705898',  # Ghost\n",
        "                    '#98D8D8',  # Ice\n",
        "                    '#7038F8',  # Dragon\n",
        "                   ]\n",
        "fmt = '{x:,.0f}'\n",
        "plt.figure(figsize=(12.8,6))\n",
        "ax = stances.value_counts().plot(kind='bar', color=pkmn_type_colors,rot=0)\n",
        "ax.yaxis.set_major_formatter(mtick.StrMethodFormatter(fmt))\n",
        "for p in ax.patches: \n",
        "  ax.annotate(np.round(p.get_height(),decimals=2), \n",
        "              (p.get_x()+p.get_width()/2., p.get_height()), \n",
        "              ha='center', va='center', xytext=(0, 10), textcoords='offset points')\n",
        "  \n",
        "plt.xlabel(\"Stance\", labelpad=14)\n",
        "plt.ylabel(\"Articles\", labelpad=14)\n",
        "plt.title(\"Count Articles by Stance\", y=1.02);\n"
      ],
      "execution_count": null,
      "outputs": [
        {
          "output_type": "display_data",
          "data": {
            "image/png": "[encoded data removed]",
            "text/plain": [
              "<Figure size 921.6x432 with 1 Axes>"
            ]
          },
          "metadata": {
            "tags": [],
            "needs_background": "light"
          }
        }
      ]
    },
    {
      "cell_type": "markdown",
      "metadata": {
        "id": "amMiXLw2kYtz"
      },
      "source": [
        "As seen above we have a similar distribution of samples upon each category. Let's take a closer look into the percentages of samples for each stance."
      ]
    },
    {
      "cell_type": "code",
      "metadata": {
        "colab": {
          "base_uri": "https://localhost:8080/"
        },
        "id": "h_esAvwjJfAJ",
        "outputId": "285dbdeb-52f0-4b90-f2b2-52117699d69d"
      },
      "source": [
        "train_df_by_stances = train_df.groupby('Stance')['Body ID'].count()\n",
        "TotalArticles = train_df_by_stances[0:].sum()\n",
        "train_df_by_stances['Percent of Total'] = train_df_by_stances[0:]*100 / TotalArticles\n",
        "print(train_df_by_stances['Percent of Total'])"
      ],
      "execution_count": null,
      "outputs": [
        {
          "output_type": "stream",
          "text": [
            "Stance\n",
            "agree        24.915953\n",
            "disagree     25.040022\n",
            "discuss      25.068038\n",
            "unrelated    24.975987\n",
            "Name: Body ID, dtype: float64\n"
          ],
          "name": "stdout"
        }
      ]
    },
    {
      "cell_type": "markdown",
      "metadata": {
        "id": "9Q_RnQ-GLnSv"
      },
      "source": [
        "As we have done before, we will use Matplotlib to generate a graph as a function of the percentage."
      ]
    },
    {
      "cell_type": "code",
      "metadata": {
        "colab": {
          "base_uri": "https://localhost:8080/",
          "height": 421
        },
        "id": "ugo21MFHg-Mt",
        "outputId": "d13de32a-72da-4ccf-f6cf-b6a0b93da109"
      },
      "source": [
        "plt.figure(figsize=(18.6,6))\n",
        "ax= train_df_by_stances['Percent of Total'].plot(kind='bar', color=pkmn_type_colors)\n",
        "labels = list(train_df_by_stances.index)\n",
        "ax.set_xlabel(labels)\n",
        "ax.yaxis.set_major_formatter(mtick.PercentFormatter())\n",
        "\n",
        "for p in ax.patches: \n",
        "  ax.annotate(np.round(p.get_height(),decimals=2), \n",
        "              (p.get_x()+p.get_width()/2., p.get_height()), \n",
        "              ha='center', va='center', xytext=(0, 10), \n",
        "              textcoords='offset points')\n",
        "\n",
        "plt.xlabel(\"Stance\", labelpad=14)\n",
        "plt.ylabel(\"% of Articles\", labelpad=14)\n",
        "plt.title(\"% of Articles in each Stance\", y=1.02);"
      ],
      "execution_count": null,
      "outputs": [
        {
          "output_type": "display_data",
          "data": {
            "image/png": "[encoded data removed]",
            "text/plain": [
              "<Figure size 1339.2x432 with 1 Axes>"
            ]
          },
          "metadata": {
            "tags": [],
            "needs_background": "light"
          }
        }
      ]
    },
    {
      "cell_type": "markdown",
      "metadata": {
        "id": "IWs1TlCIu2b4"
      },
      "source": [
        "Checking Article Body lenght to review is there is not a big diffence. This is important as during feature creation process may take total number of words. To do this we will create a new column in our dataframe called 'Article_lenght' that will store the length of the articles. We will also store records length for each category."
      ]
    },
    {
      "cell_type": "code",
      "metadata": {
        "id": "FsLz7Snyvas2"
      },
      "source": [
        "train_df['Article_lenght'] = train_df['articleBody'].str.len()\n",
        "\n",
        "lenght_agree = train_df[train_df['Stance'] ==\"agree\"]\n",
        "lenght_disagree = train_df[train_df['Stance']==\"disagree\"]\n",
        "lenght_discuss = train_df[train_df['Stance']==\"discuss\"]\n",
        "lenght_unrelated = train_df[train_df['Stance']==\"unrelated\"]"
      ],
      "execution_count": null,
      "outputs": []
    },
    {
      "cell_type": "markdown",
      "metadata": {
        "id": "ZLLDKEBbOBDy"
      },
      "source": [
        "To represent it graphically we will use Seaborn that is a Python data visualization library based on matplotlib. We represent it with a histogram with the histoplot function from the Seaborn library."
      ]
    },
    {
      "cell_type": "code",
      "metadata": {
        "colab": {
          "base_uri": "https://localhost:8080/",
          "height": 518
        },
        "id": "0tjmtuOgv6KJ",
        "outputId": "bb356c2a-1091-4218-88bb-5903749e9845"
      },
      "source": [
        "sns.set_theme(style=\"darkgrid\")\n",
        "\n",
        "fig, axs = plt.subplots(2, 2, figsize=(7, 7))\n",
        "\n",
        "sns.histplot(data=train_df, x=lenght_agree['Article_lenght'], kde=True, color=\"skyblue\", ax=axs[0, 0])\n",
        "sns.histplot(data=train_df, x=lenght_disagree['Article_lenght'], kde=True, color=\"olive\", ax=axs[0, 1])\n",
        "sns.histplot(data=train_df, x=lenght_discuss['Article_lenght'], kde=True, color=\"gold\", ax=axs[1, 0])\n",
        "sns.histplot(data=train_df, x=lenght_unrelated['Article_lenght'], kde=True, color=\"teal\", ax=axs[1, 1])\n",
        "\n",
        "plt.suptitle(\"Distribution accordingly to article lenght\", y=1.02);\n",
        "\n",
        "plt.show()"
      ],
      "execution_count": null,
      "outputs": [
        {
          "output_type": "display_data",
          "data": {
            "image/png": "[encoded data removed]",
            "text/plain": [
              "<Figure size 504x504 with 4 Axes>"
            ]
          },
          "metadata": {
            "tags": []
          }
        }
      ]
    },
    {
      "cell_type": "markdown",
      "metadata": {
        "id": "A8DMI50rj-Iq"
      },
      "source": [
        "There's no significantly difference in the distribution of the lenght of words across the different stances."
      ]
    },
    {
      "cell_type": "markdown",
      "metadata": {
        "id": "PhCsaCoXPNu8"
      },
      "source": [
        "It can also be interesting analyse some metrics of the articles lenght."
      ]
    },
    {
      "cell_type": "code",
      "metadata": {
        "colab": {
          "base_uri": "https://localhost:8080/"
        },
        "id": "CW9GoovwwDUK",
        "outputId": "2e309db4-f3d8-4562-8c55-358651028298"
      },
      "source": [
        "train_df['Article_lenght'].describe()"
      ],
      "execution_count": null,
      "outputs": [
        {
          "output_type": "execute_result",
          "data": {
            "text/plain": [
              "count    49972.000000\n",
              "mean      2207.547266\n",
              "std       1676.838550\n",
              "min         38.000000\n",
              "25%       1175.000000\n",
              "50%       1824.000000\n",
              "75%       2765.000000\n",
              "max      27579.000000\n",
              "Name: Article_lenght, dtype: float64"
            ]
          },
          "metadata": {
            "tags": []
          },
          "execution_count": 23
        }
      ]
    },
    {
      "cell_type": "markdown",
      "metadata": {
        "id": "iN7XBrn3j9fB"
      },
      "source": [
        "We can see that on average the articles have 2208 words, with a deviation of 1677 and the minimum of 38 and a maximum of 27579."
      ]
    },
    {
      "cell_type": "markdown",
      "metadata": {
        "id": "4Ch-SWK5wcP8"
      },
      "source": [
        "Now we will focus on 95% percentile to better appreciate examples' behaviour for lenght. And we do the same process as we did before but using the quantile() function from pandas to get values at the 95% quantile."
      ]
    },
    {
      "cell_type": "code",
      "metadata": {
        "id": "238sLCvowbIU"
      },
      "source": [
        "quantile_95 = train_df['Article_lenght'].quantile(0.95)\n",
        "train_df_95 = train_df[train_df['Article_lenght'] < quantile_95]"
      ],
      "execution_count": null,
      "outputs": []
    },
    {
      "cell_type": "code",
      "metadata": {
        "colab": {
          "base_uri": "https://localhost:8080/"
        },
        "id": "-scPOmAmVBap",
        "outputId": "3d6a27e7-bf47-4536-ba44-0396f0311c41"
      },
      "source": [
        "train_df_95['Article_lenght'] = train_df_95['articleBody'].str.len()\n",
        "\n",
        "lenght_agree = train_df_95[train_df_95['Stance'] ==\"agree\"]\n",
        "lenght_disagree = train_df_95[train_df_95['Stance']==\"disagree\"]\n",
        "lenght_discuss = train_df_95[train_df_95['Stance']==\"discuss\"]\n",
        "lenght_unrelated = train_df_95[train_df_95['Stance']==\"unrelated\"]"
      ],
      "execution_count": null,
      "outputs": [
        {
          "output_type": "stream",
          "text": [
            "/usr/local/lib/python3.7/dist-packages/ipykernel_launcher.py:1: SettingWithCopyWarning: \n",
            "A value is trying to be set on a copy of a slice from a DataFrame.\n",
            "Try using .loc[row_indexer,col_indexer] = value instead\n",
            "\n",
            "See the caveats in the documentation: https://pandas.pydata.org/pandas-docs/stable/user_guide/indexing.html#returning-a-view-versus-a-copy\n",
            "  \"\"\"Entry point for launching an IPython kernel.\n"
          ],
          "name": "stderr"
        }
      ]
    },
    {
      "cell_type": "markdown",
      "metadata": {
        "id": "OCTD-iOWQfYe"
      },
      "source": [
        "To represent it graphically we will use a histogram as before."
      ]
    },
    {
      "cell_type": "code",
      "metadata": {
        "colab": {
          "base_uri": "https://localhost:8080/",
          "height": 518
        },
        "id": "SLpQXcJpVBaq",
        "outputId": "5239ef88-23b8-4c60-f4a3-d63704888029"
      },
      "source": [
        "sns.set_theme(style=\"darkgrid\")\n",
        "\n",
        "fig, axs = plt.subplots(2, 2, figsize=(7, 7))\n",
        "\n",
        "sns.histplot(data=train_df_95, x=lenght_agree['Article_lenght'], kde=True, color=\"skyblue\", ax=axs[0, 0])\n",
        "sns.histplot(data=train_df_95, x=lenght_disagree['Article_lenght'], kde=True, color=\"olive\", ax=axs[0, 1])\n",
        "sns.histplot(data=train_df_95, x=lenght_discuss['Article_lenght'], kde=True, color=\"gold\", ax=axs[1, 0])\n",
        "sns.histplot(data=train_df_95, x=lenght_unrelated['Article_lenght'], kde=True, color=\"teal\", ax=axs[1, 1])\n",
        "\n",
        "plt.suptitle(\"Distribution accordingly to article lenght inside the 95% quatile\", y=1.02);\n",
        "\n",
        "plt.show()"
      ],
      "execution_count": null,
      "outputs": [
        {
          "output_type": "display_data",
          "data": {
            "image/png": "[encoded data removed]",
            "text/plain": [
              "<Figure size 504x504 with 4 Axes>"
            ]
          },
          "metadata": {
            "tags": []
          }
        }
      ]
    },
    {
      "cell_type": "markdown",
      "metadata": {
        "id": "p63XdtBF4S_C"
      },
      "source": [
        "There's an uncommon amount of articles that have between 0 nd 100 words, let's take a look on a sample of these articles."
      ]
    },
    {
      "cell_type": "code",
      "metadata": {
        "colab": {
          "base_uri": "https://localhost:8080/"
        },
        "id": "xvBLNNgpPDFw",
        "outputId": "f33c7bed-eb6f-4119-8440-f2605a002a12"
      },
      "source": [
        "bellow_100 = train_df[train_df['Article_lenght'] < 100]\n",
        "bellow_100 = bellow_100.sample(n=5)\n",
        "pd.set_option('display.max_colwidth', None)\n",
        "print(bellow_100['articleBody'])"
      ],
      "execution_count": null,
      "outputs": [
        {
          "output_type": "stream",
          "text": [
            "2712      There have been reports that iOS 8 preferences are erasing iCloud files.\n",
            "39222                  Google has bought about half of Pacific Shores office park.\n",
            "39275                  Google has bought about half of Pacific Shores office park.\n",
            "46156    Judicial Watch has reported that ISIS members crossed the Mexican border.\n",
            "26518                                       I aborted my baby because it was a boy\n",
            "Name: articleBody, dtype: object\n"
          ],
          "name": "stdout"
        }
      ]
    },
    {
      "cell_type": "markdown",
      "metadata": {
        "id": "FQ741rqHRxCZ"
      },
      "source": [
        "Although they are short they seems to be a regular body article so we keep them.  "
      ]
    },
    {
      "cell_type": "markdown",
      "metadata": {
        "id": "Wp4aib9GxUF3"
      },
      "source": [
        "Next we will like to know how many articles are over 95% percentail in thier character count for article body. We do this just to understand data before feature engineering."
      ]
    },
    {
      "cell_type": "code",
      "metadata": {
        "id": "F0bIXJ89yDaJ"
      },
      "source": [
        "train_df__more_quantile95 = train_df[train_df['Article_lenght'] > quantile_95]"
      ],
      "execution_count": null,
      "outputs": []
    },
    {
      "cell_type": "markdown",
      "metadata": {
        "id": "H3VU7Zy_7qUY"
      },
      "source": [
        "Let's use a box plot chart vizualitation to understand length distribution in every Stance class. We will use the boxplot function from the Seaborn library."
      ]
    },
    {
      "cell_type": "code",
      "metadata": {
        "colab": {
          "base_uri": "https://localhost:8080/",
          "height": 394
        },
        "id": "gpBabQ2L7-5E",
        "outputId": "fe6c9a5e-302e-4e93-ab9c-f278b9d8f48d"
      },
      "source": [
        "plt.figure(figsize=(12.8,6))\n",
        "sns.boxplot(data=train_df, x='Stance', y='Article_lenght', width=.5);"
      ],
      "execution_count": null,
      "outputs": [
        {
          "output_type": "display_data",
          "data": {
            "image/png": "[encoded data removed]",
            "text/plain": [
              "<Figure size 921.6x432 with 1 Axes>"
            ]
          },
          "metadata": {
            "tags": []
          }
        }
      ]
    },
    {
      "cell_type": "markdown",
      "metadata": {
        "id": "PGUSDd3Y8R4G"
      },
      "source": [
        "We will use the same approach as histogram, and focus on 95% percentile using the train_df_95 dataframe. "
      ]
    },
    {
      "cell_type": "code",
      "metadata": {
        "colab": {
          "base_uri": "https://localhost:8080/",
          "height": 394
        },
        "id": "1tp4iU2f8p-4",
        "outputId": "5333933a-ef39-4f6d-fc95-340d68b54f62"
      },
      "source": [
        "plt.figure(figsize=(12.8,6))\n",
        "sns.boxplot(data=train_df_95, x='Stance', y='Article_lenght', width=.5);"
      ],
      "execution_count": null,
      "outputs": [
        {
          "output_type": "display_data",
          "data": {
            "image/png": "[encoded data removed]",
            "text/plain": [
              "<Figure size 921.6x432 with 1 Axes>"
            ]
          },
          "metadata": {
            "tags": []
          }
        }
      ]
    },
    {
      "cell_type": "markdown",
      "metadata": {
        "id": "twMMmqqPmNVd"
      },
      "source": [
        "We can see that the 95% quantile reduces significally the amount of outliers."
      ]
    },
    {
      "cell_type": "markdown",
      "metadata": {
        "id": "qX6mgQotPnZO"
      },
      "source": [
        "### **3.2 Data Cleaning and preparation**\n",
        "In this step we will turn our attention the Articles Body contents. We need to replace any characters and word that do not add value to our classificator. This are characters used in: html files, double spaces, quoting signs, word case, punctuation signs, and possesive pronouns."
      ]
    },
    {
      "cell_type": "markdown",
      "metadata": {
        "id": "CUSVyXOCV6r1"
      },
      "source": [
        "In order to make our study clear and aligh it with our objective we will transform the labels to get only a binary classification between fake or reliable. "
      ]
    },
    {
      "cell_type": "code",
      "metadata": {
        "id": "FiWR4bQ9W1Gj"
      },
      "source": [
        "train_df['Stance'] = train_df['Stance'].replace(['discuss'],'fake')\n",
        "train_df['Stance'] = train_df['Stance'].replace(['disagree'],'fake')\n",
        "train_df['Stance'] = train_df['Stance'].replace(['agree'],'fact')\n",
        "train_df['Stance'] = train_df['Stance'].replace(['unrelated'],'fake')"
      ],
      "execution_count": null,
      "outputs": []
    },
    {
      "cell_type": "markdown",
      "metadata": {
        "id": "hR_JG7OfTAQC"
      },
      "source": [
        "We take a look to the first values."
      ]
    },
    {
      "cell_type": "code",
      "metadata": {
        "colab": {
          "base_uri": "https://localhost:8080/",
          "height": 1000
        },
        "id": "lFr-kTOAdpMw",
        "outputId": "2246a09c-4595-4740-ec7f-b27cd6b5fbc0"
      },
      "source": [
        "train_df.head()"
      ],
      "execution_count": null,
      "outputs": [
        {
          "output_type": "execute_result",
          "data": {
            "text/html": [
              "<div>\n",
              "<style scoped>\n",
              "    .dataframe tbody tr th:only-of-type {\n",
              "        vertical-align: middle;\n",
              "    }\n",
              "\n",
              "    .dataframe tbody tr th {\n",
              "        vertical-align: top;\n",
              "    }\n",
              "\n",
              "    .dataframe thead th {\n",
              "        text-align: right;\n",
              "    }\n",
              "</style>\n",
              "<table border=\"1\" class=\"dataframe\">\n",
              "  <thead>\n",
              "    <tr style=\"text-align: right;\">\n",
              "      <th></th>\n",
              "      <th>Body ID</th>\n",
              "      <th>articleBody</th>\n",
              "      <th>Headline</th>\n",
              "      <th>Stance</th>\n",
              "      <th>Article_lenght</th>\n",
              "    </tr>\n",
              "  </thead>\n",
              "  <tbody>\n",
              "    <tr>\n",
              "      <th>0</th>\n",
              "      <td>0</td>\n",
              "      <td>A small meteorite crashed into a wooded area in Nicaragua's capital of Managua overnight, the government said Sunday. Residents reported hearing a mysterious boom that left a 16-foot deep crater near the city's airport, the Associated Press reports. \\n\\nGovernment spokeswoman Rosario Murillo said a committee formed by the government to study the event determined it was a \"relatively small\" meteorite that \"appears to have come off an asteroid that was passing close to Earth.\" House-sized asteroid 2014 RC, which measured 60 feet in diameter, skimmed the Earth this weekend, ABC News reports. \\nMurillo said Nicaragua will ask international experts to help local scientists in understanding what happened.\\n\\nThe crater left by the meteorite had a radius of 39 feet and a depth of 16 feet,  said Humberto Saballos, a volcanologist with the Nicaraguan Institute of Territorial Studies who was on the committee. He said it is still not clear if the meteorite disintegrated or was buried.\\n\\nHumberto Garcia, of the Astronomy Center at the National Autonomous University of Nicaragua, said the meteorite could be related to an asteroid that was forecast to pass by the planet Saturday night.\\n\\n\"We have to study it more because it could be ice or rock,\" he said.\\n\\nWilfried Strauch, an adviser to the Institute of Territorial Studies, said it was \"very strange that no one reported a streak of light. We have to ask if anyone has a photo or something.\"\\n\\nLocal residents reported hearing a loud boom Saturday night, but said they didn't see anything strange in the sky.\\n\\n\"I was sitting on my porch and I saw nothing, then all of a sudden I heard a large blast. We thought it was a bomb because we felt an expansive wave,\" Jorge Santamaria told The Associated Press.\\n\\nThe site of the crater is near Managua's international airport and an air force base. Only journalists from state media were allowed to visit it.</td>\n",
              "      <td>Soldier shot, Parliament locked down after gunfire erupts at war memorial</td>\n",
              "      <td>fake</td>\n",
              "      <td>1902</td>\n",
              "    </tr>\n",
              "    <tr>\n",
              "      <th>1</th>\n",
              "      <td>0</td>\n",
              "      <td>A small meteorite crashed into a wooded area in Nicaragua's capital of Managua overnight, the government said Sunday. Residents reported hearing a mysterious boom that left a 16-foot deep crater near the city's airport, the Associated Press reports. \\n\\nGovernment spokeswoman Rosario Murillo said a committee formed by the government to study the event determined it was a \"relatively small\" meteorite that \"appears to have come off an asteroid that was passing close to Earth.\" House-sized asteroid 2014 RC, which measured 60 feet in diameter, skimmed the Earth this weekend, ABC News reports. \\nMurillo said Nicaragua will ask international experts to help local scientists in understanding what happened.\\n\\nThe crater left by the meteorite had a radius of 39 feet and a depth of 16 feet,  said Humberto Saballos, a volcanologist with the Nicaraguan Institute of Territorial Studies who was on the committee. He said it is still not clear if the meteorite disintegrated or was buried.\\n\\nHumberto Garcia, of the Astronomy Center at the National Autonomous University of Nicaragua, said the meteorite could be related to an asteroid that was forecast to pass by the planet Saturday night.\\n\\n\"We have to study it more because it could be ice or rock,\" he said.\\n\\nWilfried Strauch, an adviser to the Institute of Territorial Studies, said it was \"very strange that no one reported a streak of light. We have to ask if anyone has a photo or something.\"\\n\\nLocal residents reported hearing a loud boom Saturday night, but said they didn't see anything strange in the sky.\\n\\n\"I was sitting on my porch and I saw nothing, then all of a sudden I heard a large blast. We thought it was a bomb because we felt an expansive wave,\" Jorge Santamaria told The Associated Press.\\n\\nThe site of the crater is near Managua's international airport and an air force base. Only journalists from state media were allowed to visit it.</td>\n",
              "      <td>Tourist dubbed ‘Spider Man’ after spider burrows under skin for days</td>\n",
              "      <td>fake</td>\n",
              "      <td>1902</td>\n",
              "    </tr>\n",
              "    <tr>\n",
              "      <th>2</th>\n",
              "      <td>0</td>\n",
              "      <td>A small meteorite crashed into a wooded area in Nicaragua's capital of Managua overnight, the government said Sunday. Residents reported hearing a mysterious boom that left a 16-foot deep crater near the city's airport, the Associated Press reports. \\n\\nGovernment spokeswoman Rosario Murillo said a committee formed by the government to study the event determined it was a \"relatively small\" meteorite that \"appears to have come off an asteroid that was passing close to Earth.\" House-sized asteroid 2014 RC, which measured 60 feet in diameter, skimmed the Earth this weekend, ABC News reports. \\nMurillo said Nicaragua will ask international experts to help local scientists in understanding what happened.\\n\\nThe crater left by the meteorite had a radius of 39 feet and a depth of 16 feet,  said Humberto Saballos, a volcanologist with the Nicaraguan Institute of Territorial Studies who was on the committee. He said it is still not clear if the meteorite disintegrated or was buried.\\n\\nHumberto Garcia, of the Astronomy Center at the National Autonomous University of Nicaragua, said the meteorite could be related to an asteroid that was forecast to pass by the planet Saturday night.\\n\\n\"We have to study it more because it could be ice or rock,\" he said.\\n\\nWilfried Strauch, an adviser to the Institute of Territorial Studies, said it was \"very strange that no one reported a streak of light. We have to ask if anyone has a photo or something.\"\\n\\nLocal residents reported hearing a loud boom Saturday night, but said they didn't see anything strange in the sky.\\n\\n\"I was sitting on my porch and I saw nothing, then all of a sudden I heard a large blast. We thought it was a bomb because we felt an expansive wave,\" Jorge Santamaria told The Associated Press.\\n\\nThe site of the crater is near Managua's international airport and an air force base. Only journalists from state media were allowed to visit it.</td>\n",
              "      <td>Luke Somers 'killed in failed rescue attempt in Yemen'</td>\n",
              "      <td>fact</td>\n",
              "      <td>1902</td>\n",
              "    </tr>\n",
              "    <tr>\n",
              "      <th>3</th>\n",
              "      <td>0</td>\n",
              "      <td>A small meteorite crashed into a wooded area in Nicaragua's capital of Managua overnight, the government said Sunday. Residents reported hearing a mysterious boom that left a 16-foot deep crater near the city's airport, the Associated Press reports. \\n\\nGovernment spokeswoman Rosario Murillo said a committee formed by the government to study the event determined it was a \"relatively small\" meteorite that \"appears to have come off an asteroid that was passing close to Earth.\" House-sized asteroid 2014 RC, which measured 60 feet in diameter, skimmed the Earth this weekend, ABC News reports. \\nMurillo said Nicaragua will ask international experts to help local scientists in understanding what happened.\\n\\nThe crater left by the meteorite had a radius of 39 feet and a depth of 16 feet,  said Humberto Saballos, a volcanologist with the Nicaraguan Institute of Territorial Studies who was on the committee. He said it is still not clear if the meteorite disintegrated or was buried.\\n\\nHumberto Garcia, of the Astronomy Center at the National Autonomous University of Nicaragua, said the meteorite could be related to an asteroid that was forecast to pass by the planet Saturday night.\\n\\n\"We have to study it more because it could be ice or rock,\" he said.\\n\\nWilfried Strauch, an adviser to the Institute of Territorial Studies, said it was \"very strange that no one reported a streak of light. We have to ask if anyone has a photo or something.\"\\n\\nLocal residents reported hearing a loud boom Saturday night, but said they didn't see anything strange in the sky.\\n\\n\"I was sitting on my porch and I saw nothing, then all of a sudden I heard a large blast. We thought it was a bomb because we felt an expansive wave,\" Jorge Santamaria told The Associated Press.\\n\\nThe site of the crater is near Managua's international airport and an air force base. Only journalists from state media were allowed to visit it.</td>\n",
              "      <td>BREAKING: Soldier shot at War Memorial in Ottawa</td>\n",
              "      <td>fake</td>\n",
              "      <td>1902</td>\n",
              "    </tr>\n",
              "    <tr>\n",
              "      <th>4</th>\n",
              "      <td>0</td>\n",
              "      <td>A small meteorite crashed into a wooded area in Nicaragua's capital of Managua overnight, the government said Sunday. Residents reported hearing a mysterious boom that left a 16-foot deep crater near the city's airport, the Associated Press reports. \\n\\nGovernment spokeswoman Rosario Murillo said a committee formed by the government to study the event determined it was a \"relatively small\" meteorite that \"appears to have come off an asteroid that was passing close to Earth.\" House-sized asteroid 2014 RC, which measured 60 feet in diameter, skimmed the Earth this weekend, ABC News reports. \\nMurillo said Nicaragua will ask international experts to help local scientists in understanding what happened.\\n\\nThe crater left by the meteorite had a radius of 39 feet and a depth of 16 feet,  said Humberto Saballos, a volcanologist with the Nicaraguan Institute of Territorial Studies who was on the committee. He said it is still not clear if the meteorite disintegrated or was buried.\\n\\nHumberto Garcia, of the Astronomy Center at the National Autonomous University of Nicaragua, said the meteorite could be related to an asteroid that was forecast to pass by the planet Saturday night.\\n\\n\"We have to study it more because it could be ice or rock,\" he said.\\n\\nWilfried Strauch, an adviser to the Institute of Territorial Studies, said it was \"very strange that no one reported a streak of light. We have to ask if anyone has a photo or something.\"\\n\\nLocal residents reported hearing a loud boom Saturday night, but said they didn't see anything strange in the sky.\\n\\n\"I was sitting on my porch and I saw nothing, then all of a sudden I heard a large blast. We thought it was a bomb because we felt an expansive wave,\" Jorge Santamaria told The Associated Press.\\n\\nThe site of the crater is near Managua's international airport and an air force base. Only journalists from state media were allowed to visit it.</td>\n",
              "      <td>Giant 8ft 9in catfish weighing 19 stone caught in Italy is thought to be the biggest ever reeled in with a rod and line</td>\n",
              "      <td>fact</td>\n",
              "      <td>1902</td>\n",
              "    </tr>\n",
              "  </tbody>\n",
              "</table>\n",
              "</div>"
            ],
            "text/plain": [
              "   Body ID  ... Article_lenght\n",
              "0        0  ...           1902\n",
              "1        0  ...           1902\n",
              "2        0  ...           1902\n",
              "3        0  ...           1902\n",
              "4        0  ...           1902\n",
              "\n",
              "[5 rows x 5 columns]"
            ]
          },
          "metadata": {
            "tags": []
          },
          "execution_count": 32
        }
      ]
    },
    {
      "cell_type": "markdown",
      "metadata": {
        "id": "N8xo-dFzJ4gB"
      },
      "source": [
        "Let's see how many articles there are that correspond to the new classification. As we did before, we will use Matplotlib linrary to represent it graphically."
      ]
    },
    {
      "cell_type": "code",
      "metadata": {
        "colab": {
          "base_uri": "https://localhost:8080/",
          "height": 426
        },
        "id": "tVA9g_IbJ4gB",
        "outputId": "751ef146-fe13-4766-e423-318bca3ce8e4"
      },
      "source": [
        "pkmn_type_colors = ['#78C850',  # Grass\n",
        "                    '#F08030',  # Fire\n",
        "                    '#6890F0',  # Water\n",
        "                    '#A8B820',  # Bug\n",
        "                    '#A8A878',  # Normal\n",
        "                    '#A040A0',  # Poison\n",
        "                    '#F8D030',  # Electric\n",
        "                    '#E0C068',  # Ground\n",
        "                    '#EE99AC',  # Fairy\n",
        "                    '#C03028',  # Fighting\n",
        "                    '#F85888',  # Psychic\n",
        "                    '#B8A038',  # Rock\n",
        "                    '#705898',  # Ghost\n",
        "                    '#98D8D8',  # Ice\n",
        "                    '#7038F8',  # Dragon\n",
        "                   ]\n",
        "fmt = '{x:,.0f}'\n",
        "plt.figure(figsize=(12.8,6))\n",
        "ax = train_df['Stance'].value_counts().plot(kind='bar', color=pkmn_type_colors,rot=0)\n",
        "ax.yaxis.set_major_formatter(mtick.StrMethodFormatter(fmt))\n",
        "for p in ax.patches: \n",
        "  ax.annotate(np.round(p.get_height(),decimals=2), \n",
        "              (p.get_x()+p.get_width()/2., p.get_height()), \n",
        "              ha='center', va='center', xytext=(0, 10), textcoords='offset points')\n",
        "  \n",
        "plt.xlabel(\"Stance\", labelpad=14)\n",
        "plt.ylabel(\"Articles\", labelpad=14)\n",
        "plt.title(\"Count Articles by Stance\", y=1.02);"
      ],
      "execution_count": null,
      "outputs": [
        {
          "output_type": "display_data",
          "data": {
            "image/png": "[encoded data removed]",
            "text/plain": [
              "<Figure size 921.6x432 with 1 Axes>"
            ]
          },
          "metadata": {
            "tags": []
          }
        }
      ]
    },
    {
      "cell_type": "markdown",
      "metadata": {
        "id": "M7_mwgr4UAbK"
      },
      "source": [
        "We can appreciate that there are many more fake articles than fact. "
      ]
    },
    {
      "cell_type": "markdown",
      "metadata": {
        "id": "V7AhNGTvJ4gC"
      },
      "source": [
        "Essencially there's a couple ways to deal with the problem:\n",
        "\n",
        "- Data-level techniques — At the data level, solutions work by applying resampling techniques to balance the dataset. These can be done by oversampling the minority class, which is to synthetically create new instances from existing ones; or undersampling the majority class, which eliminates some instances in the majority class. However, both techniques can have their drawbacks. Oversampling new data can cause the classifier to overfit; whereas undersampling can discard essential information. A combination of both techniques with a heuristic approach can be found in specialized literature with excellent results.\n",
        "\n",
        "- Algorithmic-level techniques —Algorithmic level solutions can be done by adjusting weighted costs accordingly to the number of training instances in each class. In parametric classifier like Support Vector Machine, grid search and cross-validation can be applied to optimise the C and gamma values. For non-parametric classifier like the decision tree, adjusting the probabilistic estimate at the tree leaf can improve the performance.\n",
        "\n",
        "- A combination of both — A hybrid approach is also constantly being explored in various literature, including AdaOUBoost (adaptive over-sampling and undersampling boost) proposed by Peng and Yao and Learning By Recognition, using the concept of auto association-based classification approach proposed by Japkowicz.\n",
        "\n",
        "We will apply now Data-level techniques, and later on see if we can also apply some hybrid solution."
      ]
    },
    {
      "cell_type": "code",
      "metadata": {
        "colab": {
          "base_uri": "https://localhost:8080/"
        },
        "id": "nGFC9Z3dOkmn",
        "outputId": "accbd200-4ba8-4f6f-df90-e2ab97689f94"
      },
      "source": [
        "train_df[\"Stance\"].value_counts()"
      ],
      "execution_count": null,
      "outputs": [
        {
          "output_type": "execute_result",
          "data": {
            "text/plain": [
              "fake    37521\n",
              "fact    12451\n",
              "Name: Stance, dtype: int64"
            ]
          },
          "metadata": {
            "tags": []
          },
          "execution_count": 34
        }
      ]
    },
    {
      "cell_type": "markdown",
      "metadata": {
        "id": "h2yyD-mRVaWO"
      },
      "source": [
        "To balance the classes we will use imbalanced-learn that is a python package offering a number of re-sampling techniques commonly used in datasets showing strong between-class imbalance. To make it we will use the Random Under Sampler function that involves sampling any random class with or without any replacement."
      ]
    },
    {
      "cell_type": "code",
      "metadata": {
        "colab": {
          "base_uri": "https://localhost:8080/"
        },
        "id": "1Eii_ljrTLty",
        "outputId": "b83bebcb-8607-4a6c-8be0-68bf3ee50da6"
      },
      "source": [
        "from collections import Counter\n",
        "from imblearn.under_sampling import RandomUnderSampler\n",
        "from sklearn.model_selection import train_test_split\n",
        "import pandas as pd\n",
        "import numpy as np\n",
        "import warnings\n",
        "\n",
        "warnings.simplefilter(action='ignore', category=FutureWarning)\n",
        "\n",
        "labels = train_df[\"Stance\"]\n",
        "text = train_df.iloc[:, :-1]\n",
        "print(text.columns)\n",
        "print(\"Before undersampling: \", Counter(labels))\n",
        "\n",
        "\n",
        "undersample = RandomUnderSampler(sampling_strategy='majority')\n",
        "text ,labels = undersample.fit_resample(text,labels)\n",
        "\n",
        "print(\"After undersampling: \", Counter(labels))\n",
        "\n",
        "train_df_balanced = pd.DataFrame(text, columns=['Body ID', 'articleBody', 'Headline', 'Stance'])\n"
      ],
      "execution_count": null,
      "outputs": [
        {
          "output_type": "stream",
          "text": [
            "Index(['Body ID', 'articleBody', 'Headline', 'Stance'], dtype='object')\n",
            "Before undersampling:  Counter({'fake': 37521, 'fact': 12451})\n",
            "After undersampling:  Counter({'fact': 12451, 'fake': 12451})\n"
          ],
          "name": "stdout"
        },
        {
          "output_type": "stream",
          "text": [
            "/usr/local/lib/python3.7/dist-packages/sklearn/externals/six.py:31: FutureWarning: The module is deprecated in version 0.21 and will be removed in version 0.23 since we've dropped support for Python 2.7. Please rely on the official version of six (https://pypi.org/project/six/).\n",
            "  \"(https://pypi.org/project/six/).\", FutureWarning)\n",
            "/usr/local/lib/python3.7/dist-packages/sklearn/utils/deprecation.py:144: FutureWarning: The sklearn.neighbors.base module is  deprecated in version 0.22 and will be removed in version 0.24. The corresponding classes / functions should instead be imported from sklearn.neighbors. Anything that cannot be imported from sklearn.neighbors is now part of the private API.\n",
            "  warnings.warn(message, FutureWarning)\n"
          ],
          "name": "stderr"
        }
      ]
    },
    {
      "cell_type": "markdown",
      "metadata": {
        "id": "tbrOx_lJXaK0"
      },
      "source": [
        "As we can see, the classes are balanced once the undersampling strategy is applied."
      ]
    },
    {
      "cell_type": "markdown",
      "metadata": {
        "id": "G5Z-TGa3XhW4"
      },
      "source": [
        "Let's subset our dataset to have a quicker processing times. Let's say 1%"
      ]
    },
    {
      "cell_type": "code",
      "metadata": {
        "colab": {
          "base_uri": "https://localhost:8080/"
        },
        "id": "Cd-sHXngXgwp",
        "outputId": "ab187eea-efc0-4796-9ed4-4c4223426c9f"
      },
      "source": [
        "sample_train_df = train_df_balanced.sample(frac=0.01)\n",
        "print(sample_train_df)\n",
        "labels = sample_train_df[\"Stance\"]\n",
        "text = sample_train_df.iloc[:, :-1]\n",
        "\n",
        "print(\"Before undersampling: \", Counter(labels))"
      ],
      "execution_count": null,
      "outputs": [
        {
          "output_type": "stream",
          "text": [
            "      Body ID  ... Stance\n",
            "6336     1427  ...   fact\n",
            "22801     932  ...   fake\n",
            "708       161  ...   fact\n",
            "23340     702  ...   fake\n",
            "11715    2404  ...   fact\n",
            "...       ...  ...    ...\n",
            "16459    1064  ...   fake\n",
            "11513    2367  ...   fact\n",
            "6751     1517  ...   fact\n",
            "20109    2354  ...   fake\n",
            "11153    2304  ...   fact\n",
            "\n",
            "[249 rows x 4 columns]\n",
            "Before undersampling:  Counter({'fact': 131, 'fake': 118})\n"
          ],
          "name": "stdout"
        }
      ]
    },
    {
      "cell_type": "markdown",
      "metadata": {
        "id": "OK6Q7S4lpJkB"
      },
      "source": [
        "### **3.3 Text pre processing**\n",
        "\n"
      ]
    },
    {
      "cell_type": "markdown",
      "metadata": {
        "id": "9nKfS9GsY0oY"
      },
      "source": [
        "In natural language processing, text preprocessing is the practice of cleaning and preparing text data. NLTK and re are common Python libraries used to handle many text preprocessing tasks."
      ]
    },
    {
      "cell_type": "code",
      "metadata": {
        "id": "2aEqPbxJL8dy"
      },
      "source": [
        "sample_train_df['articleBody_Parsed'] = sample_train_df['articleBody'].str.lower().replace(\"\\r\", \" \").replace(\"\\n\", \" \").replace(\"    \", \" \").replace('\"', '').replace('[^\\w\\s]','').replace(\"'s\", \"\")\n",
        "\n",
        "train_df['Headline'] = train_df['Headline'].str.lower().replace(\"\\r\", \" \").replace(\"\\n\", \" \").replace(\"    \", \" \").replace('\"', '').replace('[^\\w\\s]','').replace(\"'s\", \"\")"
      ],
      "execution_count": null,
      "outputs": []
    },
    {
      "cell_type": "markdown",
      "metadata": {
        "id": "oYaSv9MGph59"
      },
      "source": [
        "#### **3.3.1 Tokenization**\n",
        "\n",
        "In natural language processing, tokenization is the text preprocessing task of breaking up text into smaller components of text (known as tokens).\n",
        "\n",
        "![](https://drive.google.com/uc?export=view&id=11CQktJIv4X1xkH2k-4xcPXcI8xMLVyZ3)"
      ]
    },
    {
      "cell_type": "markdown",
      "metadata": {
        "id": "z0-SwnQIbIlk"
      },
      "source": [
        "We will use The Natural Language Toolkit, or more commonly NLTK, is a suite of libraries and programs for symbolic and statistical natural language processing (NLP) for English written in the Python programming language. Natural Language toolkit has very important module NLTK tokenize sentences which further comprises of sub-modules\n",
        "\n",
        "1. word tokenize\n",
        "2. sentence tokenize\n",
        "\n",
        "We will use the method word_tokenize() to split a sentence into words."
      ]
    },
    {
      "cell_type": "code",
      "metadata": {
        "id": "2omrVchEp0Mh",
        "colab": {
          "base_uri": "https://localhost:8080/"
        },
        "outputId": "b69f472f-4bc9-4076-ca95-9425dd54bece"
      },
      "source": [
        "import nltk\n",
        "nltk.download('punkt')\n",
        "nltk.download('wordnet')\n",
        "from nltk import sent_tokenize, word_tokenize\n",
        "from nltk.stem.snowball import SnowballStemmer\n",
        "from nltk.stem.wordnet import WordNetLemmatizer\n",
        "from nltk.corpus import stopwords\n"
      ],
      "execution_count": null,
      "outputs": [
        {
          "output_type": "stream",
          "text": [
            "[nltk_data] Downloading package punkt to /root/nltk_data...\n",
            "[nltk_data]   Package punkt is already up-to-date!\n",
            "[nltk_data] Downloading package wordnet to /root/nltk_data...\n",
            "[nltk_data]   Package wordnet is already up-to-date!\n"
          ],
          "name": "stdout"
        }
      ]
    },
    {
      "cell_type": "markdown",
      "metadata": {
        "id": "mUOYIRIRciih"
      },
      "source": [
        "We will apply the method to the body and the headline and we will look at the first two rows to see the tokenization of our dataframe."
      ]
    },
    {
      "cell_type": "code",
      "metadata": {
        "id": "g2oEUSP9ptsf",
        "colab": {
          "base_uri": "https://localhost:8080/",
          "height": 1000
        },
        "outputId": "aded77dd-8d35-4545-e815-e644037dd0c8"
      },
      "source": [
        "sample_train_df['tokenized_body'] = sample_train_df['articleBody_Parsed'].apply(word_tokenize)\n",
        "\n",
        "sample_train_df['tokenized_headline'] = sample_train_df['Headline'].apply(word_tokenize)\n",
        "sample_train_df.head(1)"
      ],
      "execution_count": null,
      "outputs": [
        {
          "output_type": "execute_result",
          "data": {
            "text/html": [
              "<div>\n",
              "<style scoped>\n",
              "    .dataframe tbody tr th:only-of-type {\n",
              "        vertical-align: middle;\n",
              "    }\n",
              "\n",
              "    .dataframe tbody tr th {\n",
              "        vertical-align: top;\n",
              "    }\n",
              "\n",
              "    .dataframe thead th {\n",
              "        text-align: right;\n",
              "    }\n",
              "</style>\n",
              "<table border=\"1\" class=\"dataframe\">\n",
              "  <thead>\n",
              "    <tr style=\"text-align: right;\">\n",
              "      <th></th>\n",
              "      <th>Body ID</th>\n",
              "      <th>articleBody</th>\n",
              "      <th>Headline</th>\n",
              "      <th>Stance</th>\n",
              "      <th>articleBody_Parsed</th>\n",
              "      <th>tokenized_body</th>\n",
              "      <th>tokenized_headline</th>\n",
              "    </tr>\n",
              "  </thead>\n",
              "  <tbody>\n",
              "    <tr>\n",
              "      <th>6336</th>\n",
              "      <td>1427</td>\n",
              "      <td>None of the 28 bodies found in a mass grave in restive southwestern Mexico belongs to a group of 43 missing students, Mexico's attorney general said on Tuesday.\\n\\nThe students, who are feared to have been massacred by police in league with gang members, went missing in the southwestern state of Guerrero on Sept. 26.\\n\\nThe discovery of a series of mass graves near the town of Iguala, where the students went missing, has sent shockwaves throughout Mexico, where around 100,000 people have died in drug-related violence since 2007.\\n\\nSpeaking at a press conference on Tuesday, Mexican Attorney General Jesus Murillo said none of the charred remains found in the first mass grave matched genetically with the missing students.\\n\\n\"What I can say is that the first mass grave we found, the very first ones from where we already have results, I can say the (remains) don't match the DNA of the families of these young people,\" he said. But authorities had found another mass grave near the site, Murillo said, and were now checking those remains. He also said that 14 more police officers had been arrested following the earlier arrests of at least 22.\\n\\nProtesters in Mexico Demand Answers on Missing Students\\n\\nMass Graves Found Near Mexico Town Where Students Went Missing\\n\\nMexico Massacre Victims Feared to Be Missing Students</td>\n",
              "      <td>Mexico checks if 43 missing students in mass grave</td>\n",
              "      <td>fact</td>\n",
              "      <td>none of the 28 bodies found in a mass grave in restive southwestern mexico belongs to a group of 43 missing students, mexico's attorney general said on tuesday.\\n\\nthe students, who are feared to have been massacred by police in league with gang members, went missing in the southwestern state of guerrero on sept. 26.\\n\\nthe discovery of a series of mass graves near the town of iguala, where the students went missing, has sent shockwaves throughout mexico, where around 100,000 people have died in drug-related violence since 2007.\\n\\nspeaking at a press conference on tuesday, mexican attorney general jesus murillo said none of the charred remains found in the first mass grave matched genetically with the missing students.\\n\\n\"what i can say is that the first mass grave we found, the very first ones from where we already have results, i can say the (remains) don't match the dna of the families of these young people,\" he said. but authorities had found another mass grave near the site, murillo said, and were now checking those remains. he also said that 14 more police officers had been arrested following the earlier arrests of at least 22.\\n\\nprotesters in mexico demand answers on missing students\\n\\nmass graves found near mexico town where students went missing\\n\\nmexico massacre victims feared to be missing students</td>\n",
              "      <td>[none, of, the, 28, bodies, found, in, a, mass, grave, in, restive, southwestern, mexico, belongs, to, a, group, of, 43, missing, students, ,, mexico, 's, attorney, general, said, on, tuesday, ., the, students, ,, who, are, feared, to, have, been, massacred, by, police, in, league, with, gang, members, ,, went, missing, in, the, southwestern, state, of, guerrero, on, sept., 26., the, discovery, of, a, series, of, mass, graves, near, the, town, of, iguala, ,, where, the, students, went, missing, ,, has, sent, shockwaves, throughout, mexico, ,, where, around, 100,000, people, have, died, in, drug-related, violence, since, 2007., speaking, at, a, ...]</td>\n",
              "      <td>[Mexico, checks, if, 43, missing, students, in, mass, grave]</td>\n",
              "    </tr>\n",
              "    <tr>\n",
              "      <th>22801</th>\n",
              "      <td>932</td>\n",
              "      <td>India is going through some serious public sector reforms under Prime Minister Narendra Modi. So not turning up for work for a quarter of a century is now not OK, as one civil servant found out recently.\\n\\nIndia's Central Public Works Department (CPWD), in a press release dated Jan. 8, 2015, announced the dismissal of a senior electrical engineer employed by the department for 35 years. He only worked the first 10.\\n\\nIt sounds like the CPWD could use a bit of reorganisation. The employee stopped turning up for work in 1990, and an inquiry was launched in 1992. The department then seems to have forgotten about it for 13 years:\\n\\nCharges were clearly established six years ago, but Verma apparently remained in employment for another eight years until he was sacked today. It's not clear from the press release whether he was paid over the whole period. In 2014, a German civil servant admitted he hadn't done any work in the last 14 years, but Verma beats him by a decade.</td>\n",
              "      <td>It’s About To Get Harder To Be Arrested For Pot Possession In New York City</td>\n",
              "      <td>fake</td>\n",
              "      <td>india is going through some serious public sector reforms under prime minister narendra modi. so not turning up for work for a quarter of a century is now not ok, as one civil servant found out recently.\\n\\nindia's central public works department (cpwd), in a press release dated jan. 8, 2015, announced the dismissal of a senior electrical engineer employed by the department for 35 years. he only worked the first 10.\\n\\nit sounds like the cpwd could use a bit of reorganisation. the employee stopped turning up for work in 1990, and an inquiry was launched in 1992. the department then seems to have forgotten about it for 13 years:\\n\\ncharges were clearly established six years ago, but verma apparently remained in employment for another eight years until he was sacked today. it's not clear from the press release whether he was paid over the whole period. in 2014, a german civil servant admitted he hadn't done any work in the last 14 years, but verma beats him by a decade.</td>\n",
              "      <td>[india, is, going, through, some, serious, public, sector, reforms, under, prime, minister, narendra, modi, ., so, not, turning, up, for, work, for, a, quarter, of, a, century, is, now, not, ok, ,, as, one, civil, servant, found, out, recently, ., india, 's, central, public, works, department, (, cpwd, ), ,, in, a, press, release, dated, jan., 8, ,, 2015, ,, announced, the, dismissal, of, a, senior, electrical, engineer, employed, by, the, department, for, 35, years, ., he, only, worked, the, first, 10., it, sounds, like, the, cpwd, could, use, a, bit, of, reorganisation, ., the, employee, stopped, turning, up, for, ...]</td>\n",
              "      <td>[It, ’, s, About, To, Get, Harder, To, Be, Arrested, For, Pot, Possession, In, New, York, City]</td>\n",
              "    </tr>\n",
              "  </tbody>\n",
              "</table>\n",
              "</div>"
            ],
            "text/plain": [
              "      Body ID  ...                                                                               tokenized_headline\n",
              "6336     1427  ...                                     [Mexico, checks, if, 43, missing, students, in, mass, grave]\n",
              "22801     932  ...  [It, ’, s, About, To, Get, Harder, To, Be, Arrested, For, Pot, Possession, In, New, York, City]\n",
              "\n",
              "[2 rows x 7 columns]"
            ]
          },
          "metadata": {
            "tags": []
          },
          "execution_count": 39
        }
      ]
    },
    {
      "cell_type": "markdown",
      "metadata": {
        "id": "nskughUbVbgX"
      },
      "source": [
        "#### **3.3.2 Removing stop words**\n",
        "\n",
        "Since there's a lot of prepositions (in, of, to) and conjunctions (and, but, or, nor, for, so, yet) and ponctuation (, - .) and definite or indefinite articles (a,an,the) in our data, it might be useful to introduce a key concept on Natural Language Processing stop words. Stop words refers to the most common words in a language and when dealing with text processing they shoul be removed, since they do not add any valuable information to our studies.\n",
        "\n",
        "![](https://drive.google.com/uc?export=view&id=1QIBzL-yx4qCPyk8klr4EpiMQyvKDt8tD)\n",
        "\n",
        "Now we will remove all stop words, by using a regular expression. For that first we will also use a NLP Toolkit from nltk python package; download and store them in a python object."
      ]
    },
    {
      "cell_type": "code",
      "metadata": {
        "id": "Fi9lwuwEB0Ov",
        "colab": {
          "base_uri": "https://localhost:8080/"
        },
        "outputId": "1b8dd0d5-2f6a-4e19-945e-07f65bf5c75c"
      },
      "source": [
        "nltk.download('stopwords')"
      ],
      "execution_count": null,
      "outputs": [
        {
          "output_type": "stream",
          "text": [
            "[nltk_data] Downloading package stopwords to /root/nltk_data...\n",
            "[nltk_data]   Package stopwords is already up-to-date!\n"
          ],
          "name": "stdout"
        },
        {
          "output_type": "execute_result",
          "data": {
            "text/plain": [
              "True"
            ]
          },
          "metadata": {
            "tags": []
          },
          "execution_count": 40
        }
      ]
    },
    {
      "cell_type": "markdown",
      "metadata": {
        "id": "jhlG8HGldwun"
      },
      "source": [
        "We will apply the stopwords to the body and the headline as we did with the tokenization. Also we will remove the punctuation."
      ]
    },
    {
      "cell_type": "code",
      "metadata": {
        "id": "pgZDBLAvWFGJ"
      },
      "source": [
        "import string\n",
        "stop_words = set(stopwords.words('english'))\n",
        "punctuation = string.punctuation  + \"”\" + \"“\" + \"’\" + \"``\" + \"‘\"\n",
        "\n",
        "\n",
        "sample_train_df['stopwords_removed_body'] = sample_train_df['tokenized_body'].apply(lambda x: [word for word in x if word not in stop_words])\n",
        "unwanted_characters=[\"\",\"\"]\n",
        "sample_train_df['stopwords_removed_body']  = sample_train_df['stopwords_removed_body'].apply(lambda x: [word.replace(\"'\", \"\") for word in x])\n",
        "sample_train_df['stopwords_removed_body']  = sample_train_df['stopwords_removed_body'].apply(lambda x: [word for word in x if word not in punctuation])\n",
        "\n",
        "\n",
        "sample_train_df['stopwords_removed_headline'] = sample_train_df['tokenized_headline'].apply(lambda x: [word for word in x if word not in stop_words])\n",
        "sample_train_df['stopwords_removed_headline']  = sample_train_df['stopwords_removed_headline'].apply(lambda x: [word.replace(\"'\", \"\") for word in x])\n",
        "sample_train_df['stopwords_removed_headline']  = sample_train_df['stopwords_removed_headline'].apply(lambda x: [word for word in x if word not in punctuation])\n"
      ],
      "execution_count": null,
      "outputs": []
    },
    {
      "cell_type": "markdown",
      "metadata": {
        "id": "vYhBvLMeeiQi"
      },
      "source": [
        "We will see the first 5 rows of the dataframe once the stopwords have been removed."
      ]
    },
    {
      "cell_type": "code",
      "metadata": {
        "id": "0Z_Dd-R0U43J",
        "colab": {
          "base_uri": "https://localhost:8080/",
          "height": 1000
        },
        "outputId": "590e47ec-2f91-47ec-dd5c-f97dcfa0d901"
      },
      "source": [
        "sample_train_df.head(5)"
      ],
      "execution_count": null,
      "outputs": [
        {
          "output_type": "execute_result",
          "data": {
            "text/html": [
              "<div>\n",
              "<style scoped>\n",
              "    .dataframe tbody tr th:only-of-type {\n",
              "        vertical-align: middle;\n",
              "    }\n",
              "\n",
              "    .dataframe tbody tr th {\n",
              "        vertical-align: top;\n",
              "    }\n",
              "\n",
              "    .dataframe thead th {\n",
              "        text-align: right;\n",
              "    }\n",
              "</style>\n",
              "<table border=\"1\" class=\"dataframe\">\n",
              "  <thead>\n",
              "    <tr style=\"text-align: right;\">\n",
              "      <th></th>\n",
              "      <th>Body ID</th>\n",
              "      <th>articleBody</th>\n",
              "      <th>Headline</th>\n",
              "      <th>Stance</th>\n",
              "      <th>articleBody_Parsed</th>\n",
              "      <th>tokenized_body</th>\n",
              "      <th>tokenized_headline</th>\n",
              "      <th>stopwords_removed_body</th>\n",
              "      <th>stopwords_removed_headline</th>\n",
              "    </tr>\n",
              "  </thead>\n",
              "  <tbody>\n",
              "    <tr>\n",
              "      <th>6336</th>\n",
              "      <td>1427</td>\n",
              "      <td>None of the 28 bodies found in a mass grave in restive southwestern Mexico belongs to a group of 43 missing students, Mexico's attorney general said on Tuesday.\\n\\nThe students, who are feared to have been massacred by police in league with gang members, went missing in the southwestern state of Guerrero on Sept. 26.\\n\\nThe discovery of a series of mass graves near the town of Iguala, where the students went missing, has sent shockwaves throughout Mexico, where around 100,000 people have died in drug-related violence since 2007.\\n\\nSpeaking at a press conference on Tuesday, Mexican Attorney General Jesus Murillo said none of the charred remains found in the first mass grave matched genetically with the missing students.\\n\\n\"What I can say is that the first mass grave we found, the very first ones from where we already have results, I can say the (remains) don't match the DNA of the families of these young people,\" he said. But authorities had found another mass grave near the site, Murillo said, and were now checking those remains. He also said that 14 more police officers had been arrested following the earlier arrests of at least 22.\\n\\nProtesters in Mexico Demand Answers on Missing Students\\n\\nMass Graves Found Near Mexico Town Where Students Went Missing\\n\\nMexico Massacre Victims Feared to Be Missing Students</td>\n",
              "      <td>Mexico checks if 43 missing students in mass grave</td>\n",
              "      <td>fact</td>\n",
              "      <td>none of the 28 bodies found in a mass grave in restive southwestern mexico belongs to a group of 43 missing students, mexico's attorney general said on tuesday.\\n\\nthe students, who are feared to have been massacred by police in league with gang members, went missing in the southwestern state of guerrero on sept. 26.\\n\\nthe discovery of a series of mass graves near the town of iguala, where the students went missing, has sent shockwaves throughout mexico, where around 100,000 people have died in drug-related violence since 2007.\\n\\nspeaking at a press conference on tuesday, mexican attorney general jesus murillo said none of the charred remains found in the first mass grave matched genetically with the missing students.\\n\\n\"what i can say is that the first mass grave we found, the very first ones from where we already have results, i can say the (remains) don't match the dna of the families of these young people,\" he said. but authorities had found another mass grave near the site, murillo said, and were now checking those remains. he also said that 14 more police officers had been arrested following the earlier arrests of at least 22.\\n\\nprotesters in mexico demand answers on missing students\\n\\nmass graves found near mexico town where students went missing\\n\\nmexico massacre victims feared to be missing students</td>\n",
              "      <td>[none, of, the, 28, bodies, found, in, a, mass, grave, in, restive, southwestern, mexico, belongs, to, a, group, of, 43, missing, students, ,, mexico, 's, attorney, general, said, on, tuesday, ., the, students, ,, who, are, feared, to, have, been, massacred, by, police, in, league, with, gang, members, ,, went, missing, in, the, southwestern, state, of, guerrero, on, sept., 26., the, discovery, of, a, series, of, mass, graves, near, the, town, of, iguala, ,, where, the, students, went, missing, ,, has, sent, shockwaves, throughout, mexico, ,, where, around, 100,000, people, have, died, in, drug-related, violence, since, 2007., speaking, at, a, ...]</td>\n",
              "      <td>[Mexico, checks, if, 43, missing, students, in, mass, grave]</td>\n",
              "      <td>[none, 28, bodies, found, mass, grave, restive, southwestern, mexico, belongs, group, 43, missing, students, mexico, s, attorney, general, said, tuesday, students, feared, massacred, police, league, gang, members, went, missing, southwestern, state, guerrero, sept., 26., discovery, series, mass, graves, near, town, iguala, students, went, missing, sent, shockwaves, throughout, mexico, around, 100,000, people, died, drug-related, violence, since, 2007., speaking, press, conference, tuesday, mexican, attorney, general, jesus, murillo, said, none, charred, remains, found, first, mass, grave, matched, genetically, missing, students, say, first, mass, grave, found, first, ones, already, results, say, remains, nt, match, dna, families, young, people, said, authorities, found, another, mass, grave, ...]</td>\n",
              "      <td>[Mexico, checks, 43, missing, students, mass, grave]</td>\n",
              "    </tr>\n",
              "    <tr>\n",
              "      <th>22801</th>\n",
              "      <td>932</td>\n",
              "      <td>India is going through some serious public sector reforms under Prime Minister Narendra Modi. So not turning up for work for a quarter of a century is now not OK, as one civil servant found out recently.\\n\\nIndia's Central Public Works Department (CPWD), in a press release dated Jan. 8, 2015, announced the dismissal of a senior electrical engineer employed by the department for 35 years. He only worked the first 10.\\n\\nIt sounds like the CPWD could use a bit of reorganisation. The employee stopped turning up for work in 1990, and an inquiry was launched in 1992. The department then seems to have forgotten about it for 13 years:\\n\\nCharges were clearly established six years ago, but Verma apparently remained in employment for another eight years until he was sacked today. It's not clear from the press release whether he was paid over the whole period. In 2014, a German civil servant admitted he hadn't done any work in the last 14 years, but Verma beats him by a decade.</td>\n",
              "      <td>It’s About To Get Harder To Be Arrested For Pot Possession In New York City</td>\n",
              "      <td>fake</td>\n",
              "      <td>india is going through some serious public sector reforms under prime minister narendra modi. so not turning up for work for a quarter of a century is now not ok, as one civil servant found out recently.\\n\\nindia's central public works department (cpwd), in a press release dated jan. 8, 2015, announced the dismissal of a senior electrical engineer employed by the department for 35 years. he only worked the first 10.\\n\\nit sounds like the cpwd could use a bit of reorganisation. the employee stopped turning up for work in 1990, and an inquiry was launched in 1992. the department then seems to have forgotten about it for 13 years:\\n\\ncharges were clearly established six years ago, but verma apparently remained in employment for another eight years until he was sacked today. it's not clear from the press release whether he was paid over the whole period. in 2014, a german civil servant admitted he hadn't done any work in the last 14 years, but verma beats him by a decade.</td>\n",
              "      <td>[india, is, going, through, some, serious, public, sector, reforms, under, prime, minister, narendra, modi, ., so, not, turning, up, for, work, for, a, quarter, of, a, century, is, now, not, ok, ,, as, one, civil, servant, found, out, recently, ., india, 's, central, public, works, department, (, cpwd, ), ,, in, a, press, release, dated, jan., 8, ,, 2015, ,, announced, the, dismissal, of, a, senior, electrical, engineer, employed, by, the, department, for, 35, years, ., he, only, worked, the, first, 10., it, sounds, like, the, cpwd, could, use, a, bit, of, reorganisation, ., the, employee, stopped, turning, up, for, ...]</td>\n",
              "      <td>[It, ’, s, About, To, Get, Harder, To, Be, Arrested, For, Pot, Possession, In, New, York, City]</td>\n",
              "      <td>[india, going, serious, public, sector, reforms, prime, minister, narendra, modi, turning, work, quarter, century, ok, one, civil, servant, found, recently, india, s, central, public, works, department, cpwd, press, release, dated, jan., 8, 2015, announced, dismissal, senior, electrical, engineer, employed, department, 35, years, worked, first, 10., sounds, like, cpwd, could, use, bit, reorganisation, employee, stopped, turning, work, 1990, inquiry, launched, 1992., department, seems, forgotten, 13, years, charges, clearly, established, six, years, ago, verma, apparently, remained, employment, another, eight, years, sacked, today, s, clear, press, release, whether, paid, whole, period, 2014, german, civil, servant, admitted, nt, done, work, last, 14, years, verma, ...]</td>\n",
              "      <td>[It, About, To, Get, Harder, To, Be, Arrested, For, Pot, Possession, In, New, York, City]</td>\n",
              "    </tr>\n",
              "    <tr>\n",
              "      <th>708</th>\n",
              "      <td>161</td>\n",
              "      <td>Apple co-founder Steve Wozniak will be played onscreen by Seth Rogen in Aaron Sorkin’s upcoming Steve Jobs biopic, Variety reports. Acting opposite Rogen will be Christian Bale as Jobs. Sorkin’s screenplay for the film (to be directed by Oscar winner Danny Boyle) is based on Walter Isaacson’s biography, Steve Jobs. Sorkin has said the film will be divided into three long scenes, each taking place backstage before an Apple product launch.</td>\n",
              "      <td>HBO streaming service could launch in April for $15 per month, work on Apple TV</td>\n",
              "      <td>fact</td>\n",
              "      <td>apple co-founder steve wozniak will be played onscreen by seth rogen in aaron sorkin’s upcoming steve jobs biopic, variety reports. acting opposite rogen will be christian bale as jobs. sorkin’s screenplay for the film (to be directed by oscar winner danny boyle) is based on walter isaacson’s biography, steve jobs. sorkin has said the film will be divided into three long scenes, each taking place backstage before an apple product launch.</td>\n",
              "      <td>[apple, co-founder, steve, wozniak, will, be, played, onscreen, by, seth, rogen, in, aaron, sorkin, ’, s, upcoming, steve, jobs, biopic, ,, variety, reports, ., acting, opposite, rogen, will, be, christian, bale, as, jobs, ., sorkin, ’, s, screenplay, for, the, film, (, to, be, directed, by, oscar, winner, danny, boyle, ), is, based, on, walter, isaacson, ’, s, biography, ,, steve, jobs, ., sorkin, has, said, the, film, will, be, divided, into, three, long, scenes, ,, each, taking, place, backstage, before, an, apple, product, launch, .]</td>\n",
              "      <td>[HBO, streaming, service, could, launch, in, April, for, $, 15, per, month, ,, work, on, Apple, TV]</td>\n",
              "      <td>[apple, co-founder, steve, wozniak, played, onscreen, seth, rogen, aaron, sorkin, upcoming, steve, jobs, biopic, variety, reports, acting, opposite, rogen, christian, bale, jobs, sorkin, screenplay, film, directed, oscar, winner, danny, boyle, based, walter, isaacson, biography, steve, jobs, sorkin, said, film, divided, three, long, scenes, taking, place, backstage, apple, product, launch]</td>\n",
              "      <td>[HBO, streaming, service, could, launch, April, 15, per, month, work, Apple, TV]</td>\n",
              "    </tr>\n",
              "    <tr>\n",
              "      <th>23340</th>\n",
              "      <td>702</td>\n",
              "      <td>Mexico's attorney general says DNA tests have shown that 28 bodies found in a mass grave are not those of a missing group of students.\\n\\nJesus Murillo Karam said further tests were being carried out on four other recently discovered grave sites.\\n\\nThe 43 students went missing three weeks ago amid violent protests in Iguala, south of Mexico City.\\n\\nMr Karam said 14 more police officers had been arrested, accused of handing the students over to a drugs gang.\\n\\nAbout 50 people have been arrested in connection with the students' disappearance, with the vast majority being local police officers.\\n\\nThe officers are believed to have been working for a drugs gang, known as the Guerreros Unidos.\\n\\nOn Tuesday, police said the gang's leader, Benjamin Mondragon, had killed himself when he was about to be arrested during an operation by Mexican security forces in the state of Morelos.\\n\\nThe missing students all attended a teacher training college in Iguala, some 200km (125 miles) south of Mexico City.\\n\\nThe college has a history of left-wing activism but it is not clear whether the students were targeted for their political beliefs.\\n\\nRenewed hope\\n\\nThey disappeared after deadly clashes with the police on 26 September in which six people died. Eyewitnesses reported seeing them being bundled into police vans.\\n\\nWill Grant, the BBC's Mexico correspondent, says confirmation the missing students were not found in mass graves will give their families renewed hope.\\n\\nMany of the families are camped out in Iguala waiting for answers from the local authorities.\\n\\nOn Monday, crowds of fellow students and teachers from the teaching college set fire to Guerrero state headquarters in the city of Chilpancingo.\\n\\nThey are angry at a perceived lack of progress in the investigation and have called for state governor Angel Aguirre to resign.\\n\\nMexican President Enrique Pena Nieto has vowed to find and punish those responsible for the disappearances, saying the incident was \"shocking, painful and unacceptable\".</td>\n",
              "      <td>Was The Batmobile Stolen In Detroit?</td>\n",
              "      <td>fake</td>\n",
              "      <td>mexico's attorney general says dna tests have shown that 28 bodies found in a mass grave are not those of a missing group of students.\\n\\njesus murillo karam said further tests were being carried out on four other recently discovered grave sites.\\n\\nthe 43 students went missing three weeks ago amid violent protests in iguala, south of mexico city.\\n\\nmr karam said 14 more police officers had been arrested, accused of handing the students over to a drugs gang.\\n\\nabout 50 people have been arrested in connection with the students' disappearance, with the vast majority being local police officers.\\n\\nthe officers are believed to have been working for a drugs gang, known as the guerreros unidos.\\n\\non tuesday, police said the gang's leader, benjamin mondragon, had killed himself when he was about to be arrested during an operation by mexican security forces in the state of morelos.\\n\\nthe missing students all attended a teacher training college in iguala, some 200km (125 miles) south of mexico city.\\n\\nthe college has a history of left-wing activism but it is not clear whether the students were targeted for their political beliefs.\\n\\nrenewed hope\\n\\nthey disappeared after deadly clashes with the police on 26 september in which six people died. eyewitnesses reported seeing them being bundled into police vans.\\n\\nwill grant, the bbc's mexico correspondent, says confirmation the missing students were not found in mass graves will give their families renewed hope.\\n\\nmany of the families are camped out in iguala waiting for answers from the local authorities.\\n\\non monday, crowds of fellow students and teachers from the teaching college set fire to guerrero state headquarters in the city of chilpancingo.\\n\\nthey are angry at a perceived lack of progress in the investigation and have called for state governor angel aguirre to resign.\\n\\nmexican president enrique pena nieto has vowed to find and punish those responsible for the disappearances, saying the incident was \"shocking, painful and unacceptable\".</td>\n",
              "      <td>[mexico, 's, attorney, general, says, dna, tests, have, shown, that, 28, bodies, found, in, a, mass, grave, are, not, those, of, a, missing, group, of, students, ., jesus, murillo, karam, said, further, tests, were, being, carried, out, on, four, other, recently, discovered, grave, sites, ., the, 43, students, went, missing, three, weeks, ago, amid, violent, protests, in, iguala, ,, south, of, mexico, city, ., mr, karam, said, 14, more, police, officers, had, been, arrested, ,, accused, of, handing, the, students, over, to, a, drugs, gang, ., about, 50, people, have, been, arrested, in, connection, with, the, students, ', disappearance, ,, ...]</td>\n",
              "      <td>[Was, The, Batmobile, Stolen, In, Detroit, ?]</td>\n",
              "      <td>[mexico, s, attorney, general, says, dna, tests, shown, 28, bodies, found, mass, grave, missing, group, students, jesus, murillo, karam, said, tests, carried, four, recently, discovered, grave, sites, 43, students, went, missing, three, weeks, ago, amid, violent, protests, iguala, south, mexico, city, mr, karam, said, 14, police, officers, arrested, accused, handing, students, drugs, gang, 50, people, arrested, connection, students, disappearance, vast, majority, local, police, officers, officers, believed, working, drugs, gang, known, guerreros, unidos, tuesday, police, said, gang, s, leader, benjamin, mondragon, killed, arrested, operation, mexican, security, forces, state, morelos, missing, students, attended, teacher, training, college, iguala, 200km, 125, miles, south, mexico, ...]</td>\n",
              "      <td>[Was, The, Batmobile, Stolen, In, Detroit]</td>\n",
              "    </tr>\n",
              "    <tr>\n",
              "      <th>11715</th>\n",
              "      <td>2404</td>\n",
              "      <td>In a new video, ISIS shows American-made weapons it says were intended for the Kurds but actually were air dropped into territory they control.\\n\\nAt least one bundle of U.S. weapons airdropped in Syria appears to have fallen into the hands of ISIS, a dangerous misfire in the American mission to speed aid to Kurdish forces making their stand in Kobani.\\n\\n\\n\\nSource: The Daily Beast. Read full article. (link)</td>\n",
              "      <td>New iOS 8 bug can delete all of your iCloud documents</td>\n",
              "      <td>fact</td>\n",
              "      <td>in a new video, isis shows american-made weapons it says were intended for the kurds but actually were air dropped into territory they control.\\n\\nat least one bundle of u.s. weapons airdropped in syria appears to have fallen into the hands of isis, a dangerous misfire in the american mission to speed aid to kurdish forces making their stand in kobani.\\n\\n\\n\\nsource: the daily beast. read full article. (link)</td>\n",
              "      <td>[in, a, new, video, ,, isis, shows, american-made, weapons, it, says, were, intended, for, the, kurds, but, actually, were, air, dropped, into, territory, they, control, ., at, least, one, bundle, of, u.s., weapons, airdropped, in, syria, appears, to, have, fallen, into, the, hands, of, isis, ,, a, dangerous, misfire, in, the, american, mission, to, speed, aid, to, kurdish, forces, making, their, stand, in, kobani, ., source, :, the, daily, beast, ., read, full, article, ., (, link, )]</td>\n",
              "      <td>[New, iOS, 8, bug, can, delete, all, of, your, iCloud, documents]</td>\n",
              "      <td>[new, video, isis, shows, american-made, weapons, says, intended, kurds, actually, air, dropped, territory, control, least, one, bundle, u.s., weapons, airdropped, syria, appears, fallen, hands, isis, dangerous, misfire, american, mission, speed, aid, kurdish, forces, making, stand, kobani, source, daily, beast, read, full, article, link]</td>\n",
              "      <td>[New, iOS, 8, bug, delete, iCloud, documents]</td>\n",
              "    </tr>\n",
              "  </tbody>\n",
              "</table>\n",
              "</div>"
            ],
            "text/plain": [
              "      Body ID  ...                                                                 stopwords_removed_headline\n",
              "6336     1427  ...                                       [Mexico, checks, 43, missing, students, mass, grave]\n",
              "22801     932  ...  [It, About, To, Get, Harder, To, Be, Arrested, For, Pot, Possession, In, New, York, City]\n",
              "708       161  ...           [HBO, streaming, service, could, launch, April, 15, per, month, work, Apple, TV]\n",
              "23340     702  ...                                                 [Was, The, Batmobile, Stolen, In, Detroit]\n",
              "11715    2404  ...                                              [New, iOS, 8, bug, delete, iCloud, documents]\n",
              "\n",
              "[5 rows x 9 columns]"
            ]
          },
          "metadata": {
            "tags": []
          },
          "execution_count": 42
        }
      ]
    },
    {
      "cell_type": "markdown",
      "metadata": {
        "id": "v2D1AYlLbCnV"
      },
      "source": [
        "As we can see \"A small meteorite\" is now \"small meteorite\" since a is a stop word it was removed."
      ]
    },
    {
      "cell_type": "markdown",
      "metadata": {
        "id": "5jyjLzFwQg4j"
      },
      "source": [
        "#### **3.2.1  Stemming vs Lemmatization**\n",
        "\n",
        "The idea of stemming is to reduce different forms of word usage into its root word. For example, “drive”, “drove”, “driving”, “driven”, “driver” are derivatives of the word “drive” and very often researchers want to remove this variability from their corpus. Compared to lemmatization, stemming is certainly the less complicated method but it often does not produce a dictionary-specific morphological root of the word. In other words, stemming the word “pies” will often produce a root of “pi” whereas lemmatization will find the morphological root of “pie”.\n",
        "\n",
        "![](https://drive.google.com/uc?export=view&id=1jNT8NNSz4IsCyZpHsHBO1luQURJVsT63)\n",
        "\n",
        "More information here: https://www.datacamp.com/community/tutorials/stemming-lemmatization-python"
      ]
    },
    {
      "cell_type": "markdown",
      "metadata": {
        "id": "VS_u75ddrttn"
      },
      "source": [
        "First, we have to apply parts of speech tags, in other words, determine the part of speech (ie. noun, verb, adverb, etc.) for each word.\n",
        "\n",
        "![](https://drive.google.com/uc?export=view&id=1NQHJossenrU7ufuqz70azutntHjTXEdR)"
      ]
    },
    {
      "cell_type": "markdown",
      "metadata": {
        "id": "gPw_oFGghgc7"
      },
      "source": [
        "We will use pos_tag() function from NLTK library."
      ]
    },
    {
      "cell_type": "code",
      "metadata": {
        "id": "1I0xAarrrvL5",
        "colab": {
          "base_uri": "https://localhost:8080/",
          "height": 1000
        },
        "outputId": "a7aa3367-9cf0-472f-bc96-7091037339da"
      },
      "source": [
        "nltk.download('averaged_perceptron_tagger')\n",
        "\n",
        "sample_train_df['pos_tags_body'] = sample_train_df['stopwords_removed_body'].apply(nltk.tag.pos_tag)\n",
        "sample_train_df['pos_tags_headline'] = sample_train_df['stopwords_removed_headline'].apply(nltk.tag.pos_tag)\n",
        "\n",
        "sample_train_df.head(1)"
      ],
      "execution_count": null,
      "outputs": [
        {
          "output_type": "stream",
          "text": [
            "[nltk_data] Downloading package averaged_perceptron_tagger to\n",
            "[nltk_data]     /root/nltk_data...\n",
            "[nltk_data]   Package averaged_perceptron_tagger is already up-to-\n",
            "[nltk_data]       date!\n"
          ],
          "name": "stdout"
        },
        {
          "output_type": "execute_result",
          "data": {
            "text/html": [
              "<div>\n",
              "<style scoped>\n",
              "    .dataframe tbody tr th:only-of-type {\n",
              "        vertical-align: middle;\n",
              "    }\n",
              "\n",
              "    .dataframe tbody tr th {\n",
              "        vertical-align: top;\n",
              "    }\n",
              "\n",
              "    .dataframe thead th {\n",
              "        text-align: right;\n",
              "    }\n",
              "</style>\n",
              "<table border=\"1\" class=\"dataframe\">\n",
              "  <thead>\n",
              "    <tr style=\"text-align: right;\">\n",
              "      <th></th>\n",
              "      <th>Body ID</th>\n",
              "      <th>articleBody</th>\n",
              "      <th>Headline</th>\n",
              "      <th>Stance</th>\n",
              "      <th>articleBody_Parsed</th>\n",
              "      <th>tokenized_body</th>\n",
              "      <th>tokenized_headline</th>\n",
              "      <th>stopwords_removed_body</th>\n",
              "      <th>stopwords_removed_headline</th>\n",
              "      <th>pos_tags_body</th>\n",
              "      <th>pos_tags_headline</th>\n",
              "    </tr>\n",
              "  </thead>\n",
              "  <tbody>\n",
              "    <tr>\n",
              "      <th>6336</th>\n",
              "      <td>1427</td>\n",
              "      <td>None of the 28 bodies found in a mass grave in restive southwestern Mexico belongs to a group of 43 missing students, Mexico's attorney general said on Tuesday.\\n\\nThe students, who are feared to have been massacred by police in league with gang members, went missing in the southwestern state of Guerrero on Sept. 26.\\n\\nThe discovery of a series of mass graves near the town of Iguala, where the students went missing, has sent shockwaves throughout Mexico, where around 100,000 people have died in drug-related violence since 2007.\\n\\nSpeaking at a press conference on Tuesday, Mexican Attorney General Jesus Murillo said none of the charred remains found in the first mass grave matched genetically with the missing students.\\n\\n\"What I can say is that the first mass grave we found, the very first ones from where we already have results, I can say the (remains) don't match the DNA of the families of these young people,\" he said. But authorities had found another mass grave near the site, Murillo said, and were now checking those remains. He also said that 14 more police officers had been arrested following the earlier arrests of at least 22.\\n\\nProtesters in Mexico Demand Answers on Missing Students\\n\\nMass Graves Found Near Mexico Town Where Students Went Missing\\n\\nMexico Massacre Victims Feared to Be Missing Students</td>\n",
              "      <td>Mexico checks if 43 missing students in mass grave</td>\n",
              "      <td>fact</td>\n",
              "      <td>none of the 28 bodies found in a mass grave in restive southwestern mexico belongs to a group of 43 missing students, mexico's attorney general said on tuesday.\\n\\nthe students, who are feared to have been massacred by police in league with gang members, went missing in the southwestern state of guerrero on sept. 26.\\n\\nthe discovery of a series of mass graves near the town of iguala, where the students went missing, has sent shockwaves throughout mexico, where around 100,000 people have died in drug-related violence since 2007.\\n\\nspeaking at a press conference on tuesday, mexican attorney general jesus murillo said none of the charred remains found in the first mass grave matched genetically with the missing students.\\n\\n\"what i can say is that the first mass grave we found, the very first ones from where we already have results, i can say the (remains) don't match the dna of the families of these young people,\" he said. but authorities had found another mass grave near the site, murillo said, and were now checking those remains. he also said that 14 more police officers had been arrested following the earlier arrests of at least 22.\\n\\nprotesters in mexico demand answers on missing students\\n\\nmass graves found near mexico town where students went missing\\n\\nmexico massacre victims feared to be missing students</td>\n",
              "      <td>[none, of, the, 28, bodies, found, in, a, mass, grave, in, restive, southwestern, mexico, belongs, to, a, group, of, 43, missing, students, ,, mexico, 's, attorney, general, said, on, tuesday, ., the, students, ,, who, are, feared, to, have, been, massacred, by, police, in, league, with, gang, members, ,, went, missing, in, the, southwestern, state, of, guerrero, on, sept., 26., the, discovery, of, a, series, of, mass, graves, near, the, town, of, iguala, ,, where, the, students, went, missing, ,, has, sent, shockwaves, throughout, mexico, ,, where, around, 100,000, people, have, died, in, drug-related, violence, since, 2007., speaking, at, a, ...]</td>\n",
              "      <td>[Mexico, checks, if, 43, missing, students, in, mass, grave]</td>\n",
              "      <td>[none, 28, bodies, found, mass, grave, restive, southwestern, mexico, belongs, group, 43, missing, students, mexico, s, attorney, general, said, tuesday, students, feared, massacred, police, league, gang, members, went, missing, southwestern, state, guerrero, sept., 26., discovery, series, mass, graves, near, town, iguala, students, went, missing, sent, shockwaves, throughout, mexico, around, 100,000, people, died, drug-related, violence, since, 2007., speaking, press, conference, tuesday, mexican, attorney, general, jesus, murillo, said, none, charred, remains, found, first, mass, grave, matched, genetically, missing, students, say, first, mass, grave, found, first, ones, already, results, say, remains, nt, match, dna, families, young, people, said, authorities, found, another, mass, grave, ...]</td>\n",
              "      <td>[Mexico, checks, 43, missing, students, mass, grave]</td>\n",
              "      <td>[(none, NN), (28, CD), (bodies, NNS), (found, VBN), (mass, RB), (grave, VBP), (restive, JJ), (southwestern, JJ), (mexico, NN), (belongs, NNS), (group, NN), (43, CD), (missing, VBG), (students, NNS), (mexico, VBP), (s, JJ), (attorney, NN), (general, NN), (said, VBD), (tuesday, JJ), (students, NNS), (feared, VBD), (massacred, JJ), (police, NNS), (league, VBD), (gang, NN), (members, NNS), (went, VBD), (missing, VBG), (southwestern, JJ), (state, NN), (guerrero, NN), (sept., VBD), (26., CD), (discovery, NN), (series, NN), (mass, NN), (graves, NNS), (near, IN), (town, NN), (iguala, NN), (students, NNS), (went, VBD), (missing, VBG), (sent, NN), (shockwaves, NNS), (throughout, IN), (mexico, NN), (around, IN), (100,000, CD), (people, NNS), (died, VBD), (drug-related, JJ), (violence, NN), (since, IN), (2007., CD), (speaking, VBG), (press, NN), (conference, NN), (tuesday, JJ), (mexican, JJ), (attorney, NN), (general, JJ), (jesus, NN), (murillo, NN), (said, VBD), (none, NN), (charred, VBD), (remains, NNS), (found, VBN), (first, RB), (mass, NN), (grave, NN), (matched, VBN), (genetically, RB), (missing, VBG), (students, NNS), (say, VBP), (first, JJ), (mass, NN), (grave, NN), (found, VBN), (first, JJ), (ones, NNS), (already, RB), (results, NNS), (say, VBP), (remains, VBZ), (nt, JJ), (match, NN), (dna, NN), (families, NNS), (young, JJ), (people, NNS), (said, VBD), (authorities, NNS), (found, VBD), (another, DT), (mass, NN), (grave, NN), ...]</td>\n",
              "      <td>[(Mexico, NNP), (checks, NNS), (43, CD), (missing, VBG), (students, NNS), (mass, NN), (grave, VBP)]</td>\n",
              "    </tr>\n",
              "  </tbody>\n",
              "</table>\n",
              "</div>"
            ],
            "text/plain": [
              "     Body ID  ...                                                                                    pos_tags_headline\n",
              "6336    1427  ...  [(Mexico, NNP), (checks, NNS), (43, CD), (missing, VBG), (students, NNS), (mass, NN), (grave, VBP)]\n",
              "\n",
              "[1 rows x 11 columns]"
            ]
          },
          "metadata": {
            "tags": []
          },
          "execution_count": 43
        }
      ]
    },
    {
      "cell_type": "markdown",
      "metadata": {
        "id": "dNhEtu6Fr_gE"
      },
      "source": [
        "We are going to be using NLTK’s word lemmatizer which needs the parts of speech tags to be converted to wordnet’s format. We’ll write a function which make the proper conversion and then use the function within a list comprehension to apply the conversion. Finally, we apply NLTK’s word lemmatizer."
      ]
    },
    {
      "cell_type": "code",
      "metadata": {
        "id": "tL20-gnmsAG6",
        "colab": {
          "base_uri": "https://localhost:8080/",
          "height": 1000
        },
        "outputId": "a199bdec-2af6-4119-d597-0980a2ac6c4f"
      },
      "source": [
        "from nltk.corpus import stopwords, wordnet\n",
        "\n",
        "def get_wordnet_pos(tag):\n",
        "  \"\"\"\n",
        "  Function to convert tags into wordnet's format\n",
        "  \"\"\"\n",
        "  if tag.startswith('J'):\n",
        "      return wordnet.ADJ\n",
        "  elif tag.startswith('V'):\n",
        "      return wordnet.VERB\n",
        "  elif tag.startswith('N'):\n",
        "      return wordnet.NOUN\n",
        "  elif tag.startswith('R'):\n",
        "      return wordnet.ADV\n",
        "  else:\n",
        "      return wordnet.NOUN\n",
        "\n",
        "\n",
        "sample_train_df['wordnet_pos_body'] = sample_train_df['pos_tags_body'].apply(lambda x: [(word, get_wordnet_pos(pos_tag)) for (word, pos_tag) in x])\n",
        "sample_train_df['wordnet_pos_headline'] = sample_train_df['pos_tags_headline'].apply(lambda x: [(word, get_wordnet_pos(pos_tag)) for (word, pos_tag) in x])\n",
        "\n",
        "sample_train_df.head(1)\n"
      ],
      "execution_count": null,
      "outputs": [
        {
          "output_type": "execute_result",
          "data": {
            "text/html": [
              "<div>\n",
              "<style scoped>\n",
              "    .dataframe tbody tr th:only-of-type {\n",
              "        vertical-align: middle;\n",
              "    }\n",
              "\n",
              "    .dataframe tbody tr th {\n",
              "        vertical-align: top;\n",
              "    }\n",
              "\n",
              "    .dataframe thead th {\n",
              "        text-align: right;\n",
              "    }\n",
              "</style>\n",
              "<table border=\"1\" class=\"dataframe\">\n",
              "  <thead>\n",
              "    <tr style=\"text-align: right;\">\n",
              "      <th></th>\n",
              "      <th>Body ID</th>\n",
              "      <th>articleBody</th>\n",
              "      <th>Headline</th>\n",
              "      <th>Stance</th>\n",
              "      <th>articleBody_Parsed</th>\n",
              "      <th>tokenized_body</th>\n",
              "      <th>tokenized_headline</th>\n",
              "      <th>stopwords_removed_body</th>\n",
              "      <th>stopwords_removed_headline</th>\n",
              "      <th>pos_tags_body</th>\n",
              "      <th>pos_tags_headline</th>\n",
              "      <th>wordnet_pos_body</th>\n",
              "      <th>wordnet_pos_headline</th>\n",
              "    </tr>\n",
              "  </thead>\n",
              "  <tbody>\n",
              "    <tr>\n",
              "      <th>6336</th>\n",
              "      <td>1427</td>\n",
              "      <td>None of the 28 bodies found in a mass grave in restive southwestern Mexico belongs to a group of 43 missing students, Mexico's attorney general said on Tuesday.\\n\\nThe students, who are feared to have been massacred by police in league with gang members, went missing in the southwestern state of Guerrero on Sept. 26.\\n\\nThe discovery of a series of mass graves near the town of Iguala, where the students went missing, has sent shockwaves throughout Mexico, where around 100,000 people have died in drug-related violence since 2007.\\n\\nSpeaking at a press conference on Tuesday, Mexican Attorney General Jesus Murillo said none of the charred remains found in the first mass grave matched genetically with the missing students.\\n\\n\"What I can say is that the first mass grave we found, the very first ones from where we already have results, I can say the (remains) don't match the DNA of the families of these young people,\" he said. But authorities had found another mass grave near the site, Murillo said, and were now checking those remains. He also said that 14 more police officers had been arrested following the earlier arrests of at least 22.\\n\\nProtesters in Mexico Demand Answers on Missing Students\\n\\nMass Graves Found Near Mexico Town Where Students Went Missing\\n\\nMexico Massacre Victims Feared to Be Missing Students</td>\n",
              "      <td>Mexico checks if 43 missing students in mass grave</td>\n",
              "      <td>fact</td>\n",
              "      <td>none of the 28 bodies found in a mass grave in restive southwestern mexico belongs to a group of 43 missing students, mexico's attorney general said on tuesday.\\n\\nthe students, who are feared to have been massacred by police in league with gang members, went missing in the southwestern state of guerrero on sept. 26.\\n\\nthe discovery of a series of mass graves near the town of iguala, where the students went missing, has sent shockwaves throughout mexico, where around 100,000 people have died in drug-related violence since 2007.\\n\\nspeaking at a press conference on tuesday, mexican attorney general jesus murillo said none of the charred remains found in the first mass grave matched genetically with the missing students.\\n\\n\"what i can say is that the first mass grave we found, the very first ones from where we already have results, i can say the (remains) don't match the dna of the families of these young people,\" he said. but authorities had found another mass grave near the site, murillo said, and were now checking those remains. he also said that 14 more police officers had been arrested following the earlier arrests of at least 22.\\n\\nprotesters in mexico demand answers on missing students\\n\\nmass graves found near mexico town where students went missing\\n\\nmexico massacre victims feared to be missing students</td>\n",
              "      <td>[none, of, the, 28, bodies, found, in, a, mass, grave, in, restive, southwestern, mexico, belongs, to, a, group, of, 43, missing, students, ,, mexico, 's, attorney, general, said, on, tuesday, ., the, students, ,, who, are, feared, to, have, been, massacred, by, police, in, league, with, gang, members, ,, went, missing, in, the, southwestern, state, of, guerrero, on, sept., 26., the, discovery, of, a, series, of, mass, graves, near, the, town, of, iguala, ,, where, the, students, went, missing, ,, has, sent, shockwaves, throughout, mexico, ,, where, around, 100,000, people, have, died, in, drug-related, violence, since, 2007., speaking, at, a, ...]</td>\n",
              "      <td>[Mexico, checks, if, 43, missing, students, in, mass, grave]</td>\n",
              "      <td>[none, 28, bodies, found, mass, grave, restive, southwestern, mexico, belongs, group, 43, missing, students, mexico, s, attorney, general, said, tuesday, students, feared, massacred, police, league, gang, members, went, missing, southwestern, state, guerrero, sept., 26., discovery, series, mass, graves, near, town, iguala, students, went, missing, sent, shockwaves, throughout, mexico, around, 100,000, people, died, drug-related, violence, since, 2007., speaking, press, conference, tuesday, mexican, attorney, general, jesus, murillo, said, none, charred, remains, found, first, mass, grave, matched, genetically, missing, students, say, first, mass, grave, found, first, ones, already, results, say, remains, nt, match, dna, families, young, people, said, authorities, found, another, mass, grave, ...]</td>\n",
              "      <td>[Mexico, checks, 43, missing, students, mass, grave]</td>\n",
              "      <td>[(none, NN), (28, CD), (bodies, NNS), (found, VBN), (mass, RB), (grave, VBP), (restive, JJ), (southwestern, JJ), (mexico, NN), (belongs, NNS), (group, NN), (43, CD), (missing, VBG), (students, NNS), (mexico, VBP), (s, JJ), (attorney, NN), (general, NN), (said, VBD), (tuesday, JJ), (students, NNS), (feared, VBD), (massacred, JJ), (police, NNS), (league, VBD), (gang, NN), (members, NNS), (went, VBD), (missing, VBG), (southwestern, JJ), (state, NN), (guerrero, NN), (sept., VBD), (26., CD), (discovery, NN), (series, NN), (mass, NN), (graves, NNS), (near, IN), (town, NN), (iguala, NN), (students, NNS), (went, VBD), (missing, VBG), (sent, NN), (shockwaves, NNS), (throughout, IN), (mexico, NN), (around, IN), (100,000, CD), (people, NNS), (died, VBD), (drug-related, JJ), (violence, NN), (since, IN), (2007., CD), (speaking, VBG), (press, NN), (conference, NN), (tuesday, JJ), (mexican, JJ), (attorney, NN), (general, JJ), (jesus, NN), (murillo, NN), (said, VBD), (none, NN), (charred, VBD), (remains, NNS), (found, VBN), (first, RB), (mass, NN), (grave, NN), (matched, VBN), (genetically, RB), (missing, VBG), (students, NNS), (say, VBP), (first, JJ), (mass, NN), (grave, NN), (found, VBN), (first, JJ), (ones, NNS), (already, RB), (results, NNS), (say, VBP), (remains, VBZ), (nt, JJ), (match, NN), (dna, NN), (families, NNS), (young, JJ), (people, NNS), (said, VBD), (authorities, NNS), (found, VBD), (another, DT), (mass, NN), (grave, NN), ...]</td>\n",
              "      <td>[(Mexico, NNP), (checks, NNS), (43, CD), (missing, VBG), (students, NNS), (mass, NN), (grave, VBP)]</td>\n",
              "      <td>[(none, n), (28, n), (bodies, n), (found, v), (mass, r), (grave, v), (restive, a), (southwestern, a), (mexico, n), (belongs, n), (group, n), (43, n), (missing, v), (students, n), (mexico, v), (s, a), (attorney, n), (general, n), (said, v), (tuesday, a), (students, n), (feared, v), (massacred, a), (police, n), (league, v), (gang, n), (members, n), (went, v), (missing, v), (southwestern, a), (state, n), (guerrero, n), (sept., v), (26., n), (discovery, n), (series, n), (mass, n), (graves, n), (near, n), (town, n), (iguala, n), (students, n), (went, v), (missing, v), (sent, n), (shockwaves, n), (throughout, n), (mexico, n), (around, n), (100,000, n), (people, n), (died, v), (drug-related, a), (violence, n), (since, n), (2007., n), (speaking, v), (press, n), (conference, n), (tuesday, a), (mexican, a), (attorney, n), (general, a), (jesus, n), (murillo, n), (said, v), (none, n), (charred, v), (remains, n), (found, v), (first, r), (mass, n), (grave, n), (matched, v), (genetically, r), (missing, v), (students, n), (say, v), (first, a), (mass, n), (grave, n), (found, v), (first, a), (ones, n), (already, r), (results, n), (say, v), (remains, v), (nt, a), (match, n), (dna, n), (families, n), (young, a), (people, n), (said, v), (authorities, n), (found, v), (another, n), (mass, n), (grave, n), ...]</td>\n",
              "      <td>[(Mexico, n), (checks, n), (43, n), (missing, v), (students, n), (mass, n), (grave, v)]</td>\n",
              "    </tr>\n",
              "  </tbody>\n",
              "</table>\n",
              "</div>"
            ],
            "text/plain": [
              "     Body ID  ...                                                                     wordnet_pos_headline\n",
              "6336    1427  ...  [(Mexico, n), (checks, n), (43, n), (missing, v), (students, n), (mass, n), (grave, v)]\n",
              "\n",
              "[1 rows x 13 columns]"
            ]
          },
          "metadata": {
            "tags": []
          },
          "execution_count": 44
        }
      ]
    },
    {
      "cell_type": "markdown",
      "metadata": {
        "id": "6zPPenFesDAW"
      },
      "source": [
        "Now we can apply NLTK’s word lemmatizer within our trusty list comprehension. Notice, the lemmatizer function requires two parameters the word and its tag (in wordnet form)."
      ]
    },
    {
      "cell_type": "code",
      "metadata": {
        "id": "CZetr_V4sEwZ",
        "colab": {
          "base_uri": "https://localhost:8080/",
          "height": 1000
        },
        "outputId": "0aafc740-637b-4d44-fa33-1b63741eedb4"
      },
      "source": [
        "wnl = WordNetLemmatizer()\n",
        "\n",
        "sample_train_df['lemmatized_body'] = sample_train_df['wordnet_pos_body'].apply(lambda x: [wnl.lemmatize(word, tag) for word, tag in x])\n",
        "sample_train_df['lemmatized_headline'] = sample_train_df['wordnet_pos_headline'].apply(lambda x: [wnl.lemmatize(word, tag) for word, tag in x])\n",
        "\n",
        "sample_train_df.head(1)"
      ],
      "execution_count": null,
      "outputs": [
        {
          "output_type": "execute_result",
          "data": {
            "text/html": [
              "<div>\n",
              "<style scoped>\n",
              "    .dataframe tbody tr th:only-of-type {\n",
              "        vertical-align: middle;\n",
              "    }\n",
              "\n",
              "    .dataframe tbody tr th {\n",
              "        vertical-align: top;\n",
              "    }\n",
              "\n",
              "    .dataframe thead th {\n",
              "        text-align: right;\n",
              "    }\n",
              "</style>\n",
              "<table border=\"1\" class=\"dataframe\">\n",
              "  <thead>\n",
              "    <tr style=\"text-align: right;\">\n",
              "      <th></th>\n",
              "      <th>Body ID</th>\n",
              "      <th>articleBody</th>\n",
              "      <th>Headline</th>\n",
              "      <th>Stance</th>\n",
              "      <th>articleBody_Parsed</th>\n",
              "      <th>tokenized_body</th>\n",
              "      <th>tokenized_headline</th>\n",
              "      <th>stopwords_removed_body</th>\n",
              "      <th>stopwords_removed_headline</th>\n",
              "      <th>pos_tags_body</th>\n",
              "      <th>pos_tags_headline</th>\n",
              "      <th>wordnet_pos_body</th>\n",
              "      <th>wordnet_pos_headline</th>\n",
              "      <th>lemmatized_body</th>\n",
              "      <th>lemmatized_headline</th>\n",
              "    </tr>\n",
              "  </thead>\n",
              "  <tbody>\n",
              "    <tr>\n",
              "      <th>6336</th>\n",
              "      <td>1427</td>\n",
              "      <td>None of the 28 bodies found in a mass grave in restive southwestern Mexico belongs to a group of 43 missing students, Mexico's attorney general said on Tuesday.\\n\\nThe students, who are feared to have been massacred by police in league with gang members, went missing in the southwestern state of Guerrero on Sept. 26.\\n\\nThe discovery of a series of mass graves near the town of Iguala, where the students went missing, has sent shockwaves throughout Mexico, where around 100,000 people have died in drug-related violence since 2007.\\n\\nSpeaking at a press conference on Tuesday, Mexican Attorney General Jesus Murillo said none of the charred remains found in the first mass grave matched genetically with the missing students.\\n\\n\"What I can say is that the first mass grave we found, the very first ones from where we already have results, I can say the (remains) don't match the DNA of the families of these young people,\" he said. But authorities had found another mass grave near the site, Murillo said, and were now checking those remains. He also said that 14 more police officers had been arrested following the earlier arrests of at least 22.\\n\\nProtesters in Mexico Demand Answers on Missing Students\\n\\nMass Graves Found Near Mexico Town Where Students Went Missing\\n\\nMexico Massacre Victims Feared to Be Missing Students</td>\n",
              "      <td>Mexico checks if 43 missing students in mass grave</td>\n",
              "      <td>fact</td>\n",
              "      <td>none of the 28 bodies found in a mass grave in restive southwestern mexico belongs to a group of 43 missing students, mexico's attorney general said on tuesday.\\n\\nthe students, who are feared to have been massacred by police in league with gang members, went missing in the southwestern state of guerrero on sept. 26.\\n\\nthe discovery of a series of mass graves near the town of iguala, where the students went missing, has sent shockwaves throughout mexico, where around 100,000 people have died in drug-related violence since 2007.\\n\\nspeaking at a press conference on tuesday, mexican attorney general jesus murillo said none of the charred remains found in the first mass grave matched genetically with the missing students.\\n\\n\"what i can say is that the first mass grave we found, the very first ones from where we already have results, i can say the (remains) don't match the dna of the families of these young people,\" he said. but authorities had found another mass grave near the site, murillo said, and were now checking those remains. he also said that 14 more police officers had been arrested following the earlier arrests of at least 22.\\n\\nprotesters in mexico demand answers on missing students\\n\\nmass graves found near mexico town where students went missing\\n\\nmexico massacre victims feared to be missing students</td>\n",
              "      <td>[none, of, the, 28, bodies, found, in, a, mass, grave, in, restive, southwestern, mexico, belongs, to, a, group, of, 43, missing, students, ,, mexico, 's, attorney, general, said, on, tuesday, ., the, students, ,, who, are, feared, to, have, been, massacred, by, police, in, league, with, gang, members, ,, went, missing, in, the, southwestern, state, of, guerrero, on, sept., 26., the, discovery, of, a, series, of, mass, graves, near, the, town, of, iguala, ,, where, the, students, went, missing, ,, has, sent, shockwaves, throughout, mexico, ,, where, around, 100,000, people, have, died, in, drug-related, violence, since, 2007., speaking, at, a, ...]</td>\n",
              "      <td>[Mexico, checks, if, 43, missing, students, in, mass, grave]</td>\n",
              "      <td>[none, 28, bodies, found, mass, grave, restive, southwestern, mexico, belongs, group, 43, missing, students, mexico, s, attorney, general, said, tuesday, students, feared, massacred, police, league, gang, members, went, missing, southwestern, state, guerrero, sept., 26., discovery, series, mass, graves, near, town, iguala, students, went, missing, sent, shockwaves, throughout, mexico, around, 100,000, people, died, drug-related, violence, since, 2007., speaking, press, conference, tuesday, mexican, attorney, general, jesus, murillo, said, none, charred, remains, found, first, mass, grave, matched, genetically, missing, students, say, first, mass, grave, found, first, ones, already, results, say, remains, nt, match, dna, families, young, people, said, authorities, found, another, mass, grave, ...]</td>\n",
              "      <td>[Mexico, checks, 43, missing, students, mass, grave]</td>\n",
              "      <td>[(none, NN), (28, CD), (bodies, NNS), (found, VBN), (mass, RB), (grave, VBP), (restive, JJ), (southwestern, JJ), (mexico, NN), (belongs, NNS), (group, NN), (43, CD), (missing, VBG), (students, NNS), (mexico, VBP), (s, JJ), (attorney, NN), (general, NN), (said, VBD), (tuesday, JJ), (students, NNS), (feared, VBD), (massacred, JJ), (police, NNS), (league, VBD), (gang, NN), (members, NNS), (went, VBD), (missing, VBG), (southwestern, JJ), (state, NN), (guerrero, NN), (sept., VBD), (26., CD), (discovery, NN), (series, NN), (mass, NN), (graves, NNS), (near, IN), (town, NN), (iguala, NN), (students, NNS), (went, VBD), (missing, VBG), (sent, NN), (shockwaves, NNS), (throughout, IN), (mexico, NN), (around, IN), (100,000, CD), (people, NNS), (died, VBD), (drug-related, JJ), (violence, NN), (since, IN), (2007., CD), (speaking, VBG), (press, NN), (conference, NN), (tuesday, JJ), (mexican, JJ), (attorney, NN), (general, JJ), (jesus, NN), (murillo, NN), (said, VBD), (none, NN), (charred, VBD), (remains, NNS), (found, VBN), (first, RB), (mass, NN), (grave, NN), (matched, VBN), (genetically, RB), (missing, VBG), (students, NNS), (say, VBP), (first, JJ), (mass, NN), (grave, NN), (found, VBN), (first, JJ), (ones, NNS), (already, RB), (results, NNS), (say, VBP), (remains, VBZ), (nt, JJ), (match, NN), (dna, NN), (families, NNS), (young, JJ), (people, NNS), (said, VBD), (authorities, NNS), (found, VBD), (another, DT), (mass, NN), (grave, NN), ...]</td>\n",
              "      <td>[(Mexico, NNP), (checks, NNS), (43, CD), (missing, VBG), (students, NNS), (mass, NN), (grave, VBP)]</td>\n",
              "      <td>[(none, n), (28, n), (bodies, n), (found, v), (mass, r), (grave, v), (restive, a), (southwestern, a), (mexico, n), (belongs, n), (group, n), (43, n), (missing, v), (students, n), (mexico, v), (s, a), (attorney, n), (general, n), (said, v), (tuesday, a), (students, n), (feared, v), (massacred, a), (police, n), (league, v), (gang, n), (members, n), (went, v), (missing, v), (southwestern, a), (state, n), (guerrero, n), (sept., v), (26., n), (discovery, n), (series, n), (mass, n), (graves, n), (near, n), (town, n), (iguala, n), (students, n), (went, v), (missing, v), (sent, n), (shockwaves, n), (throughout, n), (mexico, n), (around, n), (100,000, n), (people, n), (died, v), (drug-related, a), (violence, n), (since, n), (2007., n), (speaking, v), (press, n), (conference, n), (tuesday, a), (mexican, a), (attorney, n), (general, a), (jesus, n), (murillo, n), (said, v), (none, n), (charred, v), (remains, n), (found, v), (first, r), (mass, n), (grave, n), (matched, v), (genetically, r), (missing, v), (students, n), (say, v), (first, a), (mass, n), (grave, n), (found, v), (first, a), (ones, n), (already, r), (results, n), (say, v), (remains, v), (nt, a), (match, n), (dna, n), (families, n), (young, a), (people, n), (said, v), (authorities, n), (found, v), (another, n), (mass, n), (grave, n), ...]</td>\n",
              "      <td>[(Mexico, n), (checks, n), (43, n), (missing, v), (students, n), (mass, n), (grave, v)]</td>\n",
              "      <td>[none, 28, body, find, mass, grave, restive, southwestern, mexico, belongs, group, 43, miss, student, mexico, s, attorney, general, say, tuesday, student, fear, massacred, police, league, gang, member, go, miss, southwestern, state, guerrero, sept., 26., discovery, series, mass, graf, near, town, iguala, student, go, miss, sent, shockwaves, throughout, mexico, around, 100,000, people, die, drug-related, violence, since, 2007., speak, press, conference, tuesday, mexican, attorney, general, jesus, murillo, say, none, char, remains, find, first, mass, grave, match, genetically, miss, student, say, first, mass, grave, find, first, one, already, result, say, remain, nt, match, dna, family, young, people, say, authority, find, another, mass, grave, ...]</td>\n",
              "      <td>[Mexico, check, 43, miss, student, mass, grave]</td>\n",
              "    </tr>\n",
              "  </tbody>\n",
              "</table>\n",
              "</div>"
            ],
            "text/plain": [
              "     Body ID  ...                              lemmatized_headline\n",
              "6336    1427  ...  [Mexico, check, 43, miss, student, mass, grave]\n",
              "\n",
              "[1 rows x 15 columns]"
            ]
          },
          "metadata": {
            "tags": []
          },
          "execution_count": 45
        }
      ]
    },
    {
      "cell_type": "markdown",
      "metadata": {
        "id": "DG8Tfm_qRzaV"
      },
      "source": [
        "As we can see right in the first row the word \"crashed\" turned to \"crash\" in body and \"locked\" turned to \"lock\" in the first headline. Finnaly let's turn back the lemmatized into one string \n"
      ]
    },
    {
      "cell_type": "code",
      "metadata": {
        "id": "s6Wh33SGgOrA",
        "colab": {
          "base_uri": "https://localhost:8080/",
          "height": 1000
        },
        "outputId": "c5c17cdc-6855-480a-ebc5-066ddd1a1000"
      },
      "source": [
        "def list_to_string(list_):\n",
        "\n",
        "  '''\n",
        "  This function takes the list and put all the elements of the list to a string with \n",
        "  space as a separator\n",
        "  '''\n",
        "  final_string = str()\n",
        "  for element in list_:\n",
        "      final_string += str(element) + \" \"\n",
        "  return final_string\n",
        "\n",
        "sample_train_df['lemmatized_body_string'] = sample_train_df.lemmatized_body.apply(list_to_string)\n",
        "sample_train_df['lemmatized_headline_string'] = sample_train_df.lemmatized_headline.apply(list_to_string)\n",
        "\n",
        "\n",
        "sample_train_df['lemmatized_body_string'] = sample_train_df['lemmatized_body_string'].str.lower().replace(\"\\r\", \" \").replace(\"\\n\", \" \").replace(\"    \", \" \").replace('\"', '').replace('[^\\w\\s]','').replace(\"'s\", \"\")\n",
        "sample_train_df['lemmatized_headline_string'] = sample_train_df['lemmatized_headline_string'].str.lower().replace(\"\\r\", \" \").replace(\"\\n\", \" \").replace(\"    \", \" \").replace('\"', '').replace('[^\\w\\s]','').replace(\"'s\", \"\")\n",
        "\n",
        "sample_train_df.head(1)"
      ],
      "execution_count": null,
      "outputs": [
        {
          "output_type": "execute_result",
          "data": {
            "text/html": [
              "<div>\n",
              "<style scoped>\n",
              "    .dataframe tbody tr th:only-of-type {\n",
              "        vertical-align: middle;\n",
              "    }\n",
              "\n",
              "    .dataframe tbody tr th {\n",
              "        vertical-align: top;\n",
              "    }\n",
              "\n",
              "    .dataframe thead th {\n",
              "        text-align: right;\n",
              "    }\n",
              "</style>\n",
              "<table border=\"1\" class=\"dataframe\">\n",
              "  <thead>\n",
              "    <tr style=\"text-align: right;\">\n",
              "      <th></th>\n",
              "      <th>Body ID</th>\n",
              "      <th>articleBody</th>\n",
              "      <th>Headline</th>\n",
              "      <th>Stance</th>\n",
              "      <th>articleBody_Parsed</th>\n",
              "      <th>tokenized_body</th>\n",
              "      <th>tokenized_headline</th>\n",
              "      <th>stopwords_removed_body</th>\n",
              "      <th>stopwords_removed_headline</th>\n",
              "      <th>pos_tags_body</th>\n",
              "      <th>pos_tags_headline</th>\n",
              "      <th>wordnet_pos_body</th>\n",
              "      <th>wordnet_pos_headline</th>\n",
              "      <th>lemmatized_body</th>\n",
              "      <th>lemmatized_headline</th>\n",
              "      <th>lemmatized_body_string</th>\n",
              "      <th>lemmatized_headline_string</th>\n",
              "    </tr>\n",
              "  </thead>\n",
              "  <tbody>\n",
              "    <tr>\n",
              "      <th>6336</th>\n",
              "      <td>1427</td>\n",
              "      <td>None of the 28 bodies found in a mass grave in restive southwestern Mexico belongs to a group of 43 missing students, Mexico's attorney general said on Tuesday.\\n\\nThe students, who are feared to have been massacred by police in league with gang members, went missing in the southwestern state of Guerrero on Sept. 26.\\n\\nThe discovery of a series of mass graves near the town of Iguala, where the students went missing, has sent shockwaves throughout Mexico, where around 100,000 people have died in drug-related violence since 2007.\\n\\nSpeaking at a press conference on Tuesday, Mexican Attorney General Jesus Murillo said none of the charred remains found in the first mass grave matched genetically with the missing students.\\n\\n\"What I can say is that the first mass grave we found, the very first ones from where we already have results, I can say the (remains) don't match the DNA of the families of these young people,\" he said. But authorities had found another mass grave near the site, Murillo said, and were now checking those remains. He also said that 14 more police officers had been arrested following the earlier arrests of at least 22.\\n\\nProtesters in Mexico Demand Answers on Missing Students\\n\\nMass Graves Found Near Mexico Town Where Students Went Missing\\n\\nMexico Massacre Victims Feared to Be Missing Students</td>\n",
              "      <td>Mexico checks if 43 missing students in mass grave</td>\n",
              "      <td>fact</td>\n",
              "      <td>none of the 28 bodies found in a mass grave in restive southwestern mexico belongs to a group of 43 missing students, mexico's attorney general said on tuesday.\\n\\nthe students, who are feared to have been massacred by police in league with gang members, went missing in the southwestern state of guerrero on sept. 26.\\n\\nthe discovery of a series of mass graves near the town of iguala, where the students went missing, has sent shockwaves throughout mexico, where around 100,000 people have died in drug-related violence since 2007.\\n\\nspeaking at a press conference on tuesday, mexican attorney general jesus murillo said none of the charred remains found in the first mass grave matched genetically with the missing students.\\n\\n\"what i can say is that the first mass grave we found, the very first ones from where we already have results, i can say the (remains) don't match the dna of the families of these young people,\" he said. but authorities had found another mass grave near the site, murillo said, and were now checking those remains. he also said that 14 more police officers had been arrested following the earlier arrests of at least 22.\\n\\nprotesters in mexico demand answers on missing students\\n\\nmass graves found near mexico town where students went missing\\n\\nmexico massacre victims feared to be missing students</td>\n",
              "      <td>[none, of, the, 28, bodies, found, in, a, mass, grave, in, restive, southwestern, mexico, belongs, to, a, group, of, 43, missing, students, ,, mexico, 's, attorney, general, said, on, tuesday, ., the, students, ,, who, are, feared, to, have, been, massacred, by, police, in, league, with, gang, members, ,, went, missing, in, the, southwestern, state, of, guerrero, on, sept., 26., the, discovery, of, a, series, of, mass, graves, near, the, town, of, iguala, ,, where, the, students, went, missing, ,, has, sent, shockwaves, throughout, mexico, ,, where, around, 100,000, people, have, died, in, drug-related, violence, since, 2007., speaking, at, a, ...]</td>\n",
              "      <td>[Mexico, checks, if, 43, missing, students, in, mass, grave]</td>\n",
              "      <td>[none, 28, bodies, found, mass, grave, restive, southwestern, mexico, belongs, group, 43, missing, students, mexico, s, attorney, general, said, tuesday, students, feared, massacred, police, league, gang, members, went, missing, southwestern, state, guerrero, sept., 26., discovery, series, mass, graves, near, town, iguala, students, went, missing, sent, shockwaves, throughout, mexico, around, 100,000, people, died, drug-related, violence, since, 2007., speaking, press, conference, tuesday, mexican, attorney, general, jesus, murillo, said, none, charred, remains, found, first, mass, grave, matched, genetically, missing, students, say, first, mass, grave, found, first, ones, already, results, say, remains, nt, match, dna, families, young, people, said, authorities, found, another, mass, grave, ...]</td>\n",
              "      <td>[Mexico, checks, 43, missing, students, mass, grave]</td>\n",
              "      <td>[(none, NN), (28, CD), (bodies, NNS), (found, VBN), (mass, RB), (grave, VBP), (restive, JJ), (southwestern, JJ), (mexico, NN), (belongs, NNS), (group, NN), (43, CD), (missing, VBG), (students, NNS), (mexico, VBP), (s, JJ), (attorney, NN), (general, NN), (said, VBD), (tuesday, JJ), (students, NNS), (feared, VBD), (massacred, JJ), (police, NNS), (league, VBD), (gang, NN), (members, NNS), (went, VBD), (missing, VBG), (southwestern, JJ), (state, NN), (guerrero, NN), (sept., VBD), (26., CD), (discovery, NN), (series, NN), (mass, NN), (graves, NNS), (near, IN), (town, NN), (iguala, NN), (students, NNS), (went, VBD), (missing, VBG), (sent, NN), (shockwaves, NNS), (throughout, IN), (mexico, NN), (around, IN), (100,000, CD), (people, NNS), (died, VBD), (drug-related, JJ), (violence, NN), (since, IN), (2007., CD), (speaking, VBG), (press, NN), (conference, NN), (tuesday, JJ), (mexican, JJ), (attorney, NN), (general, JJ), (jesus, NN), (murillo, NN), (said, VBD), (none, NN), (charred, VBD), (remains, NNS), (found, VBN), (first, RB), (mass, NN), (grave, NN), (matched, VBN), (genetically, RB), (missing, VBG), (students, NNS), (say, VBP), (first, JJ), (mass, NN), (grave, NN), (found, VBN), (first, JJ), (ones, NNS), (already, RB), (results, NNS), (say, VBP), (remains, VBZ), (nt, JJ), (match, NN), (dna, NN), (families, NNS), (young, JJ), (people, NNS), (said, VBD), (authorities, NNS), (found, VBD), (another, DT), (mass, NN), (grave, NN), ...]</td>\n",
              "      <td>[(Mexico, NNP), (checks, NNS), (43, CD), (missing, VBG), (students, NNS), (mass, NN), (grave, VBP)]</td>\n",
              "      <td>[(none, n), (28, n), (bodies, n), (found, v), (mass, r), (grave, v), (restive, a), (southwestern, a), (mexico, n), (belongs, n), (group, n), (43, n), (missing, v), (students, n), (mexico, v), (s, a), (attorney, n), (general, n), (said, v), (tuesday, a), (students, n), (feared, v), (massacred, a), (police, n), (league, v), (gang, n), (members, n), (went, v), (missing, v), (southwestern, a), (state, n), (guerrero, n), (sept., v), (26., n), (discovery, n), (series, n), (mass, n), (graves, n), (near, n), (town, n), (iguala, n), (students, n), (went, v), (missing, v), (sent, n), (shockwaves, n), (throughout, n), (mexico, n), (around, n), (100,000, n), (people, n), (died, v), (drug-related, a), (violence, n), (since, n), (2007., n), (speaking, v), (press, n), (conference, n), (tuesday, a), (mexican, a), (attorney, n), (general, a), (jesus, n), (murillo, n), (said, v), (none, n), (charred, v), (remains, n), (found, v), (first, r), (mass, n), (grave, n), (matched, v), (genetically, r), (missing, v), (students, n), (say, v), (first, a), (mass, n), (grave, n), (found, v), (first, a), (ones, n), (already, r), (results, n), (say, v), (remains, v), (nt, a), (match, n), (dna, n), (families, n), (young, a), (people, n), (said, v), (authorities, n), (found, v), (another, n), (mass, n), (grave, n), ...]</td>\n",
              "      <td>[(Mexico, n), (checks, n), (43, n), (missing, v), (students, n), (mass, n), (grave, v)]</td>\n",
              "      <td>[none, 28, body, find, mass, grave, restive, southwestern, mexico, belongs, group, 43, miss, student, mexico, s, attorney, general, say, tuesday, student, fear, massacred, police, league, gang, member, go, miss, southwestern, state, guerrero, sept., 26., discovery, series, mass, graf, near, town, iguala, student, go, miss, sent, shockwaves, throughout, mexico, around, 100,000, people, die, drug-related, violence, since, 2007., speak, press, conference, tuesday, mexican, attorney, general, jesus, murillo, say, none, char, remains, find, first, mass, grave, match, genetically, miss, student, say, first, mass, grave, find, first, one, already, result, say, remain, nt, match, dna, family, young, people, say, authority, find, another, mass, grave, ...]</td>\n",
              "      <td>[Mexico, check, 43, miss, student, mass, grave]</td>\n",
              "      <td>none 28 body find mass grave restive southwestern mexico belongs group 43 miss student mexico s attorney general say tuesday student fear massacred police league gang member go miss southwestern state guerrero sept. 26. discovery series mass graf near town iguala student go miss sent shockwaves throughout mexico around 100,000 people die drug-related violence since 2007. speak press conference tuesday mexican attorney general jesus murillo say none char remains find first mass grave match genetically miss student say first mass grave find first one already result say remain nt match dna family young people say authority find another mass grave near site murillo say checking remains also say 14 police officer arrest follow early arrest least 22. protester mexico demand answer miss student mass graf find near mexico town student go miss mexico massacre victim fear missing student</td>\n",
              "      <td>mexico check 43 miss student mass grave</td>\n",
              "    </tr>\n",
              "  </tbody>\n",
              "</table>\n",
              "</div>"
            ],
            "text/plain": [
              "     Body ID  ...                lemmatized_headline_string\n",
              "6336    1427  ...  mexico check 43 miss student mass grave \n",
              "\n",
              "[1 rows x 17 columns]"
            ]
          },
          "metadata": {
            "tags": []
          },
          "execution_count": 46
        }
      ]
    },
    {
      "cell_type": "markdown",
      "metadata": {
        "id": "c0V3jWf2dMg_"
      },
      "source": [
        "#### **3.2.3 Labeling categories**"
      ]
    },
    {
      "cell_type": "markdown",
      "metadata": {
        "id": "SmlIxsCUiKOY"
      },
      "source": [
        "We assign the definitive columns to our dataframe."
      ]
    },
    {
      "cell_type": "code",
      "metadata": {
        "id": "I8P6w-S2RmmI"
      },
      "source": [
        "train_columns = [\"Body ID\",\"Stance\", \"pos_tags_body\",\t\"pos_tags_headline\",\t\"wordnet_pos_body\"\t,\"wordnet_pos_headline\",\"lemmatized_body_string\",\"lemmatized_headline_string\"]"
      ],
      "execution_count": null,
      "outputs": []
    },
    {
      "cell_type": "code",
      "metadata": {
        "id": "KNzXtX2FXgwZ"
      },
      "source": [
        "sample_train_df = sample_train_df[train_columns]"
      ],
      "execution_count": null,
      "outputs": []
    },
    {
      "cell_type": "code",
      "metadata": {
        "id": "joaCYQJ6Wi8D",
        "colab": {
          "base_uri": "https://localhost:8080/",
          "height": 1000
        },
        "outputId": "bc3f6632-c57f-4f06-8ad9-1a0278639421"
      },
      "source": [
        "sample_train_df.head(5)"
      ],
      "execution_count": null,
      "outputs": [
        {
          "output_type": "execute_result",
          "data": {
            "text/html": [
              "<div>\n",
              "<style scoped>\n",
              "    .dataframe tbody tr th:only-of-type {\n",
              "        vertical-align: middle;\n",
              "    }\n",
              "\n",
              "    .dataframe tbody tr th {\n",
              "        vertical-align: top;\n",
              "    }\n",
              "\n",
              "    .dataframe thead th {\n",
              "        text-align: right;\n",
              "    }\n",
              "</style>\n",
              "<table border=\"1\" class=\"dataframe\">\n",
              "  <thead>\n",
              "    <tr style=\"text-align: right;\">\n",
              "      <th></th>\n",
              "      <th>Body ID</th>\n",
              "      <th>Stance</th>\n",
              "      <th>pos_tags_body</th>\n",
              "      <th>pos_tags_headline</th>\n",
              "      <th>wordnet_pos_body</th>\n",
              "      <th>wordnet_pos_headline</th>\n",
              "      <th>lemmatized_body_string</th>\n",
              "      <th>lemmatized_headline_string</th>\n",
              "    </tr>\n",
              "  </thead>\n",
              "  <tbody>\n",
              "    <tr>\n",
              "      <th>6336</th>\n",
              "      <td>1427</td>\n",
              "      <td>fact</td>\n",
              "      <td>[(none, NN), (28, CD), (bodies, NNS), (found, VBN), (mass, RB), (grave, VBP), (restive, JJ), (southwestern, JJ), (mexico, NN), (belongs, NNS), (group, NN), (43, CD), (missing, VBG), (students, NNS), (mexico, VBP), (s, JJ), (attorney, NN), (general, NN), (said, VBD), (tuesday, JJ), (students, NNS), (feared, VBD), (massacred, JJ), (police, NNS), (league, VBD), (gang, NN), (members, NNS), (went, VBD), (missing, VBG), (southwestern, JJ), (state, NN), (guerrero, NN), (sept., VBD), (26., CD), (discovery, NN), (series, NN), (mass, NN), (graves, NNS), (near, IN), (town, NN), (iguala, NN), (students, NNS), (went, VBD), (missing, VBG), (sent, NN), (shockwaves, NNS), (throughout, IN), (mexico, NN), (around, IN), (100,000, CD), (people, NNS), (died, VBD), (drug-related, JJ), (violence, NN), (since, IN), (2007., CD), (speaking, VBG), (press, NN), (conference, NN), (tuesday, JJ), (mexican, JJ), (attorney, NN), (general, JJ), (jesus, NN), (murillo, NN), (said, VBD), (none, NN), (charred, VBD), (remains, NNS), (found, VBN), (first, RB), (mass, NN), (grave, NN), (matched, VBN), (genetically, RB), (missing, VBG), (students, NNS), (say, VBP), (first, JJ), (mass, NN), (grave, NN), (found, VBN), (first, JJ), (ones, NNS), (already, RB), (results, NNS), (say, VBP), (remains, VBZ), (nt, JJ), (match, NN), (dna, NN), (families, NNS), (young, JJ), (people, NNS), (said, VBD), (authorities, NNS), (found, VBD), (another, DT), (mass, NN), (grave, NN), ...]</td>\n",
              "      <td>[(Mexico, NNP), (checks, NNS), (43, CD), (missing, VBG), (students, NNS), (mass, NN), (grave, VBP)]</td>\n",
              "      <td>[(none, n), (28, n), (bodies, n), (found, v), (mass, r), (grave, v), (restive, a), (southwestern, a), (mexico, n), (belongs, n), (group, n), (43, n), (missing, v), (students, n), (mexico, v), (s, a), (attorney, n), (general, n), (said, v), (tuesday, a), (students, n), (feared, v), (massacred, a), (police, n), (league, v), (gang, n), (members, n), (went, v), (missing, v), (southwestern, a), (state, n), (guerrero, n), (sept., v), (26., n), (discovery, n), (series, n), (mass, n), (graves, n), (near, n), (town, n), (iguala, n), (students, n), (went, v), (missing, v), (sent, n), (shockwaves, n), (throughout, n), (mexico, n), (around, n), (100,000, n), (people, n), (died, v), (drug-related, a), (violence, n), (since, n), (2007., n), (speaking, v), (press, n), (conference, n), (tuesday, a), (mexican, a), (attorney, n), (general, a), (jesus, n), (murillo, n), (said, v), (none, n), (charred, v), (remains, n), (found, v), (first, r), (mass, n), (grave, n), (matched, v), (genetically, r), (missing, v), (students, n), (say, v), (first, a), (mass, n), (grave, n), (found, v), (first, a), (ones, n), (already, r), (results, n), (say, v), (remains, v), (nt, a), (match, n), (dna, n), (families, n), (young, a), (people, n), (said, v), (authorities, n), (found, v), (another, n), (mass, n), (grave, n), ...]</td>\n",
              "      <td>[(Mexico, n), (checks, n), (43, n), (missing, v), (students, n), (mass, n), (grave, v)]</td>\n",
              "      <td>none 28 body find mass grave restive southwestern mexico belongs group 43 miss student mexico s attorney general say tuesday student fear massacred police league gang member go miss southwestern state guerrero sept. 26. discovery series mass graf near town iguala student go miss sent shockwaves throughout mexico around 100,000 people die drug-related violence since 2007. speak press conference tuesday mexican attorney general jesus murillo say none char remains find first mass grave match genetically miss student say first mass grave find first one already result say remain nt match dna family young people say authority find another mass grave near site murillo say checking remains also say 14 police officer arrest follow early arrest least 22. protester mexico demand answer miss student mass graf find near mexico town student go miss mexico massacre victim fear missing student</td>\n",
              "      <td>mexico check 43 miss student mass grave</td>\n",
              "    </tr>\n",
              "    <tr>\n",
              "      <th>22801</th>\n",
              "      <td>932</td>\n",
              "      <td>fake</td>\n",
              "      <td>[(india, NN), (going, VBG), (serious, JJ), (public, JJ), (sector, NN), (reforms, NNS), (prime, JJ), (minister, NN), (narendra, NN), (modi, NN), (turning, VBG), (work, NN), (quarter, NN), (century, NN), (ok, IN), (one, CD), (civil, JJ), (servant, NN), (found, VBD), (recently, RB), (india, JJ), (s, JJ), (central, JJ), (public, JJ), (works, VBZ), (department, NN), (cpwd, NN), (press, NN), (release, NN), (dated, VBD), (jan., CD), (8, CD), (2015, CD), (announced, VBD), (dismissal, NN), (senior, JJ), (electrical, JJ), (engineer, NN), (employed, VBN), (department, NN), (35, CD), (years, NNS), (worked, VBD), (first, RB), (10., CD), (sounds, NNS), (like, IN), (cpwd, NN), (could, MD), (use, VB), (bit, NN), (reorganisation, NN), (employee, NN), (stopped, VBD), (turning, VBG), (work, NN), (1990, CD), (inquiry, NN), (launched, VBD), (1992., CD), (department, NN), (seems, VBZ), (forgotten, VBN), (13, CD), (years, NNS), (charges, VBZ), (clearly, RB), (established, VBN), (six, CD), (years, NNS), (ago, RB), (verma, RB), (apparently, RB), (remained, VBN), (employment, NN), (another, DT), (eight, CD), (years, NNS), (sacked, VBD), (today, NN), (s, VBP), (clear, JJ), (press, NN), (release, NN), (whether, IN), (paid, VBN), (whole, JJ), (period, NN), (2014, CD), (german, JJ), (civil, JJ), (servant, NN), (admitted, VBD), (nt, JJ), (done, VBN), (work, NN), (last, JJ), (14, CD), (years, NNS), (verma, JJ), ...]</td>\n",
              "      <td>[(It, PRP), (About, IN), (To, TO), (Get, VB), (Harder, NNP), (To, TO), (Be, VB), (Arrested, VBN), (For, IN), (Pot, NNP), (Possession, NNP), (In, IN), (New, NNP), (York, NNP), (City, NNP)]</td>\n",
              "      <td>[(india, n), (going, v), (serious, a), (public, a), (sector, n), (reforms, n), (prime, a), (minister, n), (narendra, n), (modi, n), (turning, v), (work, n), (quarter, n), (century, n), (ok, n), (one, n), (civil, a), (servant, n), (found, v), (recently, r), (india, a), (s, a), (central, a), (public, a), (works, v), (department, n), (cpwd, n), (press, n), (release, n), (dated, v), (jan., n), (8, n), (2015, n), (announced, v), (dismissal, n), (senior, a), (electrical, a), (engineer, n), (employed, v), (department, n), (35, n), (years, n), (worked, v), (first, r), (10., n), (sounds, n), (like, n), (cpwd, n), (could, n), (use, v), (bit, n), (reorganisation, n), (employee, n), (stopped, v), (turning, v), (work, n), (1990, n), (inquiry, n), (launched, v), (1992., n), (department, n), (seems, v), (forgotten, v), (13, n), (years, n), (charges, v), (clearly, r), (established, v), (six, n), (years, n), (ago, r), (verma, r), (apparently, r), (remained, v), (employment, n), (another, n), (eight, n), (years, n), (sacked, v), (today, n), (s, v), (clear, a), (press, n), (release, n), (whether, n), (paid, v), (whole, a), (period, n), (2014, n), (german, a), (civil, a), (servant, n), (admitted, v), (nt, a), (done, v), (work, n), (last, a), (14, n), (years, n), (verma, a), ...]</td>\n",
              "      <td>[(It, n), (About, n), (To, n), (Get, v), (Harder, n), (To, n), (Be, v), (Arrested, v), (For, n), (Pot, n), (Possession, n), (In, n), (New, n), (York, n), (City, n)]</td>\n",
              "      <td>india go serious public sector reform prime minister narendra modi turn work quarter century ok one civil servant find recently india s central public work department cpwd press release date jan. 8 2015 announce dismissal senior electrical engineer employ department 35 year work first 10. sound like cpwd could use bit reorganisation employee stop turn work 1990 inquiry launch 1992. department seem forget 13 year charge clearly establish six year ago verma apparently remain employment another eight year sack today s clear press release whether pay whole period 2014 german civil servant admit nt do work last 14 year verma beat decade</td>\n",
              "      <td>it about to get harder to be arrested for pot possession in new york city</td>\n",
              "    </tr>\n",
              "    <tr>\n",
              "      <th>708</th>\n",
              "      <td>161</td>\n",
              "      <td>fact</td>\n",
              "      <td>[(apple, NN), (co-founder, NN), (steve, VBP), (wozniak, NN), (played, VBD), (onscreen, JJ), (seth, JJ), (rogen, NN), (aaron, NN), (sorkin, NN), (upcoming, VBG), (steve, NN), (jobs, NNS), (biopic, VBP), (variety, NN), (reports, NNS), (acting, VBG), (opposite, JJ), (rogen, NN), (christian, JJ), (bale, NN), (jobs, NNS), (sorkin, VBP), (screenplay, NN), (film, NN), (directed, VBD), (oscar, NN), (winner, NN), (danny, NN), (boyle, NN), (based, VBN), (walter, NN), (isaacson, NN), (biography, NN), (steve, VBP), (jobs, NNS), (sorkin, VBN), (said, VBD), (film, NN), (divided, VBD), (three, CD), (long, JJ), (scenes, NNS), (taking, VBG), (place, NN), (backstage, NN), (apple, NN), (product, NN), (launch, NN)]</td>\n",
              "      <td>[(HBO, NNP), (streaming, VBG), (service, NN), (could, MD), (launch, VB), (April, NNP), (15, CD), (per, IN), (month, NN), (work, NN), (Apple, NNP), (TV, NN)]</td>\n",
              "      <td>[(apple, n), (co-founder, n), (steve, v), (wozniak, n), (played, v), (onscreen, a), (seth, a), (rogen, n), (aaron, n), (sorkin, n), (upcoming, v), (steve, n), (jobs, n), (biopic, v), (variety, n), (reports, n), (acting, v), (opposite, a), (rogen, n), (christian, a), (bale, n), (jobs, n), (sorkin, v), (screenplay, n), (film, n), (directed, v), (oscar, n), (winner, n), (danny, n), (boyle, n), (based, v), (walter, n), (isaacson, n), (biography, n), (steve, v), (jobs, n), (sorkin, v), (said, v), (film, n), (divided, v), (three, n), (long, a), (scenes, n), (taking, v), (place, n), (backstage, n), (apple, n), (product, n), (launch, n)]</td>\n",
              "      <td>[(HBO, n), (streaming, v), (service, n), (could, n), (launch, v), (April, n), (15, n), (per, n), (month, n), (work, n), (Apple, n), (TV, n)]</td>\n",
              "      <td>apple co-founder steve wozniak play onscreen seth rogen aaron sorkin upcoming steve job biopic variety report act opposite rogen christian bale job sorkin screenplay film direct oscar winner danny boyle base walter isaacson biography steve job sorkin say film divide three long scene take place backstage apple product launch</td>\n",
              "      <td>hbo stream service could launch april 15 per month work apple tv</td>\n",
              "    </tr>\n",
              "    <tr>\n",
              "      <th>23340</th>\n",
              "      <td>702</td>\n",
              "      <td>fake</td>\n",
              "      <td>[(mexico, NN), (s, NN), (attorney, NN), (general, JJ), (says, VBZ), (dna, NN), (tests, NNS), (shown, VBN), (28, CD), (bodies, NNS), (found, VBN), (mass, NN), (grave, NN), (missing, VBG), (group, NN), (students, NNS), (jesus, VBP), (murillo, JJ), (karam, NN), (said, VBD), (tests, NNS), (carried, VBD), (four, CD), (recently, RB), (discovered, VBN), (grave, NN), (sites, VBZ), (43, CD), (students, NNS), (went, VBD), (missing, VBG), (three, CD), (weeks, NNS), (ago, RB), (amid, IN), (violent, JJ), (protests, NNS), (iguala, VBP), (south, JJ), (mexico, JJ), (city, NN), (mr, NN), (karam, NN), (said, VBD), (14, CD), (police, NN), (officers, NNS), (arrested, VBD), (accused, VBD), (handing, VBG), (students, NNS), (drugs, NNS), (gang, VBD), (50, CD), (people, NNS), (arrested, VBN), (connection, NN), (students, NNS), (disappearance, NN), (vast, JJ), (majority, NN), (local, JJ), (police, NN), (officers, NNS), (officers, NNS), (believed, VBD), (working, VBG), (drugs, NNS), (gang, VBD), (known, VBN), (guerreros, NNS), (unidos, JJ), (tuesday, JJ), (police, NN), (said, VBD), (gang, NN), (s, JJ), (leader, NN), (benjamin, NN), (mondragon, NN), (killed, VBD), (arrested, JJ), (operation, NN), (mexican, JJ), (security, NN), (forces, NNS), (state, NN), (morelos, NN), (missing, VBG), (students, NNS), (attended, VBD), (teacher, RB), (training, VBG), (college, NN), (iguala, NN), (200km, CD), (125, CD), (miles, NNS), (south, RB), (mexico, VBP), ...]</td>\n",
              "      <td>[(Was, VBD), (The, DT), (Batmobile, NNP), (Stolen, NNP), (In, IN), (Detroit, NNP)]</td>\n",
              "      <td>[(mexico, n), (s, n), (attorney, n), (general, a), (says, v), (dna, n), (tests, n), (shown, v), (28, n), (bodies, n), (found, v), (mass, n), (grave, n), (missing, v), (group, n), (students, n), (jesus, v), (murillo, a), (karam, n), (said, v), (tests, n), (carried, v), (four, n), (recently, r), (discovered, v), (grave, n), (sites, v), (43, n), (students, n), (went, v), (missing, v), (three, n), (weeks, n), (ago, r), (amid, n), (violent, a), (protests, n), (iguala, v), (south, a), (mexico, a), (city, n), (mr, n), (karam, n), (said, v), (14, n), (police, n), (officers, n), (arrested, v), (accused, v), (handing, v), (students, n), (drugs, n), (gang, v), (50, n), (people, n), (arrested, v), (connection, n), (students, n), (disappearance, n), (vast, a), (majority, n), (local, a), (police, n), (officers, n), (officers, n), (believed, v), (working, v), (drugs, n), (gang, v), (known, v), (guerreros, n), (unidos, a), (tuesday, a), (police, n), (said, v), (gang, n), (s, a), (leader, n), (benjamin, n), (mondragon, n), (killed, v), (arrested, a), (operation, n), (mexican, a), (security, n), (forces, n), (state, n), (morelos, n), (missing, v), (students, n), (attended, v), (teacher, r), (training, v), (college, n), (iguala, n), (200km, n), (125, n), (miles, n), (south, r), (mexico, v), ...]</td>\n",
              "      <td>[(Was, v), (The, n), (Batmobile, n), (Stolen, n), (In, n), (Detroit, n)]</td>\n",
              "      <td>mexico s attorney general say dna test show 28 body find mass grave miss group student jesus murillo karam say test carry four recently discover grave sit 43 student go miss three week ago amid violent protest iguala south mexico city mr karam say 14 police officer arrest accuse hand student drug gang 50 people arrest connection student disappearance vast majority local police officer officer believe work drug gang know guerreros unidos tuesday police say gang s leader benjamin mondragon kill arrested operation mexican security force state morelos miss student attend teacher train college iguala 200km 125 mile south mexico city college history left-wing activism clear whether student targeted political belief renew hope disappear deadly clashes police 26 september six people died eyewitness report see bundled police van grant bbc s mexico correspondent say confirmation miss student find mass graf give family renew hope many family camp iguala wait answer local authority monday crowds fellow student teacher teach college set fire guerrero state headquarters city chilpancingo angry perceive lack progress investigation call state governor angel aguirre resign mexican president enrique pena nieto vow find punish responsible disappearance say incident shock painful unacceptable</td>\n",
              "      <td>was the batmobile stolen in detroit</td>\n",
              "    </tr>\n",
              "    <tr>\n",
              "      <th>11715</th>\n",
              "      <td>2404</td>\n",
              "      <td>fact</td>\n",
              "      <td>[(new, JJ), (video, NN), (isis, NN), (shows, VBZ), (american-made, JJ), (weapons, NNS), (says, VBZ), (intended, VBN), (kurds, NNS), (actually, RB), (air, VBP), (dropped, JJ), (territory, NN), (control, NN), (least, JJS), (one, CD), (bundle, JJ), (u.s., JJ), (weapons, NNS), (airdropped, VBD), (syria, NN), (appears, VBZ), (fallen, VBN), (hands, NNS), (isis, VBP), (dangerous, JJ), (misfire, NNS), (american, JJ), (mission, NN), (speed, NN), (aid, NN), (kurdish, JJ), (forces, NNS), (making, VBG), (stand, VBP), (kobani, VB), (source, NN), (daily, JJ), (beast, NN), (read, NN), (full, JJ), (article, NN), (link, NN)]</td>\n",
              "      <td>[(New, NNP), (iOS, NN), (8, CD), (bug, NN), (delete, JJ), (iCloud, NN), (documents, NNS)]</td>\n",
              "      <td>[(new, a), (video, n), (isis, n), (shows, v), (american-made, a), (weapons, n), (says, v), (intended, v), (kurds, n), (actually, r), (air, v), (dropped, a), (territory, n), (control, n), (least, a), (one, n), (bundle, a), (u.s., a), (weapons, n), (airdropped, v), (syria, n), (appears, v), (fallen, v), (hands, n), (isis, v), (dangerous, a), (misfire, n), (american, a), (mission, n), (speed, n), (aid, n), (kurdish, a), (forces, n), (making, v), (stand, v), (kobani, v), (source, n), (daily, a), (beast, n), (read, n), (full, a), (article, n), (link, n)]</td>\n",
              "      <td>[(New, n), (iOS, n), (8, n), (bug, n), (delete, a), (iCloud, n), (documents, n)]</td>\n",
              "      <td>new video isi show american-made weapon say intend kurd actually air dropped territory control least one bundle u.s. weapon airdropped syria appear fall hand isis dangerous misfire american mission speed aid kurdish force make stand kobani source daily beast read full article link</td>\n",
              "      <td>new ios 8 bug delete icloud document</td>\n",
              "    </tr>\n",
              "  </tbody>\n",
              "</table>\n",
              "</div>"
            ],
            "text/plain": [
              "      Body ID  ...                                                  lemmatized_headline_string\n",
              "6336     1427  ...                                    mexico check 43 miss student mass grave \n",
              "22801     932  ...  it about to get harder to be arrested for pot possession in new york city \n",
              "708       161  ...           hbo stream service could launch april 15 per month work apple tv \n",
              "23340     702  ...                                        was the batmobile stolen in detroit \n",
              "11715    2404  ...                                       new ios 8 bug delete icloud document \n",
              "\n",
              "[5 rows x 8 columns]"
            ]
          },
          "metadata": {
            "tags": []
          },
          "execution_count": 49
        }
      ]
    },
    {
      "cell_type": "markdown",
      "metadata": {
        "id": "cl-iTUWKas2E"
      },
      "source": [
        "Now let's transform our stance classes into numerical representation in a process called encoding. For this we will use the function sklearn.preprocessing.LabelEncoder that encodes labels of a categorical characteristic in numerical values. In the following image we can see an example of the use of label encoder.\n",
        "\n",
        "![](https://drive.google.com/uc?export=view&id=12eItZtIhq3CQwh9uzln8xmPocRjpJg3Q)"
      ]
    },
    {
      "cell_type": "markdown",
      "metadata": {
        "id": "iNniyS3K9hui"
      },
      "source": [
        "Now let's use label encoder to our dataset."
      ]
    },
    {
      "cell_type": "code",
      "metadata": {
        "id": "PPvDLDc8bCtk",
        "colab": {
          "base_uri": "https://localhost:8080/"
        },
        "outputId": "98e65e87-a780-426b-e73a-bdb03435cdfa"
      },
      "source": [
        "label = LabelEncoder()\n",
        "label_encoder = LabelEncoder()\n",
        "label_encoder = label_encoder.fit(sample_train_df[\"Stance\"])\n",
        "sample_train_df[\"Stance\"] = label_encoder.transform(sample_train_df[\"Stance\"])\n",
        "\n",
        "print(\"Categorical data encoded into integer values....\\n\")\n",
        "sample_train_df[\"Stance\"] =pd.DataFrame(sample_train_df[\"Stance\"]).astype(int)"
      ],
      "execution_count": null,
      "outputs": [
        {
          "output_type": "stream",
          "text": [
            "Categorical data encoded into integer values....\n",
            "\n"
          ],
          "name": "stdout"
        }
      ]
    },
    {
      "cell_type": "markdown",
      "metadata": {
        "id": "vI4DpfQKk3FC"
      },
      "source": [
        "We see the result of the first 5 rows."
      ]
    },
    {
      "cell_type": "code",
      "metadata": {
        "id": "t1B7r4slcNrQ",
        "colab": {
          "base_uri": "https://localhost:8080/",
          "height": 1000
        },
        "outputId": "4bc9f42e-e39e-4474-a143-385999f172cc"
      },
      "source": [
        "sample_train_df.head(5)"
      ],
      "execution_count": null,
      "outputs": [
        {
          "output_type": "execute_result",
          "data": {
            "text/html": [
              "<div>\n",
              "<style scoped>\n",
              "    .dataframe tbody tr th:only-of-type {\n",
              "        vertical-align: middle;\n",
              "    }\n",
              "\n",
              "    .dataframe tbody tr th {\n",
              "        vertical-align: top;\n",
              "    }\n",
              "\n",
              "    .dataframe thead th {\n",
              "        text-align: right;\n",
              "    }\n",
              "</style>\n",
              "<table border=\"1\" class=\"dataframe\">\n",
              "  <thead>\n",
              "    <tr style=\"text-align: right;\">\n",
              "      <th></th>\n",
              "      <th>Body ID</th>\n",
              "      <th>Stance</th>\n",
              "      <th>pos_tags_body</th>\n",
              "      <th>pos_tags_headline</th>\n",
              "      <th>wordnet_pos_body</th>\n",
              "      <th>wordnet_pos_headline</th>\n",
              "      <th>lemmatized_body_string</th>\n",
              "      <th>lemmatized_headline_string</th>\n",
              "    </tr>\n",
              "  </thead>\n",
              "  <tbody>\n",
              "    <tr>\n",
              "      <th>6336</th>\n",
              "      <td>1427</td>\n",
              "      <td>0</td>\n",
              "      <td>[(none, NN), (28, CD), (bodies, NNS), (found, VBN), (mass, RB), (grave, VBP), (restive, JJ), (southwestern, JJ), (mexico, NN), (belongs, NNS), (group, NN), (43, CD), (missing, VBG), (students, NNS), (mexico, VBP), (s, JJ), (attorney, NN), (general, NN), (said, VBD), (tuesday, JJ), (students, NNS), (feared, VBD), (massacred, JJ), (police, NNS), (league, VBD), (gang, NN), (members, NNS), (went, VBD), (missing, VBG), (southwestern, JJ), (state, NN), (guerrero, NN), (sept., VBD), (26., CD), (discovery, NN), (series, NN), (mass, NN), (graves, NNS), (near, IN), (town, NN), (iguala, NN), (students, NNS), (went, VBD), (missing, VBG), (sent, NN), (shockwaves, NNS), (throughout, IN), (mexico, NN), (around, IN), (100,000, CD), (people, NNS), (died, VBD), (drug-related, JJ), (violence, NN), (since, IN), (2007., CD), (speaking, VBG), (press, NN), (conference, NN), (tuesday, JJ), (mexican, JJ), (attorney, NN), (general, JJ), (jesus, NN), (murillo, NN), (said, VBD), (none, NN), (charred, VBD), (remains, NNS), (found, VBN), (first, RB), (mass, NN), (grave, NN), (matched, VBN), (genetically, RB), (missing, VBG), (students, NNS), (say, VBP), (first, JJ), (mass, NN), (grave, NN), (found, VBN), (first, JJ), (ones, NNS), (already, RB), (results, NNS), (say, VBP), (remains, VBZ), (nt, JJ), (match, NN), (dna, NN), (families, NNS), (young, JJ), (people, NNS), (said, VBD), (authorities, NNS), (found, VBD), (another, DT), (mass, NN), (grave, NN), ...]</td>\n",
              "      <td>[(Mexico, NNP), (checks, NNS), (43, CD), (missing, VBG), (students, NNS), (mass, NN), (grave, VBP)]</td>\n",
              "      <td>[(none, n), (28, n), (bodies, n), (found, v), (mass, r), (grave, v), (restive, a), (southwestern, a), (mexico, n), (belongs, n), (group, n), (43, n), (missing, v), (students, n), (mexico, v), (s, a), (attorney, n), (general, n), (said, v), (tuesday, a), (students, n), (feared, v), (massacred, a), (police, n), (league, v), (gang, n), (members, n), (went, v), (missing, v), (southwestern, a), (state, n), (guerrero, n), (sept., v), (26., n), (discovery, n), (series, n), (mass, n), (graves, n), (near, n), (town, n), (iguala, n), (students, n), (went, v), (missing, v), (sent, n), (shockwaves, n), (throughout, n), (mexico, n), (around, n), (100,000, n), (people, n), (died, v), (drug-related, a), (violence, n), (since, n), (2007., n), (speaking, v), (press, n), (conference, n), (tuesday, a), (mexican, a), (attorney, n), (general, a), (jesus, n), (murillo, n), (said, v), (none, n), (charred, v), (remains, n), (found, v), (first, r), (mass, n), (grave, n), (matched, v), (genetically, r), (missing, v), (students, n), (say, v), (first, a), (mass, n), (grave, n), (found, v), (first, a), (ones, n), (already, r), (results, n), (say, v), (remains, v), (nt, a), (match, n), (dna, n), (families, n), (young, a), (people, n), (said, v), (authorities, n), (found, v), (another, n), (mass, n), (grave, n), ...]</td>\n",
              "      <td>[(Mexico, n), (checks, n), (43, n), (missing, v), (students, n), (mass, n), (grave, v)]</td>\n",
              "      <td>none 28 body find mass grave restive southwestern mexico belongs group 43 miss student mexico s attorney general say tuesday student fear massacred police league gang member go miss southwestern state guerrero sept. 26. discovery series mass graf near town iguala student go miss sent shockwaves throughout mexico around 100,000 people die drug-related violence since 2007. speak press conference tuesday mexican attorney general jesus murillo say none char remains find first mass grave match genetically miss student say first mass grave find first one already result say remain nt match dna family young people say authority find another mass grave near site murillo say checking remains also say 14 police officer arrest follow early arrest least 22. protester mexico demand answer miss student mass graf find near mexico town student go miss mexico massacre victim fear missing student</td>\n",
              "      <td>mexico check 43 miss student mass grave</td>\n",
              "    </tr>\n",
              "    <tr>\n",
              "      <th>22801</th>\n",
              "      <td>932</td>\n",
              "      <td>1</td>\n",
              "      <td>[(india, NN), (going, VBG), (serious, JJ), (public, JJ), (sector, NN), (reforms, NNS), (prime, JJ), (minister, NN), (narendra, NN), (modi, NN), (turning, VBG), (work, NN), (quarter, NN), (century, NN), (ok, IN), (one, CD), (civil, JJ), (servant, NN), (found, VBD), (recently, RB), (india, JJ), (s, JJ), (central, JJ), (public, JJ), (works, VBZ), (department, NN), (cpwd, NN), (press, NN), (release, NN), (dated, VBD), (jan., CD), (8, CD), (2015, CD), (announced, VBD), (dismissal, NN), (senior, JJ), (electrical, JJ), (engineer, NN), (employed, VBN), (department, NN), (35, CD), (years, NNS), (worked, VBD), (first, RB), (10., CD), (sounds, NNS), (like, IN), (cpwd, NN), (could, MD), (use, VB), (bit, NN), (reorganisation, NN), (employee, NN), (stopped, VBD), (turning, VBG), (work, NN), (1990, CD), (inquiry, NN), (launched, VBD), (1992., CD), (department, NN), (seems, VBZ), (forgotten, VBN), (13, CD), (years, NNS), (charges, VBZ), (clearly, RB), (established, VBN), (six, CD), (years, NNS), (ago, RB), (verma, RB), (apparently, RB), (remained, VBN), (employment, NN), (another, DT), (eight, CD), (years, NNS), (sacked, VBD), (today, NN), (s, VBP), (clear, JJ), (press, NN), (release, NN), (whether, IN), (paid, VBN), (whole, JJ), (period, NN), (2014, CD), (german, JJ), (civil, JJ), (servant, NN), (admitted, VBD), (nt, JJ), (done, VBN), (work, NN), (last, JJ), (14, CD), (years, NNS), (verma, JJ), ...]</td>\n",
              "      <td>[(It, PRP), (About, IN), (To, TO), (Get, VB), (Harder, NNP), (To, TO), (Be, VB), (Arrested, VBN), (For, IN), (Pot, NNP), (Possession, NNP), (In, IN), (New, NNP), (York, NNP), (City, NNP)]</td>\n",
              "      <td>[(india, n), (going, v), (serious, a), (public, a), (sector, n), (reforms, n), (prime, a), (minister, n), (narendra, n), (modi, n), (turning, v), (work, n), (quarter, n), (century, n), (ok, n), (one, n), (civil, a), (servant, n), (found, v), (recently, r), (india, a), (s, a), (central, a), (public, a), (works, v), (department, n), (cpwd, n), (press, n), (release, n), (dated, v), (jan., n), (8, n), (2015, n), (announced, v), (dismissal, n), (senior, a), (electrical, a), (engineer, n), (employed, v), (department, n), (35, n), (years, n), (worked, v), (first, r), (10., n), (sounds, n), (like, n), (cpwd, n), (could, n), (use, v), (bit, n), (reorganisation, n), (employee, n), (stopped, v), (turning, v), (work, n), (1990, n), (inquiry, n), (launched, v), (1992., n), (department, n), (seems, v), (forgotten, v), (13, n), (years, n), (charges, v), (clearly, r), (established, v), (six, n), (years, n), (ago, r), (verma, r), (apparently, r), (remained, v), (employment, n), (another, n), (eight, n), (years, n), (sacked, v), (today, n), (s, v), (clear, a), (press, n), (release, n), (whether, n), (paid, v), (whole, a), (period, n), (2014, n), (german, a), (civil, a), (servant, n), (admitted, v), (nt, a), (done, v), (work, n), (last, a), (14, n), (years, n), (verma, a), ...]</td>\n",
              "      <td>[(It, n), (About, n), (To, n), (Get, v), (Harder, n), (To, n), (Be, v), (Arrested, v), (For, n), (Pot, n), (Possession, n), (In, n), (New, n), (York, n), (City, n)]</td>\n",
              "      <td>india go serious public sector reform prime minister narendra modi turn work quarter century ok one civil servant find recently india s central public work department cpwd press release date jan. 8 2015 announce dismissal senior electrical engineer employ department 35 year work first 10. sound like cpwd could use bit reorganisation employee stop turn work 1990 inquiry launch 1992. department seem forget 13 year charge clearly establish six year ago verma apparently remain employment another eight year sack today s clear press release whether pay whole period 2014 german civil servant admit nt do work last 14 year verma beat decade</td>\n",
              "      <td>it about to get harder to be arrested for pot possession in new york city</td>\n",
              "    </tr>\n",
              "    <tr>\n",
              "      <th>708</th>\n",
              "      <td>161</td>\n",
              "      <td>0</td>\n",
              "      <td>[(apple, NN), (co-founder, NN), (steve, VBP), (wozniak, NN), (played, VBD), (onscreen, JJ), (seth, JJ), (rogen, NN), (aaron, NN), (sorkin, NN), (upcoming, VBG), (steve, NN), (jobs, NNS), (biopic, VBP), (variety, NN), (reports, NNS), (acting, VBG), (opposite, JJ), (rogen, NN), (christian, JJ), (bale, NN), (jobs, NNS), (sorkin, VBP), (screenplay, NN), (film, NN), (directed, VBD), (oscar, NN), (winner, NN), (danny, NN), (boyle, NN), (based, VBN), (walter, NN), (isaacson, NN), (biography, NN), (steve, VBP), (jobs, NNS), (sorkin, VBN), (said, VBD), (film, NN), (divided, VBD), (three, CD), (long, JJ), (scenes, NNS), (taking, VBG), (place, NN), (backstage, NN), (apple, NN), (product, NN), (launch, NN)]</td>\n",
              "      <td>[(HBO, NNP), (streaming, VBG), (service, NN), (could, MD), (launch, VB), (April, NNP), (15, CD), (per, IN), (month, NN), (work, NN), (Apple, NNP), (TV, NN)]</td>\n",
              "      <td>[(apple, n), (co-founder, n), (steve, v), (wozniak, n), (played, v), (onscreen, a), (seth, a), (rogen, n), (aaron, n), (sorkin, n), (upcoming, v), (steve, n), (jobs, n), (biopic, v), (variety, n), (reports, n), (acting, v), (opposite, a), (rogen, n), (christian, a), (bale, n), (jobs, n), (sorkin, v), (screenplay, n), (film, n), (directed, v), (oscar, n), (winner, n), (danny, n), (boyle, n), (based, v), (walter, n), (isaacson, n), (biography, n), (steve, v), (jobs, n), (sorkin, v), (said, v), (film, n), (divided, v), (three, n), (long, a), (scenes, n), (taking, v), (place, n), (backstage, n), (apple, n), (product, n), (launch, n)]</td>\n",
              "      <td>[(HBO, n), (streaming, v), (service, n), (could, n), (launch, v), (April, n), (15, n), (per, n), (month, n), (work, n), (Apple, n), (TV, n)]</td>\n",
              "      <td>apple co-founder steve wozniak play onscreen seth rogen aaron sorkin upcoming steve job biopic variety report act opposite rogen christian bale job sorkin screenplay film direct oscar winner danny boyle base walter isaacson biography steve job sorkin say film divide three long scene take place backstage apple product launch</td>\n",
              "      <td>hbo stream service could launch april 15 per month work apple tv</td>\n",
              "    </tr>\n",
              "    <tr>\n",
              "      <th>23340</th>\n",
              "      <td>702</td>\n",
              "      <td>1</td>\n",
              "      <td>[(mexico, NN), (s, NN), (attorney, NN), (general, JJ), (says, VBZ), (dna, NN), (tests, NNS), (shown, VBN), (28, CD), (bodies, NNS), (found, VBN), (mass, NN), (grave, NN), (missing, VBG), (group, NN), (students, NNS), (jesus, VBP), (murillo, JJ), (karam, NN), (said, VBD), (tests, NNS), (carried, VBD), (four, CD), (recently, RB), (discovered, VBN), (grave, NN), (sites, VBZ), (43, CD), (students, NNS), (went, VBD), (missing, VBG), (three, CD), (weeks, NNS), (ago, RB), (amid, IN), (violent, JJ), (protests, NNS), (iguala, VBP), (south, JJ), (mexico, JJ), (city, NN), (mr, NN), (karam, NN), (said, VBD), (14, CD), (police, NN), (officers, NNS), (arrested, VBD), (accused, VBD), (handing, VBG), (students, NNS), (drugs, NNS), (gang, VBD), (50, CD), (people, NNS), (arrested, VBN), (connection, NN), (students, NNS), (disappearance, NN), (vast, JJ), (majority, NN), (local, JJ), (police, NN), (officers, NNS), (officers, NNS), (believed, VBD), (working, VBG), (drugs, NNS), (gang, VBD), (known, VBN), (guerreros, NNS), (unidos, JJ), (tuesday, JJ), (police, NN), (said, VBD), (gang, NN), (s, JJ), (leader, NN), (benjamin, NN), (mondragon, NN), (killed, VBD), (arrested, JJ), (operation, NN), (mexican, JJ), (security, NN), (forces, NNS), (state, NN), (morelos, NN), (missing, VBG), (students, NNS), (attended, VBD), (teacher, RB), (training, VBG), (college, NN), (iguala, NN), (200km, CD), (125, CD), (miles, NNS), (south, RB), (mexico, VBP), ...]</td>\n",
              "      <td>[(Was, VBD), (The, DT), (Batmobile, NNP), (Stolen, NNP), (In, IN), (Detroit, NNP)]</td>\n",
              "      <td>[(mexico, n), (s, n), (attorney, n), (general, a), (says, v), (dna, n), (tests, n), (shown, v), (28, n), (bodies, n), (found, v), (mass, n), (grave, n), (missing, v), (group, n), (students, n), (jesus, v), (murillo, a), (karam, n), (said, v), (tests, n), (carried, v), (four, n), (recently, r), (discovered, v), (grave, n), (sites, v), (43, n), (students, n), (went, v), (missing, v), (three, n), (weeks, n), (ago, r), (amid, n), (violent, a), (protests, n), (iguala, v), (south, a), (mexico, a), (city, n), (mr, n), (karam, n), (said, v), (14, n), (police, n), (officers, n), (arrested, v), (accused, v), (handing, v), (students, n), (drugs, n), (gang, v), (50, n), (people, n), (arrested, v), (connection, n), (students, n), (disappearance, n), (vast, a), (majority, n), (local, a), (police, n), (officers, n), (officers, n), (believed, v), (working, v), (drugs, n), (gang, v), (known, v), (guerreros, n), (unidos, a), (tuesday, a), (police, n), (said, v), (gang, n), (s, a), (leader, n), (benjamin, n), (mondragon, n), (killed, v), (arrested, a), (operation, n), (mexican, a), (security, n), (forces, n), (state, n), (morelos, n), (missing, v), (students, n), (attended, v), (teacher, r), (training, v), (college, n), (iguala, n), (200km, n), (125, n), (miles, n), (south, r), (mexico, v), ...]</td>\n",
              "      <td>[(Was, v), (The, n), (Batmobile, n), (Stolen, n), (In, n), (Detroit, n)]</td>\n",
              "      <td>mexico s attorney general say dna test show 28 body find mass grave miss group student jesus murillo karam say test carry four recently discover grave sit 43 student go miss three week ago amid violent protest iguala south mexico city mr karam say 14 police officer arrest accuse hand student drug gang 50 people arrest connection student disappearance vast majority local police officer officer believe work drug gang know guerreros unidos tuesday police say gang s leader benjamin mondragon kill arrested operation mexican security force state morelos miss student attend teacher train college iguala 200km 125 mile south mexico city college history left-wing activism clear whether student targeted political belief renew hope disappear deadly clashes police 26 september six people died eyewitness report see bundled police van grant bbc s mexico correspondent say confirmation miss student find mass graf give family renew hope many family camp iguala wait answer local authority monday crowds fellow student teacher teach college set fire guerrero state headquarters city chilpancingo angry perceive lack progress investigation call state governor angel aguirre resign mexican president enrique pena nieto vow find punish responsible disappearance say incident shock painful unacceptable</td>\n",
              "      <td>was the batmobile stolen in detroit</td>\n",
              "    </tr>\n",
              "    <tr>\n",
              "      <th>11715</th>\n",
              "      <td>2404</td>\n",
              "      <td>0</td>\n",
              "      <td>[(new, JJ), (video, NN), (isis, NN), (shows, VBZ), (american-made, JJ), (weapons, NNS), (says, VBZ), (intended, VBN), (kurds, NNS), (actually, RB), (air, VBP), (dropped, JJ), (territory, NN), (control, NN), (least, JJS), (one, CD), (bundle, JJ), (u.s., JJ), (weapons, NNS), (airdropped, VBD), (syria, NN), (appears, VBZ), (fallen, VBN), (hands, NNS), (isis, VBP), (dangerous, JJ), (misfire, NNS), (american, JJ), (mission, NN), (speed, NN), (aid, NN), (kurdish, JJ), (forces, NNS), (making, VBG), (stand, VBP), (kobani, VB), (source, NN), (daily, JJ), (beast, NN), (read, NN), (full, JJ), (article, NN), (link, NN)]</td>\n",
              "      <td>[(New, NNP), (iOS, NN), (8, CD), (bug, NN), (delete, JJ), (iCloud, NN), (documents, NNS)]</td>\n",
              "      <td>[(new, a), (video, n), (isis, n), (shows, v), (american-made, a), (weapons, n), (says, v), (intended, v), (kurds, n), (actually, r), (air, v), (dropped, a), (territory, n), (control, n), (least, a), (one, n), (bundle, a), (u.s., a), (weapons, n), (airdropped, v), (syria, n), (appears, v), (fallen, v), (hands, n), (isis, v), (dangerous, a), (misfire, n), (american, a), (mission, n), (speed, n), (aid, n), (kurdish, a), (forces, n), (making, v), (stand, v), (kobani, v), (source, n), (daily, a), (beast, n), (read, n), (full, a), (article, n), (link, n)]</td>\n",
              "      <td>[(New, n), (iOS, n), (8, n), (bug, n), (delete, a), (iCloud, n), (documents, n)]</td>\n",
              "      <td>new video isi show american-made weapon say intend kurd actually air dropped territory control least one bundle u.s. weapon airdropped syria appear fall hand isis dangerous misfire american mission speed aid kurdish force make stand kobani source daily beast read full article link</td>\n",
              "      <td>new ios 8 bug delete icloud document</td>\n",
              "    </tr>\n",
              "  </tbody>\n",
              "</table>\n",
              "</div>"
            ],
            "text/plain": [
              "      Body ID  ...                                                  lemmatized_headline_string\n",
              "6336     1427  ...                                    mexico check 43 miss student mass grave \n",
              "22801     932  ...  it about to get harder to be arrested for pot possession in new york city \n",
              "708       161  ...           hbo stream service could launch april 15 per month work apple tv \n",
              "23340     702  ...                                        was the batmobile stolen in detroit \n",
              "11715    2404  ...                                       new ios 8 bug delete icloud document \n",
              "\n",
              "[5 rows x 8 columns]"
            ]
          },
          "metadata": {
            "tags": []
          },
          "execution_count": 51
        }
      ]
    },
    {
      "cell_type": "markdown",
      "metadata": {
        "id": "Az60xe7zKApm"
      },
      "source": [
        "#### 3.2.4 **Applying TF-IDF**\n",
        "Let's convert raw documents to a matrix of TF-IDF features. In information retrieval, tf–idf is a short for term frequency–inverse document frequency, is a numerical statistic that is intended to reflect how important a word is to a document in a collection or corpus.\n",
        "\n",
        "\n",
        "\n",
        "\n",
        "**Shoul we introduce the concepts of word embeddings...? Necessary?**"
      ]
    },
    {
      "cell_type": "code",
      "metadata": {
        "id": "4YQ9qeiKrnt6"
      },
      "source": [
        "# # Parameter election\n",
        "ngram_range = (1,2)\n",
        "min_df = 10\n",
        "max_df = 1.\n",
        "max_features = 300"
      ],
      "execution_count": null,
      "outputs": []
    },
    {
      "cell_type": "code",
      "metadata": {
        "colab": {
          "base_uri": "https://localhost:8080/",
          "height": 1000
        },
        "id": "JrC63cL8teLH",
        "outputId": "c3042e65-c007-4f84-ecbe-fc11f0abb2fd"
      },
      "source": [
        "sample_train_df = sample_train_df[['lemmatized_body_string','lemmatized_headline_string','Stance']]\n",
        "sample_train_df"
      ],
      "execution_count": null,
      "outputs": [
        {
          "output_type": "execute_result",
          "data": {
            "text/html": [
              "<div>\n",
              "<style scoped>\n",
              "    .dataframe tbody tr th:only-of-type {\n",
              "        vertical-align: middle;\n",
              "    }\n",
              "\n",
              "    .dataframe tbody tr th {\n",
              "        vertical-align: top;\n",
              "    }\n",
              "\n",
              "    .dataframe thead th {\n",
              "        text-align: right;\n",
              "    }\n",
              "</style>\n",
              "<table border=\"1\" class=\"dataframe\">\n",
              "  <thead>\n",
              "    <tr style=\"text-align: right;\">\n",
              "      <th></th>\n",
              "      <th>lemmatized_body_string</th>\n",
              "      <th>lemmatized_headline_string</th>\n",
              "      <th>Stance</th>\n",
              "    </tr>\n",
              "  </thead>\n",
              "  <tbody>\n",
              "    <tr>\n",
              "      <th>6336</th>\n",
              "      <td>none 28 body find mass grave restive southwestern mexico belongs group 43 miss student mexico s attorney general say tuesday student fear massacred police league gang member go miss southwestern state guerrero sept. 26. discovery series mass graf near town iguala student go miss sent shockwaves throughout mexico around 100,000 people die drug-related violence since 2007. speak press conference tuesday mexican attorney general jesus murillo say none char remains find first mass grave match genetically miss student say first mass grave find first one already result say remain nt match dna family young people say authority find another mass grave near site murillo say checking remains also say 14 police officer arrest follow early arrest least 22. protester mexico demand answer miss student mass graf find near mexico town student go miss mexico massacre victim fear missing student</td>\n",
              "      <td>mexico check 43 miss student mass grave</td>\n",
              "      <td>0</td>\n",
              "    </tr>\n",
              "    <tr>\n",
              "      <th>22801</th>\n",
              "      <td>india go serious public sector reform prime minister narendra modi turn work quarter century ok one civil servant find recently india s central public work department cpwd press release date jan. 8 2015 announce dismissal senior electrical engineer employ department 35 year work first 10. sound like cpwd could use bit reorganisation employee stop turn work 1990 inquiry launch 1992. department seem forget 13 year charge clearly establish six year ago verma apparently remain employment another eight year sack today s clear press release whether pay whole period 2014 german civil servant admit nt do work last 14 year verma beat decade</td>\n",
              "      <td>it about to get harder to be arrested for pot possession in new york city</td>\n",
              "      <td>1</td>\n",
              "    </tr>\n",
              "    <tr>\n",
              "      <th>708</th>\n",
              "      <td>apple co-founder steve wozniak play onscreen seth rogen aaron sorkin upcoming steve job biopic variety report act opposite rogen christian bale job sorkin screenplay film direct oscar winner danny boyle base walter isaacson biography steve job sorkin say film divide three long scene take place backstage apple product launch</td>\n",
              "      <td>hbo stream service could launch april 15 per month work apple tv</td>\n",
              "      <td>0</td>\n",
              "    </tr>\n",
              "    <tr>\n",
              "      <th>23340</th>\n",
              "      <td>mexico s attorney general say dna test show 28 body find mass grave miss group student jesus murillo karam say test carry four recently discover grave sit 43 student go miss three week ago amid violent protest iguala south mexico city mr karam say 14 police officer arrest accuse hand student drug gang 50 people arrest connection student disappearance vast majority local police officer officer believe work drug gang know guerreros unidos tuesday police say gang s leader benjamin mondragon kill arrested operation mexican security force state morelos miss student attend teacher train college iguala 200km 125 mile south mexico city college history left-wing activism clear whether student targeted political belief renew hope disappear deadly clashes police 26 september six people died eyewitness report see bundled police van grant bbc s mexico correspondent say confirmation miss student find mass graf give family renew hope many family camp iguala wait answer local authority monday crowds fellow student teacher teach college set fire guerrero state headquarters city chilpancingo angry perceive lack progress investigation call state governor angel aguirre resign mexican president enrique pena nieto vow find punish responsible disappearance say incident shock painful unacceptable</td>\n",
              "      <td>was the batmobile stolen in detroit</td>\n",
              "      <td>1</td>\n",
              "    </tr>\n",
              "    <tr>\n",
              "      <th>11715</th>\n",
              "      <td>new video isi show american-made weapon say intend kurd actually air dropped territory control least one bundle u.s. weapon airdropped syria appear fall hand isis dangerous misfire american mission speed aid kurdish force make stand kobani source daily beast read full article link</td>\n",
              "      <td>new ios 8 bug delete icloud document</td>\n",
              "      <td>0</td>\n",
              "    </tr>\n",
              "    <tr>\n",
              "      <th>...</th>\n",
              "      <td>...</td>\n",
              "      <td>...</td>\n",
              "      <td>...</td>\n",
              "    </tr>\n",
              "    <tr>\n",
              "      <th>16459</th>\n",
              "      <td>dubai prominent saudi arabian cleric whip controversy issue religious rule forbid build snowman describe anti-islamic ask religious website permissible father build snowman child snowstorm country s north sheikh mohammed saleh al-munajjid reply permitted make statue snow even way play fun quote muslim scholar sheikh munajjid argue build snowman create image human action consider sinful kingdom s strict interpretation sunni islam god give people space make whatever want soul include tree ship fruit building write rule provoke swift response twitter user write arabic identify arab name afraid faith everything ... sick mind one twitter user write related german minister call cancellation anti-islam rally hold dresden saudi begin public caning blogger first 50 1,000 blow administer 300 stranded indian worker saudi arabia return home another post photo man formal arab garb hold arm snow bride wear bra lipstick reason ban fear sedition write third say country plague two type people people look fatwa religious rule everything life cleric want interfere everything live others fatwa user write sheikh munajjid supporter however build snowman imitate infidel promote lustiness eroticism one write may god preserve scholar enjoy sharp vision recognise matter even satan think say another snow cover upland area tabuk province near saudi arabia s border jordan third consecutive year cold weather swept across middle east</td>\n",
              "      <td>saudi cleric condemns snowman anti-islamic</td>\n",
              "      <td>1</td>\n",
              "    </tr>\n",
              "    <tr>\n",
              "      <th>11513</th>\n",
              "      <td>judicial watch report isis member cross mexican border</td>\n",
              "      <td>lady fb i m 41 intersex fucked michael phelps first date</td>\n",
              "      <td>0</td>\n",
              "    </tr>\n",
              "    <tr>\n",
              "      <th>6751</th>\n",
              "      <td>macedonian man slice dick throw away girlfriend break cite dissatisfy sex man believe small penis blame fail relationship report every site tabloidosphere oliver ilic 22 reportedly remove organ one slice razor blade unable stop bleeding force contact medic rush hospital kocani blood begin soak jean find dick razor blade trashcan house although hope reattachment initially nt look good–some site report yesterday hospital nt doctor qualify perform surgery—ilic transfer different facility skopje surgically reunite poor little cock s early tell ll regain full function—such was—in organ ilic s nt tragic case self-mutilation macedonia year accord european tabloid lore 40-year-old man recently cut penis reattachment impossible flushed toilet h/t metro photo news.com.au</td>\n",
              "      <td>boyfriend cut penis throw bin girlfriend dump bad bed</td>\n",
              "      <td>0</td>\n",
              "    </tr>\n",
              "    <tr>\n",
              "      <th>20109</th>\n",
              "      <td>consumerist hq intrigue horrified plausible-looking mockup pumpkin spice flavor condom spent weekend circulate around internet pumpkin spice gum bacon condom exist ala wrapper circulate online real even though people kind want image look authentic pumpkin spice condom plausible enough people keep share image first durex kept speculation alive comment matter pumpkin spice hot united state sure could mania support limited-time holiday-themed prophylactic durex selection fruit-flavored condom holiday-themed offering company clear thing afternoon tweet think well least puts pumpkin spice condom closer exist fry chicken oreo</td>\n",
              "      <td>was alleged audio michael brown shooting cnn hoax</td>\n",
              "      <td>1</td>\n",
              "    </tr>\n",
              "    <tr>\n",
              "      <th>11153</th>\n",
              "      <td>since sexually active girl age 13 15 increase significantly recent year case spark nationwide discussion sex education bosnia trend today continue allow child educate sex street school senad mehmedbasic gynecologist sarajevo say describe grow trend worry apart educational institute parent also play significant role provide effective sex education say obvious child enough knowledge health education engage activity know consequence continue direct educational system must allow street teach child intimate matter later slap life accord inserba news network young girl bosnia allegedly seek advice expert online would sex boyfriend even though m 14 ... afraid ll judge one girl write online since return trip seven girl reportedly drop class uk mailonline report meanwhile early engagement sexual relation lead adverse consequence infertility various disease miscarriage premature birth last year sarajevo 31 underage girl make headline become pregnant</td>\n",
              "      <td>priest die 48 minute say meet god woman</td>\n",
              "      <td>0</td>\n",
              "    </tr>\n",
              "  </tbody>\n",
              "</table>\n",
              "<p>249 rows × 3 columns</p>\n",
              "</div>"
            ],
            "text/plain": [
              "                                                                                                                                                                                                                                                                                                                                                                                                                                                                                                                                                                                                                                                                                                                                                                                                                                                                                                                                                                                                                                                                                                                                                                                                                                                                                                                                                                                                                                                                    lemmatized_body_string  ... Stance\n",
              "6336                                                                                                                                                                                                                                                                                                                                                                                                                                                                                                                                                           none 28 body find mass grave restive southwestern mexico belongs group 43 miss student mexico s attorney general say tuesday student fear massacred police league gang member go miss southwestern state guerrero sept. 26. discovery series mass graf near town iguala student go miss sent shockwaves throughout mexico around 100,000 people die drug-related violence since 2007. speak press conference tuesday mexican attorney general jesus murillo say none char remains find first mass grave match genetically miss student say first mass grave find first one already result say remain nt match dna family young people say authority find another mass grave near site murillo say checking remains also say 14 police officer arrest follow early arrest least 22. protester mexico demand answer miss student mass graf find near mexico town student go miss mexico massacre victim fear missing student   ...      0\n",
              "22801                                                                                                                                                                                                                                                                                                                                                                                                                                                                                                                                                                                                                                                                                                                                                                                                                     india go serious public sector reform prime minister narendra modi turn work quarter century ok one civil servant find recently india s central public work department cpwd press release date jan. 8 2015 announce dismissal senior electrical engineer employ department 35 year work first 10. sound like cpwd could use bit reorganisation employee stop turn work 1990 inquiry launch 1992. department seem forget 13 year charge clearly establish six year ago verma apparently remain employment another eight year sack today s clear press release whether pay whole period 2014 german civil servant admit nt do work last 14 year verma beat decade   ...      1\n",
              "708                                                                                                                                                                                                                                                                                                                                                                                                                                                                                                                                                                                                                                                                                                                                                                                                                                                                                                                                                                                                                                                                                                                                                 apple co-founder steve wozniak play onscreen seth rogen aaron sorkin upcoming steve job biopic variety report act opposite rogen christian bale job sorkin screenplay film direct oscar winner danny boyle base walter isaacson biography steve job sorkin say film divide three long scene take place backstage apple product launch   ...      0\n",
              "23340                                                                                                                                       mexico s attorney general say dna test show 28 body find mass grave miss group student jesus murillo karam say test carry four recently discover grave sit 43 student go miss three week ago amid violent protest iguala south mexico city mr karam say 14 police officer arrest accuse hand student drug gang 50 people arrest connection student disappearance vast majority local police officer officer believe work drug gang know guerreros unidos tuesday police say gang s leader benjamin mondragon kill arrested operation mexican security force state morelos miss student attend teacher train college iguala 200km 125 mile south mexico city college history left-wing activism clear whether student targeted political belief renew hope disappear deadly clashes police 26 september six people died eyewitness report see bundled police van grant bbc s mexico correspondent say confirmation miss student find mass graf give family renew hope many family camp iguala wait answer local authority monday crowds fellow student teacher teach college set fire guerrero state headquarters city chilpancingo angry perceive lack progress investigation call state governor angel aguirre resign mexican president enrique pena nieto vow find punish responsible disappearance say incident shock painful unacceptable   ...      1\n",
              "11715                                                                                                                                                                                                                                                                                                                                                                                                                                                                                                                                                                                                                                                                                                                                                                                                                                                                                                                                                                                                                                                                                                                                                                                           new video isi show american-made weapon say intend kurd actually air dropped territory control least one bundle u.s. weapon airdropped syria appear fall hand isis dangerous misfire american mission speed aid kurdish force make stand kobani source daily beast read full article link   ...      0\n",
              "...                                                                                                                                                                                                                                                                                                                                                                                                                                                                                                                                                                                                                                                                                                                                                                                                                                                                                                                                                                                                                                                                                                                                                                                                                                                                                                                                                                                                                                                                                    ...  ...    ...\n",
              "16459  dubai prominent saudi arabian cleric whip controversy issue religious rule forbid build snowman describe anti-islamic ask religious website permissible father build snowman child snowstorm country s north sheikh mohammed saleh al-munajjid reply permitted make statue snow even way play fun quote muslim scholar sheikh munajjid argue build snowman create image human action consider sinful kingdom s strict interpretation sunni islam god give people space make whatever want soul include tree ship fruit building write rule provoke swift response twitter user write arabic identify arab name afraid faith everything ... sick mind one twitter user write related german minister call cancellation anti-islam rally hold dresden saudi begin public caning blogger first 50 1,000 blow administer 300 stranded indian worker saudi arabia return home another post photo man formal arab garb hold arm snow bride wear bra lipstick reason ban fear sedition write third say country plague two type people people look fatwa religious rule everything life cleric want interfere everything live others fatwa user write sheikh munajjid supporter however build snowman imitate infidel promote lustiness eroticism one write may god preserve scholar enjoy sharp vision recognise matter even satan think say another snow cover upland area tabuk province near saudi arabia s border jordan third consecutive year cold weather swept across middle east   ...      1\n",
              "11513                                                                                                                                                                                                                                                                                                                                                                                                                                                                                                                                                                                                                                                                                                                                                                                                                                                                                                                                                                                                                                                                                                                                                                                                                                                                                                                                                                                                                              judicial watch report isis member cross mexican border   ...      0\n",
              "6751                                                                                                                                                                                                                                                                                                                                                                                                                                                                                                                                                                                                                                                                                  macedonian man slice dick throw away girlfriend break cite dissatisfy sex man believe small penis blame fail relationship report every site tabloidosphere oliver ilic 22 reportedly remove organ one slice razor blade unable stop bleeding force contact medic rush hospital kocani blood begin soak jean find dick razor blade trashcan house although hope reattachment initially nt look good–some site report yesterday hospital nt doctor qualify perform surgery—ilic transfer different facility skopje surgically reunite poor little cock s early tell ll regain full function—such was—in organ ilic s nt tragic case self-mutilation macedonia year accord european tabloid lore 40-year-old man recently cut penis reattachment impossible flushed toilet h/t metro photo news.com.au   ...      0\n",
              "20109                                                                                                                                                                                                                                                                                                                                                                                                                                                                                                                                                                                                                                                                                                                                                                                                                                 consumerist hq intrigue horrified plausible-looking mockup pumpkin spice flavor condom spent weekend circulate around internet pumpkin spice gum bacon condom exist ala wrapper circulate online real even though people kind want image look authentic pumpkin spice condom plausible enough people keep share image first durex kept speculation alive comment matter pumpkin spice hot united state sure could mania support limited-time holiday-themed prophylactic durex selection fruit-flavored condom holiday-themed offering company clear thing afternoon tweet think well least puts pumpkin spice condom closer exist fry chicken oreo   ...      1\n",
              "11153                                                                                                                                                                                                                                                                                                                                                                                                                                                                                           since sexually active girl age 13 15 increase significantly recent year case spark nationwide discussion sex education bosnia trend today continue allow child educate sex street school senad mehmedbasic gynecologist sarajevo say describe grow trend worry apart educational institute parent also play significant role provide effective sex education say obvious child enough knowledge health education engage activity know consequence continue direct educational system must allow street teach child intimate matter later slap life accord inserba news network young girl bosnia allegedly seek advice expert online would sex boyfriend even though m 14 ... afraid ll judge one girl write online since return trip seven girl reportedly drop class uk mailonline report meanwhile early engagement sexual relation lead adverse consequence infertility various disease miscarriage premature birth last year sarajevo 31 underage girl make headline become pregnant   ...      0\n",
              "\n",
              "[249 rows x 3 columns]"
            ]
          },
          "metadata": {
            "tags": []
          },
          "execution_count": 53
        }
      ]
    },
    {
      "cell_type": "code",
      "metadata": {
        "id": "g_vh1vqCryFm"
      },
      "source": [
        "##Convert a collection of raw documents bodies to a matrix of TF-IDF (Term frequency and inverted )  features.\n",
        "\n",
        "tfidf = TfidfVectorizer(encoding='utf-8',\n",
        "                        ngram_range=ngram_range,\n",
        "                        stop_words=None,\n",
        "                        lowercase=False,\n",
        "                        max_df=max_df,\n",
        "                        min_df=min_df,\n",
        "                        max_features=max_features,\n",
        "                        norm='l2',\n",
        "                        sublinear_tf=True)\n",
        "\n",
        "tf_idf_headlines = tfidf.fit_transform(sample_train_df['lemmatized_headline_string']).toarray() \n",
        "tf_idf_bodies = tfidf.fit_transform(sample_train_df['lemmatized_body_string']).toarray()\n",
        "label = sample_train_df['Stance'].to_numpy()\n"
      ],
      "execution_count": null,
      "outputs": []
    },
    {
      "cell_type": "code",
      "metadata": {
        "id": "TTJv_SYGkIJh",
        "colab": {
          "base_uri": "https://localhost:8080/"
        },
        "outputId": "bc165106-4aa1-45af-894a-cd7ed4121a03"
      },
      "source": [
        "features = np.concatenate((tf_idf_bodies,tf_idf_headlines),axis=1)\n",
        "features"
      ],
      "execution_count": null,
      "outputs": [
        {
          "output_type": "execute_result",
          "data": {
            "text/plain": [
              "array([[0.13216789, 0.        , 0.        , ..., 0.        , 0.        ,\n",
              "        0.        ],\n",
              "       [0.        , 0.15266511, 0.        , ..., 0.        , 0.        ,\n",
              "        0.        ],\n",
              "       [0.        , 0.        , 0.        , ..., 0.        , 0.        ,\n",
              "        0.        ],\n",
              "       ...,\n",
              "       [0.        , 0.        , 0.        , ..., 0.        , 0.        ,\n",
              "        0.        ],\n",
              "       [0.        , 0.        , 0.        , ..., 0.        , 0.        ,\n",
              "        0.        ],\n",
              "       [0.        , 0.        , 0.        , ..., 0.        , 0.        ,\n",
              "        0.        ]])"
            ]
          },
          "metadata": {
            "tags": []
          },
          "execution_count": 55
        }
      ]
    },
    {
      "cell_type": "markdown",
      "metadata": {
        "id": "w2VNFst3bao1"
      },
      "source": [
        "#### 3.2.5 **Principal Component Analysis**\n",
        "Now let's apply principal component analysis in order to reduce our dimensions. \n",
        "\n"
      ]
    },
    {
      "cell_type": "markdown",
      "metadata": {
        "id": "zUfczo5N5I_f"
      },
      "source": [
        "To reduce our dimensions we will use an unsupervised, non-parametric statistical technique called **Principal Component Analysis (PCA)**. We will transform a large set of variables into a smaller dataset that contains most of the information in the large set. How is it possible that even after removing the features we are still having most of the information? We will understand this below.\n",
        "\n",
        "PCA is used primarily for:\n",
        "\n",
        "*   **Performance Improvement:** If your algorithm is too slow due to high dimensions then PCA is to speed it up.\n",
        "\n",
        "*   **Data Visualization:** Sometimes you need to do a scatter plot in 2-Dimension which basically the relationship between two features. But if the dimension is too high then you can’t plot so many scattered plots considering two features each. PCA helps in reducing the dimensions to 2-Dimension and plotting the scattered plots.\n",
        "\n",
        "**How does PCA work?**\n",
        "\n",
        "1.   Standardize the input data (or Normalization of the Variables)\n",
        "2.   Obtain the eigenvectors and eigenvalues of the covariance matrix\n",
        "1.   Order the eigenvalues from highest to lowest and choose the \"k\" eigenvectors that correspond to the largest \"k\" eigenvectors (where \"k\" is the number of dimensions of the new feature subspace).\n",
        "2.   Construct the projection matrix W with the selected \"k\" eigenvectors.\n",
        "\n",
        "In the following image we can see briefly how a PCA works.\n",
        "\n",
        "![](https://drive.google.com/uc?export=view&id=1H1FzQ42hmRHY7GVSVczTQYmL86dtNIFh)\n",
        "\n",
        "But don't worry, all this is already done by scikit-learn (or other Python packages). If you want to know more about how a PCA works you can read the following article: https://medium.com/analytics-vidhya/understanding-principle-component-analysis-pca-step-by-step-e7a4bb4031d9\n",
        "\n",
        "\n",
        "\n",
        "\n",
        "\n",
        "\n",
        "\n",
        "\n",
        "\n",
        "\n"
      ]
    },
    {
      "cell_type": "markdown",
      "metadata": {
        "id": "s9x_wgTVCoCt"
      },
      "source": [
        "As we can see with the scikit-learn library we can apply a PCA with 3 lines of code."
      ]
    },
    {
      "cell_type": "code",
      "metadata": {
        "id": "8ebmhUE3bnQs",
        "colab": {
          "base_uri": "https://localhost:8080/"
        },
        "outputId": "cc3acdb9-063e-4592-b0ea-63df92e294d9"
      },
      "source": [
        "pca = PCA(n_components=130, random_state=42)\n",
        "# #Apply pca to features\n",
        "features_reduced = pca.fit_transform(features) \n",
        "print(features_reduced.shape)"
      ],
      "execution_count": null,
      "outputs": [
        {
          "output_type": "stream",
          "text": [
            "(249, 129)\n"
          ],
          "name": "stdout"
        }
      ]
    },
    {
      "cell_type": "markdown",
      "metadata": {
        "id": "sUzdw4cipe6c"
      },
      "source": [
        "We want a % of explained variablity to get higher than 95%, let's check."
      ]
    },
    {
      "cell_type": "code",
      "metadata": {
        "id": "y3RGMwJRpQrP",
        "colab": {
          "base_uri": "https://localhost:8080/"
        },
        "outputId": "a507ac52-c7a8-46da-a5ef-cfe89461e690"
      },
      "source": [
        "np.sum(pca.explained_variance_ratio_)"
      ],
      "execution_count": null,
      "outputs": [
        {
          "output_type": "execute_result",
          "data": {
            "text/plain": [
              "0.9485559395151747"
            ]
          },
          "metadata": {
            "tags": []
          },
          "execution_count": 57
        }
      ]
    },
    {
      "cell_type": "markdown",
      "metadata": {
        "id": "Yw5lHXxSbO7u"
      },
      "source": [
        "#### **3.2.6 Training/ Test Data**\n",
        "\n",
        "Finally, the last step we have to do with our data is to split it! Why?\n",
        "\n",
        "*The* problem with training a machine learning algorithm is that it will eventually start to focus too much on special features of our dataset. At some point, it would make almost zero errors on this data, but it would be highly overtrained on the problem and not understand that other problems might require a slightly different approach. It is similar to giving a human the exact same dataset each time, asking them to make a guess, and telling them the correct answer. If we do this many many times, the person may start memorising the correct answer for each picture, but does not actually know the reason why a certain image is categorised as it is. This problem is called **overfitting** and it's something we need to prevent when we train a model.\n",
        "\n",
        "Instead of this situation, we want to teach our algorithm (or our model) to recognise the featurest. Ideally, we want to develop/train a model that can be brought to production and make good predictions on new data.\n",
        "\n",
        "A very simple solution is to give the network less time to fix errors it makes on the training set.  This is called **early stopping**. With this approach, it would still be able to make **general** predictions and do quite well on new, previously unseen data.   \n",
        "\n",
        "To assess how well our network generalises, we need to split our dataset into different parts. We have the the **training set**, that we provide the features and the labels. Then we have a **test set**, where we test the model of an unseen test-set without labels and compare the results with the actual labels giving us the accuracy of the model over unseen data. \n",
        "\n",
        "![](https://drive.google.com/uc?export=view&id=1ukTLQhYQ8rGU1llS_AjBxm4IOLCNZaVk)"
      ]
    },
    {
      "cell_type": "markdown",
      "metadata": {
        "id": "0S7aTUGDmtJ1"
      },
      "source": [
        "\n",
        "We Splitting dataframe in 80% training and 20% testing."
      ]
    },
    {
      "cell_type": "code",
      "metadata": {
        "id": "6iQfjg9CrTGr"
      },
      "source": [
        "\n",
        "X_train, X_test, y_train, y_test = train_test_split(features_reduced, \n",
        "                                                    label, \n",
        "                                                    test_size=0.2)\n"
      ],
      "execution_count": null,
      "outputs": []
    },
    {
      "cell_type": "code",
      "metadata": {
        "id": "1l1v0_DkeWMo",
        "colab": {
          "base_uri": "https://localhost:8080/"
        },
        "outputId": "3f813d68-7c7d-41e3-b8c6-430c05c48d7e"
      },
      "source": [
        "print(\"Size of training data: {}\".format(len(X_train)))\n",
        "#print(\"Size of validation data: {}\".format(len(x_valid)))\n",
        "print(\"Size of test data: {}\".format(len(X_test)))"
      ],
      "execution_count": null,
      "outputs": [
        {
          "output_type": "stream",
          "text": [
            "Size of training data: 199\n",
            "Size of test data: 50\n"
          ],
          "name": "stdout"
        }
      ]
    },
    {
      "cell_type": "markdown",
      "metadata": {
        "id": "eRUiUstUnAJD"
      },
      "source": [
        "We take a look to all the sets."
      ]
    },
    {
      "cell_type": "code",
      "metadata": {
        "id": "0o3wN1lF5Mq2",
        "colab": {
          "base_uri": "https://localhost:8080/"
        },
        "outputId": "fa298ce4-b738-47aa-9640-b47412c01b8c"
      },
      "source": [
        "X_train"
      ],
      "execution_count": null,
      "outputs": [
        {
          "output_type": "execute_result",
          "data": {
            "text/plain": [
              "array([[-0.04705577, -0.25578162, -0.09066091, ...,  0.02156364,\n",
              "        -0.03322383, -0.00113299],\n",
              "       [-0.59645391,  0.63333989, -0.03512545, ...,  0.02087714,\n",
              "        -0.00690466, -0.04619217],\n",
              "       [ 0.00760982, -0.07573571, -0.01999513, ..., -0.04084364,\n",
              "        -0.03869987, -0.01909403],\n",
              "       ...,\n",
              "       [-0.23964152,  0.23474284, -0.03816884, ..., -0.01404096,\n",
              "        -0.03238666, -0.07214715],\n",
              "       [ 0.55752366,  0.46870553, -0.1718716 , ...,  0.00817804,\n",
              "         0.01435199, -0.00444564],\n",
              "       [-0.13335286,  0.00684493,  0.53954505, ..., -0.02264632,\n",
              "         0.03104793,  0.03026904]])"
            ]
          },
          "metadata": {
            "tags": []
          },
          "execution_count": 60
        }
      ]
    },
    {
      "cell_type": "code",
      "metadata": {
        "id": "KufG_f-c5SMB",
        "colab": {
          "base_uri": "https://localhost:8080/"
        },
        "outputId": "0b9a10cd-eab3-4759-80fd-35530badfa9f"
      },
      "source": [
        "y_train"
      ],
      "execution_count": null,
      "outputs": [
        {
          "output_type": "execute_result",
          "data": {
            "text/plain": [
              "array([0, 0, 0, 1, 1, 1, 1, 0, 0, 0, 0, 0, 1, 0, 1, 0, 0, 1, 1, 0, 0, 1,\n",
              "       0, 0, 0, 0, 1, 1, 1, 0, 0, 0, 0, 0, 1, 0, 0, 1, 1, 0, 0, 1, 1, 0,\n",
              "       0, 1, 0, 1, 0, 1, 1, 1, 0, 0, 1, 1, 0, 0, 0, 1, 1, 0, 0, 0, 1, 0,\n",
              "       0, 1, 0, 1, 1, 1, 0, 1, 1, 0, 1, 0, 1, 1, 0, 0, 1, 0, 1, 1, 0, 1,\n",
              "       0, 1, 1, 1, 1, 0, 1, 0, 0, 1, 1, 1, 0, 1, 1, 0, 1, 0, 1, 0, 0, 1,\n",
              "       0, 1, 1, 0, 1, 0, 0, 1, 1, 0, 0, 1, 0, 1, 0, 1, 1, 0, 0, 0, 1, 1,\n",
              "       1, 1, 1, 0, 0, 0, 1, 0, 0, 0, 1, 0, 1, 1, 1, 1, 0, 0, 1, 1, 1, 1,\n",
              "       1, 1, 1, 0, 1, 0, 0, 0, 1, 0, 0, 0, 1, 1, 1, 0, 1, 0, 1, 1, 1, 0,\n",
              "       0, 0, 0, 1, 0, 0, 0, 0, 0, 0, 0, 0, 0, 0, 1, 0, 0, 1, 1, 1, 0, 1,\n",
              "       0])"
            ]
          },
          "metadata": {
            "tags": []
          },
          "execution_count": 61
        }
      ]
    },
    {
      "cell_type": "code",
      "metadata": {
        "id": "yh8h0cQb5bm7",
        "colab": {
          "base_uri": "https://localhost:8080/"
        },
        "outputId": "9132f7c5-3f3f-4303-c8f0-ed3c9aa5fa4f"
      },
      "source": [
        "X_test"
      ],
      "execution_count": null,
      "outputs": [
        {
          "output_type": "execute_result",
          "data": {
            "text/plain": [
              "array([[ 0.64804149,  0.28951043, -0.13052795, ..., -0.02863815,\n",
              "         0.04375891, -0.02325763],\n",
              "       [-0.06474701, -0.08585743, -0.16523686, ..., -0.01211492,\n",
              "         0.04178754, -0.00827921],\n",
              "       [ 0.75506838,  0.2584117 , -0.0556958 , ..., -0.03943581,\n",
              "         0.07564175, -0.0836931 ],\n",
              "       ...,\n",
              "       [-0.10498885, -0.420882  , -0.24054216, ..., -0.05089684,\n",
              "         0.04543158, -0.01679225],\n",
              "       [-0.1455872 ,  0.1047601 , -0.04620054, ..., -0.01502939,\n",
              "        -0.08029544, -0.08806732],\n",
              "       [ 0.02219051, -0.08951467,  0.01567028, ..., -0.0392111 ,\n",
              "         0.11295991,  0.07424321]])"
            ]
          },
          "metadata": {
            "tags": []
          },
          "execution_count": 62
        }
      ]
    },
    {
      "cell_type": "code",
      "metadata": {
        "id": "KKnGaMOABkKf",
        "colab": {
          "base_uri": "https://localhost:8080/"
        },
        "outputId": "9ca0445b-1d93-45ed-8674-c6d54bf8b40c"
      },
      "source": [
        "y_test"
      ],
      "execution_count": null,
      "outputs": [
        {
          "output_type": "execute_result",
          "data": {
            "text/plain": [
              "array([0, 1, 1, 1, 0, 0, 1, 0, 1, 0, 1, 1, 0, 0, 1, 1, 0, 0, 1, 1, 0, 1,\n",
              "       0, 0, 0, 0, 1, 1, 0, 1, 0, 1, 0, 0, 1, 1, 1, 0, 1, 1, 0, 0, 0, 1,\n",
              "       0, 0, 0, 1, 0, 0])"
            ]
          },
          "metadata": {
            "tags": []
          },
          "execution_count": 63
        }
      ]
    },
    {
      "cell_type": "markdown",
      "metadata": {
        "id": "aKm89agzKYmS"
      },
      "source": [
        "Save all to csv files in order to be easy to call these files on training without repiting this process each time we want to train the algorithms."
      ]
    },
    {
      "cell_type": "code",
      "metadata": {
        "id": "FbOLCOjJsAD4"
      },
      "source": [
        "# Save X_train\n",
        "# convert array into dataframe\n",
        "X_train = pd.DataFrame(X_train)\n",
        "# save the dataframe as a csv file\n",
        "X_train.to_csv(\"/content/drive/MyDrive/X_train.csv\")\n",
        "    \n",
        "# Save X_test    \n",
        "# convert array into dataframe\n",
        "X_test = pd.DataFrame(X_test)\n",
        "# save the dataframe as a csv file\n",
        "X_test.to_csv(\"/content/drive/MyDrive/X_test.csv\")\n",
        "    \n",
        "# Save y_train\n",
        "# convert array into dataframe\n",
        "y_train = pd.DataFrame(y_train)\n",
        "# save the dataframe as a csv file\n",
        "y_train.to_csv(\"/content/drive/MyDrive/y_train.csv\")\n",
        "    \n",
        "# Save y_test\n",
        "# convert array into dataframe\n",
        "y_test = pd.DataFrame(y_test)\n",
        "# save the dataframe as a csv file\n",
        "y_test.to_csv(\"/content/drive/MyDrive/y_test.csv\")\n",
        "    \n",
        "# Save train_df\n",
        "sample_train_df.to_csv(\"/content/drive/MyDrive/train_df.csv\")"
      ],
      "execution_count": null,
      "outputs": []
    },
    {
      "cell_type": "markdown",
      "metadata": {
        "id": "IT00PAj9VJ40"
      },
      "source": [
        "## **4. Training several models to get results**\n",
        "\n",
        "\n",
        "On this sections we will start training several machine learning and deep learning algorithms and fine tunning each one of them in order to get the best algorithm to classify fake news. We will cover Gradient Boosting Machine, Multilayer Perceptron with one hidden layer, Random Forest and Ridge Logistic Regression."
      ]
    },
    {
      "cell_type": "markdown",
      "metadata": {
        "id": "fS34UHnmQSvE"
      },
      "source": [
        "### **4.1 Gradient Boosting Machine**"
      ]
    },
    {
      "cell_type": "markdown",
      "metadata": {
        "id": "K0C5p2F0fUf6"
      },
      "source": [
        "#### **4.1.1 Concepts**"
      ]
    },
    {
      "cell_type": "markdown",
      "metadata": {
        "id": "-7pCLFoLfnTN"
      },
      "source": [
        "Gradient boosting is a machine learning technique for regression and classification problems, which produces a prediction model in the form of an ensemble of weak prediction models. \n",
        "\n",
        "Boosting is a sequential technique which works on the principle of ensemble. It combines a set of weak learners and delivers improved prediction accuracy. At any instant t, the model outcomes are weighed based on the outcomes of previous instant t-1. The outcomes predicted correctly are given a lower weight and the ones miss-classified are weighted higher. This technique is followed for a classification problem while a similar technique is used for regression.\n",
        "\n",
        "![](https://drive.google.com/uc?export=view&id=1e6GaIlqTFdpFMpqnaYyHgNDjQ2R9ut28)\n",
        "\n",
        "More information: https://towardsdatascience.com/understanding-gradient-boosting-machines-9be756fe76ab"
      ]
    },
    {
      "cell_type": "markdown",
      "metadata": {
        "id": "pAXkwDgQfinn"
      },
      "source": [
        "#### **4.1.2 Training the model**\n",
        "\n",
        "Let's implement the algorithm in Python, we will use the scikit-learn an open source machine learning library that supports supervised and unsupervised learning. It also provides various tools for model fitting, data preprocessing, model selection and evaluation, and many other utilities. So let's start!"
      ]
    },
    {
      "cell_type": "markdown",
      "metadata": {
        "id": "tHf0I5R3QSvF"
      },
      "source": [
        "References: \n",
        "\n",
        "https://www.analyticsvidhya.com/blog/2016/02/complete-guide-parameter-tuning-gradient-boosting-gbm-python/"
      ]
    },
    {
      "cell_type": "code",
      "metadata": {
        "id": "9AFJS9s2mzfJ"
      },
      "source": [
        "#Set general params\n",
        "rcParams['figure.figsize'] = 12, 4"
      ],
      "execution_count": null,
      "outputs": []
    },
    {
      "cell_type": "markdown",
      "metadata": {
        "id": "frPNr48qJKSh"
      },
      "source": [
        "Before starting we take a look at the shape of our training set and test set."
      ]
    },
    {
      "cell_type": "code",
      "metadata": {
        "id": "MWzMMOrPQSvL",
        "colab": {
          "base_uri": "https://localhost:8080/"
        },
        "outputId": "708b78bc-d1e8-40e6-ef9b-d0a5c761ca86"
      },
      "source": [
        "print(X_train.shape)\n",
        "print(y_train.shape)"
      ],
      "execution_count": null,
      "outputs": [
        {
          "output_type": "stream",
          "text": [
            "(199, 129)\n",
            "(199, 1)\n"
          ],
          "name": "stdout"
        }
      ]
    },
    {
      "cell_type": "code",
      "metadata": {
        "id": "SLnyc4PEHq_g",
        "colab": {
          "base_uri": "https://localhost:8080/"
        },
        "outputId": "95f514b9-7bca-428f-da73-d2f8e0f8ea48"
      },
      "source": [
        "print(X_test.shape)\n",
        "print(y_test.shape)"
      ],
      "execution_count": null,
      "outputs": [
        {
          "output_type": "stream",
          "text": [
            "(50, 129)\n",
            "(50, 1)\n"
          ],
          "name": "stdout"
        }
      ]
    },
    {
      "cell_type": "markdown",
      "metadata": {
        "id": "-OrYcrkeQSvN"
      },
      "source": [
        "#### **4.1.3 Cross-Validation for Hyperparameter tuning**"
      ]
    },
    {
      "cell_type": "markdown",
      "metadata": {
        "id": "TO8w5xB5QSvO"
      },
      "source": [
        "In contrast to model parameters which are learned during training, model hyperparameters are set by the data scientist ahead of training and control implementation aspects of the model, these hyperparameters can be thought of as model settings. These settings need to be tuned for each problem because the best model hyperparameters for one particular dataset will not be the best across all datasets. The hyperparameter optimization is the process of hyperparameter tuning, where we find the combination of hyperparameter values for a machine learning model (in this case the GBM) that performs the best - as measured on a validation dataset - for a problem.\n",
        "\n",
        "In summary, model tuning is the process of finding the best machine learning model hyperparameters for a particular data set. Random and Grid Search are two uniformed methods for hyperparameter tuning and Scikit Learn offers these functions through GridSearchCV and RandomizedSearchCV. Below we will see how to apply both models.\n",
        "\n",
        "![](https://drive.google.com/uc?export=view&id=1hOgW66Cvn2R8oE8UKNVKeCBiih5AWba4)\n",
        "\n",
        "\n",
        "I would also like to clarify the concept of cross-Validation. Cross-validation is a resampling procedure used to evaluate machine learning models. This method has a single parameter k which refers to the number of partitions the given data sample is to be split into. So, they are often called k-fold cross-validation. The data is divided into training, validating and testing set to prevent data leaks. So the testing set should only be transformed after model is fit using the train and validation set. Each time the model fits the train data they are evaluate with the test data and the average of evaluation score is used to analyze the overall model.\n",
        "\n",
        "\n",
        "![](https://drive.google.com/uc?export=view&id=1xYnhD3ap746eUU3Kc5jXN1g-deU-Da_P)\n",
        "\n",
        "\n"
      ]
    },
    {
      "cell_type": "markdown",
      "metadata": {
        "id": "cOBg3q_2m3N8"
      },
      "source": [
        "First, we can see what hyperparameters the model has:"
      ]
    },
    {
      "cell_type": "code",
      "metadata": {
        "id": "gWT4DbKNQSvO",
        "colab": {
          "base_uri": "https://localhost:8080/"
        },
        "outputId": "84173f24-964c-4745-c903-0f2bf0e3f858"
      },
      "source": [
        "gb_0 = GradientBoostingClassifier(random_state = 8)\n",
        "print('Parameters currently in use:\\n')\n",
        "pprint(gb_0.get_params())"
      ],
      "execution_count": null,
      "outputs": [
        {
          "output_type": "stream",
          "text": [
            "Parameters currently in use:\n",
            "\n",
            "{'ccp_alpha': 0.0,\n",
            " 'criterion': 'friedman_mse',\n",
            " 'init': None,\n",
            " 'learning_rate': 0.1,\n",
            " 'loss': 'deviance',\n",
            " 'max_depth': 3,\n",
            " 'max_features': None,\n",
            " 'max_leaf_nodes': None,\n",
            " 'min_impurity_decrease': 0.0,\n",
            " 'min_impurity_split': None,\n",
            " 'min_samples_leaf': 1,\n",
            " 'min_samples_split': 2,\n",
            " 'min_weight_fraction_leaf': 0.0,\n",
            " 'n_estimators': 100,\n",
            " 'n_iter_no_change': None,\n",
            " 'presort': 'deprecated',\n",
            " 'random_state': 8,\n",
            " 'subsample': 1.0,\n",
            " 'tol': 0.0001,\n",
            " 'validation_fraction': 0.1,\n",
            " 'verbose': 0,\n",
            " 'warm_start': False}\n"
          ],
          "name": "stdout"
        }
      ]
    },
    {
      "cell_type": "markdown",
      "metadata": {
        "id": "Fr2Vt6CaQSvS"
      },
      "source": [
        "We'll tune the following ones:\n",
        "\n",
        "Tree-related hyperparameters:\n",
        "* `n_estimators` = number of trees in the forest.\n",
        "* `max_features` = max number of features considered for splitting a node\n",
        "* `max_depth` = max number of levels in each decision tree\n",
        "* `min_samples_split` = min number of data points placed in a node before the node is split\n",
        "* `min_samples_leaf` = min number of data points allowed in a leaf node\n",
        "\n",
        "Boosting-related hyperparameters:\n",
        "* `learning_rate`= learning rate shrinks the contribution of each tree by learning_rate.\n",
        "* `subsample`= the fraction of samples to be used for fitting the individual base learners."
      ]
    },
    {
      "cell_type": "markdown",
      "metadata": {
        "id": "nQAd1qF6QSvS"
      },
      "source": [
        "#### **4.1.4 Randomized Search Cross Validation**"
      ]
    },
    {
      "cell_type": "markdown",
      "metadata": {
        "id": "mMiK_ZXiSop7"
      },
      "source": [
        "Random Search sets up a grid of hyperparameter values and selects random combinations to train the model and score. This allows you to explicitly control the number of parameter combinations that are attempted."
      ]
    },
    {
      "cell_type": "markdown",
      "metadata": {
        "id": "nK2WJU7IQSvT"
      },
      "source": [
        "We first need to define the grid. Since we have a huge amount of hyperparameters, we'll try few values for each one."
      ]
    },
    {
      "cell_type": "code",
      "metadata": {
        "id": "0x_uswewQSvT",
        "colab": {
          "base_uri": "https://localhost:8080/"
        },
        "outputId": "ecf0f0ab-ef53-41e6-cf56-16c9e6aaa25a"
      },
      "source": [
        "n_estimators = [200, 800]\n",
        "max_features = ['auto', 'sqrt']\n",
        "max_depth = [10, 40]\n",
        "max_depth.append(None)\n",
        "min_samples_split = [10, 30, 50]\n",
        "min_samples_leaf = [1, 2, 4]\n",
        "learning_rate = [.1, .5]\n",
        "subsample = [.5, 1.]\n",
        "\n",
        "random_grid = {'n_estimators': n_estimators,\n",
        "               'max_features': max_features,\n",
        "               'max_depth': max_depth,\n",
        "               'min_samples_split': min_samples_split,\n",
        "               'min_samples_leaf': min_samples_leaf,\n",
        "               'learning_rate': learning_rate,\n",
        "               'subsample': subsample}\n",
        "\n",
        "pprint(random_grid)"
      ],
      "execution_count": null,
      "outputs": [
        {
          "output_type": "stream",
          "text": [
            "{'learning_rate': [0.1, 0.5],\n",
            " 'max_depth': [10, 40, None],\n",
            " 'max_features': ['auto', 'sqrt'],\n",
            " 'min_samples_leaf': [1, 2, 4],\n",
            " 'min_samples_split': [10, 30, 50],\n",
            " 'n_estimators': [200, 800],\n",
            " 'subsample': [0.5, 1.0]}\n"
          ],
          "name": "stdout"
        }
      ]
    },
    {
      "cell_type": "markdown",
      "metadata": {
        "id": "PL-5PgInQSvW"
      },
      "source": [
        "Then, we'll perform the Random Search:"
      ]
    },
    {
      "cell_type": "code",
      "metadata": {
        "id": "eu6nJ9PGQSvX",
        "colab": {
          "base_uri": "https://localhost:8080/"
        },
        "outputId": "9acd0e1e-b79c-4403-ddc7-5b0ce1e516cc"
      },
      "source": [
        "gbc = GradientBoostingClassifier(random_state=8)\n",
        "\n",
        "random_search = RandomizedSearchCV(estimator=gbc,\n",
        "                                   param_distributions=random_grid,\n",
        "                                   n_iter=10,\n",
        "                                   scoring='accuracy',\n",
        "                                   cv=3, \n",
        "                                   verbose=1, \n",
        "                                   random_state=8)\n",
        "\n",
        "random_search.fit(X = X_train, y= y_train)"
      ],
      "execution_count": null,
      "outputs": [
        {
          "output_type": "stream",
          "text": [
            "Fitting 3 folds for each of 10 candidates, totalling 30 fits\n"
          ],
          "name": "stdout"
        },
        {
          "output_type": "stream",
          "text": [
            "[Parallel(n_jobs=1)]: Using backend SequentialBackend with 1 concurrent workers.\n",
            "/usr/local/lib/python3.7/dist-packages/sklearn/ensemble/_gb.py:1454: DataConversionWarning: A column-vector y was passed when a 1d array was expected. Please change the shape of y to (n_samples, ), for example using ravel().\n",
            "  y = column_or_1d(y, warn=True)\n",
            "/usr/local/lib/python3.7/dist-packages/sklearn/ensemble/_gb.py:1454: DataConversionWarning: A column-vector y was passed when a 1d array was expected. Please change the shape of y to (n_samples, ), for example using ravel().\n",
            "  y = column_or_1d(y, warn=True)\n",
            "/usr/local/lib/python3.7/dist-packages/sklearn/ensemble/_gb.py:1454: DataConversionWarning: A column-vector y was passed when a 1d array was expected. Please change the shape of y to (n_samples, ), for example using ravel().\n",
            "  y = column_or_1d(y, warn=True)\n",
            "/usr/local/lib/python3.7/dist-packages/sklearn/ensemble/_gb.py:1454: DataConversionWarning: A column-vector y was passed when a 1d array was expected. Please change the shape of y to (n_samples, ), for example using ravel().\n",
            "  y = column_or_1d(y, warn=True)\n",
            "/usr/local/lib/python3.7/dist-packages/sklearn/ensemble/_gb.py:1454: DataConversionWarning: A column-vector y was passed when a 1d array was expected. Please change the shape of y to (n_samples, ), for example using ravel().\n",
            "  y = column_or_1d(y, warn=True)\n",
            "/usr/local/lib/python3.7/dist-packages/sklearn/ensemble/_gb.py:1454: DataConversionWarning: A column-vector y was passed when a 1d array was expected. Please change the shape of y to (n_samples, ), for example using ravel().\n",
            "  y = column_or_1d(y, warn=True)\n",
            "/usr/local/lib/python3.7/dist-packages/sklearn/ensemble/_gb.py:1454: DataConversionWarning: A column-vector y was passed when a 1d array was expected. Please change the shape of y to (n_samples, ), for example using ravel().\n",
            "  y = column_or_1d(y, warn=True)\n",
            "/usr/local/lib/python3.7/dist-packages/sklearn/ensemble/_gb.py:1454: DataConversionWarning: A column-vector y was passed when a 1d array was expected. Please change the shape of y to (n_samples, ), for example using ravel().\n",
            "  y = column_or_1d(y, warn=True)\n",
            "/usr/local/lib/python3.7/dist-packages/sklearn/ensemble/_gb.py:1454: DataConversionWarning: A column-vector y was passed when a 1d array was expected. Please change the shape of y to (n_samples, ), for example using ravel().\n",
            "  y = column_or_1d(y, warn=True)\n",
            "/usr/local/lib/python3.7/dist-packages/sklearn/ensemble/_gb.py:1454: DataConversionWarning: A column-vector y was passed when a 1d array was expected. Please change the shape of y to (n_samples, ), for example using ravel().\n",
            "  y = column_or_1d(y, warn=True)\n",
            "/usr/local/lib/python3.7/dist-packages/sklearn/ensemble/_gb.py:1454: DataConversionWarning: A column-vector y was passed when a 1d array was expected. Please change the shape of y to (n_samples, ), for example using ravel().\n",
            "  y = column_or_1d(y, warn=True)\n",
            "/usr/local/lib/python3.7/dist-packages/sklearn/ensemble/_gb.py:1454: DataConversionWarning: A column-vector y was passed when a 1d array was expected. Please change the shape of y to (n_samples, ), for example using ravel().\n",
            "  y = column_or_1d(y, warn=True)\n",
            "/usr/local/lib/python3.7/dist-packages/sklearn/ensemble/_gb.py:1454: DataConversionWarning: A column-vector y was passed when a 1d array was expected. Please change the shape of y to (n_samples, ), for example using ravel().\n",
            "  y = column_or_1d(y, warn=True)\n",
            "/usr/local/lib/python3.7/dist-packages/sklearn/ensemble/_gb.py:1454: DataConversionWarning: A column-vector y was passed when a 1d array was expected. Please change the shape of y to (n_samples, ), for example using ravel().\n",
            "  y = column_or_1d(y, warn=True)\n",
            "/usr/local/lib/python3.7/dist-packages/sklearn/ensemble/_gb.py:1454: DataConversionWarning: A column-vector y was passed when a 1d array was expected. Please change the shape of y to (n_samples, ), for example using ravel().\n",
            "  y = column_or_1d(y, warn=True)\n",
            "/usr/local/lib/python3.7/dist-packages/sklearn/ensemble/_gb.py:1454: DataConversionWarning: A column-vector y was passed when a 1d array was expected. Please change the shape of y to (n_samples, ), for example using ravel().\n",
            "  y = column_or_1d(y, warn=True)\n",
            "/usr/local/lib/python3.7/dist-packages/sklearn/ensemble/_gb.py:1454: DataConversionWarning: A column-vector y was passed when a 1d array was expected. Please change the shape of y to (n_samples, ), for example using ravel().\n",
            "  y = column_or_1d(y, warn=True)\n",
            "/usr/local/lib/python3.7/dist-packages/sklearn/ensemble/_gb.py:1454: DataConversionWarning: A column-vector y was passed when a 1d array was expected. Please change the shape of y to (n_samples, ), for example using ravel().\n",
            "  y = column_or_1d(y, warn=True)\n",
            "/usr/local/lib/python3.7/dist-packages/sklearn/ensemble/_gb.py:1454: DataConversionWarning: A column-vector y was passed when a 1d array was expected. Please change the shape of y to (n_samples, ), for example using ravel().\n",
            "  y = column_or_1d(y, warn=True)\n",
            "/usr/local/lib/python3.7/dist-packages/sklearn/ensemble/_gb.py:1454: DataConversionWarning: A column-vector y was passed when a 1d array was expected. Please change the shape of y to (n_samples, ), for example using ravel().\n",
            "  y = column_or_1d(y, warn=True)\n",
            "/usr/local/lib/python3.7/dist-packages/sklearn/ensemble/_gb.py:1454: DataConversionWarning: A column-vector y was passed when a 1d array was expected. Please change the shape of y to (n_samples, ), for example using ravel().\n",
            "  y = column_or_1d(y, warn=True)\n",
            "/usr/local/lib/python3.7/dist-packages/sklearn/ensemble/_gb.py:1454: DataConversionWarning: A column-vector y was passed when a 1d array was expected. Please change the shape of y to (n_samples, ), for example using ravel().\n",
            "  y = column_or_1d(y, warn=True)\n",
            "/usr/local/lib/python3.7/dist-packages/sklearn/ensemble/_gb.py:1454: DataConversionWarning: A column-vector y was passed when a 1d array was expected. Please change the shape of y to (n_samples, ), for example using ravel().\n",
            "  y = column_or_1d(y, warn=True)\n",
            "/usr/local/lib/python3.7/dist-packages/sklearn/ensemble/_gb.py:1454: DataConversionWarning: A column-vector y was passed when a 1d array was expected. Please change the shape of y to (n_samples, ), for example using ravel().\n",
            "  y = column_or_1d(y, warn=True)\n",
            "/usr/local/lib/python3.7/dist-packages/sklearn/ensemble/_gb.py:1454: DataConversionWarning: A column-vector y was passed when a 1d array was expected. Please change the shape of y to (n_samples, ), for example using ravel().\n",
            "  y = column_or_1d(y, warn=True)\n",
            "/usr/local/lib/python3.7/dist-packages/sklearn/ensemble/_gb.py:1454: DataConversionWarning: A column-vector y was passed when a 1d array was expected. Please change the shape of y to (n_samples, ), for example using ravel().\n",
            "  y = column_or_1d(y, warn=True)\n",
            "/usr/local/lib/python3.7/dist-packages/sklearn/ensemble/_gb.py:1454: DataConversionWarning: A column-vector y was passed when a 1d array was expected. Please change the shape of y to (n_samples, ), for example using ravel().\n",
            "  y = column_or_1d(y, warn=True)\n",
            "/usr/local/lib/python3.7/dist-packages/sklearn/ensemble/_gb.py:1454: DataConversionWarning: A column-vector y was passed when a 1d array was expected. Please change the shape of y to (n_samples, ), for example using ravel().\n",
            "  y = column_or_1d(y, warn=True)\n",
            "/usr/local/lib/python3.7/dist-packages/sklearn/ensemble/_gb.py:1454: DataConversionWarning: A column-vector y was passed when a 1d array was expected. Please change the shape of y to (n_samples, ), for example using ravel().\n",
            "  y = column_or_1d(y, warn=True)\n",
            "/usr/local/lib/python3.7/dist-packages/sklearn/ensemble/_gb.py:1454: DataConversionWarning: A column-vector y was passed when a 1d array was expected. Please change the shape of y to (n_samples, ), for example using ravel().\n",
            "  y = column_or_1d(y, warn=True)\n",
            "[Parallel(n_jobs=1)]: Done  30 out of  30 | elapsed:   13.0s finished\n",
            "/usr/local/lib/python3.7/dist-packages/sklearn/ensemble/_gb.py:1454: DataConversionWarning: A column-vector y was passed when a 1d array was expected. Please change the shape of y to (n_samples, ), for example using ravel().\n",
            "  y = column_or_1d(y, warn=True)\n"
          ],
          "name": "stderr"
        },
        {
          "output_type": "execute_result",
          "data": {
            "text/plain": [
              "RandomizedSearchCV(cv=3, error_score=nan,\n",
              "                   estimator=GradientBoostingClassifier(ccp_alpha=0.0,\n",
              "                                                        criterion='friedman_mse',\n",
              "                                                        init=None,\n",
              "                                                        learning_rate=0.1,\n",
              "                                                        loss='deviance',\n",
              "                                                        max_depth=3,\n",
              "                                                        max_features=None,\n",
              "                                                        max_leaf_nodes=None,\n",
              "                                                        min_impurity_decrease=0.0,\n",
              "                                                        min_impurity_split=None,\n",
              "                                                        min_samples_leaf=1,\n",
              "                                                        min_samples_split=2,\n",
              "                                                        min_weight_fraction_leaf=0.0,\n",
              "                                                        n_estimators=100,\n",
              "                                                        n_ite...\n",
              "                   iid='deprecated', n_iter=10, n_jobs=None,\n",
              "                   param_distributions={'learning_rate': [0.1, 0.5],\n",
              "                                        'max_depth': [10, 40, None],\n",
              "                                        'max_features': ['auto', 'sqrt'],\n",
              "                                        'min_samples_leaf': [1, 2, 4],\n",
              "                                        'min_samples_split': [10, 30, 50],\n",
              "                                        'n_estimators': [200, 800],\n",
              "                                        'subsample': [0.5, 1.0]},\n",
              "                   pre_dispatch='2*n_jobs', random_state=8, refit=True,\n",
              "                   return_train_score=False, scoring='accuracy', verbose=1)"
            ]
          },
          "metadata": {
            "tags": []
          },
          "execution_count": 70
        }
      ]
    },
    {
      "cell_type": "markdown",
      "metadata": {
        "id": "KOS16ye5QSvZ"
      },
      "source": [
        "We can see the best hyperparameters resulting from the Random Search:"
      ]
    },
    {
      "cell_type": "code",
      "metadata": {
        "id": "FT8yOPndQSvZ",
        "colab": {
          "base_uri": "https://localhost:8080/"
        },
        "outputId": "4bee23d2-dc9a-4577-ce73-acd6809b9d0f"
      },
      "source": [
        "print(\"The best hyperparameters from Random Search are:\")\n",
        "print(random_search.best_params_)\n",
        "print(\"\")\n",
        "print(\"The mean accuracy of a model with these hyperparameters is:\")\n",
        "print(random_search.best_score_)"
      ],
      "execution_count": null,
      "outputs": [
        {
          "output_type": "stream",
          "text": [
            "The best hyperparameters from Random Search are:\n",
            "{'subsample': 0.5, 'n_estimators': 800, 'min_samples_split': 10, 'min_samples_leaf': 4, 'max_features': 'sqrt', 'max_depth': 40, 'learning_rate': 0.5}\n",
            "\n",
            "The mean accuracy of a model with these hyperparameters is:\n",
            "0.548168249660787\n"
          ],
          "name": "stdout"
        }
      ]
    },
    {
      "cell_type": "markdown",
      "metadata": {
        "id": "wRGdqr4BQSvb"
      },
      "source": [
        "After that, we can do a more exhaustive search centered in those values:"
      ]
    },
    {
      "cell_type": "markdown",
      "metadata": {
        "id": "bHhrpP5uQSvc"
      },
      "source": [
        "#### **4.1.5 Grid Search Cross Validation**"
      ]
    },
    {
      "cell_type": "markdown",
      "metadata": {
        "id": "MEIja3l3T5GA"
      },
      "source": [
        "Grid Search can be thought of as an exhaustive search for selecting a model. In Grid Search, the data scientist sets up a grid of hyperparameter values and for each combination, trains a model and scores on the testing data."
      ]
    },
    {
      "cell_type": "markdown",
      "metadata": {
        "id": "bkmcMX7iNa1a"
      },
      "source": [
        "We first need to define the grid and then, we'll perform the Grid Search:"
      ]
    },
    {
      "cell_type": "code",
      "metadata": {
        "id": "GVySMnq0QSvc",
        "colab": {
          "base_uri": "https://localhost:8080/"
        },
        "outputId": "6f23a4a7-a7dc-4c4a-8258-091896a28fd0"
      },
      "source": [
        "max_depth = [5, 10, 15]\n",
        "max_features = ['sqrt']\n",
        "min_samples_leaf = [2]\n",
        "min_samples_split = [50, 100]\n",
        "n_estimators = [800]\n",
        "learning_rate = [.1, .5]\n",
        "subsample = [1.]\n",
        "\n",
        "param_grid = {\n",
        "    'max_depth': max_depth,\n",
        "    'max_features': max_features,\n",
        "    'min_samples_leaf': min_samples_leaf,\n",
        "    'min_samples_split': min_samples_split,\n",
        "    'n_estimators': n_estimators,\n",
        "    'learning_rate': learning_rate,\n",
        "    'subsample': subsample\n",
        "\n",
        "}\n",
        "\n",
        "gbc = GradientBoostingClassifier(random_state=8)\n",
        "\n",
        "cv_sets = ShuffleSplit(n_splits = 3, test_size = .33, random_state = 8)\n",
        "\n",
        "grid_search = GridSearchCV(estimator=gbc, \n",
        "                           param_grid=param_grid,\n",
        "                           scoring='accuracy',\n",
        "                           cv=cv_sets,\n",
        "                           verbose=1)\n",
        "\n",
        "grid_search.fit(X_train, y_train)"
      ],
      "execution_count": null,
      "outputs": [
        {
          "output_type": "stream",
          "text": [
            "Fitting 3 folds for each of 12 candidates, totalling 36 fits\n"
          ],
          "name": "stdout"
        },
        {
          "output_type": "stream",
          "text": [
            "[Parallel(n_jobs=1)]: Using backend SequentialBackend with 1 concurrent workers.\n",
            "/usr/local/lib/python3.7/dist-packages/sklearn/ensemble/_gb.py:1454: DataConversionWarning: A column-vector y was passed when a 1d array was expected. Please change the shape of y to (n_samples, ), for example using ravel().\n",
            "  y = column_or_1d(y, warn=True)\n",
            "/usr/local/lib/python3.7/dist-packages/sklearn/ensemble/_gb.py:1454: DataConversionWarning: A column-vector y was passed when a 1d array was expected. Please change the shape of y to (n_samples, ), for example using ravel().\n",
            "  y = column_or_1d(y, warn=True)\n",
            "/usr/local/lib/python3.7/dist-packages/sklearn/ensemble/_gb.py:1454: DataConversionWarning: A column-vector y was passed when a 1d array was expected. Please change the shape of y to (n_samples, ), for example using ravel().\n",
            "  y = column_or_1d(y, warn=True)\n",
            "/usr/local/lib/python3.7/dist-packages/sklearn/ensemble/_gb.py:1454: DataConversionWarning: A column-vector y was passed when a 1d array was expected. Please change the shape of y to (n_samples, ), for example using ravel().\n",
            "  y = column_or_1d(y, warn=True)\n",
            "/usr/local/lib/python3.7/dist-packages/sklearn/ensemble/_gb.py:1454: DataConversionWarning: A column-vector y was passed when a 1d array was expected. Please change the shape of y to (n_samples, ), for example using ravel().\n",
            "  y = column_or_1d(y, warn=True)\n",
            "/usr/local/lib/python3.7/dist-packages/sklearn/ensemble/_gb.py:1454: DataConversionWarning: A column-vector y was passed when a 1d array was expected. Please change the shape of y to (n_samples, ), for example using ravel().\n",
            "  y = column_or_1d(y, warn=True)\n",
            "/usr/local/lib/python3.7/dist-packages/sklearn/ensemble/_gb.py:1454: DataConversionWarning: A column-vector y was passed when a 1d array was expected. Please change the shape of y to (n_samples, ), for example using ravel().\n",
            "  y = column_or_1d(y, warn=True)\n",
            "/usr/local/lib/python3.7/dist-packages/sklearn/ensemble/_gb.py:1454: DataConversionWarning: A column-vector y was passed when a 1d array was expected. Please change the shape of y to (n_samples, ), for example using ravel().\n",
            "  y = column_or_1d(y, warn=True)\n",
            "/usr/local/lib/python3.7/dist-packages/sklearn/ensemble/_gb.py:1454: DataConversionWarning: A column-vector y was passed when a 1d array was expected. Please change the shape of y to (n_samples, ), for example using ravel().\n",
            "  y = column_or_1d(y, warn=True)\n",
            "/usr/local/lib/python3.7/dist-packages/sklearn/ensemble/_gb.py:1454: DataConversionWarning: A column-vector y was passed when a 1d array was expected. Please change the shape of y to (n_samples, ), for example using ravel().\n",
            "  y = column_or_1d(y, warn=True)\n",
            "/usr/local/lib/python3.7/dist-packages/sklearn/ensemble/_gb.py:1454: DataConversionWarning: A column-vector y was passed when a 1d array was expected. Please change the shape of y to (n_samples, ), for example using ravel().\n",
            "  y = column_or_1d(y, warn=True)\n",
            "/usr/local/lib/python3.7/dist-packages/sklearn/ensemble/_gb.py:1454: DataConversionWarning: A column-vector y was passed when a 1d array was expected. Please change the shape of y to (n_samples, ), for example using ravel().\n",
            "  y = column_or_1d(y, warn=True)\n",
            "/usr/local/lib/python3.7/dist-packages/sklearn/ensemble/_gb.py:1454: DataConversionWarning: A column-vector y was passed when a 1d array was expected. Please change the shape of y to (n_samples, ), for example using ravel().\n",
            "  y = column_or_1d(y, warn=True)\n",
            "/usr/local/lib/python3.7/dist-packages/sklearn/ensemble/_gb.py:1454: DataConversionWarning: A column-vector y was passed when a 1d array was expected. Please change the shape of y to (n_samples, ), for example using ravel().\n",
            "  y = column_or_1d(y, warn=True)\n",
            "/usr/local/lib/python3.7/dist-packages/sklearn/ensemble/_gb.py:1454: DataConversionWarning: A column-vector y was passed when a 1d array was expected. Please change the shape of y to (n_samples, ), for example using ravel().\n",
            "  y = column_or_1d(y, warn=True)\n",
            "/usr/local/lib/python3.7/dist-packages/sklearn/ensemble/_gb.py:1454: DataConversionWarning: A column-vector y was passed when a 1d array was expected. Please change the shape of y to (n_samples, ), for example using ravel().\n",
            "  y = column_or_1d(y, warn=True)\n",
            "/usr/local/lib/python3.7/dist-packages/sklearn/ensemble/_gb.py:1454: DataConversionWarning: A column-vector y was passed when a 1d array was expected. Please change the shape of y to (n_samples, ), for example using ravel().\n",
            "  y = column_or_1d(y, warn=True)\n",
            "/usr/local/lib/python3.7/dist-packages/sklearn/ensemble/_gb.py:1454: DataConversionWarning: A column-vector y was passed when a 1d array was expected. Please change the shape of y to (n_samples, ), for example using ravel().\n",
            "  y = column_or_1d(y, warn=True)\n",
            "/usr/local/lib/python3.7/dist-packages/sklearn/ensemble/_gb.py:1454: DataConversionWarning: A column-vector y was passed when a 1d array was expected. Please change the shape of y to (n_samples, ), for example using ravel().\n",
            "  y = column_or_1d(y, warn=True)\n",
            "/usr/local/lib/python3.7/dist-packages/sklearn/ensemble/_gb.py:1454: DataConversionWarning: A column-vector y was passed when a 1d array was expected. Please change the shape of y to (n_samples, ), for example using ravel().\n",
            "  y = column_or_1d(y, warn=True)\n",
            "/usr/local/lib/python3.7/dist-packages/sklearn/ensemble/_gb.py:1454: DataConversionWarning: A column-vector y was passed when a 1d array was expected. Please change the shape of y to (n_samples, ), for example using ravel().\n",
            "  y = column_or_1d(y, warn=True)\n",
            "/usr/local/lib/python3.7/dist-packages/sklearn/ensemble/_gb.py:1454: DataConversionWarning: A column-vector y was passed when a 1d array was expected. Please change the shape of y to (n_samples, ), for example using ravel().\n",
            "  y = column_or_1d(y, warn=True)\n",
            "/usr/local/lib/python3.7/dist-packages/sklearn/ensemble/_gb.py:1454: DataConversionWarning: A column-vector y was passed when a 1d array was expected. Please change the shape of y to (n_samples, ), for example using ravel().\n",
            "  y = column_or_1d(y, warn=True)\n",
            "/usr/local/lib/python3.7/dist-packages/sklearn/ensemble/_gb.py:1454: DataConversionWarning: A column-vector y was passed when a 1d array was expected. Please change the shape of y to (n_samples, ), for example using ravel().\n",
            "  y = column_or_1d(y, warn=True)\n",
            "/usr/local/lib/python3.7/dist-packages/sklearn/ensemble/_gb.py:1454: DataConversionWarning: A column-vector y was passed when a 1d array was expected. Please change the shape of y to (n_samples, ), for example using ravel().\n",
            "  y = column_or_1d(y, warn=True)\n",
            "/usr/local/lib/python3.7/dist-packages/sklearn/ensemble/_gb.py:1454: DataConversionWarning: A column-vector y was passed when a 1d array was expected. Please change the shape of y to (n_samples, ), for example using ravel().\n",
            "  y = column_or_1d(y, warn=True)\n",
            "/usr/local/lib/python3.7/dist-packages/sklearn/ensemble/_gb.py:1454: DataConversionWarning: A column-vector y was passed when a 1d array was expected. Please change the shape of y to (n_samples, ), for example using ravel().\n",
            "  y = column_or_1d(y, warn=True)\n",
            "/usr/local/lib/python3.7/dist-packages/sklearn/ensemble/_gb.py:1454: DataConversionWarning: A column-vector y was passed when a 1d array was expected. Please change the shape of y to (n_samples, ), for example using ravel().\n",
            "  y = column_or_1d(y, warn=True)\n",
            "/usr/local/lib/python3.7/dist-packages/sklearn/ensemble/_gb.py:1454: DataConversionWarning: A column-vector y was passed when a 1d array was expected. Please change the shape of y to (n_samples, ), for example using ravel().\n",
            "  y = column_or_1d(y, warn=True)\n",
            "/usr/local/lib/python3.7/dist-packages/sklearn/ensemble/_gb.py:1454: DataConversionWarning: A column-vector y was passed when a 1d array was expected. Please change the shape of y to (n_samples, ), for example using ravel().\n",
            "  y = column_or_1d(y, warn=True)\n",
            "/usr/local/lib/python3.7/dist-packages/sklearn/ensemble/_gb.py:1454: DataConversionWarning: A column-vector y was passed when a 1d array was expected. Please change the shape of y to (n_samples, ), for example using ravel().\n",
            "  y = column_or_1d(y, warn=True)\n",
            "/usr/local/lib/python3.7/dist-packages/sklearn/ensemble/_gb.py:1454: DataConversionWarning: A column-vector y was passed when a 1d array was expected. Please change the shape of y to (n_samples, ), for example using ravel().\n",
            "  y = column_or_1d(y, warn=True)\n",
            "/usr/local/lib/python3.7/dist-packages/sklearn/ensemble/_gb.py:1454: DataConversionWarning: A column-vector y was passed when a 1d array was expected. Please change the shape of y to (n_samples, ), for example using ravel().\n",
            "  y = column_or_1d(y, warn=True)\n",
            "/usr/local/lib/python3.7/dist-packages/sklearn/ensemble/_gb.py:1454: DataConversionWarning: A column-vector y was passed when a 1d array was expected. Please change the shape of y to (n_samples, ), for example using ravel().\n",
            "  y = column_or_1d(y, warn=True)\n",
            "/usr/local/lib/python3.7/dist-packages/sklearn/ensemble/_gb.py:1454: DataConversionWarning: A column-vector y was passed when a 1d array was expected. Please change the shape of y to (n_samples, ), for example using ravel().\n",
            "  y = column_or_1d(y, warn=True)\n",
            "/usr/local/lib/python3.7/dist-packages/sklearn/ensemble/_gb.py:1454: DataConversionWarning: A column-vector y was passed when a 1d array was expected. Please change the shape of y to (n_samples, ), for example using ravel().\n",
            "  y = column_or_1d(y, warn=True)\n",
            "[Parallel(n_jobs=1)]: Done  36 out of  36 | elapsed:   21.1s finished\n",
            "/usr/local/lib/python3.7/dist-packages/sklearn/ensemble/_gb.py:1454: DataConversionWarning: A column-vector y was passed when a 1d array was expected. Please change the shape of y to (n_samples, ), for example using ravel().\n",
            "  y = column_or_1d(y, warn=True)\n"
          ],
          "name": "stderr"
        },
        {
          "output_type": "execute_result",
          "data": {
            "text/plain": [
              "GridSearchCV(cv=ShuffleSplit(n_splits=3, random_state=8, test_size=0.33, train_size=None),\n",
              "             error_score=nan,\n",
              "             estimator=GradientBoostingClassifier(ccp_alpha=0.0,\n",
              "                                                  criterion='friedman_mse',\n",
              "                                                  init=None, learning_rate=0.1,\n",
              "                                                  loss='deviance', max_depth=3,\n",
              "                                                  max_features=None,\n",
              "                                                  max_leaf_nodes=None,\n",
              "                                                  min_impurity_decrease=0.0,\n",
              "                                                  min_impurity_split=None,\n",
              "                                                  min_samples_leaf=1,\n",
              "                                                  min_samp...\n",
              "                                                  tol=0.0001,\n",
              "                                                  validation_fraction=0.1,\n",
              "                                                  verbose=0, warm_start=False),\n",
              "             iid='deprecated', n_jobs=None,\n",
              "             param_grid={'learning_rate': [0.1, 0.5], 'max_depth': [5, 10, 15],\n",
              "                         'max_features': ['sqrt'], 'min_samples_leaf': [2],\n",
              "                         'min_samples_split': [50, 100], 'n_estimators': [800],\n",
              "                         'subsample': [1.0]},\n",
              "             pre_dispatch='2*n_jobs', refit=True, return_train_score=False,\n",
              "             scoring='accuracy', verbose=1)"
            ]
          },
          "metadata": {
            "tags": []
          },
          "execution_count": 72
        }
      ]
    },
    {
      "cell_type": "markdown",
      "metadata": {
        "id": "LqhCGQzYQSve"
      },
      "source": [
        "The best hyperparameters turn out to be:"
      ]
    },
    {
      "cell_type": "code",
      "metadata": {
        "id": "PDIYmvNnQSve",
        "colab": {
          "base_uri": "https://localhost:8080/"
        },
        "outputId": "592b50a1-079a-4374-9db4-d39d64148b73"
      },
      "source": [
        "print(\"The best hyperparameters from Grid Search are:\")\n",
        "print(grid_search.best_params_)\n",
        "print(\"\")\n",
        "print(\"The mean accuracy of a model with these hyperparameters is:\")\n",
        "print(grid_search.best_score_)"
      ],
      "execution_count": null,
      "outputs": [
        {
          "output_type": "stream",
          "text": [
            "The best hyperparameters from Grid Search are:\n",
            "{'learning_rate': 0.5, 'max_depth': 15, 'max_features': 'sqrt', 'min_samples_leaf': 2, 'min_samples_split': 50, 'n_estimators': 800, 'subsample': 1.0}\n",
            "\n",
            "The mean accuracy of a model with these hyperparameters is:\n",
            "0.5656565656565656\n"
          ],
          "name": "stdout"
        }
      ]
    },
    {
      "cell_type": "markdown",
      "metadata": {
        "id": "uQRXCXL1QSvh"
      },
      "source": [
        "Let's save the model in `best_gbc`:"
      ]
    },
    {
      "cell_type": "code",
      "metadata": {
        "id": "k9Uwu1cHQSvh"
      },
      "source": [
        "best_gbc = grid_search.best_estimator_"
      ],
      "execution_count": null,
      "outputs": []
    },
    {
      "cell_type": "code",
      "metadata": {
        "id": "K4yscAKMQSvj",
        "colab": {
          "base_uri": "https://localhost:8080/"
        },
        "outputId": "a743591c-37bc-47d5-eb60-30b85f46aa28"
      },
      "source": [
        "best_gbc"
      ],
      "execution_count": null,
      "outputs": [
        {
          "output_type": "execute_result",
          "data": {
            "text/plain": [
              "GradientBoostingClassifier(ccp_alpha=0.0, criterion='friedman_mse', init=None,\n",
              "                           learning_rate=0.5, loss='deviance', max_depth=15,\n",
              "                           max_features='sqrt', max_leaf_nodes=None,\n",
              "                           min_impurity_decrease=0.0, min_impurity_split=None,\n",
              "                           min_samples_leaf=2, min_samples_split=50,\n",
              "                           min_weight_fraction_leaf=0.0, n_estimators=800,\n",
              "                           n_iter_no_change=None, presort='deprecated',\n",
              "                           random_state=8, subsample=1.0, tol=0.0001,\n",
              "                           validation_fraction=0.1, verbose=0,\n",
              "                           warm_start=False)"
            ]
          },
          "metadata": {
            "tags": []
          },
          "execution_count": 75
        }
      ]
    },
    {
      "cell_type": "markdown",
      "metadata": {
        "id": "cNUY5WhWQSvl"
      },
      "source": [
        "We now know the best gradient boosting model. Let's fit it and see how it performs:"
      ]
    },
    {
      "cell_type": "markdown",
      "metadata": {
        "id": "Y7H_s9H_QSvm"
      },
      "source": [
        "#### **4.1.6 Model fit and performance**"
      ]
    },
    {
      "cell_type": "markdown",
      "metadata": {
        "id": "nw9LYDtDQSvm"
      },
      "source": [
        "Now, we can fit the model to our training data:"
      ]
    },
    {
      "cell_type": "code",
      "metadata": {
        "id": "GFO18qEKQSvm",
        "colab": {
          "base_uri": "https://localhost:8080/"
        },
        "outputId": "f2f9f161-392c-4eb8-f906-55ae4693aedb"
      },
      "source": [
        "best_gbc.fit(X_train, y_train)"
      ],
      "execution_count": null,
      "outputs": [
        {
          "output_type": "stream",
          "text": [
            "/usr/local/lib/python3.7/dist-packages/sklearn/ensemble/_gb.py:1454: DataConversionWarning: A column-vector y was passed when a 1d array was expected. Please change the shape of y to (n_samples, ), for example using ravel().\n",
            "  y = column_or_1d(y, warn=True)\n"
          ],
          "name": "stderr"
        },
        {
          "output_type": "execute_result",
          "data": {
            "text/plain": [
              "GradientBoostingClassifier(ccp_alpha=0.0, criterion='friedman_mse', init=None,\n",
              "                           learning_rate=0.5, loss='deviance', max_depth=15,\n",
              "                           max_features='sqrt', max_leaf_nodes=None,\n",
              "                           min_impurity_decrease=0.0, min_impurity_split=None,\n",
              "                           min_samples_leaf=2, min_samples_split=50,\n",
              "                           min_weight_fraction_leaf=0.0, n_estimators=800,\n",
              "                           n_iter_no_change=None, presort='deprecated',\n",
              "                           random_state=8, subsample=1.0, tol=0.0001,\n",
              "                           validation_fraction=0.1, verbose=0,\n",
              "                           warm_start=False)"
            ]
          },
          "metadata": {
            "tags": []
          },
          "execution_count": 76
        }
      ]
    },
    {
      "cell_type": "markdown",
      "metadata": {
        "id": "81x94XNnQSvo"
      },
      "source": [
        "And get the predictions:"
      ]
    },
    {
      "cell_type": "code",
      "metadata": {
        "id": "mUvac0_1QSvp"
      },
      "source": [
        "gbc_pred = best_gbc.predict(X_test)"
      ],
      "execution_count": null,
      "outputs": []
    },
    {
      "cell_type": "markdown",
      "metadata": {
        "id": "mVLxE-pwQSvr"
      },
      "source": [
        "For performance analysis, we will use the confusion matrix, the classification report and the accuracy on both training and test data:"
      ]
    },
    {
      "cell_type": "markdown",
      "metadata": {
        "id": "ZOQBfXIiQSvs"
      },
      "source": [
        "#### **4.1.7 Training accuracy**"
      ]
    },
    {
      "cell_type": "markdown",
      "metadata": {
        "id": "B56pz0G0Vhzi"
      },
      "source": [
        "The sklearn.metrics module implements several loss, score, and utility functions to measure classification performance. Let's see the most interesting"
      ]
    },
    {
      "cell_type": "code",
      "metadata": {
        "id": "q0QOJ1gxQSvs",
        "colab": {
          "base_uri": "https://localhost:8080/"
        },
        "outputId": "98dd5763-5fec-4579-9414-c90a8bad6fdf"
      },
      "source": [
        "print(\"The training accuracy is: \")\n",
        "print(accuracy_score(y_train, best_gbc.predict(X_train)))"
      ],
      "execution_count": null,
      "outputs": [
        {
          "output_type": "stream",
          "text": [
            "The training accuracy is: \n",
            "0.9849246231155779\n"
          ],
          "name": "stdout"
        }
      ]
    },
    {
      "cell_type": "markdown",
      "metadata": {
        "id": "UrzDjSuIQSvu"
      },
      "source": [
        "#### **4.1.8 Test accuracy**"
      ]
    },
    {
      "cell_type": "code",
      "metadata": {
        "id": "i0ELIv42QSvu",
        "colab": {
          "base_uri": "https://localhost:8080/"
        },
        "outputId": "78dc7806-c99b-46c4-d2b0-6733ff10b12e"
      },
      "source": [
        "print(\"The test accuracy is: \")\n",
        "print(accuracy_score(y_test, gbc_pred))"
      ],
      "execution_count": null,
      "outputs": [
        {
          "output_type": "stream",
          "text": [
            "The test accuracy is: \n",
            "0.64\n"
          ],
          "name": "stdout"
        }
      ]
    },
    {
      "cell_type": "markdown",
      "metadata": {
        "id": "2OlQevK_QSvw"
      },
      "source": [
        "#### **4.1.9 Classification report**"
      ]
    },
    {
      "cell_type": "code",
      "metadata": {
        "id": "lIFYrnM7QSvw",
        "colab": {
          "base_uri": "https://localhost:8080/"
        },
        "outputId": "78f9af11-addd-4962-9648-43d081e2fd06"
      },
      "source": [
        "print(\"Classification report\")\n",
        "print(classification_report(y_test,gbc_pred))"
      ],
      "execution_count": null,
      "outputs": [
        {
          "output_type": "stream",
          "text": [
            "Classification report\n",
            "              precision    recall  f1-score   support\n",
            "\n",
            "           0       0.64      0.78      0.70        27\n",
            "           1       0.65      0.48      0.55        23\n",
            "\n",
            "    accuracy                           0.64        50\n",
            "   macro avg       0.64      0.63      0.62        50\n",
            "weighted avg       0.64      0.64      0.63        50\n",
            "\n"
          ],
          "name": "stdout"
        }
      ]
    },
    {
      "cell_type": "markdown",
      "metadata": {
        "id": "Fx2wnQZ9QSvy"
      },
      "source": [
        "#### **4.1.10 Confusion matrix**\n",
        "\n",
        "A confusion matrix, also known as an error matrix, is a specific table layout that allows visualization of the performance of an algorithm, typically a supervised learning one.\n"
      ]
    },
    {
      "cell_type": "code",
      "metadata": {
        "id": "yDNc50WFQSvz",
        "colab": {
          "base_uri": "https://localhost:8080/",
          "height": 410
        },
        "outputId": "9987991b-8e05-4688-ced8-70844c67b722"
      },
      "source": [
        "conf_matrix = confusion_matrix(y_test, gbc_pred)\n",
        "plt.figure(figsize=(12.8,6))\n",
        "sns.heatmap(conf_matrix, \n",
        "            annot=True,\n",
        "            cmap=\"Blues\")\n",
        "plt.ylabel('Predicted')\n",
        "plt.xlabel('Actual')\n",
        "plt.title('Confusion matrix')\n",
        "plt.show()\n"
      ],
      "execution_count": null,
      "outputs": [
        {
          "output_type": "display_data",
          "data": {
            "image/png": "[encoded data removed]",
            "text/plain": [
              "<Figure size 921.6x432 with 2 Axes>"
            ]
          },
          "metadata": {
            "tags": []
          }
        }
      ]
    },
    {
      "cell_type": "markdown",
      "metadata": {
        "id": "ekhCfPIQQSv0"
      },
      "source": [
        "Let's see if the hyperparameter tuning process has returned a better model:"
      ]
    },
    {
      "cell_type": "code",
      "metadata": {
        "id": "h1w_DYQmQSv1",
        "colab": {
          "base_uri": "https://localhost:8080/"
        },
        "outputId": "4157b9fa-1308-4ec2-968a-eb192bb813da"
      },
      "source": [
        "base_model = GradientBoostingClassifier(random_state = 8)\n",
        "base_model.fit(X_train, y_train)\n",
        "accuracy_score(y_test, base_model.predict(X_test))"
      ],
      "execution_count": null,
      "outputs": [
        {
          "output_type": "stream",
          "text": [
            "/usr/local/lib/python3.7/dist-packages/sklearn/ensemble/_gb.py:1454: DataConversionWarning: A column-vector y was passed when a 1d array was expected. Please change the shape of y to (n_samples, ), for example using ravel().\n",
            "  y = column_or_1d(y, warn=True)\n"
          ],
          "name": "stderr"
        },
        {
          "output_type": "execute_result",
          "data": {
            "text/plain": [
              "0.46"
            ]
          },
          "metadata": {
            "tags": []
          },
          "execution_count": 82
        }
      ]
    },
    {
      "cell_type": "code",
      "metadata": {
        "id": "9kiIyoCBQSv2",
        "colab": {
          "base_uri": "https://localhost:8080/"
        },
        "outputId": "12f8f985-9442-45bf-b56f-29b24c1bfe92"
      },
      "source": [
        "best_gbc.fit(X_train, y_train)\n",
        "accuracy_score(y_test, best_gbc.predict(X_test))"
      ],
      "execution_count": null,
      "outputs": [
        {
          "output_type": "stream",
          "text": [
            "/usr/local/lib/python3.7/dist-packages/sklearn/ensemble/_gb.py:1454: DataConversionWarning: A column-vector y was passed when a 1d array was expected. Please change the shape of y to (n_samples, ), for example using ravel().\n",
            "  y = column_or_1d(y, warn=True)\n"
          ],
          "name": "stderr"
        },
        {
          "output_type": "execute_result",
          "data": {
            "text/plain": [
              "0.64"
            ]
          },
          "metadata": {
            "tags": []
          },
          "execution_count": 83
        }
      ]
    },
    {
      "cell_type": "markdown",
      "metadata": {
        "id": "VHYRqhzHyGFZ"
      },
      "source": [
        "#### **4.1.11 Save the results into a Dataframe for later comparison**"
      ]
    },
    {
      "cell_type": "markdown",
      "metadata": {
        "id": "ZdvDAVwQQSv5"
      },
      "source": [
        "We'll create a dataset with a model summary to compare models:"
      ]
    },
    {
      "cell_type": "code",
      "metadata": {
        "id": "76cW4-JYQSv5"
      },
      "source": [
        "d = {\n",
        "     'Model': 'Gradient Boosting',\n",
        "     'Training Set Accuracy': accuracy_score(y_train, best_gbc.predict(X_train)),\n",
        "     'Test Set Accuracy': accuracy_score(y_test, gbc_pred)\n",
        "}\n",
        "\n",
        "df_models_gbc = pd.DataFrame(d, index=[0])"
      ],
      "execution_count": null,
      "outputs": []
    },
    {
      "cell_type": "code",
      "metadata": {
        "id": "4t71AjtWQSv6",
        "colab": {
          "base_uri": "https://localhost:8080/",
          "height": 80
        },
        "outputId": "53c5a44f-18bf-4bfe-a8b4-0a1e3ddcb4cd"
      },
      "source": [
        "df_models_gbc"
      ],
      "execution_count": null,
      "outputs": [
        {
          "output_type": "execute_result",
          "data": {
            "text/html": [
              "<div>\n",
              "<style scoped>\n",
              "    .dataframe tbody tr th:only-of-type {\n",
              "        vertical-align: middle;\n",
              "    }\n",
              "\n",
              "    .dataframe tbody tr th {\n",
              "        vertical-align: top;\n",
              "    }\n",
              "\n",
              "    .dataframe thead th {\n",
              "        text-align: right;\n",
              "    }\n",
              "</style>\n",
              "<table border=\"1\" class=\"dataframe\">\n",
              "  <thead>\n",
              "    <tr style=\"text-align: right;\">\n",
              "      <th></th>\n",
              "      <th>Model</th>\n",
              "      <th>Training Set Accuracy</th>\n",
              "      <th>Test Set Accuracy</th>\n",
              "    </tr>\n",
              "  </thead>\n",
              "  <tbody>\n",
              "    <tr>\n",
              "      <th>0</th>\n",
              "      <td>Gradient Boosting</td>\n",
              "      <td>0.984925</td>\n",
              "      <td>0.64</td>\n",
              "    </tr>\n",
              "  </tbody>\n",
              "</table>\n",
              "</div>"
            ],
            "text/plain": [
              "               Model  Training Set Accuracy  Test Set Accuracy\n",
              "0  Gradient Boosting               0.984925               0.64"
            ]
          },
          "metadata": {
            "tags": []
          },
          "execution_count": 85
        }
      ]
    },
    {
      "cell_type": "markdown",
      "metadata": {
        "id": "ajx_YRAdQSv8"
      },
      "source": [
        "Let's save the model and this dataset:"
      ]
    },
    {
      "cell_type": "code",
      "metadata": {
        "id": "kQUBvzvtQSv9"
      },
      "source": [
        "# with open('best_gbc.pickle', 'wb') as output:\n",
        "#     pickle.dump(best_gbc, output)\n",
        "    \n",
        "# with open('df_models_gbc.pickle', 'wb') as output:\n",
        "#     pickle.dump(df_models_gbc, output)"
      ],
      "execution_count": null,
      "outputs": []
    },
    {
      "cell_type": "markdown",
      "metadata": {
        "id": "JWsFxvErizKj"
      },
      "source": [
        "### **4.2 Random_Forrest**\n"
      ]
    },
    {
      "cell_type": "markdown",
      "metadata": {
        "id": "hcSDM7SnizKm"
      },
      "source": [
        "#### **4.2.1 Concepts**"
      ]
    },
    {
      "cell_type": "markdown",
      "metadata": {
        "id": "cz2SfmdvizKm"
      },
      "source": [
        "Probably by now most of you now the concept of a decision tree, but just in case we will start we a quick review."
      ]
    },
    {
      "cell_type": "markdown",
      "metadata": {
        "id": "Ubnmm2iUizKn"
      },
      "source": [
        "##### __Decision tree__"
      ]
    },
    {
      "cell_type": "markdown",
      "metadata": {
        "id": "SLbuSoQGizKn"
      },
      "source": [
        "A decision tree is a simple prediction model in which we analyze the correlation between the parameters and the class, for example if we have a pet dataset like this:\n",
        "\n",
        "    weight   skin       colour       species\n",
        "    7        \"furr\"     \"brown\"      \"dog\"\n",
        "    3.8      \"furr\"     \"brown\"      \"cat\"\n",
        "    2        \"scales\"   \"white\"      \"snake\"\n",
        "    4.5      \"furr\"     \"brown\"      \"dog\"\n",
        "    1        \"furr\"     \"white\"      \"dog\"\n",
        "    4        \"furr\"     \"white\"      \"cat\"\n",
        "\n",
        "Skin = scales would have the biggest weight since in each case in which appears the clase is snake.\n",
        "\n",
        "Then we chose that condition and evaluate both cases when it's true the class will be snake, if is false we can't know so we will repeat the process.\n",
        "\n",
        "To create a decision tree in python we can do this (sklearn decision trees don't allow categorical values so we will change furr to 0, scales to 1, white to 0 and brown to one):\n"
      ]
    },
    {
      "cell_type": "code",
      "metadata": {
        "id": "RHD5QB3RizKp",
        "colab": {
          "base_uri": "https://localhost:8080/",
          "height": 442
        },
        "outputId": "b76a165c-d942-402a-9a8e-e62eac089653"
      },
      "source": [
        "pet_df = pd.DataFrame(\n",
        "    np.array([[7, 0, 1, \"dog\"], [3.8, 0, 1, \"cat\"], [2, 1, 0, \"snake\"], [4.5, 0, 1, \"dog\"], [1, 0, 0, \"dog\"], [4, 0, 0, \"cat\"]]\n",
        "             ), columns=[\"weight\", \"skin\", \"colour\", \"species\"])\n",
        "\n",
        "\n",
        "pet_df.skin = pet_df.skin.astype(\"category\")\n",
        "pet_df.colour = pet_df.colour.astype(\"category\")\n",
        "\n",
        "pet_X = pet_df.drop([\"species\"], axis=1)\n",
        "pet_y = pet_df.species\n",
        "\n",
        "\n",
        "\n",
        "pet_tree = tree.DecisionTreeClassifier(random_state=8)\n",
        "pet_tree = pet_tree.fit(pet_X, pet_y)\n",
        "\n",
        "plt.figure(figsize = (12,5))\n",
        "tree.plot_tree(pet_tree, filled=\"true\", rounded=\"true\", feature_names=pet_X.columns,  class_names=[\"cat\", \"dog\", \"snake\"])"
      ],
      "execution_count": null,
      "outputs": [
        {
          "output_type": "execute_result",
          "data": {
            "text/plain": [
              "[Text(446.40000000000003, 237.82500000000002, 'skin <= 0.5\\ngini = 0.611\\nsamples = 6\\nvalue = [2, 3, 1]\\nclass = dog'),\n",
              " Text(334.8, 169.875, 'weight <= 4.25\\ngini = 0.48\\nsamples = 5\\nvalue = [2, 3, 0]\\nclass = dog'),\n",
              " Text(223.20000000000002, 101.92500000000001, 'weight <= 2.4\\ngini = 0.444\\nsamples = 3\\nvalue = [2, 1, 0]\\nclass = cat'),\n",
              " Text(111.60000000000001, 33.974999999999994, 'gini = 0.0\\nsamples = 1\\nvalue = [0, 1, 0]\\nclass = dog'),\n",
              " Text(334.8, 33.974999999999994, 'gini = 0.0\\nsamples = 2\\nvalue = [2, 0, 0]\\nclass = cat'),\n",
              " Text(446.40000000000003, 101.92500000000001, 'gini = 0.0\\nsamples = 2\\nvalue = [0, 2, 0]\\nclass = dog'),\n",
              " Text(558.0, 169.875, 'gini = 0.0\\nsamples = 1\\nvalue = [0, 0, 1]\\nclass = snake')]"
            ]
          },
          "metadata": {
            "tags": []
          },
          "execution_count": 87
        },
        {
          "output_type": "display_data",
          "data": {
            "image/png": "[encoded data removed]",
            "text/plain": [
              "<Figure size 864x360 with 1 Axes>"
            ]
          },
          "metadata": {
            "tags": []
          }
        }
      ]
    },
    {
      "cell_type": "markdown",
      "metadata": {
        "id": "syEdYlLkizKr"
      },
      "source": [
        "Notice that we go to the left box when the condition is satisfied and to the right one when it isn't. Notice to that sklearn tree won't recognize categorical values so they are treated like numeric, but when there is one two possible values this is equivalent since the condition becomes <= 0.5 which is the same than divide the cases by category 0 or category 1, if we have a tree with more than two options for a categorical value we need to find a method to convert any possible values to zeros or ones (you can cheek \"one hot encoding\")."
      ]
    },
    {
      "cell_type": "markdown",
      "metadata": {
        "id": "HtJB_XuBizKr"
      },
      "source": [
        "##### __Random forest__\n",
        "The biggest problem with random tree is that this tend to overfit since the values that are check first can be quite arbitrary, random forest are disigned to fixt this isue.\n",
        "\n",
        "A random forest is, in a nut shell, a bootstrap aggregation of decision trees, what this means is that we create a certain number of trees each one with from a random subset of te data, then when we want to clasify a new value we'll try with every tree and we will asigne it the class suggest by most.\n",
        "\n",
        "![](https://drive.google.com/uc?export=view&id=1anEe5fjGGsM5c0JifdBi8sYAW1Rq6gv4)\n"
      ]
    },
    {
      "cell_type": "markdown",
      "metadata": {
        "id": "vf0FFTFNizLA"
      },
      "source": [
        "#### **4.2.2 Training the model**"
      ]
    },
    {
      "cell_type": "markdown",
      "metadata": {
        "id": "Mxs3eMplmbEP"
      },
      "source": [
        "As we have done with the previous method, it is necessary initialise hyperparameters."
      ]
    },
    {
      "cell_type": "code",
      "metadata": {
        "id": "R_PQHlgCizLB"
      },
      "source": [
        "r = random.Random()\n",
        "lim_unigram = 5000\n",
        "target_size = 4\n",
        "hidden_size = 100\n",
        "train_keep_prob = 0.6\n",
        "l2_alpha = 0.00001\n",
        "learn_rate = 0.01\n",
        "clip_ratio = 5\n",
        "batch_size_train = 500\n",
        "epochs = 90"
      ],
      "execution_count": null,
      "outputs": []
    },
    {
      "cell_type": "markdown",
      "metadata": {
        "id": "JK3hqO6cizLE"
      },
      "source": [
        "#### **4.2.3 Cross-Validation for Hyperparameter tuning**"
      ]
    },
    {
      "cell_type": "markdown",
      "metadata": {
        "id": "vlUhmvdspk7y"
      },
      "source": [
        "We do the same process as we did with the gradient boosting machine fot the hyperparameter tuning. "
      ]
    },
    {
      "cell_type": "markdown",
      "metadata": {
        "id": "qx3BqsEZizLE"
      },
      "source": [
        "First, we can see what hyperparameters the model has:\n",
        "\n"
      ]
    },
    {
      "cell_type": "code",
      "metadata": {
        "id": "-4e7xm7zizLE",
        "colab": {
          "base_uri": "https://localhost:8080/"
        },
        "outputId": "3d36df5d-f27d-4cb7-d251-72b255b8b190"
      },
      "source": [
        "rf_0 = RandomForestClassifier(random_state = 8)\n",
        "\n",
        "print('Parameters currently in use:\\n')\n",
        "pprint(rf_0.get_params())"
      ],
      "execution_count": null,
      "outputs": [
        {
          "output_type": "stream",
          "text": [
            "Parameters currently in use:\n",
            "\n",
            "{'bootstrap': True,\n",
            " 'ccp_alpha': 0.0,\n",
            " 'class_weight': None,\n",
            " 'criterion': 'gini',\n",
            " 'max_depth': None,\n",
            " 'max_features': 'auto',\n",
            " 'max_leaf_nodes': None,\n",
            " 'max_samples': None,\n",
            " 'min_impurity_decrease': 0.0,\n",
            " 'min_impurity_split': None,\n",
            " 'min_samples_leaf': 1,\n",
            " 'min_samples_split': 2,\n",
            " 'min_weight_fraction_leaf': 0.0,\n",
            " 'n_estimators': 100,\n",
            " 'n_jobs': None,\n",
            " 'oob_score': False,\n",
            " 'random_state': 8,\n",
            " 'verbose': 0,\n",
            " 'warm_start': False}\n"
          ],
          "name": "stdout"
        }
      ]
    },
    {
      "cell_type": "markdown",
      "metadata": {
        "id": "ybM_6ncBoRMf"
      },
      "source": [
        "We'll tune the following ones:\n",
        "\n",
        "Tree-related hyperparameters:\n",
        "* `n_estimators` = number of trees in the forest.\n",
        "* `max_features` = max number of features considered for splitting a node\n",
        "* `max_depth` = max number of levels in each decision tree\n",
        "* `min_samples_split` = min number of data points placed in a node before the node is split\n",
        "* `min_samples_leaf` = min number of data points allowed in a leaf node\n"
      ]
    },
    {
      "cell_type": "markdown",
      "metadata": {
        "id": "s7yuHAlmizLF"
      },
      "source": [
        "\n",
        "We first need to define the grid. Since we have a huge amount of hyperparameters, we'll try few values for each one."
      ]
    },
    {
      "cell_type": "code",
      "metadata": {
        "id": "arzXCMN3izLF",
        "colab": {
          "base_uri": "https://localhost:8080/"
        },
        "outputId": "0f205645-57be-42e9-c2ba-ed211b5f8f5a"
      },
      "source": [
        "n_estimators = [int(x) for x in np.linspace(start = 200, stop = 1000, num = 5)]\n",
        "max_features = ['auto', 'sqrt']\n",
        "max_depth = [int(x) for x in np.linspace(20, 100, num = 5)]\n",
        "max_depth.append(None)\n",
        "min_samples_split = [2, 5, 10]\n",
        "min_samples_leaf = [1, 2, 4]\n",
        "\n",
        "bootstrap = [True, False]\n",
        "\n",
        "random_grid = {'n_estimators': n_estimators,\n",
        "               'max_features': max_features,\n",
        "               'max_depth': max_depth,\n",
        "               'min_samples_split': min_samples_split,\n",
        "               'min_samples_leaf': min_samples_leaf,\n",
        "               'bootstrap': bootstrap}\n",
        "\n",
        "pprint(random_grid)"
      ],
      "execution_count": null,
      "outputs": [
        {
          "output_type": "stream",
          "text": [
            "{'bootstrap': [True, False],\n",
            " 'max_depth': [20, 40, 60, 80, 100, None],\n",
            " 'max_features': ['auto', 'sqrt'],\n",
            " 'min_samples_leaf': [1, 2, 4],\n",
            " 'min_samples_split': [2, 5, 10],\n",
            " 'n_estimators': [200, 400, 600, 800, 1000]}\n"
          ],
          "name": "stdout"
        }
      ]
    },
    {
      "cell_type": "markdown",
      "metadata": {
        "id": "HVSAxrQ2izLF"
      },
      "source": [
        "The forest could be more accurate with or without bootstrap, with more or less deept... so we will cheeck the diferent posibilities with a RandomForestClassifier, this has the next parameters.\n",
        "\n",
        "* `param_distributions:` the parameters we want to cheeck\n",
        "\n",
        "* `n_iter:` number of iterations in witch we check diferent parameter combinations\n",
        "\n",
        "* `scoring:` scoring method\n",
        "\n",
        "* `cv:` (cross validation) number of folds\n",
        "\n",
        "* `verbose:` verbosity on fitting and predicting\n",
        "\n",
        "* `random_state:` randomness seed\n",
        "\n",
        "`n_iter` and `cv` are the most significant in execution time but are also the mores significant to find better results."
      ]
    },
    {
      "cell_type": "markdown",
      "metadata": {
        "id": "6cJX6AUnizLF"
      },
      "source": [
        "#### **4.2.4 Randomized Search Cross Validation**"
      ]
    },
    {
      "cell_type": "markdown",
      "metadata": {
        "id": "5QemMswNpZbf"
      },
      "source": [
        "We'll perform the Random Search with the Scikit Learn method RandomizedSearchCV."
      ]
    },
    {
      "cell_type": "code",
      "metadata": {
        "id": "tcOg3cPlizLG",
        "colab": {
          "base_uri": "https://localhost:8080/"
        },
        "outputId": "61daf6a7-f655-461d-d804-fbc9576ed577"
      },
      "source": [
        "rfc = RandomForestClassifier(random_state=8)\n",
        "\n",
        "random_search = RandomizedSearchCV(estimator=rfc,\n",
        "                                   param_distributions=random_grid,\n",
        "                                   n_iter=10,\n",
        "                                   scoring='accuracy',\n",
        "                                   cv=3, \n",
        "                                   verbose=1, \n",
        "                                   random_state=8)\n",
        "\n",
        "random_search.fit(X_train, y_train)"
      ],
      "execution_count": null,
      "outputs": [
        {
          "output_type": "stream",
          "text": [
            "Fitting 3 folds for each of 10 candidates, totalling 30 fits\n"
          ],
          "name": "stdout"
        },
        {
          "output_type": "stream",
          "text": [
            "[Parallel(n_jobs=1)]: Using backend SequentialBackend with 1 concurrent workers.\n",
            "/usr/local/lib/python3.7/dist-packages/sklearn/model_selection/_validation.py:515: DataConversionWarning: A column-vector y was passed when a 1d array was expected. Please change the shape of y to (n_samples,), for example using ravel().\n",
            "  estimator.fit(X_train, y_train, **fit_params)\n",
            "/usr/local/lib/python3.7/dist-packages/sklearn/model_selection/_validation.py:515: DataConversionWarning: A column-vector y was passed when a 1d array was expected. Please change the shape of y to (n_samples,), for example using ravel().\n",
            "  estimator.fit(X_train, y_train, **fit_params)\n",
            "/usr/local/lib/python3.7/dist-packages/sklearn/model_selection/_validation.py:515: DataConversionWarning: A column-vector y was passed when a 1d array was expected. Please change the shape of y to (n_samples,), for example using ravel().\n",
            "  estimator.fit(X_train, y_train, **fit_params)\n",
            "/usr/local/lib/python3.7/dist-packages/sklearn/model_selection/_validation.py:515: DataConversionWarning: A column-vector y was passed when a 1d array was expected. Please change the shape of y to (n_samples,), for example using ravel().\n",
            "  estimator.fit(X_train, y_train, **fit_params)\n",
            "/usr/local/lib/python3.7/dist-packages/sklearn/model_selection/_validation.py:515: DataConversionWarning: A column-vector y was passed when a 1d array was expected. Please change the shape of y to (n_samples,), for example using ravel().\n",
            "  estimator.fit(X_train, y_train, **fit_params)\n",
            "/usr/local/lib/python3.7/dist-packages/sklearn/model_selection/_validation.py:515: DataConversionWarning: A column-vector y was passed when a 1d array was expected. Please change the shape of y to (n_samples,), for example using ravel().\n",
            "  estimator.fit(X_train, y_train, **fit_params)\n",
            "/usr/local/lib/python3.7/dist-packages/sklearn/model_selection/_validation.py:515: DataConversionWarning: A column-vector y was passed when a 1d array was expected. Please change the shape of y to (n_samples,), for example using ravel().\n",
            "  estimator.fit(X_train, y_train, **fit_params)\n",
            "/usr/local/lib/python3.7/dist-packages/sklearn/model_selection/_validation.py:515: DataConversionWarning: A column-vector y was passed when a 1d array was expected. Please change the shape of y to (n_samples,), for example using ravel().\n",
            "  estimator.fit(X_train, y_train, **fit_params)\n",
            "/usr/local/lib/python3.7/dist-packages/sklearn/model_selection/_validation.py:515: DataConversionWarning: A column-vector y was passed when a 1d array was expected. Please change the shape of y to (n_samples,), for example using ravel().\n",
            "  estimator.fit(X_train, y_train, **fit_params)\n",
            "/usr/local/lib/python3.7/dist-packages/sklearn/model_selection/_validation.py:515: DataConversionWarning: A column-vector y was passed when a 1d array was expected. Please change the shape of y to (n_samples,), for example using ravel().\n",
            "  estimator.fit(X_train, y_train, **fit_params)\n",
            "/usr/local/lib/python3.7/dist-packages/sklearn/model_selection/_validation.py:515: DataConversionWarning: A column-vector y was passed when a 1d array was expected. Please change the shape of y to (n_samples,), for example using ravel().\n",
            "  estimator.fit(X_train, y_train, **fit_params)\n",
            "/usr/local/lib/python3.7/dist-packages/sklearn/model_selection/_validation.py:515: DataConversionWarning: A column-vector y was passed when a 1d array was expected. Please change the shape of y to (n_samples,), for example using ravel().\n",
            "  estimator.fit(X_train, y_train, **fit_params)\n",
            "/usr/local/lib/python3.7/dist-packages/sklearn/model_selection/_validation.py:515: DataConversionWarning: A column-vector y was passed when a 1d array was expected. Please change the shape of y to (n_samples,), for example using ravel().\n",
            "  estimator.fit(X_train, y_train, **fit_params)\n",
            "/usr/local/lib/python3.7/dist-packages/sklearn/model_selection/_validation.py:515: DataConversionWarning: A column-vector y was passed when a 1d array was expected. Please change the shape of y to (n_samples,), for example using ravel().\n",
            "  estimator.fit(X_train, y_train, **fit_params)\n",
            "/usr/local/lib/python3.7/dist-packages/sklearn/model_selection/_validation.py:515: DataConversionWarning: A column-vector y was passed when a 1d array was expected. Please change the shape of y to (n_samples,), for example using ravel().\n",
            "  estimator.fit(X_train, y_train, **fit_params)\n",
            "/usr/local/lib/python3.7/dist-packages/sklearn/model_selection/_validation.py:515: DataConversionWarning: A column-vector y was passed when a 1d array was expected. Please change the shape of y to (n_samples,), for example using ravel().\n",
            "  estimator.fit(X_train, y_train, **fit_params)\n",
            "/usr/local/lib/python3.7/dist-packages/sklearn/model_selection/_validation.py:515: DataConversionWarning: A column-vector y was passed when a 1d array was expected. Please change the shape of y to (n_samples,), for example using ravel().\n",
            "  estimator.fit(X_train, y_train, **fit_params)\n",
            "/usr/local/lib/python3.7/dist-packages/sklearn/model_selection/_validation.py:515: DataConversionWarning: A column-vector y was passed when a 1d array was expected. Please change the shape of y to (n_samples,), for example using ravel().\n",
            "  estimator.fit(X_train, y_train, **fit_params)\n",
            "/usr/local/lib/python3.7/dist-packages/sklearn/model_selection/_validation.py:515: DataConversionWarning: A column-vector y was passed when a 1d array was expected. Please change the shape of y to (n_samples,), for example using ravel().\n",
            "  estimator.fit(X_train, y_train, **fit_params)\n",
            "/usr/local/lib/python3.7/dist-packages/sklearn/model_selection/_validation.py:515: DataConversionWarning: A column-vector y was passed when a 1d array was expected. Please change the shape of y to (n_samples,), for example using ravel().\n",
            "  estimator.fit(X_train, y_train, **fit_params)\n",
            "/usr/local/lib/python3.7/dist-packages/sklearn/model_selection/_validation.py:515: DataConversionWarning: A column-vector y was passed when a 1d array was expected. Please change the shape of y to (n_samples,), for example using ravel().\n",
            "  estimator.fit(X_train, y_train, **fit_params)\n",
            "/usr/local/lib/python3.7/dist-packages/sklearn/model_selection/_validation.py:515: DataConversionWarning: A column-vector y was passed when a 1d array was expected. Please change the shape of y to (n_samples,), for example using ravel().\n",
            "  estimator.fit(X_train, y_train, **fit_params)\n",
            "/usr/local/lib/python3.7/dist-packages/sklearn/model_selection/_validation.py:515: DataConversionWarning: A column-vector y was passed when a 1d array was expected. Please change the shape of y to (n_samples,), for example using ravel().\n",
            "  estimator.fit(X_train, y_train, **fit_params)\n",
            "/usr/local/lib/python3.7/dist-packages/sklearn/model_selection/_validation.py:515: DataConversionWarning: A column-vector y was passed when a 1d array was expected. Please change the shape of y to (n_samples,), for example using ravel().\n",
            "  estimator.fit(X_train, y_train, **fit_params)\n",
            "/usr/local/lib/python3.7/dist-packages/sklearn/model_selection/_validation.py:515: DataConversionWarning: A column-vector y was passed when a 1d array was expected. Please change the shape of y to (n_samples,), for example using ravel().\n",
            "  estimator.fit(X_train, y_train, **fit_params)\n",
            "/usr/local/lib/python3.7/dist-packages/sklearn/model_selection/_validation.py:515: DataConversionWarning: A column-vector y was passed when a 1d array was expected. Please change the shape of y to (n_samples,), for example using ravel().\n",
            "  estimator.fit(X_train, y_train, **fit_params)\n",
            "/usr/local/lib/python3.7/dist-packages/sklearn/model_selection/_validation.py:515: DataConversionWarning: A column-vector y was passed when a 1d array was expected. Please change the shape of y to (n_samples,), for example using ravel().\n",
            "  estimator.fit(X_train, y_train, **fit_params)\n",
            "/usr/local/lib/python3.7/dist-packages/sklearn/model_selection/_validation.py:515: DataConversionWarning: A column-vector y was passed when a 1d array was expected. Please change the shape of y to (n_samples,), for example using ravel().\n",
            "  estimator.fit(X_train, y_train, **fit_params)\n",
            "/usr/local/lib/python3.7/dist-packages/sklearn/model_selection/_validation.py:515: DataConversionWarning: A column-vector y was passed when a 1d array was expected. Please change the shape of y to (n_samples,), for example using ravel().\n",
            "  estimator.fit(X_train, y_train, **fit_params)\n",
            "/usr/local/lib/python3.7/dist-packages/sklearn/model_selection/_validation.py:515: DataConversionWarning: A column-vector y was passed when a 1d array was expected. Please change the shape of y to (n_samples,), for example using ravel().\n",
            "  estimator.fit(X_train, y_train, **fit_params)\n",
            "[Parallel(n_jobs=1)]: Done  30 out of  30 | elapsed:   28.6s finished\n",
            "/usr/local/lib/python3.7/dist-packages/sklearn/model_selection/_search.py:739: DataConversionWarning: A column-vector y was passed when a 1d array was expected. Please change the shape of y to (n_samples,), for example using ravel().\n",
            "  self.best_estimator_.fit(X, y, **fit_params)\n"
          ],
          "name": "stderr"
        },
        {
          "output_type": "execute_result",
          "data": {
            "text/plain": [
              "RandomizedSearchCV(cv=3, error_score=nan,\n",
              "                   estimator=RandomForestClassifier(bootstrap=True,\n",
              "                                                    ccp_alpha=0.0,\n",
              "                                                    class_weight=None,\n",
              "                                                    criterion='gini',\n",
              "                                                    max_depth=None,\n",
              "                                                    max_features='auto',\n",
              "                                                    max_leaf_nodes=None,\n",
              "                                                    max_samples=None,\n",
              "                                                    min_impurity_decrease=0.0,\n",
              "                                                    min_impurity_split=None,\n",
              "                                                    min_samples_leaf=1,\n",
              "                                                    min_samples_split=2,\n",
              "                                                    min_weight_fraction_leaf=0.0,\n",
              "                                                    n_estimators=100,\n",
              "                                                    n_jobs...\n",
              "                   iid='deprecated', n_iter=10, n_jobs=None,\n",
              "                   param_distributions={'bootstrap': [True, False],\n",
              "                                        'max_depth': [20, 40, 60, 80, 100,\n",
              "                                                      None],\n",
              "                                        'max_features': ['auto', 'sqrt'],\n",
              "                                        'min_samples_leaf': [1, 2, 4],\n",
              "                                        'min_samples_split': [2, 5, 10],\n",
              "                                        'n_estimators': [200, 400, 600, 800,\n",
              "                                                         1000]},\n",
              "                   pre_dispatch='2*n_jobs', random_state=8, refit=True,\n",
              "                   return_train_score=False, scoring='accuracy', verbose=1)"
            ]
          },
          "metadata": {
            "tags": []
          },
          "execution_count": 91
        }
      ]
    },
    {
      "cell_type": "markdown",
      "metadata": {
        "id": "tp995hNMqhgm"
      },
      "source": [
        "We can see the best hyperparameters resulting from the Random Search:"
      ]
    },
    {
      "cell_type": "code",
      "metadata": {
        "id": "N3uVnWvoizLG",
        "colab": {
          "base_uri": "https://localhost:8080/"
        },
        "outputId": "23202ff4-3645-4e45-c48e-9729254fe1ae"
      },
      "source": [
        "print(\"The best hyperparameters from Random Search are:\")\n",
        "print(random_search.best_params_)\n",
        "print(\"\")\n",
        "print(\"The mean accuracy of a model with these hyperparameters is:\")\n",
        "print(random_search.best_score_)"
      ],
      "execution_count": null,
      "outputs": [
        {
          "output_type": "stream",
          "text": [
            "The best hyperparameters from Random Search are:\n",
            "{'n_estimators': 800, 'min_samples_split': 2, 'min_samples_leaf': 1, 'max_features': 'sqrt', 'max_depth': 20, 'bootstrap': True}\n",
            "\n",
            "The mean accuracy of a model with these hyperparameters is:\n",
            "0.5126639529624604\n"
          ],
          "name": "stdout"
        }
      ]
    },
    {
      "cell_type": "markdown",
      "metadata": {
        "id": "D1MDOdb6izLG"
      },
      "source": [
        "#### **4.2.5 Grid Search Cross Validation**"
      ]
    },
    {
      "cell_type": "markdown",
      "metadata": {
        "id": "IO-UX1ruqnEb"
      },
      "source": [
        " we'll perform the Grid Search with the Scikit Learn method GridSearchCV."
      ]
    },
    {
      "cell_type": "code",
      "metadata": {
        "id": "K1yW9jBnizLH",
        "colab": {
          "base_uri": "https://localhost:8080/"
        },
        "outputId": "1eae91f0-f0b9-40ec-fd8a-3c036f72bb2c"
      },
      "source": [
        "bootstrap = [False]\n",
        "max_depth = [30, 40, 50]\n",
        "max_features = ['sqrt']\n",
        "min_samples_leaf = [1, 2, 4]\n",
        "min_samples_split = [5, 10, 15]\n",
        "n_estimators = [800]\n",
        "\n",
        "param_grid = {\n",
        "    'bootstrap': bootstrap,\n",
        "    'max_depth': max_depth,\n",
        "    'max_features': max_features,\n",
        "    'min_samples_leaf': min_samples_leaf,\n",
        "    'min_samples_split': min_samples_split,\n",
        "    'n_estimators': n_estimators\n",
        "}\n",
        "\n",
        "rfc = RandomForestClassifier(random_state=8)\n",
        "\n",
        "cv_sets = ShuffleSplit(n_splits = 3, test_size = .33, random_state = 8)\n",
        "\n",
        "grid_search = GridSearchCV(estimator=rfc, \n",
        "                           param_grid=param_grid,\n",
        "                           scoring='accuracy',\n",
        "                           cv=cv_sets,\n",
        "                           verbose=1)\n",
        "\n",
        "grid_search.fit(X_train, y_train)"
      ],
      "execution_count": null,
      "outputs": [
        {
          "output_type": "stream",
          "text": [
            "Fitting 3 folds for each of 27 candidates, totalling 81 fits\n"
          ],
          "name": "stdout"
        },
        {
          "output_type": "stream",
          "text": [
            "[Parallel(n_jobs=1)]: Using backend SequentialBackend with 1 concurrent workers.\n",
            "/usr/local/lib/python3.7/dist-packages/sklearn/model_selection/_validation.py:515: DataConversionWarning: A column-vector y was passed when a 1d array was expected. Please change the shape of y to (n_samples,), for example using ravel().\n",
            "  estimator.fit(X_train, y_train, **fit_params)\n",
            "/usr/local/lib/python3.7/dist-packages/sklearn/model_selection/_validation.py:515: DataConversionWarning: A column-vector y was passed when a 1d array was expected. Please change the shape of y to (n_samples,), for example using ravel().\n",
            "  estimator.fit(X_train, y_train, **fit_params)\n",
            "/usr/local/lib/python3.7/dist-packages/sklearn/model_selection/_validation.py:515: DataConversionWarning: A column-vector y was passed when a 1d array was expected. Please change the shape of y to (n_samples,), for example using ravel().\n",
            "  estimator.fit(X_train, y_train, **fit_params)\n",
            "/usr/local/lib/python3.7/dist-packages/sklearn/model_selection/_validation.py:515: DataConversionWarning: A column-vector y was passed when a 1d array was expected. Please change the shape of y to (n_samples,), for example using ravel().\n",
            "  estimator.fit(X_train, y_train, **fit_params)\n",
            "/usr/local/lib/python3.7/dist-packages/sklearn/model_selection/_validation.py:515: DataConversionWarning: A column-vector y was passed when a 1d array was expected. Please change the shape of y to (n_samples,), for example using ravel().\n",
            "  estimator.fit(X_train, y_train, **fit_params)\n",
            "/usr/local/lib/python3.7/dist-packages/sklearn/model_selection/_validation.py:515: DataConversionWarning: A column-vector y was passed when a 1d array was expected. Please change the shape of y to (n_samples,), for example using ravel().\n",
            "  estimator.fit(X_train, y_train, **fit_params)\n",
            "/usr/local/lib/python3.7/dist-packages/sklearn/model_selection/_validation.py:515: DataConversionWarning: A column-vector y was passed when a 1d array was expected. Please change the shape of y to (n_samples,), for example using ravel().\n",
            "  estimator.fit(X_train, y_train, **fit_params)\n",
            "/usr/local/lib/python3.7/dist-packages/sklearn/model_selection/_validation.py:515: DataConversionWarning: A column-vector y was passed when a 1d array was expected. Please change the shape of y to (n_samples,), for example using ravel().\n",
            "  estimator.fit(X_train, y_train, **fit_params)\n",
            "/usr/local/lib/python3.7/dist-packages/sklearn/model_selection/_validation.py:515: DataConversionWarning: A column-vector y was passed when a 1d array was expected. Please change the shape of y to (n_samples,), for example using ravel().\n",
            "  estimator.fit(X_train, y_train, **fit_params)\n",
            "/usr/local/lib/python3.7/dist-packages/sklearn/model_selection/_validation.py:515: DataConversionWarning: A column-vector y was passed when a 1d array was expected. Please change the shape of y to (n_samples,), for example using ravel().\n",
            "  estimator.fit(X_train, y_train, **fit_params)\n",
            "/usr/local/lib/python3.7/dist-packages/sklearn/model_selection/_validation.py:515: DataConversionWarning: A column-vector y was passed when a 1d array was expected. Please change the shape of y to (n_samples,), for example using ravel().\n",
            "  estimator.fit(X_train, y_train, **fit_params)\n",
            "/usr/local/lib/python3.7/dist-packages/sklearn/model_selection/_validation.py:515: DataConversionWarning: A column-vector y was passed when a 1d array was expected. Please change the shape of y to (n_samples,), for example using ravel().\n",
            "  estimator.fit(X_train, y_train, **fit_params)\n",
            "/usr/local/lib/python3.7/dist-packages/sklearn/model_selection/_validation.py:515: DataConversionWarning: A column-vector y was passed when a 1d array was expected. Please change the shape of y to (n_samples,), for example using ravel().\n",
            "  estimator.fit(X_train, y_train, **fit_params)\n",
            "/usr/local/lib/python3.7/dist-packages/sklearn/model_selection/_validation.py:515: DataConversionWarning: A column-vector y was passed when a 1d array was expected. Please change the shape of y to (n_samples,), for example using ravel().\n",
            "  estimator.fit(X_train, y_train, **fit_params)\n",
            "/usr/local/lib/python3.7/dist-packages/sklearn/model_selection/_validation.py:515: DataConversionWarning: A column-vector y was passed when a 1d array was expected. Please change the shape of y to (n_samples,), for example using ravel().\n",
            "  estimator.fit(X_train, y_train, **fit_params)\n",
            "/usr/local/lib/python3.7/dist-packages/sklearn/model_selection/_validation.py:515: DataConversionWarning: A column-vector y was passed when a 1d array was expected. Please change the shape of y to (n_samples,), for example using ravel().\n",
            "  estimator.fit(X_train, y_train, **fit_params)\n",
            "/usr/local/lib/python3.7/dist-packages/sklearn/model_selection/_validation.py:515: DataConversionWarning: A column-vector y was passed when a 1d array was expected. Please change the shape of y to (n_samples,), for example using ravel().\n",
            "  estimator.fit(X_train, y_train, **fit_params)\n",
            "/usr/local/lib/python3.7/dist-packages/sklearn/model_selection/_validation.py:515: DataConversionWarning: A column-vector y was passed when a 1d array was expected. Please change the shape of y to (n_samples,), for example using ravel().\n",
            "  estimator.fit(X_train, y_train, **fit_params)\n",
            "/usr/local/lib/python3.7/dist-packages/sklearn/model_selection/_validation.py:515: DataConversionWarning: A column-vector y was passed when a 1d array was expected. Please change the shape of y to (n_samples,), for example using ravel().\n",
            "  estimator.fit(X_train, y_train, **fit_params)\n",
            "/usr/local/lib/python3.7/dist-packages/sklearn/model_selection/_validation.py:515: DataConversionWarning: A column-vector y was passed when a 1d array was expected. Please change the shape of y to (n_samples,), for example using ravel().\n",
            "  estimator.fit(X_train, y_train, **fit_params)\n",
            "/usr/local/lib/python3.7/dist-packages/sklearn/model_selection/_validation.py:515: DataConversionWarning: A column-vector y was passed when a 1d array was expected. Please change the shape of y to (n_samples,), for example using ravel().\n",
            "  estimator.fit(X_train, y_train, **fit_params)\n",
            "/usr/local/lib/python3.7/dist-packages/sklearn/model_selection/_validation.py:515: DataConversionWarning: A column-vector y was passed when a 1d array was expected. Please change the shape of y to (n_samples,), for example using ravel().\n",
            "  estimator.fit(X_train, y_train, **fit_params)\n",
            "/usr/local/lib/python3.7/dist-packages/sklearn/model_selection/_validation.py:515: DataConversionWarning: A column-vector y was passed when a 1d array was expected. Please change the shape of y to (n_samples,), for example using ravel().\n",
            "  estimator.fit(X_train, y_train, **fit_params)\n",
            "/usr/local/lib/python3.7/dist-packages/sklearn/model_selection/_validation.py:515: DataConversionWarning: A column-vector y was passed when a 1d array was expected. Please change the shape of y to (n_samples,), for example using ravel().\n",
            "  estimator.fit(X_train, y_train, **fit_params)\n",
            "/usr/local/lib/python3.7/dist-packages/sklearn/model_selection/_validation.py:515: DataConversionWarning: A column-vector y was passed when a 1d array was expected. Please change the shape of y to (n_samples,), for example using ravel().\n",
            "  estimator.fit(X_train, y_train, **fit_params)\n",
            "/usr/local/lib/python3.7/dist-packages/sklearn/model_selection/_validation.py:515: DataConversionWarning: A column-vector y was passed when a 1d array was expected. Please change the shape of y to (n_samples,), for example using ravel().\n",
            "  estimator.fit(X_train, y_train, **fit_params)\n",
            "/usr/local/lib/python3.7/dist-packages/sklearn/model_selection/_validation.py:515: DataConversionWarning: A column-vector y was passed when a 1d array was expected. Please change the shape of y to (n_samples,), for example using ravel().\n",
            "  estimator.fit(X_train, y_train, **fit_params)\n",
            "/usr/local/lib/python3.7/dist-packages/sklearn/model_selection/_validation.py:515: DataConversionWarning: A column-vector y was passed when a 1d array was expected. Please change the shape of y to (n_samples,), for example using ravel().\n",
            "  estimator.fit(X_train, y_train, **fit_params)\n",
            "/usr/local/lib/python3.7/dist-packages/sklearn/model_selection/_validation.py:515: DataConversionWarning: A column-vector y was passed when a 1d array was expected. Please change the shape of y to (n_samples,), for example using ravel().\n",
            "  estimator.fit(X_train, y_train, **fit_params)\n",
            "/usr/local/lib/python3.7/dist-packages/sklearn/model_selection/_validation.py:515: DataConversionWarning: A column-vector y was passed when a 1d array was expected. Please change the shape of y to (n_samples,), for example using ravel().\n",
            "  estimator.fit(X_train, y_train, **fit_params)\n",
            "/usr/local/lib/python3.7/dist-packages/sklearn/model_selection/_validation.py:515: DataConversionWarning: A column-vector y was passed when a 1d array was expected. Please change the shape of y to (n_samples,), for example using ravel().\n",
            "  estimator.fit(X_train, y_train, **fit_params)\n",
            "/usr/local/lib/python3.7/dist-packages/sklearn/model_selection/_validation.py:515: DataConversionWarning: A column-vector y was passed when a 1d array was expected. Please change the shape of y to (n_samples,), for example using ravel().\n",
            "  estimator.fit(X_train, y_train, **fit_params)\n",
            "/usr/local/lib/python3.7/dist-packages/sklearn/model_selection/_validation.py:515: DataConversionWarning: A column-vector y was passed when a 1d array was expected. Please change the shape of y to (n_samples,), for example using ravel().\n",
            "  estimator.fit(X_train, y_train, **fit_params)\n",
            "/usr/local/lib/python3.7/dist-packages/sklearn/model_selection/_validation.py:515: DataConversionWarning: A column-vector y was passed when a 1d array was expected. Please change the shape of y to (n_samples,), for example using ravel().\n",
            "  estimator.fit(X_train, y_train, **fit_params)\n",
            "/usr/local/lib/python3.7/dist-packages/sklearn/model_selection/_validation.py:515: DataConversionWarning: A column-vector y was passed when a 1d array was expected. Please change the shape of y to (n_samples,), for example using ravel().\n",
            "  estimator.fit(X_train, y_train, **fit_params)\n",
            "/usr/local/lib/python3.7/dist-packages/sklearn/model_selection/_validation.py:515: DataConversionWarning: A column-vector y was passed when a 1d array was expected. Please change the shape of y to (n_samples,), for example using ravel().\n",
            "  estimator.fit(X_train, y_train, **fit_params)\n",
            "/usr/local/lib/python3.7/dist-packages/sklearn/model_selection/_validation.py:515: DataConversionWarning: A column-vector y was passed when a 1d array was expected. Please change the shape of y to (n_samples,), for example using ravel().\n",
            "  estimator.fit(X_train, y_train, **fit_params)\n",
            "/usr/local/lib/python3.7/dist-packages/sklearn/model_selection/_validation.py:515: DataConversionWarning: A column-vector y was passed when a 1d array was expected. Please change the shape of y to (n_samples,), for example using ravel().\n",
            "  estimator.fit(X_train, y_train, **fit_params)\n",
            "/usr/local/lib/python3.7/dist-packages/sklearn/model_selection/_validation.py:515: DataConversionWarning: A column-vector y was passed when a 1d array was expected. Please change the shape of y to (n_samples,), for example using ravel().\n",
            "  estimator.fit(X_train, y_train, **fit_params)\n",
            "/usr/local/lib/python3.7/dist-packages/sklearn/model_selection/_validation.py:515: DataConversionWarning: A column-vector y was passed when a 1d array was expected. Please change the shape of y to (n_samples,), for example using ravel().\n",
            "  estimator.fit(X_train, y_train, **fit_params)\n",
            "/usr/local/lib/python3.7/dist-packages/sklearn/model_selection/_validation.py:515: DataConversionWarning: A column-vector y was passed when a 1d array was expected. Please change the shape of y to (n_samples,), for example using ravel().\n",
            "  estimator.fit(X_train, y_train, **fit_params)\n",
            "/usr/local/lib/python3.7/dist-packages/sklearn/model_selection/_validation.py:515: DataConversionWarning: A column-vector y was passed when a 1d array was expected. Please change the shape of y to (n_samples,), for example using ravel().\n",
            "  estimator.fit(X_train, y_train, **fit_params)\n",
            "/usr/local/lib/python3.7/dist-packages/sklearn/model_selection/_validation.py:515: DataConversionWarning: A column-vector y was passed when a 1d array was expected. Please change the shape of y to (n_samples,), for example using ravel().\n",
            "  estimator.fit(X_train, y_train, **fit_params)\n",
            "/usr/local/lib/python3.7/dist-packages/sklearn/model_selection/_validation.py:515: DataConversionWarning: A column-vector y was passed when a 1d array was expected. Please change the shape of y to (n_samples,), for example using ravel().\n",
            "  estimator.fit(X_train, y_train, **fit_params)\n",
            "/usr/local/lib/python3.7/dist-packages/sklearn/model_selection/_validation.py:515: DataConversionWarning: A column-vector y was passed when a 1d array was expected. Please change the shape of y to (n_samples,), for example using ravel().\n",
            "  estimator.fit(X_train, y_train, **fit_params)\n",
            "/usr/local/lib/python3.7/dist-packages/sklearn/model_selection/_validation.py:515: DataConversionWarning: A column-vector y was passed when a 1d array was expected. Please change the shape of y to (n_samples,), for example using ravel().\n",
            "  estimator.fit(X_train, y_train, **fit_params)\n",
            "/usr/local/lib/python3.7/dist-packages/sklearn/model_selection/_validation.py:515: DataConversionWarning: A column-vector y was passed when a 1d array was expected. Please change the shape of y to (n_samples,), for example using ravel().\n",
            "  estimator.fit(X_train, y_train, **fit_params)\n",
            "/usr/local/lib/python3.7/dist-packages/sklearn/model_selection/_validation.py:515: DataConversionWarning: A column-vector y was passed when a 1d array was expected. Please change the shape of y to (n_samples,), for example using ravel().\n",
            "  estimator.fit(X_train, y_train, **fit_params)\n",
            "/usr/local/lib/python3.7/dist-packages/sklearn/model_selection/_validation.py:515: DataConversionWarning: A column-vector y was passed when a 1d array was expected. Please change the shape of y to (n_samples,), for example using ravel().\n",
            "  estimator.fit(X_train, y_train, **fit_params)\n",
            "/usr/local/lib/python3.7/dist-packages/sklearn/model_selection/_validation.py:515: DataConversionWarning: A column-vector y was passed when a 1d array was expected. Please change the shape of y to (n_samples,), for example using ravel().\n",
            "  estimator.fit(X_train, y_train, **fit_params)\n",
            "/usr/local/lib/python3.7/dist-packages/sklearn/model_selection/_validation.py:515: DataConversionWarning: A column-vector y was passed when a 1d array was expected. Please change the shape of y to (n_samples,), for example using ravel().\n",
            "  estimator.fit(X_train, y_train, **fit_params)\n",
            "/usr/local/lib/python3.7/dist-packages/sklearn/model_selection/_validation.py:515: DataConversionWarning: A column-vector y was passed when a 1d array was expected. Please change the shape of y to (n_samples,), for example using ravel().\n",
            "  estimator.fit(X_train, y_train, **fit_params)\n",
            "/usr/local/lib/python3.7/dist-packages/sklearn/model_selection/_validation.py:515: DataConversionWarning: A column-vector y was passed when a 1d array was expected. Please change the shape of y to (n_samples,), for example using ravel().\n",
            "  estimator.fit(X_train, y_train, **fit_params)\n",
            "/usr/local/lib/python3.7/dist-packages/sklearn/model_selection/_validation.py:515: DataConversionWarning: A column-vector y was passed when a 1d array was expected. Please change the shape of y to (n_samples,), for example using ravel().\n",
            "  estimator.fit(X_train, y_train, **fit_params)\n",
            "/usr/local/lib/python3.7/dist-packages/sklearn/model_selection/_validation.py:515: DataConversionWarning: A column-vector y was passed when a 1d array was expected. Please change the shape of y to (n_samples,), for example using ravel().\n",
            "  estimator.fit(X_train, y_train, **fit_params)\n",
            "/usr/local/lib/python3.7/dist-packages/sklearn/model_selection/_validation.py:515: DataConversionWarning: A column-vector y was passed when a 1d array was expected. Please change the shape of y to (n_samples,), for example using ravel().\n",
            "  estimator.fit(X_train, y_train, **fit_params)\n",
            "/usr/local/lib/python3.7/dist-packages/sklearn/model_selection/_validation.py:515: DataConversionWarning: A column-vector y was passed when a 1d array was expected. Please change the shape of y to (n_samples,), for example using ravel().\n",
            "  estimator.fit(X_train, y_train, **fit_params)\n",
            "/usr/local/lib/python3.7/dist-packages/sklearn/model_selection/_validation.py:515: DataConversionWarning: A column-vector y was passed when a 1d array was expected. Please change the shape of y to (n_samples,), for example using ravel().\n",
            "  estimator.fit(X_train, y_train, **fit_params)\n",
            "/usr/local/lib/python3.7/dist-packages/sklearn/model_selection/_validation.py:515: DataConversionWarning: A column-vector y was passed when a 1d array was expected. Please change the shape of y to (n_samples,), for example using ravel().\n",
            "  estimator.fit(X_train, y_train, **fit_params)\n",
            "/usr/local/lib/python3.7/dist-packages/sklearn/model_selection/_validation.py:515: DataConversionWarning: A column-vector y was passed when a 1d array was expected. Please change the shape of y to (n_samples,), for example using ravel().\n",
            "  estimator.fit(X_train, y_train, **fit_params)\n",
            "/usr/local/lib/python3.7/dist-packages/sklearn/model_selection/_validation.py:515: DataConversionWarning: A column-vector y was passed when a 1d array was expected. Please change the shape of y to (n_samples,), for example using ravel().\n",
            "  estimator.fit(X_train, y_train, **fit_params)\n",
            "/usr/local/lib/python3.7/dist-packages/sklearn/model_selection/_validation.py:515: DataConversionWarning: A column-vector y was passed when a 1d array was expected. Please change the shape of y to (n_samples,), for example using ravel().\n",
            "  estimator.fit(X_train, y_train, **fit_params)\n",
            "/usr/local/lib/python3.7/dist-packages/sklearn/model_selection/_validation.py:515: DataConversionWarning: A column-vector y was passed when a 1d array was expected. Please change the shape of y to (n_samples,), for example using ravel().\n",
            "  estimator.fit(X_train, y_train, **fit_params)\n",
            "/usr/local/lib/python3.7/dist-packages/sklearn/model_selection/_validation.py:515: DataConversionWarning: A column-vector y was passed when a 1d array was expected. Please change the shape of y to (n_samples,), for example using ravel().\n",
            "  estimator.fit(X_train, y_train, **fit_params)\n",
            "/usr/local/lib/python3.7/dist-packages/sklearn/model_selection/_validation.py:515: DataConversionWarning: A column-vector y was passed when a 1d array was expected. Please change the shape of y to (n_samples,), for example using ravel().\n",
            "  estimator.fit(X_train, y_train, **fit_params)\n",
            "/usr/local/lib/python3.7/dist-packages/sklearn/model_selection/_validation.py:515: DataConversionWarning: A column-vector y was passed when a 1d array was expected. Please change the shape of y to (n_samples,), for example using ravel().\n",
            "  estimator.fit(X_train, y_train, **fit_params)\n",
            "/usr/local/lib/python3.7/dist-packages/sklearn/model_selection/_validation.py:515: DataConversionWarning: A column-vector y was passed when a 1d array was expected. Please change the shape of y to (n_samples,), for example using ravel().\n",
            "  estimator.fit(X_train, y_train, **fit_params)\n",
            "/usr/local/lib/python3.7/dist-packages/sklearn/model_selection/_validation.py:515: DataConversionWarning: A column-vector y was passed when a 1d array was expected. Please change the shape of y to (n_samples,), for example using ravel().\n",
            "  estimator.fit(X_train, y_train, **fit_params)\n",
            "/usr/local/lib/python3.7/dist-packages/sklearn/model_selection/_validation.py:515: DataConversionWarning: A column-vector y was passed when a 1d array was expected. Please change the shape of y to (n_samples,), for example using ravel().\n",
            "  estimator.fit(X_train, y_train, **fit_params)\n",
            "/usr/local/lib/python3.7/dist-packages/sklearn/model_selection/_validation.py:515: DataConversionWarning: A column-vector y was passed when a 1d array was expected. Please change the shape of y to (n_samples,), for example using ravel().\n",
            "  estimator.fit(X_train, y_train, **fit_params)\n",
            "/usr/local/lib/python3.7/dist-packages/sklearn/model_selection/_validation.py:515: DataConversionWarning: A column-vector y was passed when a 1d array was expected. Please change the shape of y to (n_samples,), for example using ravel().\n",
            "  estimator.fit(X_train, y_train, **fit_params)\n",
            "/usr/local/lib/python3.7/dist-packages/sklearn/model_selection/_validation.py:515: DataConversionWarning: A column-vector y was passed when a 1d array was expected. Please change the shape of y to (n_samples,), for example using ravel().\n",
            "  estimator.fit(X_train, y_train, **fit_params)\n",
            "/usr/local/lib/python3.7/dist-packages/sklearn/model_selection/_validation.py:515: DataConversionWarning: A column-vector y was passed when a 1d array was expected. Please change the shape of y to (n_samples,), for example using ravel().\n",
            "  estimator.fit(X_train, y_train, **fit_params)\n",
            "/usr/local/lib/python3.7/dist-packages/sklearn/model_selection/_validation.py:515: DataConversionWarning: A column-vector y was passed when a 1d array was expected. Please change the shape of y to (n_samples,), for example using ravel().\n",
            "  estimator.fit(X_train, y_train, **fit_params)\n",
            "/usr/local/lib/python3.7/dist-packages/sklearn/model_selection/_validation.py:515: DataConversionWarning: A column-vector y was passed when a 1d array was expected. Please change the shape of y to (n_samples,), for example using ravel().\n",
            "  estimator.fit(X_train, y_train, **fit_params)\n",
            "/usr/local/lib/python3.7/dist-packages/sklearn/model_selection/_validation.py:515: DataConversionWarning: A column-vector y was passed when a 1d array was expected. Please change the shape of y to (n_samples,), for example using ravel().\n",
            "  estimator.fit(X_train, y_train, **fit_params)\n",
            "/usr/local/lib/python3.7/dist-packages/sklearn/model_selection/_validation.py:515: DataConversionWarning: A column-vector y was passed when a 1d array was expected. Please change the shape of y to (n_samples,), for example using ravel().\n",
            "  estimator.fit(X_train, y_train, **fit_params)\n",
            "/usr/local/lib/python3.7/dist-packages/sklearn/model_selection/_validation.py:515: DataConversionWarning: A column-vector y was passed when a 1d array was expected. Please change the shape of y to (n_samples,), for example using ravel().\n",
            "  estimator.fit(X_train, y_train, **fit_params)\n",
            "/usr/local/lib/python3.7/dist-packages/sklearn/model_selection/_validation.py:515: DataConversionWarning: A column-vector y was passed when a 1d array was expected. Please change the shape of y to (n_samples,), for example using ravel().\n",
            "  estimator.fit(X_train, y_train, **fit_params)\n",
            "/usr/local/lib/python3.7/dist-packages/sklearn/model_selection/_validation.py:515: DataConversionWarning: A column-vector y was passed when a 1d array was expected. Please change the shape of y to (n_samples,), for example using ravel().\n",
            "  estimator.fit(X_train, y_train, **fit_params)\n",
            "/usr/local/lib/python3.7/dist-packages/sklearn/model_selection/_validation.py:515: DataConversionWarning: A column-vector y was passed when a 1d array was expected. Please change the shape of y to (n_samples,), for example using ravel().\n",
            "  estimator.fit(X_train, y_train, **fit_params)\n",
            "[Parallel(n_jobs=1)]: Done  81 out of  81 | elapsed:  1.9min finished\n",
            "/usr/local/lib/python3.7/dist-packages/sklearn/model_selection/_search.py:739: DataConversionWarning: A column-vector y was passed when a 1d array was expected. Please change the shape of y to (n_samples,), for example using ravel().\n",
            "  self.best_estimator_.fit(X, y, **fit_params)\n"
          ],
          "name": "stderr"
        },
        {
          "output_type": "execute_result",
          "data": {
            "text/plain": [
              "GridSearchCV(cv=ShuffleSplit(n_splits=3, random_state=8, test_size=0.33, train_size=None),\n",
              "             error_score=nan,\n",
              "             estimator=RandomForestClassifier(bootstrap=True, ccp_alpha=0.0,\n",
              "                                              class_weight=None,\n",
              "                                              criterion='gini', max_depth=None,\n",
              "                                              max_features='auto',\n",
              "                                              max_leaf_nodes=None,\n",
              "                                              max_samples=None,\n",
              "                                              min_impurity_decrease=0.0,\n",
              "                                              min_impurity_split=None,\n",
              "                                              min_samples_leaf=1,\n",
              "                                              min_sampl...\n",
              "                                              n_estimators=100, n_jobs=None,\n",
              "                                              oob_score=False, random_state=8,\n",
              "                                              verbose=0, warm_start=False),\n",
              "             iid='deprecated', n_jobs=None,\n",
              "             param_grid={'bootstrap': [False], 'max_depth': [30, 40, 50],\n",
              "                         'max_features': ['sqrt'],\n",
              "                         'min_samples_leaf': [1, 2, 4],\n",
              "                         'min_samples_split': [5, 10, 15],\n",
              "                         'n_estimators': [800]},\n",
              "             pre_dispatch='2*n_jobs', refit=True, return_train_score=False,\n",
              "             scoring='accuracy', verbose=1)"
            ]
          },
          "metadata": {
            "tags": []
          },
          "execution_count": 93
        }
      ]
    },
    {
      "cell_type": "markdown",
      "metadata": {
        "id": "iRz77fo9q-HP"
      },
      "source": [
        "We can see the best hyperparameters resulting from the Grid Search:"
      ]
    },
    {
      "cell_type": "code",
      "metadata": {
        "id": "SLrMEFkEizLH",
        "colab": {
          "base_uri": "https://localhost:8080/"
        },
        "outputId": "ef39e0b6-cdee-45ec-a6d5-a6159ffaf40a"
      },
      "source": [
        "print(\"The best hyperparameters from Grid Search are:\")\n",
        "print(grid_search.best_params_)\n",
        "print(\"\")\n",
        "print(\"The mean accuracy of a model with these hyperparameters is:\")\n",
        "print(grid_search.best_score_)"
      ],
      "execution_count": null,
      "outputs": [
        {
          "output_type": "stream",
          "text": [
            "The best hyperparameters from Grid Search are:\n",
            "{'bootstrap': False, 'max_depth': 30, 'max_features': 'sqrt', 'min_samples_leaf': 1, 'min_samples_split': 5, 'n_estimators': 800}\n",
            "\n",
            "The mean accuracy of a model with these hyperparameters is:\n",
            "0.5202020202020202\n"
          ],
          "name": "stdout"
        }
      ]
    },
    {
      "cell_type": "code",
      "metadata": {
        "id": "f-mBFR9ZizLH"
      },
      "source": [
        "best_rfc = grid_search.best_estimator_"
      ],
      "execution_count": null,
      "outputs": []
    },
    {
      "cell_type": "code",
      "metadata": {
        "id": "xPCFOyUuizLI",
        "colab": {
          "base_uri": "https://localhost:8080/"
        },
        "outputId": "bdf6a912-3597-40c2-96d6-5163713bbf05"
      },
      "source": [
        "best_rfc"
      ],
      "execution_count": null,
      "outputs": [
        {
          "output_type": "execute_result",
          "data": {
            "text/plain": [
              "RandomForestClassifier(bootstrap=False, ccp_alpha=0.0, class_weight=None,\n",
              "                       criterion='gini', max_depth=30, max_features='sqrt',\n",
              "                       max_leaf_nodes=None, max_samples=None,\n",
              "                       min_impurity_decrease=0.0, min_impurity_split=None,\n",
              "                       min_samples_leaf=1, min_samples_split=5,\n",
              "                       min_weight_fraction_leaf=0.0, n_estimators=800,\n",
              "                       n_jobs=None, oob_score=False, random_state=8, verbose=0,\n",
              "                       warm_start=False)"
            ]
          },
          "metadata": {
            "tags": []
          },
          "execution_count": 96
        }
      ]
    },
    {
      "cell_type": "markdown",
      "metadata": {
        "id": "TlhHOs67izLI"
      },
      "source": [
        "#### **4.2.6 Model fit and performance**"
      ]
    },
    {
      "cell_type": "markdown",
      "metadata": {
        "id": "rB-enfw8rD6d"
      },
      "source": [
        "Now, we can fit the model to our training data:"
      ]
    },
    {
      "cell_type": "code",
      "metadata": {
        "id": "8CBEljkKizLI",
        "colab": {
          "base_uri": "https://localhost:8080/"
        },
        "outputId": "21c27531-7507-43e5-9042-53c6782fbef9"
      },
      "source": [
        "best_rfc.fit(X_train, y_train)"
      ],
      "execution_count": null,
      "outputs": [
        {
          "output_type": "stream",
          "text": [
            "/usr/local/lib/python3.7/dist-packages/ipykernel_launcher.py:1: DataConversionWarning: A column-vector y was passed when a 1d array was expected. Please change the shape of y to (n_samples,), for example using ravel().\n",
            "  \"\"\"Entry point for launching an IPython kernel.\n"
          ],
          "name": "stderr"
        },
        {
          "output_type": "execute_result",
          "data": {
            "text/plain": [
              "RandomForestClassifier(bootstrap=False, ccp_alpha=0.0, class_weight=None,\n",
              "                       criterion='gini', max_depth=30, max_features='sqrt',\n",
              "                       max_leaf_nodes=None, max_samples=None,\n",
              "                       min_impurity_decrease=0.0, min_impurity_split=None,\n",
              "                       min_samples_leaf=1, min_samples_split=5,\n",
              "                       min_weight_fraction_leaf=0.0, n_estimators=800,\n",
              "                       n_jobs=None, oob_score=False, random_state=8, verbose=0,\n",
              "                       warm_start=False)"
            ]
          },
          "metadata": {
            "tags": []
          },
          "execution_count": 97
        }
      ]
    },
    {
      "cell_type": "code",
      "metadata": {
        "id": "uiXwXRGTizLI"
      },
      "source": [
        "rfc_pred = best_rfc.predict(X_test)"
      ],
      "execution_count": null,
      "outputs": []
    },
    {
      "cell_type": "markdown",
      "metadata": {
        "id": "mZ3DyJgbizLJ"
      },
      "source": [
        "#### **4.2.7 Training accuracy**"
      ]
    },
    {
      "cell_type": "markdown",
      "metadata": {
        "id": "lBa7ZIfhvOee"
      },
      "source": [
        "As we did before with the sklearn.metrics we can see some interesting metric of our model."
      ]
    },
    {
      "cell_type": "code",
      "metadata": {
        "id": "3sQ4RdFVizLJ",
        "colab": {
          "base_uri": "https://localhost:8080/"
        },
        "outputId": "9ea35d3b-e94a-4d26-fb14-f25d95e5aaf6"
      },
      "source": [
        "print(\"The training accuracy is: \")\n",
        "print(accuracy_score(y_train, best_rfc.predict(X_train)))"
      ],
      "execution_count": null,
      "outputs": [
        {
          "output_type": "stream",
          "text": [
            "The training accuracy is: \n",
            "0.9849246231155779\n"
          ],
          "name": "stdout"
        }
      ]
    },
    {
      "cell_type": "markdown",
      "metadata": {
        "id": "RnzePN4wizLJ"
      },
      "source": [
        "#### **4.2.8 Test accuracy**"
      ]
    },
    {
      "cell_type": "code",
      "metadata": {
        "id": "JsaHs7_BizLJ",
        "colab": {
          "base_uri": "https://localhost:8080/"
        },
        "outputId": "a20f6099-a467-413d-abe2-96fce99db612"
      },
      "source": [
        "print(\"The test accuracy is: \")\n",
        "print(accuracy_score(y_test, rfc_pred))"
      ],
      "execution_count": null,
      "outputs": [
        {
          "output_type": "stream",
          "text": [
            "The test accuracy is: \n",
            "0.6\n"
          ],
          "name": "stdout"
        }
      ]
    },
    {
      "cell_type": "markdown",
      "metadata": {
        "id": "q7ztU3F5izLK"
      },
      "source": [
        "#### **4.2.9 Classification report**"
      ]
    },
    {
      "cell_type": "code",
      "metadata": {
        "id": "DYfKUjduizLK",
        "colab": {
          "base_uri": "https://localhost:8080/"
        },
        "outputId": "1216df74-8d94-4662-ba40-73a9180fb39e"
      },
      "source": [
        "print(\"Classification report\")\n",
        "print(classification_report(y_test,rfc_pred))"
      ],
      "execution_count": null,
      "outputs": [
        {
          "output_type": "stream",
          "text": [
            "Classification report\n",
            "              precision    recall  f1-score   support\n",
            "\n",
            "           0       0.62      0.67      0.64        27\n",
            "           1       0.57      0.52      0.55        23\n",
            "\n",
            "    accuracy                           0.60        50\n",
            "   macro avg       0.60      0.59      0.59        50\n",
            "weighted avg       0.60      0.60      0.60        50\n",
            "\n"
          ],
          "name": "stdout"
        }
      ]
    },
    {
      "cell_type": "markdown",
      "metadata": {
        "id": "gD3vG-SgizLK"
      },
      "source": [
        "#### **4.2.10 Confusion matrix**"
      ]
    },
    {
      "cell_type": "code",
      "metadata": {
        "id": "-hCNpInRizLK",
        "colab": {
          "base_uri": "https://localhost:8080/",
          "height": 410
        },
        "outputId": "75c2e72d-917a-419d-fa61-0de58bc3a888"
      },
      "source": [
        "conf_matrix = confusion_matrix(y_test, rfc_pred)\n",
        "plt.figure(figsize=(12.8,6))\n",
        "sns.heatmap(conf_matrix, \n",
        "            annot=True,\n",
        "            cmap=\"Blues\")\n",
        "plt.ylabel('Predicted')\n",
        "plt.xlabel('Actual')\n",
        "plt.title('Confusion matrix')\n",
        "plt.show()"
      ],
      "execution_count": null,
      "outputs": [
        {
          "output_type": "display_data",
          "data": {
            "image/png": "[encoded data removed]",
            "text/plain": [
              "<Figure size 921.6x432 with 2 Axes>"
            ]
          },
          "metadata": {
            "tags": []
          }
        }
      ]
    },
    {
      "cell_type": "code",
      "metadata": {
        "id": "M99NZZJhizLL",
        "colab": {
          "base_uri": "https://localhost:8080/"
        },
        "outputId": "aa162e20-d38a-46c4-9c3c-d32fde125f86"
      },
      "source": [
        "base_model = RandomForestClassifier(random_state = 8)\n",
        "base_model.fit(X_train, y_train)\n",
        "accuracy_score(y_test, base_model.predict(X_test))"
      ],
      "execution_count": null,
      "outputs": [
        {
          "output_type": "stream",
          "text": [
            "/usr/local/lib/python3.7/dist-packages/ipykernel_launcher.py:2: DataConversionWarning: A column-vector y was passed when a 1d array was expected. Please change the shape of y to (n_samples,), for example using ravel().\n",
            "  \n"
          ],
          "name": "stderr"
        },
        {
          "output_type": "execute_result",
          "data": {
            "text/plain": [
              "0.58"
            ]
          },
          "metadata": {
            "tags": []
          },
          "execution_count": 103
        }
      ]
    },
    {
      "cell_type": "markdown",
      "metadata": {
        "id": "ViQ-C8zkizLL"
      },
      "source": [
        "#### **4.2.11 Save the results into a Dataframe for later comparison**"
      ]
    },
    {
      "cell_type": "markdown",
      "metadata": {
        "id": "i10qDKgtizLL"
      },
      "source": [
        "The remaining code is to save the results"
      ]
    },
    {
      "cell_type": "code",
      "metadata": {
        "id": "4hQX13OxizLL"
      },
      "source": [
        "d = {\n",
        "     'Model': 'Random Forest',\n",
        "     'Training Set Accuracy': accuracy_score(y_train, best_rfc.predict(X_train)),\n",
        "     'Test Set Accuracy': accuracy_score(y_test, rfc_pred)\n",
        "}\n",
        "\n",
        "df_models_rfc = pd.DataFrame(d, index=[0])"
      ],
      "execution_count": null,
      "outputs": []
    },
    {
      "cell_type": "code",
      "metadata": {
        "id": "PY7osj96izLL",
        "colab": {
          "base_uri": "https://localhost:8080/",
          "height": 80
        },
        "outputId": "f5d3baee-7931-4bca-aaa9-4196b09bb9b1"
      },
      "source": [
        "df_models_rfc"
      ],
      "execution_count": null,
      "outputs": [
        {
          "output_type": "execute_result",
          "data": {
            "text/html": [
              "<div>\n",
              "<style scoped>\n",
              "    .dataframe tbody tr th:only-of-type {\n",
              "        vertical-align: middle;\n",
              "    }\n",
              "\n",
              "    .dataframe tbody tr th {\n",
              "        vertical-align: top;\n",
              "    }\n",
              "\n",
              "    .dataframe thead th {\n",
              "        text-align: right;\n",
              "    }\n",
              "</style>\n",
              "<table border=\"1\" class=\"dataframe\">\n",
              "  <thead>\n",
              "    <tr style=\"text-align: right;\">\n",
              "      <th></th>\n",
              "      <th>Model</th>\n",
              "      <th>Training Set Accuracy</th>\n",
              "      <th>Test Set Accuracy</th>\n",
              "    </tr>\n",
              "  </thead>\n",
              "  <tbody>\n",
              "    <tr>\n",
              "      <th>0</th>\n",
              "      <td>Random Forest</td>\n",
              "      <td>0.984925</td>\n",
              "      <td>0.6</td>\n",
              "    </tr>\n",
              "  </tbody>\n",
              "</table>\n",
              "</div>"
            ],
            "text/plain": [
              "           Model  Training Set Accuracy  Test Set Accuracy\n",
              "0  Random Forest               0.984925                0.6"
            ]
          },
          "metadata": {
            "tags": []
          },
          "execution_count": 105
        }
      ]
    },
    {
      "cell_type": "code",
      "metadata": {
        "id": "CnZP-pbuizLM"
      },
      "source": [
        "# with open('/content/best_rfc.pickle', 'wb') as output:\n",
        "#     pickle.dump(best_rfc, output)\n",
        "    \n",
        "# with open('/content/df_models_rfc.pickle', 'wb') as output:\n",
        "#     pickle.dump(df_models_rfc, output)"
      ],
      "execution_count": null,
      "outputs": []
    },
    {
      "cell_type": "markdown",
      "metadata": {
        "id": "GZEcMFGEkNOL"
      },
      "source": [
        "### **4.3 Ridge Logistic Regression**"
      ]
    },
    {
      "cell_type": "markdown",
      "metadata": {
        "id": "rz99xqwngq33"
      },
      "source": [
        "#### **4.3.1 Concepts**"
      ]
    },
    {
      "cell_type": "markdown",
      "metadata": {
        "id": "4ZAwYWszguPT"
      },
      "source": [
        "In statistical modeling, regression analysis is a set of statistical processes for estimating the relationships between a dependent variable (often called the 'outcome variable') and one or more independent variables (often called 'predictors', 'covariates', or 'features').\n",
        "\n",
        "When we talk about Regression, we often end up discussing Linear and Logistic Regression. But do you know that there are 7 types of regressions?\n",
        "\n",
        "In this case we are going to talk about Ridge Regression. Ridge regression is a regularization technique for linear regression model to perform well in scenarios where there is high variance as compare to the data which is used to train the model. When we talk about regularization we talk about a technique to penalize the model for the overfitting of data and adding the parameter which tune the model for better outcome.\n",
        "\n"
      ]
    },
    {
      "cell_type": "markdown",
      "metadata": {
        "id": "2t7CNh4or1VA"
      },
      "source": [
        "**Linear Regression**\n",
        "\n",
        "It is one of the most widely known modeling technique. Linear regression is usually among the first few topics which people pick while learning predictive modeling. In this technique, the dependent variable is continuous, independent variable(s) can be continuous or discrete, and nature of regression line is linear.\n",
        "\n",
        "Linear Regression establishes a relationship between dependent variable (Y) and one or more independent variables (X) using a best fit straight line (also known as regression line).\n",
        "\n",
        "![](https://drive.google.com/uc?export=view&id=1wkyZS-b1Ap_yU5J8P-pQyun3Ev3Y8ZJi)\n",
        "\n",
        "**Ridge Regression**\n",
        "\n",
        "Ridge Regression is a technique used when the data suffers from multicollinearity ( independent variables are highly correlated). In multicollinearity, even though the least squares estimates (OLS) are unbiased, their variances are large which deviates the observed value far from the true value. By adding a degree of bias to the regression estimates, ridge regression reduces the standard errors.\n",
        "\n",
        "![](https://drive.google.com/uc?export=view&id=1G-Y-s33Npes5FHOQnauzOMpQE2CcPsnd)"
      ]
    },
    {
      "cell_type": "markdown",
      "metadata": {
        "id": "xgP-BgGugudn"
      },
      "source": [
        "#### **4.3.2 Training the model**\n",
        "\n",
        "Let's implement the algorithm in Python, we will use again the scikit-learn an open source machine learning library. Also in this model we will use TensorFlow. TensorFlow is a free and open-source software library for machine learning. It can be used across a range of tasks but has a particular focus on training and inference of deep neural networks.\n",
        "\n",
        "\n",
        "\n"
      ]
    },
    {
      "cell_type": "markdown",
      "metadata": {
        "id": "vZD-yJD3kVrB"
      },
      "source": [
        "\n",
        "\n",
        "We define a function to save the predictions of our model in a CSV file.\n"
      ]
    },
    {
      "cell_type": "code",
      "metadata": {
        "id": "WBQTwv1MkVrB"
      },
      "source": [
        "def save_predictions(pred, file):\n",
        "\n",
        "    with open(file, 'w') as csvfile:\n",
        "        fieldnames = ['Stance']\n",
        "        writer = DictWriter(csvfile, fieldnames=fieldnames)\n",
        "\n",
        "        writer.writeheader()\n",
        "        for instance in pred:\n",
        "            writer.writerow({'Stance': label_ref_rev[instance]})"
      ],
      "execution_count": null,
      "outputs": []
    },
    {
      "cell_type": "markdown",
      "metadata": {
        "id": "7gFzS6-roZj9"
      },
      "source": [
        "We set a value before training to our hyperparameters."
      ]
    },
    {
      "cell_type": "code",
      "metadata": {
        "id": "r1bnxy86kVrC"
      },
      "source": [
        "# Initialise hyperparameters\n",
        "r = random.Random()\n",
        "lim_unigram = 5000\n",
        "target_size = 4\n",
        "hidden_size = 100\n",
        "train_keep_prob = 0.6\n",
        "l2_alpha = 0.00001\n",
        "learn_rate = 0.01\n",
        "clip_ratio = 5\n",
        "batch_size_train = 500\n",
        "epochs = 90"
      ],
      "execution_count": null,
      "outputs": []
    },
    {
      "cell_type": "markdown",
      "metadata": {
        "id": "iDGLxzqRoGVU"
      },
      "source": [
        "#### **4.3.3 Cross-Validation for Hyperparameter tuning**"
      ]
    },
    {
      "cell_type": "markdown",
      "metadata": {
        "id": "klP4fBJFoGVU"
      },
      "source": [
        "As some of the previously trained models, it is necessary to optimize the hyperparameters."
      ]
    },
    {
      "cell_type": "code",
      "metadata": {
        "id": "RS7lRDgCoGVV",
        "colab": {
          "base_uri": "https://localhost:8080/"
        },
        "outputId": "552b723c-73fa-4489-f0fa-1dee57121ec6"
      },
      "source": [
        "lr_0 = LogisticRegression(random_state = 8)\n",
        "\n",
        "print('Parameters currently in use:\\n')\n",
        "pprint(lr_0.get_params())"
      ],
      "execution_count": null,
      "outputs": [
        {
          "output_type": "stream",
          "text": [
            "Parameters currently in use:\n",
            "\n",
            "{'C': 1.0,\n",
            " 'class_weight': None,\n",
            " 'dual': False,\n",
            " 'fit_intercept': True,\n",
            " 'intercept_scaling': 1,\n",
            " 'l1_ratio': None,\n",
            " 'max_iter': 100,\n",
            " 'multi_class': 'auto',\n",
            " 'n_jobs': None,\n",
            " 'penalty': 'l2',\n",
            " 'random_state': 8,\n",
            " 'solver': 'lbfgs',\n",
            " 'tol': 0.0001,\n",
            " 'verbose': 0,\n",
            " 'warm_start': False}\n"
          ],
          "name": "stdout"
        }
      ]
    },
    {
      "cell_type": "markdown",
      "metadata": {
        "id": "jhtCvA-SoGVX"
      },
      "source": [
        "We'll tune the following ones:\n",
        "\n",
        "* `C` = Inverse of regularization strength. Smaller values specify stronger regularization.\n",
        "* `multi_class` = We'll choose `multinomial` because this is a multi-class problem.\n",
        "* `solver` = Algorithm to use in the optimization problem. For multiclass problems, only `newton-cg`, `sag`, `saga` and `lbfgs` handle multinomial loss.\n",
        "* `class_weight`: Weights associated with classes. \n",
        "* `penalty`: Used to specify the norm used in the penalization. The ‘newton-cg’, ‘sag’ and ‘lbfgs’ solvers support only l2 penalties."
      ]
    },
    {
      "cell_type": "markdown",
      "metadata": {
        "id": "pcn9nINboGVX"
      },
      "source": [
        "#### **4.3.4 Randomized Search Cross Validation**"
      ]
    },
    {
      "cell_type": "markdown",
      "metadata": {
        "id": "YpZbbfkOoGVY"
      },
      "source": [
        "First we need to define the grid since we have a lot of hyperparameters."
      ]
    },
    {
      "cell_type": "code",
      "metadata": {
        "id": "XS_0rWwEoGVY",
        "colab": {
          "base_uri": "https://localhost:8080/"
        },
        "outputId": "bc7d85cc-985a-467c-b4bf-16c2400aa6b1"
      },
      "source": [
        "C = [float(x) for x in np.linspace(start = 0.1, stop = 1, num = 10)]\n",
        "multi_class = ['multinomial']\n",
        "solver = ['newton-cg', 'sag', 'saga', 'lbfgs']\n",
        "class_weight = ['balanced', None]\n",
        "penalty = ['l2']\n",
        "\n",
        "random_grid = {'C': C,\n",
        "               'multi_class': multi_class,\n",
        "               'solver': solver,\n",
        "               'class_weight': class_weight,\n",
        "               'penalty': penalty}\n",
        "\n",
        "pprint(random_grid)"
      ],
      "execution_count": null,
      "outputs": [
        {
          "output_type": "stream",
          "text": [
            "{'C': [0.1,\n",
            "       0.2,\n",
            "       0.30000000000000004,\n",
            "       0.4,\n",
            "       0.5,\n",
            "       0.6,\n",
            "       0.7000000000000001,\n",
            "       0.8,\n",
            "       0.9,\n",
            "       1.0],\n",
            " 'class_weight': ['balanced', None],\n",
            " 'multi_class': ['multinomial'],\n",
            " 'penalty': ['l2'],\n",
            " 'solver': ['newton-cg', 'sag', 'saga', 'lbfgs']}\n"
          ],
          "name": "stdout"
        }
      ]
    },
    {
      "cell_type": "markdown",
      "metadata": {
        "id": "iBEB6EUaoGVa"
      },
      "source": [
        "we'll perform the Grid Search with the Scikit Learn method RandomizedSearchCV."
      ]
    },
    {
      "cell_type": "code",
      "metadata": {
        "id": "T8yqrU8joGVb",
        "colab": {
          "base_uri": "https://localhost:8080/"
        },
        "outputId": "fe72eeb1-d5ce-458e-bb85-a715981cea4d"
      },
      "source": [
        "lrc = LogisticRegression(random_state=8)\n",
        "\n",
        "random_search = RandomizedSearchCV(estimator=lrc,\n",
        "                                   param_distributions=random_grid,\n",
        "                                   n_iter=10,\n",
        "                                   scoring='accuracy',\n",
        "                                   cv=3, \n",
        "                                   verbose=1, \n",
        "                                   random_state=8)\n",
        "\n",
        "random_search.fit(X_train, y_train)"
      ],
      "execution_count": null,
      "outputs": [
        {
          "output_type": "stream",
          "text": [
            "Fitting 3 folds for each of 10 candidates, totalling 30 fits\n"
          ],
          "name": "stdout"
        },
        {
          "output_type": "stream",
          "text": [
            "[Parallel(n_jobs=1)]: Using backend SequentialBackend with 1 concurrent workers.\n",
            "/usr/local/lib/python3.7/dist-packages/sklearn/utils/validation.py:760: DataConversionWarning: A column-vector y was passed when a 1d array was expected. Please change the shape of y to (n_samples, ), for example using ravel().\n",
            "  y = column_or_1d(y, warn=True)\n",
            "/usr/local/lib/python3.7/dist-packages/sklearn/utils/validation.py:760: DataConversionWarning: A column-vector y was passed when a 1d array was expected. Please change the shape of y to (n_samples, ), for example using ravel().\n",
            "  y = column_or_1d(y, warn=True)\n",
            "/usr/local/lib/python3.7/dist-packages/sklearn/utils/validation.py:760: DataConversionWarning: A column-vector y was passed when a 1d array was expected. Please change the shape of y to (n_samples, ), for example using ravel().\n",
            "  y = column_or_1d(y, warn=True)\n",
            "/usr/local/lib/python3.7/dist-packages/sklearn/utils/validation.py:760: DataConversionWarning: A column-vector y was passed when a 1d array was expected. Please change the shape of y to (n_samples, ), for example using ravel().\n",
            "  y = column_or_1d(y, warn=True)\n",
            "/usr/local/lib/python3.7/dist-packages/sklearn/utils/validation.py:760: DataConversionWarning: A column-vector y was passed when a 1d array was expected. Please change the shape of y to (n_samples, ), for example using ravel().\n",
            "  y = column_or_1d(y, warn=True)\n",
            "/usr/local/lib/python3.7/dist-packages/sklearn/utils/validation.py:760: DataConversionWarning: A column-vector y was passed when a 1d array was expected. Please change the shape of y to (n_samples, ), for example using ravel().\n",
            "  y = column_or_1d(y, warn=True)\n",
            "/usr/local/lib/python3.7/dist-packages/sklearn/utils/validation.py:760: DataConversionWarning: A column-vector y was passed when a 1d array was expected. Please change the shape of y to (n_samples, ), for example using ravel().\n",
            "  y = column_or_1d(y, warn=True)\n",
            "/usr/local/lib/python3.7/dist-packages/sklearn/utils/validation.py:760: DataConversionWarning: A column-vector y was passed when a 1d array was expected. Please change the shape of y to (n_samples, ), for example using ravel().\n",
            "  y = column_or_1d(y, warn=True)\n",
            "/usr/local/lib/python3.7/dist-packages/sklearn/utils/validation.py:760: DataConversionWarning: A column-vector y was passed when a 1d array was expected. Please change the shape of y to (n_samples, ), for example using ravel().\n",
            "  y = column_or_1d(y, warn=True)\n",
            "/usr/local/lib/python3.7/dist-packages/sklearn/utils/validation.py:760: DataConversionWarning: A column-vector y was passed when a 1d array was expected. Please change the shape of y to (n_samples, ), for example using ravel().\n",
            "  y = column_or_1d(y, warn=True)\n",
            "/usr/local/lib/python3.7/dist-packages/sklearn/utils/validation.py:760: DataConversionWarning: A column-vector y was passed when a 1d array was expected. Please change the shape of y to (n_samples, ), for example using ravel().\n",
            "  y = column_or_1d(y, warn=True)\n",
            "/usr/local/lib/python3.7/dist-packages/sklearn/utils/validation.py:760: DataConversionWarning: A column-vector y was passed when a 1d array was expected. Please change the shape of y to (n_samples, ), for example using ravel().\n",
            "  y = column_or_1d(y, warn=True)\n",
            "/usr/local/lib/python3.7/dist-packages/sklearn/utils/validation.py:760: DataConversionWarning: A column-vector y was passed when a 1d array was expected. Please change the shape of y to (n_samples, ), for example using ravel().\n",
            "  y = column_or_1d(y, warn=True)\n",
            "/usr/local/lib/python3.7/dist-packages/sklearn/utils/validation.py:760: DataConversionWarning: A column-vector y was passed when a 1d array was expected. Please change the shape of y to (n_samples, ), for example using ravel().\n",
            "  y = column_or_1d(y, warn=True)\n",
            "/usr/local/lib/python3.7/dist-packages/sklearn/utils/validation.py:760: DataConversionWarning: A column-vector y was passed when a 1d array was expected. Please change the shape of y to (n_samples, ), for example using ravel().\n",
            "  y = column_or_1d(y, warn=True)\n",
            "/usr/local/lib/python3.7/dist-packages/sklearn/utils/validation.py:760: DataConversionWarning: A column-vector y was passed when a 1d array was expected. Please change the shape of y to (n_samples, ), for example using ravel().\n",
            "  y = column_or_1d(y, warn=True)\n",
            "/usr/local/lib/python3.7/dist-packages/sklearn/utils/validation.py:760: DataConversionWarning: A column-vector y was passed when a 1d array was expected. Please change the shape of y to (n_samples, ), for example using ravel().\n",
            "  y = column_or_1d(y, warn=True)\n",
            "/usr/local/lib/python3.7/dist-packages/sklearn/utils/validation.py:760: DataConversionWarning: A column-vector y was passed when a 1d array was expected. Please change the shape of y to (n_samples, ), for example using ravel().\n",
            "  y = column_or_1d(y, warn=True)\n",
            "/usr/local/lib/python3.7/dist-packages/sklearn/utils/validation.py:760: DataConversionWarning: A column-vector y was passed when a 1d array was expected. Please change the shape of y to (n_samples, ), for example using ravel().\n",
            "  y = column_or_1d(y, warn=True)\n",
            "/usr/local/lib/python3.7/dist-packages/sklearn/utils/validation.py:760: DataConversionWarning: A column-vector y was passed when a 1d array was expected. Please change the shape of y to (n_samples, ), for example using ravel().\n",
            "  y = column_or_1d(y, warn=True)\n",
            "/usr/local/lib/python3.7/dist-packages/sklearn/utils/validation.py:760: DataConversionWarning: A column-vector y was passed when a 1d array was expected. Please change the shape of y to (n_samples, ), for example using ravel().\n",
            "  y = column_or_1d(y, warn=True)\n",
            "/usr/local/lib/python3.7/dist-packages/sklearn/utils/validation.py:760: DataConversionWarning: A column-vector y was passed when a 1d array was expected. Please change the shape of y to (n_samples, ), for example using ravel().\n",
            "  y = column_or_1d(y, warn=True)\n",
            "/usr/local/lib/python3.7/dist-packages/sklearn/utils/validation.py:760: DataConversionWarning: A column-vector y was passed when a 1d array was expected. Please change the shape of y to (n_samples, ), for example using ravel().\n",
            "  y = column_or_1d(y, warn=True)\n",
            "/usr/local/lib/python3.7/dist-packages/sklearn/utils/validation.py:760: DataConversionWarning: A column-vector y was passed when a 1d array was expected. Please change the shape of y to (n_samples, ), for example using ravel().\n",
            "  y = column_or_1d(y, warn=True)\n",
            "/usr/local/lib/python3.7/dist-packages/sklearn/utils/validation.py:760: DataConversionWarning: A column-vector y was passed when a 1d array was expected. Please change the shape of y to (n_samples, ), for example using ravel().\n",
            "  y = column_or_1d(y, warn=True)\n",
            "/usr/local/lib/python3.7/dist-packages/sklearn/utils/validation.py:760: DataConversionWarning: A column-vector y was passed when a 1d array was expected. Please change the shape of y to (n_samples, ), for example using ravel().\n",
            "  y = column_or_1d(y, warn=True)\n",
            "/usr/local/lib/python3.7/dist-packages/sklearn/utils/validation.py:760: DataConversionWarning: A column-vector y was passed when a 1d array was expected. Please change the shape of y to (n_samples, ), for example using ravel().\n",
            "  y = column_or_1d(y, warn=True)\n",
            "/usr/local/lib/python3.7/dist-packages/sklearn/utils/validation.py:760: DataConversionWarning: A column-vector y was passed when a 1d array was expected. Please change the shape of y to (n_samples, ), for example using ravel().\n",
            "  y = column_or_1d(y, warn=True)\n",
            "/usr/local/lib/python3.7/dist-packages/sklearn/utils/validation.py:760: DataConversionWarning: A column-vector y was passed when a 1d array was expected. Please change the shape of y to (n_samples, ), for example using ravel().\n",
            "  y = column_or_1d(y, warn=True)\n",
            "/usr/local/lib/python3.7/dist-packages/sklearn/utils/validation.py:760: DataConversionWarning: A column-vector y was passed when a 1d array was expected. Please change the shape of y to (n_samples, ), for example using ravel().\n",
            "  y = column_or_1d(y, warn=True)\n",
            "[Parallel(n_jobs=1)]: Done  30 out of  30 | elapsed:    0.4s finished\n",
            "/usr/local/lib/python3.7/dist-packages/sklearn/utils/validation.py:760: DataConversionWarning: A column-vector y was passed when a 1d array was expected. Please change the shape of y to (n_samples, ), for example using ravel().\n",
            "  y = column_or_1d(y, warn=True)\n",
            "/usr/local/lib/python3.7/dist-packages/sklearn/linear_model/_sag.py:330: ConvergenceWarning: The max_iter was reached which means the coef_ did not converge\n",
            "  \"the coef_ did not converge\", ConvergenceWarning)\n"
          ],
          "name": "stderr"
        },
        {
          "output_type": "execute_result",
          "data": {
            "text/plain": [
              "RandomizedSearchCV(cv=3, error_score=nan,\n",
              "                   estimator=LogisticRegression(C=1.0, class_weight=None,\n",
              "                                                dual=False, fit_intercept=True,\n",
              "                                                intercept_scaling=1,\n",
              "                                                l1_ratio=None, max_iter=100,\n",
              "                                                multi_class='auto', n_jobs=None,\n",
              "                                                penalty='l2', random_state=8,\n",
              "                                                solver='lbfgs', tol=0.0001,\n",
              "                                                verbose=0, warm_start=False),\n",
              "                   iid='deprecated', n_iter=10, n_jobs=None,\n",
              "                   param_distributions={'C': [0.1, 0.2, 0.30000000000000004,\n",
              "                                              0.4, 0.5, 0.6, 0.7000000000000001,\n",
              "                                              0.8, 0.9, 1.0],\n",
              "                                        'class_weight': ['balanced', None],\n",
              "                                        'multi_class': ['multinomial'],\n",
              "                                        'penalty': ['l2'],\n",
              "                                        'solver': ['newton-cg', 'sag', 'saga',\n",
              "                                                   'lbfgs']},\n",
              "                   pre_dispatch='2*n_jobs', random_state=8, refit=True,\n",
              "                   return_train_score=False, scoring='accuracy', verbose=1)"
            ]
          },
          "metadata": {
            "tags": []
          },
          "execution_count": 111
        }
      ]
    },
    {
      "cell_type": "markdown",
      "metadata": {
        "id": "AdPt589yoGVd"
      },
      "source": [
        "We can see the best hyperparameters resulting from the Random Search:"
      ]
    },
    {
      "cell_type": "code",
      "metadata": {
        "id": "S3HsADz_oGVe",
        "colab": {
          "base_uri": "https://localhost:8080/"
        },
        "outputId": "1a07f74f-533b-464f-b0bb-85c9ccfad419"
      },
      "source": [
        "print(\"The best hyperparameters from Random Search are:\")\n",
        "print(random_search.best_params_)\n",
        "print(\"\")\n",
        "print(\"The mean accuracy of a model with these hyperparameters is:\")\n",
        "print(random_search.best_score_)"
      ],
      "execution_count": null,
      "outputs": [
        {
          "output_type": "stream",
          "text": [
            "The best hyperparameters from Random Search are:\n",
            "{'solver': 'sag', 'penalty': 'l2', 'multi_class': 'multinomial', 'class_weight': 'balanced', 'C': 1.0}\n",
            "\n",
            "The mean accuracy of a model with these hyperparameters is:\n",
            "0.5177898386853611\n"
          ],
          "name": "stdout"
        }
      ]
    },
    {
      "cell_type": "markdown",
      "metadata": {
        "id": "clvVb-P-oGVf"
      },
      "source": [
        "After that, we can do a more exhaustive search centered in those values:"
      ]
    },
    {
      "cell_type": "markdown",
      "metadata": {
        "id": "x5ws0pO_oGVg"
      },
      "source": [
        "#### **4.3.5 Grid Search Cross Validation**"
      ]
    },
    {
      "cell_type": "markdown",
      "metadata": {
        "id": "yjsQ12XYu1KT"
      },
      "source": [
        "we'll perform the Grid Search with the Scikit Learn method GridSearchCV."
      ]
    },
    {
      "cell_type": "code",
      "metadata": {
        "id": "KXxCESnGoGVg",
        "colab": {
          "base_uri": "https://localhost:8080/"
        },
        "outputId": "578dd5c5-359f-4c97-abe5-1a0cf79e851c"
      },
      "source": [
        "C = [float(x) for x in np.linspace(start = 0.6, stop = 1, num = 10)]\n",
        "multi_class = ['multinomial']\n",
        "solver = ['sag']\n",
        "class_weight = ['balanced']\n",
        "penalty = ['l2']\n",
        "\n",
        "param_grid = {'C': C,\n",
        "               'multi_class': multi_class,\n",
        "               'solver': solver,\n",
        "               'class_weight': class_weight,\n",
        "               'penalty': penalty}\n",
        "\n",
        "lrc = LogisticRegression(random_state=8)\n",
        "\n",
        "cv_sets = ShuffleSplit(n_splits = 3, test_size = .33, random_state = 8)\n",
        "\n",
        "grid_search = GridSearchCV(estimator=lrc, \n",
        "                           param_grid=param_grid,\n",
        "                           scoring='accuracy',\n",
        "                           cv=cv_sets,\n",
        "                           verbose=1)\n",
        "\n",
        "grid_search.fit(X_train, y_train)"
      ],
      "execution_count": null,
      "outputs": [
        {
          "output_type": "stream",
          "text": [
            "[Parallel(n_jobs=1)]: Using backend SequentialBackend with 1 concurrent workers.\n",
            "/usr/local/lib/python3.7/dist-packages/sklearn/utils/validation.py:760: DataConversionWarning: A column-vector y was passed when a 1d array was expected. Please change the shape of y to (n_samples, ), for example using ravel().\n",
            "  y = column_or_1d(y, warn=True)\n",
            "/usr/local/lib/python3.7/dist-packages/sklearn/utils/validation.py:760: DataConversionWarning: A column-vector y was passed when a 1d array was expected. Please change the shape of y to (n_samples, ), for example using ravel().\n",
            "  y = column_or_1d(y, warn=True)\n",
            "/usr/local/lib/python3.7/dist-packages/sklearn/utils/validation.py:760: DataConversionWarning: A column-vector y was passed when a 1d array was expected. Please change the shape of y to (n_samples, ), for example using ravel().\n",
            "  y = column_or_1d(y, warn=True)\n",
            "/usr/local/lib/python3.7/dist-packages/sklearn/utils/validation.py:760: DataConversionWarning: A column-vector y was passed when a 1d array was expected. Please change the shape of y to (n_samples, ), for example using ravel().\n",
            "  y = column_or_1d(y, warn=True)\n",
            "/usr/local/lib/python3.7/dist-packages/sklearn/utils/validation.py:760: DataConversionWarning: A column-vector y was passed when a 1d array was expected. Please change the shape of y to (n_samples, ), for example using ravel().\n",
            "  y = column_or_1d(y, warn=True)\n",
            "/usr/local/lib/python3.7/dist-packages/sklearn/utils/validation.py:760: DataConversionWarning: A column-vector y was passed when a 1d array was expected. Please change the shape of y to (n_samples, ), for example using ravel().\n",
            "  y = column_or_1d(y, warn=True)\n"
          ],
          "name": "stderr"
        },
        {
          "output_type": "stream",
          "text": [
            "Fitting 3 folds for each of 10 candidates, totalling 30 fits\n"
          ],
          "name": "stdout"
        },
        {
          "output_type": "stream",
          "text": [
            "/usr/local/lib/python3.7/dist-packages/sklearn/utils/validation.py:760: DataConversionWarning: A column-vector y was passed when a 1d array was expected. Please change the shape of y to (n_samples, ), for example using ravel().\n",
            "  y = column_or_1d(y, warn=True)\n",
            "/usr/local/lib/python3.7/dist-packages/sklearn/utils/validation.py:760: DataConversionWarning: A column-vector y was passed when a 1d array was expected. Please change the shape of y to (n_samples, ), for example using ravel().\n",
            "  y = column_or_1d(y, warn=True)\n",
            "/usr/local/lib/python3.7/dist-packages/sklearn/utils/validation.py:760: DataConversionWarning: A column-vector y was passed when a 1d array was expected. Please change the shape of y to (n_samples, ), for example using ravel().\n",
            "  y = column_or_1d(y, warn=True)\n",
            "/usr/local/lib/python3.7/dist-packages/sklearn/utils/validation.py:760: DataConversionWarning: A column-vector y was passed when a 1d array was expected. Please change the shape of y to (n_samples, ), for example using ravel().\n",
            "  y = column_or_1d(y, warn=True)\n",
            "/usr/local/lib/python3.7/dist-packages/sklearn/utils/validation.py:760: DataConversionWarning: A column-vector y was passed when a 1d array was expected. Please change the shape of y to (n_samples, ), for example using ravel().\n",
            "  y = column_or_1d(y, warn=True)\n",
            "/usr/local/lib/python3.7/dist-packages/sklearn/utils/validation.py:760: DataConversionWarning: A column-vector y was passed when a 1d array was expected. Please change the shape of y to (n_samples, ), for example using ravel().\n",
            "  y = column_or_1d(y, warn=True)\n",
            "/usr/local/lib/python3.7/dist-packages/sklearn/utils/validation.py:760: DataConversionWarning: A column-vector y was passed when a 1d array was expected. Please change the shape of y to (n_samples, ), for example using ravel().\n",
            "  y = column_or_1d(y, warn=True)\n",
            "/usr/local/lib/python3.7/dist-packages/sklearn/utils/validation.py:760: DataConversionWarning: A column-vector y was passed when a 1d array was expected. Please change the shape of y to (n_samples, ), for example using ravel().\n",
            "  y = column_or_1d(y, warn=True)\n",
            "/usr/local/lib/python3.7/dist-packages/sklearn/utils/validation.py:760: DataConversionWarning: A column-vector y was passed when a 1d array was expected. Please change the shape of y to (n_samples, ), for example using ravel().\n",
            "  y = column_or_1d(y, warn=True)\n",
            "/usr/local/lib/python3.7/dist-packages/sklearn/utils/validation.py:760: DataConversionWarning: A column-vector y was passed when a 1d array was expected. Please change the shape of y to (n_samples, ), for example using ravel().\n",
            "  y = column_or_1d(y, warn=True)\n",
            "/usr/local/lib/python3.7/dist-packages/sklearn/utils/validation.py:760: DataConversionWarning: A column-vector y was passed when a 1d array was expected. Please change the shape of y to (n_samples, ), for example using ravel().\n",
            "  y = column_or_1d(y, warn=True)\n",
            "/usr/local/lib/python3.7/dist-packages/sklearn/utils/validation.py:760: DataConversionWarning: A column-vector y was passed when a 1d array was expected. Please change the shape of y to (n_samples, ), for example using ravel().\n",
            "  y = column_or_1d(y, warn=True)\n",
            "/usr/local/lib/python3.7/dist-packages/sklearn/utils/validation.py:760: DataConversionWarning: A column-vector y was passed when a 1d array was expected. Please change the shape of y to (n_samples, ), for example using ravel().\n",
            "  y = column_or_1d(y, warn=True)\n",
            "/usr/local/lib/python3.7/dist-packages/sklearn/utils/validation.py:760: DataConversionWarning: A column-vector y was passed when a 1d array was expected. Please change the shape of y to (n_samples, ), for example using ravel().\n",
            "  y = column_or_1d(y, warn=True)\n",
            "/usr/local/lib/python3.7/dist-packages/sklearn/utils/validation.py:760: DataConversionWarning: A column-vector y was passed when a 1d array was expected. Please change the shape of y to (n_samples, ), for example using ravel().\n",
            "  y = column_or_1d(y, warn=True)\n",
            "/usr/local/lib/python3.7/dist-packages/sklearn/utils/validation.py:760: DataConversionWarning: A column-vector y was passed when a 1d array was expected. Please change the shape of y to (n_samples, ), for example using ravel().\n",
            "  y = column_or_1d(y, warn=True)\n",
            "/usr/local/lib/python3.7/dist-packages/sklearn/utils/validation.py:760: DataConversionWarning: A column-vector y was passed when a 1d array was expected. Please change the shape of y to (n_samples, ), for example using ravel().\n",
            "  y = column_or_1d(y, warn=True)\n",
            "/usr/local/lib/python3.7/dist-packages/sklearn/utils/validation.py:760: DataConversionWarning: A column-vector y was passed when a 1d array was expected. Please change the shape of y to (n_samples, ), for example using ravel().\n",
            "  y = column_or_1d(y, warn=True)\n",
            "/usr/local/lib/python3.7/dist-packages/sklearn/utils/validation.py:760: DataConversionWarning: A column-vector y was passed when a 1d array was expected. Please change the shape of y to (n_samples, ), for example using ravel().\n",
            "  y = column_or_1d(y, warn=True)\n",
            "/usr/local/lib/python3.7/dist-packages/sklearn/utils/validation.py:760: DataConversionWarning: A column-vector y was passed when a 1d array was expected. Please change the shape of y to (n_samples, ), for example using ravel().\n",
            "  y = column_or_1d(y, warn=True)\n",
            "/usr/local/lib/python3.7/dist-packages/sklearn/utils/validation.py:760: DataConversionWarning: A column-vector y was passed when a 1d array was expected. Please change the shape of y to (n_samples, ), for example using ravel().\n",
            "  y = column_or_1d(y, warn=True)\n",
            "/usr/local/lib/python3.7/dist-packages/sklearn/utils/validation.py:760: DataConversionWarning: A column-vector y was passed when a 1d array was expected. Please change the shape of y to (n_samples, ), for example using ravel().\n",
            "  y = column_or_1d(y, warn=True)\n",
            "/usr/local/lib/python3.7/dist-packages/sklearn/utils/validation.py:760: DataConversionWarning: A column-vector y was passed when a 1d array was expected. Please change the shape of y to (n_samples, ), for example using ravel().\n",
            "  y = column_or_1d(y, warn=True)\n",
            "/usr/local/lib/python3.7/dist-packages/sklearn/utils/validation.py:760: DataConversionWarning: A column-vector y was passed when a 1d array was expected. Please change the shape of y to (n_samples, ), for example using ravel().\n",
            "  y = column_or_1d(y, warn=True)\n",
            "[Parallel(n_jobs=1)]: Done  30 out of  30 | elapsed:    0.7s finished\n",
            "/usr/local/lib/python3.7/dist-packages/sklearn/utils/validation.py:760: DataConversionWarning: A column-vector y was passed when a 1d array was expected. Please change the shape of y to (n_samples, ), for example using ravel().\n",
            "  y = column_or_1d(y, warn=True)\n"
          ],
          "name": "stderr"
        },
        {
          "output_type": "execute_result",
          "data": {
            "text/plain": [
              "GridSearchCV(cv=ShuffleSplit(n_splits=3, random_state=8, test_size=0.33, train_size=None),\n",
              "             error_score=nan,\n",
              "             estimator=LogisticRegression(C=1.0, class_weight=None, dual=False,\n",
              "                                          fit_intercept=True,\n",
              "                                          intercept_scaling=1, l1_ratio=None,\n",
              "                                          max_iter=100, multi_class='auto',\n",
              "                                          n_jobs=None, penalty='l2',\n",
              "                                          random_state=8, solver='lbfgs',\n",
              "                                          tol=0.0001, verbose=0,\n",
              "                                          warm_start=False),\n",
              "             iid=...\n",
              "             param_grid={'C': [0.6, 0.6444444444444444, 0.6888888888888889,\n",
              "                               0.7333333333333333, 0.7777777777777778,\n",
              "                               0.8222222222222222, 0.8666666666666667,\n",
              "                               0.9111111111111111, 0.9555555555555555, 1.0],\n",
              "                         'class_weight': ['balanced'],\n",
              "                         'multi_class': ['multinomial'], 'penalty': ['l2'],\n",
              "                         'solver': ['sag']},\n",
              "             pre_dispatch='2*n_jobs', refit=True, return_train_score=False,\n",
              "             scoring='accuracy', verbose=1)"
            ]
          },
          "metadata": {
            "tags": []
          },
          "execution_count": 113
        }
      ]
    },
    {
      "cell_type": "markdown",
      "metadata": {
        "id": "NbrdbzavoGVi"
      },
      "source": [
        "The best hyperparameters turn out to be:"
      ]
    },
    {
      "cell_type": "code",
      "metadata": {
        "id": "NzDB44l0oGVj",
        "colab": {
          "base_uri": "https://localhost:8080/"
        },
        "outputId": "70ef0c79-9e89-4c54-cc59-a2e35fa84d16"
      },
      "source": [
        "print(\"The best hyperparameters from Grid Search are:\")\n",
        "print(grid_search.best_params_)\n",
        "print(\"\")\n",
        "print(\"The mean accuracy of a model with these hyperparameters is:\")\n",
        "print(grid_search.best_score_)"
      ],
      "execution_count": null,
      "outputs": [
        {
          "output_type": "stream",
          "text": [
            "The best hyperparameters from Grid Search are:\n",
            "{'C': 0.8222222222222222, 'class_weight': 'balanced', 'multi_class': 'multinomial', 'penalty': 'l2', 'solver': 'sag'}\n",
            "\n",
            "The mean accuracy of a model with these hyperparameters is:\n",
            "0.5050505050505051\n"
          ],
          "name": "stdout"
        }
      ]
    },
    {
      "cell_type": "markdown",
      "metadata": {
        "id": "Y4XUlnDboGVl"
      },
      "source": [
        "Let's save the model in `best_lrc`:"
      ]
    },
    {
      "cell_type": "code",
      "metadata": {
        "id": "LyL73BeSoGVl"
      },
      "source": [
        "best_lrc = grid_search.best_estimator_"
      ],
      "execution_count": null,
      "outputs": []
    },
    {
      "cell_type": "code",
      "metadata": {
        "id": "Ox3PfPn0oGVn",
        "colab": {
          "base_uri": "https://localhost:8080/"
        },
        "outputId": "3c430197-3226-4602-dde8-cd47904bde16"
      },
      "source": [
        "best_lrc"
      ],
      "execution_count": null,
      "outputs": [
        {
          "output_type": "execute_result",
          "data": {
            "text/plain": [
              "LogisticRegression(C=0.8222222222222222, class_weight='balanced', dual=False,\n",
              "                   fit_intercept=True, intercept_scaling=1, l1_ratio=None,\n",
              "                   max_iter=100, multi_class='multinomial', n_jobs=None,\n",
              "                   penalty='l2', random_state=8, solver='sag', tol=0.0001,\n",
              "                   verbose=0, warm_start=False)"
            ]
          },
          "metadata": {
            "tags": []
          },
          "execution_count": 116
        }
      ]
    },
    {
      "cell_type": "markdown",
      "metadata": {
        "id": "lNaB6t3coGVp"
      },
      "source": [
        "We now know the best logistic regression model. Let's fit it and see how it performs:"
      ]
    },
    {
      "cell_type": "markdown",
      "metadata": {
        "id": "whZSreH9oGVp"
      },
      "source": [
        "#### **4.3.6 Model fit and performance**"
      ]
    },
    {
      "cell_type": "markdown",
      "metadata": {
        "id": "oLcEb_wToGVp"
      },
      "source": [
        "Now, we can fit the model to our training data:"
      ]
    },
    {
      "cell_type": "code",
      "metadata": {
        "id": "ER-c7OmGoGVq",
        "colab": {
          "base_uri": "https://localhost:8080/"
        },
        "outputId": "f30027ea-6c77-45c2-dac1-2a95620ba978"
      },
      "source": [
        "best_lrc.fit(X_train, y_train)"
      ],
      "execution_count": null,
      "outputs": [
        {
          "output_type": "stream",
          "text": [
            "/usr/local/lib/python3.7/dist-packages/sklearn/utils/validation.py:760: DataConversionWarning: A column-vector y was passed when a 1d array was expected. Please change the shape of y to (n_samples, ), for example using ravel().\n",
            "  y = column_or_1d(y, warn=True)\n"
          ],
          "name": "stderr"
        },
        {
          "output_type": "execute_result",
          "data": {
            "text/plain": [
              "LogisticRegression(C=0.8222222222222222, class_weight='balanced', dual=False,\n",
              "                   fit_intercept=True, intercept_scaling=1, l1_ratio=None,\n",
              "                   max_iter=100, multi_class='multinomial', n_jobs=None,\n",
              "                   penalty='l2', random_state=8, solver='sag', tol=0.0001,\n",
              "                   verbose=0, warm_start=False)"
            ]
          },
          "metadata": {
            "tags": []
          },
          "execution_count": 117
        }
      ]
    },
    {
      "cell_type": "markdown",
      "metadata": {
        "id": "wW5NdHyCoGVs"
      },
      "source": [
        "And get the predictions:"
      ]
    },
    {
      "cell_type": "code",
      "metadata": {
        "id": "DM7DYa_AoGVs"
      },
      "source": [
        "lrc_pred = best_lrc.predict(X_test)"
      ],
      "execution_count": null,
      "outputs": []
    },
    {
      "cell_type": "markdown",
      "metadata": {
        "id": "v8NoYQ_8oGVu"
      },
      "source": [
        "The conditional class probabilities can be obtained by typing:\n",
        "\n",
        "`lrc_pred = best_lrc.predict_proba(features_test)`"
      ]
    },
    {
      "cell_type": "markdown",
      "metadata": {
        "id": "IdKWWN4hoGVv"
      },
      "source": [
        "For performance analysis, we will use the confusion matrix, the classification report and the accuracy on both training and test data:"
      ]
    },
    {
      "cell_type": "markdown",
      "metadata": {
        "id": "CqTEaaORoGVv"
      },
      "source": [
        "#### **4.3.7 Training accuracy**"
      ]
    },
    {
      "cell_type": "markdown",
      "metadata": {
        "id": "ky7ivmxxrNnY"
      },
      "source": [
        "As we did before with the sklearn.metrics we can see some interesting metric of our model."
      ]
    },
    {
      "cell_type": "code",
      "metadata": {
        "id": "hyvFAOHboGVw",
        "colab": {
          "base_uri": "https://localhost:8080/"
        },
        "outputId": "57826e9b-71d5-4bb1-9ed0-c61fa1b7b3fe"
      },
      "source": [
        "print(\"The training accuracy is: \")\n",
        "print(accuracy_score(y_train, best_lrc.predict(X_train)))"
      ],
      "execution_count": null,
      "outputs": [
        {
          "output_type": "stream",
          "text": [
            "The training accuracy is: \n",
            "0.8241206030150754\n"
          ],
          "name": "stdout"
        }
      ]
    },
    {
      "cell_type": "markdown",
      "metadata": {
        "id": "EW-xc8I8oGVy"
      },
      "source": [
        "#### **4.3.8 Test accuracy**"
      ]
    },
    {
      "cell_type": "code",
      "metadata": {
        "id": "no_6HqR2oGVy",
        "colab": {
          "base_uri": "https://localhost:8080/"
        },
        "outputId": "dc8b3098-299d-46b6-92b9-f3182ab95017"
      },
      "source": [
        "print(\"The test accuracy is: \")\n",
        "print(accuracy_score(y_test, lrc_pred))"
      ],
      "execution_count": null,
      "outputs": [
        {
          "output_type": "stream",
          "text": [
            "The test accuracy is: \n",
            "0.34\n"
          ],
          "name": "stdout"
        }
      ]
    },
    {
      "cell_type": "markdown",
      "metadata": {
        "id": "7V1Av44xoGV0"
      },
      "source": [
        "#### **4.3.9 Classification report**"
      ]
    },
    {
      "cell_type": "code",
      "metadata": {
        "id": "fZh8wKi0oGV1",
        "colab": {
          "base_uri": "https://localhost:8080/"
        },
        "outputId": "bcb1ffa1-9079-41fc-e9c9-1b84c70931f0"
      },
      "source": [
        "print(\"Classification report\")\n",
        "print(classification_report(y_test,lrc_pred))"
      ],
      "execution_count": null,
      "outputs": [
        {
          "output_type": "stream",
          "text": [
            "Classification report\n",
            "              precision    recall  f1-score   support\n",
            "\n",
            "           0       0.39      0.41      0.40        27\n",
            "           1       0.27      0.26      0.27        23\n",
            "\n",
            "    accuracy                           0.34        50\n",
            "   macro avg       0.33      0.33      0.33        50\n",
            "weighted avg       0.34      0.34      0.34        50\n",
            "\n"
          ],
          "name": "stdout"
        }
      ]
    },
    {
      "cell_type": "markdown",
      "metadata": {
        "id": "jzQVYudYoGV2"
      },
      "source": [
        "#### **4.3.10 Confusion matrix**"
      ]
    },
    {
      "cell_type": "code",
      "metadata": {
        "id": "hI1CKvEyoGV2",
        "colab": {
          "base_uri": "https://localhost:8080/",
          "height": 410
        },
        "outputId": "a636f1e1-7a32-4c55-e216-aaa058541d83"
      },
      "source": [
        "conf_matrix = confusion_matrix(y_test, lrc_pred)\n",
        "plt.figure(figsize=(12.8,6))\n",
        "sns.heatmap(conf_matrix, \n",
        "            annot=True,\n",
        "            cmap=\"Blues\")\n",
        "plt.ylabel('Predicted')\n",
        "plt.xlabel('Actual')\n",
        "plt.title('Confusion matrix')\n",
        "plt.show()\n"
      ],
      "execution_count": null,
      "outputs": [
        {
          "output_type": "display_data",
          "data": {
            "image/png": "[encoded data removed]",
            "text/plain": [
              "<Figure size 921.6x432 with 2 Axes>"
            ]
          },
          "metadata": {
            "tags": []
          }
        }
      ]
    },
    {
      "cell_type": "markdown",
      "metadata": {
        "id": "-atjwLC8oGV4"
      },
      "source": [
        "Let's see if the hyperparameter tuning process has returned a better model:"
      ]
    },
    {
      "cell_type": "code",
      "metadata": {
        "id": "xTTq-P-yoGV5",
        "colab": {
          "base_uri": "https://localhost:8080/"
        },
        "outputId": "bbcf0023-b3cb-4e51-d357-8d1effc72b77"
      },
      "source": [
        "base_model = LogisticRegression(random_state = 8)\n",
        "base_model.fit(X_train, y_train)\n",
        "accuracy_score(y_test, base_model.predict(X_test))"
      ],
      "execution_count": null,
      "outputs": [
        {
          "output_type": "stream",
          "text": [
            "/usr/local/lib/python3.7/dist-packages/sklearn/utils/validation.py:760: DataConversionWarning: A column-vector y was passed when a 1d array was expected. Please change the shape of y to (n_samples, ), for example using ravel().\n",
            "  y = column_or_1d(y, warn=True)\n"
          ],
          "name": "stderr"
        },
        {
          "output_type": "execute_result",
          "data": {
            "text/plain": [
              "0.36"
            ]
          },
          "metadata": {
            "tags": []
          },
          "execution_count": 123
        }
      ]
    },
    {
      "cell_type": "code",
      "metadata": {
        "id": "43uAleu3oGV6",
        "colab": {
          "base_uri": "https://localhost:8080/"
        },
        "outputId": "8c9a57f0-bae5-4ee8-c528-aa63e108738d"
      },
      "source": [
        "best_lrc.fit(X_train, y_train)\n",
        "accuracy_score(y_test, best_lrc.predict(X_test))"
      ],
      "execution_count": null,
      "outputs": [
        {
          "output_type": "stream",
          "text": [
            "/usr/local/lib/python3.7/dist-packages/sklearn/utils/validation.py:760: DataConversionWarning: A column-vector y was passed when a 1d array was expected. Please change the shape of y to (n_samples, ), for example using ravel().\n",
            "  y = column_or_1d(y, warn=True)\n"
          ],
          "name": "stderr"
        },
        {
          "output_type": "execute_result",
          "data": {
            "text/plain": [
              "0.34"
            ]
          },
          "metadata": {
            "tags": []
          },
          "execution_count": 124
        }
      ]
    },
    {
      "cell_type": "markdown",
      "metadata": {
        "id": "uG3hS5AioGV8"
      },
      "source": [
        "We get approximately the same accuracy."
      ]
    },
    {
      "cell_type": "markdown",
      "metadata": {
        "id": "Yoz6d2qNw284"
      },
      "source": [
        "#### **4.3.11 Save the results into a Dataframe for later comparison**"
      ]
    },
    {
      "cell_type": "markdown",
      "metadata": {
        "id": "iqxL_DqnoGV9"
      },
      "source": [
        "We'll create a dataset with a model summary to compare models:"
      ]
    },
    {
      "cell_type": "code",
      "metadata": {
        "id": "RKj-reHDoGV_"
      },
      "source": [
        "d = {\n",
        "     'Model': 'Logistic Regression',\n",
        "     'Training Set Accuracy': accuracy_score(y_train, best_lrc.predict(X_train)),\n",
        "     'Test Set Accuracy': accuracy_score(y_test, lrc_pred)\n",
        "}\n",
        "\n",
        "df_models_lrc = pd.DataFrame(d, index=[0])"
      ],
      "execution_count": null,
      "outputs": []
    },
    {
      "cell_type": "code",
      "metadata": {
        "id": "n4QHokPeoGWB",
        "colab": {
          "base_uri": "https://localhost:8080/",
          "height": 80
        },
        "outputId": "1d342603-dbe6-4719-f12d-f8d71020d4e0"
      },
      "source": [
        "df_models_lrc"
      ],
      "execution_count": null,
      "outputs": [
        {
          "output_type": "execute_result",
          "data": {
            "text/html": [
              "<div>\n",
              "<style scoped>\n",
              "    .dataframe tbody tr th:only-of-type {\n",
              "        vertical-align: middle;\n",
              "    }\n",
              "\n",
              "    .dataframe tbody tr th {\n",
              "        vertical-align: top;\n",
              "    }\n",
              "\n",
              "    .dataframe thead th {\n",
              "        text-align: right;\n",
              "    }\n",
              "</style>\n",
              "<table border=\"1\" class=\"dataframe\">\n",
              "  <thead>\n",
              "    <tr style=\"text-align: right;\">\n",
              "      <th></th>\n",
              "      <th>Model</th>\n",
              "      <th>Training Set Accuracy</th>\n",
              "      <th>Test Set Accuracy</th>\n",
              "    </tr>\n",
              "  </thead>\n",
              "  <tbody>\n",
              "    <tr>\n",
              "      <th>0</th>\n",
              "      <td>Logistic Regression</td>\n",
              "      <td>0.824121</td>\n",
              "      <td>0.34</td>\n",
              "    </tr>\n",
              "  </tbody>\n",
              "</table>\n",
              "</div>"
            ],
            "text/plain": [
              "                 Model  Training Set Accuracy  Test Set Accuracy\n",
              "0  Logistic Regression               0.824121               0.34"
            ]
          },
          "metadata": {
            "tags": []
          },
          "execution_count": 126
        }
      ]
    },
    {
      "cell_type": "markdown",
      "metadata": {
        "id": "iVZfPMRCoGWC"
      },
      "source": [
        "Let's save the model and this dataset:"
      ]
    },
    {
      "cell_type": "code",
      "metadata": {
        "id": "0xc9cFimoGWD"
      },
      "source": [
        "# with open('Models/best_lrc.pickle', 'wb') as output:\n",
        "#     pickle.dump(best_lrc, output)\n",
        "    \n",
        "# with open('Models/df_models_lrc.pickle', 'wb') as output:\n",
        "#     pickle.dump(df_models_lrc, output)"
      ],
      "execution_count": null,
      "outputs": []
    },
    {
      "cell_type": "markdown",
      "metadata": {
        "id": "ums4EeeukZSU"
      },
      "source": [
        "### **4.4 Comparing Results**\n",
        "\n",
        "Here we will compare the performance of several models in order to select the best one to classify fake news."
      ]
    },
    {
      "cell_type": "code",
      "metadata": {
        "id": "yVeRxi76pCGc",
        "colab": {
          "base_uri": "https://localhost:8080/",
          "height": 80
        },
        "outputId": "c81fd2c8-1dc2-4739-987f-69a30b9baf7e"
      },
      "source": [
        "df_models_gbc"
      ],
      "execution_count": null,
      "outputs": [
        {
          "output_type": "execute_result",
          "data": {
            "text/html": [
              "<div>\n",
              "<style scoped>\n",
              "    .dataframe tbody tr th:only-of-type {\n",
              "        vertical-align: middle;\n",
              "    }\n",
              "\n",
              "    .dataframe tbody tr th {\n",
              "        vertical-align: top;\n",
              "    }\n",
              "\n",
              "    .dataframe thead th {\n",
              "        text-align: right;\n",
              "    }\n",
              "</style>\n",
              "<table border=\"1\" class=\"dataframe\">\n",
              "  <thead>\n",
              "    <tr style=\"text-align: right;\">\n",
              "      <th></th>\n",
              "      <th>Model</th>\n",
              "      <th>Training Set Accuracy</th>\n",
              "      <th>Test Set Accuracy</th>\n",
              "    </tr>\n",
              "  </thead>\n",
              "  <tbody>\n",
              "    <tr>\n",
              "      <th>0</th>\n",
              "      <td>Gradient Boosting</td>\n",
              "      <td>0.984925</td>\n",
              "      <td>0.64</td>\n",
              "    </tr>\n",
              "  </tbody>\n",
              "</table>\n",
              "</div>"
            ],
            "text/plain": [
              "               Model  Training Set Accuracy  Test Set Accuracy\n",
              "0  Gradient Boosting               0.984925               0.64"
            ]
          },
          "metadata": {
            "tags": []
          },
          "execution_count": 128
        }
      ]
    },
    {
      "cell_type": "code",
      "metadata": {
        "id": "N7_CR0PspFRM",
        "colab": {
          "base_uri": "https://localhost:8080/",
          "height": 80
        },
        "outputId": "19b9a1ef-79c4-4e95-979f-2e5ced7886f0"
      },
      "source": [
        "df_models_rfc"
      ],
      "execution_count": null,
      "outputs": [
        {
          "output_type": "execute_result",
          "data": {
            "text/html": [
              "<div>\n",
              "<style scoped>\n",
              "    .dataframe tbody tr th:only-of-type {\n",
              "        vertical-align: middle;\n",
              "    }\n",
              "\n",
              "    .dataframe tbody tr th {\n",
              "        vertical-align: top;\n",
              "    }\n",
              "\n",
              "    .dataframe thead th {\n",
              "        text-align: right;\n",
              "    }\n",
              "</style>\n",
              "<table border=\"1\" class=\"dataframe\">\n",
              "  <thead>\n",
              "    <tr style=\"text-align: right;\">\n",
              "      <th></th>\n",
              "      <th>Model</th>\n",
              "      <th>Training Set Accuracy</th>\n",
              "      <th>Test Set Accuracy</th>\n",
              "    </tr>\n",
              "  </thead>\n",
              "  <tbody>\n",
              "    <tr>\n",
              "      <th>0</th>\n",
              "      <td>Random Forest</td>\n",
              "      <td>0.984925</td>\n",
              "      <td>0.6</td>\n",
              "    </tr>\n",
              "  </tbody>\n",
              "</table>\n",
              "</div>"
            ],
            "text/plain": [
              "           Model  Training Set Accuracy  Test Set Accuracy\n",
              "0  Random Forest               0.984925                0.6"
            ]
          },
          "metadata": {
            "tags": []
          },
          "execution_count": 129
        }
      ]
    },
    {
      "cell_type": "code",
      "metadata": {
        "id": "Et5Qd-vmdjgD",
        "colab": {
          "base_uri": "https://localhost:8080/",
          "height": 80
        },
        "outputId": "da5ca537-cc18-46d2-fb91-6658c50a57c2"
      },
      "source": [
        "df_models_lrc"
      ],
      "execution_count": null,
      "outputs": [
        {
          "output_type": "execute_result",
          "data": {
            "text/html": [
              "<div>\n",
              "<style scoped>\n",
              "    .dataframe tbody tr th:only-of-type {\n",
              "        vertical-align: middle;\n",
              "    }\n",
              "\n",
              "    .dataframe tbody tr th {\n",
              "        vertical-align: top;\n",
              "    }\n",
              "\n",
              "    .dataframe thead th {\n",
              "        text-align: right;\n",
              "    }\n",
              "</style>\n",
              "<table border=\"1\" class=\"dataframe\">\n",
              "  <thead>\n",
              "    <tr style=\"text-align: right;\">\n",
              "      <th></th>\n",
              "      <th>Model</th>\n",
              "      <th>Training Set Accuracy</th>\n",
              "      <th>Test Set Accuracy</th>\n",
              "    </tr>\n",
              "  </thead>\n",
              "  <tbody>\n",
              "    <tr>\n",
              "      <th>0</th>\n",
              "      <td>Logistic Regression</td>\n",
              "      <td>0.824121</td>\n",
              "      <td>0.34</td>\n",
              "    </tr>\n",
              "  </tbody>\n",
              "</table>\n",
              "</div>"
            ],
            "text/plain": [
              "                 Model  Training Set Accuracy  Test Set Accuracy\n",
              "0  Logistic Regression               0.824121               0.34"
            ]
          },
          "metadata": {
            "tags": []
          },
          "execution_count": 130
        }
      ]
    },
    {
      "cell_type": "markdown",
      "metadata": {
        "id": "T-hX84BVzwp3"
      },
      "source": [
        "The most accurate algorithm is Gradient Boosting.\n",
        "\n"
      ]
    },
    {
      "cell_type": "markdown",
      "metadata": {
        "id": "qMHBv5QRgHFk"
      },
      "source": [
        "## **5. Build and share data apps with Streamlit** "
      ]
    },
    {
      "cell_type": "markdown",
      "metadata": {
        "id": "20_KobNaANvr"
      },
      "source": [
        "Here we can see an interactive App about our Fake News EDA built with Streamlit"
      ]
    },
    {
      "cell_type": "code",
      "metadata": {
        "colab": {
          "base_uri": "https://localhost:8080/",
          "height": 1000
        },
        "id": "i92rhqJ1fcQG",
        "outputId": "52e69858-8f76-420d-93c9-ad6f7b7e4281"
      },
      "source": [
        "%%writefile streamlit.py\n",
        "import numpy as np\n",
        "import pandas as pd\n",
        "!pip3 install streamlit\n",
        "import streamlit as st\n",
        "import os\n",
        "import seaborn as sns\n",
        "import matplotlib.pyplot as plt\n",
        "import matplotlib.ticker as mtick\n",
        "\n",
        "st.title(\"EDA FAKE NEWS\")\n",
        "st.header(\"We can see an interactive App about our Fake News EDA built with streamlit\")\n",
        "st.header(\"\")\n",
        "\n",
        "#EDA\n",
        "my_dataset = 'train_df.csv'\n",
        "\n",
        "#Load Dataset\n",
        "@st.cache(persist = True)\n",
        "def explore_data(dataset):\n",
        "  df = pd.read_csv(os.path.join(dataset))\n",
        "  return df\n",
        "\n",
        "data = explore_data(my_dataset)\n",
        "\n",
        "if st.checkbox(\"Show Dataset\"):\n",
        "  if st.button(\"Head\"):\n",
        "    st.write(data.head())\n",
        "  elif st.button(\"Tail\"):\n",
        "    st.write(data.tail())\n",
        "  else: \n",
        "    st.write(data.head(2))  \n",
        "\n",
        "st.text(\"\")\n",
        "\n",
        "#Show entire dataset\n",
        "if st.checkbox(\"Show All Dataset\"):\n",
        "  st.dataframe(data) \n",
        "\n",
        "st.text(\"\")\n",
        "\n",
        "#Show Column Name\n",
        "if st.checkbox(\"Show Column Names\"):\n",
        "  st.write(data.columns) \n",
        "\n",
        "st.text(\"\")\n",
        "\n",
        "#Show dimensions\n",
        "data_dimensions = st.radio(\"What Dimensions Do You Want to See\", (\"Rows\", \"Columns\", \"All\"))\n",
        "if data_dimensions == \"Rows\":\n",
        "  st.text(\"Showing Rows\")\n",
        "  st.write(data.shape[0])\n",
        "elif data_dimensions == \"Columns\":\n",
        "  st.text(\"Showing Columns\")\n",
        "  st.write(data.shape[1])\n",
        "else:\n",
        "  st.text(\"Showing Shape of Dataset\")\n",
        "  st.write(data.shape)\n",
        "\n",
        "st.text(\"\")\n",
        "\n",
        "#Show SetRevisionSummary\n",
        "if st.checkbox(\"Show Summary of Dataset\"):\n",
        "  st.write(data.describe())\n",
        "\n",
        "st.text(\"\")\n",
        "\n",
        "#Select a Column\n",
        "col_option = st.selectbox(\"Select Column\", (\"Body ID\",\"Stance\", \"pos_tags_body\", \"pos_tags_headline\", \"wordnet_pos_body\", \n",
        "\"wordnet_pos_headline\", \"lemmatized_body_string\", \"lemmatized_headline_string\"))\n",
        "if col_option == \"Body ID\":\n",
        "  st.write(data['Body ID'])\n",
        "elif col_option == \"Stance\":\n",
        "  st.write(data['Stance'])\n",
        "elif col_option == \"pos_tags_body\":\n",
        "  st.write(data['pos_tags_body'])\n",
        "elif col_option == \"pos_tags_headline\":\n",
        "  st.write(data['pos_tags_headline'])\n",
        "elif col_option == \"wordnet_pos_body\":\n",
        "  st.write(data['wordnet_pos_body'])\n",
        "elif col_option == \"wordnet_pos_headline\":\n",
        "  st.write(data['wordnet_pos_headline'])\n",
        "elif col_option == \"lemmatized_body_string\":\n",
        "  st.write(data['lemmatized_body_string'])\n",
        "elif col_option == \"lemmatized_headline_string\":\n",
        "  st.write(data['lemmatized_headline_string'])\n",
        "else:\n",
        "  st.write(\"Select Column\")\n",
        "\n",
        "st.text(\"\")\n",
        "\n",
        "#Plot\n",
        "\n",
        "def plot_CountArticlesByStance():\n",
        "\n",
        "  stances = data['Stance']\n",
        "\n",
        "  pkmn_type_colors = ['#78C850',  # Grass\n",
        "                    '#F08030',  # Fire\n",
        "                    '#6890F0',  # Water\n",
        "                    '#A8B820',  # Bug\n",
        "                    '#A8A878',  # Normal\n",
        "                    '#A040A0',  # Poison\n",
        "                    '#F8D030',  # Electric\n",
        "                    '#E0C068',  # Ground\n",
        "                    '#EE99AC',  # Fairy\n",
        "                    '#C03028',  # Fighting\n",
        "                    '#F85888',  # Psychic\n",
        "                    '#B8A038',  # Rock\n",
        "                    '#705898',  # Ghost\n",
        "                    '#98D8D8',  # Ice\n",
        "                    '#7038F8',  # Dragon\n",
        "                   ]\n",
        "  fmt = '{x:,.0f}'\n",
        "  plt.figure(figsize=(12.8,6))\n",
        "  ax = stances.value_counts().plot(kind='bar', color=pkmn_type_colors,rot=0)\n",
        "  ax.yaxis.set_major_formatter(mtick.StrMethodFormatter(fmt))\n",
        "  for p in ax.patches: \n",
        "    ax.annotate(np.round(p.get_height(),decimals=2), \n",
        "                (p.get_x()+p.get_width()/2., p.get_height()), \n",
        "                ha='center', va='center', xytext=(0, 10), textcoords='offset points')\n",
        "    \n",
        "  plt.xlabel(\"Stance\", labelpad=14)\n",
        "  plt.ylabel(\"Articles\", labelpad=14)\n",
        "  plt.title(\"Count Articles by Stance\", y=1.02);\n",
        "\n",
        "def plot_PercentatgeArticlesByStance():\n",
        "  pkmn_type_colors = ['#78C850',  # Grass\n",
        "                    '#F08030',  # Fire\n",
        "                    '#6890F0',  # Water\n",
        "                    '#A8B820',  # Bug\n",
        "                    '#A8A878',  # Normal\n",
        "                    '#A040A0',  # Poison\n",
        "                    '#F8D030',  # Electric\n",
        "                    '#E0C068',  # Ground\n",
        "                    '#EE99AC',  # Fairy\n",
        "                    '#C03028',  # Fighting\n",
        "                    '#F85888',  # Psychic\n",
        "                    '#B8A038',  # Rock\n",
        "                    '#705898',  # Ghost\n",
        "                    '#98D8D8',  # Ice\n",
        "                    '#7038F8',  # Dragon\n",
        "                   ]\n",
        "\n",
        "  train_df_by_stances = data.groupby('Stance')['Body ID'].count()\n",
        "  TotalArticles = train_df_by_stances[0:].sum()\n",
        "  train_df_by_stances['Percent of Total'] = train_df_by_stances[0:]*100 / TotalArticles\n",
        "  print(train_df_by_stances['Percent of Total'])\n",
        "\n",
        "  plt.figure(figsize=(18.6,6))\n",
        "  ax= train_df_by_stances['Percent of Total'].plot(kind='bar', color=pkmn_type_colors)\n",
        "  labels = list(train_df_by_stances.index)\n",
        "  ax.set_xlabel(labels)\n",
        "  ax.yaxis.set_major_formatter(mtick.PercentFormatter())\n",
        "\n",
        "  for p in ax.patches: \n",
        "    ax.annotate(np.round(p.get_height(),decimals=2), \n",
        "                (p.get_x()+p.get_width()/2., p.get_height()), \n",
        "                ha='center', va='center', xytext=(0, 10), \n",
        "                textcoords='offset points')\n",
        "\n",
        "  plt.xlabel(\"Stance\", labelpad=14)\n",
        "  plt.ylabel(\"% of Articles\", labelpad=14)\n",
        "  plt.title(\"% of Articles in each Stance\", y=1.02);\n",
        "\n",
        "\n",
        "plot_option = st.selectbox(\"Some graphics about our Dataset\", (\"Count Articles By Stance\", \"Percentatge of Articles By Stance\"))\n",
        "\n",
        "if plot_option == \"Count Articles By Stance\":\n",
        "  st.text(\"0 = Fake, 1 = Fact\")\n",
        "  st.write(plot_CountArticlesByStance())\n",
        "  st.set_option('deprecation.showPyplotGlobalUse', False)\n",
        "  st.pyplot()\n",
        "if plot_option == \"Percentatge of Articles By Stance\":\n",
        "  st.text(\"0 = Fake, 1 = Fact\")\n",
        "  st.write(plot_PercentatgeArticlesByStance())\n",
        "  st.set_option('deprecation.showPyplotGlobalUse', False)\n",
        "  st.pyplot()"
      ],
      "execution_count": null,
      "outputs": [
        {
          "output_type": "stream",
          "text": [
            "Requirement already satisfied: streamlit in /usr/local/lib/python3.7/dist-packages (0.81.0)\n",
            "Requirement already satisfied: requests in /usr/local/lib/python3.7/dist-packages (from streamlit) (2.23.0)\n",
            "Requirement already satisfied: python-dateutil in /usr/local/lib/python3.7/dist-packages (from streamlit) (2.8.1)\n",
            "Requirement already satisfied: altair>=3.2.0 in /usr/local/lib/python3.7/dist-packages (from streamlit) (4.1.0)\n",
            "Requirement already satisfied: cachetools>=4.0 in /usr/local/lib/python3.7/dist-packages (from streamlit) (4.2.1)\n",
            "Requirement already satisfied: validators in /usr/local/lib/python3.7/dist-packages (from streamlit) (0.18.2)\n",
            "Requirement already satisfied: protobuf!=3.11,>=3.6.0 in /usr/local/lib/python3.7/dist-packages (from streamlit) (3.12.4)\n",
            "Requirement already satisfied: watchdog; platform_system != \"Darwin\" in /usr/local/lib/python3.7/dist-packages (from streamlit) (2.0.3)\n",
            "Requirement already satisfied: tzlocal in /usr/local/lib/python3.7/dist-packages (from streamlit) (1.5.1)\n",
            "Requirement already satisfied: base58 in /usr/local/lib/python3.7/dist-packages (from streamlit) (2.1.0)\n",
            "Requirement already satisfied: tornado>=5.0 in /usr/local/lib/python3.7/dist-packages (from streamlit) (5.1.1)\n",
            "Requirement already satisfied: numpy in /usr/local/lib/python3.7/dist-packages (from streamlit) (1.19.5)\n",
            "Requirement already satisfied: pillow>=6.2.0 in /usr/local/lib/python3.7/dist-packages (from streamlit) (7.1.2)\n",
            "Requirement already satisfied: pyarrow; python_version < \"3.9\" in /usr/local/lib/python3.7/dist-packages (from streamlit) (3.0.0)\n",
            "Requirement already satisfied: toml in /usr/local/lib/python3.7/dist-packages (from streamlit) (0.10.2)\n",
            "Requirement already satisfied: click>=7.0 in /usr/local/lib/python3.7/dist-packages (from streamlit) (7.1.2)\n",
            "Requirement already satisfied: pydeck>=0.1.dev5 in /usr/local/lib/python3.7/dist-packages (from streamlit) (0.6.2)\n",
            "Requirement already satisfied: pandas>=0.21.0 in /usr/local/lib/python3.7/dist-packages (from streamlit) (1.1.5)\n",
            "Requirement already satisfied: blinker in /usr/local/lib/python3.7/dist-packages (from streamlit) (1.4)\n",
            "Requirement already satisfied: packaging in /usr/local/lib/python3.7/dist-packages (from streamlit) (20.9)\n",
            "Requirement already satisfied: gitpython in /usr/local/lib/python3.7/dist-packages (from streamlit) (3.1.14)\n",
            "Requirement already satisfied: astor in /usr/local/lib/python3.7/dist-packages (from streamlit) (0.8.1)\n",
            "Requirement already satisfied: chardet<4,>=3.0.2 in /usr/local/lib/python3.7/dist-packages (from requests->streamlit) (3.0.4)\n",
            "Requirement already satisfied: certifi>=2017.4.17 in /usr/local/lib/python3.7/dist-packages (from requests->streamlit) (2020.12.5)\n",
            "Requirement already satisfied: urllib3!=1.25.0,!=1.25.1,<1.26,>=1.21.1 in /usr/local/lib/python3.7/dist-packages (from requests->streamlit) (1.24.3)\n",
            "Requirement already satisfied: idna<3,>=2.5 in /usr/local/lib/python3.7/dist-packages (from requests->streamlit) (2.10)\n",
            "Requirement already satisfied: six>=1.5 in /usr/local/lib/python3.7/dist-packages (from python-dateutil->streamlit) (1.15.0)\n",
            "Requirement already satisfied: entrypoints in /usr/local/lib/python3.7/dist-packages (from altair>=3.2.0->streamlit) (0.3)\n",
            "Requirement already satisfied: jsonschema in /usr/local/lib/python3.7/dist-packages (from altair>=3.2.0->streamlit) (2.6.0)\n",
            "Requirement already satisfied: toolz in /usr/local/lib/python3.7/dist-packages (from altair>=3.2.0->streamlit) (0.11.1)\n",
            "Requirement already satisfied: jinja2 in /usr/local/lib/python3.7/dist-packages (from altair>=3.2.0->streamlit) (2.11.3)\n",
            "Requirement already satisfied: decorator>=3.4.0 in /usr/local/lib/python3.7/dist-packages (from validators->streamlit) (4.4.2)\n",
            "Requirement already satisfied: setuptools in /usr/local/lib/python3.7/dist-packages (from protobuf!=3.11,>=3.6.0->streamlit) (56.0.0)\n",
            "Requirement already satisfied: pytz in /usr/local/lib/python3.7/dist-packages (from tzlocal->streamlit) (2018.9)\n",
            "Requirement already satisfied: ipykernel>=5.1.2; python_version >= \"3.4\" in /usr/local/lib/python3.7/dist-packages (from pydeck>=0.1.dev5->streamlit) (5.5.3)\n",
            "Requirement already satisfied: ipywidgets>=7.0.0 in /usr/local/lib/python3.7/dist-packages (from pydeck>=0.1.dev5->streamlit) (7.6.3)\n",
            "Requirement already satisfied: traitlets>=4.3.2 in /usr/local/lib/python3.7/dist-packages (from pydeck>=0.1.dev5->streamlit) (5.0.5)\n",
            "Requirement already satisfied: pyparsing>=2.0.2 in /usr/local/lib/python3.7/dist-packages (from packaging->streamlit) (2.4.7)\n",
            "Requirement already satisfied: gitdb<5,>=4.0.1 in /usr/local/lib/python3.7/dist-packages (from gitpython->streamlit) (4.0.7)\n",
            "Requirement already satisfied: MarkupSafe>=0.23 in /usr/local/lib/python3.7/dist-packages (from jinja2->altair>=3.2.0->streamlit) (1.1.1)\n",
            "Requirement already satisfied: ipython>=5.0.0 in /usr/local/lib/python3.7/dist-packages (from ipykernel>=5.1.2; python_version >= \"3.4\"->pydeck>=0.1.dev5->streamlit) (5.5.0)\n",
            "Requirement already satisfied: jupyter-client in /usr/local/lib/python3.7/dist-packages (from ipykernel>=5.1.2; python_version >= \"3.4\"->pydeck>=0.1.dev5->streamlit) (5.3.5)\n",
            "Requirement already satisfied: jupyterlab-widgets>=1.0.0; python_version >= \"3.6\" in /usr/local/lib/python3.7/dist-packages (from ipywidgets>=7.0.0->pydeck>=0.1.dev5->streamlit) (1.0.0)\n",
            "Requirement already satisfied: widgetsnbextension~=3.5.0 in /usr/local/lib/python3.7/dist-packages (from ipywidgets>=7.0.0->pydeck>=0.1.dev5->streamlit) (3.5.1)\n",
            "Requirement already satisfied: nbformat>=4.2.0 in /usr/local/lib/python3.7/dist-packages (from ipywidgets>=7.0.0->pydeck>=0.1.dev5->streamlit) (5.1.3)\n",
            "Requirement already satisfied: ipython-genutils in /usr/local/lib/python3.7/dist-packages (from traitlets>=4.3.2->pydeck>=0.1.dev5->streamlit) (0.2.0)\n",
            "Requirement already satisfied: smmap<5,>=3.0.1 in /usr/local/lib/python3.7/dist-packages (from gitdb<5,>=4.0.1->gitpython->streamlit) (4.0.0)\n",
            "Requirement already satisfied: pickleshare in /usr/local/lib/python3.7/dist-packages (from ipython>=5.0.0->ipykernel>=5.1.2; python_version >= \"3.4\"->pydeck>=0.1.dev5->streamlit) (0.7.5)\n",
            "Requirement already satisfied: pygments in /usr/local/lib/python3.7/dist-packages (from ipython>=5.0.0->ipykernel>=5.1.2; python_version >= \"3.4\"->pydeck>=0.1.dev5->streamlit) (2.6.1)\n",
            "Requirement already satisfied: prompt-toolkit<2.0.0,>=1.0.4 in /usr/local/lib/python3.7/dist-packages (from ipython>=5.0.0->ipykernel>=5.1.2; python_version >= \"3.4\"->pydeck>=0.1.dev5->streamlit) (1.0.18)\n",
            "Requirement already satisfied: simplegeneric>0.8 in /usr/local/lib/python3.7/dist-packages (from ipython>=5.0.0->ipykernel>=5.1.2; python_version >= \"3.4\"->pydeck>=0.1.dev5->streamlit) (0.8.1)\n",
            "Requirement already satisfied: pexpect; sys_platform != \"win32\" in /usr/local/lib/python3.7/dist-packages (from ipython>=5.0.0->ipykernel>=5.1.2; python_version >= \"3.4\"->pydeck>=0.1.dev5->streamlit) (4.8.0)\n",
            "Requirement already satisfied: pyzmq>=13 in /usr/local/lib/python3.7/dist-packages (from jupyter-client->ipykernel>=5.1.2; python_version >= \"3.4\"->pydeck>=0.1.dev5->streamlit) (22.0.3)\n",
            "Requirement already satisfied: jupyter-core>=4.6.0 in /usr/local/lib/python3.7/dist-packages (from jupyter-client->ipykernel>=5.1.2; python_version >= \"3.4\"->pydeck>=0.1.dev5->streamlit) (4.7.1)\n",
            "Requirement already satisfied: notebook>=4.4.1 in /usr/local/lib/python3.7/dist-packages (from widgetsnbextension~=3.5.0->ipywidgets>=7.0.0->pydeck>=0.1.dev5->streamlit) (5.3.1)\n",
            "Requirement already satisfied: wcwidth in /usr/local/lib/python3.7/dist-packages (from prompt-toolkit<2.0.0,>=1.0.4->ipython>=5.0.0->ipykernel>=5.1.2; python_version >= \"3.4\"->pydeck>=0.1.dev5->streamlit) (0.2.5)\n",
            "Requirement already satisfied: ptyprocess>=0.5 in /usr/local/lib/python3.7/dist-packages (from pexpect; sys_platform != \"win32\"->ipython>=5.0.0->ipykernel>=5.1.2; python_version >= \"3.4\"->pydeck>=0.1.dev5->streamlit) (0.7.0)\n",
            "Requirement already satisfied: Send2Trash in /usr/local/lib/python3.7/dist-packages (from notebook>=4.4.1->widgetsnbextension~=3.5.0->ipywidgets>=7.0.0->pydeck>=0.1.dev5->streamlit) (1.5.0)\n",
            "Requirement already satisfied: terminado>=0.8.1 in /usr/local/lib/python3.7/dist-packages (from notebook>=4.4.1->widgetsnbextension~=3.5.0->ipywidgets>=7.0.0->pydeck>=0.1.dev5->streamlit) (0.9.4)\n",
            "Requirement already satisfied: nbconvert in /usr/local/lib/python3.7/dist-packages (from notebook>=4.4.1->widgetsnbextension~=3.5.0->ipywidgets>=7.0.0->pydeck>=0.1.dev5->streamlit) (5.6.1)\n",
            "Requirement already satisfied: defusedxml in /usr/local/lib/python3.7/dist-packages (from nbconvert->notebook>=4.4.1->widgetsnbextension~=3.5.0->ipywidgets>=7.0.0->pydeck>=0.1.dev5->streamlit) (0.7.1)\n",
            "Requirement already satisfied: bleach in /usr/local/lib/python3.7/dist-packages (from nbconvert->notebook>=4.4.1->widgetsnbextension~=3.5.0->ipywidgets>=7.0.0->pydeck>=0.1.dev5->streamlit) (3.3.0)\n",
            "Requirement already satisfied: testpath in /usr/local/lib/python3.7/dist-packages (from nbconvert->notebook>=4.4.1->widgetsnbextension~=3.5.0->ipywidgets>=7.0.0->pydeck>=0.1.dev5->streamlit) (0.4.4)\n",
            "Requirement already satisfied: mistune<2,>=0.8.1 in /usr/local/lib/python3.7/dist-packages (from nbconvert->notebook>=4.4.1->widgetsnbextension~=3.5.0->ipywidgets>=7.0.0->pydeck>=0.1.dev5->streamlit) (0.8.4)\n",
            "Requirement already satisfied: pandocfilters>=1.4.1 in /usr/local/lib/python3.7/dist-packages (from nbconvert->notebook>=4.4.1->widgetsnbextension~=3.5.0->ipywidgets>=7.0.0->pydeck>=0.1.dev5->streamlit) (1.4.3)\n",
            "Requirement already satisfied: webencodings in /usr/local/lib/python3.7/dist-packages (from bleach->nbconvert->notebook>=4.4.1->widgetsnbextension~=3.5.0->ipywidgets>=7.0.0->pydeck>=0.1.dev5->streamlit) (0.5.1)\n"
          ],
          "name": "stdout"
        },
        {
          "output_type": "stream",
          "text": [
            "2021-05-03 17:19:17.530 WARNING root: \n",
            "  \u001b[33m\u001b[1mWarning:\u001b[0m to view this Streamlit app on a browser, run it with the following\n",
            "  command:\n",
            "\n",
            "    streamlit run /usr/local/lib/python3.7/dist-packages/ipykernel_launcher.py [ARGUMENTS]\n"
          ],
          "name": "stderr"
        },
        {
          "output_type": "error",
          "ename": "InternalHashError",
          "evalue": "ignored",
          "traceback": [
            "\u001b[0;31m---------------------------------------------------------------------------\u001b[0m",
            "\u001b[0;31mAttributeError\u001b[0m                            Traceback (most recent call last)",
            "\u001b[0;32m/usr/local/lib/python3.7/dist-packages/streamlit/hashing.py\u001b[0m in \u001b[0;36mto_bytes\u001b[0;34m(self, obj, context)\u001b[0m\n\u001b[1;32m    351\u001b[0m             \u001b[0;31m# Hash the input\u001b[0m\u001b[0;34m\u001b[0m\u001b[0;34m\u001b[0m\u001b[0;34m\u001b[0m\u001b[0m\n\u001b[0;32m--> 352\u001b[0;31m             \u001b[0mb\u001b[0m \u001b[0;34m=\u001b[0m \u001b[0;34mb\"%s:%s\"\u001b[0m \u001b[0;34m%\u001b[0m \u001b[0;34m(\u001b[0m\u001b[0mtname\u001b[0m\u001b[0;34m,\u001b[0m \u001b[0mself\u001b[0m\u001b[0;34m.\u001b[0m\u001b[0m_to_bytes\u001b[0m\u001b[0;34m(\u001b[0m\u001b[0mobj\u001b[0m\u001b[0;34m,\u001b[0m \u001b[0mcontext\u001b[0m\u001b[0;34m)\u001b[0m\u001b[0;34m)\u001b[0m\u001b[0;34m\u001b[0m\u001b[0;34m\u001b[0m\u001b[0m\n\u001b[0m\u001b[1;32m    353\u001b[0m \u001b[0;34m\u001b[0m\u001b[0m\n",
            "\u001b[0;32m/usr/local/lib/python3.7/dist-packages/streamlit/hashing.py\u001b[0m in \u001b[0;36m_to_bytes\u001b[0;34m(self, obj, context)\u001b[0m\n\u001b[1;32m    607\u001b[0m \u001b[0;34m\u001b[0m\u001b[0m\n\u001b[0;32m--> 608\u001b[0;31m             \u001b[0;32mif\u001b[0m \u001b[0mself\u001b[0m\u001b[0;34m.\u001b[0m\u001b[0m_file_should_be_hashed\u001b[0m\u001b[0;34m(\u001b[0m\u001b[0mobj\u001b[0m\u001b[0;34m.\u001b[0m\u001b[0m__code__\u001b[0m\u001b[0;34m.\u001b[0m\u001b[0mco_filename\u001b[0m\u001b[0;34m)\u001b[0m\u001b[0;34m:\u001b[0m\u001b[0;34m\u001b[0m\u001b[0;34m\u001b[0m\u001b[0m\n\u001b[0m\u001b[1;32m    609\u001b[0m                 \u001b[0mcontext\u001b[0m \u001b[0;34m=\u001b[0m \u001b[0m_get_context\u001b[0m\u001b[0;34m(\u001b[0m\u001b[0mobj\u001b[0m\u001b[0;34m)\u001b[0m\u001b[0;34m\u001b[0m\u001b[0;34m\u001b[0m\u001b[0m\n",
            "\u001b[0;32m/usr/local/lib/python3.7/dist-packages/streamlit/hashing.py\u001b[0m in \u001b[0;36m_file_should_be_hashed\u001b[0;34m(self, filename)\u001b[0m\n\u001b[1;32m    386\u001b[0m         return file_util.file_is_in_folder_glob(\n\u001b[0;32m--> 387\u001b[0;31m             \u001b[0mfilepath\u001b[0m\u001b[0;34m,\u001b[0m \u001b[0mself\u001b[0m\u001b[0;34m.\u001b[0m\u001b[0m_get_main_script_directory\u001b[0m\u001b[0;34m(\u001b[0m\u001b[0;34m)\u001b[0m\u001b[0;34m\u001b[0m\u001b[0;34m\u001b[0m\u001b[0m\n\u001b[0m\u001b[1;32m    388\u001b[0m         ) or file_util.file_in_pythonpath(filepath)\n",
            "\u001b[0;32m/usr/local/lib/python3.7/dist-packages/streamlit/hashing.py\u001b[0m in \u001b[0;36m_get_main_script_directory\u001b[0;34m()\u001b[0m\n\u001b[1;32m    691\u001b[0m         \u001b[0;31m# script path in ScriptRunner.\u001b[0m\u001b[0;34m\u001b[0m\u001b[0;34m\u001b[0m\u001b[0;34m\u001b[0m\u001b[0m\n\u001b[0;32m--> 692\u001b[0;31m         \u001b[0mmain_path\u001b[0m \u001b[0;34m=\u001b[0m \u001b[0m__main__\u001b[0m\u001b[0;34m.\u001b[0m\u001b[0m__file__\u001b[0m\u001b[0;34m\u001b[0m\u001b[0;34m\u001b[0m\u001b[0m\n\u001b[0m\u001b[1;32m    693\u001b[0m         \u001b[0;32mreturn\u001b[0m \u001b[0mos\u001b[0m\u001b[0;34m.\u001b[0m\u001b[0mpath\u001b[0m\u001b[0;34m.\u001b[0m\u001b[0mdirname\u001b[0m\u001b[0;34m(\u001b[0m\u001b[0mmain_path\u001b[0m\u001b[0;34m)\u001b[0m\u001b[0;34m\u001b[0m\u001b[0;34m\u001b[0m\u001b[0m\n",
            "\u001b[0;31mAttributeError\u001b[0m: module '__main__' has no attribute '__file__'",
            "\nDuring handling of the above exception, another exception occurred:\n",
            "\u001b[0;31mInternalHashError\u001b[0m                         Traceback (most recent call last)",
            "\u001b[0;32m<ipython-input-131-2489e121d8ea>\u001b[0m in \u001b[0;36m<module>\u001b[0;34m()\u001b[0m\n\u001b[1;32m     22\u001b[0m   \u001b[0;32mreturn\u001b[0m \u001b[0mdf\u001b[0m\u001b[0;34m\u001b[0m\u001b[0;34m\u001b[0m\u001b[0m\n\u001b[1;32m     23\u001b[0m \u001b[0;34m\u001b[0m\u001b[0m\n\u001b[0;32m---> 24\u001b[0;31m \u001b[0mdata\u001b[0m \u001b[0;34m=\u001b[0m \u001b[0mexplore_data\u001b[0m\u001b[0;34m(\u001b[0m\u001b[0mmy_dataset\u001b[0m\u001b[0;34m)\u001b[0m\u001b[0;34m\u001b[0m\u001b[0;34m\u001b[0m\u001b[0m\n\u001b[0m\u001b[1;32m     25\u001b[0m \u001b[0;34m\u001b[0m\u001b[0m\n\u001b[1;32m     26\u001b[0m \u001b[0;32mif\u001b[0m \u001b[0mst\u001b[0m\u001b[0;34m.\u001b[0m\u001b[0mcheckbox\u001b[0m\u001b[0;34m(\u001b[0m\u001b[0;34m\"Show Dataset\"\u001b[0m\u001b[0;34m)\u001b[0m\u001b[0;34m:\u001b[0m\u001b[0;34m\u001b[0m\u001b[0;34m\u001b[0m\u001b[0m\n",
            "\u001b[0;32m/usr/local/lib/python3.7/dist-packages/streamlit/caching.py\u001b[0m in \u001b[0;36mwrapped_func\u001b[0;34m(*args, **kwargs)\u001b[0m\n\u001b[1;32m    571\u001b[0m         \u001b[0;32mif\u001b[0m \u001b[0mshow_spinner\u001b[0m\u001b[0;34m:\u001b[0m\u001b[0;34m\u001b[0m\u001b[0;34m\u001b[0m\u001b[0m\n\u001b[1;32m    572\u001b[0m             \u001b[0;32mwith\u001b[0m \u001b[0mst\u001b[0m\u001b[0;34m.\u001b[0m\u001b[0mspinner\u001b[0m\u001b[0;34m(\u001b[0m\u001b[0mmessage\u001b[0m\u001b[0;34m)\u001b[0m\u001b[0;34m:\u001b[0m\u001b[0;34m\u001b[0m\u001b[0;34m\u001b[0m\u001b[0m\n\u001b[0;32m--> 573\u001b[0;31m                 \u001b[0;32mreturn\u001b[0m \u001b[0mget_or_create_cached_value\u001b[0m\u001b[0;34m(\u001b[0m\u001b[0;34m)\u001b[0m\u001b[0;34m\u001b[0m\u001b[0;34m\u001b[0m\u001b[0m\n\u001b[0m\u001b[1;32m    574\u001b[0m         \u001b[0;32melse\u001b[0m\u001b[0;34m:\u001b[0m\u001b[0;34m\u001b[0m\u001b[0;34m\u001b[0m\u001b[0m\n\u001b[1;32m    575\u001b[0m             \u001b[0;32mreturn\u001b[0m \u001b[0mget_or_create_cached_value\u001b[0m\u001b[0;34m(\u001b[0m\u001b[0;34m)\u001b[0m\u001b[0;34m\u001b[0m\u001b[0;34m\u001b[0m\u001b[0m\n",
            "\u001b[0;32m/usr/local/lib/python3.7/dist-packages/streamlit/caching.py\u001b[0m in \u001b[0;36mget_or_create_cached_value\u001b[0;34m()\u001b[0m\n\u001b[1;32m    496\u001b[0m                 \u001b[0;31m# If we generated the key earlier we would only hash those\u001b[0m\u001b[0;34m\u001b[0m\u001b[0;34m\u001b[0m\u001b[0;34m\u001b[0m\u001b[0m\n\u001b[1;32m    497\u001b[0m                 \u001b[0;31m# globals by name, and miss changes in their code or value.\u001b[0m\u001b[0;34m\u001b[0m\u001b[0;34m\u001b[0m\u001b[0;34m\u001b[0m\u001b[0m\n\u001b[0;32m--> 498\u001b[0;31m                 \u001b[0mcache_key\u001b[0m \u001b[0;34m=\u001b[0m \u001b[0m_hash_func\u001b[0m\u001b[0;34m(\u001b[0m\u001b[0mfunc\u001b[0m\u001b[0;34m,\u001b[0m \u001b[0mhash_funcs\u001b[0m\u001b[0;34m)\u001b[0m\u001b[0;34m\u001b[0m\u001b[0;34m\u001b[0m\u001b[0m\n\u001b[0m\u001b[1;32m    499\u001b[0m \u001b[0;34m\u001b[0m\u001b[0m\n\u001b[1;32m    500\u001b[0m             \u001b[0;31m# First, get the cache that's attached to this function.\u001b[0m\u001b[0;34m\u001b[0m\u001b[0;34m\u001b[0m\u001b[0;34m\u001b[0m\u001b[0m\n",
            "\u001b[0;32m/usr/local/lib/python3.7/dist-packages/streamlit/caching.py\u001b[0m in \u001b[0;36m_hash_func\u001b[0;34m(func, hash_funcs)\u001b[0m\n\u001b[1;32m    627\u001b[0m         \u001b[0mhash_funcs\u001b[0m\u001b[0;34m=\u001b[0m\u001b[0mhash_funcs\u001b[0m\u001b[0;34m,\u001b[0m\u001b[0;34m\u001b[0m\u001b[0;34m\u001b[0m\u001b[0m\n\u001b[1;32m    628\u001b[0m         \u001b[0mhash_reason\u001b[0m\u001b[0;34m=\u001b[0m\u001b[0mHashReason\u001b[0m\u001b[0;34m.\u001b[0m\u001b[0mCACHING_FUNC_BODY\u001b[0m\u001b[0;34m,\u001b[0m\u001b[0;34m\u001b[0m\u001b[0;34m\u001b[0m\u001b[0m\n\u001b[0;32m--> 629\u001b[0;31m         \u001b[0mhash_source\u001b[0m\u001b[0;34m=\u001b[0m\u001b[0mfunc\u001b[0m\u001b[0;34m,\u001b[0m\u001b[0;34m\u001b[0m\u001b[0;34m\u001b[0m\u001b[0m\n\u001b[0m\u001b[1;32m    630\u001b[0m     )\n\u001b[1;32m    631\u001b[0m     \u001b[0mcache_key\u001b[0m \u001b[0;34m=\u001b[0m \u001b[0mfunc_hasher\u001b[0m\u001b[0;34m.\u001b[0m\u001b[0mhexdigest\u001b[0m\u001b[0;34m(\u001b[0m\u001b[0;34m)\u001b[0m\u001b[0;34m\u001b[0m\u001b[0;34m\u001b[0m\u001b[0m\n",
            "\u001b[0;32m/usr/local/lib/python3.7/dist-packages/streamlit/hashing.py\u001b[0m in \u001b[0;36mupdate_hash\u001b[0;34m(val, hasher, hash_reason, hash_source, context, hash_funcs)\u001b[0m\n\u001b[1;32m     90\u001b[0m \u001b[0;34m\u001b[0m\u001b[0m\n\u001b[1;32m     91\u001b[0m     \u001b[0mch\u001b[0m \u001b[0;34m=\u001b[0m \u001b[0m_CodeHasher\u001b[0m\u001b[0;34m(\u001b[0m\u001b[0mhash_funcs\u001b[0m\u001b[0;34m)\u001b[0m\u001b[0;34m\u001b[0m\u001b[0;34m\u001b[0m\u001b[0m\n\u001b[0;32m---> 92\u001b[0;31m     \u001b[0mch\u001b[0m\u001b[0;34m.\u001b[0m\u001b[0mupdate\u001b[0m\u001b[0;34m(\u001b[0m\u001b[0mhasher\u001b[0m\u001b[0;34m,\u001b[0m \u001b[0mval\u001b[0m\u001b[0;34m,\u001b[0m \u001b[0mcontext\u001b[0m\u001b[0;34m)\u001b[0m\u001b[0;34m\u001b[0m\u001b[0;34m\u001b[0m\u001b[0m\n\u001b[0m\u001b[1;32m     93\u001b[0m \u001b[0;34m\u001b[0m\u001b[0m\n\u001b[1;32m     94\u001b[0m \u001b[0;34m\u001b[0m\u001b[0m\n",
            "\u001b[0;32m/usr/local/lib/python3.7/dist-packages/streamlit/hashing.py\u001b[0m in \u001b[0;36mupdate\u001b[0;34m(self, hasher, obj, context)\u001b[0m\n\u001b[1;32m    375\u001b[0m     \u001b[0;32mdef\u001b[0m \u001b[0mupdate\u001b[0m\u001b[0;34m(\u001b[0m\u001b[0mself\u001b[0m\u001b[0;34m,\u001b[0m \u001b[0mhasher\u001b[0m\u001b[0;34m,\u001b[0m \u001b[0mobj\u001b[0m\u001b[0;34m,\u001b[0m \u001b[0mcontext\u001b[0m\u001b[0;34m=\u001b[0m\u001b[0;32mNone\u001b[0m\u001b[0;34m)\u001b[0m\u001b[0;34m:\u001b[0m\u001b[0;34m\u001b[0m\u001b[0;34m\u001b[0m\u001b[0m\n\u001b[1;32m    376\u001b[0m         \u001b[0;34m\"\"\"Update the provided hasher with the hash of an object.\"\"\"\u001b[0m\u001b[0;34m\u001b[0m\u001b[0;34m\u001b[0m\u001b[0m\n\u001b[0;32m--> 377\u001b[0;31m         \u001b[0mb\u001b[0m \u001b[0;34m=\u001b[0m \u001b[0mself\u001b[0m\u001b[0;34m.\u001b[0m\u001b[0mto_bytes\u001b[0m\u001b[0;34m(\u001b[0m\u001b[0mobj\u001b[0m\u001b[0;34m,\u001b[0m \u001b[0mcontext\u001b[0m\u001b[0;34m)\u001b[0m\u001b[0;34m\u001b[0m\u001b[0;34m\u001b[0m\u001b[0m\n\u001b[0m\u001b[1;32m    378\u001b[0m         \u001b[0mhasher\u001b[0m\u001b[0;34m.\u001b[0m\u001b[0mupdate\u001b[0m\u001b[0;34m(\u001b[0m\u001b[0mb\u001b[0m\u001b[0;34m)\u001b[0m\u001b[0;34m\u001b[0m\u001b[0;34m\u001b[0m\u001b[0m\n\u001b[1;32m    379\u001b[0m \u001b[0;34m\u001b[0m\u001b[0m\n",
            "\u001b[0;32m/usr/local/lib/python3.7/dist-packages/streamlit/hashing.py\u001b[0m in \u001b[0;36mto_bytes\u001b[0;34m(self, obj, context)\u001b[0m\n\u001b[1;32m    364\u001b[0m \u001b[0;34m\u001b[0m\u001b[0m\n\u001b[1;32m    365\u001b[0m         \u001b[0;32mexcept\u001b[0m \u001b[0mBaseException\u001b[0m \u001b[0;32mas\u001b[0m \u001b[0me\u001b[0m\u001b[0;34m:\u001b[0m\u001b[0;34m\u001b[0m\u001b[0;34m\u001b[0m\u001b[0m\n\u001b[0;32m--> 366\u001b[0;31m             \u001b[0;32mraise\u001b[0m \u001b[0mInternalHashError\u001b[0m\u001b[0;34m(\u001b[0m\u001b[0me\u001b[0m\u001b[0;34m,\u001b[0m \u001b[0mobj\u001b[0m\u001b[0;34m)\u001b[0m\u001b[0;34m\u001b[0m\u001b[0;34m\u001b[0m\u001b[0m\n\u001b[0m\u001b[1;32m    367\u001b[0m \u001b[0;34m\u001b[0m\u001b[0m\n\u001b[1;32m    368\u001b[0m         \u001b[0;32mfinally\u001b[0m\u001b[0;34m:\u001b[0m\u001b[0;34m\u001b[0m\u001b[0;34m\u001b[0m\u001b[0m\n",
            "\u001b[0;32m/usr/local/lib/python3.7/dist-packages/streamlit/hashing.py\u001b[0m in \u001b[0;36mto_bytes\u001b[0;34m(self, obj, context)\u001b[0m\n\u001b[1;32m    350\u001b[0m         \u001b[0;32mtry\u001b[0m\u001b[0;34m:\u001b[0m\u001b[0;34m\u001b[0m\u001b[0;34m\u001b[0m\u001b[0m\n\u001b[1;32m    351\u001b[0m             \u001b[0;31m# Hash the input\u001b[0m\u001b[0;34m\u001b[0m\u001b[0;34m\u001b[0m\u001b[0;34m\u001b[0m\u001b[0m\n\u001b[0;32m--> 352\u001b[0;31m             \u001b[0mb\u001b[0m \u001b[0;34m=\u001b[0m \u001b[0;34mb\"%s:%s\"\u001b[0m \u001b[0;34m%\u001b[0m \u001b[0;34m(\u001b[0m\u001b[0mtname\u001b[0m\u001b[0;34m,\u001b[0m \u001b[0mself\u001b[0m\u001b[0;34m.\u001b[0m\u001b[0m_to_bytes\u001b[0m\u001b[0;34m(\u001b[0m\u001b[0mobj\u001b[0m\u001b[0;34m,\u001b[0m \u001b[0mcontext\u001b[0m\u001b[0;34m)\u001b[0m\u001b[0;34m)\u001b[0m\u001b[0;34m\u001b[0m\u001b[0;34m\u001b[0m\u001b[0m\n\u001b[0m\u001b[1;32m    353\u001b[0m \u001b[0;34m\u001b[0m\u001b[0m\n\u001b[1;32m    354\u001b[0m             \u001b[0;31m# Hmmm... It's possible that the size calculation is wrong. When we\u001b[0m\u001b[0;34m\u001b[0m\u001b[0;34m\u001b[0m\u001b[0;34m\u001b[0m\u001b[0m\n",
            "\u001b[0;32m/usr/local/lib/python3.7/dist-packages/streamlit/hashing.py\u001b[0m in \u001b[0;36m_to_bytes\u001b[0;34m(self, obj, context)\u001b[0m\n\u001b[1;32m    606\u001b[0m             \u001b[0mh\u001b[0m \u001b[0;34m=\u001b[0m \u001b[0mhashlib\u001b[0m\u001b[0;34m.\u001b[0m\u001b[0mnew\u001b[0m\u001b[0;34m(\u001b[0m\u001b[0;34m\"md5\"\u001b[0m\u001b[0;34m)\u001b[0m\u001b[0;34m\u001b[0m\u001b[0;34m\u001b[0m\u001b[0m\n\u001b[1;32m    607\u001b[0m \u001b[0;34m\u001b[0m\u001b[0m\n\u001b[0;32m--> 608\u001b[0;31m             \u001b[0;32mif\u001b[0m \u001b[0mself\u001b[0m\u001b[0;34m.\u001b[0m\u001b[0m_file_should_be_hashed\u001b[0m\u001b[0;34m(\u001b[0m\u001b[0mobj\u001b[0m\u001b[0;34m.\u001b[0m\u001b[0m__code__\u001b[0m\u001b[0;34m.\u001b[0m\u001b[0mco_filename\u001b[0m\u001b[0;34m)\u001b[0m\u001b[0;34m:\u001b[0m\u001b[0;34m\u001b[0m\u001b[0;34m\u001b[0m\u001b[0m\n\u001b[0m\u001b[1;32m    609\u001b[0m                 \u001b[0mcontext\u001b[0m \u001b[0;34m=\u001b[0m \u001b[0m_get_context\u001b[0m\u001b[0;34m(\u001b[0m\u001b[0mobj\u001b[0m\u001b[0;34m)\u001b[0m\u001b[0;34m\u001b[0m\u001b[0;34m\u001b[0m\u001b[0m\n\u001b[1;32m    610\u001b[0m                 \u001b[0;32mif\u001b[0m \u001b[0mobj\u001b[0m\u001b[0;34m.\u001b[0m\u001b[0m__defaults__\u001b[0m\u001b[0;34m:\u001b[0m\u001b[0;34m\u001b[0m\u001b[0;34m\u001b[0m\u001b[0m\n",
            "\u001b[0;32m/usr/local/lib/python3.7/dist-packages/streamlit/hashing.py\u001b[0m in \u001b[0;36m_file_should_be_hashed\u001b[0;34m(self, filename)\u001b[0m\n\u001b[1;32m    385\u001b[0m             \u001b[0;32mreturn\u001b[0m \u001b[0;32mFalse\u001b[0m\u001b[0;34m\u001b[0m\u001b[0;34m\u001b[0m\u001b[0m\n\u001b[1;32m    386\u001b[0m         return file_util.file_is_in_folder_glob(\n\u001b[0;32m--> 387\u001b[0;31m             \u001b[0mfilepath\u001b[0m\u001b[0;34m,\u001b[0m \u001b[0mself\u001b[0m\u001b[0;34m.\u001b[0m\u001b[0m_get_main_script_directory\u001b[0m\u001b[0;34m(\u001b[0m\u001b[0;34m)\u001b[0m\u001b[0;34m\u001b[0m\u001b[0;34m\u001b[0m\u001b[0m\n\u001b[0m\u001b[1;32m    388\u001b[0m         ) or file_util.file_in_pythonpath(filepath)\n\u001b[1;32m    389\u001b[0m \u001b[0;34m\u001b[0m\u001b[0m\n",
            "\u001b[0;32m/usr/local/lib/python3.7/dist-packages/streamlit/hashing.py\u001b[0m in \u001b[0;36m_get_main_script_directory\u001b[0;34m()\u001b[0m\n\u001b[1;32m    690\u001b[0m         \u001b[0;31m# This works because we set __main__.__file__ to the report\u001b[0m\u001b[0;34m\u001b[0m\u001b[0;34m\u001b[0m\u001b[0;34m\u001b[0m\u001b[0m\n\u001b[1;32m    691\u001b[0m         \u001b[0;31m# script path in ScriptRunner.\u001b[0m\u001b[0;34m\u001b[0m\u001b[0;34m\u001b[0m\u001b[0;34m\u001b[0m\u001b[0m\n\u001b[0;32m--> 692\u001b[0;31m         \u001b[0mmain_path\u001b[0m \u001b[0;34m=\u001b[0m \u001b[0m__main__\u001b[0m\u001b[0;34m.\u001b[0m\u001b[0m__file__\u001b[0m\u001b[0;34m\u001b[0m\u001b[0;34m\u001b[0m\u001b[0m\n\u001b[0m\u001b[1;32m    693\u001b[0m         \u001b[0;32mreturn\u001b[0m \u001b[0mos\u001b[0m\u001b[0;34m.\u001b[0m\u001b[0mpath\u001b[0m\u001b[0;34m.\u001b[0m\u001b[0mdirname\u001b[0m\u001b[0;34m(\u001b[0m\u001b[0mmain_path\u001b[0m\u001b[0;34m)\u001b[0m\u001b[0;34m\u001b[0m\u001b[0;34m\u001b[0m\u001b[0m\n\u001b[1;32m    694\u001b[0m \u001b[0;34m\u001b[0m\u001b[0m\n",
            "\u001b[0;31mInternalHashError\u001b[0m: module '__main__' has no attribute '__file__'\n\nWhile caching the body of `explore_data()`, Streamlit encountered an\nobject of type `builtins.function`, which it does not know how to hash.\n\n**In this specific case, it's very likely you found a Streamlit bug so please\n[file a bug report here.]\n(https://github.com/streamlit/streamlit/issues/new/choose)**\n\nIn the meantime, you can try bypassing this error by registering a custom\nhash function via the `hash_funcs` keyword in @st.cache(). For example:\n\n```\n@st.cache(hash_funcs={builtins.function: my_hash_func})\ndef my_func(...):\n    ...\n```\n\nIf you don't know where the object of type `builtins.function` is coming\nfrom, try looking at the hash chain below for an object that you do recognize,\nthen pass that to `hash_funcs` instead:\n\n```\nObject of type builtins.function: <function explore_data at 0x7f72c1b32440>\n```\n\nPlease see the `hash_funcs` [documentation]\n(https://docs.streamlit.io/en/stable/caching.html#the-hash-funcs-parameter)\nfor more details.\n            "
          ]
        }
      ]
    },
    {
      "cell_type": "markdown",
      "metadata": {
        "id": "6MZvFKhPpJ3j"
      },
      "source": [
        "## **6. Deployment of our best model** "
      ]
    },
    {
      "cell_type": "markdown",
      "metadata": {
        "id": "lL2ezZfipTO0"
      },
      "source": [
        "\n",
        "After training and selecting the best model, the last step is converting our python script into a webapp or an application so that users can use it without the manipulation of codes and in a friendly user interface. Flask python-driven web application is a good choice.\n",
        "\n",
        "The advantage of web applications is that they’re platform independent and can be run by anyone who has access to the Internet. Their code is implemented on a back-end server, where the program processes incoming requests and responds through a shared protocol that’s understood by all browsers.\n",
        "\n",
        "Python powers many large web applications and is a common choice as a back-end language. Many Python-driven web applications are planned from the start as web applications and are built using Python web frameworks such as Flask.\n",
        "\n",
        "Python-driven web applications use Python code to determine what actions to take and what content to show. Your code is run by the web server that hosts your website, which means that your users don’t need to install anything. All they need to interact with your code is a browser and an Internet connection. Getting Python to run on a website can be complicated, but there are a number of different web frameworks that automatically take care of the details.\n",
        "\n",
        "For more details, you could check: https://realpython.com/python-web-applications/ \n"
      ]
    },
    {
      "cell_type": "markdown",
      "metadata": {
        "id": "zmCdOsAApYcc"
      },
      "source": [
        "## **7. Conclusion** "
      ]
    },
    {
      "cell_type": "markdown",
      "metadata": {
        "id": "eWFMffAypmyA"
      },
      "source": [
        "\n"
      ]
    },
    {
      "cell_type": "markdown",
      "metadata": {
        "id": "6bK_2O5zpl0Q"
      },
      "source": [
        "# 🌐 Sources used in this notebook\n",
        "\n",
        "\n",
        "*  Training and testing examples were taken from http://www.fakenewschallenge.org/\n",
        "\n",
        "*   Parts of our code or text were reused from the following notebooks:\n",
        "   *  https://colab.research.google.com/drive/14MTJZLVmGNCxeb4mDslTTTk51o1SC5fb?authuser=5#scrollTo=yXfTwR7Ue0on\n",
        "   *  https://github.com/StavroK/MtySaturdayAI2020\n",
        "  \n",
        "* This workshop was inspired by the following Saturdays.AI project:\n",
        "   *  https://github.com/StavroK/MtySaturdayAI2020/blob/master/decks/2020_Mty_Saturdays_Project_BKaramanosvDEMODAY.pptx\n",
        "\n",
        "We got support from several different website some are listed below:\n",
        "https://towardsdatascience.com/preprocessing-text-data-using-python-576206753c28\n",
        "https://towardsdatascience.com/how-to-deal-with-imbalanced-data-in-python-f9b71aba53eb"
      ]
    },
    {
      "cell_type": "code",
      "metadata": {
        "id": "Pru5U4MYsFRf"
      },
      "source": [
        ""
      ],
      "execution_count": null,
      "outputs": []
    }
  ]
}