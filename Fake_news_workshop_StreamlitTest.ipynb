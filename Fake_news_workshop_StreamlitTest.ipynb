{
  "nbformat": 4,
  "nbformat_minor": 0,
  "metadata": {
    "colab": {
      "name": "Fake_news_workshop_principal_(25_04_2021).ipynb",
      "provenance": [],
      "collapsed_sections": [
        "6MZvFKhPpJ3j",
        "zmCdOsAApYcc"
      ],
      "toc_visible": true
    },
    "kernelspec": {
      "display_name": "Python 3",
      "language": "python",
      "name": "python3"
    },
    "language_info": {
      "codemirror_mode": {
        "name": "ipython",
        "version": 3
      },
      "file_extension": ".py",
      "mimetype": "text/x-python",
      "name": "python",
      "nbconvert_exporter": "python",
      "pygments_lexer": "ipython3",
      "version": "3.8.5"
    }
  },
  "cells": [
    {
      "cell_type": "code",
      "metadata": {
        "id": "oLFjP62zXpfx",
        "colab": {
          "base_uri": "https://localhost:8080/"
        },
        "outputId": "4aac550e-1023-4e17-8eaa-958cb99d120c"
      },
      "source": [
        "#!pip install google.colab\n",
        "from google.colab import drive\n",
        "drive.mount('/content/drive')"
      ],
      "execution_count": null,
      "outputs": [
        {
          "output_type": "stream",
          "text": [
            "Drive already mounted at /content/drive; to attempt to forcibly remount, call drive.mount(\"/content/drive\", force_remount=True).\n"
          ],
          "name": "stdout"
        }
      ]
    },
    {
      "cell_type": "markdown",
      "metadata": {
        "id": "5r9iJgz8kpAC"
      },
      "source": [
        "# **Fake News Tutorial**\n"
      ]
    },
    {
      "cell_type": "markdown",
      "metadata": {
        "id": "e5JNA8N57ErM"
      },
      "source": [
        "## **1. Introduction**\n",
        "\n",
        "There have always been fake news, but with the emergence of the Internet and new communication and information technologies, fake news has become part of our daily lives on the net. Social media algorithms do not have it easy to determine the truthfulness of information. In this way, supposedly real images and videos that have been professionally manipulated are disseminated. This disinformation can influence debates and public opinion\n",
        "\n",
        "A clear recent example of the impact that fake news has had on people was the case of Donald Trump’s election. Several media outlets claim that one of the main reasons Donald Trump won the election was because he abused the posting of fake news on several of his social networks. This meant that, thanks to the disinformation, Donald Trump won a greater number of votes than the other candidates.\n",
        "\n",
        "Unfortunately, very few people are able to detect fake news or have time to verify if the information they are reading is real or false. This should not be a problem for people, because thanks to artificial intelligence we will be able to detect whether it is a fake or a real news.\n",
        "\n",
        "In this notebook you will learn how to do an exploratory data analysis as well as using machine learning and deep learning algorithms to automate and detect fake news with fast speed and incredible accuracy.\n",
        "\n",
        "![](https://drive.google.com/uc?export=view&id=1IE2GD2yg-MiP7VG_j3EEgqxWuWaBJ3ey)"
      ]
    },
    {
      "cell_type": "markdown",
      "metadata": {
        "id": "nttAA6kYlCa9"
      },
      "source": [
        "## **2. Dataset explained**\n"
      ]
    },
    {
      "cell_type": "markdown",
      "metadata": {
        "id": "4mKzlSl-9z--"
      },
      "source": [
        "Training and testing examples were taken from http://www.fakenewschallenge.org/\n",
        "\n",
        "\n",
        "The goal of the Fake News Challenge is to explore how artificial intelligence technologies, particularly machine learning and natural language processing, might be leveraged to combat the fake news problem. We believe that these AI technologies hold promise for significantly automating parts of the procedure human fact checkers use today to determine if a story is real or a hoax.\n",
        "\n",
        "Assessing the veracity of a news story is a complex and cumbersome task, even for trained experts 3. Fortunately, the process can be broken down into steps or stages. A helpful first step towards identifying fake news is to understand what other news organizations are saying about the topic. We believe automating this process, called Stance Detection, could serve as a useful building block in an AI-assisted fact-checking pipeline. So stage #1 of the Fake News Challenge (FNC-1) focuses on the task of Stance Detection.\n",
        "\n",
        "Stance Detection involves estimating the relative perspective (or stance) of two pieces of text relative to a topic, claim or issue. The version of Stance Detection we have selected for FNC-1 extends the work of Ferreira & Vlachos 4. For FNC-1 we have chosen the task of estimating the stance of a body text from a news article relative to a headline. Specifically, the body text may agree, disagree, discuss or be unrelated to the headline.\n",
        "\n",
        "The dataset input is a  headline and a body text - either from the same news article or from two different articles and the output label is the stance of the body text relative to the claim made in the headline into one of four categories:\n",
        "Agrees: The body text agrees with the headline.\n",
        "Disagrees: The body text disagrees with the headline.\n",
        "Discusses: The body text discuss the same topic as the headline, but does not take a position\n",
        "Unrelated: The body text discusses a different topic than the headline\n",
        "\n",
        "The image bellow help us understand better the struture of our dataset\n",
        "\n",
        "![](https://drive.google.com/uc?export=view&id=1xjXYtNWbl2lyzlsMN7Lf5aG_7I29bwjw)\n"
      ]
    },
    {
      "cell_type": "markdown",
      "metadata": {
        "id": "UIELUahJcczK"
      },
      "source": [
        "## **3. 🔎 Getting, Cleaning, Data Exploratory Analysis**\n",
        "We will start with some **exploratory data analysis (EDA)**. This is a very important first step every time we start working with a new dataset. \n",
        "\n",
        "EDA is meant to help us understand the dataset better before doing more complex analyses. It is also an opportunity to prepare and \"clean\" the data.\n",
        "\n",
        "Data preparation steps might include:\n",
        "*   Removing duplicated or irrelevant observations.\n",
        "*   Filtering out outlier values (sometimes caused by measurement errors) which might otherwise cause problems in our analysis.\n",
        "*   Handling missing values. \n",
        "*   Plotting some of the features of the data, for example using histograms, to gain an intuitive understanding of the dataset.\n",
        "\n",
        "The dataset is already divided in train set and test set. Thus, we just need to use the one that suits us along the way. \n",
        "\n"
      ]
    },
    {
      "cell_type": "code",
      "metadata": {
        "colab": {
          "base_uri": "https://localhost:8080/"
        },
        "id": "dCsOY9I_mMhU",
        "outputId": "efbabdb8-8367-46ee-fae1-6d2f93b34d00"
      },
      "source": [
        "# navidate to packages library of your colab using the following command\n",
        "%cd /usr/local/lib/python3.6/dist-packages"
      ],
      "execution_count": null,
      "outputs": [
        {
          "output_type": "stream",
          "text": [
            "/usr/local/lib/python3.6/dist-packages\n"
          ],
          "name": "stdout"
        }
      ]
    },
    {
      "cell_type": "code",
      "metadata": {
        "id": "sojJxGrscdYM"
      },
      "source": [
        "# use these commands to install and check installation\n",
        "\n",
        "# ! pip install git+https://github.com/locationofpackage\n",
        "# ! pip show nameofpackage\n",
        "\n",
        "# we are checking for the following packages required to execute our code\n",
        "\n",
        "# matplotlib - extension of NumPy enables you to embed plots into applications\n",
        "# pandas - used to clean, transform, manipulate and analize data\n",
        "# pickle - used to convert a python object into a character stream\n",
        "# pip - used to manage installation and updates of python packages\n",
        "# seaborn - based on matplotlib is used to vizualize example lenght by category \n",
        "# warnings - used to hide warinings coming from seaborn package\n",
        "\n",
        "#! pip show matplotlib\n",
        "#! pip show pandas\n",
        "#! pip show seaborn\n",
        "#! pip show warnings\n"
      ],
      "execution_count": null,
      "outputs": []
    },
    {
      "cell_type": "markdown",
      "metadata": {
        "id": "mevw_bE_Wl8m"
      },
      "source": [
        "### **3.1 Data Exploratory Analysis**\n",
        "\n",
        "We as humans are very biased. In everyday life, we make many assumptions that turn out to be wrong. For example, when something bad happened, we have a \"hindsight bias\", i.e. we think that we expected this to happen, even though we actually didn't. Or the loss-aversion bias. If an item has a certain value, then we weight loosing it higher than gaining it. There are many more biases, and Wikipedia has a very exhaustive list, [if you're interested](https://en.wikipedia.org/wiki/List_of_cognitive_biases) . We may be born with some of these biases, but others are usually acquired when we grow up.\n",
        "\n",
        "Similarly, Machine Learning algorithms can also acquire biases when they grow up, i.e. when we train them on a problem. If you want your algorithm to classify diseases, but only provide images of a certain sub-population, it will assume that everyone falls into that population. For example, if you train it on images of men, it'll assume that there are only men in this world. If you then show it a picture of a woman, it'll make a wrong decision. This can have very bad consequences. In the worst case, your algorithm discriminates against a certain ethnicity, and suddenly you make headlines as the inventor of a racist AI. Important to note is that the algorithm itself has no tendency to be biased. But if we provide it with a biased dataset, it will eventually become biased, because it doesn't know better.\n",
        "\n",
        "In this step we will check for a balanced data so we can train the machine learning models without oversampling or undersampling classes. If we see some bias towards one class we need to apply techniques to manage this issue with our data set.\n",
        "\n",
        "First step is to check if we have all Python packages we need be using to visualize the characteristics of the dataset to check for class balance, and install those missing if any. We will need to join files containing labeling of examples to content of articles for our purpose.\n",
        "\n",
        "We want to check for: 1. Number of examples in each class, 2. Total Percentage of examples in each class, 3. Distribution of the lenght of each example as we will use its word content to train for classification.\n"
      ]
    },
    {
      "cell_type": "code",
      "metadata": {
        "id": "LAENgkVySxye"
      },
      "source": [
        "# This command will show you the \"Location\" of your package\n",
        "# I am using numpy as is the most common package \n",
        "#! pip show numpy"
      ],
      "execution_count": null,
      "outputs": []
    },
    {
      "cell_type": "markdown",
      "metadata": {
        "id": "dAGDPipevMsl"
      },
      "source": [
        "Now that we have secured environment requirements for python packages that will be declared in the code, next we will import them into the program"
      ]
    },
    {
      "cell_type": "code",
      "metadata": {
        "id": "j1ZntwLOvMfk"
      },
      "source": [
        "#%cd /usr/local/lib/python3.6/dist-packages\n",
        "import matplotlib.pyplot as plt\n",
        "#import required libraries|\n",
        "import matplotlib.ticker as mtick\n",
        "import numpy as np\n",
        "import nltk\n",
        "from nltk.corpus import stopwords\n",
        "from nltk.stem import WordNetLemmatizer\n",
        "import pandas as pd\n",
        "import pickle as pkl\n",
        "import re\n",
        "import seaborn as sns\n",
        "from sklearn.feature_extraction.text import TfidfVectorizer\n",
        "from sklearn.model_selection import train_test_split\n",
        "from sklearn.feature_selection import chi2\n",
        "import warnings"
      ],
      "execution_count": null,
      "outputs": []
    },
    {
      "cell_type": "markdown",
      "metadata": {
        "id": "V6bR0056rHOL"
      },
      "source": [
        "We want to check for: 1. Number of examples in each class, 2. Total Percentage of examples in each class, 3. Distribution of the lenght of each example as we will use its word content to train for classification.\n",
        "\n",
        "Data is already included in /content/FakeNews folder. Data is already separated by example content and labeled files, and also in train, test and demo files to keep process clean.\n"
      ]
    },
    {
      "cell_type": "markdown",
      "metadata": {
        "id": "gMLi_5V6RCu-"
      },
      "source": [
        "To upload trainning examples (which are stored in CSV )files is from the GitHub repository. Click on the dataset in repository, then click on View Raw. Copy the link to the raw dataset and store it as a string variable then to load the link into Pandas read_csv to get the data frame."
      ]
    },
    {
      "cell_type": "markdown",
      "metadata": {
        "id": "tOiynOhfFWOe"
      },
      "source": [
        "We create variables where we will store all our training examples data."
      ]
    },
    {
      "cell_type": "code",
      "metadata": {
        "id": "oZjf8xu5SL88"
      },
      "source": [
        "data = []\n",
        "train_df=[]\n",
        "trainbodies_df = []\n",
        "trainstances_df = []"
      ],
      "execution_count": null,
      "outputs": []
    },
    {
      "cell_type": "markdown",
      "metadata": {
        "id": "DpJdnBTCG2sP"
      },
      "source": [
        "The read_csv () function is smart enough to decipher whether it's working with full or relative file paths and convert your flat file as a DataFrame without a problem."
      ]
    },
    {
      "cell_type": "code",
      "metadata": {
        "id": "ORK_PlGzQ2cm"
      },
      "source": [
        "trainbodies_url = 'https://raw.githubusercontent.com/StavroK/MtySaturdayAI2020/master/train_bodies.csv'\n",
        "trainbodies_df = pd.read_csv(trainbodies_url)"
      ],
      "execution_count": null,
      "outputs": []
    },
    {
      "cell_type": "code",
      "metadata": {
        "id": "RCd8-rlrRvvB"
      },
      "source": [
        "trainstances_url = 'https://raw.githubusercontent.com/StavroK/MtySaturdayAI2020/master/train_stances.random.csv'\n",
        "trainstances_df = pd.read_csv(trainstances_url)"
      ],
      "execution_count": null,
      "outputs": []
    },
    {
      "cell_type": "code",
      "metadata": {
        "colab": {
          "base_uri": "https://localhost:8080/"
        },
        "id": "CFwdB7NKPTtr",
        "outputId": "31eb81ec-a6c1-42b2-b631-1e03f60779e8"
      },
      "source": [
        "print(\"Total stances: \" + str(len(trainstances_df)))\n",
        "print(\"Total bodies: \" + str(len(trainbodies_df)))"
      ],
      "execution_count": null,
      "outputs": [
        {
          "output_type": "stream",
          "text": [
            "Total stances: 49972\n",
            "Total bodies: 1683\n"
          ],
          "name": "stdout"
        }
      ]
    },
    {
      "cell_type": "markdown",
      "metadata": {
        "id": "fOeNnVq5G6aI"
      },
      "source": [
        "We take a look at our columns of our dataframe trainbodies.\n",
        "\n"
      ]
    },
    {
      "cell_type": "code",
      "metadata": {
        "colab": {
          "base_uri": "https://localhost:8080/"
        },
        "id": "iHQCTC52r5fO",
        "outputId": "4bf7825a-d294-4545-b63b-c50ec70a5202"
      },
      "source": [
        "trainbodies_df.columns"
      ],
      "execution_count": null,
      "outputs": [
        {
          "output_type": "execute_result",
          "data": {
            "text/plain": [
              "Index(['Body ID', 'articleBody'], dtype='object')"
            ]
          },
          "metadata": {
            "tags": []
          },
          "execution_count": 10
        }
      ]
    },
    {
      "cell_type": "markdown",
      "metadata": {
        "id": "m5TIeb3bHD7v"
      },
      "source": [
        "We also take a look at the top 5 results ordered by id value."
      ]
    },
    {
      "cell_type": "code",
      "metadata": {
        "colab": {
          "base_uri": "https://localhost:8080/"
        },
        "id": "rxMwwoTRBN9n",
        "outputId": "35020bd8-a0e6-429a-dd98-43b5fc842aad"
      },
      "source": [
        "trainbodies_df.sort_values(by='Body ID')\n",
        "trainbodies_df.head()"
      ],
      "execution_count": null,
      "outputs": [
        {
          "output_type": "execute_result",
          "data": {
            "text/html": [
              "<div>\n",
              "<style scoped>\n",
              "    .dataframe tbody tr th:only-of-type {\n",
              "        vertical-align: middle;\n",
              "    }\n",
              "\n",
              "    .dataframe tbody tr th {\n",
              "        vertical-align: top;\n",
              "    }\n",
              "\n",
              "    .dataframe thead th {\n",
              "        text-align: right;\n",
              "    }\n",
              "</style>\n",
              "<table border=\"1\" class=\"dataframe\">\n",
              "  <thead>\n",
              "    <tr style=\"text-align: right;\">\n",
              "      <th></th>\n",
              "      <th>Body ID</th>\n",
              "      <th>articleBody</th>\n",
              "    </tr>\n",
              "  </thead>\n",
              "  <tbody>\n",
              "    <tr>\n",
              "      <th>0</th>\n",
              "      <td>0</td>\n",
              "      <td>A small meteorite crashed into a wooded area i...</td>\n",
              "    </tr>\n",
              "    <tr>\n",
              "      <th>1</th>\n",
              "      <td>4</td>\n",
              "      <td>Last week we hinted at what was to come as Ebo...</td>\n",
              "    </tr>\n",
              "    <tr>\n",
              "      <th>2</th>\n",
              "      <td>5</td>\n",
              "      <td>(NEWSER) – Wonder how long a Quarter Pounder w...</td>\n",
              "    </tr>\n",
              "    <tr>\n",
              "      <th>3</th>\n",
              "      <td>6</td>\n",
              "      <td>Posting photos of a gun-toting child online, I...</td>\n",
              "    </tr>\n",
              "    <tr>\n",
              "      <th>4</th>\n",
              "      <td>7</td>\n",
              "      <td>At least 25 suspected Boko Haram insurgents we...</td>\n",
              "    </tr>\n",
              "  </tbody>\n",
              "</table>\n",
              "</div>"
            ],
            "text/plain": [
              "   Body ID                                        articleBody\n",
              "0        0  A small meteorite crashed into a wooded area i...\n",
              "1        4  Last week we hinted at what was to come as Ebo...\n",
              "2        5  (NEWSER) – Wonder how long a Quarter Pounder w...\n",
              "3        6  Posting photos of a gun-toting child online, I...\n",
              "4        7  At least 25 suspected Boko Haram insurgents we..."
            ]
          },
          "metadata": {
            "tags": []
          },
          "execution_count": 11
        }
      ]
    },
    {
      "cell_type": "markdown",
      "metadata": {
        "id": "TfDArBJAH6Ud"
      },
      "source": [
        "As well we take a look at our columns of our dataframe trainstances to verify that there are no errors."
      ]
    },
    {
      "cell_type": "code",
      "metadata": {
        "colab": {
          "base_uri": "https://localhost:8080/"
        },
        "id": "E3slEZyq2ANY",
        "outputId": "8117f786-d6f1-45e4-c683-50db321e980f"
      },
      "source": [
        "trainstances_df.columns\n"
      ],
      "execution_count": null,
      "outputs": [
        {
          "output_type": "execute_result",
          "data": {
            "text/plain": [
              "Index(['Headline', 'Body ID', 'Stance'], dtype='object')"
            ]
          },
          "metadata": {
            "tags": []
          },
          "execution_count": 12
        }
      ]
    },
    {
      "cell_type": "markdown",
      "metadata": {
        "id": "Ok38qzPjIZ0W"
      },
      "source": [
        "Like before take a look at the top 5 results ordered by id value."
      ]
    },
    {
      "cell_type": "code",
      "metadata": {
        "colab": {
          "base_uri": "https://localhost:8080/"
        },
        "id": "3cYVWsVCBKdW",
        "outputId": "fa034b6d-82a9-4619-90d6-71e32806c186"
      },
      "source": [
        "trainstances_df.sort_values(by='Body ID')\n",
        "trainstances_df.head()"
      ],
      "execution_count": null,
      "outputs": [
        {
          "output_type": "execute_result",
          "data": {
            "text/html": [
              "<div>\n",
              "<style scoped>\n",
              "    .dataframe tbody tr th:only-of-type {\n",
              "        vertical-align: middle;\n",
              "    }\n",
              "\n",
              "    .dataframe tbody tr th {\n",
              "        vertical-align: top;\n",
              "    }\n",
              "\n",
              "    .dataframe thead th {\n",
              "        text-align: right;\n",
              "    }\n",
              "</style>\n",
              "<table border=\"1\" class=\"dataframe\">\n",
              "  <thead>\n",
              "    <tr style=\"text-align: right;\">\n",
              "      <th></th>\n",
              "      <th>Headline</th>\n",
              "      <th>Body ID</th>\n",
              "      <th>Stance</th>\n",
              "    </tr>\n",
              "  </thead>\n",
              "  <tbody>\n",
              "    <tr>\n",
              "      <th>0</th>\n",
              "      <td>Police find mass graves with at least '15 bodi...</td>\n",
              "      <td>712</td>\n",
              "      <td>discuss</td>\n",
              "    </tr>\n",
              "    <tr>\n",
              "      <th>1</th>\n",
              "      <td>Hundreds of Palestinians flee floods in Gaza a...</td>\n",
              "      <td>158</td>\n",
              "      <td>discuss</td>\n",
              "    </tr>\n",
              "    <tr>\n",
              "      <th>2</th>\n",
              "      <td>Christian Bale passes on role of Steve Jobs, a...</td>\n",
              "      <td>137</td>\n",
              "      <td>disagree</td>\n",
              "    </tr>\n",
              "    <tr>\n",
              "      <th>3</th>\n",
              "      <td>HBO and Apple in Talks for $15/Month Apple TV ...</td>\n",
              "      <td>1034</td>\n",
              "      <td>disagree</td>\n",
              "    </tr>\n",
              "    <tr>\n",
              "      <th>4</th>\n",
              "      <td>Spider burrowed through tourist's stomach and ...</td>\n",
              "      <td>1923</td>\n",
              "      <td>agree</td>\n",
              "    </tr>\n",
              "  </tbody>\n",
              "</table>\n",
              "</div>"
            ],
            "text/plain": [
              "                                            Headline  Body ID    Stance\n",
              "0  Police find mass graves with at least '15 bodi...      712   discuss\n",
              "1  Hundreds of Palestinians flee floods in Gaza a...      158   discuss\n",
              "2  Christian Bale passes on role of Steve Jobs, a...      137  disagree\n",
              "3  HBO and Apple in Talks for $15/Month Apple TV ...     1034  disagree\n",
              "4  Spider burrowed through tourist's stomach and ...     1923     agree"
            ]
          },
          "metadata": {
            "tags": []
          },
          "execution_count": 13
        }
      ]
    },
    {
      "cell_type": "markdown",
      "metadata": {
        "id": "udzBuw6xIr2-"
      },
      "source": [
        "We merge both dataframes and save them in a new dataframe variable."
      ]
    },
    {
      "cell_type": "code",
      "metadata": {
        "colab": {
          "base_uri": "https://localhost:8080/"
        },
        "id": "PwbusOPt3Y8O",
        "outputId": "e9ffc180-9ee4-4341-e4e1-cf882c897ed5"
      },
      "source": [
        "train_df = pd.merge(trainbodies_df,trainstances_df, on=\"Body ID\")\n",
        "print(\"Total training examples: \" + str(len(train_df)))"
      ],
      "execution_count": null,
      "outputs": [
        {
          "output_type": "stream",
          "text": [
            "Total training examples: 49972\n"
          ],
          "name": "stdout"
        }
      ]
    },
    {
      "cell_type": "markdown",
      "metadata": {
        "id": "oQ-lracdJVU9"
      },
      "source": [
        "We see the columns of the new dataframe and the first and last 5 results."
      ]
    },
    {
      "cell_type": "code",
      "metadata": {
        "colab": {
          "base_uri": "https://localhost:8080/"
        },
        "id": "re_qv_IQBd6H",
        "outputId": "a05664a0-cd7a-414c-b02d-2c8123ade066"
      },
      "source": [
        "train_df.columns"
      ],
      "execution_count": null,
      "outputs": [
        {
          "output_type": "execute_result",
          "data": {
            "text/plain": [
              "Index(['Body ID', 'articleBody', 'Headline', 'Stance'], dtype='object')"
            ]
          },
          "metadata": {
            "tags": []
          },
          "execution_count": 15
        }
      ]
    },
    {
      "cell_type": "code",
      "metadata": {
        "colab": {
          "base_uri": "https://localhost:8080/"
        },
        "id": "tQH7gocfBkzg",
        "outputId": "c0d14d13-143c-4d8d-b1b6-993b6fbbe830"
      },
      "source": [
        "train_df.head()"
      ],
      "execution_count": null,
      "outputs": [
        {
          "output_type": "execute_result",
          "data": {
            "text/html": [
              "<div>\n",
              "<style scoped>\n",
              "    .dataframe tbody tr th:only-of-type {\n",
              "        vertical-align: middle;\n",
              "    }\n",
              "\n",
              "    .dataframe tbody tr th {\n",
              "        vertical-align: top;\n",
              "    }\n",
              "\n",
              "    .dataframe thead th {\n",
              "        text-align: right;\n",
              "    }\n",
              "</style>\n",
              "<table border=\"1\" class=\"dataframe\">\n",
              "  <thead>\n",
              "    <tr style=\"text-align: right;\">\n",
              "      <th></th>\n",
              "      <th>Body ID</th>\n",
              "      <th>articleBody</th>\n",
              "      <th>Headline</th>\n",
              "      <th>Stance</th>\n",
              "    </tr>\n",
              "  </thead>\n",
              "  <tbody>\n",
              "    <tr>\n",
              "      <th>0</th>\n",
              "      <td>0</td>\n",
              "      <td>A small meteorite crashed into a wooded area i...</td>\n",
              "      <td>Soldier shot, Parliament locked down after gun...</td>\n",
              "      <td>discuss</td>\n",
              "    </tr>\n",
              "    <tr>\n",
              "      <th>1</th>\n",
              "      <td>0</td>\n",
              "      <td>A small meteorite crashed into a wooded area i...</td>\n",
              "      <td>Tourist dubbed ‘Spider Man’ after spider burro...</td>\n",
              "      <td>disagree</td>\n",
              "    </tr>\n",
              "    <tr>\n",
              "      <th>2</th>\n",
              "      <td>0</td>\n",
              "      <td>A small meteorite crashed into a wooded area i...</td>\n",
              "      <td>Luke Somers 'killed in failed rescue attempt i...</td>\n",
              "      <td>agree</td>\n",
              "    </tr>\n",
              "    <tr>\n",
              "      <th>3</th>\n",
              "      <td>0</td>\n",
              "      <td>A small meteorite crashed into a wooded area i...</td>\n",
              "      <td>BREAKING: Soldier shot at War Memorial in Ottawa</td>\n",
              "      <td>unrelated</td>\n",
              "    </tr>\n",
              "    <tr>\n",
              "      <th>4</th>\n",
              "      <td>0</td>\n",
              "      <td>A small meteorite crashed into a wooded area i...</td>\n",
              "      <td>Giant 8ft 9in catfish weighing 19 stone caught...</td>\n",
              "      <td>agree</td>\n",
              "    </tr>\n",
              "  </tbody>\n",
              "</table>\n",
              "</div>"
            ],
            "text/plain": [
              "   Body ID  ...     Stance\n",
              "0        0  ...    discuss\n",
              "1        0  ...   disagree\n",
              "2        0  ...      agree\n",
              "3        0  ...  unrelated\n",
              "4        0  ...      agree\n",
              "\n",
              "[5 rows x 4 columns]"
            ]
          },
          "metadata": {
            "tags": []
          },
          "execution_count": 16
        }
      ]
    },
    {
      "cell_type": "code",
      "metadata": {
        "colab": {
          "base_uri": "https://localhost:8080/"
        },
        "id": "flG1wmhGBmaT",
        "outputId": "78c09726-f52a-4305-9739-9f18f4b5b78a"
      },
      "source": [
        "train_df.tail()"
      ],
      "execution_count": null,
      "outputs": [
        {
          "output_type": "execute_result",
          "data": {
            "text/html": [
              "<div>\n",
              "<style scoped>\n",
              "    .dataframe tbody tr th:only-of-type {\n",
              "        vertical-align: middle;\n",
              "    }\n",
              "\n",
              "    .dataframe tbody tr th {\n",
              "        vertical-align: top;\n",
              "    }\n",
              "\n",
              "    .dataframe thead th {\n",
              "        text-align: right;\n",
              "    }\n",
              "</style>\n",
              "<table border=\"1\" class=\"dataframe\">\n",
              "  <thead>\n",
              "    <tr style=\"text-align: right;\">\n",
              "      <th></th>\n",
              "      <th>Body ID</th>\n",
              "      <th>articleBody</th>\n",
              "      <th>Headline</th>\n",
              "      <th>Stance</th>\n",
              "    </tr>\n",
              "  </thead>\n",
              "  <tbody>\n",
              "    <tr>\n",
              "      <th>49967</th>\n",
              "      <td>2532</td>\n",
              "      <td>ANN ARBOR, Mich. – A pizza delivery man in Mic...</td>\n",
              "      <td>Pizza delivery man gets tipped more than $2,00...</td>\n",
              "      <td>disagree</td>\n",
              "    </tr>\n",
              "    <tr>\n",
              "      <th>49968</th>\n",
              "      <td>2532</td>\n",
              "      <td>ANN ARBOR, Mich. – A pizza delivery man in Mic...</td>\n",
              "      <td>Pizza delivery man gets $2,000 tip</td>\n",
              "      <td>unrelated</td>\n",
              "    </tr>\n",
              "    <tr>\n",
              "      <th>49969</th>\n",
              "      <td>2532</td>\n",
              "      <td>ANN ARBOR, Mich. – A pizza delivery man in Mic...</td>\n",
              "      <td>Luckiest Pizza Delivery Guy Ever Gets $2,000 Tip</td>\n",
              "      <td>discuss</td>\n",
              "    </tr>\n",
              "    <tr>\n",
              "      <th>49970</th>\n",
              "      <td>2532</td>\n",
              "      <td>ANN ARBOR, Mich. – A pizza delivery man in Mic...</td>\n",
              "      <td>Ann Arbor pizza delivery driver surprised with...</td>\n",
              "      <td>disagree</td>\n",
              "    </tr>\n",
              "    <tr>\n",
              "      <th>49971</th>\n",
              "      <td>2532</td>\n",
              "      <td>ANN ARBOR, Mich. – A pizza delivery man in Mic...</td>\n",
              "      <td>Ann Arbor pizza delivery driver surprised with...</td>\n",
              "      <td>agree</td>\n",
              "    </tr>\n",
              "  </tbody>\n",
              "</table>\n",
              "</div>"
            ],
            "text/plain": [
              "       Body ID  ...     Stance\n",
              "49967     2532  ...   disagree\n",
              "49968     2532  ...  unrelated\n",
              "49969     2532  ...    discuss\n",
              "49970     2532  ...   disagree\n",
              "49971     2532  ...      agree\n",
              "\n",
              "[5 rows x 4 columns]"
            ]
          },
          "metadata": {
            "tags": []
          },
          "execution_count": 17
        }
      ]
    },
    {
      "cell_type": "markdown",
      "metadata": {
        "id": "tZXk7BN8Jmqq"
      },
      "source": [
        "We see the stances that our training dataframe has."
      ]
    },
    {
      "cell_type": "code",
      "metadata": {
        "id": "jMw8zv30U0wg"
      },
      "source": [
        "stances = []\n",
        "stances = train_df['Stance']"
      ],
      "execution_count": null,
      "outputs": []
    },
    {
      "cell_type": "code",
      "metadata": {
        "colab": {
          "base_uri": "https://localhost:8080/"
        },
        "id": "JLi4uURuYW7s",
        "outputId": "edef3456-530f-4dc4-c267-5c4407c1e2b1"
      },
      "source": [
        "stances.head()"
      ],
      "execution_count": null,
      "outputs": [
        {
          "output_type": "execute_result",
          "data": {
            "text/plain": [
              "0      discuss\n",
              "1     disagree\n",
              "2        agree\n",
              "3    unrelated\n",
              "4        agree\n",
              "Name: Stance, dtype: object"
            ]
          },
          "metadata": {
            "tags": []
          },
          "execution_count": 19
        }
      ]
    },
    {
      "cell_type": "code",
      "metadata": {
        "colab": {
          "base_uri": "https://localhost:8080/"
        },
        "id": "3nN2JsSjX-yE",
        "outputId": "72bd0194-25cc-4e06-f541-05b631fe105f"
      },
      "source": [
        "stances.unique()"
      ],
      "execution_count": null,
      "outputs": [
        {
          "output_type": "execute_result",
          "data": {
            "text/plain": [
              "array(['discuss', 'disagree', 'agree', 'unrelated'], dtype=object)"
            ]
          },
          "metadata": {
            "tags": []
          },
          "execution_count": 20
        }
      ]
    },
    {
      "cell_type": "markdown",
      "metadata": {
        "id": "qjKssjQ8YDff"
      },
      "source": [
        "As we can see there's 4 stances of classification into our dataset. Let's see how many articles there are that correspond to each stance. We will use Matplotlib that is a library for the generation of graphs from data contained in lists or arrays."
      ]
    },
    {
      "cell_type": "code",
      "metadata": {
        "colab": {
          "base_uri": "https://localhost:8080/"
        },
        "id": "hLShcUS8jfiF",
        "outputId": "ea4e17e2-a035-47bf-b943-9ed7c58d468c"
      },
      "source": [
        "pkmn_type_colors = ['#78C850',  # Grass\n",
        "                    '#F08030',  # Fire\n",
        "                    '#6890F0',  # Water\n",
        "                    '#A8B820',  # Bug\n",
        "                    '#A8A878',  # Normal\n",
        "                    '#A040A0',  # Poison\n",
        "                    '#F8D030',  # Electric\n",
        "                    '#E0C068',  # Ground\n",
        "                    '#EE99AC',  # Fairy\n",
        "                    '#C03028',  # Fighting\n",
        "                    '#F85888',  # Psychic\n",
        "                    '#B8A038',  # Rock\n",
        "                    '#705898',  # Ghost\n",
        "                    '#98D8D8',  # Ice\n",
        "                    '#7038F8',  # Dragon\n",
        "                   ]\n",
        "fmt = '{x:,.0f}'\n",
        "plt.figure(figsize=(12.8,6))\n",
        "ax = stances.value_counts().plot(kind='bar', color=pkmn_type_colors,rot=0)\n",
        "ax.yaxis.set_major_formatter(mtick.StrMethodFormatter(fmt))\n",
        "for p in ax.patches: \n",
        "  ax.annotate(np.round(p.get_height(),decimals=2), \n",
        "              (p.get_x()+p.get_width()/2., p.get_height()), \n",
        "              ha='center', va='center', xytext=(0, 10), textcoords='offset points')\n",
        "  \n",
        "plt.xlabel(\"Stance\", labelpad=14)\n",
        "plt.ylabel(\"Articles\", labelpad=14)\n",
        "plt.title(\"Count Articles by Stance\", y=1.02);\n"
      ],
      "execution_count": null,
      "outputs": [
        {
          "output_type": "display_data",
          "data": {
            "image/png": "[encoded data removed]",
            "text/plain": [
              "<Figure size 921.6x432 with 1 Axes>"
            ]
          },
          "metadata": {
            "tags": [],
            "needs_background": "light"
          }
        }
      ]
    },
    {
      "cell_type": "markdown",
      "metadata": {
        "id": "amMiXLw2kYtz"
      },
      "source": [
        "As seen above we have a similar distribution of samples upon each category. Let's take a closer look into the percentages of samples for each stance."
      ]
    },
    {
      "cell_type": "code",
      "metadata": {
        "colab": {
          "base_uri": "https://localhost:8080/"
        },
        "id": "h_esAvwjJfAJ",
        "outputId": "4845fe3a-1782-431a-ba0d-b23548b21f5c"
      },
      "source": [
        "train_df_by_stances = train_df.groupby('Stance')['Body ID'].count()\n",
        "TotalArticles = train_df_by_stances[0:].sum()\n",
        "train_df_by_stances['Percent of Total'] = train_df_by_stances[0:]*100 / TotalArticles\n",
        "print(train_df_by_stances['Percent of Total'])"
      ],
      "execution_count": null,
      "outputs": [
        {
          "output_type": "stream",
          "text": [
            "Stance\n",
            "agree        24.915953\n",
            "disagree     25.040022\n",
            "discuss      25.068038\n",
            "unrelated    24.975987\n",
            "Name: Body ID, dtype: float64\n"
          ],
          "name": "stdout"
        }
      ]
    },
    {
      "cell_type": "markdown",
      "metadata": {
        "id": "9Q_RnQ-GLnSv"
      },
      "source": [
        "As we have done before, we will use Matplotlib to generate a graph as a function of the percentage."
      ]
    },
    {
      "cell_type": "code",
      "metadata": {
        "colab": {
          "base_uri": "https://localhost:8080/"
        },
        "id": "ugo21MFHg-Mt",
        "outputId": "b98368e2-5df2-4bce-be3c-d815e49242e0"
      },
      "source": [
        "plt.figure(figsize=(18.6,6))\n",
        "ax= train_df_by_stances['Percent of Total'].plot(kind='bar', color=pkmn_type_colors)\n",
        "labels = list(train_df_by_stances.index)\n",
        "ax.set_xlabel(labels)\n",
        "ax.yaxis.set_major_formatter(mtick.PercentFormatter())\n",
        "\n",
        "for p in ax.patches: \n",
        "  ax.annotate(np.round(p.get_height(),decimals=2), \n",
        "              (p.get_x()+p.get_width()/2., p.get_height()), \n",
        "              ha='center', va='center', xytext=(0, 10), \n",
        "              textcoords='offset points')\n",
        "\n",
        "plt.xlabel(\"Stance\", labelpad=14)\n",
        "plt.ylabel(\"% of Articles\", labelpad=14)\n",
        "plt.title(\"% of Articles in each Stance\", y=1.02);"
      ],
      "execution_count": null,
      "outputs": [
        {
          "output_type": "display_data",
          "data": {
            "image/png": "[encoded data removed]",
            "text/plain": [
              "<Figure size 1339.2x432 with 1 Axes>"
            ]
          },
          "metadata": {
            "tags": [],
            "needs_background": "light"
          }
        }
      ]
    },
    {
      "cell_type": "markdown",
      "metadata": {
        "id": "IWs1TlCIu2b4"
      },
      "source": [
        "Checking Article Body lenght to review is there is not a big diffence. This is important as during feature creation process may take total number of words. To do this we will create a new column in our dataframe called 'Article_lenght' that will store the length of the articles. We will also store records length for each category."
      ]
    },
    {
      "cell_type": "code",
      "metadata": {
        "id": "FsLz7Snyvas2"
      },
      "source": [
        "train_df['Article_lenght'] = train_df['articleBody'].str.len()\n",
        "\n",
        "lenght_agree = train_df[train_df['Stance'] ==\"agree\"]\n",
        "lenght_disagree = train_df[train_df['Stance']==\"disagree\"]\n",
        "lenght_discuss = train_df[train_df['Stance']==\"discuss\"]\n",
        "lenght_unrelated = train_df[train_df['Stance']==\"unrelated\"]"
      ],
      "execution_count": null,
      "outputs": []
    },
    {
      "cell_type": "markdown",
      "metadata": {
        "id": "ZLLDKEBbOBDy"
      },
      "source": [
        "To represent it graphically we will use Seaborn that is a Python data visualization library based on matplotlib. We represent it with a histogram with the histoplot function from the Seaborn library."
      ]
    },
    {
      "cell_type": "code",
      "metadata": {
        "colab": {
          "base_uri": "https://localhost:8080/"
        },
        "id": "0tjmtuOgv6KJ",
        "outputId": "a8378a64-661d-48dd-9790-24753d3bf065"
      },
      "source": [
        "sns.set_theme(style=\"darkgrid\")\n",
        "\n",
        "fig, axs = plt.subplots(2, 2, figsize=(7, 7))\n",
        "\n",
        "sns.histplot(data=train_df, x=lenght_agree['Article_lenght'], kde=True, color=\"skyblue\", ax=axs[0, 0])\n",
        "sns.histplot(data=train_df, x=lenght_disagree['Article_lenght'], kde=True, color=\"olive\", ax=axs[0, 1])\n",
        "sns.histplot(data=train_df, x=lenght_discuss['Article_lenght'], kde=True, color=\"gold\", ax=axs[1, 0])\n",
        "sns.histplot(data=train_df, x=lenght_unrelated['Article_lenght'], kde=True, color=\"teal\", ax=axs[1, 1])\n",
        "\n",
        "plt.suptitle(\"Distribution accordingly to article lenght\", y=1.02);\n",
        "\n",
        "plt.show()"
      ],
      "execution_count": null,
      "outputs": [
        {
          "output_type": "display_data",
          "data": {
            "image/png": "[encoded data removed]",
            "text/plain": [
              "<Figure size 504x504 with 4 Axes>"
            ]
          },
          "metadata": {
            "tags": []
          }
        }
      ]
    },
    {
      "cell_type": "markdown",
      "metadata": {
        "id": "A8DMI50rj-Iq"
      },
      "source": [
        "There's no significantly difference in the distribution of the lenght of words across the different stances."
      ]
    },
    {
      "cell_type": "markdown",
      "metadata": {
        "id": "PhCsaCoXPNu8"
      },
      "source": [
        "It can also be interesting analyse some metrics of the articles lenght."
      ]
    },
    {
      "cell_type": "code",
      "metadata": {
        "colab": {
          "base_uri": "https://localhost:8080/"
        },
        "id": "CW9GoovwwDUK",
        "outputId": "2221756c-5da8-4a9d-ce39-92e8d584c58a"
      },
      "source": [
        "train_df['Article_lenght'].describe()"
      ],
      "execution_count": null,
      "outputs": [
        {
          "output_type": "execute_result",
          "data": {
            "text/plain": [
              "count    49972.000000\n",
              "mean      2207.547266\n",
              "std       1676.838550\n",
              "min         38.000000\n",
              "25%       1175.000000\n",
              "50%       1824.000000\n",
              "75%       2765.000000\n",
              "max      27579.000000\n",
              "Name: Article_lenght, dtype: float64"
            ]
          },
          "metadata": {
            "tags": []
          },
          "execution_count": 26
        }
      ]
    },
    {
      "cell_type": "markdown",
      "metadata": {
        "id": "iN7XBrn3j9fB"
      },
      "source": [
        "We can see that on average the articles have 2208 words, with a deviation of 1677 and the minimum of 38 and a maximum of 27579."
      ]
    },
    {
      "cell_type": "markdown",
      "metadata": {
        "id": "4Ch-SWK5wcP8"
      },
      "source": [
        "Now we will focus on 95% percentile to better appreciate examples' behaviour for lenght. And we do the same process as we did before but using the quantile() function from pandas to get values at the 95% quantile."
      ]
    },
    {
      "cell_type": "code",
      "metadata": {
        "id": "238sLCvowbIU"
      },
      "source": [
        "quantile_95 = train_df['Article_lenght'].quantile(0.95\n",
        "train_df_95 = train_df[train_df['Article_lenght'] < quantile_95]"
      ],
      "execution_count": null,
      "outputs": []
    },
    {
      "cell_type": "code",
      "metadata": {
        "colab": {
          "base_uri": "https://localhost:8080/"
        },
        "id": "-scPOmAmVBap",
        "outputId": "b1dabc1c-3c05-4b05-fd62-e6510d1f108a"
      },
      "source": [
        "train_df_95['Article_lenght'] = train_df_95['articleBody'].str.len()\n",
        "\n",
        "lenght_agree = train_df_95[train_df_95['Stance'] ==\"agree\"]\n",
        "lenght_disagree = train_df_95[train_df_95['Stance']==\"disagree\"]\n",
        "lenght_discuss = train_df_95[train_df_95['Stance']==\"discuss\"]\n",
        "lenght_unrelated = train_df_95[train_df_95['Stance']==\"unrelated\"]"
      ],
      "execution_count": null,
      "outputs": [
        {
          "output_type": "stream",
          "text": [
            "/usr/local/lib/python3.7/dist-packages/ipykernel_launcher.py:2: SettingWithCopyWarning: \n",
            "A value is trying to be set on a copy of a slice from a DataFrame.\n",
            "Try using .loc[row_indexer,col_indexer] = value instead\n",
            "\n",
            "See the caveats in the documentation: https://pandas.pydata.org/pandas-docs/stable/user_guide/indexing.html#returning-a-view-versus-a-copy\n",
            "  \n"
          ],
          "name": "stderr"
        }
      ]
    },
    {
      "cell_type": "markdown",
      "metadata": {
        "id": "OCTD-iOWQfYe"
      },
      "source": [
        "To represent it graphically we will use a histogram as before."
      ]
    },
    {
      "cell_type": "code",
      "metadata": {
        "colab": {
          "base_uri": "https://localhost:8080/"
        },
        "id": "SLpQXcJpVBaq",
        "outputId": "f0796d59-ccfb-4fad-ca63-51a3e0a5b07e"
      },
      "source": [
        "sns.set_theme(style=\"darkgrid\")\n",
        "\n",
        "fig, axs = plt.subplots(2, 2, figsize=(7, 7))\n",
        "\n",
        "sns.histplot(data=train_df_95, x=lenght_agree['Article_lenght'], kde=True, color=\"skyblue\", ax=axs[0, 0])\n",
        "sns.histplot(data=train_df_95, x=lenght_disagree['Article_lenght'], kde=True, color=\"olive\", ax=axs[0, 1])\n",
        "sns.histplot(data=train_df_95, x=lenght_discuss['Article_lenght'], kde=True, color=\"gold\", ax=axs[1, 0])\n",
        "sns.histplot(data=train_df_95, x=lenght_unrelated['Article_lenght'], kde=True, color=\"teal\", ax=axs[1, 1])\n",
        "\n",
        "plt.suptitle(\"Distribution accordingly to article lenght inside the 95% quatile\", y=1.02);\n",
        "\n",
        "plt.show()"
      ],
      "execution_count": null,
      "outputs": [
        {
          "output_type": "display_data",
          "data": {
            "image/png": "[encoded data removed]",
            "text/plain": [
              "<Figure size 504x504 with 4 Axes>"
            ]
          },
          "metadata": {
            "tags": []
          }
        }
      ]
    },
    {
      "cell_type": "markdown",
      "metadata": {
        "id": "p63XdtBF4S_C"
      },
      "source": [
        "There's an uncommon amount of articles that have between 0 nd 100 words, let's take a look on a sample of these articles."
      ]
    },
    {
      "cell_type": "code",
      "metadata": {
        "colab": {
          "base_uri": "https://localhost:8080/"
        },
        "id": "xvBLNNgpPDFw",
        "outputId": "a5ac9cda-1db4-4e02-922d-c087d12ab854"
      },
      "source": [
        "bellow_100 = train_df[train_df['Article_lenght'] < 100]\n",
        "bellow_100 = bellow_100.sample(n=5)\n",
        "pd.set_option('display.max_colwidth', None)\n",
        "print(bellow_100['articleBody'])"
      ],
      "execution_count": null,
      "outputs": [
        {
          "output_type": "stream",
          "text": [
            "23831                Erdogan argued that the Turkish weapons drop has harmed the fight against ISIS.\n",
            "44862                        The Pentagon has confirmed that the weapons were indeed seized by ISIS.\n",
            "46277                      Judicial Watch has reported that ISIS members crossed the Mexican border.\n",
            "19386             The bodies found in a mass grave were confirmed as not being the missing students.\n",
            "20668    ISIS released a video purportedly showing the execution of British aid worker David Haines.\n",
            "Name: articleBody, dtype: object\n"
          ],
          "name": "stdout"
        }
      ]
    },
    {
      "cell_type": "markdown",
      "metadata": {
        "id": "FQ741rqHRxCZ"
      },
      "source": [
        "Although they are short they seems to be a regular body article so we keep them.  "
      ]
    },
    {
      "cell_type": "markdown",
      "metadata": {
        "id": "Wp4aib9GxUF3"
      },
      "source": [
        "Next we will like to know how many articles are over 95% percentail in thier character count for article body. We do this just to understand data before feature engineering."
      ]
    },
    {
      "cell_type": "code",
      "metadata": {
        "id": "F0bIXJ89yDaJ"
      },
      "source": [
        "train_df__more_quantile95 = train_df[train_df['Article_lenght'] > quantile_95]"
      ],
      "execution_count": null,
      "outputs": []
    },
    {
      "cell_type": "markdown",
      "metadata": {
        "id": "H3VU7Zy_7qUY"
      },
      "source": [
        "Let's use a box plot chart vizualitation to understand length distribution in every Stance class. We will use the boxplot function from the Seaborn library."
      ]
    },
    {
      "cell_type": "code",
      "metadata": {
        "colab": {
          "base_uri": "https://localhost:8080/"
        },
        "id": "gpBabQ2L7-5E",
        "outputId": "2b974bde-d96a-4921-9161-60fdc168dded"
      },
      "source": [
        "plt.figure(figsize=(12.8,6))\n",
        "sns.boxplot(data=train_df, x='Stance', y='Article_lenght', width=.5);"
      ],
      "execution_count": null,
      "outputs": [
        {
          "output_type": "display_data",
          "data": {
            "image/png": "[encoded data removed]",
            "text/plain": [
              "<Figure size 921.6x432 with 1 Axes>"
            ]
          },
          "metadata": {
            "tags": []
          }
        }
      ]
    },
    {
      "cell_type": "markdown",
      "metadata": {
        "id": "PGUSDd3Y8R4G"
      },
      "source": [
        "We will use the same approach as histogram, and focus on 95% percentile using the train_df_95 dataframe. "
      ]
    },
    {
      "cell_type": "code",
      "metadata": {
        "colab": {
          "base_uri": "https://localhost:8080/"
        },
        "id": "1tp4iU2f8p-4",
        "outputId": "a046519e-ec19-4c06-b4e4-28efdb1da122"
      },
      "source": [
        "plt.figure(figsize=(12.8,6))\n",
        "sns.boxplot(data=train_df_95, x='Stance', y='Article_lenght', width=.5);"
      ],
      "execution_count": null,
      "outputs": [
        {
          "output_type": "display_data",
          "data": {
            "image/png": "[encoded data removed]",
            "text/plain": [
              "<Figure size 921.6x432 with 1 Axes>"
            ]
          },
          "metadata": {
            "tags": []
          }
        }
      ]
    },
    {
      "cell_type": "markdown",
      "metadata": {
        "id": "twMMmqqPmNVd"
      },
      "source": [
        "We can see that the 95% quantile reduces significally the amount of outliers."
      ]
    },
    {
      "cell_type": "markdown",
      "metadata": {
        "id": "qX6mgQotPnZO"
      },
      "source": [
        "### **3.2 Data Cleaning and preparation**\n",
        "In this step we will turn our attention the Articles Body contents. We need to replace any characters and word that do not add value to our classificator. This are characters used in: html files, double spaces, quoting signs, word case, punctuation signs, and possesive pronouns."
      ]
    },
    {
      "cell_type": "markdown",
      "metadata": {
        "id": "CUSVyXOCV6r1"
      },
      "source": [
        "In order to make our study clear and aligh it with our objective we will transform the labels to get only a binary classification between fake or reliable. "
      ]
    },
    {
      "cell_type": "code",
      "metadata": {
        "id": "FiWR4bQ9W1Gj"
      },
      "source": [
        "train_df['Stance'] = train_df['Stance'].replace(['discuss'],'fake')\n",
        "train_df['Stance'] = train_df['Stance'].replace(['disagree'],'fake')\n",
        "train_df['Stance'] = train_df['Stance'].replace(['agree'],'fact')\n",
        "train_df['Stance'] = train_df['Stance'].replace(['unrelated'],'fake')"
      ],
      "execution_count": null,
      "outputs": []
    },
    {
      "cell_type": "markdown",
      "metadata": {
        "id": "hR_JG7OfTAQC"
      },
      "source": [
        "We take a look to the first values."
      ]
    },
    {
      "cell_type": "code",
      "metadata": {
        "colab": {
          "base_uri": "https://localhost:8080/"
        },
        "id": "lFr-kTOAdpMw",
        "outputId": "eadb8b8b-62a5-43f8-cd58-332712cbcff7"
      },
      "source": [
        "train_df.head()"
      ],
      "execution_count": null,
      "outputs": [
        {
          "output_type": "execute_result",
          "data": {
            "text/html": [
              "<div>\n",
              "<style scoped>\n",
              "    .dataframe tbody tr th:only-of-type {\n",
              "        vertical-align: middle;\n",
              "    }\n",
              "\n",
              "    .dataframe tbody tr th {\n",
              "        vertical-align: top;\n",
              "    }\n",
              "\n",
              "    .dataframe thead th {\n",
              "        text-align: right;\n",
              "    }\n",
              "</style>\n",
              "<table border=\"1\" class=\"dataframe\">\n",
              "  <thead>\n",
              "    <tr style=\"text-align: right;\">\n",
              "      <th></th>\n",
              "      <th>Body ID</th>\n",
              "      <th>articleBody</th>\n",
              "      <th>Headline</th>\n",
              "      <th>Stance</th>\n",
              "      <th>Article_lenght</th>\n",
              "    </tr>\n",
              "  </thead>\n",
              "  <tbody>\n",
              "    <tr>\n",
              "      <th>0</th>\n",
              "      <td>0</td>\n",
              "      <td>A small meteorite crashed into a wooded area in Nicaragua's capital of Managua overnight, the government said Sunday. Residents reported hearing a mysterious boom that left a 16-foot deep crater near the city's airport, the Associated Press reports. \\n\\nGovernment spokeswoman Rosario Murillo said a committee formed by the government to study the event determined it was a \"relatively small\" meteorite that \"appears to have come off an asteroid that was passing close to Earth.\" House-sized asteroid 2014 RC, which measured 60 feet in diameter, skimmed the Earth this weekend, ABC News reports. \\nMurillo said Nicaragua will ask international experts to help local scientists in understanding what happened.\\n\\nThe crater left by the meteorite had a radius of 39 feet and a depth of 16 feet,  said Humberto Saballos, a volcanologist with the Nicaraguan Institute of Territorial Studies who was on the committee. He said it is still not clear if the meteorite disintegrated or was buried.\\n\\nHumberto Garcia, of the Astronomy Center at the National Autonomous University of Nicaragua, said the meteorite could be related to an asteroid that was forecast to pass by the planet Saturday night.\\n\\n\"We have to study it more because it could be ice or rock,\" he said.\\n\\nWilfried Strauch, an adviser to the Institute of Territorial Studies, said it was \"very strange that no one reported a streak of light. We have to ask if anyone has a photo or something.\"\\n\\nLocal residents reported hearing a loud boom Saturday night, but said they didn't see anything strange in the sky.\\n\\n\"I was sitting on my porch and I saw nothing, then all of a sudden I heard a large blast. We thought it was a bomb because we felt an expansive wave,\" Jorge Santamaria told The Associated Press.\\n\\nThe site of the crater is near Managua's international airport and an air force base. Only journalists from state media were allowed to visit it.</td>\n",
              "      <td>Soldier shot, Parliament locked down after gunfire erupts at war memorial</td>\n",
              "      <td>fake</td>\n",
              "      <td>1902</td>\n",
              "    </tr>\n",
              "    <tr>\n",
              "      <th>1</th>\n",
              "      <td>0</td>\n",
              "      <td>A small meteorite crashed into a wooded area in Nicaragua's capital of Managua overnight, the government said Sunday. Residents reported hearing a mysterious boom that left a 16-foot deep crater near the city's airport, the Associated Press reports. \\n\\nGovernment spokeswoman Rosario Murillo said a committee formed by the government to study the event determined it was a \"relatively small\" meteorite that \"appears to have come off an asteroid that was passing close to Earth.\" House-sized asteroid 2014 RC, which measured 60 feet in diameter, skimmed the Earth this weekend, ABC News reports. \\nMurillo said Nicaragua will ask international experts to help local scientists in understanding what happened.\\n\\nThe crater left by the meteorite had a radius of 39 feet and a depth of 16 feet,  said Humberto Saballos, a volcanologist with the Nicaraguan Institute of Territorial Studies who was on the committee. He said it is still not clear if the meteorite disintegrated or was buried.\\n\\nHumberto Garcia, of the Astronomy Center at the National Autonomous University of Nicaragua, said the meteorite could be related to an asteroid that was forecast to pass by the planet Saturday night.\\n\\n\"We have to study it more because it could be ice or rock,\" he said.\\n\\nWilfried Strauch, an adviser to the Institute of Territorial Studies, said it was \"very strange that no one reported a streak of light. We have to ask if anyone has a photo or something.\"\\n\\nLocal residents reported hearing a loud boom Saturday night, but said they didn't see anything strange in the sky.\\n\\n\"I was sitting on my porch and I saw nothing, then all of a sudden I heard a large blast. We thought it was a bomb because we felt an expansive wave,\" Jorge Santamaria told The Associated Press.\\n\\nThe site of the crater is near Managua's international airport and an air force base. Only journalists from state media were allowed to visit it.</td>\n",
              "      <td>Tourist dubbed ‘Spider Man’ after spider burrows under skin for days</td>\n",
              "      <td>fake</td>\n",
              "      <td>1902</td>\n",
              "    </tr>\n",
              "    <tr>\n",
              "      <th>2</th>\n",
              "      <td>0</td>\n",
              "      <td>A small meteorite crashed into a wooded area in Nicaragua's capital of Managua overnight, the government said Sunday. Residents reported hearing a mysterious boom that left a 16-foot deep crater near the city's airport, the Associated Press reports. \\n\\nGovernment spokeswoman Rosario Murillo said a committee formed by the government to study the event determined it was a \"relatively small\" meteorite that \"appears to have come off an asteroid that was passing close to Earth.\" House-sized asteroid 2014 RC, which measured 60 feet in diameter, skimmed the Earth this weekend, ABC News reports. \\nMurillo said Nicaragua will ask international experts to help local scientists in understanding what happened.\\n\\nThe crater left by the meteorite had a radius of 39 feet and a depth of 16 feet,  said Humberto Saballos, a volcanologist with the Nicaraguan Institute of Territorial Studies who was on the committee. He said it is still not clear if the meteorite disintegrated or was buried.\\n\\nHumberto Garcia, of the Astronomy Center at the National Autonomous University of Nicaragua, said the meteorite could be related to an asteroid that was forecast to pass by the planet Saturday night.\\n\\n\"We have to study it more because it could be ice or rock,\" he said.\\n\\nWilfried Strauch, an adviser to the Institute of Territorial Studies, said it was \"very strange that no one reported a streak of light. We have to ask if anyone has a photo or something.\"\\n\\nLocal residents reported hearing a loud boom Saturday night, but said they didn't see anything strange in the sky.\\n\\n\"I was sitting on my porch and I saw nothing, then all of a sudden I heard a large blast. We thought it was a bomb because we felt an expansive wave,\" Jorge Santamaria told The Associated Press.\\n\\nThe site of the crater is near Managua's international airport and an air force base. Only journalists from state media were allowed to visit it.</td>\n",
              "      <td>Luke Somers 'killed in failed rescue attempt in Yemen'</td>\n",
              "      <td>fact</td>\n",
              "      <td>1902</td>\n",
              "    </tr>\n",
              "    <tr>\n",
              "      <th>3</th>\n",
              "      <td>0</td>\n",
              "      <td>A small meteorite crashed into a wooded area in Nicaragua's capital of Managua overnight, the government said Sunday. Residents reported hearing a mysterious boom that left a 16-foot deep crater near the city's airport, the Associated Press reports. \\n\\nGovernment spokeswoman Rosario Murillo said a committee formed by the government to study the event determined it was a \"relatively small\" meteorite that \"appears to have come off an asteroid that was passing close to Earth.\" House-sized asteroid 2014 RC, which measured 60 feet in diameter, skimmed the Earth this weekend, ABC News reports. \\nMurillo said Nicaragua will ask international experts to help local scientists in understanding what happened.\\n\\nThe crater left by the meteorite had a radius of 39 feet and a depth of 16 feet,  said Humberto Saballos, a volcanologist with the Nicaraguan Institute of Territorial Studies who was on the committee. He said it is still not clear if the meteorite disintegrated or was buried.\\n\\nHumberto Garcia, of the Astronomy Center at the National Autonomous University of Nicaragua, said the meteorite could be related to an asteroid that was forecast to pass by the planet Saturday night.\\n\\n\"We have to study it more because it could be ice or rock,\" he said.\\n\\nWilfried Strauch, an adviser to the Institute of Territorial Studies, said it was \"very strange that no one reported a streak of light. We have to ask if anyone has a photo or something.\"\\n\\nLocal residents reported hearing a loud boom Saturday night, but said they didn't see anything strange in the sky.\\n\\n\"I was sitting on my porch and I saw nothing, then all of a sudden I heard a large blast. We thought it was a bomb because we felt an expansive wave,\" Jorge Santamaria told The Associated Press.\\n\\nThe site of the crater is near Managua's international airport and an air force base. Only journalists from state media were allowed to visit it.</td>\n",
              "      <td>BREAKING: Soldier shot at War Memorial in Ottawa</td>\n",
              "      <td>fake</td>\n",
              "      <td>1902</td>\n",
              "    </tr>\n",
              "    <tr>\n",
              "      <th>4</th>\n",
              "      <td>0</td>\n",
              "      <td>A small meteorite crashed into a wooded area in Nicaragua's capital of Managua overnight, the government said Sunday. Residents reported hearing a mysterious boom that left a 16-foot deep crater near the city's airport, the Associated Press reports. \\n\\nGovernment spokeswoman Rosario Murillo said a committee formed by the government to study the event determined it was a \"relatively small\" meteorite that \"appears to have come off an asteroid that was passing close to Earth.\" House-sized asteroid 2014 RC, which measured 60 feet in diameter, skimmed the Earth this weekend, ABC News reports. \\nMurillo said Nicaragua will ask international experts to help local scientists in understanding what happened.\\n\\nThe crater left by the meteorite had a radius of 39 feet and a depth of 16 feet,  said Humberto Saballos, a volcanologist with the Nicaraguan Institute of Territorial Studies who was on the committee. He said it is still not clear if the meteorite disintegrated or was buried.\\n\\nHumberto Garcia, of the Astronomy Center at the National Autonomous University of Nicaragua, said the meteorite could be related to an asteroid that was forecast to pass by the planet Saturday night.\\n\\n\"We have to study it more because it could be ice or rock,\" he said.\\n\\nWilfried Strauch, an adviser to the Institute of Territorial Studies, said it was \"very strange that no one reported a streak of light. We have to ask if anyone has a photo or something.\"\\n\\nLocal residents reported hearing a loud boom Saturday night, but said they didn't see anything strange in the sky.\\n\\n\"I was sitting on my porch and I saw nothing, then all of a sudden I heard a large blast. We thought it was a bomb because we felt an expansive wave,\" Jorge Santamaria told The Associated Press.\\n\\nThe site of the crater is near Managua's international airport and an air force base. Only journalists from state media were allowed to visit it.</td>\n",
              "      <td>Giant 8ft 9in catfish weighing 19 stone caught in Italy is thought to be the biggest ever reeled in with a rod and line</td>\n",
              "      <td>fact</td>\n",
              "      <td>1902</td>\n",
              "    </tr>\n",
              "  </tbody>\n",
              "</table>\n",
              "</div>"
            ],
            "text/plain": [
              "   Body ID  ... Article_lenght\n",
              "0        0  ...           1902\n",
              "1        0  ...           1902\n",
              "2        0  ...           1902\n",
              "3        0  ...           1902\n",
              "4        0  ...           1902\n",
              "\n",
              "[5 rows x 5 columns]"
            ]
          },
          "metadata": {
            "tags": []
          },
          "execution_count": 35
        }
      ]
    },
    {
      "cell_type": "markdown",
      "metadata": {
        "id": "N8xo-dFzJ4gB"
      },
      "source": [
        "Let's see how many articles there are that correspond to the new classification. As we did before, we will use Matplotlib linrary to represent it graphically."
      ]
    },
    {
      "cell_type": "code",
      "metadata": {
        "colab": {
          "base_uri": "https://localhost:8080/"
        },
        "id": "tVA9g_IbJ4gB",
        "outputId": "f53c229f-5e71-4d7b-c219-a319cd11c4af"
      },
      "source": [
        "pkmn_type_colors = ['#78C850',  # Grass\n",
        "                    '#F08030',  # Fire\n",
        "                    '#6890F0',  # Water\n",
        "                    '#A8B820',  # Bug\n",
        "                    '#A8A878',  # Normal\n",
        "                    '#A040A0',  # Poison\n",
        "                    '#F8D030',  # Electric\n",
        "                    '#E0C068',  # Ground\n",
        "                    '#EE99AC',  # Fairy\n",
        "                    '#C03028',  # Fighting\n",
        "                    '#F85888',  # Psychic\n",
        "                    '#B8A038',  # Rock\n",
        "                    '#705898',  # Ghost\n",
        "                    '#98D8D8',  # Ice\n",
        "                    '#7038F8',  # Dragon\n",
        "                   ]\n",
        "fmt = '{x:,.0f}'\n",
        "plt.figure(figsize=(12.8,6))\n",
        "ax = train_df['Stance'].value_counts().plot(kind='bar', color=pkmn_type_colors,rot=0)\n",
        "ax.yaxis.set_major_formatter(mtick.StrMethodFormatter(fmt))\n",
        "for p in ax.patches: \n",
        "  ax.annotate(np.round(p.get_height(),decimals=2), \n",
        "              (p.get_x()+p.get_width()/2., p.get_height()), \n",
        "              ha='center', va='center', xytext=(0, 10), textcoords='offset points')\n",
        "  \n",
        "plt.xlabel(\"Stance\", labelpad=14)\n",
        "plt.ylabel(\"Articles\", labelpad=14)\n",
        "plt.title(\"Count Articles by Stance\", y=1.02);"
      ],
      "execution_count": null,
      "outputs": [
        {
          "output_type": "display_data",
          "data": {
            "image/png": "[encoded data removed]",
            "text/plain": [
              "<Figure size 921.6x432 with 1 Axes>"
            ]
          },
          "metadata": {
            "tags": []
          }
        }
      ]
    },
    {
      "cell_type": "markdown",
      "metadata": {
        "id": "M7_mwgr4UAbK"
      },
      "source": [
        "We can appreciate that there are many more fake articles than fact. "
      ]
    },
    {
      "cell_type": "markdown",
      "metadata": {
        "id": "V7AhNGTvJ4gC"
      },
      "source": [
        "Essencially there's a couple ways to deal with the problem:\n",
        "\n",
        "- Data-level techniques — At the data level, solutions work by applying resampling techniques to balance the dataset. These can be done by oversampling the minority class, which is to synthetically create new instances from existing ones; or undersampling the majority class, which eliminates some instances in the majority class. However, both techniques can have their drawbacks. Oversampling new data can cause the classifier to overfit; whereas undersampling can discard essential information. A combination of both techniques with a heuristic approach can be found in specialized literature with excellent results.\n",
        "\n",
        "- Algorithmic-level techniques —Algorithmic level solutions can be done by adjusting weighted costs accordingly to the number of training instances in each class. In parametric classifier like Support Vector Machine, grid search and cross-validation can be applied to optimise the C and gamma values. For non-parametric classifier like the decision tree, adjusting the probabilistic estimate at the tree leaf can improve the performance.\n",
        "\n",
        "- A combination of both — A hybrid approach is also constantly being explored in various literature, including AdaOUBoost (adaptive over-sampling and undersampling boost) proposed by Peng and Yao and Learning By Recognition, using the concept of auto association-based classification approach proposed by Japkowicz.\n",
        "\n",
        "We will apply now Data-level techniques, and later on see if we can also apply some hybrid solution."
      ]
    },
    {
      "cell_type": "code",
      "metadata": {
        "colab": {
          "base_uri": "https://localhost:8080/"
        },
        "id": "nGFC9Z3dOkmn",
        "outputId": "37b6d5d3-8e6e-4316-fd51-7a1472fe0cb2"
      },
      "source": [
        "train_df[\"Stance\"].value_counts()"
      ],
      "execution_count": null,
      "outputs": [
        {
          "output_type": "execute_result",
          "data": {
            "text/plain": [
              "fake    37521\n",
              "fact    12451\n",
              "Name: Stance, dtype: int64"
            ]
          },
          "metadata": {
            "tags": []
          },
          "execution_count": 38
        }
      ]
    },
    {
      "cell_type": "markdown",
      "metadata": {
        "id": "h2yyD-mRVaWO"
      },
      "source": [
        "To balance the classes we will use imbalanced-learn that is a python package offering a number of re-sampling techniques commonly used in datasets showing strong between-class imbalance. To make it we will use the Random Under Sampler function that involves sampling any random class with or without any replacement."
      ]
    },
    {
      "cell_type": "code",
      "metadata": {
        "colab": {
          "base_uri": "https://localhost:8080/"
        },
        "id": "1Eii_ljrTLty",
        "outputId": "9f9785b4-f1c7-47bf-bc85-4c374062f3b1"
      },
      "source": [
        "from collections import Counter\n",
        "from imblearn.under_sampling import RandomUnderSampler\n",
        "from sklearn.model_selection import train_test_split\n",
        "import pandas as pd\n",
        "import numpy as np\n",
        "import warnings\n",
        "\n",
        "warnings.simplefilter(action='ignore', category=FutureWarning)\n",
        "\n",
        "labels = train_df[\"Stance\"]\n",
        "text = train_df.iloc[:, :-1]\n",
        "print(text.columns)\n",
        "print(\"Before undersampling: \", Counter(labels))\n",
        "\n",
        "\n",
        "undersample = RandomUnderSampler(sampling_strategy='majority')\n",
        "text ,labels = undersample.fit_resample(text,labels)\n",
        "\n",
        "print(\"After undersampling: \", Counter(labels))\n",
        "\n",
        "train_df_balanced = pd.DataFrame(text, columns=['Body ID', 'articleBody', 'Headline', 'Stance'])\n"
      ],
      "execution_count": null,
      "outputs": [
        {
          "output_type": "stream",
          "text": [
            "/usr/local/lib/python3.7/dist-packages/sklearn/externals/six.py:31: FutureWarning: The module is deprecated in version 0.21 and will be removed in version 0.23 since we've dropped support for Python 2.7. Please rely on the official version of six (https://pypi.org/project/six/).\n",
            "  \"(https://pypi.org/project/six/).\", FutureWarning)\n",
            "/usr/local/lib/python3.7/dist-packages/sklearn/utils/deprecation.py:144: FutureWarning: The sklearn.neighbors.base module is  deprecated in version 0.22 and will be removed in version 0.24. The corresponding classes / functions should instead be imported from sklearn.neighbors. Anything that cannot be imported from sklearn.neighbors is now part of the private API.\n",
            "  warnings.warn(message, FutureWarning)\n"
          ],
          "name": "stderr"
        },
        {
          "output_type": "stream",
          "text": [
            "Index(['Body ID', 'articleBody', 'Headline', 'Stance'], dtype='object')\n",
            "Before undersampling:  Counter({'fake': 37521, 'fact': 12451})\n",
            "After undersampling:  Counter({'fact': 12451, 'fake': 12451})\n"
          ],
          "name": "stdout"
        }
      ]
    },
    {
      "cell_type": "markdown",
      "metadata": {
        "id": "tbrOx_lJXaK0"
      },
      "source": [
        "As we can see, the classes are balanced once the undersampling strategy is applied."
      ]
    },
    {
      "cell_type": "markdown",
      "metadata": {
        "id": "G5Z-TGa3XhW4"
      },
      "source": [
        "Let's subset our dataset to have a quicker processing times. Let's say 1%"
      ]
    },
    {
      "cell_type": "code",
      "metadata": {
        "colab": {
          "base_uri": "https://localhost:8080/"
        },
        "id": "Cd-sHXngXgwp",
        "outputId": "8c33626a-ec23-439a-dded-55c91abf1bbf"
      },
      "source": [
        "sample_train_df = train_df_balanced.sample(frac=0.01)\n",
        "print(sample_train_df)\n",
        "labels = sample_train_df[\"Stance\"]\n",
        "text = sample_train_df.iloc[:, :-1]\n",
        "\n",
        "print(\"Before undersampling: \", Counter(labels))"
      ],
      "execution_count": null,
      "outputs": [
        {
          "output_type": "stream",
          "text": [
            "      Body ID  ... Stance\n",
            "22925    1296  ...   fake\n",
            "6416     1438  ...   fact\n",
            "11869    2432  ...   fact\n",
            "13261     950  ...   fake\n",
            "2746      663  ...   fact\n",
            "...       ...  ...    ...\n",
            "6726     1506  ...   fact\n",
            "10462    2177  ...   fact\n",
            "14881    1803  ...   fake\n",
            "3991      950  ...   fact\n",
            "10103    2118  ...   fact\n",
            "\n",
            "[249 rows x 4 columns]\n",
            "Before undersampling:  Counter({'fact': 138, 'fake': 111})\n"
          ],
          "name": "stdout"
        }
      ]
    },
    {
      "cell_type": "markdown",
      "metadata": {
        "id": "OK6Q7S4lpJkB"
      },
      "source": [
        "### **3.3 Text pre processing**\n",
        "\n"
      ]
    },
    {
      "cell_type": "markdown",
      "metadata": {
        "id": "9nKfS9GsY0oY"
      },
      "source": [
        "In natural language processing, text preprocessing is the practice of cleaning and preparing text data. NLTK and re are common Python libraries used to handle many text preprocessing tasks."
      ]
    },
    {
      "cell_type": "code",
      "metadata": {
        "id": "2aEqPbxJL8dy"
      },
      "source": [
        "sample_train_df['articleBody_Parsed'] = sample_train_df['articleBody'].str.lower().replace(\"\\r\", \" \").replace(\"\\n\", \" \").replace(\"    \", \" \").replace('\"', '').replace('[^\\w\\s]','').replace(\"'s\", \"\")\n",
        "\n",
        "train_df['Headline'] = train_df['Headline'].str.lower().replace(\"\\r\", \" \").replace(\"\\n\", \" \").replace(\"    \", \" \").replace('\"', '').replace('[^\\w\\s]','').replace(\"'s\", \"\")"
      ],
      "execution_count": null,
      "outputs": []
    },
    {
      "cell_type": "markdown",
      "metadata": {
        "id": "oYaSv9MGph59"
      },
      "source": [
        "#### **3.3.1 Tokenization**\n",
        "\n",
        "In natural language processing, tokenization is the text preprocessing task of breaking up text into smaller components of text (known as tokens).\n",
        "\n",
        "![](https://drive.google.com/uc?export=view&id=11CQktJIv4X1xkH2k-4xcPXcI8xMLVyZ3)"
      ]
    },
    {
      "cell_type": "markdown",
      "metadata": {
        "id": "z0-SwnQIbIlk"
      },
      "source": [
        "We will use The Natural Language Toolkit, or more commonly NLTK, is a suite of libraries and programs for symbolic and statistical natural language processing (NLP) for English written in the Python programming language. Natural Language toolkit has very important module NLTK tokenize sentences which further comprises of sub-modules\n",
        "\n",
        "1. word tokenize\n",
        "2. sentence tokenize\n",
        "\n",
        "We will use the method word_tokenize() to split a sentence into words."
      ]
    },
    {
      "cell_type": "code",
      "metadata": {
        "id": "2omrVchEp0Mh",
        "colab": {
          "base_uri": "https://localhost:8080/"
        },
        "outputId": "05900a84-93f5-4551-ceb6-5e27ea57fcf9"
      },
      "source": [
        "import nltk\n",
        "nltk.download('punkt')\n",
        "nltk.download('wordnet')\n",
        "from nltk import sent_tokenize, word_tokenize\n",
        "from nltk.stem.snowball import SnowballStemmer\n",
        "from nltk.stem.wordnet import WordNetLemmatizer\n",
        "from nltk.corpus import stopwords\n"
      ],
      "execution_count": null,
      "outputs": [
        {
          "output_type": "stream",
          "text": [
            "[nltk_data] Downloading package punkt to /root/nltk_data...\n",
            "[nltk_data]   Package punkt is already up-to-date!\n",
            "[nltk_data] Downloading package wordnet to /root/nltk_data...\n",
            "[nltk_data]   Package wordnet is already up-to-date!\n"
          ],
          "name": "stdout"
        }
      ]
    },
    {
      "cell_type": "markdown",
      "metadata": {
        "id": "mUOYIRIRciih"
      },
      "source": [
        "We will apply the method to the body and the headline and we will look at the first two rows to see the tokenization of our dataframe."
      ]
    },
    {
      "cell_type": "code",
      "metadata": {
        "id": "g2oEUSP9ptsf",
        "colab": {
          "base_uri": "https://localhost:8080/",
          "height": 1000
        },
        "outputId": "540fd136-08b8-453e-d860-b8289b0e8a96"
      },
      "source": [
        "sample_train_df['tokenized_body'] = sample_train_df['articleBody_Parsed'].apply(word_tokenize)\n",
        "\n",
        "sample_train_df['tokenized_headline'] = sample_train_df['Headline'].apply(word_tokenize)\n",
        "sample_train_df.head(2)"
      ],
      "execution_count": null,
      "outputs": [
        {
          "output_type": "execute_result",
          "data": {
            "text/html": [
              "<div>\n",
              "<style scoped>\n",
              "    .dataframe tbody tr th:only-of-type {\n",
              "        vertical-align: middle;\n",
              "    }\n",
              "\n",
              "    .dataframe tbody tr th {\n",
              "        vertical-align: top;\n",
              "    }\n",
              "\n",
              "    .dataframe thead th {\n",
              "        text-align: right;\n",
              "    }\n",
              "</style>\n",
              "<table border=\"1\" class=\"dataframe\">\n",
              "  <thead>\n",
              "    <tr style=\"text-align: right;\">\n",
              "      <th></th>\n",
              "      <th>Body ID</th>\n",
              "      <th>articleBody</th>\n",
              "      <th>Headline</th>\n",
              "      <th>Stance</th>\n",
              "      <th>articleBody_Parsed</th>\n",
              "      <th>tokenized_body</th>\n",
              "      <th>tokenized_headline</th>\n",
              "    </tr>\n",
              "  </thead>\n",
              "  <tbody>\n",
              "    <tr>\n",
              "      <th>22925</th>\n",
              "      <td>1296</td>\n",
              "      <td>TOKYO — Kim Jong Un, the North Korean leader who has mysteriously been missing from the public eye for almost a month, sparking rumors covering every possibility from a stroke to a coup d’etat, is merely recovering from ankle surgery, a South Korean newspaper has reported.\\n\\nKim had fractured both of his ankles and had surgery in Pyongyang in the middle of September to treat them, the Chosun Ilbo, South Korea’s largest newspaper, reported on Tuesday, citing an unnamed source.\\n\\n“I heard that Kim Jong Un injured his right ankle in June after pushing ahead with on-site visits and ended up fracturing both ankles because he left the injury unattended,” the source was quoted as saying, adding that he had the operation at the Bonghwa Clinic, an exclusive hospital for high-ranking party members.\\n\\nSuch is the fascination with North Korea, the world’s most impenetrable country, that rumors spread like wildfire. But they are almost always impossible to verify.\\n\\nNevertheless, it is true that Kim has become noticeably more rotund since he took over the leadership of North Korea from his father, Kim Jong Il, in December 2011. He was pictured limping in July during a ceremony to commemorate the 20th anniversary of the death of his grandfather, former North Korean leader Kim Il Sung, causing speculation about his health. But the gossip mill started up again last week when Kim, the third-generation leader of North Korea, missed a regular session of the Supreme People’s Assembly in Pyongyang. He has not been seen in public since Sept. 3, when he attended a concert with his wife. It went into overdrive when the state-run Korean Central TV said the “Great Successor,” as he is known, was in an “indisposed condition.”\\n\\n“Despite some discomfort, our Marshal continues to come out and lead the people,” said the narrator of a documentary called “Improving the Lives of the People,” showing footage of Kim limping through the Taedonggang Tile Factory last month. It aired just before the session of the assembly, North Korea’s quasi-parliament, was broadcast, the Daily NK Web site reported.\\n\\nWith Kim shown carting around heavy things, the narrator continued: “His whole body is drenched in sweat, but he does not stop working hard, instead showing concern for the health of the other workers.”\\n\\nSeparately, the Rodong Sinmun, the mouthpiece of the Workers’ Party, recently reported that Kim had “labored on,” visiting various facilities braving the hot summer weather.\\n\\nOutside commentators have guessed that Kim has gout, which runs in the family, or has been drinking and eating too much. Diabetes and high blood pressure have also been put forward as possible causes of his absence.\\n\\nWeibo, China's version of Twitter, went crazy this week with reports that Jo Myong Rok, a North Korean vice marshal who died four years ago, had overthrown Kim in a coup and sent his lieutenants to South Korea for negotiations. Talk spread so quickly that the Global Times, one of China’s official papers, ran a commentary Monday titled “For those who make up rumors of coup in North Korea, is it so funny?”\\n\\n“Netizens who have a radical opinion can’t represent the opinion of China and China’s attitude toward North Korea was not changed,” the paper said.\\n\\nIn Washington, U.S. officials said they had no information about North Korea’s leader. “I can just say that I have no confirmation of the reports,” State Department spokeswoman Jen Psaki told reporters. “We’ve seen them, but we don’t have any confirmation.”\\n\\nIn Beijing, a U.S. diplomat said Monday that North Korea has rejected U.S. efforts to discuss the detention of three Americans, Reuters reported. Glyn Davies, U.S. special representative for North Korean policy, who is visiting the region, said Pyongyang’s refusal to discuss the issue was a sign that it “doesn’t have an interest in coming back into the international system as a responsible country.”</td>\n",
              "      <td>Christian Bale won't play Steve Jobs</td>\n",
              "      <td>fake</td>\n",
              "      <td>tokyo — kim jong un, the north korean leader who has mysteriously been missing from the public eye for almost a month, sparking rumors covering every possibility from a stroke to a coup d’etat, is merely recovering from ankle surgery, a south korean newspaper has reported.\\n\\nkim had fractured both of his ankles and had surgery in pyongyang in the middle of september to treat them, the chosun ilbo, south korea’s largest newspaper, reported on tuesday, citing an unnamed source.\\n\\n“i heard that kim jong un injured his right ankle in june after pushing ahead with on-site visits and ended up fracturing both ankles because he left the injury unattended,” the source was quoted as saying, adding that he had the operation at the bonghwa clinic, an exclusive hospital for high-ranking party members.\\n\\nsuch is the fascination with north korea, the world’s most impenetrable country, that rumors spread like wildfire. but they are almost always impossible to verify.\\n\\nnevertheless, it is true that kim has become noticeably more rotund since he took over the leadership of north korea from his father, kim jong il, in december 2011. he was pictured limping in july during a ceremony to commemorate the 20th anniversary of the death of his grandfather, former north korean leader kim il sung, causing speculation about his health. but the gossip mill started up again last week when kim, the third-generation leader of north korea, missed a regular session of the supreme people’s assembly in pyongyang. he has not been seen in public since sept. 3, when he attended a concert with his wife. it went into overdrive when the state-run korean central tv said the “great successor,” as he is known, was in an “indisposed condition.”\\n\\n“despite some discomfort, our marshal continues to come out and lead the people,” said the narrator of a documentary called “improving the lives of the people,” showing footage of kim limping through the taedonggang tile factory last month. it aired just before the session of the assembly, north korea’s quasi-parliament, was broadcast, the daily nk web site reported.\\n\\nwith kim shown carting around heavy things, the narrator continued: “his whole body is drenched in sweat, but he does not stop working hard, instead showing concern for the health of the other workers.”\\n\\nseparately, the rodong sinmun, the mouthpiece of the workers’ party, recently reported that kim had “labored on,” visiting various facilities braving the hot summer weather.\\n\\noutside commentators have guessed that kim has gout, which runs in the family, or has been drinking and eating too much. diabetes and high blood pressure have also been put forward as possible causes of his absence.\\n\\nweibo, china's version of twitter, went crazy this week with reports that jo myong rok, a north korean vice marshal who died four years ago, had overthrown kim in a coup and sent his lieutenants to south korea for negotiations. talk spread so quickly that the global times, one of china’s official papers, ran a commentary monday titled “for those who make up rumors of coup in north korea, is it so funny?”\\n\\n“netizens who have a radical opinion can’t represent the opinion of china and china’s attitude toward north korea was not changed,” the paper said.\\n\\nin washington, u.s. officials said they had no information about north korea’s leader. “i can just say that i have no confirmation of the reports,” state department spokeswoman jen psaki told reporters. “we’ve seen them, but we don’t have any confirmation.”\\n\\nin beijing, a u.s. diplomat said monday that north korea has rejected u.s. efforts to discuss the detention of three americans, reuters reported. glyn davies, u.s. special representative for north korean policy, who is visiting the region, said pyongyang’s refusal to discuss the issue was a sign that it “doesn’t have an interest in coming back into the international system as a responsible country.”</td>\n",
              "      <td>[tokyo, —, kim, jong, un, ,, the, north, korean, leader, who, has, mysteriously, been, missing, from, the, public, eye, for, almost, a, month, ,, sparking, rumors, covering, every, possibility, from, a, stroke, to, a, coup, d, ’, etat, ,, is, merely, recovering, from, ankle, surgery, ,, a, south, korean, newspaper, has, reported, ., kim, had, fractured, both, of, his, ankles, and, had, surgery, in, pyongyang, in, the, middle, of, september, to, treat, them, ,, the, chosun, ilbo, ,, south, korea, ’, s, largest, newspaper, ,, reported, on, tuesday, ,, citing, an, unnamed, source, ., “, i, heard, that, kim, jong, ...]</td>\n",
              "      <td>[Christian, Bale, wo, n't, play, Steve, Jobs]</td>\n",
              "    </tr>\n",
              "    <tr>\n",
              "      <th>6416</th>\n",
              "      <td>1438</td>\n",
              "      <td>A rogue bird let loose on Vladimir Putin over the weekend as the Russian president delivered a speech opening a World War I monument, according to multiple tittering reports. If that tale of feathered vigilante justice sounds farfetched though, that's because it is: The video purporting to show the airborne assault appears to be a sneaky editing job.\\n\\nHere's the clip that got Reddit's attention:\\n\\nYet as another Redditor points out, other footage from the event shows Putin sans poop. (The snippet from the previous video comes around the ninth minute below.)\\n\\nPictures from before and after the speech similarly show no tell-tale white stain, according to The Independent.\\n\\nSo sorry, President Obama, but the birthday present that was too good to be true was, in fact, too good to be true. At least we'll always have the (admittedly phony) memories. --Jon Terbush\\n\\n(Reddit)</td>\n",
              "      <td>Biological Warfare on the Horizon? ISIS Soldiers May Be Infected With Ebola</td>\n",
              "      <td>fact</td>\n",
              "      <td>a rogue bird let loose on vladimir putin over the weekend as the russian president delivered a speech opening a world war i monument, according to multiple tittering reports. if that tale of feathered vigilante justice sounds farfetched though, that's because it is: the video purporting to show the airborne assault appears to be a sneaky editing job.\\n\\nhere's the clip that got reddit's attention:\\n\\nyet as another redditor points out, other footage from the event shows putin sans poop. (the snippet from the previous video comes around the ninth minute below.)\\n\\npictures from before and after the speech similarly show no tell-tale white stain, according to the independent.\\n\\nso sorry, president obama, but the birthday present that was too good to be true was, in fact, too good to be true. at least we'll always have the (admittedly phony) memories. --jon terbush\\n\\n(reddit)</td>\n",
              "      <td>[a, rogue, bird, let, loose, on, vladimir, putin, over, the, weekend, as, the, russian, president, delivered, a, speech, opening, a, world, war, i, monument, ,, according, to, multiple, tittering, reports, ., if, that, tale, of, feathered, vigilante, justice, sounds, farfetched, though, ,, that, 's, because, it, is, :, the, video, purporting, to, show, the, airborne, assault, appears, to, be, a, sneaky, editing, job, ., here, 's, the, clip, that, got, reddit, 's, attention, :, yet, as, another, redditor, points, out, ,, other, footage, from, the, event, shows, putin, sans, poop, ., (, the, snippet, from, the, previous, video, comes, around, ...]</td>\n",
              "      <td>[Biological, Warfare, on, the, Horizon, ?, ISIS, Soldiers, May, Be, Infected, With, Ebola]</td>\n",
              "    </tr>\n",
              "  </tbody>\n",
              "</table>\n",
              "</div>"
            ],
            "text/plain": [
              "      Body ID  ...                                                                          tokenized_headline\n",
              "22925    1296  ...                                               [Christian, Bale, wo, n't, play, Steve, Jobs]\n",
              "6416     1438  ...  [Biological, Warfare, on, the, Horizon, ?, ISIS, Soldiers, May, Be, Infected, With, Ebola]\n",
              "\n",
              "[2 rows x 7 columns]"
            ]
          },
          "metadata": {
            "tags": []
          },
          "execution_count": 43
        }
      ]
    },
    {
      "cell_type": "markdown",
      "metadata": {
        "id": "nskughUbVbgX"
      },
      "source": [
        "#### **3.3.2 Removing stop words**\n",
        "\n",
        "Since there's a lot of prepositions (in, of, to) and conjunctions (and, but, or, nor, for, so, yet) and ponctuation (, - .) and definite or indefinite articles (a,an,the) in our data, it might be useful to introduce a key concept on Natural Language Processing stop words. Stop words refers to the most common words in a language and when dealing with text processing they shoul be removed, since they do not add any valuable information to our studies.\n",
        "\n",
        "![](https://drive.google.com/uc?export=view&id=1QIBzL-yx4qCPyk8klr4EpiMQyvKDt8tD)\n",
        "\n",
        "Now we will remove all stop words, by using a regular expression. For that first we will also use a NLP Toolkit from nltk python package; download and store them in a python object."
      ]
    },
    {
      "cell_type": "code",
      "metadata": {
        "id": "Fi9lwuwEB0Ov",
        "colab": {
          "base_uri": "https://localhost:8080/"
        },
        "outputId": "1b315bcc-a4fc-4923-fe37-96360643609c"
      },
      "source": [
        "nltk.download('stopwords')"
      ],
      "execution_count": null,
      "outputs": [
        {
          "output_type": "stream",
          "text": [
            "[nltk_data] Downloading package stopwords to /root/nltk_data...\n",
            "[nltk_data]   Package stopwords is already up-to-date!\n"
          ],
          "name": "stdout"
        },
        {
          "output_type": "execute_result",
          "data": {
            "text/plain": [
              "True"
            ]
          },
          "metadata": {
            "tags": []
          },
          "execution_count": 44
        }
      ]
    },
    {
      "cell_type": "markdown",
      "metadata": {
        "id": "jhlG8HGldwun"
      },
      "source": [
        "We will apply the stopwords to the body and the headline as we did with the tokenization. Also we will remove the punctuation."
      ]
    },
    {
      "cell_type": "code",
      "metadata": {
        "id": "pgZDBLAvWFGJ"
      },
      "source": [
        "import string\n",
        "stop_words = set(stopwords.words('english'))\n",
        "punctuation = string.punctuation  + \"”\" + \"“\" + \"’\" + \"``\" + \"‘\"\n",
        "\n",
        "\n",
        "sample_train_df['stopwords_removed_body'] = sample_train_df['tokenized_body'].apply(lambda x: [word for word in x if word not in stop_words])\n",
        "unwanted_characters=[\"\",\"\"]\n",
        "sample_train_df['stopwords_removed_body']  = sample_train_df['stopwords_removed_body'].apply(lambda x: [word.replace(\"'\", \"\") for word in x])\n",
        "sample_train_df['stopwords_removed_body']  = sample_train_df['stopwords_removed_body'].apply(lambda x: [word for word in x if word not in punctuation])\n",
        "\n",
        "\n",
        "sample_train_df['stopwords_removed_headline'] = sample_train_df['tokenized_headline'].apply(lambda x: [word for word in x if word not in stop_words])\n",
        "sample_train_df['stopwords_removed_headline']  = sample_train_df['stopwords_removed_headline'].apply(lambda x: [word.replace(\"'\", \"\") for word in x])\n",
        "sample_train_df['stopwords_removed_headline']  = sample_train_df['stopwords_removed_headline'].apply(lambda x: [word for word in x if word not in punctuation])\n"
      ],
      "execution_count": null,
      "outputs": []
    },
    {
      "cell_type": "markdown",
      "metadata": {
        "id": "vYhBvLMeeiQi"
      },
      "source": [
        "We will see the first 5 rows of the dataframe once the stopwords have been removed."
      ]
    },
    {
      "cell_type": "code",
      "metadata": {
        "id": "0Z_Dd-R0U43J",
        "colab": {
          "base_uri": "https://localhost:8080/"
        },
        "outputId": "d6855913-bde9-425a-9669-c54fdc6a6ced"
      },
      "source": [
        "sample_train_df.head(5)"
      ],
      "execution_count": null,
      "outputs": [
        {
          "output_type": "execute_result",
          "data": {
            "text/html": [
              "<div>\n",
              "<style scoped>\n",
              "    .dataframe tbody tr th:only-of-type {\n",
              "        vertical-align: middle;\n",
              "    }\n",
              "\n",
              "    .dataframe tbody tr th {\n",
              "        vertical-align: top;\n",
              "    }\n",
              "\n",
              "    .dataframe thead th {\n",
              "        text-align: right;\n",
              "    }\n",
              "</style>\n",
              "<table border=\"1\" class=\"dataframe\">\n",
              "  <thead>\n",
              "    <tr style=\"text-align: right;\">\n",
              "      <th></th>\n",
              "      <th>Body ID</th>\n",
              "      <th>articleBody</th>\n",
              "      <th>Headline</th>\n",
              "      <th>Stance</th>\n",
              "      <th>articleBody_Parsed</th>\n",
              "      <th>tokenized_body</th>\n",
              "      <th>tokenized_headline</th>\n",
              "      <th>stopwords_removed_body</th>\n",
              "      <th>stopwords_removed_headline</th>\n",
              "    </tr>\n",
              "  </thead>\n",
              "  <tbody>\n",
              "    <tr>\n",
              "      <th>22925</th>\n",
              "      <td>1296</td>\n",
              "      <td>TOKYO — Kim Jong Un, the North Korean leader who has mysteriously been missing from the public eye for almost a month, sparking rumors covering every possibility from a stroke to a coup d’etat, is merely recovering from ankle surgery, a South Korean newspaper has reported.\\n\\nKim had fractured both of his ankles and had surgery in Pyongyang in the middle of September to treat them, the Chosun Ilbo, South Korea’s largest newspaper, reported on Tuesday, citing an unnamed source.\\n\\n“I heard that Kim Jong Un injured his right ankle in June after pushing ahead with on-site visits and ended up fracturing both ankles because he left the injury unattended,” the source was quoted as saying, adding that he had the operation at the Bonghwa Clinic, an exclusive hospital for high-ranking party members.\\n\\nSuch is the fascination with North Korea, the world’s most impenetrable country, that rumors spread like wildfire. But they are almost always impossible to verify.\\n\\nNevertheless, it is true that Kim has become noticeably more rotund since he took over the leadership of North Korea from his father, Kim Jong Il, in December 2011. He was pictured limping in July during a ceremony to commemorate the 20th anniversary of the death of his grandfather, former North Korean leader Kim Il Sung, causing speculation about his health. But the gossip mill started up again last week when Kim, the third-generation leader of North Korea, missed a regular session of the Supreme People’s Assembly in Pyongyang. He has not been seen in public since Sept. 3, when he attended a concert with his wife. It went into overdrive when the state-run Korean Central TV said the “Great Successor,” as he is known, was in an “indisposed condition.”\\n\\n“Despite some discomfort, our Marshal continues to come out and lead the people,” said the narrator of a documentary called “Improving the Lives of the People,” showing footage of Kim limping through the Taedonggang Tile Factory last month. It aired just before the session of the assembly, North Korea’s quasi-parliament, was broadcast, the Daily NK Web site reported.\\n\\nWith Kim shown carting around heavy things, the narrator continued: “His whole body is drenched in sweat, but he does not stop working hard, instead showing concern for the health of the other workers.”\\n\\nSeparately, the Rodong Sinmun, the mouthpiece of the Workers’ Party, recently reported that Kim had “labored on,” visiting various facilities braving the hot summer weather.\\n\\nOutside commentators have guessed that Kim has gout, which runs in the family, or has been drinking and eating too much. Diabetes and high blood pressure have also been put forward as possible causes of his absence.\\n\\nWeibo, China's version of Twitter, went crazy this week with reports that Jo Myong Rok, a North Korean vice marshal who died four years ago, had overthrown Kim in a coup and sent his lieutenants to South Korea for negotiations. Talk spread so quickly that the Global Times, one of China’s official papers, ran a commentary Monday titled “For those who make up rumors of coup in North Korea, is it so funny?”\\n\\n“Netizens who have a radical opinion can’t represent the opinion of China and China’s attitude toward North Korea was not changed,” the paper said.\\n\\nIn Washington, U.S. officials said they had no information about North Korea’s leader. “I can just say that I have no confirmation of the reports,” State Department spokeswoman Jen Psaki told reporters. “We’ve seen them, but we don’t have any confirmation.”\\n\\nIn Beijing, a U.S. diplomat said Monday that North Korea has rejected U.S. efforts to discuss the detention of three Americans, Reuters reported. Glyn Davies, U.S. special representative for North Korean policy, who is visiting the region, said Pyongyang’s refusal to discuss the issue was a sign that it “doesn’t have an interest in coming back into the international system as a responsible country.”</td>\n",
              "      <td>Christian Bale won't play Steve Jobs</td>\n",
              "      <td>fake</td>\n",
              "      <td>tokyo — kim jong un, the north korean leader who has mysteriously been missing from the public eye for almost a month, sparking rumors covering every possibility from a stroke to a coup d’etat, is merely recovering from ankle surgery, a south korean newspaper has reported.\\n\\nkim had fractured both of his ankles and had surgery in pyongyang in the middle of september to treat them, the chosun ilbo, south korea’s largest newspaper, reported on tuesday, citing an unnamed source.\\n\\n“i heard that kim jong un injured his right ankle in june after pushing ahead with on-site visits and ended up fracturing both ankles because he left the injury unattended,” the source was quoted as saying, adding that he had the operation at the bonghwa clinic, an exclusive hospital for high-ranking party members.\\n\\nsuch is the fascination with north korea, the world’s most impenetrable country, that rumors spread like wildfire. but they are almost always impossible to verify.\\n\\nnevertheless, it is true that kim has become noticeably more rotund since he took over the leadership of north korea from his father, kim jong il, in december 2011. he was pictured limping in july during a ceremony to commemorate the 20th anniversary of the death of his grandfather, former north korean leader kim il sung, causing speculation about his health. but the gossip mill started up again last week when kim, the third-generation leader of north korea, missed a regular session of the supreme people’s assembly in pyongyang. he has not been seen in public since sept. 3, when he attended a concert with his wife. it went into overdrive when the state-run korean central tv said the “great successor,” as he is known, was in an “indisposed condition.”\\n\\n“despite some discomfort, our marshal continues to come out and lead the people,” said the narrator of a documentary called “improving the lives of the people,” showing footage of kim limping through the taedonggang tile factory last month. it aired just before the session of the assembly, north korea’s quasi-parliament, was broadcast, the daily nk web site reported.\\n\\nwith kim shown carting around heavy things, the narrator continued: “his whole body is drenched in sweat, but he does not stop working hard, instead showing concern for the health of the other workers.”\\n\\nseparately, the rodong sinmun, the mouthpiece of the workers’ party, recently reported that kim had “labored on,” visiting various facilities braving the hot summer weather.\\n\\noutside commentators have guessed that kim has gout, which runs in the family, or has been drinking and eating too much. diabetes and high blood pressure have also been put forward as possible causes of his absence.\\n\\nweibo, china's version of twitter, went crazy this week with reports that jo myong rok, a north korean vice marshal who died four years ago, had overthrown kim in a coup and sent his lieutenants to south korea for negotiations. talk spread so quickly that the global times, one of china’s official papers, ran a commentary monday titled “for those who make up rumors of coup in north korea, is it so funny?”\\n\\n“netizens who have a radical opinion can’t represent the opinion of china and china’s attitude toward north korea was not changed,” the paper said.\\n\\nin washington, u.s. officials said they had no information about north korea’s leader. “i can just say that i have no confirmation of the reports,” state department spokeswoman jen psaki told reporters. “we’ve seen them, but we don’t have any confirmation.”\\n\\nin beijing, a u.s. diplomat said monday that north korea has rejected u.s. efforts to discuss the detention of three americans, reuters reported. glyn davies, u.s. special representative for north korean policy, who is visiting the region, said pyongyang’s refusal to discuss the issue was a sign that it “doesn’t have an interest in coming back into the international system as a responsible country.”</td>\n",
              "      <td>[tokyo, —, kim, jong, un, ,, the, north, korean, leader, who, has, mysteriously, been, missing, from, the, public, eye, for, almost, a, month, ,, sparking, rumors, covering, every, possibility, from, a, stroke, to, a, coup, d, ’, etat, ,, is, merely, recovering, from, ankle, surgery, ,, a, south, korean, newspaper, has, reported, ., kim, had, fractured, both, of, his, ankles, and, had, surgery, in, pyongyang, in, the, middle, of, september, to, treat, them, ,, the, chosun, ilbo, ,, south, korea, ’, s, largest, newspaper, ,, reported, on, tuesday, ,, citing, an, unnamed, source, ., “, i, heard, that, kim, jong, ...]</td>\n",
              "      <td>[Christian, Bale, wo, n't, play, Steve, Jobs]</td>\n",
              "      <td>[tokyo, —, kim, jong, un, north, korean, leader, mysteriously, missing, public, eye, almost, month, sparking, rumors, covering, every, possibility, stroke, coup, etat, merely, recovering, ankle, surgery, south, korean, newspaper, reported, kim, fractured, ankles, surgery, pyongyang, middle, september, treat, chosun, ilbo, south, korea, largest, newspaper, reported, tuesday, citing, unnamed, source, heard, kim, jong, un, injured, right, ankle, june, pushing, ahead, on-site, visits, ended, fracturing, ankles, left, injury, unattended, source, quoted, saying, adding, operation, bonghwa, clinic, exclusive, hospital, high-ranking, party, members, fascination, north, korea, world, impenetrable, country, rumors, spread, like, wildfire, almost, always, impossible, verify, nevertheless, true, kim, become, noticeably, rotund, since, ...]</td>\n",
              "      <td>[Christian, Bale, wo, nt, play, Steve, Jobs]</td>\n",
              "    </tr>\n",
              "    <tr>\n",
              "      <th>6416</th>\n",
              "      <td>1438</td>\n",
              "      <td>A rogue bird let loose on Vladimir Putin over the weekend as the Russian president delivered a speech opening a World War I monument, according to multiple tittering reports. If that tale of feathered vigilante justice sounds farfetched though, that's because it is: The video purporting to show the airborne assault appears to be a sneaky editing job.\\n\\nHere's the clip that got Reddit's attention:\\n\\nYet as another Redditor points out, other footage from the event shows Putin sans poop. (The snippet from the previous video comes around the ninth minute below.)\\n\\nPictures from before and after the speech similarly show no tell-tale white stain, according to The Independent.\\n\\nSo sorry, President Obama, but the birthday present that was too good to be true was, in fact, too good to be true. At least we'll always have the (admittedly phony) memories. --Jon Terbush\\n\\n(Reddit)</td>\n",
              "      <td>Biological Warfare on the Horizon? ISIS Soldiers May Be Infected With Ebola</td>\n",
              "      <td>fact</td>\n",
              "      <td>a rogue bird let loose on vladimir putin over the weekend as the russian president delivered a speech opening a world war i monument, according to multiple tittering reports. if that tale of feathered vigilante justice sounds farfetched though, that's because it is: the video purporting to show the airborne assault appears to be a sneaky editing job.\\n\\nhere's the clip that got reddit's attention:\\n\\nyet as another redditor points out, other footage from the event shows putin sans poop. (the snippet from the previous video comes around the ninth minute below.)\\n\\npictures from before and after the speech similarly show no tell-tale white stain, according to the independent.\\n\\nso sorry, president obama, but the birthday present that was too good to be true was, in fact, too good to be true. at least we'll always have the (admittedly phony) memories. --jon terbush\\n\\n(reddit)</td>\n",
              "      <td>[a, rogue, bird, let, loose, on, vladimir, putin, over, the, weekend, as, the, russian, president, delivered, a, speech, opening, a, world, war, i, monument, ,, according, to, multiple, tittering, reports, ., if, that, tale, of, feathered, vigilante, justice, sounds, farfetched, though, ,, that, 's, because, it, is, :, the, video, purporting, to, show, the, airborne, assault, appears, to, be, a, sneaky, editing, job, ., here, 's, the, clip, that, got, reddit, 's, attention, :, yet, as, another, redditor, points, out, ,, other, footage, from, the, event, shows, putin, sans, poop, ., (, the, snippet, from, the, previous, video, comes, around, ...]</td>\n",
              "      <td>[Biological, Warfare, on, the, Horizon, ?, ISIS, Soldiers, May, Be, Infected, With, Ebola]</td>\n",
              "      <td>[rogue, bird, let, loose, vladimir, putin, weekend, russian, president, delivered, speech, opening, world, war, monument, according, multiple, tittering, reports, tale, feathered, vigilante, justice, sounds, farfetched, though, s, video, purporting, show, airborne, assault, appears, sneaky, editing, job, s, clip, got, reddit, s, attention, yet, another, redditor, points, footage, event, shows, putin, sans, poop, snippet, previous, video, comes, around, ninth, minute, pictures, speech, similarly, show, tell-tale, white, stain, according, independent, sorry, president, obama, birthday, present, good, true, fact, good, true, least, ll, always, admittedly, phony, memories, --, jon, terbush, reddit]</td>\n",
              "      <td>[Biological, Warfare, Horizon, ISIS, Soldiers, May, Be, Infected, With, Ebola]</td>\n",
              "    </tr>\n",
              "    <tr>\n",
              "      <th>11869</th>\n",
              "      <td>2432</td>\n",
              "      <td>A California company is hoping to revolutionize the security business with autonomous robots.\\n\\nThe Knightscope K5 is one of four drones now patrolling Microsoft's Silicon Valley Campus.\\n\\nMatt Stambaugh, the Calgary Eyeopener's science and technology columnist, spoke about how the five feet tall robots learn.\\n\\n\"You take them to an area, apparently an operator has to walk around the perimeter where they're supposed to patrol once, then they go about learning their environments,\" said Stambaugh. \"What they're using is a variety of different sensors essentially to take the role of what a lot of private security contractors do today.\"\\n\\nAccording to Stambaugh, the robots are capable of detecting anomalies and making decisions.\\n\\n\"It's not quite as advanced as what Google is doing with their self-driving car, but they've got different sensors on board to make a map of the area and then they've got code on board to decide what is something that should be reported back.\"\\n\\n\"They've got thermal imaging if you need. They've got chemical sensors, licence plate recognition software [and] facial recognition software,\" said Stambaugh. \"It looks kind of like a large Roomba. And so instead of looking for dust bunnies it's looking for, you know, criminals.\"\\n\\nK5s to hit the market in 2015\\n\\nAccording to Stambaugh, the robots will be hitting the market starting 2015.\\n\\n\"What the company Knightscope is trying to do is to lease these out on a per-hour basis,\" said Stambaugh. \"So $6.25 an hour they'll lease you one of these K5s and that's about half the price of the average security guard.\"\\n\\nThere are many advantages to a robot over a human patrol. \\n\\n\"They'll work triple shift, 24 hours a day. The battery is supposed to last around a day and when it runs out they go back to a charging carpet and in 20 minutes they are charged up again.\"\\n\\nStambaugh also said the robots do not have any weapons, but that may change in the future.\\n\\n\"Basically what it's doing is calling back to a manned response centre if something is going wrong,\" he said.</td>\n",
              "      <td>Microsoft Hires Dalek-style Robocops to Guard Silicon Valley HQ</td>\n",
              "      <td>fact</td>\n",
              "      <td>a california company is hoping to revolutionize the security business with autonomous robots.\\n\\nthe knightscope k5 is one of four drones now patrolling microsoft's silicon valley campus.\\n\\nmatt stambaugh, the calgary eyeopener's science and technology columnist, spoke about how the five feet tall robots learn.\\n\\n\"you take them to an area, apparently an operator has to walk around the perimeter where they're supposed to patrol once, then they go about learning their environments,\" said stambaugh. \"what they're using is a variety of different sensors essentially to take the role of what a lot of private security contractors do today.\"\\n\\naccording to stambaugh, the robots are capable of detecting anomalies and making decisions.\\n\\n\"it's not quite as advanced as what google is doing with their self-driving car, but they've got different sensors on board to make a map of the area and then they've got code on board to decide what is something that should be reported back.\"\\n\\n\"they've got thermal imaging if you need. they've got chemical sensors, licence plate recognition software [and] facial recognition software,\" said stambaugh. \"it looks kind of like a large roomba. and so instead of looking for dust bunnies it's looking for, you know, criminals.\"\\n\\nk5s to hit the market in 2015\\n\\naccording to stambaugh, the robots will be hitting the market starting 2015.\\n\\n\"what the company knightscope is trying to do is to lease these out on a per-hour basis,\" said stambaugh. \"so $6.25 an hour they'll lease you one of these k5s and that's about half the price of the average security guard.\"\\n\\nthere are many advantages to a robot over a human patrol. \\n\\n\"they'll work triple shift, 24 hours a day. the battery is supposed to last around a day and when it runs out they go back to a charging carpet and in 20 minutes they are charged up again.\"\\n\\nstambaugh also said the robots do not have any weapons, but that may change in the future.\\n\\n\"basically what it's doing is calling back to a manned response centre if something is going wrong,\" he said.</td>\n",
              "      <td>[a, california, company, is, hoping, to, revolutionize, the, security, business, with, autonomous, robots, ., the, knightscope, k5, is, one, of, four, drones, now, patrolling, microsoft, 's, silicon, valley, campus, ., matt, stambaugh, ,, the, calgary, eyeopener, 's, science, and, technology, columnist, ,, spoke, about, how, the, five, feet, tall, robots, learn, ., ``, you, take, them, to, an, area, ,, apparently, an, operator, has, to, walk, around, the, perimeter, where, they, 're, supposed, to, patrol, once, ,, then, they, go, about, learning, their, environments, ,, '', said, stambaugh, ., ``, what, they, 're, using, is, a, variety, of, different, sensors, ...]</td>\n",
              "      <td>[Microsoft, Hires, Dalek-style, Robocops, to, Guard, Silicon, Valley, HQ]</td>\n",
              "      <td>[california, company, hoping, revolutionize, security, business, autonomous, robots, knightscope, k5, one, four, drones, patrolling, microsoft, s, silicon, valley, campus, matt, stambaugh, calgary, eyeopener, s, science, technology, columnist, spoke, five, feet, tall, robots, learn, take, area, apparently, operator, walk, around, perimeter, re, supposed, patrol, go, learning, environments, said, stambaugh, re, using, variety, different, sensors, essentially, take, role, lot, private, security, contractors, today, according, stambaugh, robots, capable, detecting, anomalies, making, decisions, s, quite, advanced, google, self-driving, car, ve, got, different, sensors, board, make, map, area, ve, got, code, board, decide, something, reported, back, ve, got, thermal, imaging, need, ve, got, chemical, sensors, ...]</td>\n",
              "      <td>[Microsoft, Hires, Dalek-style, Robocops, Guard, Silicon, Valley, HQ]</td>\n",
              "    </tr>\n",
              "    <tr>\n",
              "      <th>13261</th>\n",
              "      <td>950</td>\n",
              "      <td>Iraqi pilots who have joined Islamic State are training its members in Syria to fly three captured fighter jets, according to a UK-based activist group that monitors the conflict.\\n\\nThe Syrian Observatory for Human Rights (SOHR) said witnesses had seen the planes being flown around a military airport in Aleppo.\\n\\nMeanwhile, Iraqi forces have launched an attack on IS militants near Tikrit.\\n\\nThe city was among the areas in Syria and Iraq seized by IS this year.\\n\\nRami Abdul Rahman, head of the SOHR, said IS was using Iraqi officers who were pilots under ex-Iraqi President Saddam Hussein to train fighters in Syria.\\n\\n\"People saw the flights, they went up many times from the airport and they are flying in the skies outside the airport and coming back,\" he said.\\n\\nIt is not known how many Iraqi pilots have defected.\\n\\nWitnesses told the SOHR the planes appeared to be MiG-21 or MiG-23 models.\\n\\nThe BBC's Sally Nabil in Baghdad says IS has three planes which it captured earlier from the Syrian military in Aleppo and Raqqa.\\n\\nUS Central Command spokesman Col Patrick Ryder told Reuters the Pentagon was \"not aware\" of IS conducting any flight operations in Syria or elsewhere.\\n\\nAleppo became a key battleground in the fight between Syrian rebels, which now include IS, and government forces after the uprising against President Bashar al-Assad in 2011.\\n\\nNew coordination\\n\\nSeparately, the Iraqi government said its troops had gained ground to the north and west of Tikrit and cut an important IS supply route.\\n\\nCorrespondents say that past efforts by the government to regain territory in the area have ended in failure.\\n\\nMeanwhile Kurdish forces, backed by US-led air strikes, are continuing to fight militants in the northern Syrian town of Kobane.\\n\\nUS-led warplanes struck IS positions on Friday, taking advantage of new coordination with the town's Kurdish defenders.\\n\\nThe BBC's Kasra Naji, on the Turkish-Syria border, said the day began quietly but there had since been around six strikes.\\n\\nOn Thursday, Kurdish commander Baharin Kandal told the BBC that the militants had been driven out of most of Kobane.\\n\\nOur correspondent says refugees watching their town from a hilltop nearby agree that there are only two or three neighbourhoods that are still the scene of fighting.\\n\\nThe battle for Kobane, which is also known as Ayn al-Arab, is regarded as a major test of whether the US-led coalition's air campaign can push back IS.\\n\\nActivists say more than 600 people have been killed since the jihadist group launched its assault on the mainly Kurdish town a month ago.\\n\\nMore than 160,000 people have fled in the face of the IS advance.\\n\\nCapturing the town would give the group unbroken control of a long stretch of the Syrian-Turkish border.\\n\\nIS fighters have gained a reputation for brutal tactics, including mass killings and beheadings of soldiers and journalists.</td>\n",
              "      <td>Ebola Outbreak 2015 Update: ISIS Fighters May Have Contracted Deadly Virus</td>\n",
              "      <td>fake</td>\n",
              "      <td>iraqi pilots who have joined islamic state are training its members in syria to fly three captured fighter jets, according to a uk-based activist group that monitors the conflict.\\n\\nthe syrian observatory for human rights (sohr) said witnesses had seen the planes being flown around a military airport in aleppo.\\n\\nmeanwhile, iraqi forces have launched an attack on is militants near tikrit.\\n\\nthe city was among the areas in syria and iraq seized by is this year.\\n\\nrami abdul rahman, head of the sohr, said is was using iraqi officers who were pilots under ex-iraqi president saddam hussein to train fighters in syria.\\n\\n\"people saw the flights, they went up many times from the airport and they are flying in the skies outside the airport and coming back,\" he said.\\n\\nit is not known how many iraqi pilots have defected.\\n\\nwitnesses told the sohr the planes appeared to be mig-21 or mig-23 models.\\n\\nthe bbc's sally nabil in baghdad says is has three planes which it captured earlier from the syrian military in aleppo and raqqa.\\n\\nus central command spokesman col patrick ryder told reuters the pentagon was \"not aware\" of is conducting any flight operations in syria or elsewhere.\\n\\naleppo became a key battleground in the fight between syrian rebels, which now include is, and government forces after the uprising against president bashar al-assad in 2011.\\n\\nnew coordination\\n\\nseparately, the iraqi government said its troops had gained ground to the north and west of tikrit and cut an important is supply route.\\n\\ncorrespondents say that past efforts by the government to regain territory in the area have ended in failure.\\n\\nmeanwhile kurdish forces, backed by us-led air strikes, are continuing to fight militants in the northern syrian town of kobane.\\n\\nus-led warplanes struck is positions on friday, taking advantage of new coordination with the town's kurdish defenders.\\n\\nthe bbc's kasra naji, on the turkish-syria border, said the day began quietly but there had since been around six strikes.\\n\\non thursday, kurdish commander baharin kandal told the bbc that the militants had been driven out of most of kobane.\\n\\nour correspondent says refugees watching their town from a hilltop nearby agree that there are only two or three neighbourhoods that are still the scene of fighting.\\n\\nthe battle for kobane, which is also known as ayn al-arab, is regarded as a major test of whether the us-led coalition's air campaign can push back is.\\n\\nactivists say more than 600 people have been killed since the jihadist group launched its assault on the mainly kurdish town a month ago.\\n\\nmore than 160,000 people have fled in the face of the is advance.\\n\\ncapturing the town would give the group unbroken control of a long stretch of the syrian-turkish border.\\n\\nis fighters have gained a reputation for brutal tactics, including mass killings and beheadings of soldiers and journalists.</td>\n",
              "      <td>[iraqi, pilots, who, have, joined, islamic, state, are, training, its, members, in, syria, to, fly, three, captured, fighter, jets, ,, according, to, a, uk-based, activist, group, that, monitors, the, conflict, ., the, syrian, observatory, for, human, rights, (, sohr, ), said, witnesses, had, seen, the, planes, being, flown, around, a, military, airport, in, aleppo, ., meanwhile, ,, iraqi, forces, have, launched, an, attack, on, is, militants, near, tikrit, ., the, city, was, among, the, areas, in, syria, and, iraq, seized, by, is, this, year, ., rami, abdul, rahman, ,, head, of, the, sohr, ,, said, is, was, using, iraqi, officers, ...]</td>\n",
              "      <td>[Ebola, Outbreak, 2015, Update, :, ISIS, Fighters, May, Have, Contracted, Deadly, Virus]</td>\n",
              "      <td>[iraqi, pilots, joined, islamic, state, training, members, syria, fly, three, captured, fighter, jets, according, uk-based, activist, group, monitors, conflict, syrian, observatory, human, rights, sohr, said, witnesses, seen, planes, flown, around, military, airport, aleppo, meanwhile, iraqi, forces, launched, attack, militants, near, tikrit, city, among, areas, syria, iraq, seized, year, rami, abdul, rahman, head, sohr, said, using, iraqi, officers, pilots, ex-iraqi, president, saddam, hussein, train, fighters, syria, people, saw, flights, went, many, times, airport, flying, skies, outside, airport, coming, back, said, known, many, iraqi, pilots, defected, witnesses, told, sohr, planes, appeared, mig-21, mig-23, models, bbc, s, sally, nabil, baghdad, says, three, planes, ...]</td>\n",
              "      <td>[Ebola, Outbreak, 2015, Update, ISIS, Fighters, May, Have, Contracted, Deadly, Virus]</td>\n",
              "    </tr>\n",
              "    <tr>\n",
              "      <th>2746</th>\n",
              "      <td>663</td>\n",
              "      <td>The man who jumped the White House fence Sept. 19 pushed his way past a female Secret Service agent before he was overpowered by a male agent in the building’s large East Room.\\n\\nAfter he pushed past the female agent, he ran past the stairway that leads to the president’s personal quarters before he was detained.\\n\\nThe Secret Service’s response to Gonzalez’s dash from the front railing was slowed because perimeter alarms — dubbed “crash boxes” — had been muffled at the request of the White House’s ushers.\\n\\nThe man, Omar Gonzalez, is a former soldier, and was having delusions. The president was not at the White House when Gonzalez ran into the building.\\n\\nThe new revelation was published by the Washington Post and CBS.\\n\\nThe Post credited the new information to whistleblowers and Rep. Jason Chaffetz, the chairman of the House Oversight subcommittee on Homeland Security.\\n\\nChaffetz said the intrusion was a “failure of leadership” by the Secret Service.\\n\\nSecret Service Director Julia Pierson has said the intrusion was “unacceptable” to her.\\n\\nThe report — likely leaked by Chaffetz — comes one day before Pierson testifies at his committee on Tuesday.\\n\\n“The agency needs a solution that goes deeper than more fences and more people,” Chaffetz told the Washington Post.\\n\\n“It must examine what message is being sent to the men and women who protect the president when their leader sacrifices security to appease superficial concerns of White House ushers.”\\n\\nFollow Neil on Twitter</td>\n",
              "      <td>Kim Jong-Un's Sister Takes Control in North Korea</td>\n",
              "      <td>fact</td>\n",
              "      <td>the man who jumped the white house fence sept. 19 pushed his way past a female secret service agent before he was overpowered by a male agent in the building’s large east room.\\n\\nafter he pushed past the female agent, he ran past the stairway that leads to the president’s personal quarters before he was detained.\\n\\nthe secret service’s response to gonzalez’s dash from the front railing was slowed because perimeter alarms — dubbed “crash boxes” — had been muffled at the request of the white house’s ushers.\\n\\nthe man, omar gonzalez, is a former soldier, and was having delusions. the president was not at the white house when gonzalez ran into the building.\\n\\nthe new revelation was published by the washington post and cbs.\\n\\nthe post credited the new information to whistleblowers and rep. jason chaffetz, the chairman of the house oversight subcommittee on homeland security.\\n\\nchaffetz said the intrusion was a “failure of leadership” by the secret service.\\n\\nsecret service director julia pierson has said the intrusion was “unacceptable” to her.\\n\\nthe report — likely leaked by chaffetz — comes one day before pierson testifies at his committee on tuesday.\\n\\n“the agency needs a solution that goes deeper than more fences and more people,” chaffetz told the washington post.\\n\\n“it must examine what message is being sent to the men and women who protect the president when their leader sacrifices security to appease superficial concerns of white house ushers.”\\n\\nfollow neil on twitter</td>\n",
              "      <td>[the, man, who, jumped, the, white, house, fence, sept., 19, pushed, his, way, past, a, female, secret, service, agent, before, he, was, overpowered, by, a, male, agent, in, the, building, ’, s, large, east, room, ., after, he, pushed, past, the, female, agent, ,, he, ran, past, the, stairway, that, leads, to, the, president, ’, s, personal, quarters, before, he, was, detained, ., the, secret, service, ’, s, response, to, gonzalez, ’, s, dash, from, the, front, railing, was, slowed, because, perimeter, alarms, —, dubbed, “, crash, boxes, ”, —, had, been, muffled, at, the, request, of, the, white, house, ...]</td>\n",
              "      <td>[Kim, Jong-Un, 's, Sister, Takes, Control, in, North, Korea]</td>\n",
              "      <td>[man, jumped, white, house, fence, sept., 19, pushed, way, past, female, secret, service, agent, overpowered, male, agent, building, large, east, room, pushed, past, female, agent, ran, past, stairway, leads, president, personal, quarters, detained, secret, service, response, gonzalez, dash, front, railing, slowed, perimeter, alarms, —, dubbed, crash, boxes, —, muffled, request, white, house, ushers, man, omar, gonzalez, former, soldier, delusions, president, white, house, gonzalez, ran, building, new, revelation, published, washington, post, cbs, post, credited, new, information, whistleblowers, rep., jason, chaffetz, chairman, house, oversight, subcommittee, homeland, security, chaffetz, said, intrusion, failure, leadership, secret, service, secret, service, director, julia, pierson, said, intrusion, unacceptable, ...]</td>\n",
              "      <td>[Kim, Jong-Un, s, Sister, Takes, Control, North, Korea]</td>\n",
              "    </tr>\n",
              "  </tbody>\n",
              "</table>\n",
              "</div>"
            ],
            "text/plain": [
              "      Body ID  ...                                                             stopwords_removed_headline\n",
              "22925    1296  ...                                           [Christian, Bale, wo, nt, play, Steve, Jobs]\n",
              "6416     1438  ...         [Biological, Warfare, Horizon, ISIS, Soldiers, May, Be, Infected, With, Ebola]\n",
              "11869    2432  ...                  [Microsoft, Hires, Dalek-style, Robocops, Guard, Silicon, Valley, HQ]\n",
              "13261     950  ...  [Ebola, Outbreak, 2015, Update, ISIS, Fighters, May, Have, Contracted, Deadly, Virus]\n",
              "2746      663  ...                                [Kim, Jong-Un, s, Sister, Takes, Control, North, Korea]\n",
              "\n",
              "[5 rows x 9 columns]"
            ]
          },
          "metadata": {
            "tags": []
          },
          "execution_count": 46
        }
      ]
    },
    {
      "cell_type": "markdown",
      "metadata": {
        "id": "v2D1AYlLbCnV"
      },
      "source": [
        "As we can see \"A small meteorite\" is now \"small meteorite\" since a is a stop word it was removed."
      ]
    },
    {
      "cell_type": "markdown",
      "metadata": {
        "id": "5jyjLzFwQg4j"
      },
      "source": [
        "#### **3.2.1  Stemming vs Lemmatization**\n",
        "\n",
        "The idea of stemming is to reduce different forms of word usage into its root word. For example, “drive”, “drove”, “driving”, “driven”, “driver” are derivatives of the word “drive” and very often researchers want to remove this variability from their corpus. Compared to lemmatization, stemming is certainly the less complicated method but it often does not produce a dictionary-specific morphological root of the word. In other words, stemming the word “pies” will often produce a root of “pi” whereas lemmatization will find the morphological root of “pie”.\n",
        "\n",
        "![](https://drive.google.com/uc?export=view&id=1jNT8NNSz4IsCyZpHsHBO1luQURJVsT63)\n",
        "\n",
        "More information here: https://www.datacamp.com/community/tutorials/stemming-lemmatization-python"
      ]
    },
    {
      "cell_type": "markdown",
      "metadata": {
        "id": "VS_u75ddrttn"
      },
      "source": [
        "First, we have to apply parts of speech tags, in other words, determine the part of speech (ie. noun, verb, adverb, etc.) for each word.\n",
        "\n",
        "![](https://drive.google.com/uc?export=view&id=1NQHJossenrU7ufuqz70azutntHjTXEdR)"
      ]
    },
    {
      "cell_type": "markdown",
      "metadata": {
        "id": "gPw_oFGghgc7"
      },
      "source": [
        "We will use pos_tag() function from NLTK library."
      ]
    },
    {
      "cell_type": "code",
      "metadata": {
        "id": "1I0xAarrrvL5",
        "colab": {
          "base_uri": "https://localhost:8080/"
        },
        "outputId": "e871fc34-1a3d-4371-d59c-16535cc67d9c"
      },
      "source": [
        "nltk.download('averaged_perceptron_tagger')\n",
        "\n",
        "sample_train_df['pos_tags_body'] = sample_train_df['stopwords_removed_body'].apply(nltk.tag.pos_tag)\n",
        "sample_train_df['pos_tags_headline'] = sample_train_df['stopwords_removed_headline'].apply(nltk.tag.pos_tag)\n",
        "\n",
        "sample_train_df.head(1)"
      ],
      "execution_count": null,
      "outputs": [
        {
          "output_type": "stream",
          "text": [
            "[nltk_data] Downloading package averaged_perceptron_tagger to\n",
            "[nltk_data]     /root/nltk_data...\n",
            "[nltk_data]   Package averaged_perceptron_tagger is already up-to-\n",
            "[nltk_data]       date!\n"
          ],
          "name": "stdout"
        },
        {
          "output_type": "execute_result",
          "data": {
            "text/html": [
              "<div>\n",
              "<style scoped>\n",
              "    .dataframe tbody tr th:only-of-type {\n",
              "        vertical-align: middle;\n",
              "    }\n",
              "\n",
              "    .dataframe tbody tr th {\n",
              "        vertical-align: top;\n",
              "    }\n",
              "\n",
              "    .dataframe thead th {\n",
              "        text-align: right;\n",
              "    }\n",
              "</style>\n",
              "<table border=\"1\" class=\"dataframe\">\n",
              "  <thead>\n",
              "    <tr style=\"text-align: right;\">\n",
              "      <th></th>\n",
              "      <th>Body ID</th>\n",
              "      <th>articleBody</th>\n",
              "      <th>Headline</th>\n",
              "      <th>Stance</th>\n",
              "      <th>articleBody_Parsed</th>\n",
              "      <th>tokenized_body</th>\n",
              "      <th>tokenized_headline</th>\n",
              "      <th>stopwords_removed_body</th>\n",
              "      <th>stopwords_removed_headline</th>\n",
              "      <th>pos_tags_body</th>\n",
              "      <th>pos_tags_headline</th>\n",
              "    </tr>\n",
              "  </thead>\n",
              "  <tbody>\n",
              "    <tr>\n",
              "      <th>22925</th>\n",
              "      <td>1296</td>\n",
              "      <td>TOKYO — Kim Jong Un, the North Korean leader who has mysteriously been missing from the public eye for almost a month, sparking rumors covering every possibility from a stroke to a coup d’etat, is merely recovering from ankle surgery, a South Korean newspaper has reported.\\n\\nKim had fractured both of his ankles and had surgery in Pyongyang in the middle of September to treat them, the Chosun Ilbo, South Korea’s largest newspaper, reported on Tuesday, citing an unnamed source.\\n\\n“I heard that Kim Jong Un injured his right ankle in June after pushing ahead with on-site visits and ended up fracturing both ankles because he left the injury unattended,” the source was quoted as saying, adding that he had the operation at the Bonghwa Clinic, an exclusive hospital for high-ranking party members.\\n\\nSuch is the fascination with North Korea, the world’s most impenetrable country, that rumors spread like wildfire. But they are almost always impossible to verify.\\n\\nNevertheless, it is true that Kim has become noticeably more rotund since he took over the leadership of North Korea from his father, Kim Jong Il, in December 2011. He was pictured limping in July during a ceremony to commemorate the 20th anniversary of the death of his grandfather, former North Korean leader Kim Il Sung, causing speculation about his health. But the gossip mill started up again last week when Kim, the third-generation leader of North Korea, missed a regular session of the Supreme People’s Assembly in Pyongyang. He has not been seen in public since Sept. 3, when he attended a concert with his wife. It went into overdrive when the state-run Korean Central TV said the “Great Successor,” as he is known, was in an “indisposed condition.”\\n\\n“Despite some discomfort, our Marshal continues to come out and lead the people,” said the narrator of a documentary called “Improving the Lives of the People,” showing footage of Kim limping through the Taedonggang Tile Factory last month. It aired just before the session of the assembly, North Korea’s quasi-parliament, was broadcast, the Daily NK Web site reported.\\n\\nWith Kim shown carting around heavy things, the narrator continued: “His whole body is drenched in sweat, but he does not stop working hard, instead showing concern for the health of the other workers.”\\n\\nSeparately, the Rodong Sinmun, the mouthpiece of the Workers’ Party, recently reported that Kim had “labored on,” visiting various facilities braving the hot summer weather.\\n\\nOutside commentators have guessed that Kim has gout, which runs in the family, or has been drinking and eating too much. Diabetes and high blood pressure have also been put forward as possible causes of his absence.\\n\\nWeibo, China's version of Twitter, went crazy this week with reports that Jo Myong Rok, a North Korean vice marshal who died four years ago, had overthrown Kim in a coup and sent his lieutenants to South Korea for negotiations. Talk spread so quickly that the Global Times, one of China’s official papers, ran a commentary Monday titled “For those who make up rumors of coup in North Korea, is it so funny?”\\n\\n“Netizens who have a radical opinion can’t represent the opinion of China and China’s attitude toward North Korea was not changed,” the paper said.\\n\\nIn Washington, U.S. officials said they had no information about North Korea’s leader. “I can just say that I have no confirmation of the reports,” State Department spokeswoman Jen Psaki told reporters. “We’ve seen them, but we don’t have any confirmation.”\\n\\nIn Beijing, a U.S. diplomat said Monday that North Korea has rejected U.S. efforts to discuss the detention of three Americans, Reuters reported. Glyn Davies, U.S. special representative for North Korean policy, who is visiting the region, said Pyongyang’s refusal to discuss the issue was a sign that it “doesn’t have an interest in coming back into the international system as a responsible country.”</td>\n",
              "      <td>Christian Bale won't play Steve Jobs</td>\n",
              "      <td>fake</td>\n",
              "      <td>tokyo — kim jong un, the north korean leader who has mysteriously been missing from the public eye for almost a month, sparking rumors covering every possibility from a stroke to a coup d’etat, is merely recovering from ankle surgery, a south korean newspaper has reported.\\n\\nkim had fractured both of his ankles and had surgery in pyongyang in the middle of september to treat them, the chosun ilbo, south korea’s largest newspaper, reported on tuesday, citing an unnamed source.\\n\\n“i heard that kim jong un injured his right ankle in june after pushing ahead with on-site visits and ended up fracturing both ankles because he left the injury unattended,” the source was quoted as saying, adding that he had the operation at the bonghwa clinic, an exclusive hospital for high-ranking party members.\\n\\nsuch is the fascination with north korea, the world’s most impenetrable country, that rumors spread like wildfire. but they are almost always impossible to verify.\\n\\nnevertheless, it is true that kim has become noticeably more rotund since he took over the leadership of north korea from his father, kim jong il, in december 2011. he was pictured limping in july during a ceremony to commemorate the 20th anniversary of the death of his grandfather, former north korean leader kim il sung, causing speculation about his health. but the gossip mill started up again last week when kim, the third-generation leader of north korea, missed a regular session of the supreme people’s assembly in pyongyang. he has not been seen in public since sept. 3, when he attended a concert with his wife. it went into overdrive when the state-run korean central tv said the “great successor,” as he is known, was in an “indisposed condition.”\\n\\n“despite some discomfort, our marshal continues to come out and lead the people,” said the narrator of a documentary called “improving the lives of the people,” showing footage of kim limping through the taedonggang tile factory last month. it aired just before the session of the assembly, north korea’s quasi-parliament, was broadcast, the daily nk web site reported.\\n\\nwith kim shown carting around heavy things, the narrator continued: “his whole body is drenched in sweat, but he does not stop working hard, instead showing concern for the health of the other workers.”\\n\\nseparately, the rodong sinmun, the mouthpiece of the workers’ party, recently reported that kim had “labored on,” visiting various facilities braving the hot summer weather.\\n\\noutside commentators have guessed that kim has gout, which runs in the family, or has been drinking and eating too much. diabetes and high blood pressure have also been put forward as possible causes of his absence.\\n\\nweibo, china's version of twitter, went crazy this week with reports that jo myong rok, a north korean vice marshal who died four years ago, had overthrown kim in a coup and sent his lieutenants to south korea for negotiations. talk spread so quickly that the global times, one of china’s official papers, ran a commentary monday titled “for those who make up rumors of coup in north korea, is it so funny?”\\n\\n“netizens who have a radical opinion can’t represent the opinion of china and china’s attitude toward north korea was not changed,” the paper said.\\n\\nin washington, u.s. officials said they had no information about north korea’s leader. “i can just say that i have no confirmation of the reports,” state department spokeswoman jen psaki told reporters. “we’ve seen them, but we don’t have any confirmation.”\\n\\nin beijing, a u.s. diplomat said monday that north korea has rejected u.s. efforts to discuss the detention of three americans, reuters reported. glyn davies, u.s. special representative for north korean policy, who is visiting the region, said pyongyang’s refusal to discuss the issue was a sign that it “doesn’t have an interest in coming back into the international system as a responsible country.”</td>\n",
              "      <td>[tokyo, —, kim, jong, un, ,, the, north, korean, leader, who, has, mysteriously, been, missing, from, the, public, eye, for, almost, a, month, ,, sparking, rumors, covering, every, possibility, from, a, stroke, to, a, coup, d, ’, etat, ,, is, merely, recovering, from, ankle, surgery, ,, a, south, korean, newspaper, has, reported, ., kim, had, fractured, both, of, his, ankles, and, had, surgery, in, pyongyang, in, the, middle, of, september, to, treat, them, ,, the, chosun, ilbo, ,, south, korea, ’, s, largest, newspaper, ,, reported, on, tuesday, ,, citing, an, unnamed, source, ., “, i, heard, that, kim, jong, ...]</td>\n",
              "      <td>[Christian, Bale, wo, n't, play, Steve, Jobs]</td>\n",
              "      <td>[tokyo, —, kim, jong, un, north, korean, leader, mysteriously, missing, public, eye, almost, month, sparking, rumors, covering, every, possibility, stroke, coup, etat, merely, recovering, ankle, surgery, south, korean, newspaper, reported, kim, fractured, ankles, surgery, pyongyang, middle, september, treat, chosun, ilbo, south, korea, largest, newspaper, reported, tuesday, citing, unnamed, source, heard, kim, jong, un, injured, right, ankle, june, pushing, ahead, on-site, visits, ended, fracturing, ankles, left, injury, unattended, source, quoted, saying, adding, operation, bonghwa, clinic, exclusive, hospital, high-ranking, party, members, fascination, north, korea, world, impenetrable, country, rumors, spread, like, wildfire, almost, always, impossible, verify, nevertheless, true, kim, become, noticeably, rotund, since, ...]</td>\n",
              "      <td>[Christian, Bale, wo, nt, play, Steve, Jobs]</td>\n",
              "      <td>[(tokyo, NN), (—, NN), (kim, NN), (jong, JJ), (un, JJ), (north, JJ), (korean, JJ), (leader, NN), (mysteriously, RB), (missing, VBG), (public, JJ), (eye, NN), (almost, RB), (month, NN), (sparking, VBG), (rumors, NNS), (covering, VBG), (every, DT), (possibility, NN), (stroke, VBD), (coup, NN), (etat, NN), (merely, RB), (recovering, VBG), (ankle, NN), (surgery, NN), (south, JJ), (korean, JJ), (newspaper, NN), (reported, VBD), (kim, NNS), (fractured, VBD), (ankles, NNS), (surgery, NN), (pyongyang, NN), (middle, JJ), (september, NN), (treat, NN), (chosun, NN), (ilbo, NN), (south, JJ), (korea, RB), (largest, JJS), (newspaper, NN), (reported, VBD), (tuesday, JJ), (citing, VBG), (unnamed, JJ), (source, NN), (heard, NN), (kim, NN), (jong, NN), (un, NN), (injured, VBD), (right, JJ), (ankle, NN), (june, NN), (pushing, VBG), (ahead, RB), (on-site, JJ), (visits, NNS), (ended, VBD), (fracturing, VBG), (ankles, NNS), (left, VBD), (injury, NN), (unattended, VBD), (source, NN), (quoted, VBD), (saying, VBG), (adding, VBG), (operation, NN), (bonghwa, NN), (clinic, JJ), (exclusive, JJ), (hospital, NN), (high-ranking, JJ), (party, NN), (members, NNS), (fascination, VBP), (north, RB), (korea, JJ), (world, NN), (impenetrable, JJ), (country, NN), (rumors, NNS), (spread, VBP), (like, IN), (wildfire, NN), (almost, RB), (always, RB), (impossible, JJ), (verify, JJ), (nevertheless, RB), (true, JJ), (kim, NN), (become, NN), (noticeably, RB), (rotund, JJ), (since, IN), ...]</td>\n",
              "      <td>[(Christian, JJ), (Bale, NNP), (wo, MD), (nt, VB), (play, VB), (Steve, NNP), (Jobs, NNP)]</td>\n",
              "    </tr>\n",
              "  </tbody>\n",
              "</table>\n",
              "</div>"
            ],
            "text/plain": [
              "      Body ID  ...                                                                          pos_tags_headline\n",
              "22925    1296  ...  [(Christian, JJ), (Bale, NNP), (wo, MD), (nt, VB), (play, VB), (Steve, NNP), (Jobs, NNP)]\n",
              "\n",
              "[1 rows x 11 columns]"
            ]
          },
          "metadata": {
            "tags": []
          },
          "execution_count": 47
        }
      ]
    },
    {
      "cell_type": "markdown",
      "metadata": {
        "id": "dNhEtu6Fr_gE"
      },
      "source": [
        "We are going to be using NLTK’s word lemmatizer which needs the parts of speech tags to be converted to wordnet’s format. We’ll write a function which make the proper conversion and then use the function within a list comprehension to apply the conversion. Finally, we apply NLTK’s word lemmatizer."
      ]
    },
    {
      "cell_type": "code",
      "metadata": {
        "id": "tL20-gnmsAG6",
        "colab": {
          "base_uri": "https://localhost:8080/"
        },
        "outputId": "8350337a-0889-4cde-e85c-38d7790e9e24"
      },
      "source": [
        "from nltk.corpus import stopwords, wordnet\n",
        "\n",
        "def get_wordnet_pos(tag):\n",
        "  \"\"\"\n",
        "  Function to convert tags into wordnet's format\n",
        "  \"\"\"\n",
        "  if tag.startswith('J'):\n",
        "      return wordnet.ADJ\n",
        "  elif tag.startswith('V'):\n",
        "      return wordnet.VERB\n",
        "  elif tag.startswith('N'):\n",
        "      return wordnet.NOUN\n",
        "  elif tag.startswith('R'):\n",
        "      return wordnet.ADV\n",
        "  else:\n",
        "      return wordnet.NOUN\n",
        "\n",
        "\n",
        "sample_train_df['wordnet_pos_body'] = sample_train_df['pos_tags_body'].apply(lambda x: [(word, get_wordnet_pos(pos_tag)) for (word, pos_tag) in x])\n",
        "sample_train_df['wordnet_pos_headline'] = sample_train_df['pos_tags_headline'].apply(lambda x: [(word, get_wordnet_pos(pos_tag)) for (word, pos_tag) in x])\n",
        "\n",
        "sample_train_df.head(1)\n"
      ],
      "execution_count": null,
      "outputs": [
        {
          "output_type": "execute_result",
          "data": {
            "text/html": [
              "<div>\n",
              "<style scoped>\n",
              "    .dataframe tbody tr th:only-of-type {\n",
              "        vertical-align: middle;\n",
              "    }\n",
              "\n",
              "    .dataframe tbody tr th {\n",
              "        vertical-align: top;\n",
              "    }\n",
              "\n",
              "    .dataframe thead th {\n",
              "        text-align: right;\n",
              "    }\n",
              "</style>\n",
              "<table border=\"1\" class=\"dataframe\">\n",
              "  <thead>\n",
              "    <tr style=\"text-align: right;\">\n",
              "      <th></th>\n",
              "      <th>Body ID</th>\n",
              "      <th>articleBody</th>\n",
              "      <th>Headline</th>\n",
              "      <th>Stance</th>\n",
              "      <th>articleBody_Parsed</th>\n",
              "      <th>tokenized_body</th>\n",
              "      <th>tokenized_headline</th>\n",
              "      <th>stopwords_removed_body</th>\n",
              "      <th>stopwords_removed_headline</th>\n",
              "      <th>pos_tags_body</th>\n",
              "      <th>pos_tags_headline</th>\n",
              "      <th>wordnet_pos_body</th>\n",
              "      <th>wordnet_pos_headline</th>\n",
              "    </tr>\n",
              "  </thead>\n",
              "  <tbody>\n",
              "    <tr>\n",
              "      <th>22925</th>\n",
              "      <td>1296</td>\n",
              "      <td>TOKYO — Kim Jong Un, the North Korean leader who has mysteriously been missing from the public eye for almost a month, sparking rumors covering every possibility from a stroke to a coup d’etat, is merely recovering from ankle surgery, a South Korean newspaper has reported.\\n\\nKim had fractured both of his ankles and had surgery in Pyongyang in the middle of September to treat them, the Chosun Ilbo, South Korea’s largest newspaper, reported on Tuesday, citing an unnamed source.\\n\\n“I heard that Kim Jong Un injured his right ankle in June after pushing ahead with on-site visits and ended up fracturing both ankles because he left the injury unattended,” the source was quoted as saying, adding that he had the operation at the Bonghwa Clinic, an exclusive hospital for high-ranking party members.\\n\\nSuch is the fascination with North Korea, the world’s most impenetrable country, that rumors spread like wildfire. But they are almost always impossible to verify.\\n\\nNevertheless, it is true that Kim has become noticeably more rotund since he took over the leadership of North Korea from his father, Kim Jong Il, in December 2011. He was pictured limping in July during a ceremony to commemorate the 20th anniversary of the death of his grandfather, former North Korean leader Kim Il Sung, causing speculation about his health. But the gossip mill started up again last week when Kim, the third-generation leader of North Korea, missed a regular session of the Supreme People’s Assembly in Pyongyang. He has not been seen in public since Sept. 3, when he attended a concert with his wife. It went into overdrive when the state-run Korean Central TV said the “Great Successor,” as he is known, was in an “indisposed condition.”\\n\\n“Despite some discomfort, our Marshal continues to come out and lead the people,” said the narrator of a documentary called “Improving the Lives of the People,” showing footage of Kim limping through the Taedonggang Tile Factory last month. It aired just before the session of the assembly, North Korea’s quasi-parliament, was broadcast, the Daily NK Web site reported.\\n\\nWith Kim shown carting around heavy things, the narrator continued: “His whole body is drenched in sweat, but he does not stop working hard, instead showing concern for the health of the other workers.”\\n\\nSeparately, the Rodong Sinmun, the mouthpiece of the Workers’ Party, recently reported that Kim had “labored on,” visiting various facilities braving the hot summer weather.\\n\\nOutside commentators have guessed that Kim has gout, which runs in the family, or has been drinking and eating too much. Diabetes and high blood pressure have also been put forward as possible causes of his absence.\\n\\nWeibo, China's version of Twitter, went crazy this week with reports that Jo Myong Rok, a North Korean vice marshal who died four years ago, had overthrown Kim in a coup and sent his lieutenants to South Korea for negotiations. Talk spread so quickly that the Global Times, one of China’s official papers, ran a commentary Monday titled “For those who make up rumors of coup in North Korea, is it so funny?”\\n\\n“Netizens who have a radical opinion can’t represent the opinion of China and China’s attitude toward North Korea was not changed,” the paper said.\\n\\nIn Washington, U.S. officials said they had no information about North Korea’s leader. “I can just say that I have no confirmation of the reports,” State Department spokeswoman Jen Psaki told reporters. “We’ve seen them, but we don’t have any confirmation.”\\n\\nIn Beijing, a U.S. diplomat said Monday that North Korea has rejected U.S. efforts to discuss the detention of three Americans, Reuters reported. Glyn Davies, U.S. special representative for North Korean policy, who is visiting the region, said Pyongyang’s refusal to discuss the issue was a sign that it “doesn’t have an interest in coming back into the international system as a responsible country.”</td>\n",
              "      <td>Christian Bale won't play Steve Jobs</td>\n",
              "      <td>fake</td>\n",
              "      <td>tokyo — kim jong un, the north korean leader who has mysteriously been missing from the public eye for almost a month, sparking rumors covering every possibility from a stroke to a coup d’etat, is merely recovering from ankle surgery, a south korean newspaper has reported.\\n\\nkim had fractured both of his ankles and had surgery in pyongyang in the middle of september to treat them, the chosun ilbo, south korea’s largest newspaper, reported on tuesday, citing an unnamed source.\\n\\n“i heard that kim jong un injured his right ankle in june after pushing ahead with on-site visits and ended up fracturing both ankles because he left the injury unattended,” the source was quoted as saying, adding that he had the operation at the bonghwa clinic, an exclusive hospital for high-ranking party members.\\n\\nsuch is the fascination with north korea, the world’s most impenetrable country, that rumors spread like wildfire. but they are almost always impossible to verify.\\n\\nnevertheless, it is true that kim has become noticeably more rotund since he took over the leadership of north korea from his father, kim jong il, in december 2011. he was pictured limping in july during a ceremony to commemorate the 20th anniversary of the death of his grandfather, former north korean leader kim il sung, causing speculation about his health. but the gossip mill started up again last week when kim, the third-generation leader of north korea, missed a regular session of the supreme people’s assembly in pyongyang. he has not been seen in public since sept. 3, when he attended a concert with his wife. it went into overdrive when the state-run korean central tv said the “great successor,” as he is known, was in an “indisposed condition.”\\n\\n“despite some discomfort, our marshal continues to come out and lead the people,” said the narrator of a documentary called “improving the lives of the people,” showing footage of kim limping through the taedonggang tile factory last month. it aired just before the session of the assembly, north korea’s quasi-parliament, was broadcast, the daily nk web site reported.\\n\\nwith kim shown carting around heavy things, the narrator continued: “his whole body is drenched in sweat, but he does not stop working hard, instead showing concern for the health of the other workers.”\\n\\nseparately, the rodong sinmun, the mouthpiece of the workers’ party, recently reported that kim had “labored on,” visiting various facilities braving the hot summer weather.\\n\\noutside commentators have guessed that kim has gout, which runs in the family, or has been drinking and eating too much. diabetes and high blood pressure have also been put forward as possible causes of his absence.\\n\\nweibo, china's version of twitter, went crazy this week with reports that jo myong rok, a north korean vice marshal who died four years ago, had overthrown kim in a coup and sent his lieutenants to south korea for negotiations. talk spread so quickly that the global times, one of china’s official papers, ran a commentary monday titled “for those who make up rumors of coup in north korea, is it so funny?”\\n\\n“netizens who have a radical opinion can’t represent the opinion of china and china’s attitude toward north korea was not changed,” the paper said.\\n\\nin washington, u.s. officials said they had no information about north korea’s leader. “i can just say that i have no confirmation of the reports,” state department spokeswoman jen psaki told reporters. “we’ve seen them, but we don’t have any confirmation.”\\n\\nin beijing, a u.s. diplomat said monday that north korea has rejected u.s. efforts to discuss the detention of three americans, reuters reported. glyn davies, u.s. special representative for north korean policy, who is visiting the region, said pyongyang’s refusal to discuss the issue was a sign that it “doesn’t have an interest in coming back into the international system as a responsible country.”</td>\n",
              "      <td>[tokyo, —, kim, jong, un, ,, the, north, korean, leader, who, has, mysteriously, been, missing, from, the, public, eye, for, almost, a, month, ,, sparking, rumors, covering, every, possibility, from, a, stroke, to, a, coup, d, ’, etat, ,, is, merely, recovering, from, ankle, surgery, ,, a, south, korean, newspaper, has, reported, ., kim, had, fractured, both, of, his, ankles, and, had, surgery, in, pyongyang, in, the, middle, of, september, to, treat, them, ,, the, chosun, ilbo, ,, south, korea, ’, s, largest, newspaper, ,, reported, on, tuesday, ,, citing, an, unnamed, source, ., “, i, heard, that, kim, jong, ...]</td>\n",
              "      <td>[Christian, Bale, wo, n't, play, Steve, Jobs]</td>\n",
              "      <td>[tokyo, —, kim, jong, un, north, korean, leader, mysteriously, missing, public, eye, almost, month, sparking, rumors, covering, every, possibility, stroke, coup, etat, merely, recovering, ankle, surgery, south, korean, newspaper, reported, kim, fractured, ankles, surgery, pyongyang, middle, september, treat, chosun, ilbo, south, korea, largest, newspaper, reported, tuesday, citing, unnamed, source, heard, kim, jong, un, injured, right, ankle, june, pushing, ahead, on-site, visits, ended, fracturing, ankles, left, injury, unattended, source, quoted, saying, adding, operation, bonghwa, clinic, exclusive, hospital, high-ranking, party, members, fascination, north, korea, world, impenetrable, country, rumors, spread, like, wildfire, almost, always, impossible, verify, nevertheless, true, kim, become, noticeably, rotund, since, ...]</td>\n",
              "      <td>[Christian, Bale, wo, nt, play, Steve, Jobs]</td>\n",
              "      <td>[(tokyo, NN), (—, NN), (kim, NN), (jong, JJ), (un, JJ), (north, JJ), (korean, JJ), (leader, NN), (mysteriously, RB), (missing, VBG), (public, JJ), (eye, NN), (almost, RB), (month, NN), (sparking, VBG), (rumors, NNS), (covering, VBG), (every, DT), (possibility, NN), (stroke, VBD), (coup, NN), (etat, NN), (merely, RB), (recovering, VBG), (ankle, NN), (surgery, NN), (south, JJ), (korean, JJ), (newspaper, NN), (reported, VBD), (kim, NNS), (fractured, VBD), (ankles, NNS), (surgery, NN), (pyongyang, NN), (middle, JJ), (september, NN), (treat, NN), (chosun, NN), (ilbo, NN), (south, JJ), (korea, RB), (largest, JJS), (newspaper, NN), (reported, VBD), (tuesday, JJ), (citing, VBG), (unnamed, JJ), (source, NN), (heard, NN), (kim, NN), (jong, NN), (un, NN), (injured, VBD), (right, JJ), (ankle, NN), (june, NN), (pushing, VBG), (ahead, RB), (on-site, JJ), (visits, NNS), (ended, VBD), (fracturing, VBG), (ankles, NNS), (left, VBD), (injury, NN), (unattended, VBD), (source, NN), (quoted, VBD), (saying, VBG), (adding, VBG), (operation, NN), (bonghwa, NN), (clinic, JJ), (exclusive, JJ), (hospital, NN), (high-ranking, JJ), (party, NN), (members, NNS), (fascination, VBP), (north, RB), (korea, JJ), (world, NN), (impenetrable, JJ), (country, NN), (rumors, NNS), (spread, VBP), (like, IN), (wildfire, NN), (almost, RB), (always, RB), (impossible, JJ), (verify, JJ), (nevertheless, RB), (true, JJ), (kim, NN), (become, NN), (noticeably, RB), (rotund, JJ), (since, IN), ...]</td>\n",
              "      <td>[(Christian, JJ), (Bale, NNP), (wo, MD), (nt, VB), (play, VB), (Steve, NNP), (Jobs, NNP)]</td>\n",
              "      <td>[(tokyo, n), (—, n), (kim, n), (jong, a), (un, a), (north, a), (korean, a), (leader, n), (mysteriously, r), (missing, v), (public, a), (eye, n), (almost, r), (month, n), (sparking, v), (rumors, n), (covering, v), (every, n), (possibility, n), (stroke, v), (coup, n), (etat, n), (merely, r), (recovering, v), (ankle, n), (surgery, n), (south, a), (korean, a), (newspaper, n), (reported, v), (kim, n), (fractured, v), (ankles, n), (surgery, n), (pyongyang, n), (middle, a), (september, n), (treat, n), (chosun, n), (ilbo, n), (south, a), (korea, r), (largest, a), (newspaper, n), (reported, v), (tuesday, a), (citing, v), (unnamed, a), (source, n), (heard, n), (kim, n), (jong, n), (un, n), (injured, v), (right, a), (ankle, n), (june, n), (pushing, v), (ahead, r), (on-site, a), (visits, n), (ended, v), (fracturing, v), (ankles, n), (left, v), (injury, n), (unattended, v), (source, n), (quoted, v), (saying, v), (adding, v), (operation, n), (bonghwa, n), (clinic, a), (exclusive, a), (hospital, n), (high-ranking, a), (party, n), (members, n), (fascination, v), (north, r), (korea, a), (world, n), (impenetrable, a), (country, n), (rumors, n), (spread, v), (like, n), (wildfire, n), (almost, r), (always, r), (impossible, a), (verify, a), (nevertheless, r), (true, a), (kim, n), (become, n), (noticeably, r), (rotund, a), (since, n), ...]</td>\n",
              "      <td>[(Christian, a), (Bale, n), (wo, n), (nt, v), (play, v), (Steve, n), (Jobs, n)]</td>\n",
              "    </tr>\n",
              "  </tbody>\n",
              "</table>\n",
              "</div>"
            ],
            "text/plain": [
              "      Body ID  ...                                                             wordnet_pos_headline\n",
              "22925    1296  ...  [(Christian, a), (Bale, n), (wo, n), (nt, v), (play, v), (Steve, n), (Jobs, n)]\n",
              "\n",
              "[1 rows x 13 columns]"
            ]
          },
          "metadata": {
            "tags": []
          },
          "execution_count": 48
        }
      ]
    },
    {
      "cell_type": "markdown",
      "metadata": {
        "id": "6zPPenFesDAW"
      },
      "source": [
        "Now we can apply NLTK’s word lemmatizer within our trusty list comprehension. Notice, the lemmatizer function requires two parameters the word and its tag (in wordnet form)."
      ]
    },
    {
      "cell_type": "code",
      "metadata": {
        "id": "CZetr_V4sEwZ",
        "colab": {
          "base_uri": "https://localhost:8080/"
        },
        "outputId": "a2690bb4-5e2e-496c-e04f-1f26f82c7db1"
      },
      "source": [
        "wnl = WordNetLemmatizer()\n",
        "\n",
        "sample_train_df['lemmatized_body'] = sample_train_df['wordnet_pos_body'].apply(lambda x: [wnl.lemmatize(word, tag) for word, tag in x])\n",
        "sample_train_df['lemmatized_headline'] = sample_train_df['wordnet_pos_headline'].apply(lambda x: [wnl.lemmatize(word, tag) for word, tag in x])\n",
        "\n",
        "sample_train_df.head(1)"
      ],
      "execution_count": null,
      "outputs": [
        {
          "output_type": "execute_result",
          "data": {
            "text/html": [
              "<div>\n",
              "<style scoped>\n",
              "    .dataframe tbody tr th:only-of-type {\n",
              "        vertical-align: middle;\n",
              "    }\n",
              "\n",
              "    .dataframe tbody tr th {\n",
              "        vertical-align: top;\n",
              "    }\n",
              "\n",
              "    .dataframe thead th {\n",
              "        text-align: right;\n",
              "    }\n",
              "</style>\n",
              "<table border=\"1\" class=\"dataframe\">\n",
              "  <thead>\n",
              "    <tr style=\"text-align: right;\">\n",
              "      <th></th>\n",
              "      <th>Body ID</th>\n",
              "      <th>articleBody</th>\n",
              "      <th>Headline</th>\n",
              "      <th>Stance</th>\n",
              "      <th>articleBody_Parsed</th>\n",
              "      <th>tokenized_body</th>\n",
              "      <th>tokenized_headline</th>\n",
              "      <th>stopwords_removed_body</th>\n",
              "      <th>stopwords_removed_headline</th>\n",
              "      <th>pos_tags_body</th>\n",
              "      <th>pos_tags_headline</th>\n",
              "      <th>wordnet_pos_body</th>\n",
              "      <th>wordnet_pos_headline</th>\n",
              "      <th>lemmatized_body</th>\n",
              "      <th>lemmatized_headline</th>\n",
              "    </tr>\n",
              "  </thead>\n",
              "  <tbody>\n",
              "    <tr>\n",
              "      <th>22925</th>\n",
              "      <td>1296</td>\n",
              "      <td>TOKYO — Kim Jong Un, the North Korean leader who has mysteriously been missing from the public eye for almost a month, sparking rumors covering every possibility from a stroke to a coup d’etat, is merely recovering from ankle surgery, a South Korean newspaper has reported.\\n\\nKim had fractured both of his ankles and had surgery in Pyongyang in the middle of September to treat them, the Chosun Ilbo, South Korea’s largest newspaper, reported on Tuesday, citing an unnamed source.\\n\\n“I heard that Kim Jong Un injured his right ankle in June after pushing ahead with on-site visits and ended up fracturing both ankles because he left the injury unattended,” the source was quoted as saying, adding that he had the operation at the Bonghwa Clinic, an exclusive hospital for high-ranking party members.\\n\\nSuch is the fascination with North Korea, the world’s most impenetrable country, that rumors spread like wildfire. But they are almost always impossible to verify.\\n\\nNevertheless, it is true that Kim has become noticeably more rotund since he took over the leadership of North Korea from his father, Kim Jong Il, in December 2011. He was pictured limping in July during a ceremony to commemorate the 20th anniversary of the death of his grandfather, former North Korean leader Kim Il Sung, causing speculation about his health. But the gossip mill started up again last week when Kim, the third-generation leader of North Korea, missed a regular session of the Supreme People’s Assembly in Pyongyang. He has not been seen in public since Sept. 3, when he attended a concert with his wife. It went into overdrive when the state-run Korean Central TV said the “Great Successor,” as he is known, was in an “indisposed condition.”\\n\\n“Despite some discomfort, our Marshal continues to come out and lead the people,” said the narrator of a documentary called “Improving the Lives of the People,” showing footage of Kim limping through the Taedonggang Tile Factory last month. It aired just before the session of the assembly, North Korea’s quasi-parliament, was broadcast, the Daily NK Web site reported.\\n\\nWith Kim shown carting around heavy things, the narrator continued: “His whole body is drenched in sweat, but he does not stop working hard, instead showing concern for the health of the other workers.”\\n\\nSeparately, the Rodong Sinmun, the mouthpiece of the Workers’ Party, recently reported that Kim had “labored on,” visiting various facilities braving the hot summer weather.\\n\\nOutside commentators have guessed that Kim has gout, which runs in the family, or has been drinking and eating too much. Diabetes and high blood pressure have also been put forward as possible causes of his absence.\\n\\nWeibo, China's version of Twitter, went crazy this week with reports that Jo Myong Rok, a North Korean vice marshal who died four years ago, had overthrown Kim in a coup and sent his lieutenants to South Korea for negotiations. Talk spread so quickly that the Global Times, one of China’s official papers, ran a commentary Monday titled “For those who make up rumors of coup in North Korea, is it so funny?”\\n\\n“Netizens who have a radical opinion can’t represent the opinion of China and China’s attitude toward North Korea was not changed,” the paper said.\\n\\nIn Washington, U.S. officials said they had no information about North Korea’s leader. “I can just say that I have no confirmation of the reports,” State Department spokeswoman Jen Psaki told reporters. “We’ve seen them, but we don’t have any confirmation.”\\n\\nIn Beijing, a U.S. diplomat said Monday that North Korea has rejected U.S. efforts to discuss the detention of three Americans, Reuters reported. Glyn Davies, U.S. special representative for North Korean policy, who is visiting the region, said Pyongyang’s refusal to discuss the issue was a sign that it “doesn’t have an interest in coming back into the international system as a responsible country.”</td>\n",
              "      <td>Christian Bale won't play Steve Jobs</td>\n",
              "      <td>fake</td>\n",
              "      <td>tokyo — kim jong un, the north korean leader who has mysteriously been missing from the public eye for almost a month, sparking rumors covering every possibility from a stroke to a coup d’etat, is merely recovering from ankle surgery, a south korean newspaper has reported.\\n\\nkim had fractured both of his ankles and had surgery in pyongyang in the middle of september to treat them, the chosun ilbo, south korea’s largest newspaper, reported on tuesday, citing an unnamed source.\\n\\n“i heard that kim jong un injured his right ankle in june after pushing ahead with on-site visits and ended up fracturing both ankles because he left the injury unattended,” the source was quoted as saying, adding that he had the operation at the bonghwa clinic, an exclusive hospital for high-ranking party members.\\n\\nsuch is the fascination with north korea, the world’s most impenetrable country, that rumors spread like wildfire. but they are almost always impossible to verify.\\n\\nnevertheless, it is true that kim has become noticeably more rotund since he took over the leadership of north korea from his father, kim jong il, in december 2011. he was pictured limping in july during a ceremony to commemorate the 20th anniversary of the death of his grandfather, former north korean leader kim il sung, causing speculation about his health. but the gossip mill started up again last week when kim, the third-generation leader of north korea, missed a regular session of the supreme people’s assembly in pyongyang. he has not been seen in public since sept. 3, when he attended a concert with his wife. it went into overdrive when the state-run korean central tv said the “great successor,” as he is known, was in an “indisposed condition.”\\n\\n“despite some discomfort, our marshal continues to come out and lead the people,” said the narrator of a documentary called “improving the lives of the people,” showing footage of kim limping through the taedonggang tile factory last month. it aired just before the session of the assembly, north korea’s quasi-parliament, was broadcast, the daily nk web site reported.\\n\\nwith kim shown carting around heavy things, the narrator continued: “his whole body is drenched in sweat, but he does not stop working hard, instead showing concern for the health of the other workers.”\\n\\nseparately, the rodong sinmun, the mouthpiece of the workers’ party, recently reported that kim had “labored on,” visiting various facilities braving the hot summer weather.\\n\\noutside commentators have guessed that kim has gout, which runs in the family, or has been drinking and eating too much. diabetes and high blood pressure have also been put forward as possible causes of his absence.\\n\\nweibo, china's version of twitter, went crazy this week with reports that jo myong rok, a north korean vice marshal who died four years ago, had overthrown kim in a coup and sent his lieutenants to south korea for negotiations. talk spread so quickly that the global times, one of china’s official papers, ran a commentary monday titled “for those who make up rumors of coup in north korea, is it so funny?”\\n\\n“netizens who have a radical opinion can’t represent the opinion of china and china’s attitude toward north korea was not changed,” the paper said.\\n\\nin washington, u.s. officials said they had no information about north korea’s leader. “i can just say that i have no confirmation of the reports,” state department spokeswoman jen psaki told reporters. “we’ve seen them, but we don’t have any confirmation.”\\n\\nin beijing, a u.s. diplomat said monday that north korea has rejected u.s. efforts to discuss the detention of three americans, reuters reported. glyn davies, u.s. special representative for north korean policy, who is visiting the region, said pyongyang’s refusal to discuss the issue was a sign that it “doesn’t have an interest in coming back into the international system as a responsible country.”</td>\n",
              "      <td>[tokyo, —, kim, jong, un, ,, the, north, korean, leader, who, has, mysteriously, been, missing, from, the, public, eye, for, almost, a, month, ,, sparking, rumors, covering, every, possibility, from, a, stroke, to, a, coup, d, ’, etat, ,, is, merely, recovering, from, ankle, surgery, ,, a, south, korean, newspaper, has, reported, ., kim, had, fractured, both, of, his, ankles, and, had, surgery, in, pyongyang, in, the, middle, of, september, to, treat, them, ,, the, chosun, ilbo, ,, south, korea, ’, s, largest, newspaper, ,, reported, on, tuesday, ,, citing, an, unnamed, source, ., “, i, heard, that, kim, jong, ...]</td>\n",
              "      <td>[Christian, Bale, wo, n't, play, Steve, Jobs]</td>\n",
              "      <td>[tokyo, —, kim, jong, un, north, korean, leader, mysteriously, missing, public, eye, almost, month, sparking, rumors, covering, every, possibility, stroke, coup, etat, merely, recovering, ankle, surgery, south, korean, newspaper, reported, kim, fractured, ankles, surgery, pyongyang, middle, september, treat, chosun, ilbo, south, korea, largest, newspaper, reported, tuesday, citing, unnamed, source, heard, kim, jong, un, injured, right, ankle, june, pushing, ahead, on-site, visits, ended, fracturing, ankles, left, injury, unattended, source, quoted, saying, adding, operation, bonghwa, clinic, exclusive, hospital, high-ranking, party, members, fascination, north, korea, world, impenetrable, country, rumors, spread, like, wildfire, almost, always, impossible, verify, nevertheless, true, kim, become, noticeably, rotund, since, ...]</td>\n",
              "      <td>[Christian, Bale, wo, nt, play, Steve, Jobs]</td>\n",
              "      <td>[(tokyo, NN), (—, NN), (kim, NN), (jong, JJ), (un, JJ), (north, JJ), (korean, JJ), (leader, NN), (mysteriously, RB), (missing, VBG), (public, JJ), (eye, NN), (almost, RB), (month, NN), (sparking, VBG), (rumors, NNS), (covering, VBG), (every, DT), (possibility, NN), (stroke, VBD), (coup, NN), (etat, NN), (merely, RB), (recovering, VBG), (ankle, NN), (surgery, NN), (south, JJ), (korean, JJ), (newspaper, NN), (reported, VBD), (kim, NNS), (fractured, VBD), (ankles, NNS), (surgery, NN), (pyongyang, NN), (middle, JJ), (september, NN), (treat, NN), (chosun, NN), (ilbo, NN), (south, JJ), (korea, RB), (largest, JJS), (newspaper, NN), (reported, VBD), (tuesday, JJ), (citing, VBG), (unnamed, JJ), (source, NN), (heard, NN), (kim, NN), (jong, NN), (un, NN), (injured, VBD), (right, JJ), (ankle, NN), (june, NN), (pushing, VBG), (ahead, RB), (on-site, JJ), (visits, NNS), (ended, VBD), (fracturing, VBG), (ankles, NNS), (left, VBD), (injury, NN), (unattended, VBD), (source, NN), (quoted, VBD), (saying, VBG), (adding, VBG), (operation, NN), (bonghwa, NN), (clinic, JJ), (exclusive, JJ), (hospital, NN), (high-ranking, JJ), (party, NN), (members, NNS), (fascination, VBP), (north, RB), (korea, JJ), (world, NN), (impenetrable, JJ), (country, NN), (rumors, NNS), (spread, VBP), (like, IN), (wildfire, NN), (almost, RB), (always, RB), (impossible, JJ), (verify, JJ), (nevertheless, RB), (true, JJ), (kim, NN), (become, NN), (noticeably, RB), (rotund, JJ), (since, IN), ...]</td>\n",
              "      <td>[(Christian, JJ), (Bale, NNP), (wo, MD), (nt, VB), (play, VB), (Steve, NNP), (Jobs, NNP)]</td>\n",
              "      <td>[(tokyo, n), (—, n), (kim, n), (jong, a), (un, a), (north, a), (korean, a), (leader, n), (mysteriously, r), (missing, v), (public, a), (eye, n), (almost, r), (month, n), (sparking, v), (rumors, n), (covering, v), (every, n), (possibility, n), (stroke, v), (coup, n), (etat, n), (merely, r), (recovering, v), (ankle, n), (surgery, n), (south, a), (korean, a), (newspaper, n), (reported, v), (kim, n), (fractured, v), (ankles, n), (surgery, n), (pyongyang, n), (middle, a), (september, n), (treat, n), (chosun, n), (ilbo, n), (south, a), (korea, r), (largest, a), (newspaper, n), (reported, v), (tuesday, a), (citing, v), (unnamed, a), (source, n), (heard, n), (kim, n), (jong, n), (un, n), (injured, v), (right, a), (ankle, n), (june, n), (pushing, v), (ahead, r), (on-site, a), (visits, n), (ended, v), (fracturing, v), (ankles, n), (left, v), (injury, n), (unattended, v), (source, n), (quoted, v), (saying, v), (adding, v), (operation, n), (bonghwa, n), (clinic, a), (exclusive, a), (hospital, n), (high-ranking, a), (party, n), (members, n), (fascination, v), (north, r), (korea, a), (world, n), (impenetrable, a), (country, n), (rumors, n), (spread, v), (like, n), (wildfire, n), (almost, r), (always, r), (impossible, a), (verify, a), (nevertheless, r), (true, a), (kim, n), (become, n), (noticeably, r), (rotund, a), (since, n), ...]</td>\n",
              "      <td>[(Christian, a), (Bale, n), (wo, n), (nt, v), (play, v), (Steve, n), (Jobs, n)]</td>\n",
              "      <td>[tokyo, —, kim, jong, un, north, korean, leader, mysteriously, miss, public, eye, almost, month, spark, rumor, cover, every, possibility, stroke, coup, etat, merely, recover, ankle, surgery, south, korean, newspaper, report, kim, fracture, ankle, surgery, pyongyang, middle, september, treat, chosun, ilbo, south, korea, large, newspaper, report, tuesday, cite, unnamed, source, heard, kim, jong, un, injure, right, ankle, june, push, ahead, on-site, visit, end, fracture, ankle, leave, injury, unattended, source, quote, say, add, operation, bonghwa, clinic, exclusive, hospital, high-ranking, party, member, fascination, north, korea, world, impenetrable, country, rumor, spread, like, wildfire, almost, always, impossible, verify, nevertheless, true, kim, become, noticeably, rotund, since, ...]</td>\n",
              "      <td>[Christian, Bale, wo, nt, play, Steve, Jobs]</td>\n",
              "    </tr>\n",
              "  </tbody>\n",
              "</table>\n",
              "</div>"
            ],
            "text/plain": [
              "      Body ID  ...                           lemmatized_headline\n",
              "22925    1296  ...  [Christian, Bale, wo, nt, play, Steve, Jobs]\n",
              "\n",
              "[1 rows x 15 columns]"
            ]
          },
          "metadata": {
            "tags": []
          },
          "execution_count": 49
        }
      ]
    },
    {
      "cell_type": "markdown",
      "metadata": {
        "id": "DG8Tfm_qRzaV"
      },
      "source": [
        "As we can see right in the first row the word \"crashed\" turned to \"crash\" in body and \"locked\" turned to \"lock\" in the first headline. Finnaly let's turn back the lemmatized into one string \n"
      ]
    },
    {
      "cell_type": "code",
      "metadata": {
        "id": "s6Wh33SGgOrA",
        "colab": {
          "base_uri": "https://localhost:8080/"
        },
        "outputId": "0a38f43c-4a89-4167-b623-76f48446d3fb"
      },
      "source": [
        "def list_to_string(list_):\n",
        "\n",
        "  '''\n",
        "  This function takes the list and put all the elements of the list to a string with \n",
        "  space as a separator\n",
        "  '''\n",
        "  final_string = str()\n",
        "  for element in list_:\n",
        "      final_string += str(element) + \" \"\n",
        "  return final_string\n",
        "\n",
        "sample_train_df['lemmatized_body_string'] = sample_train_df.lemmatized_body.apply(list_to_string)\n",
        "sample_train_df['lemmatized_headline_string'] = sample_train_df.lemmatized_headline.apply(list_to_string)\n",
        "\n",
        "\n",
        "sample_train_df['lemmatized_body_string'] = sample_train_df['lemmatized_body_string'].str.lower().replace(\"\\r\", \" \").replace(\"\\n\", \" \").replace(\"    \", \" \").replace('\"', '').replace('[^\\w\\s]','').replace(\"'s\", \"\")\n",
        "sample_train_df['lemmatized_headline_string'] = sample_train_df['lemmatized_headline_string'].str.lower().replace(\"\\r\", \" \").replace(\"\\n\", \" \").replace(\"    \", \" \").replace('\"', '').replace('[^\\w\\s]','').replace(\"'s\", \"\")\n",
        "\n",
        "sample_train_df.head(1)"
      ],
      "execution_count": null,
      "outputs": [
        {
          "output_type": "execute_result",
          "data": {
            "text/html": [
              "<div>\n",
              "<style scoped>\n",
              "    .dataframe tbody tr th:only-of-type {\n",
              "        vertical-align: middle;\n",
              "    }\n",
              "\n",
              "    .dataframe tbody tr th {\n",
              "        vertical-align: top;\n",
              "    }\n",
              "\n",
              "    .dataframe thead th {\n",
              "        text-align: right;\n",
              "    }\n",
              "</style>\n",
              "<table border=\"1\" class=\"dataframe\">\n",
              "  <thead>\n",
              "    <tr style=\"text-align: right;\">\n",
              "      <th></th>\n",
              "      <th>Body ID</th>\n",
              "      <th>articleBody</th>\n",
              "      <th>Headline</th>\n",
              "      <th>Stance</th>\n",
              "      <th>articleBody_Parsed</th>\n",
              "      <th>tokenized_body</th>\n",
              "      <th>tokenized_headline</th>\n",
              "      <th>stopwords_removed_body</th>\n",
              "      <th>stopwords_removed_headline</th>\n",
              "      <th>pos_tags_body</th>\n",
              "      <th>pos_tags_headline</th>\n",
              "      <th>wordnet_pos_body</th>\n",
              "      <th>wordnet_pos_headline</th>\n",
              "      <th>lemmatized_body</th>\n",
              "      <th>lemmatized_headline</th>\n",
              "      <th>lemmatized_body_string</th>\n",
              "      <th>lemmatized_headline_string</th>\n",
              "    </tr>\n",
              "  </thead>\n",
              "  <tbody>\n",
              "    <tr>\n",
              "      <th>22925</th>\n",
              "      <td>1296</td>\n",
              "      <td>TOKYO — Kim Jong Un, the North Korean leader who has mysteriously been missing from the public eye for almost a month, sparking rumors covering every possibility from a stroke to a coup d’etat, is merely recovering from ankle surgery, a South Korean newspaper has reported.\\n\\nKim had fractured both of his ankles and had surgery in Pyongyang in the middle of September to treat them, the Chosun Ilbo, South Korea’s largest newspaper, reported on Tuesday, citing an unnamed source.\\n\\n“I heard that Kim Jong Un injured his right ankle in June after pushing ahead with on-site visits and ended up fracturing both ankles because he left the injury unattended,” the source was quoted as saying, adding that he had the operation at the Bonghwa Clinic, an exclusive hospital for high-ranking party members.\\n\\nSuch is the fascination with North Korea, the world’s most impenetrable country, that rumors spread like wildfire. But they are almost always impossible to verify.\\n\\nNevertheless, it is true that Kim has become noticeably more rotund since he took over the leadership of North Korea from his father, Kim Jong Il, in December 2011. He was pictured limping in July during a ceremony to commemorate the 20th anniversary of the death of his grandfather, former North Korean leader Kim Il Sung, causing speculation about his health. But the gossip mill started up again last week when Kim, the third-generation leader of North Korea, missed a regular session of the Supreme People’s Assembly in Pyongyang. He has not been seen in public since Sept. 3, when he attended a concert with his wife. It went into overdrive when the state-run Korean Central TV said the “Great Successor,” as he is known, was in an “indisposed condition.”\\n\\n“Despite some discomfort, our Marshal continues to come out and lead the people,” said the narrator of a documentary called “Improving the Lives of the People,” showing footage of Kim limping through the Taedonggang Tile Factory last month. It aired just before the session of the assembly, North Korea’s quasi-parliament, was broadcast, the Daily NK Web site reported.\\n\\nWith Kim shown carting around heavy things, the narrator continued: “His whole body is drenched in sweat, but he does not stop working hard, instead showing concern for the health of the other workers.”\\n\\nSeparately, the Rodong Sinmun, the mouthpiece of the Workers’ Party, recently reported that Kim had “labored on,” visiting various facilities braving the hot summer weather.\\n\\nOutside commentators have guessed that Kim has gout, which runs in the family, or has been drinking and eating too much. Diabetes and high blood pressure have also been put forward as possible causes of his absence.\\n\\nWeibo, China's version of Twitter, went crazy this week with reports that Jo Myong Rok, a North Korean vice marshal who died four years ago, had overthrown Kim in a coup and sent his lieutenants to South Korea for negotiations. Talk spread so quickly that the Global Times, one of China’s official papers, ran a commentary Monday titled “For those who make up rumors of coup in North Korea, is it so funny?”\\n\\n“Netizens who have a radical opinion can’t represent the opinion of China and China’s attitude toward North Korea was not changed,” the paper said.\\n\\nIn Washington, U.S. officials said they had no information about North Korea’s leader. “I can just say that I have no confirmation of the reports,” State Department spokeswoman Jen Psaki told reporters. “We’ve seen them, but we don’t have any confirmation.”\\n\\nIn Beijing, a U.S. diplomat said Monday that North Korea has rejected U.S. efforts to discuss the detention of three Americans, Reuters reported. Glyn Davies, U.S. special representative for North Korean policy, who is visiting the region, said Pyongyang’s refusal to discuss the issue was a sign that it “doesn’t have an interest in coming back into the international system as a responsible country.”</td>\n",
              "      <td>Christian Bale won't play Steve Jobs</td>\n",
              "      <td>fake</td>\n",
              "      <td>tokyo — kim jong un, the north korean leader who has mysteriously been missing from the public eye for almost a month, sparking rumors covering every possibility from a stroke to a coup d’etat, is merely recovering from ankle surgery, a south korean newspaper has reported.\\n\\nkim had fractured both of his ankles and had surgery in pyongyang in the middle of september to treat them, the chosun ilbo, south korea’s largest newspaper, reported on tuesday, citing an unnamed source.\\n\\n“i heard that kim jong un injured his right ankle in june after pushing ahead with on-site visits and ended up fracturing both ankles because he left the injury unattended,” the source was quoted as saying, adding that he had the operation at the bonghwa clinic, an exclusive hospital for high-ranking party members.\\n\\nsuch is the fascination with north korea, the world’s most impenetrable country, that rumors spread like wildfire. but they are almost always impossible to verify.\\n\\nnevertheless, it is true that kim has become noticeably more rotund since he took over the leadership of north korea from his father, kim jong il, in december 2011. he was pictured limping in july during a ceremony to commemorate the 20th anniversary of the death of his grandfather, former north korean leader kim il sung, causing speculation about his health. but the gossip mill started up again last week when kim, the third-generation leader of north korea, missed a regular session of the supreme people’s assembly in pyongyang. he has not been seen in public since sept. 3, when he attended a concert with his wife. it went into overdrive when the state-run korean central tv said the “great successor,” as he is known, was in an “indisposed condition.”\\n\\n“despite some discomfort, our marshal continues to come out and lead the people,” said the narrator of a documentary called “improving the lives of the people,” showing footage of kim limping through the taedonggang tile factory last month. it aired just before the session of the assembly, north korea’s quasi-parliament, was broadcast, the daily nk web site reported.\\n\\nwith kim shown carting around heavy things, the narrator continued: “his whole body is drenched in sweat, but he does not stop working hard, instead showing concern for the health of the other workers.”\\n\\nseparately, the rodong sinmun, the mouthpiece of the workers’ party, recently reported that kim had “labored on,” visiting various facilities braving the hot summer weather.\\n\\noutside commentators have guessed that kim has gout, which runs in the family, or has been drinking and eating too much. diabetes and high blood pressure have also been put forward as possible causes of his absence.\\n\\nweibo, china's version of twitter, went crazy this week with reports that jo myong rok, a north korean vice marshal who died four years ago, had overthrown kim in a coup and sent his lieutenants to south korea for negotiations. talk spread so quickly that the global times, one of china’s official papers, ran a commentary monday titled “for those who make up rumors of coup in north korea, is it so funny?”\\n\\n“netizens who have a radical opinion can’t represent the opinion of china and china’s attitude toward north korea was not changed,” the paper said.\\n\\nin washington, u.s. officials said they had no information about north korea’s leader. “i can just say that i have no confirmation of the reports,” state department spokeswoman jen psaki told reporters. “we’ve seen them, but we don’t have any confirmation.”\\n\\nin beijing, a u.s. diplomat said monday that north korea has rejected u.s. efforts to discuss the detention of three americans, reuters reported. glyn davies, u.s. special representative for north korean policy, who is visiting the region, said pyongyang’s refusal to discuss the issue was a sign that it “doesn’t have an interest in coming back into the international system as a responsible country.”</td>\n",
              "      <td>[tokyo, —, kim, jong, un, ,, the, north, korean, leader, who, has, mysteriously, been, missing, from, the, public, eye, for, almost, a, month, ,, sparking, rumors, covering, every, possibility, from, a, stroke, to, a, coup, d, ’, etat, ,, is, merely, recovering, from, ankle, surgery, ,, a, south, korean, newspaper, has, reported, ., kim, had, fractured, both, of, his, ankles, and, had, surgery, in, pyongyang, in, the, middle, of, september, to, treat, them, ,, the, chosun, ilbo, ,, south, korea, ’, s, largest, newspaper, ,, reported, on, tuesday, ,, citing, an, unnamed, source, ., “, i, heard, that, kim, jong, ...]</td>\n",
              "      <td>[Christian, Bale, wo, n't, play, Steve, Jobs]</td>\n",
              "      <td>[tokyo, —, kim, jong, un, north, korean, leader, mysteriously, missing, public, eye, almost, month, sparking, rumors, covering, every, possibility, stroke, coup, etat, merely, recovering, ankle, surgery, south, korean, newspaper, reported, kim, fractured, ankles, surgery, pyongyang, middle, september, treat, chosun, ilbo, south, korea, largest, newspaper, reported, tuesday, citing, unnamed, source, heard, kim, jong, un, injured, right, ankle, june, pushing, ahead, on-site, visits, ended, fracturing, ankles, left, injury, unattended, source, quoted, saying, adding, operation, bonghwa, clinic, exclusive, hospital, high-ranking, party, members, fascination, north, korea, world, impenetrable, country, rumors, spread, like, wildfire, almost, always, impossible, verify, nevertheless, true, kim, become, noticeably, rotund, since, ...]</td>\n",
              "      <td>[Christian, Bale, wo, nt, play, Steve, Jobs]</td>\n",
              "      <td>[(tokyo, NN), (—, NN), (kim, NN), (jong, JJ), (un, JJ), (north, JJ), (korean, JJ), (leader, NN), (mysteriously, RB), (missing, VBG), (public, JJ), (eye, NN), (almost, RB), (month, NN), (sparking, VBG), (rumors, NNS), (covering, VBG), (every, DT), (possibility, NN), (stroke, VBD), (coup, NN), (etat, NN), (merely, RB), (recovering, VBG), (ankle, NN), (surgery, NN), (south, JJ), (korean, JJ), (newspaper, NN), (reported, VBD), (kim, NNS), (fractured, VBD), (ankles, NNS), (surgery, NN), (pyongyang, NN), (middle, JJ), (september, NN), (treat, NN), (chosun, NN), (ilbo, NN), (south, JJ), (korea, RB), (largest, JJS), (newspaper, NN), (reported, VBD), (tuesday, JJ), (citing, VBG), (unnamed, JJ), (source, NN), (heard, NN), (kim, NN), (jong, NN), (un, NN), (injured, VBD), (right, JJ), (ankle, NN), (june, NN), (pushing, VBG), (ahead, RB), (on-site, JJ), (visits, NNS), (ended, VBD), (fracturing, VBG), (ankles, NNS), (left, VBD), (injury, NN), (unattended, VBD), (source, NN), (quoted, VBD), (saying, VBG), (adding, VBG), (operation, NN), (bonghwa, NN), (clinic, JJ), (exclusive, JJ), (hospital, NN), (high-ranking, JJ), (party, NN), (members, NNS), (fascination, VBP), (north, RB), (korea, JJ), (world, NN), (impenetrable, JJ), (country, NN), (rumors, NNS), (spread, VBP), (like, IN), (wildfire, NN), (almost, RB), (always, RB), (impossible, JJ), (verify, JJ), (nevertheless, RB), (true, JJ), (kim, NN), (become, NN), (noticeably, RB), (rotund, JJ), (since, IN), ...]</td>\n",
              "      <td>[(Christian, JJ), (Bale, NNP), (wo, MD), (nt, VB), (play, VB), (Steve, NNP), (Jobs, NNP)]</td>\n",
              "      <td>[(tokyo, n), (—, n), (kim, n), (jong, a), (un, a), (north, a), (korean, a), (leader, n), (mysteriously, r), (missing, v), (public, a), (eye, n), (almost, r), (month, n), (sparking, v), (rumors, n), (covering, v), (every, n), (possibility, n), (stroke, v), (coup, n), (etat, n), (merely, r), (recovering, v), (ankle, n), (surgery, n), (south, a), (korean, a), (newspaper, n), (reported, v), (kim, n), (fractured, v), (ankles, n), (surgery, n), (pyongyang, n), (middle, a), (september, n), (treat, n), (chosun, n), (ilbo, n), (south, a), (korea, r), (largest, a), (newspaper, n), (reported, v), (tuesday, a), (citing, v), (unnamed, a), (source, n), (heard, n), (kim, n), (jong, n), (un, n), (injured, v), (right, a), (ankle, n), (june, n), (pushing, v), (ahead, r), (on-site, a), (visits, n), (ended, v), (fracturing, v), (ankles, n), (left, v), (injury, n), (unattended, v), (source, n), (quoted, v), (saying, v), (adding, v), (operation, n), (bonghwa, n), (clinic, a), (exclusive, a), (hospital, n), (high-ranking, a), (party, n), (members, n), (fascination, v), (north, r), (korea, a), (world, n), (impenetrable, a), (country, n), (rumors, n), (spread, v), (like, n), (wildfire, n), (almost, r), (always, r), (impossible, a), (verify, a), (nevertheless, r), (true, a), (kim, n), (become, n), (noticeably, r), (rotund, a), (since, n), ...]</td>\n",
              "      <td>[(Christian, a), (Bale, n), (wo, n), (nt, v), (play, v), (Steve, n), (Jobs, n)]</td>\n",
              "      <td>[tokyo, —, kim, jong, un, north, korean, leader, mysteriously, miss, public, eye, almost, month, spark, rumor, cover, every, possibility, stroke, coup, etat, merely, recover, ankle, surgery, south, korean, newspaper, report, kim, fracture, ankle, surgery, pyongyang, middle, september, treat, chosun, ilbo, south, korea, large, newspaper, report, tuesday, cite, unnamed, source, heard, kim, jong, un, injure, right, ankle, june, push, ahead, on-site, visit, end, fracture, ankle, leave, injury, unattended, source, quote, say, add, operation, bonghwa, clinic, exclusive, hospital, high-ranking, party, member, fascination, north, korea, world, impenetrable, country, rumor, spread, like, wildfire, almost, always, impossible, verify, nevertheless, true, kim, become, noticeably, rotund, since, ...]</td>\n",
              "      <td>[Christian, Bale, wo, nt, play, Steve, Jobs]</td>\n",
              "      <td>tokyo — kim jong un north korean leader mysteriously miss public eye almost month spark rumor cover every possibility stroke coup etat merely recover ankle surgery south korean newspaper report kim fracture ankle surgery pyongyang middle september treat chosun ilbo south korea large newspaper report tuesday cite unnamed source heard kim jong un injure right ankle june push ahead on-site visit end fracture ankle leave injury unattended source quote say add operation bonghwa clinic exclusive hospital high-ranking party member fascination north korea world impenetrable country rumor spread like wildfire almost always impossible verify nevertheless true kim become noticeably rotund since take leadership north korea father kim jong il december 2011. picture limp july ceremony commemorate 20th anniversary death grandfather former north korean leader kim il sing cause speculation health gossip mill start last week kim third-generation leader north korea miss regular session supreme people assembly pyongyang see public since sept. 3 attend concert wife go overdrive state-run korean central tv say great successor know indisposed condition. despite discomfort marshal continue come lead people say narrator documentary call improve life people show footage kim limp taedonggang tile factory last month air session assembly north korea quasi-parliament broadcast daily nk web site report kim show cart around heavy thing narrator continued whole body drench sweat stop work hard instead show concern health workers. separately rodong sinmun mouthpiece worker party recently report kim labor visit various facility brave hot summer weather outside commentator guess kim gout run family drink eat much diabetes high blood pressure also put forward possible cause absence weibo china s version twitter go crazy week report jo myong rok north korean vice marshal die four year ago overthrown kim coup sent lieutenant south korea negotiation talk spread quickly global time one china official paper run commentary monday title make rumor coup north korea funny netizens radical opinion represent opinion china china attitude toward north korea change paper say washington u.s. official say information north korea leader say confirmation report state department spokeswoman jen psaki tell reporter see confirmation. beijing u.s. diplomat say monday north korea reject u.s. effort discus detention three americans reuters report glyn davy u.s. special representative north korean policy visit region say pyongyang refusal discuss issue sign interest come back international system responsible country</td>\n",
              "      <td>christian bale wo nt play steve jobs</td>\n",
              "    </tr>\n",
              "  </tbody>\n",
              "</table>\n",
              "</div>"
            ],
            "text/plain": [
              "      Body ID  ...             lemmatized_headline_string\n",
              "22925    1296  ...  christian bale wo nt play steve jobs \n",
              "\n",
              "[1 rows x 17 columns]"
            ]
          },
          "metadata": {
            "tags": []
          },
          "execution_count": 50
        }
      ]
    },
    {
      "cell_type": "markdown",
      "metadata": {
        "id": "c0V3jWf2dMg_"
      },
      "source": [
        "#### **3.2.3 Labeling categories**"
      ]
    },
    {
      "cell_type": "markdown",
      "metadata": {
        "id": "SmlIxsCUiKOY"
      },
      "source": [
        "We assign the definitive columns to our dataframe."
      ]
    },
    {
      "cell_type": "code",
      "metadata": {
        "id": "I8P6w-S2RmmI"
      },
      "source": [
        "train_columns = [\"Body ID\",\"Stance\", \"pos_tags_body\",\t\"pos_tags_headline\",\t\"wordnet_pos_body\"\t,\"wordnet_pos_headline\",\"lemmatized_body_string\",\"lemmatized_headline_string\"]"
      ],
      "execution_count": null,
      "outputs": []
    },
    {
      "cell_type": "code",
      "metadata": {
        "id": "KNzXtX2FXgwZ"
      },
      "source": [
        "sample_train_df = sample_train_df[train_columns]"
      ],
      "execution_count": null,
      "outputs": []
    },
    {
      "cell_type": "code",
      "metadata": {
        "id": "joaCYQJ6Wi8D",
        "colab": {
          "base_uri": "https://localhost:8080/",
          "height": 1000
        },
        "outputId": "9d48693c-c45c-4222-901f-084be84ea881"
      },
      "source": [
        "sample_train_df.head(5)"
      ],
      "execution_count": null,
      "outputs": [
        {
          "output_type": "execute_result",
          "data": {
            "text/html": [
              "<div>\n",
              "<style scoped>\n",
              "    .dataframe tbody tr th:only-of-type {\n",
              "        vertical-align: middle;\n",
              "    }\n",
              "\n",
              "    .dataframe tbody tr th {\n",
              "        vertical-align: top;\n",
              "    }\n",
              "\n",
              "    .dataframe thead th {\n",
              "        text-align: right;\n",
              "    }\n",
              "</style>\n",
              "<table border=\"1\" class=\"dataframe\">\n",
              "  <thead>\n",
              "    <tr style=\"text-align: right;\">\n",
              "      <th></th>\n",
              "      <th>Body ID</th>\n",
              "      <th>Stance</th>\n",
              "      <th>pos_tags_body</th>\n",
              "      <th>pos_tags_headline</th>\n",
              "      <th>wordnet_pos_body</th>\n",
              "      <th>wordnet_pos_headline</th>\n",
              "      <th>lemmatized_body_string</th>\n",
              "      <th>lemmatized_headline_string</th>\n",
              "    </tr>\n",
              "  </thead>\n",
              "  <tbody>\n",
              "    <tr>\n",
              "      <th>22925</th>\n",
              "      <td>1296</td>\n",
              "      <td>fake</td>\n",
              "      <td>[(tokyo, NN), (—, NN), (kim, NN), (jong, JJ), (un, JJ), (north, JJ), (korean, JJ), (leader, NN), (mysteriously, RB), (missing, VBG), (public, JJ), (eye, NN), (almost, RB), (month, NN), (sparking, VBG), (rumors, NNS), (covering, VBG), (every, DT), (possibility, NN), (stroke, VBD), (coup, NN), (etat, NN), (merely, RB), (recovering, VBG), (ankle, NN), (surgery, NN), (south, JJ), (korean, JJ), (newspaper, NN), (reported, VBD), (kim, NNS), (fractured, VBD), (ankles, NNS), (surgery, NN), (pyongyang, NN), (middle, JJ), (september, NN), (treat, NN), (chosun, NN), (ilbo, NN), (south, JJ), (korea, RB), (largest, JJS), (newspaper, NN), (reported, VBD), (tuesday, JJ), (citing, VBG), (unnamed, JJ), (source, NN), (heard, NN), (kim, NN), (jong, NN), (un, NN), (injured, VBD), (right, JJ), (ankle, NN), (june, NN), (pushing, VBG), (ahead, RB), (on-site, JJ), (visits, NNS), (ended, VBD), (fracturing, VBG), (ankles, NNS), (left, VBD), (injury, NN), (unattended, VBD), (source, NN), (quoted, VBD), (saying, VBG), (adding, VBG), (operation, NN), (bonghwa, NN), (clinic, JJ), (exclusive, JJ), (hospital, NN), (high-ranking, JJ), (party, NN), (members, NNS), (fascination, VBP), (north, RB), (korea, JJ), (world, NN), (impenetrable, JJ), (country, NN), (rumors, NNS), (spread, VBP), (like, IN), (wildfire, NN), (almost, RB), (always, RB), (impossible, JJ), (verify, JJ), (nevertheless, RB), (true, JJ), (kim, NN), (become, NN), (noticeably, RB), (rotund, JJ), (since, IN), ...]</td>\n",
              "      <td>[(Christian, JJ), (Bale, NNP), (wo, MD), (nt, VB), (play, VB), (Steve, NNP), (Jobs, NNP)]</td>\n",
              "      <td>[(tokyo, n), (—, n), (kim, n), (jong, a), (un, a), (north, a), (korean, a), (leader, n), (mysteriously, r), (missing, v), (public, a), (eye, n), (almost, r), (month, n), (sparking, v), (rumors, n), (covering, v), (every, n), (possibility, n), (stroke, v), (coup, n), (etat, n), (merely, r), (recovering, v), (ankle, n), (surgery, n), (south, a), (korean, a), (newspaper, n), (reported, v), (kim, n), (fractured, v), (ankles, n), (surgery, n), (pyongyang, n), (middle, a), (september, n), (treat, n), (chosun, n), (ilbo, n), (south, a), (korea, r), (largest, a), (newspaper, n), (reported, v), (tuesday, a), (citing, v), (unnamed, a), (source, n), (heard, n), (kim, n), (jong, n), (un, n), (injured, v), (right, a), (ankle, n), (june, n), (pushing, v), (ahead, r), (on-site, a), (visits, n), (ended, v), (fracturing, v), (ankles, n), (left, v), (injury, n), (unattended, v), (source, n), (quoted, v), (saying, v), (adding, v), (operation, n), (bonghwa, n), (clinic, a), (exclusive, a), (hospital, n), (high-ranking, a), (party, n), (members, n), (fascination, v), (north, r), (korea, a), (world, n), (impenetrable, a), (country, n), (rumors, n), (spread, v), (like, n), (wildfire, n), (almost, r), (always, r), (impossible, a), (verify, a), (nevertheless, r), (true, a), (kim, n), (become, n), (noticeably, r), (rotund, a), (since, n), ...]</td>\n",
              "      <td>[(Christian, a), (Bale, n), (wo, n), (nt, v), (play, v), (Steve, n), (Jobs, n)]</td>\n",
              "      <td>tokyo — kim jong un north korean leader mysteriously miss public eye almost month spark rumor cover every possibility stroke coup etat merely recover ankle surgery south korean newspaper report kim fracture ankle surgery pyongyang middle september treat chosun ilbo south korea large newspaper report tuesday cite unnamed source heard kim jong un injure right ankle june push ahead on-site visit end fracture ankle leave injury unattended source quote say add operation bonghwa clinic exclusive hospital high-ranking party member fascination north korea world impenetrable country rumor spread like wildfire almost always impossible verify nevertheless true kim become noticeably rotund since take leadership north korea father kim jong il december 2011. picture limp july ceremony commemorate 20th anniversary death grandfather former north korean leader kim il sing cause speculation health gossip mill start last week kim third-generation leader north korea miss regular session supreme people assembly pyongyang see public since sept. 3 attend concert wife go overdrive state-run korean central tv say great successor know indisposed condition. despite discomfort marshal continue come lead people say narrator documentary call improve life people show footage kim limp taedonggang tile factory last month air session assembly north korea quasi-parliament broadcast daily nk web site report kim show cart around heavy thing narrator continued whole body drench sweat stop work hard instead show concern health workers. separately rodong sinmun mouthpiece worker party recently report kim labor visit various facility brave hot summer weather outside commentator guess kim gout run family drink eat much diabetes high blood pressure also put forward possible cause absence weibo china s version twitter go crazy week report jo myong rok north korean vice marshal die four year ago overthrown kim coup sent lieutenant south korea negotiation talk spread quickly global time one china official paper run commentary monday title make rumor coup north korea funny netizens radical opinion represent opinion china china attitude toward north korea change paper say washington u.s. official say information north korea leader say confirmation report state department spokeswoman jen psaki tell reporter see confirmation. beijing u.s. diplomat say monday north korea reject u.s. effort discus detention three americans reuters report glyn davy u.s. special representative north korean policy visit region say pyongyang refusal discuss issue sign interest come back international system responsible country</td>\n",
              "      <td>christian bale wo nt play steve jobs</td>\n",
              "    </tr>\n",
              "    <tr>\n",
              "      <th>6416</th>\n",
              "      <td>1438</td>\n",
              "      <td>fact</td>\n",
              "      <td>[(rogue, NN), (bird, NN), (let, VBD), (loose, JJ), (vladimir, JJ), (putin, NN), (weekend, NN), (russian, JJ), (president, NN), (delivered, VBN), (speech, NN), (opening, VBG), (world, NN), (war, NN), (monument, NN), (according, VBG), (multiple, JJ), (tittering, NN), (reports, NNS), (tale, NN), (feathered, VBN), (vigilante, JJ), (justice, NN), (sounds, NNS), (farfetched, VBD), (though, IN), (s, JJ), (video, NN), (purporting, VBG), (show, NN), (airborne, JJ), (assault, NN), (appears, VBZ), (sneaky, JJ), (editing, VBG), (job, NN), (s, JJ), (clip, NN), (got, VBD), (reddit, JJ), (s, NN), (attention, NN), (yet, RB), (another, DT), (redditor, NN), (points, NNS), (footage, JJ), (event, NN), (shows, NNS), (putin, VBP), (sans, NNS), (poop, VBP), (snippet, RB), (previous, JJ), (video, NN), (comes, VBZ), (around, RB), (ninth, JJ), (minute, NN), (pictures, NNS), (speech, VBP), (similarly, RB), (show, VBP), (tell-tale, JJ), (white, JJ), (stain, NN), (according, VBG), (independent, JJ), (sorry, NN), (president, NN), (obama, IN), (birthday, JJ), (present, JJ), (good, JJ), (true, JJ), (fact, NN), (good, JJ), (true, JJ), (least, JJS), (ll, JJ), (always, RB), (admittedly, RB), (phony, JJ), (memories, NNS), (--, :), (jon, NN), (terbush, NN), (reddit, NN)]</td>\n",
              "      <td>[(Biological, NNP), (Warfare, NNP), (Horizon, NNP), (ISIS, NNP), (Soldiers, NNP), (May, NNP), (Be, NNP), (Infected, VBN), (With, IN), (Ebola, NNP)]</td>\n",
              "      <td>[(rogue, n), (bird, n), (let, v), (loose, a), (vladimir, a), (putin, n), (weekend, n), (russian, a), (president, n), (delivered, v), (speech, n), (opening, v), (world, n), (war, n), (monument, n), (according, v), (multiple, a), (tittering, n), (reports, n), (tale, n), (feathered, v), (vigilante, a), (justice, n), (sounds, n), (farfetched, v), (though, n), (s, a), (video, n), (purporting, v), (show, n), (airborne, a), (assault, n), (appears, v), (sneaky, a), (editing, v), (job, n), (s, a), (clip, n), (got, v), (reddit, a), (s, n), (attention, n), (yet, r), (another, n), (redditor, n), (points, n), (footage, a), (event, n), (shows, n), (putin, v), (sans, n), (poop, v), (snippet, r), (previous, a), (video, n), (comes, v), (around, r), (ninth, a), (minute, n), (pictures, n), (speech, v), (similarly, r), (show, v), (tell-tale, a), (white, a), (stain, n), (according, v), (independent, a), (sorry, n), (president, n), (obama, n), (birthday, a), (present, a), (good, a), (true, a), (fact, n), (good, a), (true, a), (least, a), (ll, a), (always, r), (admittedly, r), (phony, a), (memories, n), (--, n), (jon, n), (terbush, n), (reddit, n)]</td>\n",
              "      <td>[(Biological, n), (Warfare, n), (Horizon, n), (ISIS, n), (Soldiers, n), (May, n), (Be, n), (Infected, v), (With, n), (Ebola, n)]</td>\n",
              "      <td>rogue bird let loose vladimir putin weekend russian president deliver speech open world war monument accord multiple tittering report tale feather vigilante justice sound farfetched though s video purport show airborne assault appear sneaky edit job s clip get reddit s attention yet another redditor point footage event show putin sans poop snippet previous video come around ninth minute picture speech similarly show tell-tale white stain accord independent sorry president obama birthday present good true fact good true least ll always admittedly phony memory -- jon terbush reddit</td>\n",
              "      <td>biological warfare horizon isis soldiers may be infected with ebola</td>\n",
              "    </tr>\n",
              "    <tr>\n",
              "      <th>11869</th>\n",
              "      <td>2432</td>\n",
              "      <td>fact</td>\n",
              "      <td>[(california, NN), (company, NN), (hoping, VBG), (revolutionize, JJ), (security, NN), (business, NN), (autonomous, JJ), (robots, NNS), (knightscope, VBP), (k5, VB), (one, CD), (four, CD), (drones, NNS), (patrolling, VBG), (microsoft, JJ), (s, JJ), (silicon, NN), (valley, NN), (campus, NN), (matt, NN), (stambaugh, IN), (calgary, JJ), (eyeopener, NN), (s, JJ), (science, NN), (technology, NN), (columnist, NN), (spoke, VBD), (five, CD), (feet, NNS), (tall, JJ), (robots, NNS), (learn, VBP), (take, VB), (area, NN), (apparently, RB), (operator, JJ), (walk, VBP), (around, IN), (perimeter, NN), (re, NN), (supposed, VBD), (patrol, NN), (go, VB), (learning, JJ), (environments, NNS), (said, VBD), (stambaugh, JJ), (re, NN), (using, VBG), (variety, NN), (different, JJ), (sensors, NNS), (essentially, RB), (take, VBP), (role, NN), (lot, NN), (private, JJ), (security, NN), (contractors, NNS), (today, NN), (according, VBG), (stambaugh, JJ), (robots, NNS), (capable, JJ), (detecting, VBG), (anomalies, NNS), (making, VBG), (decisions, NNS), (s, JJ), (quite, RB), (advanced, JJ), (google, NN), (self-driving, NN), (car, NN), (ve, NN), (got, VBD), (different, JJ), (sensors, NNS), (board, NN), (make, VBP), (map, JJ), (area, NN), (ve, NN), (got, VBD), (code, JJ), (board, NN), (decide, IN), (something, NN), (reported, VBN), (back, RB), (ve, NN), (got, VBD), (thermal, JJ), (imaging, VBG), (need, NN), (ve, NNS), (got, VBD), (chemical, JJ), (sensors, NNS), ...]</td>\n",
              "      <td>[(Microsoft, NNP), (Hires, VBZ), (Dalek-style, NNP), (Robocops, NNP), (Guard, NNP), (Silicon, NNP), (Valley, NNP), (HQ, NNP)]</td>\n",
              "      <td>[(california, n), (company, n), (hoping, v), (revolutionize, a), (security, n), (business, n), (autonomous, a), (robots, n), (knightscope, v), (k5, v), (one, n), (four, n), (drones, n), (patrolling, v), (microsoft, a), (s, a), (silicon, n), (valley, n), (campus, n), (matt, n), (stambaugh, n), (calgary, a), (eyeopener, n), (s, a), (science, n), (technology, n), (columnist, n), (spoke, v), (five, n), (feet, n), (tall, a), (robots, n), (learn, v), (take, v), (area, n), (apparently, r), (operator, a), (walk, v), (around, n), (perimeter, n), (re, n), (supposed, v), (patrol, n), (go, v), (learning, a), (environments, n), (said, v), (stambaugh, a), (re, n), (using, v), (variety, n), (different, a), (sensors, n), (essentially, r), (take, v), (role, n), (lot, n), (private, a), (security, n), (contractors, n), (today, n), (according, v), (stambaugh, a), (robots, n), (capable, a), (detecting, v), (anomalies, n), (making, v), (decisions, n), (s, a), (quite, r), (advanced, a), (google, n), (self-driving, n), (car, n), (ve, n), (got, v), (different, a), (sensors, n), (board, n), (make, v), (map, a), (area, n), (ve, n), (got, v), (code, a), (board, n), (decide, n), (something, n), (reported, v), (back, r), (ve, n), (got, v), (thermal, a), (imaging, v), (need, n), (ve, n), (got, v), (chemical, a), (sensors, n), ...]</td>\n",
              "      <td>[(Microsoft, n), (Hires, v), (Dalek-style, n), (Robocops, n), (Guard, n), (Silicon, n), (Valley, n), (HQ, n)]</td>\n",
              "      <td>california company hop revolutionize security business autonomous robot knightscope k5 one four drone patrol microsoft s silicon valley campus matt stambaugh calgary eyeopener s science technology columnist speak five foot tall robot learn take area apparently operator walk around perimeter re suppose patrol go learning environment say stambaugh re use variety different sensor essentially take role lot private security contractor today accord stambaugh robot capable detect anomaly make decision s quite advanced google self-driving car ve get different sensor board make map area ve get code board decide something report back ve get thermal image need ve get chemical sensor licence plate recognition software facial recognition software say stambaugh look kind like large roomba instead look dust bunny s look know criminal k5s hit market 2015 accord stambaugh robot hit market start 2015 company knightscope try lease per-hour basis say stambaugh 6.25 hour ll lease one k5s s half price average security guard many advantage robot human patrol ll work triple shift 24 hour day battery suppose last around day run go back charge carpet 20 minute charge stambaugh also say robot weapon may change future basically s call back man response centre something go wrong say</td>\n",
              "      <td>microsoft hires dalek-style robocops guard silicon valley hq</td>\n",
              "    </tr>\n",
              "    <tr>\n",
              "      <th>13261</th>\n",
              "      <td>950</td>\n",
              "      <td>fake</td>\n",
              "      <td>[(iraqi, JJ), (pilots, NNS), (joined, VBD), (islamic, JJ), (state, NN), (training, NN), (members, NNS), (syria, VBP), (fly, JJ), (three, CD), (captured, VBD), (fighter, NN), (jets, NNS), (according, VBG), (uk-based, JJ), (activist, NN), (group, NN), (monitors, NNS), (conflict, VBP), (syrian, JJ), (observatory, NN), (human, JJ), (rights, NNS), (sohr, NN), (said, VBD), (witnesses, NNS), (seen, VBN), (planes, NNS), (flown, VBN), (around, IN), (military, JJ), (airport, NN), (aleppo, NNS), (meanwhile, RB), (iraqi, JJ), (forces, NNS), (launched, VBN), (attack, NN), (militants, NNS), (near, IN), (tikrit, JJ), (city, NN), (among, IN), (areas, NNS), (syria, VBP), (iraq, NNS), (seized, VBD), (year, NN), (rami, NN), (abdul, IN), (rahman, JJ), (head, NN), (sohr, NN), (said, VBD), (using, VBG), (iraqi, JJ), (officers, NNS), (pilots, NNS), (ex-iraqi, JJ), (president, NN), (saddam, NN), (hussein, NN), (train, NN), (fighters, NNS), (syria, VBP), (people, NNS), (saw, VBD), (flights, NNS), (went, VBD), (many, JJ), (times, NNS), (airport, VBP), (flying, VBG), (skies, NNS), (outside, IN), (airport, NN), (coming, VBG), (back, RB), (said, VBD), (known, VBN), (many, JJ), (iraqi, JJ), (pilots, NNS), (defected, VBD), (witnesses, NNS), (told, VBD), (sohr, JJ), (planes, NNS), (appeared, VBD), (mig-21, JJ), (mig-23, JJ), (models, NNS), (bbc, IN), (s, JJ), (sally, RB), (nabil, JJ), (baghdad, NN), (says, VBZ), (three, CD), (planes, NNS), ...]</td>\n",
              "      <td>[(Ebola, NNP), (Outbreak, NNP), (2015, CD), (Update, NNP), (ISIS, NNP), (Fighters, NNP), (May, NNP), (Have, NNP), (Contracted, NNP), (Deadly, NNP), (Virus, NNP)]</td>\n",
              "      <td>[(iraqi, a), (pilots, n), (joined, v), (islamic, a), (state, n), (training, n), (members, n), (syria, v), (fly, a), (three, n), (captured, v), (fighter, n), (jets, n), (according, v), (uk-based, a), (activist, n), (group, n), (monitors, n), (conflict, v), (syrian, a), (observatory, n), (human, a), (rights, n), (sohr, n), (said, v), (witnesses, n), (seen, v), (planes, n), (flown, v), (around, n), (military, a), (airport, n), (aleppo, n), (meanwhile, r), (iraqi, a), (forces, n), (launched, v), (attack, n), (militants, n), (near, n), (tikrit, a), (city, n), (among, n), (areas, n), (syria, v), (iraq, n), (seized, v), (year, n), (rami, n), (abdul, n), (rahman, a), (head, n), (sohr, n), (said, v), (using, v), (iraqi, a), (officers, n), (pilots, n), (ex-iraqi, a), (president, n), (saddam, n), (hussein, n), (train, n), (fighters, n), (syria, v), (people, n), (saw, v), (flights, n), (went, v), (many, a), (times, n), (airport, v), (flying, v), (skies, n), (outside, n), (airport, n), (coming, v), (back, r), (said, v), (known, v), (many, a), (iraqi, a), (pilots, n), (defected, v), (witnesses, n), (told, v), (sohr, a), (planes, n), (appeared, v), (mig-21, a), (mig-23, a), (models, n), (bbc, n), (s, a), (sally, r), (nabil, a), (baghdad, n), (says, v), (three, n), (planes, n), ...]</td>\n",
              "      <td>[(Ebola, n), (Outbreak, n), (2015, n), (Update, n), (ISIS, n), (Fighters, n), (May, n), (Have, n), (Contracted, n), (Deadly, n), (Virus, n)]</td>\n",
              "      <td>iraqi pilot join islamic state training member syria fly three capture fighter jet accord uk-based activist group monitor conflict syrian observatory human right sohr say witness see plane fly around military airport aleppo meanwhile iraqi force launch attack militant near tikrit city among area syria iraq seize year ramus abdul rahman head sohr say use iraqi officer pilot ex-iraqi president saddam hussein train fighter syria people saw flight go many time airport fly sky outside airport come back say know many iraqi pilot defect witness tell sohr plane appear mig-21 mig-23 model bbc s sally nabil baghdad say three plane capture earlier syrian military aleppo raqqa u central command spokesman col patrick ryder tell reuters pentagon aware conduct flight operation syria elsewhere aleppo become key battleground fight syrian rebel include government force uprise president bashar al-assad 2011. new coordination separately iraqi government say troop gain ground north west tikrit cut important supply route correspondent say past effort government regain territory area end failure meanwhile kurdish force back us-led air strike continue fight militant northern syrian town kobane us-led warplane strike position friday take advantage new coordination town s kurdish defender bbc s kasra naji turkish-syria border say day begin quietly since around six strike thursday kurdish commander baharin kandal tell bbc militant drive kobane correspondent say refugee watch town hilltop nearby agree two three neighbourhood still scene fight battle kobane also know ayn al-arab regard major test whether us-led coalition s air campaign push back activist say 600 people kill since jihadist group launch assault mainly kurdish town month ago 160,000 people flee face advance capture town would give group unbroken control long stretch syrian-turkish border fighter gain reputation brutal tactic include mass killing beheading soldier journalist</td>\n",
              "      <td>ebola outbreak 2015 update isis fighters may have contracted deadly virus</td>\n",
              "    </tr>\n",
              "    <tr>\n",
              "      <th>2746</th>\n",
              "      <td>663</td>\n",
              "      <td>fact</td>\n",
              "      <td>[(man, NN), (jumped, VBD), (white, JJ), (house, NN), (fence, NN), (sept., VBD), (19, CD), (pushed, JJ), (way, NN), (past, IN), (female, JJ), (secret, JJ), (service, NN), (agent, NN), (overpowered, VBD), (male, JJ), (agent, NN), (building, VBG), (large, JJ), (east, JJ), (room, NN), (pushed, VBD), (past, JJ), (female, NN), (agent, NN), (ran, VBD), (past, JJ), (stairway, NN), (leads, VBZ), (president, NN), (personal, JJ), (quarters, NNS), (detained, VBD), (secret, JJ), (service, NN), (response, NN), (gonzalez, NN), (dash, NN), (front, NN), (railing, VBG), (slowed, VBD), (perimeter, NN), (alarms, NNS), (—, VBP), (dubbed, VBN), (crash, NN), (boxes, NNS), (—, VBP), (muffled, VBN), (request, JJS), (white, JJ), (house, NN), (ushers, NNS), (man, NN), (omar, VBP), (gonzalez, JJ), (former, JJ), (soldier, NN), (delusions, NNS), (president, NN), (white, JJ), (house, NN), (gonzalez, NN), (ran, VBD), (building, VBG), (new, JJ), (revelation, NN), (published, VBN), (washington, NN), (post, NN), (cbs, NN), (post, NN), (credited, VBD), (new, JJ), (information, NN), (whistleblowers, NNS), (rep., VBP), (jason, NN), (chaffetz, NN), (chairman, NN), (house, NN), (oversight, VBD), (subcommittee, NN), (homeland, NN), (security, NN), (chaffetz, NN), (said, VBD), (intrusion, NN), (failure, NN), (leadership, NN), (secret, JJ), (service, NN), (secret, JJ), (service, NN), (director, NN), (julia, NN), (pierson, NN), (said, VBD), (intrusion, NN), (unacceptable, JJ), ...]</td>\n",
              "      <td>[(Kim, NNP), (Jong-Un, NNP), (s, NN), (Sister, NNP), (Takes, NNP), (Control, NNP), (North, NNP), (Korea, NNP)]</td>\n",
              "      <td>[(man, n), (jumped, v), (white, a), (house, n), (fence, n), (sept., v), (19, n), (pushed, a), (way, n), (past, n), (female, a), (secret, a), (service, n), (agent, n), (overpowered, v), (male, a), (agent, n), (building, v), (large, a), (east, a), (room, n), (pushed, v), (past, a), (female, n), (agent, n), (ran, v), (past, a), (stairway, n), (leads, v), (president, n), (personal, a), (quarters, n), (detained, v), (secret, a), (service, n), (response, n), (gonzalez, n), (dash, n), (front, n), (railing, v), (slowed, v), (perimeter, n), (alarms, n), (—, v), (dubbed, v), (crash, n), (boxes, n), (—, v), (muffled, v), (request, a), (white, a), (house, n), (ushers, n), (man, n), (omar, v), (gonzalez, a), (former, a), (soldier, n), (delusions, n), (president, n), (white, a), (house, n), (gonzalez, n), (ran, v), (building, v), (new, a), (revelation, n), (published, v), (washington, n), (post, n), (cbs, n), (post, n), (credited, v), (new, a), (information, n), (whistleblowers, n), (rep., v), (jason, n), (chaffetz, n), (chairman, n), (house, n), (oversight, v), (subcommittee, n), (homeland, n), (security, n), (chaffetz, n), (said, v), (intrusion, n), (failure, n), (leadership, n), (secret, a), (service, n), (secret, a), (service, n), (director, n), (julia, n), (pierson, n), (said, v), (intrusion, n), (unacceptable, a), ...]</td>\n",
              "      <td>[(Kim, n), (Jong-Un, n), (s, n), (Sister, n), (Takes, n), (Control, n), (North, n), (Korea, n)]</td>\n",
              "      <td>man jump white house fence sept. 19 pushed way past female secret service agent overpower male agent build large east room push past female agent run past stairway lead president personal quarter detain secret service response gonzalez dash front rail slow perimeter alarm — dub crash box — muffle request white house usher man omar gonzalez former soldier delusion president white house gonzalez run build new revelation publish washington post cbs post credit new information whistleblower rep. jason chaffetz chairman house oversight subcommittee homeland security chaffetz say intrusion failure leadership secret service secret service director julia pierson say intrusion unacceptable report — likely leak chaffetz — come one day pierson testify committee tuesday agency need solution go deep fence people chaffetz tell washington post must examine message send men woman protect president leader sacrifice security appease superficial concern white house ushers. follow neil twitter</td>\n",
              "      <td>kim jong-un s sister takes control north korea</td>\n",
              "    </tr>\n",
              "  </tbody>\n",
              "</table>\n",
              "</div>"
            ],
            "text/plain": [
              "      Body ID  ...                                                  lemmatized_headline_string\n",
              "22925    1296  ...                                       christian bale wo nt play steve jobs \n",
              "6416     1438  ...        biological warfare horizon isis soldiers may be infected with ebola \n",
              "11869    2432  ...               microsoft hires dalek-style robocops guard silicon valley hq \n",
              "13261     950  ...  ebola outbreak 2015 update isis fighters may have contracted deadly virus \n",
              "2746      663  ...                             kim jong-un s sister takes control north korea \n",
              "\n",
              "[5 rows x 8 columns]"
            ]
          },
          "metadata": {
            "tags": []
          },
          "execution_count": 53
        }
      ]
    },
    {
      "cell_type": "markdown",
      "metadata": {
        "id": "cl-iTUWKas2E"
      },
      "source": [
        "Now let's transform our stance classes into numerical representation in a process called encoding. For this we will use the function sklearn.preprocessing.LabelEncoder that encodes labels of a categorical characteristic in numerical values. In the following image we can see an example of the use of label encoder.\n",
        "\n",
        "![](https://drive.google.com/uc?export=view&id=12eItZtIhq3CQwh9uzln8xmPocRjpJg3Q)"
      ]
    },
    {
      "cell_type": "markdown",
      "metadata": {
        "id": "iNniyS3K9hui"
      },
      "source": [
        "Now let's use label encoder to our dataset."
      ]
    },
    {
      "cell_type": "code",
      "metadata": {
        "id": "PPvDLDc8bCtk",
        "colab": {
          "base_uri": "https://localhost:8080/"
        },
        "outputId": "9ba1a121-6434-43d4-ad2f-235ebdcff20e"
      },
      "source": [
        "from sklearn.preprocessing import LabelEncoder\n",
        "from sklearn.preprocessing import OneHotEncoder\n",
        "\n",
        "label = LabelEncoder()\n",
        "label_encoder = LabelEncoder()\n",
        "label_encoder = label_encoder.fit(sample_train_df[\"Stance\"])\n",
        "sample_train_df[\"Stance\"] = label_encoder.transform(sample_train_df[\"Stance\"])\n",
        "\n",
        "print(\"Categorical data encoded into integer values....\\n\")\n",
        "sample_train_df[\"Stance\"] =pd.DataFrame(sample_train_df[\"Stance\"]).astype(int)"
      ],
      "execution_count": null,
      "outputs": [
        {
          "output_type": "stream",
          "text": [
            "Categorical data encoded into integer values....\n",
            "\n"
          ],
          "name": "stdout"
        }
      ]
    },
    {
      "cell_type": "markdown",
      "metadata": {
        "id": "vI4DpfQKk3FC"
      },
      "source": [
        "We see the result of the first 5 rows."
      ]
    },
    {
      "cell_type": "code",
      "metadata": {
        "id": "t1B7r4slcNrQ",
        "colab": {
          "base_uri": "https://localhost:8080/",
          "height": 1000
        },
        "outputId": "1d70fa69-22a6-4b6a-8fc0-754acce7e56f"
      },
      "source": [
        "sample_train_df.head(5)"
      ],
      "execution_count": null,
      "outputs": [
        {
          "output_type": "execute_result",
          "data": {
            "text/html": [
              "<div>\n",
              "<style scoped>\n",
              "    .dataframe tbody tr th:only-of-type {\n",
              "        vertical-align: middle;\n",
              "    }\n",
              "\n",
              "    .dataframe tbody tr th {\n",
              "        vertical-align: top;\n",
              "    }\n",
              "\n",
              "    .dataframe thead th {\n",
              "        text-align: right;\n",
              "    }\n",
              "</style>\n",
              "<table border=\"1\" class=\"dataframe\">\n",
              "  <thead>\n",
              "    <tr style=\"text-align: right;\">\n",
              "      <th></th>\n",
              "      <th>Body ID</th>\n",
              "      <th>Stance</th>\n",
              "      <th>pos_tags_body</th>\n",
              "      <th>pos_tags_headline</th>\n",
              "      <th>wordnet_pos_body</th>\n",
              "      <th>wordnet_pos_headline</th>\n",
              "      <th>lemmatized_body_string</th>\n",
              "      <th>lemmatized_headline_string</th>\n",
              "    </tr>\n",
              "  </thead>\n",
              "  <tbody>\n",
              "    <tr>\n",
              "      <th>22925</th>\n",
              "      <td>1296</td>\n",
              "      <td>1</td>\n",
              "      <td>[(tokyo, NN), (—, NN), (kim, NN), (jong, JJ), (un, JJ), (north, JJ), (korean, JJ), (leader, NN), (mysteriously, RB), (missing, VBG), (public, JJ), (eye, NN), (almost, RB), (month, NN), (sparking, VBG), (rumors, NNS), (covering, VBG), (every, DT), (possibility, NN), (stroke, VBD), (coup, NN), (etat, NN), (merely, RB), (recovering, VBG), (ankle, NN), (surgery, NN), (south, JJ), (korean, JJ), (newspaper, NN), (reported, VBD), (kim, NNS), (fractured, VBD), (ankles, NNS), (surgery, NN), (pyongyang, NN), (middle, JJ), (september, NN), (treat, NN), (chosun, NN), (ilbo, NN), (south, JJ), (korea, RB), (largest, JJS), (newspaper, NN), (reported, VBD), (tuesday, JJ), (citing, VBG), (unnamed, JJ), (source, NN), (heard, NN), (kim, NN), (jong, NN), (un, NN), (injured, VBD), (right, JJ), (ankle, NN), (june, NN), (pushing, VBG), (ahead, RB), (on-site, JJ), (visits, NNS), (ended, VBD), (fracturing, VBG), (ankles, NNS), (left, VBD), (injury, NN), (unattended, VBD), (source, NN), (quoted, VBD), (saying, VBG), (adding, VBG), (operation, NN), (bonghwa, NN), (clinic, JJ), (exclusive, JJ), (hospital, NN), (high-ranking, JJ), (party, NN), (members, NNS), (fascination, VBP), (north, RB), (korea, JJ), (world, NN), (impenetrable, JJ), (country, NN), (rumors, NNS), (spread, VBP), (like, IN), (wildfire, NN), (almost, RB), (always, RB), (impossible, JJ), (verify, JJ), (nevertheless, RB), (true, JJ), (kim, NN), (become, NN), (noticeably, RB), (rotund, JJ), (since, IN), ...]</td>\n",
              "      <td>[(Christian, JJ), (Bale, NNP), (wo, MD), (nt, VB), (play, VB), (Steve, NNP), (Jobs, NNP)]</td>\n",
              "      <td>[(tokyo, n), (—, n), (kim, n), (jong, a), (un, a), (north, a), (korean, a), (leader, n), (mysteriously, r), (missing, v), (public, a), (eye, n), (almost, r), (month, n), (sparking, v), (rumors, n), (covering, v), (every, n), (possibility, n), (stroke, v), (coup, n), (etat, n), (merely, r), (recovering, v), (ankle, n), (surgery, n), (south, a), (korean, a), (newspaper, n), (reported, v), (kim, n), (fractured, v), (ankles, n), (surgery, n), (pyongyang, n), (middle, a), (september, n), (treat, n), (chosun, n), (ilbo, n), (south, a), (korea, r), (largest, a), (newspaper, n), (reported, v), (tuesday, a), (citing, v), (unnamed, a), (source, n), (heard, n), (kim, n), (jong, n), (un, n), (injured, v), (right, a), (ankle, n), (june, n), (pushing, v), (ahead, r), (on-site, a), (visits, n), (ended, v), (fracturing, v), (ankles, n), (left, v), (injury, n), (unattended, v), (source, n), (quoted, v), (saying, v), (adding, v), (operation, n), (bonghwa, n), (clinic, a), (exclusive, a), (hospital, n), (high-ranking, a), (party, n), (members, n), (fascination, v), (north, r), (korea, a), (world, n), (impenetrable, a), (country, n), (rumors, n), (spread, v), (like, n), (wildfire, n), (almost, r), (always, r), (impossible, a), (verify, a), (nevertheless, r), (true, a), (kim, n), (become, n), (noticeably, r), (rotund, a), (since, n), ...]</td>\n",
              "      <td>[(Christian, a), (Bale, n), (wo, n), (nt, v), (play, v), (Steve, n), (Jobs, n)]</td>\n",
              "      <td>tokyo — kim jong un north korean leader mysteriously miss public eye almost month spark rumor cover every possibility stroke coup etat merely recover ankle surgery south korean newspaper report kim fracture ankle surgery pyongyang middle september treat chosun ilbo south korea large newspaper report tuesday cite unnamed source heard kim jong un injure right ankle june push ahead on-site visit end fracture ankle leave injury unattended source quote say add operation bonghwa clinic exclusive hospital high-ranking party member fascination north korea world impenetrable country rumor spread like wildfire almost always impossible verify nevertheless true kim become noticeably rotund since take leadership north korea father kim jong il december 2011. picture limp july ceremony commemorate 20th anniversary death grandfather former north korean leader kim il sing cause speculation health gossip mill start last week kim third-generation leader north korea miss regular session supreme people assembly pyongyang see public since sept. 3 attend concert wife go overdrive state-run korean central tv say great successor know indisposed condition. despite discomfort marshal continue come lead people say narrator documentary call improve life people show footage kim limp taedonggang tile factory last month air session assembly north korea quasi-parliament broadcast daily nk web site report kim show cart around heavy thing narrator continued whole body drench sweat stop work hard instead show concern health workers. separately rodong sinmun mouthpiece worker party recently report kim labor visit various facility brave hot summer weather outside commentator guess kim gout run family drink eat much diabetes high blood pressure also put forward possible cause absence weibo china s version twitter go crazy week report jo myong rok north korean vice marshal die four year ago overthrown kim coup sent lieutenant south korea negotiation talk spread quickly global time one china official paper run commentary monday title make rumor coup north korea funny netizens radical opinion represent opinion china china attitude toward north korea change paper say washington u.s. official say information north korea leader say confirmation report state department spokeswoman jen psaki tell reporter see confirmation. beijing u.s. diplomat say monday north korea reject u.s. effort discus detention three americans reuters report glyn davy u.s. special representative north korean policy visit region say pyongyang refusal discuss issue sign interest come back international system responsible country</td>\n",
              "      <td>christian bale wo nt play steve jobs</td>\n",
              "    </tr>\n",
              "    <tr>\n",
              "      <th>6416</th>\n",
              "      <td>1438</td>\n",
              "      <td>0</td>\n",
              "      <td>[(rogue, NN), (bird, NN), (let, VBD), (loose, JJ), (vladimir, JJ), (putin, NN), (weekend, NN), (russian, JJ), (president, NN), (delivered, VBN), (speech, NN), (opening, VBG), (world, NN), (war, NN), (monument, NN), (according, VBG), (multiple, JJ), (tittering, NN), (reports, NNS), (tale, NN), (feathered, VBN), (vigilante, JJ), (justice, NN), (sounds, NNS), (farfetched, VBD), (though, IN), (s, JJ), (video, NN), (purporting, VBG), (show, NN), (airborne, JJ), (assault, NN), (appears, VBZ), (sneaky, JJ), (editing, VBG), (job, NN), (s, JJ), (clip, NN), (got, VBD), (reddit, JJ), (s, NN), (attention, NN), (yet, RB), (another, DT), (redditor, NN), (points, NNS), (footage, JJ), (event, NN), (shows, NNS), (putin, VBP), (sans, NNS), (poop, VBP), (snippet, RB), (previous, JJ), (video, NN), (comes, VBZ), (around, RB), (ninth, JJ), (minute, NN), (pictures, NNS), (speech, VBP), (similarly, RB), (show, VBP), (tell-tale, JJ), (white, JJ), (stain, NN), (according, VBG), (independent, JJ), (sorry, NN), (president, NN), (obama, IN), (birthday, JJ), (present, JJ), (good, JJ), (true, JJ), (fact, NN), (good, JJ), (true, JJ), (least, JJS), (ll, JJ), (always, RB), (admittedly, RB), (phony, JJ), (memories, NNS), (--, :), (jon, NN), (terbush, NN), (reddit, NN)]</td>\n",
              "      <td>[(Biological, NNP), (Warfare, NNP), (Horizon, NNP), (ISIS, NNP), (Soldiers, NNP), (May, NNP), (Be, NNP), (Infected, VBN), (With, IN), (Ebola, NNP)]</td>\n",
              "      <td>[(rogue, n), (bird, n), (let, v), (loose, a), (vladimir, a), (putin, n), (weekend, n), (russian, a), (president, n), (delivered, v), (speech, n), (opening, v), (world, n), (war, n), (monument, n), (according, v), (multiple, a), (tittering, n), (reports, n), (tale, n), (feathered, v), (vigilante, a), (justice, n), (sounds, n), (farfetched, v), (though, n), (s, a), (video, n), (purporting, v), (show, n), (airborne, a), (assault, n), (appears, v), (sneaky, a), (editing, v), (job, n), (s, a), (clip, n), (got, v), (reddit, a), (s, n), (attention, n), (yet, r), (another, n), (redditor, n), (points, n), (footage, a), (event, n), (shows, n), (putin, v), (sans, n), (poop, v), (snippet, r), (previous, a), (video, n), (comes, v), (around, r), (ninth, a), (minute, n), (pictures, n), (speech, v), (similarly, r), (show, v), (tell-tale, a), (white, a), (stain, n), (according, v), (independent, a), (sorry, n), (president, n), (obama, n), (birthday, a), (present, a), (good, a), (true, a), (fact, n), (good, a), (true, a), (least, a), (ll, a), (always, r), (admittedly, r), (phony, a), (memories, n), (--, n), (jon, n), (terbush, n), (reddit, n)]</td>\n",
              "      <td>[(Biological, n), (Warfare, n), (Horizon, n), (ISIS, n), (Soldiers, n), (May, n), (Be, n), (Infected, v), (With, n), (Ebola, n)]</td>\n",
              "      <td>rogue bird let loose vladimir putin weekend russian president deliver speech open world war monument accord multiple tittering report tale feather vigilante justice sound farfetched though s video purport show airborne assault appear sneaky edit job s clip get reddit s attention yet another redditor point footage event show putin sans poop snippet previous video come around ninth minute picture speech similarly show tell-tale white stain accord independent sorry president obama birthday present good true fact good true least ll always admittedly phony memory -- jon terbush reddit</td>\n",
              "      <td>biological warfare horizon isis soldiers may be infected with ebola</td>\n",
              "    </tr>\n",
              "    <tr>\n",
              "      <th>11869</th>\n",
              "      <td>2432</td>\n",
              "      <td>0</td>\n",
              "      <td>[(california, NN), (company, NN), (hoping, VBG), (revolutionize, JJ), (security, NN), (business, NN), (autonomous, JJ), (robots, NNS), (knightscope, VBP), (k5, VB), (one, CD), (four, CD), (drones, NNS), (patrolling, VBG), (microsoft, JJ), (s, JJ), (silicon, NN), (valley, NN), (campus, NN), (matt, NN), (stambaugh, IN), (calgary, JJ), (eyeopener, NN), (s, JJ), (science, NN), (technology, NN), (columnist, NN), (spoke, VBD), (five, CD), (feet, NNS), (tall, JJ), (robots, NNS), (learn, VBP), (take, VB), (area, NN), (apparently, RB), (operator, JJ), (walk, VBP), (around, IN), (perimeter, NN), (re, NN), (supposed, VBD), (patrol, NN), (go, VB), (learning, JJ), (environments, NNS), (said, VBD), (stambaugh, JJ), (re, NN), (using, VBG), (variety, NN), (different, JJ), (sensors, NNS), (essentially, RB), (take, VBP), (role, NN), (lot, NN), (private, JJ), (security, NN), (contractors, NNS), (today, NN), (according, VBG), (stambaugh, JJ), (robots, NNS), (capable, JJ), (detecting, VBG), (anomalies, NNS), (making, VBG), (decisions, NNS), (s, JJ), (quite, RB), (advanced, JJ), (google, NN), (self-driving, NN), (car, NN), (ve, NN), (got, VBD), (different, JJ), (sensors, NNS), (board, NN), (make, VBP), (map, JJ), (area, NN), (ve, NN), (got, VBD), (code, JJ), (board, NN), (decide, IN), (something, NN), (reported, VBN), (back, RB), (ve, NN), (got, VBD), (thermal, JJ), (imaging, VBG), (need, NN), (ve, NNS), (got, VBD), (chemical, JJ), (sensors, NNS), ...]</td>\n",
              "      <td>[(Microsoft, NNP), (Hires, VBZ), (Dalek-style, NNP), (Robocops, NNP), (Guard, NNP), (Silicon, NNP), (Valley, NNP), (HQ, NNP)]</td>\n",
              "      <td>[(california, n), (company, n), (hoping, v), (revolutionize, a), (security, n), (business, n), (autonomous, a), (robots, n), (knightscope, v), (k5, v), (one, n), (four, n), (drones, n), (patrolling, v), (microsoft, a), (s, a), (silicon, n), (valley, n), (campus, n), (matt, n), (stambaugh, n), (calgary, a), (eyeopener, n), (s, a), (science, n), (technology, n), (columnist, n), (spoke, v), (five, n), (feet, n), (tall, a), (robots, n), (learn, v), (take, v), (area, n), (apparently, r), (operator, a), (walk, v), (around, n), (perimeter, n), (re, n), (supposed, v), (patrol, n), (go, v), (learning, a), (environments, n), (said, v), (stambaugh, a), (re, n), (using, v), (variety, n), (different, a), (sensors, n), (essentially, r), (take, v), (role, n), (lot, n), (private, a), (security, n), (contractors, n), (today, n), (according, v), (stambaugh, a), (robots, n), (capable, a), (detecting, v), (anomalies, n), (making, v), (decisions, n), (s, a), (quite, r), (advanced, a), (google, n), (self-driving, n), (car, n), (ve, n), (got, v), (different, a), (sensors, n), (board, n), (make, v), (map, a), (area, n), (ve, n), (got, v), (code, a), (board, n), (decide, n), (something, n), (reported, v), (back, r), (ve, n), (got, v), (thermal, a), (imaging, v), (need, n), (ve, n), (got, v), (chemical, a), (sensors, n), ...]</td>\n",
              "      <td>[(Microsoft, n), (Hires, v), (Dalek-style, n), (Robocops, n), (Guard, n), (Silicon, n), (Valley, n), (HQ, n)]</td>\n",
              "      <td>california company hop revolutionize security business autonomous robot knightscope k5 one four drone patrol microsoft s silicon valley campus matt stambaugh calgary eyeopener s science technology columnist speak five foot tall robot learn take area apparently operator walk around perimeter re suppose patrol go learning environment say stambaugh re use variety different sensor essentially take role lot private security contractor today accord stambaugh robot capable detect anomaly make decision s quite advanced google self-driving car ve get different sensor board make map area ve get code board decide something report back ve get thermal image need ve get chemical sensor licence plate recognition software facial recognition software say stambaugh look kind like large roomba instead look dust bunny s look know criminal k5s hit market 2015 accord stambaugh robot hit market start 2015 company knightscope try lease per-hour basis say stambaugh 6.25 hour ll lease one k5s s half price average security guard many advantage robot human patrol ll work triple shift 24 hour day battery suppose last around day run go back charge carpet 20 minute charge stambaugh also say robot weapon may change future basically s call back man response centre something go wrong say</td>\n",
              "      <td>microsoft hires dalek-style robocops guard silicon valley hq</td>\n",
              "    </tr>\n",
              "    <tr>\n",
              "      <th>13261</th>\n",
              "      <td>950</td>\n",
              "      <td>1</td>\n",
              "      <td>[(iraqi, JJ), (pilots, NNS), (joined, VBD), (islamic, JJ), (state, NN), (training, NN), (members, NNS), (syria, VBP), (fly, JJ), (three, CD), (captured, VBD), (fighter, NN), (jets, NNS), (according, VBG), (uk-based, JJ), (activist, NN), (group, NN), (monitors, NNS), (conflict, VBP), (syrian, JJ), (observatory, NN), (human, JJ), (rights, NNS), (sohr, NN), (said, VBD), (witnesses, NNS), (seen, VBN), (planes, NNS), (flown, VBN), (around, IN), (military, JJ), (airport, NN), (aleppo, NNS), (meanwhile, RB), (iraqi, JJ), (forces, NNS), (launched, VBN), (attack, NN), (militants, NNS), (near, IN), (tikrit, JJ), (city, NN), (among, IN), (areas, NNS), (syria, VBP), (iraq, NNS), (seized, VBD), (year, NN), (rami, NN), (abdul, IN), (rahman, JJ), (head, NN), (sohr, NN), (said, VBD), (using, VBG), (iraqi, JJ), (officers, NNS), (pilots, NNS), (ex-iraqi, JJ), (president, NN), (saddam, NN), (hussein, NN), (train, NN), (fighters, NNS), (syria, VBP), (people, NNS), (saw, VBD), (flights, NNS), (went, VBD), (many, JJ), (times, NNS), (airport, VBP), (flying, VBG), (skies, NNS), (outside, IN), (airport, NN), (coming, VBG), (back, RB), (said, VBD), (known, VBN), (many, JJ), (iraqi, JJ), (pilots, NNS), (defected, VBD), (witnesses, NNS), (told, VBD), (sohr, JJ), (planes, NNS), (appeared, VBD), (mig-21, JJ), (mig-23, JJ), (models, NNS), (bbc, IN), (s, JJ), (sally, RB), (nabil, JJ), (baghdad, NN), (says, VBZ), (three, CD), (planes, NNS), ...]</td>\n",
              "      <td>[(Ebola, NNP), (Outbreak, NNP), (2015, CD), (Update, NNP), (ISIS, NNP), (Fighters, NNP), (May, NNP), (Have, NNP), (Contracted, NNP), (Deadly, NNP), (Virus, NNP)]</td>\n",
              "      <td>[(iraqi, a), (pilots, n), (joined, v), (islamic, a), (state, n), (training, n), (members, n), (syria, v), (fly, a), (three, n), (captured, v), (fighter, n), (jets, n), (according, v), (uk-based, a), (activist, n), (group, n), (monitors, n), (conflict, v), (syrian, a), (observatory, n), (human, a), (rights, n), (sohr, n), (said, v), (witnesses, n), (seen, v), (planes, n), (flown, v), (around, n), (military, a), (airport, n), (aleppo, n), (meanwhile, r), (iraqi, a), (forces, n), (launched, v), (attack, n), (militants, n), (near, n), (tikrit, a), (city, n), (among, n), (areas, n), (syria, v), (iraq, n), (seized, v), (year, n), (rami, n), (abdul, n), (rahman, a), (head, n), (sohr, n), (said, v), (using, v), (iraqi, a), (officers, n), (pilots, n), (ex-iraqi, a), (president, n), (saddam, n), (hussein, n), (train, n), (fighters, n), (syria, v), (people, n), (saw, v), (flights, n), (went, v), (many, a), (times, n), (airport, v), (flying, v), (skies, n), (outside, n), (airport, n), (coming, v), (back, r), (said, v), (known, v), (many, a), (iraqi, a), (pilots, n), (defected, v), (witnesses, n), (told, v), (sohr, a), (planes, n), (appeared, v), (mig-21, a), (mig-23, a), (models, n), (bbc, n), (s, a), (sally, r), (nabil, a), (baghdad, n), (says, v), (three, n), (planes, n), ...]</td>\n",
              "      <td>[(Ebola, n), (Outbreak, n), (2015, n), (Update, n), (ISIS, n), (Fighters, n), (May, n), (Have, n), (Contracted, n), (Deadly, n), (Virus, n)]</td>\n",
              "      <td>iraqi pilot join islamic state training member syria fly three capture fighter jet accord uk-based activist group monitor conflict syrian observatory human right sohr say witness see plane fly around military airport aleppo meanwhile iraqi force launch attack militant near tikrit city among area syria iraq seize year ramus abdul rahman head sohr say use iraqi officer pilot ex-iraqi president saddam hussein train fighter syria people saw flight go many time airport fly sky outside airport come back say know many iraqi pilot defect witness tell sohr plane appear mig-21 mig-23 model bbc s sally nabil baghdad say three plane capture earlier syrian military aleppo raqqa u central command spokesman col patrick ryder tell reuters pentagon aware conduct flight operation syria elsewhere aleppo become key battleground fight syrian rebel include government force uprise president bashar al-assad 2011. new coordination separately iraqi government say troop gain ground north west tikrit cut important supply route correspondent say past effort government regain territory area end failure meanwhile kurdish force back us-led air strike continue fight militant northern syrian town kobane us-led warplane strike position friday take advantage new coordination town s kurdish defender bbc s kasra naji turkish-syria border say day begin quietly since around six strike thursday kurdish commander baharin kandal tell bbc militant drive kobane correspondent say refugee watch town hilltop nearby agree two three neighbourhood still scene fight battle kobane also know ayn al-arab regard major test whether us-led coalition s air campaign push back activist say 600 people kill since jihadist group launch assault mainly kurdish town month ago 160,000 people flee face advance capture town would give group unbroken control long stretch syrian-turkish border fighter gain reputation brutal tactic include mass killing beheading soldier journalist</td>\n",
              "      <td>ebola outbreak 2015 update isis fighters may have contracted deadly virus</td>\n",
              "    </tr>\n",
              "    <tr>\n",
              "      <th>2746</th>\n",
              "      <td>663</td>\n",
              "      <td>0</td>\n",
              "      <td>[(man, NN), (jumped, VBD), (white, JJ), (house, NN), (fence, NN), (sept., VBD), (19, CD), (pushed, JJ), (way, NN), (past, IN), (female, JJ), (secret, JJ), (service, NN), (agent, NN), (overpowered, VBD), (male, JJ), (agent, NN), (building, VBG), (large, JJ), (east, JJ), (room, NN), (pushed, VBD), (past, JJ), (female, NN), (agent, NN), (ran, VBD), (past, JJ), (stairway, NN), (leads, VBZ), (president, NN), (personal, JJ), (quarters, NNS), (detained, VBD), (secret, JJ), (service, NN), (response, NN), (gonzalez, NN), (dash, NN), (front, NN), (railing, VBG), (slowed, VBD), (perimeter, NN), (alarms, NNS), (—, VBP), (dubbed, VBN), (crash, NN), (boxes, NNS), (—, VBP), (muffled, VBN), (request, JJS), (white, JJ), (house, NN), (ushers, NNS), (man, NN), (omar, VBP), (gonzalez, JJ), (former, JJ), (soldier, NN), (delusions, NNS), (president, NN), (white, JJ), (house, NN), (gonzalez, NN), (ran, VBD), (building, VBG), (new, JJ), (revelation, NN), (published, VBN), (washington, NN), (post, NN), (cbs, NN), (post, NN), (credited, VBD), (new, JJ), (information, NN), (whistleblowers, NNS), (rep., VBP), (jason, NN), (chaffetz, NN), (chairman, NN), (house, NN), (oversight, VBD), (subcommittee, NN), (homeland, NN), (security, NN), (chaffetz, NN), (said, VBD), (intrusion, NN), (failure, NN), (leadership, NN), (secret, JJ), (service, NN), (secret, JJ), (service, NN), (director, NN), (julia, NN), (pierson, NN), (said, VBD), (intrusion, NN), (unacceptable, JJ), ...]</td>\n",
              "      <td>[(Kim, NNP), (Jong-Un, NNP), (s, NN), (Sister, NNP), (Takes, NNP), (Control, NNP), (North, NNP), (Korea, NNP)]</td>\n",
              "      <td>[(man, n), (jumped, v), (white, a), (house, n), (fence, n), (sept., v), (19, n), (pushed, a), (way, n), (past, n), (female, a), (secret, a), (service, n), (agent, n), (overpowered, v), (male, a), (agent, n), (building, v), (large, a), (east, a), (room, n), (pushed, v), (past, a), (female, n), (agent, n), (ran, v), (past, a), (stairway, n), (leads, v), (president, n), (personal, a), (quarters, n), (detained, v), (secret, a), (service, n), (response, n), (gonzalez, n), (dash, n), (front, n), (railing, v), (slowed, v), (perimeter, n), (alarms, n), (—, v), (dubbed, v), (crash, n), (boxes, n), (—, v), (muffled, v), (request, a), (white, a), (house, n), (ushers, n), (man, n), (omar, v), (gonzalez, a), (former, a), (soldier, n), (delusions, n), (president, n), (white, a), (house, n), (gonzalez, n), (ran, v), (building, v), (new, a), (revelation, n), (published, v), (washington, n), (post, n), (cbs, n), (post, n), (credited, v), (new, a), (information, n), (whistleblowers, n), (rep., v), (jason, n), (chaffetz, n), (chairman, n), (house, n), (oversight, v), (subcommittee, n), (homeland, n), (security, n), (chaffetz, n), (said, v), (intrusion, n), (failure, n), (leadership, n), (secret, a), (service, n), (secret, a), (service, n), (director, n), (julia, n), (pierson, n), (said, v), (intrusion, n), (unacceptable, a), ...]</td>\n",
              "      <td>[(Kim, n), (Jong-Un, n), (s, n), (Sister, n), (Takes, n), (Control, n), (North, n), (Korea, n)]</td>\n",
              "      <td>man jump white house fence sept. 19 pushed way past female secret service agent overpower male agent build large east room push past female agent run past stairway lead president personal quarter detain secret service response gonzalez dash front rail slow perimeter alarm — dub crash box — muffle request white house usher man omar gonzalez former soldier delusion president white house gonzalez run build new revelation publish washington post cbs post credit new information whistleblower rep. jason chaffetz chairman house oversight subcommittee homeland security chaffetz say intrusion failure leadership secret service secret service director julia pierson say intrusion unacceptable report — likely leak chaffetz — come one day pierson testify committee tuesday agency need solution go deep fence people chaffetz tell washington post must examine message send men woman protect president leader sacrifice security appease superficial concern white house ushers. follow neil twitter</td>\n",
              "      <td>kim jong-un s sister takes control north korea</td>\n",
              "    </tr>\n",
              "  </tbody>\n",
              "</table>\n",
              "</div>"
            ],
            "text/plain": [
              "      Body ID  ...                                                  lemmatized_headline_string\n",
              "22925    1296  ...                                       christian bale wo nt play steve jobs \n",
              "6416     1438  ...        biological warfare horizon isis soldiers may be infected with ebola \n",
              "11869    2432  ...               microsoft hires dalek-style robocops guard silicon valley hq \n",
              "13261     950  ...  ebola outbreak 2015 update isis fighters may have contracted deadly virus \n",
              "2746      663  ...                             kim jong-un s sister takes control north korea \n",
              "\n",
              "[5 rows x 8 columns]"
            ]
          },
          "metadata": {
            "tags": []
          },
          "execution_count": 55
        }
      ]
    },
    {
      "cell_type": "markdown",
      "metadata": {
        "id": "Yw5lHXxSbO7u"
      },
      "source": [
        "#### **3.2.4 Training/ Test Data**\n",
        "\n",
        "Finally, the last step we have to do with our data is to split it! Why?\n",
        "\n",
        "*The* problem with training a machine learning algorithm is that it will eventually start to focus too much on special features of our dataset. At some point, it would make almost zero errors on this data, but it would be highly overtrained on the problem and not understand that other problems might require a slightly different approach. It is similar to giving a human the exact same dataset each time, asking them to make a guess, and telling them the correct answer. If we do this many many times, the person may start memorising the correct answer for each picture, but does not actually know the reason why a certain image is categorised as it is. This problem is called **overfitting** and it's something we need to prevent when we train a model.\n",
        "\n",
        "Instead of this situation, we want to teach our algorithm (or our model) to recognise the featurest. Ideally, we want to develop/train a model that can be brought to production and make good predictions on new data.\n",
        "\n",
        "A very simple solution is to give the network less time to fix errors it makes on the training set.  This is called **early stopping**. With this approach, it would still be able to make **general** predictions and do quite well on new, previously unseen data.   \n",
        "\n",
        "To assess how well our network generalises, we need to split our dataset into different parts. We have the the **training set**, that we provide the features and the labels. Then we have a **test set**, where we test the model of an unseen test-set without labels and compare the results with the actual labels giving us the accuracy of the model over unseen data. \n",
        "\n",
        "![](https://drive.google.com/uc?export=view&id=1ukTLQhYQ8rGU1llS_AjBxm4IOLCNZaVk)"
      ]
    },
    {
      "cell_type": "markdown",
      "metadata": {
        "id": "0S7aTUGDmtJ1"
      },
      "source": [
        "We Splitting dataframe in 80% training and 20% testing."
      ]
    },
    {
      "cell_type": "code",
      "metadata": {
        "id": "6iQfjg9CrTGr"
      },
      "source": [
        "X_train, X_test, y_train, y_test = train_test_split(sample_train_df[['lemmatized_body_string','lemmatized_headline_string']], \n",
        "                                                    sample_train_df['Stance'], \n",
        "                                                    test_size=0.2)"
      ],
      "execution_count": null,
      "outputs": []
    },
    {
      "cell_type": "markdown",
      "metadata": {
        "id": "eRUiUstUnAJD"
      },
      "source": [
        "We take a look to all the sets."
      ]
    },
    {
      "cell_type": "code",
      "metadata": {
        "id": "0o3wN1lF5Mq2",
        "colab": {
          "base_uri": "https://localhost:8080/",
          "height": 1000
        },
        "outputId": "61c028b6-6733-4a89-8f4f-d3043b5d9939"
      },
      "source": [
        "X_train"
      ],
      "execution_count": null,
      "outputs": [
        {
          "output_type": "execute_result",
          "data": {
            "text/html": [
              "<div>\n",
              "<style scoped>\n",
              "    .dataframe tbody tr th:only-of-type {\n",
              "        vertical-align: middle;\n",
              "    }\n",
              "\n",
              "    .dataframe tbody tr th {\n",
              "        vertical-align: top;\n",
              "    }\n",
              "\n",
              "    .dataframe thead th {\n",
              "        text-align: right;\n",
              "    }\n",
              "</style>\n",
              "<table border=\"1\" class=\"dataframe\">\n",
              "  <thead>\n",
              "    <tr style=\"text-align: right;\">\n",
              "      <th></th>\n",
              "      <th>lemmatized_body_string</th>\n",
              "      <th>lemmatized_headline_string</th>\n",
              "    </tr>\n",
              "  </thead>\n",
              "  <tbody>\n",
              "    <tr>\n",
              "      <th>6254</th>\n",
              "      <td>police stop arrest people low-level possession marijuana instead simply issue summons source say nypd mayor de blasio prepared initiate change policy would drastically reduce number arrest possession pot accord law-enforcement source department already halt pot buy bust operation crime-fighting staple often lead gun seizure arrest outstanding warrant post earlier report source say power include city hall want see decrease arrest pot disastrous consequence police relation minority black hispanic account 86 percent low-level pot bust year accord marijuana research project press conference schedule monday de blasio nypd commissioner bill bratton expect announce key aspect policy change also likely spell detail much marijuana consider low-level de blasio plan meet city five district attorney week accord new york time brooklyn da kenneth thompson already express disapproval policy change thompson curb prosecution low-level possession marijuana borough office already dismiss many misdemeanor marijuana case earlier month head borough narcotic unit summon 1 police plaza tell shift attention potent drug</td>\n",
              "      <td>pga tour denies claim that tiger woods failed a drug test</td>\n",
              "    </tr>\n",
              "    <tr>\n",
              "      <th>4928</th>\n",
              "      <td>body find mass grave confirm missing student</td>\n",
              "      <td>mexico says missing students not found in first mass graves</td>\n",
              "    </tr>\n",
              "    <tr>\n",
              "      <th>215</th>\n",
              "      <td>new delhi ak verma executive engineer central public work department fire last appearing work december 1990 go seek extension leave sanction defied direction report work government say statement thursday even inquiry find guilty wilful absence duty 1992 take another 22 year intervention cabinet minister remove government say government fire employee skip work 24 year ak verma executive engineer central public work department fire last appearing work december 1990 india government job ak verma absence india s labour law world bank say restrictive anywhere make hard sack staff reason criminal misconduct state lead rajasthan madhya pradesh recently change law make easy hire fire staff move welcome industry leader oppose labour union prime minister narendra modi crack rampant absenteeism make new delhi bureaucrat sign work use fingerprint scanner result publicly available online www.attendance.gov.in real time</td>\n",
              "      <td>boko haram to release abducted schoolgirl part ceasefire agreement</td>\n",
              "    </tr>\n",
              "    <tr>\n",
              "      <th>17422</th>\n",
              "      <td>chinese people give state advice adoption english sound name – urge avoid make sound like stripper instead opt one imply bearer fancy conservative family report publish website cctv state broadcaster offer reader practical advice selection western-style name rite passage young chinese take heed article say english name come different connotations…a name come feeling idea sort person are. name distinct feel britishness elizabeth william catherine consider safe article illustrated picture royal family less desirable name type also list derived suggestive food candy lolly sugar typically think non-smart girl name stripper names. pick distinctive name world leader celebrity obama madonna religious figure satan advise discussion article observer news portal one user suggest tradition could short-lived get english name xiao weixia write wait everyone get chinese name future</td>\n",
              "      <td>batmobile steal detroit good one joker</td>\n",
              "    </tr>\n",
              "    <tr>\n",
              "      <th>22072</th>\n",
              "      <td>critic slam vogue recent kimye cover disgust happen office lately even bad radaronline.com learn new york city dirty rat roll red carpet welcome anna wintour vogue staffer swanky new office freedom tower accord insider pesky rodent invade infamous accessory closet make presence know leave droppings desk computer pricey couture office over-run vogue staff secretly whisper rat could cosmic payback anna decision put kim kardashian kanye west cover vogue staffer reveal much backlash condé nast vogue recently decamp time square new dig one world trade center move go without hitch photo vogue vagina – kim kardashian pose nude paper magazine 2014 winter issue – see nsfw photo vogue occupy floor 25 26 rat take residence source say condé nast floor 20 44 rat confine vogue floor hey new york city rat smart know good stuff famed accessory closet put together designer ware old office taking shape rat get source reveal droppings floor shoe box chew into. rat appear gotten via vent work even staffer move source explain wall move accommodate last-minute design change anna condé nast assume rat get in. photo kim kardashian kanye west match blazer big apple source say strict food drink policy people work station issue infestation gone. source say pin-thin wintour fact normally allow staffer eat office meanwhile unnerve come work morning find rat droppings computer desk source say anna amuse top pest control expert hire get problem dealt quickly. gawker break story say wintour told assistant pristine office must rat-free enters photo kim kardashian show purse daughter north paint birthday kanye west new york city rat notorious able survive flood snow storm force nature….have finally meet match anna rep magazine immediately respond request comment</td>\n",
              "      <td>cnn broadcasts purported audio containing gunshots that felled michael brown jr. leaders celebrities fill pews at teen funeral</td>\n",
              "    </tr>\n",
              "    <tr>\n",
              "      <th>...</th>\n",
              "      <td>...</td>\n",
              "      <td>...</td>\n",
              "    </tr>\n",
              "    <tr>\n",
              "      <th>9227</th>\n",
              "      <td>mount cannon leave trail shell wake black pickup truck hand jihadist syria brought woe family texas city plumber way insignia driver-side door mark-1 plumb monday chechen-led group link extremist group ansar al-deen sometime ally islamic state isi al-nusra fighter tweet photo black ford f-250 action near aleppo since mark olberholtzer family near houston receive hundred phone call question threat attempt call olberholtzer family mark-1 plumbing reach recorded message disconnect line tuesday mark olberholtzer tell galveston daily news mystify end syria never know. son jeff similarly express bafflement khou local news intention idea would happen. think something would use pull trailer use terror – crazy never life would think something like young olberholtzer tell khou olberholtzers sell truck october 2013 nearby houston dealership run autonation confirm marc cannon senior vice-president autonation corporate communication cannon told guardian autonation send truck adesa auction house houston car sell auction block local use car dealer though adesa yet respond request identify dealer operator auction house tell guardian company bombard call surprise neither plumber jihadis simply remove logo port houston olberholtzers old f-250 likely make dealership eastern europe africa middle east within month change hand several time finally reach jihadist sympathizer truck likely pass turkey porous border lie hour drive aleppo chaotic battle far remove south-eastern texas erase logo elder olberholtzer tell galveston daily news autonation one middleman suppose do look like plumber 32 year say family receive death threat caller really ugly secretary scar death family son tell khou nothing terror all. father message broad world want go away tell truth. representative mark-1 plumbing tell cbs news plan pursue legal action force twitter remove photo person say sell vehicle would definitely logo remove henceforth auction house make profit faster turn product usually sell used car quickly exporter often keen pick unwanted vehicle lot exporter ship used car sizeable market develop nation batter ford find long second life scavenger resurrect lemon dismantle part</td>\n",
              "      <td>planetary alignment on jan 4 2015 will decrease gravity for 5 minutes causing partial weightlessness</td>\n",
              "    </tr>\n",
              "    <tr>\n",
              "      <th>10322</th>\n",
              "      <td>amazon set launch free ad-supported video service separate 99 prime instant video offer accord new york post case re deja vu wsj report exactly thing back march amazon firmly deny however post confidently say offering definite go one source rumor potential advertiser say amazon would unveil service order increase video share arch-rival netflix -- ultimately tempt user prime membership amazon sort offer limit ad-supported stream let non-prime user watch limited selection prime show commercial break post s report prove accurate launch large ad-supported streaming service may mean current version successfully entice amazon customer buy prime amazon recently score deal stream classic hbo program like soprano six foot minor coup netflix still less tenth competitor s size -- imagine free look pretty good lot user ad far amazon nt comment matter ve reach information update amazon tell u announce plan offer ad-supported video stream service nt mean wo nt though let u translate non-pr-speak comment full statement currently offer first episode television show free ad first episode free feature amazon instant video display ad short video movie game trailer re often experiment new offer experience customer announce plan offer ad-supported video stream service via techcrunch source new york post</td>\n",
              "      <td>the pumpkin-spice condom is just figment your own gross imagination</td>\n",
              "    </tr>\n",
              "    <tr>\n",
              "      <th>9039</th>\n",
              "      <td>least anytime soon internet salivate prospect get stone eat fry chicken week report circulate kfc become marijuana dispensary well restaurant story racket report claim tax revenue sale drug high colorado kfc want piece action add benefit chicken would see boost sale thanks munchies look false several reason however racket report carry lot hoax story past kfc nt mention marijuana official news page marijuana sale currently cash would make thing tricky chain marijuana still somewhat legal grey area probably crystal clear enough giant brand start sling kfc nt even sell alcohol d really jump deep end weed might hit kfc time soon sweeping legalisation u sort thing inevitable yesterday ben jerry s say d create cannabis-infused ice-cream s completely legal update kfc confirm happen</td>\n",
              "      <td>jihadi john identify british man west london</td>\n",
              "    </tr>\n",
              "    <tr>\n",
              "      <th>2763</th>\n",
              "      <td>utah man rush hospital chug quart eggnog 12 second contest office holiday party say everyone know m pretty competitive ryan roche lehi utah tell abc news today explain colleague talk participate leave party family earlier month decide go win pretty much open poured throat say homemade eggnog kill salmonella booze roche 33 say shave 10 second previous best time 22 second day earn brag right 50 gift certificate ruth s chris steak house glory short-lived later home start feel sick two hour later lay couch shaking uncontrollably nauseous fever pant say roche work sale friend take hospital wife stay home three child roche s case eggnog may literally go wrong pipe dr. robert schilz university hospital cleveland explain eggnog booze-free may creep roche s windpipe trigger pneumonia roche spend full day icu two day recover hospital fun roche say take full week recovery 100 percent nearly two week later say joke wo nt stop work people email picture eggnog ... never get old say m pretty competitive unfortunately situation get best s become quite story</td>\n",
              "      <td>no banksy arrest sigh</td>\n",
              "    </tr>\n",
              "    <tr>\n",
              "      <th>17953</th>\n",
              "      <td>amazon.com announce plan first brick-and-mortar store dow jones report open 34th street manhattan across street empire state building time year s holiday season experimental pop-up store function small warehouse hold limited inventory same-day delivery new york store may also host tech showcase item kindle e-readers fire phone fire tvs customer may order item online pick day store amazon stock 2 percent midafternoon trading thursday company risk increase cost related retail pay lease hire worker store successful may set precedent additional store city amazon research scout possible store several year say person familiar project two year ago company go far scout spot seattle headquarter same-day delivery order online pick in-store idea really catch amazon need center matt nemer well fargo analyst tell dow jones company wal-mart home depot already incorporate order-online pick-up in-store model clothing company bonobo open 10 store 2011 plan expand 40 store 2016. amazon try brick-and-mortar experiment kindle vend machine sell tablet e-readers mall</td>\n",
              "      <td>iraqi health official ebola has killed 5 isis fighters</td>\n",
              "    </tr>\n",
              "  </tbody>\n",
              "</table>\n",
              "<p>199 rows × 2 columns</p>\n",
              "</div>"
            ],
            "text/plain": [
              "                                                                                                                                                                                                                                                                                                                                                                                                                                                                                                                                                                                                                                                                                                                                                                                                                                                                                                                                                                                                                                                                                                                                                                                                                                                                                                                                                                                                                                                                                                                                                                                                                                                                                                                                                                                                                                                                                                                                                                                                                                                                                                                                                                                                                                                  lemmatized_body_string                                                                                                       lemmatized_headline_string\n",
              "6254                                                                                                                                                                                                                                                                                                                                                                                                                                                                                                                                                                                                                                                                                                                                                                                                                                                                                                                                                                                                                                                                                                            police stop arrest people low-level possession marijuana instead simply issue summons source say nypd mayor de blasio prepared initiate change policy would drastically reduce number arrest possession pot accord law-enforcement source department already halt pot buy bust operation crime-fighting staple often lead gun seizure arrest outstanding warrant post earlier report source say power include city hall want see decrease arrest pot disastrous consequence police relation minority black hispanic account 86 percent low-level pot bust year accord marijuana research project press conference schedule monday de blasio nypd commissioner bill bratton expect announce key aspect policy change also likely spell detail much marijuana consider low-level de blasio plan meet city five district attorney week accord new york time brooklyn da kenneth thompson already express disapproval policy change thompson curb prosecution low-level possession marijuana borough office already dismiss many misdemeanor marijuana case earlier month head borough narcotic unit summon 1 police plaza tell shift attention potent drug                                                                        pga tour denies claim that tiger woods failed a drug test \n",
              "4928                                                                                                                                                                                                                                                                                                                                                                                                                                                                                                                                                                                                                                                                                                                                                                                                                                                                                                                                                                                                                                                                                                                                                                                                                                                                                                                                                                                                                                                                                                                                                                                                                                                                                                                                                                                                                                                                                                                                                                                                                                                                                                                                                                                                                       body find mass grave confirm missing student                                                                      mexico says missing students not found in first mass graves \n",
              "215                                                                                                                                                                                                                                                                                                                                                                                                                                                                                                                                                                                                                                                                                                                                                                                                                                                                                                                                                                                                                                                                                                                                                                                                                                                                                                             new delhi ak verma executive engineer central public work department fire last appearing work december 1990 go seek extension leave sanction defied direction report work government say statement thursday even inquiry find guilty wilful absence duty 1992 take another 22 year intervention cabinet minister remove government say government fire employee skip work 24 year ak verma executive engineer central public work department fire last appearing work december 1990 india government job ak verma absence india s labour law world bank say restrictive anywhere make hard sack staff reason criminal misconduct state lead rajasthan madhya pradesh recently change law make easy hire fire staff move welcome industry leader oppose labour union prime minister narendra modi crack rampant absenteeism make new delhi bureaucrat sign work use fingerprint scanner result publicly available online www.attendance.gov.in real time                                                               boko haram to release abducted schoolgirl part ceasefire agreement \n",
              "17422                                                                                                                                                                                                                                                                                                                                                                                                                                                                                                                                                                                                                                                                                                                                                                                                                                                                                                                                                                                                                                                                                                                                                                                                                                                                                                                                                  chinese people give state advice adoption english sound name – urge avoid make sound like stripper instead opt one imply bearer fancy conservative family report publish website cctv state broadcaster offer reader practical advice selection western-style name rite passage young chinese take heed article say english name come different connotations…a name come feeling idea sort person are. name distinct feel britishness elizabeth william catherine consider safe article illustrated picture royal family less desirable name type also list derived suggestive food candy lolly sugar typically think non-smart girl name stripper names. pick distinctive name world leader celebrity obama madonna religious figure satan advise discussion article observer news portal one user suggest tradition could short-lived get english name xiao weixia write wait everyone get chinese name future                                                                                           batmobile steal detroit good one joker \n",
              "22072                                                                                                                                                                                                                                                                                                                                                                                                                                    critic slam vogue recent kimye cover disgust happen office lately even bad radaronline.com learn new york city dirty rat roll red carpet welcome anna wintour vogue staffer swanky new office freedom tower accord insider pesky rodent invade infamous accessory closet make presence know leave droppings desk computer pricey couture office over-run vogue staff secretly whisper rat could cosmic payback anna decision put kim kardashian kanye west cover vogue staffer reveal much backlash condé nast vogue recently decamp time square new dig one world trade center move go without hitch photo vogue vagina – kim kardashian pose nude paper magazine 2014 winter issue – see nsfw photo vogue occupy floor 25 26 rat take residence source say condé nast floor 20 44 rat confine vogue floor hey new york city rat smart know good stuff famed accessory closet put together designer ware old office taking shape rat get source reveal droppings floor shoe box chew into. rat appear gotten via vent work even staffer move source explain wall move accommodate last-minute design change anna condé nast assume rat get in. photo kim kardashian kanye west match blazer big apple source say strict food drink policy people work station issue infestation gone. source say pin-thin wintour fact normally allow staffer eat office meanwhile unnerve come work morning find rat droppings computer desk source say anna amuse top pest control expert hire get problem dealt quickly. gawker break story say wintour told assistant pristine office must rat-free enters photo kim kardashian show purse daughter north paint birthday kanye west new york city rat notorious able survive flood snow storm force nature….have finally meet match anna rep magazine immediately respond request comment   cnn broadcasts purported audio containing gunshots that felled michael brown jr. leaders celebrities fill pews at teen funeral \n",
              "...                                                                                                                                                                                                                                                                                                                                                                                                                                                                                                                                                                                                                                                                                                                                                                                                                                                                                                                                                                                                                                                                                                                                                                                                                                                                                                                                                                                                                                                                                                                                                                                                                                                                                                                                                                                                                                                                                                                                                                                                                                                                                                                                                                                                                                                                  ...                                                                                                                              ...\n",
              "9227   mount cannon leave trail shell wake black pickup truck hand jihadist syria brought woe family texas city plumber way insignia driver-side door mark-1 plumb monday chechen-led group link extremist group ansar al-deen sometime ally islamic state isi al-nusra fighter tweet photo black ford f-250 action near aleppo since mark olberholtzer family near houston receive hundred phone call question threat attempt call olberholtzer family mark-1 plumbing reach recorded message disconnect line tuesday mark olberholtzer tell galveston daily news mystify end syria never know. son jeff similarly express bafflement khou local news intention idea would happen. think something would use pull trailer use terror – crazy never life would think something like young olberholtzer tell khou olberholtzers sell truck october 2013 nearby houston dealership run autonation confirm marc cannon senior vice-president autonation corporate communication cannon told guardian autonation send truck adesa auction house houston car sell auction block local use car dealer though adesa yet respond request identify dealer operator auction house tell guardian company bombard call surprise neither plumber jihadis simply remove logo port houston olberholtzers old f-250 likely make dealership eastern europe africa middle east within month change hand several time finally reach jihadist sympathizer truck likely pass turkey porous border lie hour drive aleppo chaotic battle far remove south-eastern texas erase logo elder olberholtzer tell galveston daily news autonation one middleman suppose do look like plumber 32 year say family receive death threat caller really ugly secretary scar death family son tell khou nothing terror all. father message broad world want go away tell truth. representative mark-1 plumbing tell cbs news plan pursue legal action force twitter remove photo person say sell vehicle would definitely logo remove henceforth auction house make profit faster turn product usually sell used car quickly exporter often keen pick unwanted vehicle lot exporter ship used car sizeable market develop nation batter ford find long second life scavenger resurrect lemon dismantle part                             planetary alignment on jan 4 2015 will decrease gravity for 5 minutes causing partial weightlessness \n",
              "10322                                                                                                                                                                                                                                                                                                                                                                                                                                                                                                                                                                                                                                                                                                                                                                                                                                                                                                           amazon set launch free ad-supported video service separate 99 prime instant video offer accord new york post case re deja vu wsj report exactly thing back march amazon firmly deny however post confidently say offering definite go one source rumor potential advertiser say amazon would unveil service order increase video share arch-rival netflix -- ultimately tempt user prime membership amazon sort offer limit ad-supported stream let non-prime user watch limited selection prime show commercial break post s report prove accurate launch large ad-supported streaming service may mean current version successfully entice amazon customer buy prime amazon recently score deal stream classic hbo program like soprano six foot minor coup netflix still less tenth competitor s size -- imagine free look pretty good lot user ad far amazon nt comment matter ve reach information update amazon tell u announce plan offer ad-supported video stream service nt mean wo nt though let u translate non-pr-speak comment full statement currently offer first episode television show free ad first episode free feature amazon instant video display ad short video movie game trailer re often experiment new offer experience customer announce plan offer ad-supported video stream service via techcrunch source new york post                                                              the pumpkin-spice condom is just figment your own gross imagination \n",
              "9039                                                                                                                                                                                                                                                                                                                                                                                                                                                                                                                                                                                                                                                                                                                                                                                                                                                                                                                                                                                                                                                                                                                                                                                                                                                                                                                                                                                                                                                  least anytime soon internet salivate prospect get stone eat fry chicken week report circulate kfc become marijuana dispensary well restaurant story racket report claim tax revenue sale drug high colorado kfc want piece action add benefit chicken would see boost sale thanks munchies look false several reason however racket report carry lot hoax story past kfc nt mention marijuana official news page marijuana sale currently cash would make thing tricky chain marijuana still somewhat legal grey area probably crystal clear enough giant brand start sling kfc nt even sell alcohol d really jump deep end weed might hit kfc time soon sweeping legalisation u sort thing inevitable yesterday ben jerry s say d create cannabis-infused ice-cream s completely legal update kfc confirm happen                                                                                     jihadi john identify british man west london \n",
              "2763                                                                                                                                                                                                                                                                                                                                                                                                                                                                                                                                                                                                                                                                                                                                                                                                                                                                                                                                                                                                                                                                                                                                                                  utah man rush hospital chug quart eggnog 12 second contest office holiday party say everyone know m pretty competitive ryan roche lehi utah tell abc news today explain colleague talk participate leave party family earlier month decide go win pretty much open poured throat say homemade eggnog kill salmonella booze roche 33 say shave 10 second previous best time 22 second day earn brag right 50 gift certificate ruth s chris steak house glory short-lived later home start feel sick two hour later lay couch shaking uncontrollably nauseous fever pant say roche work sale friend take hospital wife stay home three child roche s case eggnog may literally go wrong pipe dr. robert schilz university hospital cleveland explain eggnog booze-free may creep roche s windpipe trigger pneumonia roche spend full day icu two day recover hospital fun roche say take full week recovery 100 percent nearly two week later say joke wo nt stop work people email picture eggnog ... never get old say m pretty competitive unfortunately situation get best s become quite story                                                                                                            no banksy arrest sigh \n",
              "17953                                                                                                                                                                                                                                                                                                                                                                                                                                                                                                                                                                                                                                                                                                                                                                                                                                                                                                                                                                                                                                                                                                                                                             amazon.com announce plan first brick-and-mortar store dow jones report open 34th street manhattan across street empire state building time year s holiday season experimental pop-up store function small warehouse hold limited inventory same-day delivery new york store may also host tech showcase item kindle e-readers fire phone fire tvs customer may order item online pick day store amazon stock 2 percent midafternoon trading thursday company risk increase cost related retail pay lease hire worker store successful may set precedent additional store city amazon research scout possible store several year say person familiar project two year ago company go far scout spot seattle headquarter same-day delivery order online pick in-store idea really catch amazon need center matt nemer well fargo analyst tell dow jones company wal-mart home depot already incorporate order-online pick-up in-store model clothing company bonobo open 10 store 2011 plan expand 40 store 2016. amazon try brick-and-mortar experiment kindle vend machine sell tablet e-readers mall                                                                           iraqi health official ebola has killed 5 isis fighters \n",
              "\n",
              "[199 rows x 2 columns]"
            ]
          },
          "metadata": {
            "tags": []
          },
          "execution_count": 57
        }
      ]
    },
    {
      "cell_type": "code",
      "metadata": {
        "id": "KufG_f-c5SMB",
        "colab": {
          "base_uri": "https://localhost:8080/"
        },
        "outputId": "406b0299-e639-4c7a-8287-e7652c3f9966"
      },
      "source": [
        "y_train"
      ],
      "execution_count": null,
      "outputs": [
        {
          "output_type": "execute_result",
          "data": {
            "text/plain": [
              "6254     0\n",
              "4928     0\n",
              "215      0\n",
              "17422    1\n",
              "22072    1\n",
              "        ..\n",
              "9227     0\n",
              "10322    0\n",
              "9039     0\n",
              "2763     0\n",
              "17953    1\n",
              "Name: Stance, Length: 199, dtype: int64"
            ]
          },
          "metadata": {
            "tags": []
          },
          "execution_count": 58
        }
      ]
    },
    {
      "cell_type": "code",
      "metadata": {
        "id": "yh8h0cQb5bm7",
        "colab": {
          "base_uri": "https://localhost:8080/",
          "height": 1000
        },
        "outputId": "e874a42c-1a5c-47e9-ae4e-cda7016c7af2"
      },
      "source": [
        "X_test"
      ],
      "execution_count": null,
      "outputs": [
        {
          "output_type": "execute_result",
          "data": {
            "text/html": [
              "<div>\n",
              "<style scoped>\n",
              "    .dataframe tbody tr th:only-of-type {\n",
              "        vertical-align: middle;\n",
              "    }\n",
              "\n",
              "    .dataframe tbody tr th {\n",
              "        vertical-align: top;\n",
              "    }\n",
              "\n",
              "    .dataframe thead th {\n",
              "        text-align: right;\n",
              "    }\n",
              "</style>\n",
              "<table border=\"1\" class=\"dataframe\">\n",
              "  <thead>\n",
              "    <tr style=\"text-align: right;\">\n",
              "      <th></th>\n",
              "      <th>lemmatized_body_string</th>\n",
              "      <th>lemmatized_headline_string</th>\n",
              "    </tr>\n",
              "  </thead>\n",
              "  <tbody>\n",
              "    <tr>\n",
              "      <th>1325</th>\n",
              "      <td>45 year old mexican/american bear de la cruz sinaloa make name incredible rehabilitation training technics wit dog duty professionally write three book topic cesar way pack leader member family reach worldwide popularity tv series dog whisperer name would new way people know died morning santa clarita hospital california millan hospitalize yesterday afternoon medical report indicate suffer fulminate heart attack paralyze heart unavailable blood reach brain vital organ situation witch cause death humanitarian man year open foundation cesar millan foundation jada pinkett smith wife smith vice-president sad news millan death give wife jahira dar news conference couple hour ago se say medium hope understand lose would appreciate give u space mourn uncertain de detail funeral never less body cesar millan expect ship back mazatlan sinaloa bury next grandfather plant love animal especially dog definitely big lose ever rest peace cesar millan…</td>\n",
              "      <td>tim cook reportedly reveals apple watch waterproofing has improved</td>\n",
              "    </tr>\n",
              "    <tr>\n",
              "      <th>20978</th>\n",
              "      <td>reuters mysterious late-night blast nicaraguan capital managua leave crater 12 meter 40 foot wide likely cause meteorite government scientist say sunday loud explosion occur around 11 p.m. saturday outskirts managua near airport say wilfried strauch nicaraguan institute earth study ineter interview government tv channel one injured strauch say nicaragua ask united state expert help investigate event pick seismic sensor evidence ve confirm on-site corresponds exactly meteorite type event say jose millan also ineter firstly seismic register coincides time impact typical characteristic produce cone place impact strauch say able determine composition suppose meteorite sure whether disintegrated hit ground remain buried need celebrate fact fell area thank god nt cause danger population millan say nicaragua 20 volcano regularly shake earthquake many local initially think quake cause loud bang report ivan castro write gabriel stargardter edit eric walsh</td>\n",
              "      <td>zack snyder kills stolen batmobile rumor with great photo</td>\n",
              "    </tr>\n",
              "    <tr>\n",
              "      <th>11080</th>\n",
              "      <td>north korean despot kim jong-un guzzling pint pint snake wine body dead cobra bottle – vain attempt restore life genitals may see year due vast bulk local believe meaty brew increase size man manhood – improve chance pregnancy kim pile enormous amount weight binge emmenthal cheese johnnie walker whisky 31-year-old struggle father child lucky young wife ri joi-su 22. kim believe glugging litre wine mixed rot flesh venom could ticket restore virility father sibling daughter ju-ae two kim jong-un north korean leader walk unaided follow lengthy absence one south korean ex-pat say elite country joke big please wife children. one senior official say kim drinking many bottle snake wine help bedroom department. jong-un first expose emmenthal study switzerland young man fondness cheese say rapidly escalate dependence ballooning weight think result daily binge cheese use fondue gratins raclettes sandwich something photo kim jong-un quite right kim jong-un hiding due emmental cheese addiction</td>\n",
              "      <td>video show isil behead photojournalist james foley</td>\n",
              "    </tr>\n",
              "    <tr>\n",
              "      <th>19183</th>\n",
              "      <td>pope francis suggest recently even animal place heaven try soothe young boy public appearance vatican s st. peter s square paradise open god creature tell boy whose dog die recently make comment weekly general audience vatican st. peter s square analysis pope francis turn heat church s future — behind closed door vatican spark controversy say gay couple gift quality analysis rock star pope francis really launch revolution one day see animal eternity christ say leader catholic church accord italian news source significant pivot position hold francis s predecessor pope benedict xvi 2008 say animal dy mean end existence earth. francis consistently make headline sometimes controversial remark since assume papacy 2013. vatican observer call radical open-mindedness desire reach grassroots catholic life 77-year-old leader world s one billion roman catholic adopt liberal position predecessor stir tension conservative catholic issue homosexuality single motherhood one instance july 2013 francis strike compassionate tone speak homosexuality person gay seek god good judge say reporter flight return vatican brazil francis s papal name come st. francis assisi church s patron saint animal ecology</td>\n",
              "      <td>kim had ankle surgery source</td>\n",
              "    </tr>\n",
              "    <tr>\n",
              "      <th>6689</th>\n",
              "      <td>prominent religious scholar saudi arabia reportedly issue fatwa build snowman kingdom state practice acceptable islam mohammad saleh al minjed say people must build snowman snow model animal accord gulf news however make snow model lifeless thing ship fruit building apparently acceptable islam scholar say permitted make statue snow even way play fun reportedly say god give people space make whatever want soul include tree ship fruit building add date set implementation fatwa government comment cleric saudi arabia entitle issue fatwa basis saudi law immediate reaction social medium story value tradition fascinate west emulate invention science culture one unnamed blogger say another state snow fleet day maybe even hour always someone want rob u joy fun seem thing leave u sit drink coffee saudia arabia second hot country world kingdom hit snowstorm month notably tabuk region around 1000 kilometre northwest capital riyadh</td>\n",
              "      <td>jeh johnson shoot duncan hunter s assertion is enter u.s. via mexico</td>\n",
              "    </tr>\n",
              "    <tr>\n",
              "      <th>24681</th>\n",
              "      <td>one passenger dull international airport outside washington d.c. apparently take chance female passenger dress hazmat suit — complete full body gown mask glove — spot wednesday wait flight airport another traveler snap photo woman provide daily caller thomas eric duncan first person diagnose ebola american soil layover dulles last month travel west africa texas die last week health official say passenger airport risk exposure ebola duncan symptomatic time flight see photo</td>\n",
              "      <td>updated 11 men 0 women tonight s espn domestic violence panel</td>\n",
              "    </tr>\n",
              "    <tr>\n",
              "      <th>6306</th>\n",
              "      <td>nigeria s military say agree ceasefire islamist militant boko haram schoolgirl group abduct release nigeria s chief defence staff alex badeh announce truce boko haram make public statement group fight insurgency since 2009 2,000 civilian reportedly kill year boko haram spark global outrage six month ago abduct 200 schoolgirls girl seize north-eastern town chibok borno state continue captivity lead criticism nigerian government s effort secure release member bring back girl campaign say tweet friday monitoring news huge expectation cautiously optimistic air chief marshal badeh reveal truce close three-day security meeting nigeria cameroon say nigerian soldier would comply agreement nigerian presidential aide hassan tukur tell bbc focus africa agreement seal month negotiation mediate chad part talk government delegation twice meet representative islamist group mr tukur say boko haram announce unilateral ceasefire thursday government respond ve assure u girl release say cautiously optimistic say arrangement release would finalise another meeting next week chad s capital ndjamena negotiation say bless boko haram leader abubakar shekau report bbc s chris ewokor abuja speak bbc nigerian government spokesman mike omeri say boko haram would give territory ceasefire agreement government would reveal concession would make inch close release group captivity include chibok girl say analysis ross bbc news lagos nigerian official give indication negotiation boko haram take place even though rumour talk neighbour chad surprising development many nigerian extremely sceptical announcement especially definitive word jihadists military past release statement conflict north-east nigeria turn completely odds situation ground many celebrate violence stop hostage free may 2013 president goodluck jonathan impose state emergency northern state borno yobe adamawa vow crush islamist insurgency boko haram increase attack year group promote version islam make haram forbidden muslim take part political social activity associate western society frequently attack school college see symbol western culture boko haram boko haram profile boko haram leader abubakar shekau human right watch report 2,053 civilian kill first half year amnesty international estimate 4,000 people kill violence include nigerian military operation first seven month 2014. boko haram seek establish islamist state nigeria fighter often cross long porous border cameroon eight cameroon soldier 100 boko haram militant kill fight far north cameroon friday reuters quote country s defence ministry say july cameroon nigeria chad niger agree form 2,800-strong regional force tackle boko haram militant</td>\n",
              "      <td>boko haram could release kidnapped girls nigerian officials say</td>\n",
              "    </tr>\n",
              "    <tr>\n",
              "      <th>12981</th>\n",
              "      <td>north korean despot kim jong-un guzzling pint pint snake wine body dead cobra bottle – vain attempt restore life genitals may see year due vast bulk local believe meaty brew increase size man manhood – improve chance pregnancy kim pile enormous amount weight binge emmenthal cheese johnnie walker whisky 31-year-old struggle father child lucky young wife ri joi-su 22. kim believe glugging litre wine mixed rot flesh venom could ticket restore virility father sibling daughter ju-ae two kim jong-un north korean leader walk unaided follow lengthy absence one south korean ex-pat say elite country joke big please wife children. one senior official say kim drinking many bottle snake wine help bedroom department. jong-un first expose emmenthal study switzerland young man fondness cheese say rapidly escalate dependence ballooning weight think result daily binge cheese use fondue gratins raclettes sandwich something photo kim jong-un quite right kim jong-un hiding due emmental cheese addiction</td>\n",
              "      <td>priest dies wakes up claims god is woman huh</td>\n",
              "    </tr>\n",
              "    <tr>\n",
              "      <th>12594</th>\n",
              "      <td>fbi reportedly investigate new audiotape allegedly capture shoot michael brown accord cnn tape hear sound like least 10 shot fire significant pause separate shoot two segment cnn s lemon say news network nt confirm tape s authenticity michael brown shot least six time accord autopsy lopa blumenthal missouri-based attorney unidentified man unknowingly capture shoot video-chatting friend claim cnn tape show ferguson officer darren wilson point contemplation fire final volley shot man record audio apartment talk friend video chat blumenthal say heard loud noise time nt even realize import hearing afterwards happen capture 12 second transpired outside building concerned pause say s number gunshot s re fire huge relevance case might finally end nt clear whether blumenthal direct connection brown case retire chief deputy u.s. marshall matthew fog speak cnn hearing tape say sound like pause audio hear pause bring concern tape appear draw interest benjamin crump attorney michael brown s family retweeted tweet wednesday night cnn viewer say audio recording shoot release played cnn lemon least 5 xs interest prof alot sic mashable reach blumenthal crump comment update post hear back l police ferguson wear riot gear walk toward man hand raise monday r u.s. soldier mosul iraq search house-by-house illegal weapon january 20 2005 l st. louis county tactical police fire tear gas along west florissant road ferguson r grenade explodes close u.s. army humvee clash mosul iraq june 13 2003 l police take position control demonstrator protest kill michael brown ferguson tuesday r u.s. army soldier patrol village kandahar afghanistan february 27 2014 l police officer look scope rifle get position control demonstrator ferguson tuesday r u.s. marine sniper prepares fire insurgent town kusaiybah syrian-iraqi border october 27 2005 l missouri state highway patrol tactical vehicle travel south florissant road ferguson monday r u.s. army mine resistant ambush protect mrap vehicle park entrance u.s. outpost khost afghanistan june 28 2011 l police prepare encounter demonstrator ferguson tuesday r u.s. soldier point sniper s position come fire offensive operation najaf iraq august 15 2004. something add story share comment</td>\n",
              "      <td>kim jong-un drink rare snake wine boost love life</td>\n",
              "    </tr>\n",
              "    <tr>\n",
              "      <th>15633</th>\n",
              "      <td>nigeria say struck cease-fire deal boko haram raise hope 200 schoolgirl kidnap militant group release mystery continue surround identity interlocutor side negotiation nigerian official say deal reach chad friday talk saudi arabia-based boko haram representative name danladi ahmadu name take many surprise include people involve previous negotiation boko haram fail find anyone ever hear bbc nigeria correspondent write ve tried verify authenticity person source traditionally close boko haram militant get negative feedback editor nigerian news site sahara reporter tell worldpost email ahmad salkida nigerian journalist consider close boko haram s leader say believe ahmadu part group leadership speak group challenge danladi ahmadu open debate sic interest nigeria heart salkida write twitter mike omeri nigerian government s spokesperson boko haram insurgency tell worldpost saturday government confident negotiate right guy talk happen one sunny morning ... approach president chad confident ahmadu identity connect president nigeria omeri say fact contact come nigeria neighbor give u confidence chad confirm acting mediator talk free girl kidnap nigerian village chibok april since nigerian president goodluck jonathan visit chad last month rumor grow nigeria s government quietly negotiate girl release via neighbor immediately clear long talk take place boko haram s leadership comment cease-fire meanwhile ahmadu purportedly make least two statement recent day friday give interview voice america hausa-language service mention kidnap schoolgirl vague detail cease-fire agence france-presse report news agency also note ahmadu refer militant group boko haram name use outsider insurgent saturday sahara reporter say correspondent northeastern nigerian city maiduguri obtain cd record another statement ahamdu time precise girl take chibok want free girl get justice nigerian state many member business premise destroy kill others detention many oppression ahmadu say accord translation hausa sahara reporter news site editor say remain skeptical identity part deal omeri say talk take place chad week address release schoolgirls omeri add militant motivated wish reintegrate society work towards peace order chance return normal thing -- example many business say ask whether nigeria would consider release capture boko haram militant exchange girl omeri say every asset direct towards girl release everything possible do day free say boko haram want peace ready intend implement add cease-fire announce suspected boko haram militant continue attack community northeast nigeria leave several dozen dead weekend omeri insist violence would deter negotiation suggest militant remote area may hear cease-fire attack could perpetrate criminal opportunist rather boko haram member boko haram deeply fracture accord risk consultancy stratfor quote reuters sunday nigeria s government difficult time identify boko haram representative could make compromise guarantee entire group observe stratfor say quite possible abuja reach agreement legitimate representative specific cell ... hold kidnap schoolgirl captive group add kidnap girl hometown community hardly dare hope girl might finally return nt know true prove say bana lawan chairman chibok local government area tell associate press</td>\n",
              "      <td>cook say confirm apple watch showerproof last day</td>\n",
              "    </tr>\n",
              "    <tr>\n",
              "      <th>7490</th>\n",
              "      <td>nicaragua s government say mysterious boom heard capital make small meteorite leave crater wooded area near managua s airport government spokeswoman rosario murillo say sunday committee form government study event determine relatively small meteorite appear come asteroid pass close earth murillo say nicaragua would ask international expert help local scientist understand happen crater leave meteorite radius 12 metre 5 metre deep say humberto saballos volcanologist nicaraguan institute territorial study committee say still clear meteorite disintegrate bury humberto garcia astronomy centre national autonomous university nicaragua say meteorite could relate asteroid forecast pas planet saturday night study could ice rock say wilfried strauch adviser institute territorial study say strange one report streak light ask anyone photo something local resident report hear loud boom saturday night say see anything strange sky sit porch saw nothing sudden heard large blast think bomb felt expansive wave jorge santamaria tell associated press site crater near managua s international airport air force base journalist state medium allow visit</td>\n",
              "      <td>ebola frisco 2014 patient shows virus symptoms after apparent thomas eric duncan contact</td>\n",
              "    </tr>\n",
              "    <tr>\n",
              "      <th>21607</th>\n",
              "      <td>ever since wife ruby s death 2003 widower stan beaton treasure outgo voicemail message record phone -- much refuse change phone company fear might lose way could still hear sound voice december message lose service upgrade leave 68-year-old brit absolutely devastate also extremely angry accord bbc contact virgin medium see could retrieve -- help nearly dozen engineer -- video beaton receive news record recover emotional teary-eyed reaction could nt heartwarming s wonderful wonderful sound think lose forever say h/t buzzfeed keep touch check huffpost wedding facebook twitter pinterest sign newsletter</td>\n",
              "      <td>texas plumber is nt sure how extremists in syria ended up with his work truck</td>\n",
              "    </tr>\n",
              "    <tr>\n",
              "      <th>1333</th>\n",
              "      <td>45 year old mexican/american bear de la cruz sinaloa make name incredible rehabilitation training technics wit dog duty professionally write three book topic cesar way pack leader member family reach worldwide popularity tv series dog whisperer name would new way people know died morning santa clarita hospital california millan hospitalize yesterday afternoon medical report indicate suffer fulminate heart attack paralyze heart unavailable blood reach brain vital organ situation witch cause death humanitarian man year open foundation cesar millan foundation jada pinkett smith wife smith vice-president sad news millan death give wife jahira dar news conference couple hour ago se say medium hope understand lose would appreciate give u space mourn uncertain de detail funeral never less body cesar millan expect ship back mazatlan sinaloa bury next grandfather plant love animal especially dog definitely big lose ever rest peace cesar millan…</td>\n",
              "      <td>eye-catching rare sight anna wintour without trademark sunglass leave rat-infested vogue office</td>\n",
              "    </tr>\n",
              "    <tr>\n",
              "      <th>6726</th>\n",
              "      <td>baghdad iraq – islamic state isi incinerate corps five militant suspect contract ebola iraqi health official indicate faisal ghazi member health committee iraq council ministry say five incinerate mosul isi stronghold iraq islamic state organization incinerate five militant infect ebola prevent spread disease mosul say isi proof militant infect ebola add without give detail whether fighter die disease kill incinerated group un world health organization investigate case ebola mosul follow report militant ebola symptom report hospital city isi volunteer pour iraq syria around world include country africa</td>\n",
              "      <td>nigerians doubtful girl release boko haram truce breach</td>\n",
              "    </tr>\n",
              "    <tr>\n",
              "      <th>3064</th>\n",
              "      <td>iraqi force report head islamic state iraq levant isil abu bakr al-baghdadi kill u.s airstrikes despite iraqi u.s source confirm kill abu bajr al-baghdadi white house confirm yet afp report three senior member islamic state iraq al-sham isi include aide leader kill u.s. airstrike iraq senior iraqi security official tell nbc news thursday strike isi stronghold mosul kill abu hajar al-sufi aide abu bakr al-baghdadi well explosive operative military leader nearby tel afar source say condition anonymity al arabiya cite iraqi defense ministry say baghdadi s aide kill pentagon spokesman col. steve warren could confirm death say isi leader target added isi leader embed inside troop formation likely kill u.s. carrying airstrikes across country s north brutal terror group gain ground murderous sweep june</td>\n",
              "      <td>missing planes</td>\n",
              "    </tr>\n",
              "    <tr>\n",
              "      <th>11170</th>\n",
              "      <td>militant islamic state jihadi group release video appear show behead british hostage david haines aid worker capture day arrive syria last year british government official seek authenticate video purport show final moment haines 44. video entitle message ally america mask man show carry behead haines whose life earlier threaten film show murder american journalist steven sotloff video run two minute 28 second end warn second british hostage would next die name international medium social medium alan henning british aid worker haines third western hostage first briton kill fashion isi – first u journalist james foley murder video release 19 august british prime minister david cameron issue statement denounce kill despicable appal murder innocent aid worker act pure evil heart go family david haines show extraordinary courage fortitude throughout ordeal everything power hunt murderer ensure face justice however long takes. cameron gather senior representative military security service foreign office home office whitehall discus situation u president barack obama also condemn kill united state strongly condemn barbaric murder uk citizen david haines terrorist group isil say use administration prefer acronym isi heart go family mr haines people united kingdom united state stand shoulder shoulder tonight close friend ally grief resolve work uk broad coalition nation region around world bring perpetrator outrageous act justice degrade destroy threat people country region world. record feature voiceover deliver isi militant whose voice accent closely resemble killer sotloff foley video killer directly address cameron say haines pay price promise arm kurdish peshmerga fighter isis speak camera hostage compose clearly duress wear orange jumpsuit read statement say cameron entirely responsible execution enter coalition u haines royal air force 12 year move aid work address cameron say enter voluntarily coalition united state islamic state predecessor tony blair follow trend amongst british prime minister find courage say american unfortunately british public end pay price parliament selfish decisions. killer swathe black make statement make direct reference british government aid kurdish fighter say british man pay price promise cameron arm peshmerga islamic state ironically spend decade life serve royal air force responsible delivering arm evil alliance america continue strike muslim iraq recently bomb haditha dam accelerate destruction play role obedient lapdog cameron drag people another bloody unwinnable war. end late video another hostage henning parade u carry least nine air strike last week isi militant threaten haditha dam bombing cite haines killer video spokeswoman foreign office london say aware video work urgently verify contents. isi threaten kill haines father two video emerge 11 day ago sotloff murder less 24 hour late video emerge haines family make plea jihadis respond effort make contact family statement release foreign office address militant directly say family david haines send message receive reply ask hold david make contact us. haines bear east yorkshire raise perthshire capture live croatia second wife dragana 17-year-old daughter first wife louise four-year-old daughter dragana describe fantastic man father kidnap work aid organisation act previously work libya south sudan meeting british government emergency committee cobra expect call imminently prime minister attention divert referendum scottish independence due take place thursday haines work aid agency world worst trouble spot include libya south sudan libya civil war 2011 work head mission handicap international help disabled people poverty conflict zone around world</td>\n",
              "      <td>kc man does not have ebola</td>\n",
              "    </tr>\n",
              "    <tr>\n",
              "      <th>11546</th>\n",
              "      <td>judicial watch report isis member cross mexican border</td>\n",
              "      <td>us lawmaker ten isis fighters have been apprehended coming across southern border video</td>\n",
              "    </tr>\n",
              "    <tr>\n",
              "      <th>8554</th>\n",
              "      <td>caught moniker dictator would apparently trained change north korean citizen hop name kim jong-un near future luck leader ban use moniker order already trained change accord daily mail south korean television obtain leak internal document state include administrative order army police government official establish new legislation party organ public security authority make list resident name kim jong-un ... train voluntarily change name reportedly read catch name kim jong-un continued would identity card school diplomas official document briskly adjust birth certificate bar dictator name would also reject authority make sure one make unnecessary complaint spread gossip ... regard project mail quote document read spokesperson north korean embassy london decline comment authenticity report however south korean official claim two previous president secret state kim il-sung kim jong-il similarly ban share name possibility would continue add document first obtain park jin-hee north korean defector work kb leave state 2008 one north name kim il-sung kim jong-il doubt rule applies jong-un say report come amid speculation kim jong-un ban aide official smoke foreign cigarette unpatriotic</td>\n",
              "      <td>watch naked airport worker walk scanner bizarre protest rough guard</td>\n",
              "    </tr>\n",
              "    <tr>\n",
              "      <th>23861</th>\n",
              "      <td>fidel castro pronounce dead twitter sometime around 3:59 p.m. thursday unconfirmed rumor course announce confidently many folk assume true — least worthy retweet separate rumor start raul castro call press conference 9 a.m. 11 a.m. today allegedly announce brother death south america twittersphere catch fire start question whether user fee even talk right fidel castro al jazeera report jan. 4 fidel castro odinga son kenya main opposition leader die nairobi last weekend night drink friend could twitter user confuse dead kenyan man cuban namesake twitter heatmap show mention fidel castro 10 a.m. thursday- 8 a.m today gmt overly excited wikipedian edit entry cuba fidel castro say article person recently died. moment later castro wikipedia entry revert back undead version 8 p.m. medium outlets around latin america reporting strong rumor castro death allege forthcoming announcement cuban official island folk accustom rumor castro death situation seem less urgent journalist havana say aware rumor find echo street cuba true castro see public year rumor death — mark twain might say — appear greatly exaggerated journalist turn answer cuba watcher tune state television.when castro dy announce unequivocally</td>\n",
              "      <td>fidel castro rumors sweep internet no sign cuba</td>\n",
              "    </tr>\n",
              "    <tr>\n",
              "      <th>2746</th>\n",
              "      <td>man jump white house fence sept. 19 pushed way past female secret service agent overpower male agent build large east room push past female agent run past stairway lead president personal quarter detain secret service response gonzalez dash front rail slow perimeter alarm — dub crash box — muffle request white house usher man omar gonzalez former soldier delusion president white house gonzalez run build new revelation publish washington post cbs post credit new information whistleblower rep. jason chaffetz chairman house oversight subcommittee homeland security chaffetz say intrusion failure leadership secret service secret service director julia pierson say intrusion unacceptable report — likely leak chaffetz — come one day pierson testify committee tuesday agency need solution go deep fence people chaffetz tell washington post must examine message send men woman protect president leader sacrifice security appease superficial concern white house ushers. follow neil twitter</td>\n",
              "      <td>kim jong-un s sister takes control north korea</td>\n",
              "    </tr>\n",
              "    <tr>\n",
              "      <th>576</th>\n",
              "      <td>islamic state militant sympathiser triumphantly circulate image 10-year-old boy claim martyr fight alongside father syria describe child isi young jihadist chill photograph take alleged death show smile camera wear military fatigue brandish huge assault rifle isi sympathiser take social medium identify cub fighter allege nom de guerre abu ubaidah add father kill clash syria recent week specify exactly die fight sicken isi sympathiser take social medium identify 10-year-old cub fighter allege nom de guerre abu ubaidah say died fighting alongside father syria recent week pose another picture show smile sweetly wear ammunition vest stand next van convert armoured vehicle large plank wood bull bar several image independently verify emerge social medium week video report death boy father uploaded youtube september original video distribute pro-isis medium group al-aamaq understood since remove number photograph boy since widely share isi militant sympathisers social medium one image show boy stand inside house grin struggle hold assault rifle large threatens topple another picture show smile sweetly wear ammunition vest stand next van convert armoured vehicle large plank wood bull bar image show pose man understand father militant name baghdadi image boy identify abu ubaidah see calmly hold another large rifle surround beard men wear military clothing support isi sympathiser triumphantly circulate image 10-year-old boy claim martyr fight alongside father syria smile describe child isi young foreign jihadist chill photograph take alleged death show grin camera wear military fatigue brandish huge assault rifle last week 24-year-old muslim convert admit take infant son live among islamic state terrorist syrian city raqqa believe lead good life brutal regime asiya ummi abdullah deny child unhappy live oppressive rule isi religious fanatic explain felt three-year-old son s spiritual well-being well serve group s de facto capital public crucifixion beheading commonplace ummi abduallah live turkey since teen bear kyrgyzstan say move militant stronghold syria part shield young boy sex crime drug alcohol see rampant home town istanbul who say child unhappy ... know god live rule say dramatic footage emerge inside kobane show brave kurdish fighter battle militant islamic state clip appear film mobile phone show resistance force kurdish people s protection unit ypg fire assault rifle machine gun mount back car militant hide behind building kobane suburbs terrorist launch renew assault kobane last night kill dozen kurd resist isi advance city s suburb last three week defence isi terrorist launch renew assault kobane last night kill dozen kurd resist isi advance city s suburb last three week prepare kurdish fighter take position fight islamic state jihadist islamic state militant control one third besiege syrian city kobane despite three day american airstrikes group monitor violence country say today morning chill sight group s black flag could clearly see building inside city brazen display defiance face sustain airstrikes u.s. arab warplane airstrikes appear slow militant advance area city isi fighter appear creep ever closer centre kobane thousand civilians unable unwilling flee home face rape massacre news isi gain come pentagon admit airstrikes alone enough prevent fall kobane raise serious question u.s. s wider campaign terror group still fly morning chill sight group s black flag could clearly see building inside city brazen display defiance face sustain airstrikes u.s. arab warplane dramatic escalation kobane see u.s. arab coalition carry sustain period bombing raid since campaign destroy islamic state northern syria start two week ago rear admiral john kirby pentagon press secretary say airstrikes not go enough save city amid grow concern without western ground troop send syria defeat isi prove near impossible task heavily outgunned kurdish defender say islamic state militant push two district kobane mainly kurdish border city 40,000 resident late last night washington say u.s. military arab partner nation respond isi renew assault carry eight air strike last night add city remain kurdish control britain-based syrian observatory human right morning say despite overnight airstrikes continue morning islamic state fighter manage capture police station east kobane control one third city</td>\n",
              "      <td>boko haram deny truce release kidnap schoolgirl</td>\n",
              "    </tr>\n",
              "    <tr>\n",
              "      <th>2159</th>\n",
              "      <td>hallucinogenic fungi find grow queen garden buckingham palace discover gardening expert alan titchmarsh television presenter unearth fungi buckingham palace itv gardening show call queen garden say eating that. titchmarsh come across red white spot toadstool — call amanita muscaria fly agaric — tour private 40-acre plot ecology expert professor mick crawley titchmarsh 65 asks itv show screen christmas day edible professor crawley reply depend mean eaten culture hallucinogenic affect also make people eat sick old-fashioned thing feed village idiot drink urine get high without sickness. titchmarsh jokingly reply think forgo stick normal mushrooms. add something try home. later tell sun newspaper surprise show varied specie eat though idea hard drug nurofen. new tv show titchmarsh explain gardener actively encourage mushroom toadstool say every time chop something leave wood rot. magic mushroom slang term hallucinogenic fungus common illegal form contain drug psilocybin suggestion grow palace garden last night palace spokesman tell sun avoidance doubt fungi garden use palace kitchens. new programme show viewer entire year life buckingham palace garden summer garden party nocturnal wandering wildlife heart london demonstrate gardener work tirelessly maintain queen flower bear mind wish see animal insect make welcome garden swap pesticide homemade garlic treatment titchmarsh explore bee hive home insect deposit royal mew help cultivate garden buckingham palace top tip gardener give insight queen taste programme broadcast itv christmas day also show garden use royal family generation king plant mulberry tree rival french young princess elizabeth margaret climb peer high garden wall sandpit use royal child film along oak tree plant decade ago young prince wale princess royal grown acorn sown event birth titchmarsh spend 12 month explore palace garden change season see finish calendar year christmas tree mount marble hall decorate holly mistletoe royal garden festoon festive golden crown</td>\n",
              "      <td>isis militant jihadi john identified as young west londoner</td>\n",
              "    </tr>\n",
              "    <tr>\n",
              "      <th>24691</th>\n",
              "      <td>militant group boko haram reportedly hold german hostage kidnap july group s leader also claim report ceasefire nigerian government lie nigeria boko haram abubakar shekau archiv nigerian militant group boko haram claim hold german hostage kidnap state adamawa northeastern nigeria earlier summer boko haram leader abubakar shekau make announcement video obtain news agency agence france presse shekau reportedly claim video group hold german hostage kidnapping occur july 16 town gombi northeastern nigeria german national reportedly teacher government training center german foreign ministry thus far refused comment video news come two german work nigeria construction company julius berger come attack gunman october 24. one shot dead take hostage later released german foreign minister frank-walter steinmeier nigeria past week conduct talks government business leader nigeria boko haram soll offenbar entführte mädchen freilassen violence additional kidnapping repeatedly overshadow negotiation release 200 abducted nigerian schoolgirl shekau claim ceasefire new video emerge violence continue cast doubt ceasefire negotiation nigerian government boko haram lead violent uprising northern nigeria since 2009. nigerian government say negotiation take place secure release 200 schoolgirl whose abduction last spring town chibok spark international outrage shekau reportedly claim video earlier claim ceasefire boko haram government false schoolgirls convert islam married negotiate anyone ... s lie s lie negotiate business negotiation allah say afp report shekau say married girl marital home shekau reportedly say video laugh nigeria part maintain conduct ceasefire negotiation discussion release kidnap girl neighbor chad suppose boko haram envoy danladi ahmadu shekau allegedly say video know danladi violence continue meanwhile triple bomb bus station city gombe friday kill least eight people wound 41. yet clear attack carry boko haram though group target commuter past angriff von boko haram im nordöstlichen stadt konduga nahe maiduguri nigeria thousand nigerian kill result boko haram uprising boko haram s insurgency characterize brutal campaign bombing shooting target christian church muslim mosque school market bar village police station un building estimate 5,000 nigerian kill 300,000 displace violence 2013 nigerian government declare state emergency northeastern state borno yobe adamawa amnesty international accuse nigerian military war crime include extrajudicial killing fight boko haram united nation human right watch also allege nigeria s security force commit human right abuse nigeria s population 177 million 50 percent muslim 40 percent christian muslim concentrate north christian south bw/jm afp dpa</td>\n",
              "      <td>boko haram could release kidnapped girls nigerian officials say</td>\n",
              "    </tr>\n",
              "    <tr>\n",
              "      <th>20951</th>\n",
              "      <td>baghdad iraq – islamic state isi incinerate corps five militant suspect contract ebola iraqi health official indicate faisal ghazi member health committee iraq council ministry say five incinerate mosul isi stronghold iraq islamic state organization incinerate five militant infect ebola prevent spread disease mosul say isi proof militant infect ebola add without give detail whether fighter die disease kill incinerated group un world health organization investigate case ebola mosul follow report militant ebola symptom report hospital city isi volunteer pour iraq syria around world include country africa</td>\n",
              "      <td>google grows with 1.6 billion california office deals</td>\n",
              "    </tr>\n",
              "    <tr>\n",
              "      <th>24124</th>\n",
              "      <td>follow report islamic state militant use chlorine gas attack iraqi security official duluiyah united state order probe matter national security council reportedly touch iraqi official gather information chemical attack accord washington post report 15 september 4:20 pm 11 iraqi police officer rush hospital emergency room balad struggle stand tear stream eye report note attack take place duluiyah security personnel member sunni jabbour tribe guard line north city exchange fire accord survivor s account security personnel surprise see isi fighter withdraw position soon explosion take place strange explosion saw yellow smoke sky lt. khairalla al-jabbouri 31 say wind carry fog toward line felt suffocated al-jabbouri say throwing could nt breathe official statement iraqi defence ministry also confirm isi use chlorine gas force statement however undermined attack say isi use chlorine primitive ineffective way back june isi capture al muthanna facility -- former iraq former leader saddam hussein store chemical weapon -- fear islamic state militant may carry chemical attack use crude bomb make use chlorine prof extend terror outfit ready go continue take allegation chemical weapon use — particular recent allegation regard use chlorine chemical weapon — seriously spokesman national security council alistair baskey tell new york time aware report confirm detail seek additional information use chlorine chemical weapon abhorrent act recent allegation underscore importance work eliminate chemical weapon volatile region baskey add report isi chlorine attack iraq come time report claim earlier last week islamic state militant use mustard gas kurdish fighter kobane middle-east review international affair meria journal even release trove photograph proof isi use chemical weapon</td>\n",
              "      <td>is militants kill 300 iraqi soldiers chlorine gas</td>\n",
              "    </tr>\n",
              "    <tr>\n",
              "      <th>13188</th>\n",
              "      <td>propaganda video release isi set range international response</td>\n",
              "      <td>david haines behead video confirm genuine uk pm cameron vow hunt isis monster</td>\n",
              "    </tr>\n",
              "    <tr>\n",
              "      <th>24234</th>\n",
              "      <td>lebanese authority hold daughter ex-wife head isi jihadist group abu bakr al-baghdadi interior minister say initially report wife son self-proclaimed caliph arrest november woman name saja al-dulaimi travel two son daughter interior minister nouhad mashnuq tell lebanese mtv channel late wednesday say dna test show girl baghdadi child dulaimi abu bakr al-baghdadi wife currently marry three time first man former iraqi regime two son say six year ago marry abu bakr al-baghdadi three month daughter marry palestinian pregnant child mr mashnuq add conducted dna test daughter show mother girl girl abu bakr al-baghdadi daughter base dna baghdadi iraq mr mashnuq say</td>\n",
              "      <td>islamic state leader s family detain lebanon official say</td>\n",
              "    </tr>\n",
              "    <tr>\n",
              "      <th>19966</th>\n",
              "      <td>new audio surface allegedly captures moment michael brown unarmed black teenager shot dead darren wilson white police officer aug. 9. cnn air unverified record monday night six shot hear follow pause several private autopsy perform aug. 17 request brown s family find 18-year-old shot 6 time include twice head man live near scene shooting say inadvertently record shot kill brown lawyer lopa blumenthal tell cnn man wish remain unidentified record video chat friend gunfire rang background blumenthal say client already interview fbi record brown shoot aug. 9 friend dorian johnson walk street stop wilson johnson say wilson attack brown shot 18-year-old try get away ferguson police claim brown attacked wilson say wilson injure altercation multiple witness say saw brown hand air shot police release footage aug. 15 say show brown rob convenience store cigarillo ferguson police chief thomas jackson say wilson aware brown suspect robbery stop teen though jackson later say wilson make connection course stop family s attorney accuse police try assassinate character michael brown divert attention death</td>\n",
              "      <td>new audio recording from ferguson may capture michael brown shooting</td>\n",
              "    </tr>\n",
              "    <tr>\n",
              "      <th>18922</th>\n",
              "      <td>robot increasingly replace human variety mundane task like bolt car together make lollipop move security business microsoft recently instal fleet 5-feet-tall 300-pound robot protect silicon valley campus robot pack hd security camera sensor take organic protein-based surroundings also artificial intelligence board sound alarm robot notice something awry also read license plat cross-reference see steal k5 robot come california company call knightscope call robot autonomous data machine provide command friendly presence. sound like something robot manufacturer would say let honest though robot look pretty damn cool like modern version r2-d2 thankfully—or sadly depend look it—the k5 robots weapon assess situation sound alarm defuse call human security officer scene however plan equip robot tasers sometime future microsoft new protector fairly autonomous single charge last 24 hour robot notice battery get low return charge port plug fully recharge 20 minute pretty insane plan one day expand use knightscope robot patrol street part human police unit even imagine would happen elon musk heard h/t extreme tech videos/photos © knightscope inc. 2014 www.knightscope.com article originally appear daily dot copyright 2014. follow daily dot twitter see also terrify robot develop google</td>\n",
              "      <td>report secret service lied about white house fence jumper</td>\n",
              "    </tr>\n",
              "    <tr>\n",
              "      <th>10889</th>\n",
              "      <td>midweek edition morning jolt say least ten isi fighter catch come across border rep. duncan hunter republican california seem like nut job prone wild exaggeration last night say something make jaws drop van susteren hold stop one second hunter go bombing american city come across mexico van susteren let ask question say come southern border change dynamic information come southern border hunter yes van susteren tell know hunter least ten isi fighter catch come across border texas van susteren know hunter ask border patrol greta van susteren border patrol let isis member come across border hunter catch border therefore know isi come across border catch five ten know go dozen get catch border patrol know risk isi radical islamist come across border navy air force nuclear weapon way americans go harm radical islam — chairman dempsey say thing say major threat guy go infiltrate america harm american add comment house democrat rep. tim bishop d. n.y. warn recent speech 40 radicalize u.s. citizen fight alongside islamic state iraq levant isil isi already return united state could pose terrorist threat bishop claim 100 american travel middle east join isil rank 40 return currently surveilled fbi accord remark film uploaded youtube last week one concern number u.s. citizen leave country go join isi bishop say speech believe number 100 do that. also believe 40 left country join isi return country bishop say elicit shocked response crowd threat isi terrorist cross southern border longer theoretical could administration really successfully cover something big</td>\n",
              "      <td>emotional sergeant-at-arms greet back parliament rouse stand ovation day heroically shoot dead terrorist first time use weapon 30 year career</td>\n",
              "    </tr>\n",
              "    <tr>\n",
              "      <th>9294</th>\n",
              "      <td>huntington beach cbsla.com — viral video homeless man buy food friend 100 give warm heart many 25 million people clicked donation come pour homeless man name thomas 130,000 donate around globe week josh paler lin youtube personality upload nearly five-minute video tell everyone within earshot heartwarming viral video real homeless man brother however say brother scammed meanwhile eyewitness filming also believe entire thing hoax eyewitness tell cbs2 stacey butler saw thomas lin car lin purport man know film video lin heard tell shooter make sure see you. homeless man brother also speak butler video homeless man track convenience store sell liquor buy food homeless people 100 give lin lin later confronts man give another 100 say assume go buy alcohol money believe generous friend another eight-minute video lin take thomas couple meal include shabu-shabu christmas eve provide hotel room surprise makeover lin insist none video stag scripted hit youtube channel join 2009 already estimate lin make 52,000 counting indiegogo fundraising page say set thomas lin channel also gain nearly 15,000 new fan critic already point thomas would walk least 34 minute liquor mart pass cheap supermarket along way also point homeless beg thomas rather blase reaction someone receive 100 stranger eyewitness film tell butler knew lin many prankster video say definitely saw thomas lin vehicle set-ups say taugan kadalim follow drive liquor store kadalim believe thomas 56 really homeless entire video stag think manner portrayed entire video deceitful kadalim say dishonest. thomas brother kevin nickel reach cbs2 right say surprising twist butler report say brother real name kenny nickel say brother alcoholic live parent die last summer. say brother arrest public intoxication put jail butler unable confirm arrest record brother also say kenny actually break due 150,000 parent estate sit money kevin say sure brother even aware indiegogo money collect behalf scam money need go people really need it. kevin fear brother manipulate get money use get help</td>\n",
              "      <td>after giving a homeless man 100 this guy secretly filmed him ...</td>\n",
              "    </tr>\n",
              "    <tr>\n",
              "      <th>9614</th>\n",
              "      <td>laptop sale continue drop apple s macbook air manage remain popular perform well year apple set launch 12-inch macbook air could apple s big product 2015. rumor quite time new laptop apple confirm late report mark gurman 9to5mac apple make number change macbook air remove redesign user know love machine apple prepare all-new macbook air 2015 radically new design jettisons standard full-sized usb port magsafe connector sd card slot say gurman new 12-inch macbook air say small 13-inch sibling bit thin 11-inch version also quarter-of-an-inch taller latter allow keep slightly big display bezel around display also reduce give front part machine brand new look much large proportion machine s usable area occupy display panel keyboard apple noticeably deviate standard keyboard macbook air cram key order decrease space key change include transfer power button upper left-hand corner leave side escape key removal travel track pad way keep laptop s slim build new macbook air also minimalist come port sport two namely headphone jack usb type-c port mean fan machine away thunderbolt connection magsafe charger however specs new usb indicate type-c support drive display device charge new usb type-c connector small faster capable standard usb 2.0 3.0 port exist computer add gurman apple yet make official announcement new macbook air laptop speculate ship mid-2015 expect use one new dual-core broadwell chip intel</td>\n",
              "      <td>congressman at least 10 isis fighter catch try cross us</td>\n",
              "    </tr>\n",
              "    <tr>\n",
              "      <th>5401</th>\n",
              "      <td>pentagon confirm ahmed abdi godane leader islamist militant group al-shabaab kill u air strike earlier week united state previously say strike inside somalia target godane know whether kill confirm ahmed godane co-founder al-shabaab kill say rear admiral john kirby pentagon press secretary describe major symbolic operational loss militant group align al-qaida al-shabaab fighting topple somalia western-backed government regularly launch bombing gun attack state target civilians godane death could lead internal power struggle wednesday u official say still investigate see whether strike al-shabaab encampment kill godane 37 reportedly trained taliban afghanistan least three strike hit convoy al-shabaab vehicle southern somalia monday night accord witness spokesman group speak later associate press al-shabaab representative say six al-shabaab fighter kill strike air raid come day african union au troop somali government force launch operation indian ocean major offensive aim seize key port al-shabaab cut one key source revenue multi-million dollar export charcoal au force target shabaab several front ugandan troop lead offensive main port barawe south capital mogadishu commander au somalia say death godane would proud happy moment africa godane passion poetry seize world attention year ago westgate mall attack nairobi leave least 67 dead warn kenya would suffer atrocity unless withdrew troop au force somalia withstand war attrition inside country say audio message post website link al-shabaab withdraw force prepare abundance blood spilt country. washington carry series drone missile strike past include attack reportedly target godane rarely confirm officially godane take leadership al-shabaab 2008 chief adan hashi ayro kill u missile strike also know mukhtar abu zubeyr godane al-shabaab spiritual leader whose direction somali militant forge alliance al-qaida 2012 u offer reward 7m £4.2m information lead arrest</td>\n",
              "      <td>updated 11 men 0 women tonight s espn domestic violence panel</td>\n",
              "    </tr>\n",
              "    <tr>\n",
              "      <th>18391</th>\n",
              "      <td>lego pamphlet 1974 unearthed post reddit weekend advice parent ring true 40 year later true true reddit fryd_ pamphlet authenticity question go viral weekend lego spokesman roar rude trangbæk confirm quartz document real included series lego dollhouses dollhouse figure look little strange photo lego iconic minifigure invented 1978 pamphlet contain product line regard lego dollhouse target primarily girls age four say phone interview u express always encourage creative play. lego become world big toymaker year due large part enormous success lego movie also draw criticism fan reliance license product star war franchise hollywood property struggle time appeal girl well boy one seven-year-old girl write letter company complain girl-oriented lego friend girls sit home go beach shop job boys go adventure work saved people job even swim sharks. trangbæk argue lego friend two year old along company many hollywood-themed toy share common dna classic lego set include 1974 dollhouse type play offer child material hand create whatever want say open box lego brick</td>\n",
              "      <td>spider burrows into australian man s appendix scar video</td>\n",
              "    </tr>\n",
              "    <tr>\n",
              "      <th>4840</th>\n",
              "      <td>dc toy collector high pay performer youtube make nearly 5 million last year unbox disney toy however little known woman-behind-the-hands popular youtube channel fact face never show video voice toy hand however recent report reveals true identity youtube hit identity somewhat shock former brazilian porn star behind wholesome disney video note early year disney collector woman film disney unbox video porn florida home daily mail report brazilian daiane dejeus also know sandy summer porn industry woman behind hit disney collector youtube videos reporter track information dejeus align public record information regard widely popular dc toy collector youtube channel track dejeus reporter speak family friend confirm daiane behind million dollar video dejeus go unfathomable measure ensure identity remain secret good reason target market youtube channel caters disney lover child family may remain viewer know owner secret dejeus disney fanatic also porn star go name sandy summer dejeus film numerous x-rated video adult film industry home film early dc toy collector feature family friend identify dejeus mystery unboxer note certain physical feature woman hand arm see many youtube video point tell-tale scar leave elbow mole elbow joint identical see summer many lingerie photo shoots. aside physical similarity former neighbor say dejeus unmistakable voice say many people street knew daiane childlike voice would recognize anywhere people street eventually knew to. would ever imagine popular dc toy collector video film house adult film porn star image credit youtube/ dc toy collector facebook/sandy summer</td>\n",
              "      <td>nigeria boko haram blame raid despite truce claim</td>\n",
              "    </tr>\n",
              "    <tr>\n",
              "      <th>8303</th>\n",
              "      <td>small town sit federal highway 95. short two-hour drive away mexico city iguala plague tragic triangulation gangster crook cop beleaguered government official saturday burn body 28 people believe miss student protester find mass grave outside city center student go miss september 25 protest hiring practice ayotzinapa normal school turn violent student know radical do battle police past time police officer reportedly open fire protester kill three however official student tell different story protest end student say attempt leave scene protest bus chase officer open fire whereas official say student commandeer bus force result violence investigate mass grave find video show police officer arrest take away undisclosed number student iguala door cartel-controlled tierra caliente territory gang recently burn four truck transport coca-cola ground opium trade still alive well area cartels—which rival one another drug sale act brutality—have implicate death 28 student several mobsters-turned-police tipster disclose location body police officer iguala link guerreros unidos gang include mayor chief security want arrest member guerreros unidos get start hitman division beltran leyva organization know extremely violent aggressive death public display behead victim mexico state prosecutor inaky blanco tell afp believe el chucky leader guerreros unidos ordered student murder security chief francisco salgado valladares directly ask assistance el chucky s men location bus thus far authority charge 22 police officer involvement crime well seven others blanco confirm whether body protest student believe expert need least 15 day identification process many body dismember charred beyond visual recognition</td>\n",
              "      <td>mass graves found in mexico near place where 43 students went missing</td>\n",
              "    </tr>\n",
              "    <tr>\n",
              "      <th>14881</th>\n",
              "      <td>gaza feb. 22 xinhua -- palestinian minister lash israel sunday open dam near border gaza strip flood central area besiege enclave huge amount water mufid al-hasaynah minister housing public work palestinian unity government tell xinhua israel deliberately increase suffer gazans dozen house fill water israeli dam largely open morning towards gaza strip action double people s suffer live tight israeli siege say minister early sunday rescue team firefighter rush central area gaza strip rescue dozen palestinians stuck house israel open dams witness say bulldozer bring sand reduce amount water cover house area several main road street close due flood gaza-based ministry interior say emailed press statement civil defense team rescue 18 family home fully covered water come israeli side mohamed abu shamallah head gaza civil defense say level water area central gaza strip grow three meter half</td>\n",
              "      <td>new audio shows michael brown was shot 11 times</td>\n",
              "    </tr>\n",
              "    <tr>\n",
              "      <th>2468</th>\n",
              "      <td>warn graphic image 22-year-old man macedonia chop penis girlfriend end relationship criticised performance bed oliver ilic kocani tell doctor girlfriend complained size penis lead mutilate razor blade mr ilic way hospital photo europics unable stem bleed mr ilic contact emergency service take local hospital police find sever penis bin mr ilic transfer hospital macedonian capital skopje underwent five-hour operation reattach penis doctor say early tell whether operation successful whether mr ilic would regain full use penis</td>\n",
              "      <td>london hip-hop artist abdel-majed abdel bary key suspect hunt killer american journalist james foley</td>\n",
              "    </tr>\n",
              "    <tr>\n",
              "      <th>17570</th>\n",
              "      <td>isi terrorist release video purportedly show behead american freelance photojournalist james wright foley go miss thanksgiving day 2012. foley 40-year-old new hampshire native kidnap gunpoint internet café syria isi threaten steven sotloff—another freelance reporter miss since august 2013 write numerous publication time christian science monitor foreign policy—will also execute depend obama next decision regard u.s. military strike isis iraq graphic video foley force read letter encourage american rise real killer — u.s. government add u.s. airstrikes isi hammer final nail coffin. apparently executor heard video speak english british accent</td>\n",
              "      <td>james foley american journalist james wright foley beheaded new isis video breaking news</td>\n",
              "    </tr>\n",
              "    <tr>\n",
              "      <th>24497</th>\n",
              "      <td>quite recent news j j abrams reportedly say visual effect society award 2015 may release extremely anticipated film star war episode vii — force awakens instead winter may move film line summer release extremely brave move true put star war film like avenger 2 age ultron ant-man long await jurassic world would win summer box office happen opinion star war get strong chance box office move summer release would big film come summer mean s hobbit compete december move summer box office championship box office championship j j s big reason report star war plot leak picture character send little scare would leak therefore make film predictable worth watch example one photo give away lot instance nt want spoiler look away sorry j j sorry j j instance 5 figure reveal character s kylo ren rey fin bb-8 show u kylo ren ol crossguard look like outer cloak remove see picture leak could see han leia luke c3po etc like film see company make trailer would ruin surprise disney owner new star war franchise take j j s thought consideration deep thought could get film release lot earlier think go see bad thing though ... get wish get see star war 7 6 month think go wo nt disney panic think blockbuster come december would order toy design trailer etc later year perhaps paranoia disney j j lot work get do want merchandise etc come alongside star war summer gather basis information votesaxon07 part follow nerd s great youtuber want see information watch video also news frozen fever a.t.o.m suit deadpool movie news awesome snip-its thanks read guy hope gain information enjoy reading opinion topic thanks votesaxon07 follow nerd awesome news</td>\n",
              "      <td>star wars the force awakens release summer</td>\n",
              "    </tr>\n",
              "    <tr>\n",
              "      <th>4351</th>\n",
              "      <td>rep. duncan hunter r-ca tell greta van susteren tonight ten isi fighter cross border mexico america greta van susteren say come southern border change dynamic information evidence actually come southern border rep. hunter yes greta tell know rep. hunter know least ten isi fighter catch come across southern border texas via record september rep. jason chaffetz r-ut also say four know terrorist apprehend u border texas still hold</td>\n",
              "      <td>macaulay culkin dead the death hoax child actor</td>\n",
              "    </tr>\n",
              "    <tr>\n",
              "      <th>15309</th>\n",
              "      <td>online report jihadi palestinian forum claim gill rosenberg capture islamic state group embattle town kobani gill rosenberg israeli-canadian joined kurdish force battle radical islamic state terror group reportedly take captive group unconfirmed report claim rosenberg 31 civil aviation pilot enlist israeli army search-and-rescue unit arrested 2009 extradite united state jail international phone scam one former lawyer say rosenberg say make contact kurd facebook ask allow join kurdish people s protection unit commonly know ypg facebook page rosenberg share plan mission syria two month advance uploaded picture jerusalem show israeli flag next islamic state flag continue post image november 1 final day israel later post picture queen alia international airport amman jordan erbil international airport kurdistan november 9 uploaded image kurdish region syria write idf israeli army say aharai let s show isis islamic state mean friend write take care friend one strong woman ll destroy islamic state source kurdistan region knowledge issue say rosenberg first foreign woman join ypg kurd dominant fight force northern syria cross syria one around 10 westerner recruit ypg source say rosenberg could reach reuters comment source provide iraqi kurdistan cellphone number turn tuesday michal margalit contribute report</td>\n",
              "      <td>man chop penis girlfriend tell good bed</td>\n",
              "    </tr>\n",
              "    <tr>\n",
              "      <th>20078</th>\n",
              "      <td>shoot national war memorial ottawa ctv news confirm ctv news katie simpson war memorial ottawa wednesday morning witness passersby attend someone shot police say man believe member canadian force shoot memorial also report shot fire inside parliament hill come ...</td>\n",
              "      <td>purported isis claim jordan airstrike kill female us hostage</td>\n",
              "    </tr>\n",
              "    <tr>\n",
              "      <th>3649</th>\n",
              "      <td>fidel castro dead yes man name fidel castro die famous castro might think prospect leader cuba might die circulate internet rumor claim fidel castro death suppose announce official conference accord castro health rumor already cuba denied rumor related report inquisitr claim ian fleming author famous james bond series help former president kennedy hatch fidel castro assassination plot accord el nuevo herald rumor claim fidel castro dead man name fidel castro odinga son important politician kenya die weekend age 14 year old castro odinga son raila odinga main opposition leader kenya consider possible successor father possible death name confuse many user twitter begin spread word suppose death cuban leader. kenyan police currently investigate odinga death headline may encourage rumor cuban leader accord laiguana tv also possible blog yusnaby perez may spark rumor claim fidel castro dead public many month strange first year since remember anniversary revolution fidel appear. thursday mark year since former cuban president make public appearance castro apparently receive foreign dignitary home havana comment publicly recent change cuba united state announce december 17 2014. rumor increase even italian newspaper corriere della serum report fidel castro death newspaper quickly retract report allege news castro go viral rumor several medium outlet venezuela cuba claim cuban government plan call press conference discus fidel castro heath condition official international press centre cpi department cuban foreign ministry serve foreign medium say rumor false say false press conference convene no. addition castro influential nephew alejandro castro espin currently greece told radio station uncle good health reason speculate castro death</td>\n",
              "      <td>priest dies wakes up claims god is woman huh</td>\n",
              "    </tr>\n",
              "    <tr>\n",
              "      <th>15035</th>\n",
              "      <td>poverty-stricken parent take street auction son high bidder reason need money pay cancer treatment save life twin sister little girl acute leukemia parent tell would die without urgent medical treatment horrify sad photo show 29-year-old meng xiangyan mom twin street eastern china say year ago wonderful family think everything could need wonderful little boy wonderful little girl twin change daughter diagnose suffer leukaemia august last year spend saving borrow everything could friends relative family sell apartment everything live tiny flat near medical center treat thier daughter still nt enough hop raise cash sale son</td>\n",
              "      <td>video show american journalist behead believed real official family say</td>\n",
              "    </tr>\n",
              "    <tr>\n",
              "      <th>9131</th>\n",
              "      <td>hoax report file website nationalreport.net claim infamous artist arrest london raid art studio website – describe america s no.1 independent news source – say man name paul horner liverpool nick even cheek say bbc representative bansky confirm news complete tale quote london police chief lyndon edward apparently hold press conference announce arrest press conference apparently attend reporter tv crew hoax false report claim banksy arrest nationalreport hilariously article write one darius rubics numerous award journalism include peabody award pulitzer prize despite ludicrous nature article fell hook line sinker former tory mp louise mensch never shy share opinion world say kid metpoliceuk banksy many criminal banksy great artist later apologise dupe many problem hoax ve decided list best one – article claim banksy liverpool know evidence strongly suggest bristol – article darius rubics include dennis rodman leave u talk leader isis obama declares november national muslim appreciation month – london police chief lyndon edward nt exist top cop london sir bernard hogan howe – article suggest banksy nick watford actually fall catchment hertfordshire police – britain police release mugshot people arrest – banksy s pr jo brook despite apparently quote original story tweet say hoax</td>\n",
              "      <td>in vogue v rats war rats are winning</td>\n",
              "    </tr>\n",
              "    <tr>\n",
              "      <th>17835</th>\n",
              "      <td>sept. 8 u.s. department defense news article talk success airstrikes iraq mention question medium — answer — leader isi abu bakr al-baghdadi article response question report deaths isil leader abu bakr al-baghdadi advisor air strike pentagon spokesman army col. steve warren say u.s. conduct targeted airstrikes specific isil personnel hope dead certainly hope dead conducted strike say every terrorist kill air one less terrorist ground colonel add warren also say talk airstrikes isi certainly isil force realize american airpower deploy chance survival go nil. read whole article article associate press gazette website say u.s. president barack obama address nation wednesday night outline plan expand u.s. effort confront isi iraq syria – jillian</td>\n",
              "      <td>at cbs detroit fan site scuttlebutt is enough publish batmobile rumor</td>\n",
              "    </tr>\n",
              "    <tr>\n",
              "      <th>23042</th>\n",
              "      <td>sydney girlfriend michael phelps reveal born brought man report say thursday taylor lianne chandler date 29-year-old u swimmer month write long post facebook page nov 14 reveal bear intersex name david roy fitch birth bear male genitalia testicle also uterus ovary 41-year-old tell radar online interview also say always felt like woman underwent surgery teens become one post say date many celebrity none know past chandler meet phelps date app tinder olympian arrest drink drive sep 30. suspend competition check rehabilitation facility october chandler say tell phelps complicate past emailed arrest never lie chandler say together short period time never chance tell life also tell radar online intimacy felt phelps amaze first time someone make feel like real woman say s clear still together rehabilitation michael brand date someone like may best thing tell radar online hope follow heart people tell tabloid magazine national enquirer feature chandler cover headline michael phelps new girlfriend bear man lash social medium object call man chuimin sph.com.sg</td>\n",
              "      <td>saudi cleric condemns snowman anti-islamic</td>\n",
              "    </tr>\n",
              "    <tr>\n",
              "      <th>11936</th>\n",
              "      <td>story english teacher lucita sandoval affair 16-year-old student go viral video allegedly show two sex leak video question porn website feature woman college student local newspaper find salacious sex tape argentinian teacher affair 16-year-old student likely nothing internet hoax argentinian newspaper debunk racy story actual tape may real feature woman college student ― teacher pupil nuevo diario report story teacher lucita sandoval go viral video allegedly show 26-year-old sex underage student school city santiago del estero scandalous story maintain boy film without consent share 23-minute clip friend whatsapp story rapidly spread throughout latin america pick even steam english wire service report woman video teacher ― boy college student santiago del estero newspaper find tape real appear porn website real woman appear clip identify friend different argentine city corrientes newspaper report teaching degree employ school question newspaper track man video well age 16 college unclear lucita sandoval real teacher victim online hoax entirely made-up person</td>\n",
              "      <td>teacher sex tape expose fake internet detective trace origin pornographic clip</td>\n",
              "    </tr>\n",
              "    <tr>\n",
              "      <th>21433</th>\n",
              "      <td>victor go spoils tiger wood winner 14 major golf championships one richest athletes planet spoil include among thing private island sweden wood expect make 2015 debut phoenix open later month put 62-acre island near stockholm market 7.1 million hot property tiger wood caption hot property tiger wood vladi private islands/www.vladi-private-islands.de caption hot property tiger wood vladi private islands/www.vladi-private-islands.de caption hot property tiger wood vladi private islands/www.vladi-private-islands.de caption hot property tiger wood vladi private islands/www.vladi-private-islands.de caption hot property tiger wood vladi private islands/www.vladi-private-islands.de situate lake mälaren private island feature villa hunt lodge guest quarter horse stable dock land strip propeller plane well structure historical significance 11th century viking stronghold main villa fashion log cabin style span 2,475 square foot chef kitchen din area living room fireplace adjacent villa spa pool build around rock outcrop elsewhere ground six golf tee box lrelated pga golfer jim furyk ask 6 million maui estate hot property pga golfer jim furyk ask 6 million maui estate see relate 8 two small island 494-acre water area hunt fishing include sale include furniture property market unfurnished accord vladi private island real estate agency hold list wood whose career earnings eclipse 1.3-billion mark last year announce would take part waste management phoenix open start jan. 29 follow torrey pine la jolla february limit seven pga tour event last year due injury</td>\n",
              "      <td>axl rose dead of course not — tiresome internet death hoax plague hits guns n roses frontman</td>\n",
              "    </tr>\n",
              "  </tbody>\n",
              "</table>\n",
              "</div>"
            ],
            "text/plain": [
              "                                                                                                                                                                                                                                                                                                                                                                                                                                                                                                                                                                                                                                                                                                                                                                                                                                                                                                                                                                                                                                                                                                                                                                                                                                                                                                                                                                                                                                                                                                                                                                                                                                                                                                                                                                                                                                                                                                                                                                                                                                                                                                                                                                                                                                                                                                                                                                                                                                                                                                                                                                                                                                                                                                                                                                                                                                                                                                                                                                                                                                                                                                                                                                                                                                                                                                                                                                                                                                                                                                                                                                                                                                                                                                                                                                                                                                                                                                                                                                                                                                                                                                                                                                                                                                                                                                                                                                                                                                                                                                                     lemmatized_body_string                                                                                                                      lemmatized_headline_string\n",
              "1325                                                                                                                                                                                                                                                                                                                                                                                                                                                                                                                                                                                                                                                                                                                                                                                                                                                                                                                                                                                                                                                                                                                                                                                                                                                                                                                                                                                                                                                                                                                                                                                                                                                                                                                                                                                                                                                                                                                                                                                                                                                                                                                                                                                                                                                                                                                                                                                                                                                                                                                                                                                                                                                                                                                                                                                                                                                                                                                                                                                                                                                                                                                                                                                                                                                                                                                                                                                                                                                                                                                                                 45 year old mexican/american bear de la cruz sinaloa make name incredible rehabilitation training technics wit dog duty professionally write three book topic cesar way pack leader member family reach worldwide popularity tv series dog whisperer name would new way people know died morning santa clarita hospital california millan hospitalize yesterday afternoon medical report indicate suffer fulminate heart attack paralyze heart unavailable blood reach brain vital organ situation witch cause death humanitarian man year open foundation cesar millan foundation jada pinkett smith wife smith vice-president sad news millan death give wife jahira dar news conference couple hour ago se say medium hope understand lose would appreciate give u space mourn uncertain de detail funeral never less body cesar millan expect ship back mazatlan sinaloa bury next grandfather plant love animal especially dog definitely big lose ever rest peace cesar millan…                                                                              tim cook reportedly reveals apple watch waterproofing has improved \n",
              "20978                                                                                                                                                                                                                                                                                                                                                                                                                                                                                                                                                                                                                                                                                                                                                                                                                                                                                                                                                                                                                                                                                                                                                                                                                                                                                                                                                                                                                                                                                                                                                                                                                                                                                                                                                                                                                                                                                                                                                                                                                                                                                                                                                                                                                                                                                                                                                                                                                                                                                                                                                                                                                                                                                                                                                                                                                                                                                                                                                                                                                                                                                                                                                                                                                                                                                                                                                                                                                                                                                                                                     reuters mysterious late-night blast nicaraguan capital managua leave crater 12 meter 40 foot wide likely cause meteorite government scientist say sunday loud explosion occur around 11 p.m. saturday outskirts managua near airport say wilfried strauch nicaraguan institute earth study ineter interview government tv channel one injured strauch say nicaragua ask united state expert help investigate event pick seismic sensor evidence ve confirm on-site corresponds exactly meteorite type event say jose millan also ineter firstly seismic register coincides time impact typical characteristic produce cone place impact strauch say able determine composition suppose meteorite sure whether disintegrated hit ground remain buried need celebrate fact fell area thank god nt cause danger population millan say nicaragua 20 volcano regularly shake earthquake many local initially think quake cause loud bang report ivan castro write gabriel stargardter edit eric walsh                                                                                       zack snyder kills stolen batmobile rumor with great photo \n",
              "11080                                                                                                                                                                                                                                                                                                                                                                                                                                                                                                                                                                                                                                                                                                                                                                                                                                                                                                                                                                                                                                                                                                                                                                                                                                                                                                                                                                                                                                                                                                                                                                                                                                                                                                                                                                                                                                                                                                                                                                                                                                                                                                                                                                                                                                                                                                                                                                                                                                                                                                                                                                                                                                                                                                                                                                                                                                                                                                                                                                                                                                                                                                                                                                                                                                                                                                                                                                                                                                                                                                 north korean despot kim jong-un guzzling pint pint snake wine body dead cobra bottle – vain attempt restore life genitals may see year due vast bulk local believe meaty brew increase size man manhood – improve chance pregnancy kim pile enormous amount weight binge emmenthal cheese johnnie walker whisky 31-year-old struggle father child lucky young wife ri joi-su 22. kim believe glugging litre wine mixed rot flesh venom could ticket restore virility father sibling daughter ju-ae two kim jong-un north korean leader walk unaided follow lengthy absence one south korean ex-pat say elite country joke big please wife children. one senior official say kim drinking many bottle snake wine help bedroom department. jong-un first expose emmenthal study switzerland young man fondness cheese say rapidly escalate dependence ballooning weight think result daily binge cheese use fondue gratins raclettes sandwich something photo kim jong-un quite right kim jong-un hiding due emmental cheese addiction                                                                                              video show isil behead photojournalist james foley \n",
              "19183                                                                                                                                                                                                                                                                                                                                                                                                                                                                                                                                                                                                                                                                                                                                                                                                                                                                                                                                                                                                                                                                                                                                                                                                                                                                                                                                                                                                                                                                                                                                                                                                                                                                                                                                                                                                                                                                                                                                                                                                                                                                                                                                                                                                                                                                                                                                                                                                                                                                                                                                                                                                                                                                                                                                                                                                                                                                                                                                                                                                                                                                                                                                                                                                                                                                                    pope francis suggest recently even animal place heaven try soothe young boy public appearance vatican s st. peter s square paradise open god creature tell boy whose dog die recently make comment weekly general audience vatican st. peter s square analysis pope francis turn heat church s future — behind closed door vatican spark controversy say gay couple gift quality analysis rock star pope francis really launch revolution one day see animal eternity christ say leader catholic church accord italian news source significant pivot position hold francis s predecessor pope benedict xvi 2008 say animal dy mean end existence earth. francis consistently make headline sometimes controversial remark since assume papacy 2013. vatican observer call radical open-mindedness desire reach grassroots catholic life 77-year-old leader world s one billion roman catholic adopt liberal position predecessor stir tension conservative catholic issue homosexuality single motherhood one instance july 2013 francis strike compassionate tone speak homosexuality person gay seek god good judge say reporter flight return vatican brazil francis s papal name come st. francis assisi church s patron saint animal ecology                                                                                                                    kim had ankle surgery source \n",
              "6689                                                                                                                                                                                                                                                                                                                                                                                                                                                                                                                                                                                                                                                                                                                                                                                                                                                                                                                                                                                                                                                                                                                                                                                                                                                                                                                                                                                                                                                                                                                                                                                                                                                                                                                                                                                                                                                                                                                                                                                                                                                                                                                                                                                                                                                                                                                                                                                                                                                                                                                                                                                                                                                                                                                                                                                                                                                                                                                                                                                                                                                                                                                                                                                                                                                                                                                                                                                                                                                                                                                                                                  prominent religious scholar saudi arabia reportedly issue fatwa build snowman kingdom state practice acceptable islam mohammad saleh al minjed say people must build snowman snow model animal accord gulf news however make snow model lifeless thing ship fruit building apparently acceptable islam scholar say permitted make statue snow even way play fun reportedly say god give people space make whatever want soul include tree ship fruit building add date set implementation fatwa government comment cleric saudi arabia entitle issue fatwa basis saudi law immediate reaction social medium story value tradition fascinate west emulate invention science culture one unnamed blogger say another state snow fleet day maybe even hour always someone want rob u joy fun seem thing leave u sit drink coffee saudia arabia second hot country world kingdom hit snowstorm month notably tabuk region around 1000 kilometre northwest capital riyadh                                                                            jeh johnson shoot duncan hunter s assertion is enter u.s. via mexico \n",
              "24681                                                                                                                                                                                                                                                                                                                                                                                                                                                                                                                                                                                                                                                                                                                                                                                                                                                                                                                                                                                                                                                                                                                                                                                                                                                                                                                                                                                                                                                                                                                                                                                                                                                                                                                                                                                                                                                                                                                                                                                                                                                                                                                                                                                                                                                                                                                                                                                                                                                                                                                                                                                                                                                                                                                                                                                                                                                                                                                                                                                                                                                                                                                                                                                                                                                                                                                                                                                                                                                                                                                                                                                                                                                                                                                                                                                                                                                                                                                                                                                                                                         one passenger dull international airport outside washington d.c. apparently take chance female passenger dress hazmat suit — complete full body gown mask glove — spot wednesday wait flight airport another traveler snap photo woman provide daily caller thomas eric duncan first person diagnose ebola american soil layover dulles last month travel west africa texas die last week health official say passenger airport risk exposure ebola duncan symptomatic time flight see photo                                                                                   updated 11 men 0 women tonight s espn domestic violence panel \n",
              "6306                                                                                                                                                                                                                                                                                                                                                                                                                                                                                                                                                                                                                                                                                                                                                                                                                                                                                                                                                                                                                                                                                                                                                                                                                                                                                                                                                                                                                                                                                                                                                                                                                                                                                                                                                 nigeria s military say agree ceasefire islamist militant boko haram schoolgirl group abduct release nigeria s chief defence staff alex badeh announce truce boko haram make public statement group fight insurgency since 2009 2,000 civilian reportedly kill year boko haram spark global outrage six month ago abduct 200 schoolgirls girl seize north-eastern town chibok borno state continue captivity lead criticism nigerian government s effort secure release member bring back girl campaign say tweet friday monitoring news huge expectation cautiously optimistic air chief marshal badeh reveal truce close three-day security meeting nigeria cameroon say nigerian soldier would comply agreement nigerian presidential aide hassan tukur tell bbc focus africa agreement seal month negotiation mediate chad part talk government delegation twice meet representative islamist group mr tukur say boko haram announce unilateral ceasefire thursday government respond ve assure u girl release say cautiously optimistic say arrangement release would finalise another meeting next week chad s capital ndjamena negotiation say bless boko haram leader abubakar shekau report bbc s chris ewokor abuja speak bbc nigerian government spokesman mike omeri say boko haram would give territory ceasefire agreement government would reveal concession would make inch close release group captivity include chibok girl say analysis ross bbc news lagos nigerian official give indication negotiation boko haram take place even though rumour talk neighbour chad surprising development many nigerian extremely sceptical announcement especially definitive word jihadists military past release statement conflict north-east nigeria turn completely odds situation ground many celebrate violence stop hostage free may 2013 president goodluck jonathan impose state emergency northern state borno yobe adamawa vow crush islamist insurgency boko haram increase attack year group promote version islam make haram forbidden muslim take part political social activity associate western society frequently attack school college see symbol western culture boko haram boko haram profile boko haram leader abubakar shekau human right watch report 2,053 civilian kill first half year amnesty international estimate 4,000 people kill violence include nigerian military operation first seven month 2014. boko haram seek establish islamist state nigeria fighter often cross long porous border cameroon eight cameroon soldier 100 boko haram militant kill fight far north cameroon friday reuters quote country s defence ministry say july cameroon nigeria chad niger agree form 2,800-strong regional force tackle boko haram militant                                                                                 boko haram could release kidnapped girls nigerian officials say \n",
              "12981                                                                                                                                                                                                                                                                                                                                                                                                                                                                                                                                                                                                                                                                                                                                                                                                                                                                                                                                                                                                                                                                                                                                                                                                                                                                                                                                                                                                                                                                                                                                                                                                                                                                                                                                                                                                                                                                                                                                                                                                                                                                                                                                                                                                                                                                                                                                                                                                                                                                                                                                                                                                                                                                                                                                                                                                                                                                                                                                                                                                                                                                                                                                                                                                                                                                                                                                                                                                                                                                                                 north korean despot kim jong-un guzzling pint pint snake wine body dead cobra bottle – vain attempt restore life genitals may see year due vast bulk local believe meaty brew increase size man manhood – improve chance pregnancy kim pile enormous amount weight binge emmenthal cheese johnnie walker whisky 31-year-old struggle father child lucky young wife ri joi-su 22. kim believe glugging litre wine mixed rot flesh venom could ticket restore virility father sibling daughter ju-ae two kim jong-un north korean leader walk unaided follow lengthy absence one south korean ex-pat say elite country joke big please wife children. one senior official say kim drinking many bottle snake wine help bedroom department. jong-un first expose emmenthal study switzerland young man fondness cheese say rapidly escalate dependence ballooning weight think result daily binge cheese use fondue gratins raclettes sandwich something photo kim jong-un quite right kim jong-un hiding due emmental cheese addiction                                                                                                    priest dies wakes up claims god is woman huh \n",
              "12594                                                                                                                                                                                                                                                                                                                                                                                                                                                                                                                                                                                                                                                                                                                                                                                                                                                                                                                                                                                                                                                                                                                                                                                                                                                                                                                                                                                                                                                                                                                                                                                                                                                                                                                                                                                                                                                                                                                                                                                                                                                                                                                                                                                                                fbi reportedly investigate new audiotape allegedly capture shoot michael brown accord cnn tape hear sound like least 10 shot fire significant pause separate shoot two segment cnn s lemon say news network nt confirm tape s authenticity michael brown shot least six time accord autopsy lopa blumenthal missouri-based attorney unidentified man unknowingly capture shoot video-chatting friend claim cnn tape show ferguson officer darren wilson point contemplation fire final volley shot man record audio apartment talk friend video chat blumenthal say heard loud noise time nt even realize import hearing afterwards happen capture 12 second transpired outside building concerned pause say s number gunshot s re fire huge relevance case might finally end nt clear whether blumenthal direct connection brown case retire chief deputy u.s. marshall matthew fog speak cnn hearing tape say sound like pause audio hear pause bring concern tape appear draw interest benjamin crump attorney michael brown s family retweeted tweet wednesday night cnn viewer say audio recording shoot release played cnn lemon least 5 xs interest prof alot sic mashable reach blumenthal crump comment update post hear back l police ferguson wear riot gear walk toward man hand raise monday r u.s. soldier mosul iraq search house-by-house illegal weapon january 20 2005 l st. louis county tactical police fire tear gas along west florissant road ferguson r grenade explodes close u.s. army humvee clash mosul iraq june 13 2003 l police take position control demonstrator protest kill michael brown ferguson tuesday r u.s. army soldier patrol village kandahar afghanistan february 27 2014 l police officer look scope rifle get position control demonstrator ferguson tuesday r u.s. marine sniper prepares fire insurgent town kusaiybah syrian-iraqi border october 27 2005 l missouri state highway patrol tactical vehicle travel south florissant road ferguson monday r u.s. army mine resistant ambush protect mrap vehicle park entrance u.s. outpost khost afghanistan june 28 2011 l police prepare encounter demonstrator ferguson tuesday r u.s. soldier point sniper s position come fire offensive operation najaf iraq august 15 2004. something add story share comment                                                                                               kim jong-un drink rare snake wine boost love life \n",
              "15633                                                                                                                                                                                                                                                                                                                                                                                                                                                                                                                                                                                                                                                                                                                                                                                                                                                                                                                                                                                                                                                                                                         nigeria say struck cease-fire deal boko haram raise hope 200 schoolgirl kidnap militant group release mystery continue surround identity interlocutor side negotiation nigerian official say deal reach chad friday talk saudi arabia-based boko haram representative name danladi ahmadu name take many surprise include people involve previous negotiation boko haram fail find anyone ever hear bbc nigeria correspondent write ve tried verify authenticity person source traditionally close boko haram militant get negative feedback editor nigerian news site sahara reporter tell worldpost email ahmad salkida nigerian journalist consider close boko haram s leader say believe ahmadu part group leadership speak group challenge danladi ahmadu open debate sic interest nigeria heart salkida write twitter mike omeri nigerian government s spokesperson boko haram insurgency tell worldpost saturday government confident negotiate right guy talk happen one sunny morning ... approach president chad confident ahmadu identity connect president nigeria omeri say fact contact come nigeria neighbor give u confidence chad confirm acting mediator talk free girl kidnap nigerian village chibok april since nigerian president goodluck jonathan visit chad last month rumor grow nigeria s government quietly negotiate girl release via neighbor immediately clear long talk take place boko haram s leadership comment cease-fire meanwhile ahmadu purportedly make least two statement recent day friday give interview voice america hausa-language service mention kidnap schoolgirl vague detail cease-fire agence france-presse report news agency also note ahmadu refer militant group boko haram name use outsider insurgent saturday sahara reporter say correspondent northeastern nigerian city maiduguri obtain cd record another statement ahamdu time precise girl take chibok want free girl get justice nigerian state many member business premise destroy kill others detention many oppression ahmadu say accord translation hausa sahara reporter news site editor say remain skeptical identity part deal omeri say talk take place chad week address release schoolgirls omeri add militant motivated wish reintegrate society work towards peace order chance return normal thing -- example many business say ask whether nigeria would consider release capture boko haram militant exchange girl omeri say every asset direct towards girl release everything possible do day free say boko haram want peace ready intend implement add cease-fire announce suspected boko haram militant continue attack community northeast nigeria leave several dozen dead weekend omeri insist violence would deter negotiation suggest militant remote area may hear cease-fire attack could perpetrate criminal opportunist rather boko haram member boko haram deeply fracture accord risk consultancy stratfor quote reuters sunday nigeria s government difficult time identify boko haram representative could make compromise guarantee entire group observe stratfor say quite possible abuja reach agreement legitimate representative specific cell ... hold kidnap schoolgirl captive group add kidnap girl hometown community hardly dare hope girl might finally return nt know true prove say bana lawan chairman chibok local government area tell associate press                                                                                               cook say confirm apple watch showerproof last day \n",
              "7490                                                                                                                                                                                                                                                                                                                                                                                                                                                                                                                                                                                                                                                                                                                                                                                                                                                                                                                                                                                                                                                                                                                                                                                                                                                                                                                                                                                                                                                                                                                                                                                                                                                                                                                                                                                                                                                                                                                                                                                                                                                                                                                                                                                                                                                                                                                                                                                                                                                                                                                                                                                                                                                                                                                                                                                                                                                                                                                                                                                                                                                                                                                                                                                                                                                                                                                                             nicaragua s government say mysterious boom heard capital make small meteorite leave crater wooded area near managua s airport government spokeswoman rosario murillo say sunday committee form government study event determine relatively small meteorite appear come asteroid pass close earth murillo say nicaragua would ask international expert help local scientist understand happen crater leave meteorite radius 12 metre 5 metre deep say humberto saballos volcanologist nicaraguan institute territorial study committee say still clear meteorite disintegrate bury humberto garcia astronomy centre national autonomous university nicaragua say meteorite could relate asteroid forecast pas planet saturday night study could ice rock say wilfried strauch adviser institute territorial study say strange one report streak light ask anyone photo something local resident report hear loud boom saturday night say see anything strange sky sit porch saw nothing sudden heard large blast think bomb felt expansive wave jorge santamaria tell associated press site crater near managua s international airport air force base journalist state medium allow visit                                                        ebola frisco 2014 patient shows virus symptoms after apparent thomas eric duncan contact \n",
              "21607                                                                                                                                                                                                                                                                                                                                                                                                                                                                                                                                                                                                                                                                                                                                                                                                                                                                                                                                                                                                                                                                                                                                                                                                                                                                                                                                                                                                                                                                                                                                                                                                                                                                                                                                                                                                                                                                                                                                                                                                                                                                                                                                                                                                                                                                                                                                                                                                                                                                                                                                                                                                                                                                                                                                                                                                                                                                                                                                                                                                                                                                                                                                                                                                                                                                                                                                                                                                                                                                                                                                                                                                                                                                                                                                                                                                                                                                                                       ever since wife ruby s death 2003 widower stan beaton treasure outgo voicemail message record phone -- much refuse change phone company fear might lose way could still hear sound voice december message lose service upgrade leave 68-year-old brit absolutely devastate also extremely angry accord bbc contact virgin medium see could retrieve -- help nearly dozen engineer -- video beaton receive news record recover emotional teary-eyed reaction could nt heartwarming s wonderful wonderful sound think lose forever say h/t buzzfeed keep touch check huffpost wedding facebook twitter pinterest sign newsletter                                                                   texas plumber is nt sure how extremists in syria ended up with his work truck \n",
              "1333                                                                                                                                                                                                                                                                                                                                                                                                                                                                                                                                                                                                                                                                                                                                                                                                                                                                                                                                                                                                                                                                                                                                                                                                                                                                                                                                                                                                                                                                                                                                                                                                                                                                                                                                                                                                                                                                                                                                                                                                                                                                                                                                                                                                                                                                                                                                                                                                                                                                                                                                                                                                                                                                                                                                                                                                                                                                                                                                                                                                                                                                                                                                                                                                                                                                                                                                                                                                                                                                                                                                                 45 year old mexican/american bear de la cruz sinaloa make name incredible rehabilitation training technics wit dog duty professionally write three book topic cesar way pack leader member family reach worldwide popularity tv series dog whisperer name would new way people know died morning santa clarita hospital california millan hospitalize yesterday afternoon medical report indicate suffer fulminate heart attack paralyze heart unavailable blood reach brain vital organ situation witch cause death humanitarian man year open foundation cesar millan foundation jada pinkett smith wife smith vice-president sad news millan death give wife jahira dar news conference couple hour ago se say medium hope understand lose would appreciate give u space mourn uncertain de detail funeral never less body cesar millan expect ship back mazatlan sinaloa bury next grandfather plant love animal especially dog definitely big lose ever rest peace cesar millan…                                                 eye-catching rare sight anna wintour without trademark sunglass leave rat-infested vogue office \n",
              "6726                                                                                                                                                                                                                                                                                                                                                                                                                                                                                                                                                                                                                                                                                                                                                                                                                                                                                                                                                                                                                                                                                                                                                                                                                                                                                                                                                                                                                                                                                                                                                                                                                                                                                                                                                                                                                                                                                                                                                                                                                                                                                                                                                                                                                                                                                                                                                                                                                                                                                                                                                                                                                                                                                                                                                                                                                                                                                                                                                                                                                                                                                                                                                                                                                                                                                                                                                                                                                                                                                                                                                                                                                                                                                                                                                                                                                                                                                                     baghdad iraq – islamic state isi incinerate corps five militant suspect contract ebola iraqi health official indicate faisal ghazi member health committee iraq council ministry say five incinerate mosul isi stronghold iraq islamic state organization incinerate five militant infect ebola prevent spread disease mosul say isi proof militant infect ebola add without give detail whether fighter die disease kill incinerated group un world health organization investigate case ebola mosul follow report militant ebola symptom report hospital city isi volunteer pour iraq syria around world include country africa                                                                                         nigerians doubtful girl release boko haram truce breach \n",
              "3064                                                                                                                                                                                                                                                                                                                                                                                                                                                                                                                                                                                                                                                                                                                                                                                                                                                                                                                                                                                                                                                                                                                                                                                                                                                                                                                                                                                                                                                                                                                                                                                                                                                                                                                                                                                                                                                                                                                                                                                                                                                                                                                                                                                                                                                                                                                                                                                                                                                                                                                                                                                                                                                                                                                                                                                                                                                                                                                                                                                                                                                                                                                                                                                                                                                                                                                                                                                                                                                                                                                                                                                                                                                                                                iraqi force report head islamic state iraq levant isil abu bakr al-baghdadi kill u.s airstrikes despite iraqi u.s source confirm kill abu bajr al-baghdadi white house confirm yet afp report three senior member islamic state iraq al-sham isi include aide leader kill u.s. airstrike iraq senior iraqi security official tell nbc news thursday strike isi stronghold mosul kill abu hajar al-sufi aide abu bakr al-baghdadi well explosive operative military leader nearby tel afar source say condition anonymity al arabiya cite iraqi defense ministry say baghdadi s aide kill pentagon spokesman col. steve warren could confirm death say isi leader target added isi leader embed inside troop formation likely kill u.s. carrying airstrikes across country s north brutal terror group gain ground murderous sweep june                                                                                                                                  missing planes \n",
              "11170                                                                                                                                                                                                                                                                                                                                                                                                                                                                                                                                                                                                                                                                           militant islamic state jihadi group release video appear show behead british hostage david haines aid worker capture day arrive syria last year british government official seek authenticate video purport show final moment haines 44. video entitle message ally america mask man show carry behead haines whose life earlier threaten film show murder american journalist steven sotloff video run two minute 28 second end warn second british hostage would next die name international medium social medium alan henning british aid worker haines third western hostage first briton kill fashion isi – first u journalist james foley murder video release 19 august british prime minister david cameron issue statement denounce kill despicable appal murder innocent aid worker act pure evil heart go family david haines show extraordinary courage fortitude throughout ordeal everything power hunt murderer ensure face justice however long takes. cameron gather senior representative military security service foreign office home office whitehall discus situation u president barack obama also condemn kill united state strongly condemn barbaric murder uk citizen david haines terrorist group isil say use administration prefer acronym isi heart go family mr haines people united kingdom united state stand shoulder shoulder tonight close friend ally grief resolve work uk broad coalition nation region around world bring perpetrator outrageous act justice degrade destroy threat people country region world. record feature voiceover deliver isi militant whose voice accent closely resemble killer sotloff foley video killer directly address cameron say haines pay price promise arm kurdish peshmerga fighter isis speak camera hostage compose clearly duress wear orange jumpsuit read statement say cameron entirely responsible execution enter coalition u haines royal air force 12 year move aid work address cameron say enter voluntarily coalition united state islamic state predecessor tony blair follow trend amongst british prime minister find courage say american unfortunately british public end pay price parliament selfish decisions. killer swathe black make statement make direct reference british government aid kurdish fighter say british man pay price promise cameron arm peshmerga islamic state ironically spend decade life serve royal air force responsible delivering arm evil alliance america continue strike muslim iraq recently bomb haditha dam accelerate destruction play role obedient lapdog cameron drag people another bloody unwinnable war. end late video another hostage henning parade u carry least nine air strike last week isi militant threaten haditha dam bombing cite haines killer video spokeswoman foreign office london say aware video work urgently verify contents. isi threaten kill haines father two video emerge 11 day ago sotloff murder less 24 hour late video emerge haines family make plea jihadis respond effort make contact family statement release foreign office address militant directly say family david haines send message receive reply ask hold david make contact us. haines bear east yorkshire raise perthshire capture live croatia second wife dragana 17-year-old daughter first wife louise four-year-old daughter dragana describe fantastic man father kidnap work aid organisation act previously work libya south sudan meeting british government emergency committee cobra expect call imminently prime minister attention divert referendum scottish independence due take place thursday haines work aid agency world worst trouble spot include libya south sudan libya civil war 2011 work head mission handicap international help disabled people poverty conflict zone around world                                                                                                                      kc man does not have ebola \n",
              "11546                                                                                                                                                                                                                                                                                                                                                                                                                                                                                                                                                                                                                                                                                                                                                                                                                                                                                                                                                                                                                                                                                                                                                                                                                                                                                                                                                                                                                                                                                                                                                                                                                                                                                                                                                                                                                                                                                                                                                                                                                                                                                                                                                                                                                                                                                                                                                                                                                                                                                                                                                                                                                                                                                                                                                                                                                                                                                                                                                                                                                                                                                                                                                                                                                                                                                                                                                                                                                                                                                                                                                                                                                                                                                                                                                                                                                                                                                                                                                                                                                                                                                                                                                                                                                                                                                                                                                                                                                                                                               judicial watch report isis member cross mexican border                                                         us lawmaker ten isis fighters have been apprehended coming across southern border video \n",
              "8554                                                                                                                                                                                                                                                                                                                                                                                                                                                                                                                                                                                                                                                                                                                                                                                                                                                                                                                                                                                                                                                                                                                                                                                                                                                                                                                                                                                                                                                                                                                                                                                                                                                                                                                                                                                                                                                                                                                                                                                                                                                                                                                                                                                                                                                                                                                                                                                                                                                                                                                                                                                                                                                                                                                                                                                                                                                                                                                                                                                                                                                                                                                                                                                                                                                                                          caught moniker dictator would apparently trained change north korean citizen hop name kim jong-un near future luck leader ban use moniker order already trained change accord daily mail south korean television obtain leak internal document state include administrative order army police government official establish new legislation party organ public security authority make list resident name kim jong-un ... train voluntarily change name reportedly read catch name kim jong-un continued would identity card school diplomas official document briskly adjust birth certificate bar dictator name would also reject authority make sure one make unnecessary complaint spread gossip ... regard project mail quote document read spokesperson north korean embassy london decline comment authenticity report however south korean official claim two previous president secret state kim il-sung kim jong-il similarly ban share name possibility would continue add document first obtain park jin-hee north korean defector work kb leave state 2008 one north name kim il-sung kim jong-il doubt rule applies jong-un say report come amid speculation kim jong-un ban aide official smoke foreign cigarette unpatriotic                                                                             watch naked airport worker walk scanner bizarre protest rough guard \n",
              "23861                                                                                                                                                                                                                                                                                                                                                                                                                                                                                                                                                                                                                                                                                                                                                                                                                                                                                                                                                                                                                                                                                                                                                                                                                                                                                                                                                                                                                                                                                                                                                                                                                                                                                                                                                                                                                                                                                                                                                                                                                                                                                                                                                                                                                                                                                                                                                                                                                                                                                                                                                                                                                                                                                                                                                                                                                                                                                                                                                                                                                                                                                                                                                                                                                                                                      fidel castro pronounce dead twitter sometime around 3:59 p.m. thursday unconfirmed rumor course announce confidently many folk assume true — least worthy retweet separate rumor start raul castro call press conference 9 a.m. 11 a.m. today allegedly announce brother death south america twittersphere catch fire start question whether user fee even talk right fidel castro al jazeera report jan. 4 fidel castro odinga son kenya main opposition leader die nairobi last weekend night drink friend could twitter user confuse dead kenyan man cuban namesake twitter heatmap show mention fidel castro 10 a.m. thursday- 8 a.m today gmt overly excited wikipedian edit entry cuba fidel castro say article person recently died. moment later castro wikipedia entry revert back undead version 8 p.m. medium outlets around latin america reporting strong rumor castro death allege forthcoming announcement cuban official island folk accustom rumor castro death situation seem less urgent journalist havana say aware rumor find echo street cuba true castro see public year rumor death — mark twain might say — appear greatly exaggerated journalist turn answer cuba watcher tune state television.when castro dy announce unequivocally                                                                                                 fidel castro rumors sweep internet no sign cuba \n",
              "2746                                                                                                                                                                                                                                                                                                                                                                                                                                                                                                                                                                                                                                                                                                                                                                                                                                                                                                                                                                                                                                                                                                                                                                                                                                                                                                                                                                                                                                                                                                                                                                                                                                                                                                                                                                                                                                                                                                                                                                                                                                                                                                                                                                                                                                                                                                                                                                                                                                                                                                                                                                                                                                                                                                                                                                                                                                                                                                                                                                                                                                                                                                                                                                                                                                                                                                                                                                                                                                                                                                          man jump white house fence sept. 19 pushed way past female secret service agent overpower male agent build large east room push past female agent run past stairway lead president personal quarter detain secret service response gonzalez dash front rail slow perimeter alarm — dub crash box — muffle request white house usher man omar gonzalez former soldier delusion president white house gonzalez run build new revelation publish washington post cbs post credit new information whistleblower rep. jason chaffetz chairman house oversight subcommittee homeland security chaffetz say intrusion failure leadership secret service secret service director julia pierson say intrusion unacceptable report — likely leak chaffetz — come one day pierson testify committee tuesday agency need solution go deep fence people chaffetz tell washington post must examine message send men woman protect president leader sacrifice security appease superficial concern white house ushers. follow neil twitter                                                                                                  kim jong-un s sister takes control north korea \n",
              "576    islamic state militant sympathiser triumphantly circulate image 10-year-old boy claim martyr fight alongside father syria describe child isi young jihadist chill photograph take alleged death show smile camera wear military fatigue brandish huge assault rifle isi sympathiser take social medium identify cub fighter allege nom de guerre abu ubaidah add father kill clash syria recent week specify exactly die fight sicken isi sympathiser take social medium identify 10-year-old cub fighter allege nom de guerre abu ubaidah say died fighting alongside father syria recent week pose another picture show smile sweetly wear ammunition vest stand next van convert armoured vehicle large plank wood bull bar several image independently verify emerge social medium week video report death boy father uploaded youtube september original video distribute pro-isis medium group al-aamaq understood since remove number photograph boy since widely share isi militant sympathisers social medium one image show boy stand inside house grin struggle hold assault rifle large threatens topple another picture show smile sweetly wear ammunition vest stand next van convert armoured vehicle large plank wood bull bar image show pose man understand father militant name baghdadi image boy identify abu ubaidah see calmly hold another large rifle surround beard men wear military clothing support isi sympathiser triumphantly circulate image 10-year-old boy claim martyr fight alongside father syria smile describe child isi young foreign jihadist chill photograph take alleged death show grin camera wear military fatigue brandish huge assault rifle last week 24-year-old muslim convert admit take infant son live among islamic state terrorist syrian city raqqa believe lead good life brutal regime asiya ummi abdullah deny child unhappy live oppressive rule isi religious fanatic explain felt three-year-old son s spiritual well-being well serve group s de facto capital public crucifixion beheading commonplace ummi abduallah live turkey since teen bear kyrgyzstan say move militant stronghold syria part shield young boy sex crime drug alcohol see rampant home town istanbul who say child unhappy ... know god live rule say dramatic footage emerge inside kobane show brave kurdish fighter battle militant islamic state clip appear film mobile phone show resistance force kurdish people s protection unit ypg fire assault rifle machine gun mount back car militant hide behind building kobane suburbs terrorist launch renew assault kobane last night kill dozen kurd resist isi advance city s suburb last three week defence isi terrorist launch renew assault kobane last night kill dozen kurd resist isi advance city s suburb last three week prepare kurdish fighter take position fight islamic state jihadist islamic state militant control one third besiege syrian city kobane despite three day american airstrikes group monitor violence country say today morning chill sight group s black flag could clearly see building inside city brazen display defiance face sustain airstrikes u.s. arab warplane airstrikes appear slow militant advance area city isi fighter appear creep ever closer centre kobane thousand civilians unable unwilling flee home face rape massacre news isi gain come pentagon admit airstrikes alone enough prevent fall kobane raise serious question u.s. s wider campaign terror group still fly morning chill sight group s black flag could clearly see building inside city brazen display defiance face sustain airstrikes u.s. arab warplane dramatic escalation kobane see u.s. arab coalition carry sustain period bombing raid since campaign destroy islamic state northern syria start two week ago rear admiral john kirby pentagon press secretary say airstrikes not go enough save city amid grow concern without western ground troop send syria defeat isi prove near impossible task heavily outgunned kurdish defender say islamic state militant push two district kobane mainly kurdish border city 40,000 resident late last night washington say u.s. military arab partner nation respond isi renew assault carry eight air strike last night add city remain kurdish control britain-based syrian observatory human right morning say despite overnight airstrikes continue morning islamic state fighter manage capture police station east kobane control one third city                                                                                                 boko haram deny truce release kidnap schoolgirl \n",
              "2159                                                                                                                                                                                                                                                                                                                                                                                                                                                                                                                                                                                                                                                                                                                                                                                                                                                                                                                                                                                                                                                                                                                                                                                                                                                                                                                                                                                                                                                                                                                                                                                                                                                                                                                                                                                                                                                                                                                                                                                                                                                                                                                                                                                                                                                                                                                                                                                                                                        hallucinogenic fungi find grow queen garden buckingham palace discover gardening expert alan titchmarsh television presenter unearth fungi buckingham palace itv gardening show call queen garden say eating that. titchmarsh come across red white spot toadstool — call amanita muscaria fly agaric — tour private 40-acre plot ecology expert professor mick crawley titchmarsh 65 asks itv show screen christmas day edible professor crawley reply depend mean eaten culture hallucinogenic affect also make people eat sick old-fashioned thing feed village idiot drink urine get high without sickness. titchmarsh jokingly reply think forgo stick normal mushrooms. add something try home. later tell sun newspaper surprise show varied specie eat though idea hard drug nurofen. new tv show titchmarsh explain gardener actively encourage mushroom toadstool say every time chop something leave wood rot. magic mushroom slang term hallucinogenic fungus common illegal form contain drug psilocybin suggestion grow palace garden last night palace spokesman tell sun avoidance doubt fungi garden use palace kitchens. new programme show viewer entire year life buckingham palace garden summer garden party nocturnal wandering wildlife heart london demonstrate gardener work tirelessly maintain queen flower bear mind wish see animal insect make welcome garden swap pesticide homemade garlic treatment titchmarsh explore bee hive home insect deposit royal mew help cultivate garden buckingham palace top tip gardener give insight queen taste programme broadcast itv christmas day also show garden use royal family generation king plant mulberry tree rival french young princess elizabeth margaret climb peer high garden wall sandpit use royal child film along oak tree plant decade ago young prince wale princess royal grown acorn sown event birth titchmarsh spend 12 month explore palace garden change season see finish calendar year christmas tree mount marble hall decorate holly mistletoe royal garden festoon festive golden crown                                                                                     isis militant jihadi john identified as young west londoner \n",
              "24691                                                                                                                                                                                                                                                                                                                                                                                                                                                                                                                                                                                                                                                                                                                                                                                                                                                                                                                                                                                                                                                                                                                                                                                                                                                                                                                                                                                                                                                                                                                                                                                                                                                                                       militant group boko haram reportedly hold german hostage kidnap july group s leader also claim report ceasefire nigerian government lie nigeria boko haram abubakar shekau archiv nigerian militant group boko haram claim hold german hostage kidnap state adamawa northeastern nigeria earlier summer boko haram leader abubakar shekau make announcement video obtain news agency agence france presse shekau reportedly claim video group hold german hostage kidnapping occur july 16 town gombi northeastern nigeria german national reportedly teacher government training center german foreign ministry thus far refused comment video news come two german work nigeria construction company julius berger come attack gunman october 24. one shot dead take hostage later released german foreign minister frank-walter steinmeier nigeria past week conduct talks government business leader nigeria boko haram soll offenbar entführte mädchen freilassen violence additional kidnapping repeatedly overshadow negotiation release 200 abducted nigerian schoolgirl shekau claim ceasefire new video emerge violence continue cast doubt ceasefire negotiation nigerian government boko haram lead violent uprising northern nigeria since 2009. nigerian government say negotiation take place secure release 200 schoolgirl whose abduction last spring town chibok spark international outrage shekau reportedly claim video earlier claim ceasefire boko haram government false schoolgirls convert islam married negotiate anyone ... s lie s lie negotiate business negotiation allah say afp report shekau say married girl marital home shekau reportedly say video laugh nigeria part maintain conduct ceasefire negotiation discussion release kidnap girl neighbor chad suppose boko haram envoy danladi ahmadu shekau allegedly say video know danladi violence continue meanwhile triple bomb bus station city gombe friday kill least eight people wound 41. yet clear attack carry boko haram though group target commuter past angriff von boko haram im nordöstlichen stadt konduga nahe maiduguri nigeria thousand nigerian kill result boko haram uprising boko haram s insurgency characterize brutal campaign bombing shooting target christian church muslim mosque school market bar village police station un building estimate 5,000 nigerian kill 300,000 displace violence 2013 nigerian government declare state emergency northeastern state borno yobe adamawa amnesty international accuse nigerian military war crime include extrajudicial killing fight boko haram united nation human right watch also allege nigeria s security force commit human right abuse nigeria s population 177 million 50 percent muslim 40 percent christian muslim concentrate north christian south bw/jm afp dpa                                                                                 boko haram could release kidnapped girls nigerian officials say \n",
              "20951                                                                                                                                                                                                                                                                                                                                                                                                                                                                                                                                                                                                                                                                                                                                                                                                                                                                                                                                                                                                                                                                                                                                                                                                                                                                                                                                                                                                                                                                                                                                                                                                                                                                                                                                                                                                                                                                                                                                                                                                                                                                                                                                                                                                                                                                                                                                                                                                                                                                                                                                                                                                                                                                                                                                                                                                                                                                                                                                                                                                                                                                                                                                                                                                                                                                                                                                                                                                                                                                                                                                                                                                                                                                                                                                                                                                                                                                                                    baghdad iraq – islamic state isi incinerate corps five militant suspect contract ebola iraqi health official indicate faisal ghazi member health committee iraq council ministry say five incinerate mosul isi stronghold iraq islamic state organization incinerate five militant infect ebola prevent spread disease mosul say isi proof militant infect ebola add without give detail whether fighter die disease kill incinerated group un world health organization investigate case ebola mosul follow report militant ebola symptom report hospital city isi volunteer pour iraq syria around world include country africa                                                                                           google grows with 1.6 billion california office deals \n",
              "24124                                                                                                                                                                                                                                                                                                                                                                                                                                                                                                                                                                                                                                                                                                                                                                                                                                                                                                                                                                                                                                                                                                                                                                                                                                                                                                                                                                                                                                                                                                                                                                                                                                                                                                                                                                                                                                                                                                                                                                                                                                                                                                                                                                                                                                                                                                                                                                                                                                                                                                                                                                                                                                                                      follow report islamic state militant use chlorine gas attack iraqi security official duluiyah united state order probe matter national security council reportedly touch iraqi official gather information chemical attack accord washington post report 15 september 4:20 pm 11 iraqi police officer rush hospital emergency room balad struggle stand tear stream eye report note attack take place duluiyah security personnel member sunni jabbour tribe guard line north city exchange fire accord survivor s account security personnel surprise see isi fighter withdraw position soon explosion take place strange explosion saw yellow smoke sky lt. khairalla al-jabbouri 31 say wind carry fog toward line felt suffocated al-jabbouri say throwing could nt breathe official statement iraqi defence ministry also confirm isi use chlorine gas force statement however undermined attack say isi use chlorine primitive ineffective way back june isi capture al muthanna facility -- former iraq former leader saddam hussein store chemical weapon -- fear islamic state militant may carry chemical attack use crude bomb make use chlorine prof extend terror outfit ready go continue take allegation chemical weapon use — particular recent allegation regard use chlorine chemical weapon — seriously spokesman national security council alistair baskey tell new york time aware report confirm detail seek additional information use chlorine chemical weapon abhorrent act recent allegation underscore importance work eliminate chemical weapon volatile region baskey add report isi chlorine attack iraq come time report claim earlier last week islamic state militant use mustard gas kurdish fighter kobane middle-east review international affair meria journal even release trove photograph proof isi use chemical weapon                                                                                               is militants kill 300 iraqi soldiers chlorine gas \n",
              "13188                                                                                                                                                                                                                                                                                                                                                                                                                                                                                                                                                                                                                                                                                                                                                                                                                                                                                                                                                                                                                                                                                                                                                                                                                                                                                                                                                                                                                                                                                                                                                                                                                                                                                                                                                                                                                                                                                                                                                                                                                                                                                                                                                                                                                                                                                                                                                                                                                                                                                                                                                                                                                                                                                                                                                                                                                                                                                                                                                                                                                                                                                                                                                                                                                                                                                                                                                                                                                                                                                                                                                                                                                                                                                                                                                                                                                                                                                                                                                                                                                                                                                                                                                                                                                                                                                                                                                                                                                                                                        propaganda video release isi set range international response                                                                   david haines behead video confirm genuine uk pm cameron vow hunt isis monster \n",
              "24234                                                                                                                                                                                                                                                                                                                                                                                                                                                                                                                                                                                                                                                                                                                                                                                                                                                                                                                                                                                                                                                                                                                                                                                                                                                                                                                                                                                                                                                                                                                                                                                                                                                                                                                                                                                                                                                                                                                                                                                                                                                                                                                                                                                                                                                                                                                                                                                                                                                                                                                                                                                                                                                                                                                                                                                                                                                                                                                                                                                                                                                                                                                                                                                                                                                                                                                                                                                                                                                                                                                                                                                                                                                                                                                                                                                                                                            lebanese authority hold daughter ex-wife head isi jihadist group abu bakr al-baghdadi interior minister say initially report wife son self-proclaimed caliph arrest november woman name saja al-dulaimi travel two son daughter interior minister nouhad mashnuq tell lebanese mtv channel late wednesday say dna test show girl baghdadi child dulaimi abu bakr al-baghdadi wife currently marry three time first man former iraqi regime two son say six year ago marry abu bakr al-baghdadi three month daughter marry palestinian pregnant child mr mashnuq add conducted dna test daughter show mother girl girl abu bakr al-baghdadi daughter base dna baghdadi iraq mr mashnuq say                                                                                       islamic state leader s family detain lebanon official say \n",
              "19966                                                                                                                                                                                                                                                                                                                                                                                                                                                                                                                                                                                                                                                                                                                                                                                                                                                                                                                                                                                                                                                                                                                                                                                                                                                                                                                                                                                                                                                                                                                                                                                                                                                                                                                                                                                                                                                                                                                                                                                                                                                                                                                                                                                                                                                                                                                                                                                                                                                                                                                                                                                                                                                                                                                                                                                                                                                                                                                                                                                                                                                                                                                                                                                                                                                                                                                                                                                   new audio surface allegedly captures moment michael brown unarmed black teenager shot dead darren wilson white police officer aug. 9. cnn air unverified record monday night six shot hear follow pause several private autopsy perform aug. 17 request brown s family find 18-year-old shot 6 time include twice head man live near scene shooting say inadvertently record shot kill brown lawyer lopa blumenthal tell cnn man wish remain unidentified record video chat friend gunfire rang background blumenthal say client already interview fbi record brown shoot aug. 9 friend dorian johnson walk street stop wilson johnson say wilson attack brown shot 18-year-old try get away ferguson police claim brown attacked wilson say wilson injure altercation multiple witness say saw brown hand air shot police release footage aug. 15 say show brown rob convenience store cigarillo ferguson police chief thomas jackson say wilson aware brown suspect robbery stop teen though jackson later say wilson make connection course stop family s attorney accuse police try assassinate character michael brown divert attention death                                                                            new audio recording from ferguson may capture michael brown shooting \n",
              "18922                                                                                                                                                                                                                                                                                                                                                                                                                                                                                                                                                                                                                                                                                                                                                                                                                                                                                                                                                                                                                                                                                                                                                                                                                                                                                                                                                                                                                                                                                                                                                                                                                                                                                                                                                                                                                                                                                                                                                                                                                                                                                                                                                                                                                                                                                                                                                                                                                                                                                                                                                                                                                                                                                                                                                                                                                                                                                                                                                                                                                                                                                                                                                                                         robot increasingly replace human variety mundane task like bolt car together make lollipop move security business microsoft recently instal fleet 5-feet-tall 300-pound robot protect silicon valley campus robot pack hd security camera sensor take organic protein-based surroundings also artificial intelligence board sound alarm robot notice something awry also read license plat cross-reference see steal k5 robot come california company call knightscope call robot autonomous data machine provide command friendly presence. sound like something robot manufacturer would say let honest though robot look pretty damn cool like modern version r2-d2 thankfully—or sadly depend look it—the k5 robots weapon assess situation sound alarm defuse call human security officer scene however plan equip robot tasers sometime future microsoft new protector fairly autonomous single charge last 24 hour robot notice battery get low return charge port plug fully recharge 20 minute pretty insane plan one day expand use knightscope robot patrol street part human police unit even imagine would happen elon musk heard h/t extreme tech videos/photos © knightscope inc. 2014 www.knightscope.com article originally appear daily dot copyright 2014. follow daily dot twitter see also terrify robot develop google                                                                                       report secret service lied about white house fence jumper \n",
              "10889                                                                                                                                                                                                                                                                                                                                                                                                                                                                                                                                                                                                                                                                                                                                                                                                                                                                                                                                                                                                                                                                                                                                                                                                                                                                                                                                                                                                                                                                                                                                                                                                                                                                                                                                                                                                                                                                                                                                                                                                                                                                                                                                                                                                                                                                                                                                                                                                                                                                                                                                                                                                                                                                                                                                                                                                                                                                                               midweek edition morning jolt say least ten isi fighter catch come across border rep. duncan hunter republican california seem like nut job prone wild exaggeration last night say something make jaws drop van susteren hold stop one second hunter go bombing american city come across mexico van susteren let ask question say come southern border change dynamic information come southern border hunter yes van susteren tell know hunter least ten isi fighter catch come across border texas van susteren know hunter ask border patrol greta van susteren border patrol let isis member come across border hunter catch border therefore know isi come across border catch five ten know go dozen get catch border patrol know risk isi radical islamist come across border navy air force nuclear weapon way americans go harm radical islam — chairman dempsey say thing say major threat guy go infiltrate america harm american add comment house democrat rep. tim bishop d. n.y. warn recent speech 40 radicalize u.s. citizen fight alongside islamic state iraq levant isil isi already return united state could pose terrorist threat bishop claim 100 american travel middle east join isil rank 40 return currently surveilled fbi accord remark film uploaded youtube last week one concern number u.s. citizen leave country go join isi bishop say speech believe number 100 do that. also believe 40 left country join isi return country bishop say elicit shocked response crowd threat isi terrorist cross southern border longer theoretical could administration really successfully cover something big   emotional sergeant-at-arms greet back parliament rouse stand ovation day heroically shoot dead terrorist first time use weapon 30 year career \n",
              "9294                                                                                                                                                                                                                                                                                                                                                                                                                                                                                                                                                                                                                                                                                                                                                                                                                                                                                                                                                                                                                                                                                                                                                                                                                                                                                                                                                                                                                                                                                                                                                                                                                                                                                                                                                                                                                                                                                                                                                                                                                                                                                                                                                                                                                                                                                                                                                                                                 huntington beach cbsla.com — viral video homeless man buy food friend 100 give warm heart many 25 million people clicked donation come pour homeless man name thomas 130,000 donate around globe week josh paler lin youtube personality upload nearly five-minute video tell everyone within earshot heartwarming viral video real homeless man brother however say brother scammed meanwhile eyewitness filming also believe entire thing hoax eyewitness tell cbs2 stacey butler saw thomas lin car lin purport man know film video lin heard tell shooter make sure see you. homeless man brother also speak butler video homeless man track convenience store sell liquor buy food homeless people 100 give lin lin later confronts man give another 100 say assume go buy alcohol money believe generous friend another eight-minute video lin take thomas couple meal include shabu-shabu christmas eve provide hotel room surprise makeover lin insist none video stag scripted hit youtube channel join 2009 already estimate lin make 52,000 counting indiegogo fundraising page say set thomas lin channel also gain nearly 15,000 new fan critic already point thomas would walk least 34 minute liquor mart pass cheap supermarket along way also point homeless beg thomas rather blase reaction someone receive 100 stranger eyewitness film tell butler knew lin many prankster video say definitely saw thomas lin vehicle set-ups say taugan kadalim follow drive liquor store kadalim believe thomas 56 really homeless entire video stag think manner portrayed entire video deceitful kadalim say dishonest. thomas brother kevin nickel reach cbs2 right say surprising twist butler report say brother real name kenny nickel say brother alcoholic live parent die last summer. say brother arrest public intoxication put jail butler unable confirm arrest record brother also say kenny actually break due 150,000 parent estate sit money kevin say sure brother even aware indiegogo money collect behalf scam money need go people really need it. kevin fear brother manipulate get money use get help                                                                                after giving a homeless man 100 this guy secretly filmed him ... \n",
              "9614                                                                                                                                                                                                                                                                                                                                                                                                                                                                                                                                                                                                                                                                                                                                                                                                                                                                                                                                                                                                                                                                                                                                                                                                                                                                                                                                                                                                                                                                                                                                                                                                                                                                                                                                                                                                                                                                                                                                                                                                                                                                                                                                                                                                                                                                                                                                                                                                                                                                                                                                                                                                                                                                                                                                                                                                                                                                                                                                                                                                                                                            laptop sale continue drop apple s macbook air manage remain popular perform well year apple set launch 12-inch macbook air could apple s big product 2015. rumor quite time new laptop apple confirm late report mark gurman 9to5mac apple make number change macbook air remove redesign user know love machine apple prepare all-new macbook air 2015 radically new design jettisons standard full-sized usb port magsafe connector sd card slot say gurman new 12-inch macbook air say small 13-inch sibling bit thin 11-inch version also quarter-of-an-inch taller latter allow keep slightly big display bezel around display also reduce give front part machine brand new look much large proportion machine s usable area occupy display panel keyboard apple noticeably deviate standard keyboard macbook air cram key order decrease space key change include transfer power button upper left-hand corner leave side escape key removal travel track pad way keep laptop s slim build new macbook air also minimalist come port sport two namely headphone jack usb type-c port mean fan machine away thunderbolt connection magsafe charger however specs new usb indicate type-c support drive display device charge new usb type-c connector small faster capable standard usb 2.0 3.0 port exist computer add gurman apple yet make official announcement new macbook air laptop speculate ship mid-2015 expect use one new dual-core broadwell chip intel                                                                                         congressman at least 10 isis fighter catch try cross us \n",
              "5401                                                                                                                                                                                                                                                                                                                                                                                                                                                                                                                                                                                                                                                                                                                                                                                                                                                                                                                                                                                                                                                                                                                                                                                                                                                                                                                                                                                                                                                                                                                                                                                                                                                                                                                                                                                                                                                                                                                                                                                                                                                                                                                                                                                                                                                                                                                                                                                                                                                                                                                   pentagon confirm ahmed abdi godane leader islamist militant group al-shabaab kill u air strike earlier week united state previously say strike inside somalia target godane know whether kill confirm ahmed godane co-founder al-shabaab kill say rear admiral john kirby pentagon press secretary describe major symbolic operational loss militant group align al-qaida al-shabaab fighting topple somalia western-backed government regularly launch bombing gun attack state target civilians godane death could lead internal power struggle wednesday u official say still investigate see whether strike al-shabaab encampment kill godane 37 reportedly trained taliban afghanistan least three strike hit convoy al-shabaab vehicle southern somalia monday night accord witness spokesman group speak later associate press al-shabaab representative say six al-shabaab fighter kill strike air raid come day african union au troop somali government force launch operation indian ocean major offensive aim seize key port al-shabaab cut one key source revenue multi-million dollar export charcoal au force target shabaab several front ugandan troop lead offensive main port barawe south capital mogadishu commander au somalia say death godane would proud happy moment africa godane passion poetry seize world attention year ago westgate mall attack nairobi leave least 67 dead warn kenya would suffer atrocity unless withdrew troop au force somalia withstand war attrition inside country say audio message post website link al-shabaab withdraw force prepare abundance blood spilt country. washington carry series drone missile strike past include attack reportedly target godane rarely confirm officially godane take leadership al-shabaab 2008 chief adan hashi ayro kill u missile strike also know mukhtar abu zubeyr godane al-shabaab spiritual leader whose direction somali militant forge alliance al-qaida 2012 u offer reward 7m £4.2m information lead arrest                                                                                   updated 11 men 0 women tonight s espn domestic violence panel \n",
              "18391                                                                                                                                                                                                                                                                                                                                                                                                                                                                                                                                                                                                                                                                                                                                                                                                                                                                                                                                                                                                                                                                                                                                                                                                                                                                                                                                                                                                                                                                                                                                                                                                                                                                                                                                                                                                                                                                                                                                                                                                                                                                                                                                                                                                                                                                                                                                                                                                                                                                                                                                                                                                                                                                                                                                                                                                                                                                                                                                                                                                                                                                                                                                                                                                                                                                                                                                                                                                                         lego pamphlet 1974 unearthed post reddit weekend advice parent ring true 40 year later true true reddit fryd_ pamphlet authenticity question go viral weekend lego spokesman roar rude trangbæk confirm quartz document real included series lego dollhouses dollhouse figure look little strange photo lego iconic minifigure invented 1978 pamphlet contain product line regard lego dollhouse target primarily girls age four say phone interview u express always encourage creative play. lego become world big toymaker year due large part enormous success lego movie also draw criticism fan reliance license product star war franchise hollywood property struggle time appeal girl well boy one seven-year-old girl write letter company complain girl-oriented lego friend girls sit home go beach shop job boys go adventure work saved people job even swim sharks. trangbæk argue lego friend two year old along company many hollywood-themed toy share common dna classic lego set include 1974 dollhouse type play offer child material hand create whatever want say open box lego brick                                                                                        spider burrows into australian man s appendix scar video \n",
              "4840                                                                                                                                                                                                                                                                                                                                                                                                                                                                                                                                                                                                                                                                                                                                                                                                                                                                                                                                                                                                                                                                                                                                                                                                                                                                                                                                                                                                                                                                                                                                                                                                                                                                                                                                                                                                                                                                                                                                                                                                                                                                                                                                                                                                                                                                                                                                                                                                                                                                                                                                                                                                                                                                                                                                                                                                                                                    dc toy collector high pay performer youtube make nearly 5 million last year unbox disney toy however little known woman-behind-the-hands popular youtube channel fact face never show video voice toy hand however recent report reveals true identity youtube hit identity somewhat shock former brazilian porn star behind wholesome disney video note early year disney collector woman film disney unbox video porn florida home daily mail report brazilian daiane dejeus also know sandy summer porn industry woman behind hit disney collector youtube videos reporter track information dejeus align public record information regard widely popular dc toy collector youtube channel track dejeus reporter speak family friend confirm daiane behind million dollar video dejeus go unfathomable measure ensure identity remain secret good reason target market youtube channel caters disney lover child family may remain viewer know owner secret dejeus disney fanatic also porn star go name sandy summer dejeus film numerous x-rated video adult film industry home film early dc toy collector feature family friend identify dejeus mystery unboxer note certain physical feature woman hand arm see many youtube video point tell-tale scar leave elbow mole elbow joint identical see summer many lingerie photo shoots. aside physical similarity former neighbor say dejeus unmistakable voice say many people street knew daiane childlike voice would recognize anywhere people street eventually knew to. would ever imagine popular dc toy collector video film house adult film porn star image credit youtube/ dc toy collector facebook/sandy summer                                                                                               nigeria boko haram blame raid despite truce claim \n",
              "8303                                                                                                                                                                                                                                                                                                                                                                                                                                                                                                                                                                                                                                                                                                                                                                                                                                                                                                                                                                                                                                                                                                                                                                                                                                                                                                                                                                                                                                                                                                                                                                                                                                                                                                                                                                                                                                                                                                                                                                                                                                                                                                                                                                                                                                                                                                                                                                                                                                                                                                                                                                                                                                                                                                                                                   small town sit federal highway 95. short two-hour drive away mexico city iguala plague tragic triangulation gangster crook cop beleaguered government official saturday burn body 28 people believe miss student protester find mass grave outside city center student go miss september 25 protest hiring practice ayotzinapa normal school turn violent student know radical do battle police past time police officer reportedly open fire protester kill three however official student tell different story protest end student say attempt leave scene protest bus chase officer open fire whereas official say student commandeer bus force result violence investigate mass grave find video show police officer arrest take away undisclosed number student iguala door cartel-controlled tierra caliente territory gang recently burn four truck transport coca-cola ground opium trade still alive well area cartels—which rival one another drug sale act brutality—have implicate death 28 student several mobsters-turned-police tipster disclose location body police officer iguala link guerreros unidos gang include mayor chief security want arrest member guerreros unidos get start hitman division beltran leyva organization know extremely violent aggressive death public display behead victim mexico state prosecutor inaky blanco tell afp believe el chucky leader guerreros unidos ordered student murder security chief francisco salgado valladares directly ask assistance el chucky s men location bus thus far authority charge 22 police officer involvement crime well seven others blanco confirm whether body protest student believe expert need least 15 day identification process many body dismember charred beyond visual recognition                                                                           mass graves found in mexico near place where 43 students went missing \n",
              "14881                                                                                                                                                                                                                                                                                                                                                                                                                                                                                                                                                                                                                                                                                                                                                                                                                                                                                                                                                                                                                                                                                                                                                                                                                                                                                                                                                                                                                                                                                                                                                                                                                                                                                                                                                                                                                                                                                                                                                                                                                                                                                                                                                                                                                                                                                                                                                                                                                                                                                                                                                                                                                                                                                                                                                                                                                                                                                                                                                                                                                                                                                                                                                                                                                                                                                                                                                                                                                                                                                                                                                                                                    gaza feb. 22 xinhua -- palestinian minister lash israel sunday open dam near border gaza strip flood central area besiege enclave huge amount water mufid al-hasaynah minister housing public work palestinian unity government tell xinhua israel deliberately increase suffer gazans dozen house fill water israeli dam largely open morning towards gaza strip action double people s suffer live tight israeli siege say minister early sunday rescue team firefighter rush central area gaza strip rescue dozen palestinians stuck house israel open dams witness say bulldozer bring sand reduce amount water cover house area several main road street close due flood gaza-based ministry interior say emailed press statement civil defense team rescue 18 family home fully covered water come israeli side mohamed abu shamallah head gaza civil defense say level water area central gaza strip grow three meter half                                                                                                 new audio shows michael brown was shot 11 times \n",
              "2468                                                                                                                                                                                                                                                                                                                                                                                                                                                                                                                                                                                                                                                                                                                                                                                                                                                                                                                                                                                                                                                                                                                                                                                                                                                                                                                                                                                                                                                                                                                                                                                                                                                                                                                                                                                                                                                                                                                                                                                                                                                                                                                                                                                                                                                                                                                                                                                                                                                                                                                                                                                                                                                                                                                                                                                                                                                                                                                                                                                                                                                                                                                                                                                                                                                                                                                                                                                                                                                                                                                                                                                                                                                                                                                                                                                                                                                                                                                                                                                      warn graphic image 22-year-old man macedonia chop penis girlfriend end relationship criticised performance bed oliver ilic kocani tell doctor girlfriend complained size penis lead mutilate razor blade mr ilic way hospital photo europics unable stem bleed mr ilic contact emergency service take local hospital police find sever penis bin mr ilic transfer hospital macedonian capital skopje underwent five-hour operation reattach penis doctor say early tell whether operation successful whether mr ilic would regain full use penis                                            london hip-hop artist abdel-majed abdel bary key suspect hunt killer american journalist james foley \n",
              "17570                                                                                                                                                                                                                                                                                                                                                                                                                                                                                                                                                                                                                                                                                                                                                                                                                                                                                                                                                                                                                                                                                                                                                                                                                                                                                                                                                                                                                                                                                                                                                                                                                                                                                                                                                                                                                                                                                                                                                                                                                                                                                                                                                                                                                                                                                                                                                                                                                                                                                                                                                                                                                                                                                                                                                                                                                                                                                                                                                                                                                                                                                                                                                                                                                                                                                                                                                                                                                                                                                                                                                                                                                                                                                                                                                                                                                                                             isi terrorist release video purportedly show behead american freelance photojournalist james wright foley go miss thanksgiving day 2012. foley 40-year-old new hampshire native kidnap gunpoint internet café syria isi threaten steven sotloff—another freelance reporter miss since august 2013 write numerous publication time christian science monitor foreign policy—will also execute depend obama next decision regard u.s. military strike isis iraq graphic video foley force read letter encourage american rise real killer — u.s. government add u.s. airstrikes isi hammer final nail coffin. apparently executor heard video speak english british accent                                                        james foley american journalist james wright foley beheaded new isis video breaking news \n",
              "24497                                                                                                                                                                                                                                                                                                                                                                                                                                                                                                                                                                                                                                                                                                                                                                                                                                                                                                                                                                                                                                                                                                                                                                                                                                                                                                                                                                                                                                                                                                                                                                                                                                                                                                                                                                                                                                                                                                                                                                                                                                                                                                                                                                                                                                                                                                                                                                                                                                                                                                                                                                                                                                                                                                                                                                                                                         quite recent news j j abrams reportedly say visual effect society award 2015 may release extremely anticipated film star war episode vii — force awakens instead winter may move film line summer release extremely brave move true put star war film like avenger 2 age ultron ant-man long await jurassic world would win summer box office happen opinion star war get strong chance box office move summer release would big film come summer mean s hobbit compete december move summer box office championship box office championship j j s big reason report star war plot leak picture character send little scare would leak therefore make film predictable worth watch example one photo give away lot instance nt want spoiler look away sorry j j sorry j j instance 5 figure reveal character s kylo ren rey fin bb-8 show u kylo ren ol crossguard look like outer cloak remove see picture leak could see han leia luke c3po etc like film see company make trailer would ruin surprise disney owner new star war franchise take j j s thought consideration deep thought could get film release lot earlier think go see bad thing though ... get wish get see star war 7 6 month think go wo nt disney panic think blockbuster come december would order toy design trailer etc later year perhaps paranoia disney j j lot work get do want merchandise etc come alongside star war summer gather basis information votesaxon07 part follow nerd s great youtuber want see information watch video also news frozen fever a.t.o.m suit deadpool movie news awesome snip-its thanks read guy hope gain information enjoy reading opinion topic thanks votesaxon07 follow nerd awesome news                                                                                                      star wars the force awakens release summer \n",
              "4351                                                                                                                                                                                                                                                                                                                                                                                                                                                                                                                                                                                                                                                                                                                                                                                                                                                                                                                                                                                                                                                                                                                                                                                                                                                                                                                                                                                                                                                                                                                                                                                                                                                                                                                                                                                                                                                                                                                                                                                                                                                                                                                                                                                                                                                                                                                                                                                                                                                                                                                                                                                                                                                                                                                                                                                                                                                                                                                                                                                                                                                                                                                                                                                                                                                                                                                                                                                                                                                                                                                                                                                                                                                                                                                                                                                                                                                                                                                                                                                                                                                                                       rep. duncan hunter r-ca tell greta van susteren tonight ten isi fighter cross border mexico america greta van susteren say come southern border change dynamic information evidence actually come southern border rep. hunter yes greta tell know rep. hunter know least ten isi fighter catch come across southern border texas via record september rep. jason chaffetz r-ut also say four know terrorist apprehend u border texas still hold                                                                                                 macaulay culkin dead the death hoax child actor \n",
              "15309                                                                                                                                                                                                                                                                                                                                                                                                                                                                                                                                                                                                                                                                                                                                                                                                                                                                                                                                                                                                                                                                                                                                                                                                                                                                                                                                                                                                                                                                                                                                                                                                                                                                                                                                                                                                                                                                                                                                                                                                                                                                                                                                                                                                                                                                                                                                                                                                                                                                                                                                                                                                                                                                                                                                                                                                                                                                                                                                                                                                                                                                                                                                                           online report jihadi palestinian forum claim gill rosenberg capture islamic state group embattle town kobani gill rosenberg israeli-canadian joined kurdish force battle radical islamic state terror group reportedly take captive group unconfirmed report claim rosenberg 31 civil aviation pilot enlist israeli army search-and-rescue unit arrested 2009 extradite united state jail international phone scam one former lawyer say rosenberg say make contact kurd facebook ask allow join kurdish people s protection unit commonly know ypg facebook page rosenberg share plan mission syria two month advance uploaded picture jerusalem show israeli flag next islamic state flag continue post image november 1 final day israel later post picture queen alia international airport amman jordan erbil international airport kurdistan november 9 uploaded image kurdish region syria write idf israeli army say aharai let s show isis islamic state mean friend write take care friend one strong woman ll destroy islamic state source kurdistan region knowledge issue say rosenberg first foreign woman join ypg kurd dominant fight force northern syria cross syria one around 10 westerner recruit ypg source say rosenberg could reach reuters comment source provide iraqi kurdistan cellphone number turn tuesday michal margalit contribute report                                                                                                         man chop penis girlfriend tell good bed \n",
              "20078                                                                                                                                                                                                                                                                                                                                                                                                                                                                                                                                                                                                                                                                                                                                                                                                                                                                                                                                                                                                                                                                                                                                                                                                                                                                                                                                                                                                                                                                                                                                                                                                                                                                                                                                                                                                                                                                                                                                                                                                                                                                                                                                                                                                                                                                                                                                                                                                                                                                                                                                                                                                                                                                                                                                                                                                                                                                                                                                                                                                                                                                                                                                                                                                                                                                                                                                                                                                                                                                                                                                                                                                                                                                                                                                                                                                                                                                                                                                                                                                                                                                                                                                                                                                                                                             shoot national war memorial ottawa ctv news confirm ctv news katie simpson war memorial ottawa wednesday morning witness passersby attend someone shot police say man believe member canadian force shoot memorial also report shot fire inside parliament hill come ...                                                                                    purported isis claim jordan airstrike kill female us hostage \n",
              "3649                                                                                                                                                                                                                                                                                                                                                                                                                                                                                                                                                                                                                                                                                                                                                                                                                                                                                                                                                                                                                                                                                                                                                                                                                                                                                                                                                                                                                                                                                                                                                                                                                                                                                                                                                                                                                                                                                                                                                                                                                                                                                                                                                                                                                                                                                                                                                                                                                                                                                                                                                                                                                                                                                                         fidel castro dead yes man name fidel castro die famous castro might think prospect leader cuba might die circulate internet rumor claim fidel castro death suppose announce official conference accord castro health rumor already cuba denied rumor related report inquisitr claim ian fleming author famous james bond series help former president kennedy hatch fidel castro assassination plot accord el nuevo herald rumor claim fidel castro dead man name fidel castro odinga son important politician kenya die weekend age 14 year old castro odinga son raila odinga main opposition leader kenya consider possible successor father possible death name confuse many user twitter begin spread word suppose death cuban leader. kenyan police currently investigate odinga death headline may encourage rumor cuban leader accord laiguana tv also possible blog yusnaby perez may spark rumor claim fidel castro dead public many month strange first year since remember anniversary revolution fidel appear. thursday mark year since former cuban president make public appearance castro apparently receive foreign dignitary home havana comment publicly recent change cuba united state announce december 17 2014. rumor increase even italian newspaper corriere della serum report fidel castro death newspaper quickly retract report allege news castro go viral rumor several medium outlet venezuela cuba claim cuban government plan call press conference discus fidel castro heath condition official international press centre cpi department cuban foreign ministry serve foreign medium say rumor false say false press conference convene no. addition castro influential nephew alejandro castro espin currently greece told radio station uncle good health reason speculate castro death                                                                                                    priest dies wakes up claims god is woman huh \n",
              "15035                                                                                                                                                                                                                                                                                                                                                                                                                                                                                                                                                                                                                                                                                                                                                                                                                                                                                                                                                                                                                                                                                                                                                                                                                                                                                                                                                                                                                                                                                                                                                                                                                                                                                                                                                                                                                                                                                                                                                                                                                                                                                                                                                                                                                                                                                                                                                                                                                                                                                                                                                                                                                                                                                                                                                                                                                                                                                                                                                                                                                                                                                                                                                                                                                                                                                                                                                                                                                                                                                                                                                                                                                                                                                                                                                                                                                                                                                poverty-stricken parent take street auction son high bidder reason need money pay cancer treatment save life twin sister little girl acute leukemia parent tell would die without urgent medical treatment horrify sad photo show 29-year-old meng xiangyan mom twin street eastern china say year ago wonderful family think everything could need wonderful little boy wonderful little girl twin change daughter diagnose suffer leukaemia august last year spend saving borrow everything could friends relative family sell apartment everything live tiny flat near medical center treat thier daughter still nt enough hop raise cash sale son                                                                         video show american journalist behead believed real official family say \n",
              "9131                                                                                                                                                                                                                                                                                                                                                                                                                                                                                                                                                                                                                                                                                                                                                                                                                                                                                                                                                                                                                                                                                                                                                                                                                                                                                                                                                                                                                                                                                                                                                                                                                                                                                                                                                                                                                                                                                                                                                                                                                                                                                                                                                                                                                                                                                                                                                                                                                                                                                                                                                                                                                                                                                                                                                                                                                                                                                                                                                                                                                                                                                                                                                                                      hoax report file website nationalreport.net claim infamous artist arrest london raid art studio website – describe america s no.1 independent news source – say man name paul horner liverpool nick even cheek say bbc representative bansky confirm news complete tale quote london police chief lyndon edward apparently hold press conference announce arrest press conference apparently attend reporter tv crew hoax false report claim banksy arrest nationalreport hilariously article write one darius rubics numerous award journalism include peabody award pulitzer prize despite ludicrous nature article fell hook line sinker former tory mp louise mensch never shy share opinion world say kid metpoliceuk banksy many criminal banksy great artist later apologise dupe many problem hoax ve decided list best one – article claim banksy liverpool know evidence strongly suggest bristol – article darius rubics include dennis rodman leave u talk leader isis obama declares november national muslim appreciation month – london police chief lyndon edward nt exist top cop london sir bernard hogan howe – article suggest banksy nick watford actually fall catchment hertfordshire police – britain police release mugshot people arrest – banksy s pr jo brook despite apparently quote original story tweet say hoax                                                                                                            in vogue v rats war rats are winning \n",
              "17835                                                                                                                                                                                                                                                                                                                                                                                                                                                                                                                                                                                                                                                                                                                                                                                                                                                                                                                                                                                                                                                                                                                                                                                                                                                                                                                                                                                                                                                                                                                                                                                                                                                                                                                                                                                                                                                                                                                                                                                                                                                                                                                                                                                                                                                                                                                                                                                                                                                                                                                                                                                                                                                                                                                                                                                                                                                                                                                                                                                                                                                                                                                                                                                                                                                                                                                                                                                                                                                                                                                                                                                                                                                                                                                                                      sept. 8 u.s. department defense news article talk success airstrikes iraq mention question medium — answer — leader isi abu bakr al-baghdadi article response question report deaths isil leader abu bakr al-baghdadi advisor air strike pentagon spokesman army col. steve warren say u.s. conduct targeted airstrikes specific isil personnel hope dead certainly hope dead conducted strike say every terrorist kill air one less terrorist ground colonel add warren also say talk airstrikes isi certainly isil force realize american airpower deploy chance survival go nil. read whole article article associate press gazette website say u.s. president barack obama address nation wednesday night outline plan expand u.s. effort confront isi iraq syria – jillian                                                                           at cbs detroit fan site scuttlebutt is enough publish batmobile rumor \n",
              "23042                                                                                                                                                                                                                                                                                                                                                                                                                                                                                                                                                                                                                                                                                                                                                                                                                                                                                                                                                                                                                                                                                                                                                                                                                                                                                                                                                                                                                                                                                                                                                                                                                                                                                                                                                                                                                                                                                                                                                                                                                                                                                                                                                                                                                                                                                                                                                                                                                                                                                                                                                                                                                                                                                                                                                                                                                                                                                                                                                                                                                                                                                                                                                                                                                                                                                                                                                                                                                          sydney girlfriend michael phelps reveal born brought man report say thursday taylor lianne chandler date 29-year-old u swimmer month write long post facebook page nov 14 reveal bear intersex name david roy fitch birth bear male genitalia testicle also uterus ovary 41-year-old tell radar online interview also say always felt like woman underwent surgery teens become one post say date many celebrity none know past chandler meet phelps date app tinder olympian arrest drink drive sep 30. suspend competition check rehabilitation facility october chandler say tell phelps complicate past emailed arrest never lie chandler say together short period time never chance tell life also tell radar online intimacy felt phelps amaze first time someone make feel like real woman say s clear still together rehabilitation michael brand date someone like may best thing tell radar online hope follow heart people tell tabloid magazine national enquirer feature chandler cover headline michael phelps new girlfriend bear man lash social medium object call man chuimin sph.com.sg                                                                                                      saudi cleric condemns snowman anti-islamic \n",
              "11936                                                                                                                                                                                                                                                                                                                                                                                                                                                                                                                                                                                                                                                                                                                                                                                                                                                                                                                                                                                                                                                                                                                                                                                                                                                                                                                                                                                                                                                                                                                                                                                                                                                                                                                                                                                                                                                                                                                                                                                                                                                                                                                                                                                                                                                                                                                                                                                                                                                                                                                                                                                                                                                                                                                                                                                                                                                                                                                                                                                                                                                                                                                                                                                                                                                                                                                                                                                                                  story english teacher lucita sandoval affair 16-year-old student go viral video allegedly show two sex leak video question porn website feature woman college student local newspaper find salacious sex tape argentinian teacher affair 16-year-old student likely nothing internet hoax argentinian newspaper debunk racy story actual tape may real feature woman college student ― teacher pupil nuevo diario report story teacher lucita sandoval go viral video allegedly show 26-year-old sex underage student school city santiago del estero scandalous story maintain boy film without consent share 23-minute clip friend whatsapp story rapidly spread throughout latin america pick even steam english wire service report woman video teacher ― boy college student santiago del estero newspaper find tape real appear porn website real woman appear clip identify friend different argentine city corrientes newspaper report teaching degree employ school question newspaper track man video well age 16 college unclear lucita sandoval real teacher victim online hoax entirely made-up person                                                                  teacher sex tape expose fake internet detective trace origin pornographic clip \n",
              "21433                                                                                                                                                                                                                                                                                                                                                                                                                                                                                                                                                                                                                                                                                                                                                                                                                                                                                                                                                                                                                                                                                                                                                                                                                                                                                                                                                                                                                                                                                                                                                                                                                                                                                                                                                                                                                                                                                                                                                                                                                                                                                                                                                                                                                                                                                                                                                                                                                                                                                                                                                                                                                                                                                                                                                                                                                                                                                                   victor go spoils tiger wood winner 14 major golf championships one richest athletes planet spoil include among thing private island sweden wood expect make 2015 debut phoenix open later month put 62-acre island near stockholm market 7.1 million hot property tiger wood caption hot property tiger wood vladi private islands/www.vladi-private-islands.de caption hot property tiger wood vladi private islands/www.vladi-private-islands.de caption hot property tiger wood vladi private islands/www.vladi-private-islands.de caption hot property tiger wood vladi private islands/www.vladi-private-islands.de caption hot property tiger wood vladi private islands/www.vladi-private-islands.de situate lake mälaren private island feature villa hunt lodge guest quarter horse stable dock land strip propeller plane well structure historical significance 11th century viking stronghold main villa fashion log cabin style span 2,475 square foot chef kitchen din area living room fireplace adjacent villa spa pool build around rock outcrop elsewhere ground six golf tee box lrelated pga golfer jim furyk ask 6 million maui estate hot property pga golfer jim furyk ask 6 million maui estate see relate 8 two small island 494-acre water area hunt fishing include sale include furniture property market unfurnished accord vladi private island real estate agency hold list wood whose career earnings eclipse 1.3-billion mark last year announce would take part waste management phoenix open start jan. 29 follow torrey pine la jolla february limit seven pga tour event last year due injury                                                    axl rose dead of course not — tiresome internet death hoax plague hits guns n roses frontman "
            ]
          },
          "metadata": {
            "tags": []
          },
          "execution_count": 59
        }
      ]
    },
    {
      "cell_type": "code",
      "metadata": {
        "id": "KKnGaMOABkKf",
        "colab": {
          "base_uri": "https://localhost:8080/"
        },
        "outputId": "a80e9f92-a0a8-4d88-eead-3825e0c78db7"
      },
      "source": [
        "y_test"
      ],
      "execution_count": null,
      "outputs": [
        {
          "output_type": "execute_result",
          "data": {
            "text/plain": [
              "1325     0\n",
              "20978    1\n",
              "11080    0\n",
              "19183    1\n",
              "6689     0\n",
              "24681    1\n",
              "6306     0\n",
              "12981    1\n",
              "12594    1\n",
              "15633    1\n",
              "7490     0\n",
              "21607    1\n",
              "1333     0\n",
              "6726     0\n",
              "3064     0\n",
              "11170    0\n",
              "11546    0\n",
              "8554     0\n",
              "23861    1\n",
              "2746     0\n",
              "576      0\n",
              "2159     0\n",
              "24691    1\n",
              "20951    1\n",
              "24124    1\n",
              "13188    1\n",
              "24234    1\n",
              "19966    1\n",
              "18922    1\n",
              "10889    0\n",
              "9294     0\n",
              "9614     0\n",
              "5401     0\n",
              "18391    1\n",
              "4840     0\n",
              "8303     0\n",
              "14881    1\n",
              "2468     0\n",
              "17570    1\n",
              "24497    1\n",
              "4351     0\n",
              "15309    1\n",
              "20078    1\n",
              "3649     0\n",
              "15035    1\n",
              "9131     0\n",
              "17835    1\n",
              "23042    1\n",
              "11936    0\n",
              "21433    1\n",
              "Name: Stance, dtype: int64"
            ]
          },
          "metadata": {
            "tags": []
          },
          "execution_count": 60
        }
      ]
    },
    {
      "cell_type": "markdown",
      "metadata": {
        "id": "EQhV5YmjLdH8"
      },
      "source": [
        "Change the objective of the workshop to classify binary fake or true.\n"
      ]
    },
    {
      "cell_type": "markdown",
      "metadata": {
        "id": "Az60xe7zKApm"
      },
      "source": [
        "Let's convert raw documents to a matrix of TF-IDF features. In information retrieval, tf–idf is a short for term frequency–inverse document frequency, is a numerical statistic that is intended to reflect how important a word is to a document in a collection or corpus.\n",
        "\n",
        "\n",
        "\n",
        "\n",
        "**Shoul we introduce the concepts of word embeddings...? Necessary?**"
      ]
    },
    {
      "cell_type": "code",
      "metadata": {
        "id": "4YQ9qeiKrnt6"
      },
      "source": [
        "# # Parameter election\n",
        "ngram_range = (1,2)\n",
        "min_df = 10\n",
        "max_df = 1.\n",
        "max_features = 300"
      ],
      "execution_count": null,
      "outputs": []
    },
    {
      "cell_type": "code",
      "metadata": {
        "id": "g_vh1vqCryFm"
      },
      "source": [
        "# #Convert a collection of raw documents bodies to a matrix of TF-IDF (Term frequency and inverted )  features.\n",
        "\n",
        "tfidf = TfidfVectorizer(encoding='utf-8',\n",
        "                        ngram_range=ngram_range,\n",
        "                        stop_words=None,\n",
        "                        lowercase=False,\n",
        "                        max_df=max_df,\n",
        "                        min_df=min_df,\n",
        "                        max_features=max_features,\n",
        "                        norm='l2',\n",
        "                        sublinear_tf=True)\\\n",
        "                        \n",
        "tf_idf_headlines_train = tfidf.fit_transform(X_train.iloc[:,1]).toarray()\n",
        "                       \n",
        "tf_idf_bodies_train = tfidf.fit_transform(X_train.iloc[:,0]).toarray()\n",
        "labels_train = y_train.to_numpy()\n",
        "\n",
        "tf_idf_headlines_test = tfidf.transform(X_test.iloc[:,1]).toarray()\n",
        "\n",
        "tf_idf_bodies_test = tfidf.transform(X_test.iloc[:,0]).toarray()\n",
        "\n",
        "labels_test = y_test.to_numpy()\n"
      ],
      "execution_count": null,
      "outputs": []
    },
    {
      "cell_type": "code",
      "metadata": {
        "id": "TTJv_SYGkIJh"
      },
      "source": [
        "features_train = np.concatenate((tf_idf_bodies_train,tf_idf_headlines_train),axis=1)\n",
        "features_test = np.concatenate((tf_idf_bodies_test,tf_idf_headlines_test),axis=1)"
      ],
      "execution_count": null,
      "outputs": []
    },
    {
      "cell_type": "code",
      "metadata": {
        "colab": {
          "base_uri": "https://localhost:8080/"
        },
        "id": "6MCAocGZwBT1",
        "outputId": "53dc9057-ae0c-4517-e942-885fccaf3b0a"
      },
      "source": [
        "features_train.shape"
      ],
      "execution_count": null,
      "outputs": [
        {
          "output_type": "execute_result",
          "data": {
            "text/plain": [
              "(199, 317)"
            ]
          },
          "metadata": {
            "tags": []
          },
          "execution_count": 64
        }
      ]
    },
    {
      "cell_type": "code",
      "metadata": {
        "colab": {
          "base_uri": "https://localhost:8080/"
        },
        "id": "aLfVx4F_wEzJ",
        "outputId": "c43f5ee5-909f-402c-daf0-d10357ee1ccc"
      },
      "source": [
        "features_test.shape"
      ],
      "execution_count": null,
      "outputs": [
        {
          "output_type": "execute_result",
          "data": {
            "text/plain": [
              "(50, 600)"
            ]
          },
          "metadata": {
            "tags": []
          },
          "execution_count": 65
        }
      ]
    },
    {
      "cell_type": "markdown",
      "metadata": {
        "id": "w2VNFst3bao1"
      },
      "source": [
        "Now let's apply Principal component analysis in order to reduce our dimensions. \n",
        "\n"
      ]
    },
    {
      "cell_type": "markdown",
      "metadata": {
        "id": "zUfczo5N5I_f"
      },
      "source": [
        "To reduce our dimensions we will use an unsupervised, non-parametric statistical technique called **Principal Component Analysis (PCA)**. We will transform a large set of variables into a smaller dataset that contains most of the information in the large set. How is it possible that even after removing the features we are still having most of the information? We will understand this below.\n",
        "\n",
        "PCA is used primarily for:\n",
        "\n",
        "*   **Performance Improvement:** If your algorithm is too slow due to high dimensions then PCA is to speed it up.\n",
        "\n",
        "*   **Data Visualization:** Sometimes you need to do a scatter plot in 2-Dimension which basically the relationship between two features. But if the dimension is too high then you can’t plot so many scattered plots considering two features each. PCA helps in reducing the dimensions to 2-Dimension and plotting the scattered plots.\n",
        "\n",
        "**How does PCA work?**\n",
        "\n",
        "1.   Standardize the input data (or Normalization of the Variables)\n",
        "2.   Obtain the eigenvectors and eigenvalues of the covariance matrix\n",
        "1.   Order the eigenvalues from highest to lowest and choose the \"k\" eigenvectors that correspond to the largest \"k\" eigenvectors (where \"k\" is the number of dimensions of the new feature subspace).\n",
        "2.   Construct the projection matrix W with the selected \"k\" eigenvectors.\n",
        "\n",
        "In the following image we can see briefly how a PCA works.\n",
        "\n",
        "![](https://drive.google.com/uc?export=view&id=1H1FzQ42hmRHY7GVSVczTQYmL86dtNIFh)\n",
        "\n",
        "But don't worry, all this is already done by scikit-learn (or other Python packages). If you want to know more about how a PCA works you can read the following article: https://medium.com/analytics-vidhya/understanding-principle-component-analysis-pca-step-by-step-e7a4bb4031d9\n",
        "\n",
        "\n",
        "\n",
        "\n",
        "\n",
        "\n",
        "\n",
        "\n",
        "\n",
        "\n"
      ]
    },
    {
      "cell_type": "markdown",
      "metadata": {
        "id": "s9x_wgTVCoCt"
      },
      "source": [
        "As we can see with the scikit-learn library we can apply a PCA with 3 lines of code."
      ]
    },
    {
      "cell_type": "code",
      "metadata": {
        "id": "8ebmhUE3bnQs"
      },
      "source": [
        "from sklearn.decomposition import PCA\n",
        "pca = PCA(n_components=16, random_state=42)\n",
        "#Train\n",
        "pca_features_train = pca.fit(features_train) \n",
        "#Test\n",
        "pca_features_test = pca.fit(features_test) "
      ],
      "execution_count": null,
      "outputs": []
    },
    {
      "cell_type": "markdown",
      "metadata": {
        "id": "sUzdw4cipe6c"
      },
      "source": [
        "We want a % of explained variablity to get higher than 95%, let's check."
      ]
    },
    {
      "cell_type": "code",
      "metadata": {
        "colab": {
          "base_uri": "https://localhost:8080/"
        },
        "id": "y3RGMwJRpQrP",
        "outputId": "ebdbde6e-7a03-4499-94bd-9fe69178bc97"
      },
      "source": [
        "np.sum(pca_features_test.explained_variance_)"
      ],
      "execution_count": null,
      "outputs": [
        {
          "output_type": "execute_result",
          "data": {
            "text/plain": [
              "0.9374720439361688"
            ]
          },
          "metadata": {
            "tags": []
          },
          "execution_count": 67
        }
      ]
    },
    {
      "cell_type": "code",
      "metadata": {
        "colab": {
          "base_uri": "https://localhost:8080/"
        },
        "id": "hVdqCnCHqgyd",
        "outputId": "ca09c837-3ff7-4d65-f321-426c1c7df692"
      },
      "source": [
        "pca_features_test.explained_variance_"
      ],
      "execution_count": null,
      "outputs": [
        {
          "output_type": "execute_result",
          "data": {
            "text/plain": [
              "array([0.09287456, 0.07808105, 0.07609643, 0.06968153, 0.06641332,\n",
              "       0.06254896, 0.06104849, 0.05816845, 0.05307877, 0.05163974,\n",
              "       0.04910718, 0.04760741, 0.04460988, 0.04384796, 0.04203282,\n",
              "       0.04063549])"
            ]
          },
          "metadata": {
            "tags": []
          },
          "execution_count": 68
        }
      ]
    },
    {
      "cell_type": "code",
      "metadata": {
        "id": "kTfmueiKdvPZ"
      },
      "source": [
        "features_train = pca_features_train.components_\n",
        "features_test = pca_features_test.components_ "
      ],
      "execution_count": null,
      "outputs": []
    },
    {
      "cell_type": "code",
      "metadata": {
        "colab": {
          "base_uri": "https://localhost:8080/"
        },
        "id": "2S7XpyWNv751",
        "outputId": "edddf31d-cb1a-420d-8102-c80db691616e"
      },
      "source": [
        "features_train.shape"
      ],
      "execution_count": null,
      "outputs": [
        {
          "output_type": "execute_result",
          "data": {
            "text/plain": [
              "(16, 600)"
            ]
          },
          "metadata": {
            "tags": []
          },
          "execution_count": 70
        }
      ]
    },
    {
      "cell_type": "code",
      "metadata": {
        "colab": {
          "base_uri": "https://localhost:8080/"
        },
        "id": "l0qxQuRjv-Jd",
        "outputId": "8efccbd4-441e-412b-a986-15a936e8e4f7"
      },
      "source": [
        "features_test.shape"
      ],
      "execution_count": null,
      "outputs": [
        {
          "output_type": "execute_result",
          "data": {
            "text/plain": [
              "(16, 600)"
            ]
          },
          "metadata": {
            "tags": []
          },
          "execution_count": 71
        }
      ]
    },
    {
      "cell_type": "code",
      "metadata": {
        "colab": {
          "base_uri": "https://localhost:8080/"
        },
        "id": "Jq81BkbJwGos",
        "outputId": "c05062cd-fb88-4c48-9968-b0a90946f3b0"
      },
      "source": [
        "labels_train.shape"
      ],
      "execution_count": null,
      "outputs": [
        {
          "output_type": "execute_result",
          "data": {
            "text/plain": [
              "(199,)"
            ]
          },
          "metadata": {
            "tags": []
          },
          "execution_count": 72
        }
      ]
    },
    {
      "cell_type": "code",
      "metadata": {
        "colab": {
          "base_uri": "https://localhost:8080/"
        },
        "id": "rhALpIqIwJmY",
        "outputId": "4d93007d-e926-463e-a5a5-813484c2820a"
      },
      "source": [
        "labels_test.shape"
      ],
      "execution_count": null,
      "outputs": [
        {
          "output_type": "execute_result",
          "data": {
            "text/plain": [
              "(50,)"
            ]
          },
          "metadata": {
            "tags": []
          },
          "execution_count": 73
        }
      ]
    },
    {
      "cell_type": "markdown",
      "metadata": {
        "id": "aKm89agzKYmS"
      },
      "source": [
        "Save all to csv files in order to be easy to call these files on training without repiting this process each time we want to train the algorithms."
      ]
    },
    {
      "cell_type": "code",
      "metadata": {
        "id": "FbOLCOjJsAD4"
      },
      "source": [
        "# Save X_train\n",
        "X_train.to_csv(\"/content/drive/MyDrive/X_train.csv\")\n",
        "    \n",
        "# Save X_test    \n",
        "X_test.to_csv(\"/content/drive/MyDrive/X_test.csv\")\n",
        "    \n",
        "# Save y_train\n",
        "y_train.to_csv(\"/content/drive/MyDrive/y_train.csv\")\n",
        "    \n",
        "# Save y_test\n",
        "y_test.to_csv(\"/content/drive/MyDrive/y_test.csv\")\n",
        "    \n",
        "# Save train_df\n",
        "sample_train_df.to_csv(\"/content/drive/MyDrive/train_df.csv\")\n",
        "    \n",
        "# Savefeatures_train\n",
        "np.savetxt('/content/drive/MyDrive/features_train.csv',features_train,delimiter=',')\n",
        "\n",
        "# labels_train\n",
        "np.savetxt('/content/drive/MyDrive/labels_train.csv',labels_train,delimiter=',')\n",
        "\n",
        "# features_test\n",
        "np.savetxt('/content/drive/MyDrive/features_test.csv',features_train,delimiter=',')\n",
        "\n",
        "# labels_test\n",
        "np.savetxt('/content/drive/MyDrive/labels_test.csv',labels_test,delimiter=',')"
      ],
      "execution_count": null,
      "outputs": []
    },
    {
      "cell_type": "code",
      "metadata": {
        "id": "1l1v0_DkeWMo",
        "colab": {
          "base_uri": "https://localhost:8080/"
        },
        "outputId": "0f843c30-d1d7-431f-de00-689317c98c20"
      },
      "source": [
        "print(\"Size of training data: {}\".format(len(X_train)))\n",
        "#print(\"Size of validation data: {}\".format(len(x_valid)))\n",
        "print(\"Size of test data: {}\".format(len(X_test)))"
      ],
      "execution_count": null,
      "outputs": [
        {
          "output_type": "stream",
          "text": [
            "Size of training data: 199\n",
            "Size of test data: 50\n"
          ],
          "name": "stdout"
        }
      ]
    },
    {
      "cell_type": "markdown",
      "metadata": {
        "id": "WJoBxfO9KeJ-"
      },
      "source": [
        "Final step is to save all files into pickles.\n",
        "\n",
        "Pickle is used for converting an object in memory to a byte stream that can be stored on disk or sent over a network. Later on, this character stream can then be retrieved and de-serialized back to a Python object. Pickle is the process of encoding data with fewer bits, in order to save disk space.\n",
        "\n",
        "More information: https://www.datacamp.com/community/tutorials/pickle-python-tutorial"
      ]
    },
    {
      "cell_type": "code",
      "metadata": {
        "id": "plcAlVAs8y1H"
      },
      "source": [
        "# with open('/content/tfidf.pkl', 'wb') as f:\n",
        "#     pickle.dump(tfidf, f)\n",
        "#     f.close()"
      ],
      "execution_count": null,
      "outputs": []
    },
    {
      "cell_type": "code",
      "metadata": {
        "id": "SVCzDQ3lJLnp"
      },
      "source": [
        "# import pickle\n",
        "# # X_train\n",
        "# with open('/content/X_train.pickle', 'wb') as output:\n",
        "#     pickle.dump(X_train, output)\n",
        "    \n",
        "# # X_test    \n",
        "# with open('/content/X_test.pickle', 'wb') as output:\n",
        "#     pickle.dump(X_test, output)\n",
        "    \n",
        "# # y_train\n",
        "# with open('/content/y_train.pickle', 'wb') as output:\n",
        "#     pickle.dump(y_train, output)\n",
        "    \n",
        "# # y_test\n",
        "# with open('/content/y_test.pickle', 'wb') as output:\n",
        "#     pickle.dump(y_test, output)\n",
        "# # train_df\n",
        "# with open('/content/df.pickle', 'wb') as output:\n",
        "#     pickle.dump(train_df, output)\n",
        "    \n",
        "# # features_train\n",
        "# with open('/content/features_train.pickle', 'wb') as output:\n",
        "#     pickle.dump(features_train, output)\n",
        "\n",
        "# # labels_train\n",
        "# with open('/content/labels_train.pickle', 'wb') as output:\n",
        "#     pickle.dump(labels_train, output)\n",
        "\n",
        "# # features_test\n",
        "# with open('/content/features_test.pickle', 'wb') as output:\n",
        "#     pickle.dump(features_test, output)\n",
        "\n",
        "# # labels_test\n",
        "# with open('/content/labels_test.pickle', 'wb') as output:\n",
        "#     pickle.dump(labels_test, output)\n",
        "    \n",
        "# # TF-IDF object\n",
        "# with open('/content/tfidf.pickle', 'wb') as output:\n",
        "#     pickle.dump(tfidf, output)"
      ],
      "execution_count": null,
      "outputs": []
    },
    {
      "cell_type": "markdown",
      "metadata": {
        "id": "IT00PAj9VJ40"
      },
      "source": [
        "## **4. Training several models to get results**\n",
        "\n",
        "\n",
        "On this sections we will start training several machine learning and deep learning algorithms and fine tunning each one of them in order to get the best algorithm to classify fake news. We will cover Gradient Boosting Machine, Multilayer Perceptron with one hidden layer, Random Forest and Ridge Logistic Regression."
      ]
    },
    {
      "cell_type": "markdown",
      "metadata": {
        "id": "fS34UHnmQSvE"
      },
      "source": [
        "### **4.1 Gradient Boosting Machine**"
      ]
    },
    {
      "cell_type": "markdown",
      "metadata": {
        "id": "K0C5p2F0fUf6"
      },
      "source": [
        "#### **4.1.1 Concepts**"
      ]
    },
    {
      "cell_type": "markdown",
      "metadata": {
        "id": "-7pCLFoLfnTN"
      },
      "source": [
        "Gradient boosting is a machine learning technique for regression and classification problems, which produces a prediction model in the form of an ensemble of weak prediction models. \n",
        "\n",
        "Boosting is a sequential technique which works on the principle of ensemble. It combines a set of weak learners and delivers improved prediction accuracy. At any instant t, the model outcomes are weighed based on the outcomes of previous instant t-1. The outcomes predicted correctly are given a lower weight and the ones miss-classified are weighted higher. This technique is followed for a classification problem while a similar technique is used for regression.\n",
        "\n",
        "![](https://drive.google.com/uc?export=view&id=1e6GaIlqTFdpFMpqnaYyHgNDjQ2R9ut28)\n",
        "\n",
        "More information: https://towardsdatascience.com/understanding-gradient-boosting-machines-9be756fe76ab"
      ]
    },
    {
      "cell_type": "markdown",
      "metadata": {
        "id": "pAXkwDgQfinn"
      },
      "source": [
        "#### **4.1.2 Training the model**\n",
        "\n",
        "Let's implement the algorithm in Python, we will use the scikit-learn an open source machine learning library that supports supervised and unsupervised learning. It also provides various tools for model fitting, data preprocessing, model selection and evaluation, and many other utilities. So let's start!"
      ]
    },
    {
      "cell_type": "markdown",
      "metadata": {
        "id": "tHf0I5R3QSvF"
      },
      "source": [
        "References: \n",
        "\n",
        "https://www.analyticsvidhya.com/blog/2016/02/complete-guide-parameter-tuning-gradient-boosting-gbm-python/"
      ]
    },
    {
      "cell_type": "markdown",
      "metadata": {
        "id": "5vmes1qIIFx9"
      },
      "source": [
        "First of all, we import the necessary libraries. The scikit-learn Python machine learning library provides an implementation of Gradient Boosting ensembles for machine learning."
      ]
    },
    {
      "cell_type": "code",
      "metadata": {
        "id": "Tqet4kZgQSvF"
      },
      "source": [
        "import pickle\n",
        "import numpy as np\n",
        "import nltk\n",
        "from nltk.corpus import stopwords\n",
        "from nltk.stem import WordNetLemmatizer\n",
        "from sklearn.feature_extraction.text import TfidfVectorizer\n",
        "#GBM algorithm\n",
        "from sklearn.ensemble import GradientBoostingClassifier\n",
        "from pprint import pprint\n",
        "import lightgbm as lgb\n",
        "from sklearn.model_selection import RandomizedSearchCV\n",
        "from sklearn.model_selection import GridSearchCV\n",
        "from sklearn.metrics import classification_report, confusion_matrix, accuracy_score\n",
        "from sklearn.model_selection import ShuffleSplit\n",
        "import matplotlib.pyplot as plt\n",
        "import seaborn as sns\n",
        "import pandas as pd"
      ],
      "execution_count": null,
      "outputs": []
    },
    {
      "cell_type": "code",
      "metadata": {
        "id": "9AFJS9s2mzfJ"
      },
      "source": [
        "import matplotlib.pylab as plt\n",
        "\n",
        "%matplotlib inline\n",
        "\n",
        "from matplotlib.pylab import rcParams\n",
        "\n",
        "rcParams['figure.figsize'] = 12, 4"
      ],
      "execution_count": null,
      "outputs": []
    },
    {
      "cell_type": "markdown",
      "metadata": {
        "id": "frPNr48qJKSh"
      },
      "source": [
        "Before starting we take a look at the shape of our training set and test set."
      ]
    },
    {
      "cell_type": "code",
      "metadata": {
        "id": "MWzMMOrPQSvL",
        "colab": {
          "base_uri": "https://localhost:8080/"
        },
        "outputId": "1af976a9-66d2-453f-ef38-99092d4a3a6c"
      },
      "source": [
        "print(features_train.shape)\n",
        "print(labels_train.shape)"
      ],
      "execution_count": null,
      "outputs": [
        {
          "output_type": "stream",
          "text": [
            "(16, 600)\n",
            "(199,)\n"
          ],
          "name": "stdout"
        }
      ]
    },
    {
      "cell_type": "code",
      "metadata": {
        "id": "SLnyc4PEHq_g",
        "colab": {
          "base_uri": "https://localhost:8080/"
        },
        "outputId": "386f8ed0-d154-4f11-d3be-4a6e214f82f8"
      },
      "source": [
        "print(features_test.shape)\n",
        "print(labels_test.shape)"
      ],
      "execution_count": null,
      "outputs": [
        {
          "output_type": "stream",
          "text": [
            "(16, 600)\n",
            "(50,)\n"
          ],
          "name": "stdout"
        }
      ]
    },
    {
      "cell_type": "markdown",
      "metadata": {
        "id": "-OrYcrkeQSvN"
      },
      "source": [
        "#### **4.1.3 Cross-Validation for Hyperparameter tuning**"
      ]
    },
    {
      "cell_type": "markdown",
      "metadata": {
        "id": "TO8w5xB5QSvO"
      },
      "source": [
        "In contrast to model parameters which are learned during training, model hyperparameters are set by the data scientist ahead of training and control implementation aspects of the model, these hyperparameters can be thought of as model settings. These settings need to be tuned for each problem because the best model hyperparameters for one particular dataset will not be the best across all datasets. The hyperparameter optimization is the process of hyperparameter tuning, where we find the combination of hyperparameter values for a machine learning model (in this case the GBM) that performs the best - as measured on a validation dataset - for a problem.\n",
        "\n",
        "In summary, model tuning is the process of finding the best machine learning model hyperparameters for a particular data set. Random and Grid Search are two uniformed methods for hyperparameter tuning and Scikit Learn offers these functions through GridSearchCV and RandomizedSearchCV. Below we will see how to apply both models.\n",
        "\n",
        "![](https://drive.google.com/uc?export=view&id=1hOgW66Cvn2R8oE8UKNVKeCBiih5AWba4)\n",
        "\n",
        "\n",
        "I would also like to clarify the concept of cross-Validation. Cross-validation is a resampling procedure used to evaluate machine learning models. This method has a single parameter k which refers to the number of partitions the given data sample is to be split into. So, they are often called k-fold cross-validation. The data is divided into training, validating and testing set to prevent data leaks. So the testing set should only be transformed after model is fit using the train and validation set. Each time the model fits the train data they are evaluate with the test data and the average of evaluation score is used to analyze the overall model.\n",
        "\n",
        "\n",
        "![](https://drive.google.com/uc?export=view&id=1xYnhD3ap746eUU3Kc5jXN1g-deU-Da_P)\n",
        "\n",
        "\n"
      ]
    },
    {
      "cell_type": "markdown",
      "metadata": {
        "id": "cOBg3q_2m3N8"
      },
      "source": [
        "First, we can see what hyperparameters the model has:"
      ]
    },
    {
      "cell_type": "code",
      "metadata": {
        "id": "gWT4DbKNQSvO",
        "colab": {
          "base_uri": "https://localhost:8080/"
        },
        "outputId": "bfb0a2af-a1af-4781-d795-6ffc11104e73"
      },
      "source": [
        "gb_0 = GradientBoostingClassifier(random_state = 8)\n",
        "print('Parameters currently in use:\\n')\n",
        "pprint(gb_0.get_params())"
      ],
      "execution_count": null,
      "outputs": [
        {
          "output_type": "stream",
          "text": [
            "Parameters currently in use:\n",
            "\n",
            "{'ccp_alpha': 0.0,\n",
            " 'criterion': 'friedman_mse',\n",
            " 'init': None,\n",
            " 'learning_rate': 0.1,\n",
            " 'loss': 'deviance',\n",
            " 'max_depth': 3,\n",
            " 'max_features': None,\n",
            " 'max_leaf_nodes': None,\n",
            " 'min_impurity_decrease': 0.0,\n",
            " 'min_impurity_split': None,\n",
            " 'min_samples_leaf': 1,\n",
            " 'min_samples_split': 2,\n",
            " 'min_weight_fraction_leaf': 0.0,\n",
            " 'n_estimators': 100,\n",
            " 'n_iter_no_change': None,\n",
            " 'presort': 'deprecated',\n",
            " 'random_state': 8,\n",
            " 'subsample': 1.0,\n",
            " 'tol': 0.0001,\n",
            " 'validation_fraction': 0.1,\n",
            " 'verbose': 0,\n",
            " 'warm_start': False}\n"
          ],
          "name": "stdout"
        }
      ]
    },
    {
      "cell_type": "markdown",
      "metadata": {
        "id": "Fr2Vt6CaQSvS"
      },
      "source": [
        "We'll tune the following ones:\n",
        "\n",
        "Tree-related hyperparameters:\n",
        "* `n_estimators` = number of trees in the forest.\n",
        "* `max_features` = max number of features considered for splitting a node\n",
        "* `max_depth` = max number of levels in each decision tree\n",
        "* `min_samples_split` = min number of data points placed in a node before the node is split\n",
        "* `min_samples_leaf` = min number of data points allowed in a leaf node\n",
        "\n",
        "Boosting-related hyperparameters:\n",
        "* `learning_rate`= learning rate shrinks the contribution of each tree by learning_rate.\n",
        "* `subsample`= the fraction of samples to be used for fitting the individual base learners."
      ]
    },
    {
      "cell_type": "markdown",
      "metadata": {
        "id": "nQAd1qF6QSvS"
      },
      "source": [
        "#### **4.1.4 Randomized Search Cross Validation**"
      ]
    },
    {
      "cell_type": "markdown",
      "metadata": {
        "id": "mMiK_ZXiSop7"
      },
      "source": [
        "Random Search sets up a grid of hyperparameter values and selects random combinations to train the model and score. This allows you to explicitly control the number of parameter combinations that are attempted."
      ]
    },
    {
      "cell_type": "markdown",
      "metadata": {
        "id": "nK2WJU7IQSvT"
      },
      "source": [
        "We first need to define the grid. Since we have a huge amount of hyperparameters, we'll try few values for each one."
      ]
    },
    {
      "cell_type": "code",
      "metadata": {
        "id": "0x_uswewQSvT",
        "colab": {
          "base_uri": "https://localhost:8080/"
        },
        "outputId": "9cec6d12-3919-4c29-f09a-4145209a7a91"
      },
      "source": [
        "n_estimators = [200, 800]\n",
        "max_features = ['auto', 'sqrt']\n",
        "max_depth = [10, 40]\n",
        "max_depth.append(None)\n",
        "min_samples_split = [10, 30, 50]\n",
        "min_samples_leaf = [1, 2, 4]\n",
        "learning_rate = [.1, .5]\n",
        "subsample = [.5, 1.]\n",
        "\n",
        "random_grid = {'n_estimators': n_estimators,\n",
        "               'max_features': max_features,\n",
        "               'max_depth': max_depth,\n",
        "               'min_samples_split': min_samples_split,\n",
        "               'min_samples_leaf': min_samples_leaf,\n",
        "               'learning_rate': learning_rate,\n",
        "               'subsample': subsample}\n",
        "\n",
        "pprint(random_grid)"
      ],
      "execution_count": null,
      "outputs": [
        {
          "output_type": "stream",
          "text": [
            "{'learning_rate': [0.1, 0.5],\n",
            " 'max_depth': [10, 40, None],\n",
            " 'max_features': ['auto', 'sqrt'],\n",
            " 'min_samples_leaf': [1, 2, 4],\n",
            " 'min_samples_split': [10, 30, 50],\n",
            " 'n_estimators': [200, 800],\n",
            " 'subsample': [0.5, 1.0]}\n"
          ],
          "name": "stdout"
        }
      ]
    },
    {
      "cell_type": "markdown",
      "metadata": {
        "id": "PL-5PgInQSvW"
      },
      "source": [
        "Then, we'll perform the Random Search:"
      ]
    },
    {
      "cell_type": "code",
      "metadata": {
        "id": "eu6nJ9PGQSvX",
        "colab": {
          "base_uri": "https://localhost:8080/",
          "height": 375
        },
        "outputId": "ac1e1126-03a5-4f8b-b8e5-d9185c4ee10e"
      },
      "source": [
        "gbc = GradientBoostingClassifier(random_state=8)\n",
        "\n",
        "random_search = RandomizedSearchCV(estimator=gbc,\n",
        "                                   param_distributions=random_grid,\n",
        "                                   n_iter=10,\n",
        "                                   scoring='accuracy',\n",
        "                                   cv=3, \n",
        "                                   verbose=1, \n",
        "                                   random_state=8)\n",
        "print(features_train.shape)\n",
        "print(labels_train.shape)\n",
        "random_search.fit(X = features_train, y= labels_train)"
      ],
      "execution_count": null,
      "outputs": [
        {
          "output_type": "stream",
          "text": [
            "(16, 600)\n",
            "(199,)\n"
          ],
          "name": "stdout"
        },
        {
          "output_type": "error",
          "ename": "ValueError",
          "evalue": "ignored",
          "traceback": [
            "\u001b[0;31m---------------------------------------------------------------------------\u001b[0m",
            "\u001b[0;31mValueError\u001b[0m                                Traceback (most recent call last)",
            "\u001b[0;32m<ipython-input-84-dd7ae39ba224>\u001b[0m in \u001b[0;36m<module>\u001b[0;34m()\u001b[0m\n\u001b[1;32m     12\u001b[0m \u001b[0mprint\u001b[0m\u001b[0;34m(\u001b[0m\u001b[0mfeatures_train\u001b[0m\u001b[0;34m.\u001b[0m\u001b[0mshape\u001b[0m\u001b[0;34m)\u001b[0m\u001b[0;34m\u001b[0m\u001b[0;34m\u001b[0m\u001b[0m\n\u001b[1;32m     13\u001b[0m \u001b[0mprint\u001b[0m\u001b[0;34m(\u001b[0m\u001b[0mlabels_train\u001b[0m\u001b[0;34m.\u001b[0m\u001b[0mshape\u001b[0m\u001b[0;34m)\u001b[0m\u001b[0;34m\u001b[0m\u001b[0;34m\u001b[0m\u001b[0m\n\u001b[0;32m---> 14\u001b[0;31m \u001b[0mrandom_search\u001b[0m\u001b[0;34m.\u001b[0m\u001b[0mfit\u001b[0m\u001b[0;34m(\u001b[0m\u001b[0mX\u001b[0m \u001b[0;34m=\u001b[0m \u001b[0mfeatures_train\u001b[0m\u001b[0;34m,\u001b[0m \u001b[0my\u001b[0m\u001b[0;34m=\u001b[0m \u001b[0mlabels_train\u001b[0m\u001b[0;34m)\u001b[0m\u001b[0;34m\u001b[0m\u001b[0;34m\u001b[0m\u001b[0m\n\u001b[0m",
            "\u001b[0;32m/usr/local/lib/python3.7/dist-packages/sklearn/model_selection/_search.py\u001b[0m in \u001b[0;36mfit\u001b[0;34m(self, X, y, groups, **fit_params)\u001b[0m\n\u001b[1;32m    648\u001b[0m             \u001b[0mrefit_metric\u001b[0m \u001b[0;34m=\u001b[0m \u001b[0;34m'score'\u001b[0m\u001b[0;34m\u001b[0m\u001b[0;34m\u001b[0m\u001b[0m\n\u001b[1;32m    649\u001b[0m \u001b[0;34m\u001b[0m\u001b[0m\n\u001b[0;32m--> 650\u001b[0;31m         \u001b[0mX\u001b[0m\u001b[0;34m,\u001b[0m \u001b[0my\u001b[0m\u001b[0;34m,\u001b[0m \u001b[0mgroups\u001b[0m \u001b[0;34m=\u001b[0m \u001b[0mindexable\u001b[0m\u001b[0;34m(\u001b[0m\u001b[0mX\u001b[0m\u001b[0;34m,\u001b[0m \u001b[0my\u001b[0m\u001b[0;34m,\u001b[0m \u001b[0mgroups\u001b[0m\u001b[0;34m)\u001b[0m\u001b[0;34m\u001b[0m\u001b[0;34m\u001b[0m\u001b[0m\n\u001b[0m\u001b[1;32m    651\u001b[0m         \u001b[0mfit_params\u001b[0m \u001b[0;34m=\u001b[0m \u001b[0m_check_fit_params\u001b[0m\u001b[0;34m(\u001b[0m\u001b[0mX\u001b[0m\u001b[0;34m,\u001b[0m \u001b[0mfit_params\u001b[0m\u001b[0;34m)\u001b[0m\u001b[0;34m\u001b[0m\u001b[0;34m\u001b[0m\u001b[0m\n\u001b[1;32m    652\u001b[0m \u001b[0;34m\u001b[0m\u001b[0m\n",
            "\u001b[0;32m/usr/local/lib/python3.7/dist-packages/sklearn/utils/validation.py\u001b[0m in \u001b[0;36mindexable\u001b[0;34m(*iterables)\u001b[0m\n\u001b[1;32m    246\u001b[0m     \"\"\"\n\u001b[1;32m    247\u001b[0m     \u001b[0mresult\u001b[0m \u001b[0;34m=\u001b[0m \u001b[0;34m[\u001b[0m\u001b[0m_make_indexable\u001b[0m\u001b[0;34m(\u001b[0m\u001b[0mX\u001b[0m\u001b[0;34m)\u001b[0m \u001b[0;32mfor\u001b[0m \u001b[0mX\u001b[0m \u001b[0;32min\u001b[0m \u001b[0miterables\u001b[0m\u001b[0;34m]\u001b[0m\u001b[0;34m\u001b[0m\u001b[0;34m\u001b[0m\u001b[0m\n\u001b[0;32m--> 248\u001b[0;31m     \u001b[0mcheck_consistent_length\u001b[0m\u001b[0;34m(\u001b[0m\u001b[0;34m*\u001b[0m\u001b[0mresult\u001b[0m\u001b[0;34m)\u001b[0m\u001b[0;34m\u001b[0m\u001b[0;34m\u001b[0m\u001b[0m\n\u001b[0m\u001b[1;32m    249\u001b[0m     \u001b[0;32mreturn\u001b[0m \u001b[0mresult\u001b[0m\u001b[0;34m\u001b[0m\u001b[0;34m\u001b[0m\u001b[0m\n\u001b[1;32m    250\u001b[0m \u001b[0;34m\u001b[0m\u001b[0m\n",
            "\u001b[0;32m/usr/local/lib/python3.7/dist-packages/sklearn/utils/validation.py\u001b[0m in \u001b[0;36mcheck_consistent_length\u001b[0;34m(*arrays)\u001b[0m\n\u001b[1;32m    210\u001b[0m     \u001b[0;32mif\u001b[0m \u001b[0mlen\u001b[0m\u001b[0;34m(\u001b[0m\u001b[0muniques\u001b[0m\u001b[0;34m)\u001b[0m \u001b[0;34m>\u001b[0m \u001b[0;36m1\u001b[0m\u001b[0;34m:\u001b[0m\u001b[0;34m\u001b[0m\u001b[0;34m\u001b[0m\u001b[0m\n\u001b[1;32m    211\u001b[0m         raise ValueError(\"Found input variables with inconsistent numbers of\"\n\u001b[0;32m--> 212\u001b[0;31m                          \" samples: %r\" % [int(l) for l in lengths])\n\u001b[0m\u001b[1;32m    213\u001b[0m \u001b[0;34m\u001b[0m\u001b[0m\n\u001b[1;32m    214\u001b[0m \u001b[0;34m\u001b[0m\u001b[0m\n",
            "\u001b[0;31mValueError\u001b[0m: Found input variables with inconsistent numbers of samples: [16, 199]"
          ]
        }
      ]
    },
    {
      "cell_type": "markdown",
      "metadata": {
        "id": "KOS16ye5QSvZ"
      },
      "source": [
        "We can see the best hyperparameters resulting from the Random Search:"
      ]
    },
    {
      "cell_type": "code",
      "metadata": {
        "id": "FT8yOPndQSvZ"
      },
      "source": [
        "print(\"The best hyperparameters from Random Search are:\")\n",
        "print(random_search.best_params_)\n",
        "print(\"\")\n",
        "print(\"The mean accuracy of a model with these hyperparameters is:\")\n",
        "print(random_search.best_score_)"
      ],
      "execution_count": null,
      "outputs": []
    },
    {
      "cell_type": "markdown",
      "metadata": {
        "id": "wRGdqr4BQSvb"
      },
      "source": [
        "After that, we can do a more exhaustive search centered in those values:"
      ]
    },
    {
      "cell_type": "markdown",
      "metadata": {
        "id": "bHhrpP5uQSvc"
      },
      "source": [
        "#### **4.1.5 Grid Search Cross Validation**"
      ]
    },
    {
      "cell_type": "markdown",
      "metadata": {
        "id": "MEIja3l3T5GA"
      },
      "source": [
        "Grid Search can be thought of as an exhaustive search for selecting a model. In Grid Search, the data scientist sets up a grid of hyperparameter values and for each combination, trains a model and scores on the testing data."
      ]
    },
    {
      "cell_type": "markdown",
      "metadata": {
        "id": "bkmcMX7iNa1a"
      },
      "source": [
        "We first need to define the grid and then, we'll perform the Grid Search:"
      ]
    },
    {
      "cell_type": "code",
      "metadata": {
        "id": "GVySMnq0QSvc"
      },
      "source": [
        "max_depth = [5, 10, 15]\n",
        "max_features = ['sqrt']\n",
        "min_samples_leaf = [2]\n",
        "min_samples_split = [50, 100]\n",
        "n_estimators = [800]\n",
        "learning_rate = [.1, .5]\n",
        "subsample = [1.]\n",
        "\n",
        "param_grid = {\n",
        "    'max_depth': max_depth,\n",
        "    'max_features': max_features,\n",
        "    'min_samples_leaf': min_samples_leaf,\n",
        "    'min_samples_split': min_samples_split,\n",
        "    'n_estimators': n_estimators,\n",
        "    'learning_rate': learning_rate,\n",
        "    'subsample': subsample\n",
        "\n",
        "}\n",
        "\n",
        "gbc = GradientBoostingClassifier(random_state=8)\n",
        "\n",
        "cv_sets = ShuffleSplit(n_splits = 3, test_size = .33, random_state = 8)\n",
        "\n",
        "grid_search = GridSearchCV(estimator=gbc, \n",
        "                           param_grid=param_grid,\n",
        "                           scoring='accuracy',\n",
        "                           cv=cv_sets,\n",
        "                           verbose=1)\n",
        "\n",
        "grid_search.fit(features_train, labels_train)"
      ],
      "execution_count": null,
      "outputs": []
    },
    {
      "cell_type": "markdown",
      "metadata": {
        "id": "LqhCGQzYQSve"
      },
      "source": [
        "The best hyperparameters turn out to be:"
      ]
    },
    {
      "cell_type": "code",
      "metadata": {
        "id": "PDIYmvNnQSve"
      },
      "source": [
        "print(\"The best hyperparameters from Grid Search are:\")\n",
        "print(grid_search.best_params_)\n",
        "print(\"\")\n",
        "print(\"The mean accuracy of a model with these hyperparameters is:\")\n",
        "print(grid_search.best_score_)"
      ],
      "execution_count": null,
      "outputs": []
    },
    {
      "cell_type": "markdown",
      "metadata": {
        "id": "uQRXCXL1QSvh"
      },
      "source": [
        "Let's save the model in `best_gbc`:"
      ]
    },
    {
      "cell_type": "code",
      "metadata": {
        "id": "k9Uwu1cHQSvh"
      },
      "source": [
        "best_gbc = grid_search.best_estimator_"
      ],
      "execution_count": null,
      "outputs": []
    },
    {
      "cell_type": "code",
      "metadata": {
        "id": "K4yscAKMQSvj"
      },
      "source": [
        "best_gbc"
      ],
      "execution_count": null,
      "outputs": []
    },
    {
      "cell_type": "markdown",
      "metadata": {
        "id": "cNUY5WhWQSvl"
      },
      "source": [
        "We now know the best gradient boosting model. Let's fit it and see how it performs:"
      ]
    },
    {
      "cell_type": "markdown",
      "metadata": {
        "id": "Y7H_s9H_QSvm"
      },
      "source": [
        "#### **4.1.6 Model fit and performance**"
      ]
    },
    {
      "cell_type": "markdown",
      "metadata": {
        "id": "nw9LYDtDQSvm"
      },
      "source": [
        "Now, we can fit the model to our training data:"
      ]
    },
    {
      "cell_type": "code",
      "metadata": {
        "id": "GFO18qEKQSvm"
      },
      "source": [
        "best_gbc.fit(features_train, labels_train)"
      ],
      "execution_count": null,
      "outputs": []
    },
    {
      "cell_type": "code",
      "metadata": {
        "id": "rbRCottuoCq7"
      },
      "source": [
        "features_train.shape"
      ],
      "execution_count": null,
      "outputs": []
    },
    {
      "cell_type": "code",
      "metadata": {
        "id": "DdftUDuCoEvR"
      },
      "source": [
        "features_test.shape"
      ],
      "execution_count": null,
      "outputs": []
    },
    {
      "cell_type": "markdown",
      "metadata": {
        "id": "81x94XNnQSvo"
      },
      "source": [
        "And get the predictions:"
      ]
    },
    {
      "cell_type": "code",
      "metadata": {
        "id": "mUvac0_1QSvp"
      },
      "source": [
        "gbc_pred = best_gbc.predict(features_test)\n"
      ],
      "execution_count": null,
      "outputs": []
    },
    {
      "cell_type": "markdown",
      "metadata": {
        "id": "UTRPGoX_QSvr"
      },
      "source": [
        "The conditional class probabilities can be obtained by typing:\n",
        "\n",
        "`gbc_pred = best_gbc.predict_proba(features_test)`"
      ]
    },
    {
      "cell_type": "markdown",
      "metadata": {
        "id": "mVLxE-pwQSvr"
      },
      "source": [
        "For performance analysis, we will use the confusion matrix, the classification report and the accuracy on both training and test data:"
      ]
    },
    {
      "cell_type": "markdown",
      "metadata": {
        "id": "ZOQBfXIiQSvs"
      },
      "source": [
        "#### **4.1.7 Training accuracy**"
      ]
    },
    {
      "cell_type": "markdown",
      "metadata": {
        "id": "B56pz0G0Vhzi"
      },
      "source": [
        "The sklearn.metrics module implements several loss, score, and utility functions to measure classification performance. Let's see the most interesting"
      ]
    },
    {
      "cell_type": "code",
      "metadata": {
        "id": "q0QOJ1gxQSvs"
      },
      "source": [
        "print(\"The training accuracy is: \")\n",
        "print(accuracy_score(labels_train, best_gbc.predict(features_train)))"
      ],
      "execution_count": null,
      "outputs": []
    },
    {
      "cell_type": "markdown",
      "metadata": {
        "id": "UrzDjSuIQSvu"
      },
      "source": [
        "#### **4.1.8 Test accuracy**"
      ]
    },
    {
      "cell_type": "code",
      "metadata": {
        "id": "i0ELIv42QSvu"
      },
      "source": [
        "print(\"The test accuracy is: \")\n",
        "print(accuracy_score(labels_test, gbc_pred))"
      ],
      "execution_count": null,
      "outputs": []
    },
    {
      "cell_type": "markdown",
      "metadata": {
        "id": "2OlQevK_QSvw"
      },
      "source": [
        "#### **4.1.9 Classification report**"
      ]
    },
    {
      "cell_type": "code",
      "metadata": {
        "id": "lIFYrnM7QSvw"
      },
      "source": [
        "print(\"Classification report\")\n",
        "print(classification_report(labels_test,gbc_pred))"
      ],
      "execution_count": null,
      "outputs": []
    },
    {
      "cell_type": "markdown",
      "metadata": {
        "id": "Fx2wnQZ9QSvy"
      },
      "source": [
        "#### **4.1.10 Confusion matrix**\n",
        "\n",
        "A confusion matrix, also known as an error matrix, is a specific table layout that allows visualization of the performance of an algorithm, typically a supervised learning one.\n"
      ]
    },
    {
      "cell_type": "code",
      "metadata": {
        "id": "yDNc50WFQSvz"
      },
      "source": [
        "conf_matrix = confusion_matrix(labels_test, gbc_pred)\n",
        "plt.figure(figsize=(12.8,6))\n",
        "sns.heatmap(conf_matrix, \n",
        "            annot=True,\n",
        "            cmap=\"Blues\")\n",
        "plt.ylabel('Predicted')\n",
        "plt.xlabel('Actual')\n",
        "plt.title('Confusion matrix')\n",
        "plt.show()\n"
      ],
      "execution_count": null,
      "outputs": []
    },
    {
      "cell_type": "markdown",
      "metadata": {
        "id": "rGKfe_SQQSv0"
      },
      "source": [
        "At this point, we could get the average time the model takes to get predictions. We want the algorithm to be fast since we are creating an app which will gather data from the internet and get the predicted categories. However, since the difference when predicting 10-20 observations will be very little, we won't take this into account.\n",
        "\n",
        "However, the code below could do this task:\n",
        "\n",
        "```python\n",
        "features_time = features_train\n",
        "elapsed_list = []\n",
        "for i in range(0,10):\n",
        "    \n",
        "    start = time.time()\n",
        "    predictions = best_lrc.predict(features_time)\n",
        "    end = time.time()\n",
        "    elapsed = end - start\n",
        "    elapsed_list.append(elapsed)\n",
        "\n",
        "mean_time_elapsed = np.mean(elapsed_list)\n",
        "```"
      ]
    },
    {
      "cell_type": "markdown",
      "metadata": {
        "id": "ekhCfPIQQSv0"
      },
      "source": [
        "Let's see if the hyperparameter tuning process has returned a better model:"
      ]
    },
    {
      "cell_type": "code",
      "metadata": {
        "id": "h1w_DYQmQSv1"
      },
      "source": [
        "base_model = GradientBoostingClassifier(random_state = 8)\n",
        "base_model.fit(features_train, labels_train)\n",
        "accuracy_score(labels_test, base_model.predict(features_test))"
      ],
      "execution_count": null,
      "outputs": []
    },
    {
      "cell_type": "code",
      "metadata": {
        "id": "9kiIyoCBQSv2"
      },
      "source": [
        "best_gbc.fit(features_train, labels_train)\n",
        "accuracy_score(labels_test, best_gbc.predict(features_test))"
      ],
      "execution_count": null,
      "outputs": []
    },
    {
      "cell_type": "markdown",
      "metadata": {
        "id": "VHYRqhzHyGFZ"
      },
      "source": [
        "#### **4.1.11 Save the results into a Dataframe for later comparison**"
      ]
    },
    {
      "cell_type": "markdown",
      "metadata": {
        "id": "ZdvDAVwQQSv5"
      },
      "source": [
        "We'll create a dataset with a model summary to compare models:"
      ]
    },
    {
      "cell_type": "code",
      "metadata": {
        "id": "76cW4-JYQSv5"
      },
      "source": [
        "d = {\n",
        "     'Model': 'Gradient Boosting',\n",
        "     'Training Set Accuracy': accuracy_score(labels_train, best_gbc.predict(features_train)),\n",
        "     'Test Set Accuracy': accuracy_score(labels_test, gbc_pred)\n",
        "}\n",
        "\n",
        "df_models_gbc = pd.DataFrame(d, index=[0])"
      ],
      "execution_count": null,
      "outputs": []
    },
    {
      "cell_type": "code",
      "metadata": {
        "id": "4t71AjtWQSv6"
      },
      "source": [
        "df_models_gbc"
      ],
      "execution_count": null,
      "outputs": []
    },
    {
      "cell_type": "markdown",
      "metadata": {
        "id": "ajx_YRAdQSv8"
      },
      "source": [
        "Let's save the model and this dataset:"
      ]
    },
    {
      "cell_type": "code",
      "metadata": {
        "id": "kQUBvzvtQSv9"
      },
      "source": [
        "with open('best_gbc.pickle', 'wb') as output:\n",
        "    pickle.dump(best_gbc, output)\n",
        "    \n",
        "with open('df_models_gbc.pickle', 'wb') as output:\n",
        "    pickle.dump(df_models_gbc, output)"
      ],
      "execution_count": null,
      "outputs": []
    },
    {
      "cell_type": "markdown",
      "metadata": {
        "id": "JWsFxvErizKj"
      },
      "source": [
        "### **4.2 Random_Forrest**\n"
      ]
    },
    {
      "cell_type": "markdown",
      "metadata": {
        "id": "hcSDM7SnizKm"
      },
      "source": [
        "#### **4.2.1 Concepts**"
      ]
    },
    {
      "cell_type": "markdown",
      "metadata": {
        "id": "cz2SfmdvizKm"
      },
      "source": [
        "Probably by now most of you now the concept of a decision tree, but just in case we will start we a quick review."
      ]
    },
    {
      "cell_type": "markdown",
      "metadata": {
        "id": "Ubnmm2iUizKn"
      },
      "source": [
        "##### __Decision tree__"
      ]
    },
    {
      "cell_type": "markdown",
      "metadata": {
        "id": "SLbuSoQGizKn"
      },
      "source": [
        "A decision tree is a simple prediction model in which we analyze the correlation between the parameters and the class, for example if we have a pet dataset like this:\n",
        "\n",
        "    weight   skin       colour       species\n",
        "    7        \"furr\"     \"brown\"      \"dog\"\n",
        "    3.8      \"furr\"     \"brown\"      \"cat\"\n",
        "    2        \"scales\"   \"white\"      \"snake\"\n",
        "    4.5      \"furr\"     \"brown\"      \"dog\"\n",
        "    1        \"furr\"     \"white\"      \"dog\"\n",
        "    4        \"furr\"     \"white\"      \"cat\"\n",
        "\n",
        "Skin = scales would have the biggest weight since in each case in which appears the clase is snake.\n",
        "\n",
        "Then we chose that condition and evaluate both cases when it's true the class will be snake, if is false we can't know so we will repeat the process.\n",
        "\n",
        "To create a decision tree in python we can do this (sklearn decision trees don't allow categorical values so we will change furr to 0, scales to 1, white to 0 and brown to one):\n"
      ]
    },
    {
      "cell_type": "code",
      "metadata": {
        "id": "RHD5QB3RizKp"
      },
      "source": [
        "from sklearn import tree\n",
        "import pandas as pd\n",
        "import numpy as np\n",
        "import matplotlib.pyplot as plt\n",
        "\n",
        "pet_df = pd.DataFrame(\n",
        "    np.array([[7, 0, 1, \"dog\"], [3.8, 0, 1, \"cat\"], [2, 1, 0, \"snake\"], [4.5, 0, 1, \"dog\"], [1, 0, 0, \"dog\"], [4, 0, 0, \"cat\"]]\n",
        "             ), columns=[\"weight\", \"skin\", \"colour\", \"species\"])\n",
        "\n",
        "\n",
        "pet_df.skin = pet_df.skin.astype(\"category\")\n",
        "pet_df.colour = pet_df.colour.astype(\"category\")\n",
        "\n",
        "pet_X = pet_df.drop([\"species\"], axis=1)\n",
        "pet_y = pet_df.species\n",
        "\n",
        "\n",
        "\n",
        "pet_tree = tree.DecisionTreeClassifier(random_state=8)\n",
        "pet_tree = pet_tree.fit(pet_X, pet_y)\n",
        "\n",
        "plt.figure(figsize = (12,5))\n",
        "tree.plot_tree(pet_tree, filled=\"true\", rounded=\"true\", feature_names=pet_X.columns,  class_names=[\"cat\", \"dog\", \"snake\"])"
      ],
      "execution_count": null,
      "outputs": []
    },
    {
      "cell_type": "markdown",
      "metadata": {
        "id": "syEdYlLkizKr"
      },
      "source": [
        "Notice that we go to the left box when the condition is satisfied and to the right one when it isn't. Notice to that sklearn tree won't recognize categorical values so they are treated like numeric, but when there is one two possible values this is equivalent since the condition becomes <= 0.5 which is the same than divide the cases by category 0 or category 1, if we have a tree with more than two options for a categorical value we need to find a method to convert any possible values to zeros or ones (you can cheek \"one hot encoding\")."
      ]
    },
    {
      "cell_type": "markdown",
      "metadata": {
        "id": "HtJB_XuBizKr"
      },
      "source": [
        "##### __Random forest__\n",
        "The biggest problem with random tree is that this tend to overfit since the values that are check first can be quite arbitrary, random forest are disigned to fixt this isue.\n",
        "\n",
        "A random forest is, in a nut shell, a bootstrap aggregation of decision trees, what this means is that we create a certain number of trees each one with from a random subset of te data, then when we want to clasify a new value we'll try with every tree and we will asigne it the class suggest by most.\n",
        "\n",
        "![](https://drive.google.com/uc?export=view&id=1anEe5fjGGsM5c0JifdBi8sYAW1Rq6gv4)\n"
      ]
    },
    {
      "cell_type": "markdown",
      "metadata": {
        "id": "vf0FFTFNizLA"
      },
      "source": [
        "#### **4.2.2 Training the model**"
      ]
    },
    {
      "cell_type": "markdown",
      "metadata": {
        "id": "ZCp3P0KalTct"
      },
      "source": [
        "First of all, we import the necessary libraries. The sklearn.ensemble module includes two averaging algorithms based on randomized decision trees. We will import the method RandomizedSearchCV."
      ]
    },
    {
      "cell_type": "code",
      "metadata": {
        "id": "GAbdXM-1izLB"
      },
      "source": [
        "from csv import DictReader\n",
        "from csv import DictWriter\n",
        "import numpy as np\n",
        "from sklearn.feature_extraction.text import CountVectorizer\n",
        "from sklearn.feature_extraction.text import TfidfTransformer\n",
        "from sklearn.feature_extraction.text import TfidfVectorizer\n",
        "from sklearn.metrics.pairwise import cosine_similarity\n",
        "import tensorflow as tf\n",
        "from tensorflow.python.keras.layers import  Input, Embedding, Dot, Reshape, Dense\n",
        "from tensorflow.python.keras.models import Model"
      ],
      "execution_count": null,
      "outputs": []
    },
    {
      "cell_type": "code",
      "metadata": {
        "id": "zoZiWMbBizLB"
      },
      "source": [
        "import random\n",
        "import tensorflow as tf"
      ],
      "execution_count": null,
      "outputs": []
    },
    {
      "cell_type": "code",
      "metadata": {
        "id": "AQ_8yTPVizLD"
      },
      "source": [
        "import pickle\n",
        "import numpy as np\n",
        "from sklearn.feature_extraction.text import TfidfVectorizer\n",
        "from sklearn.ensemble import RandomForestClassifier\n",
        "from pprint import pprint\n",
        "from sklearn.model_selection import RandomizedSearchCV\n",
        "from sklearn.model_selection import GridSearchCV\n",
        "from sklearn.metrics import classification_report, confusion_matrix, accuracy_score\n",
        "from sklearn.model_selection import ShuffleSplit\n",
        "import matplotlib.pyplot as plt\n",
        "import seaborn as sns\n",
        "import pandas as pd"
      ],
      "execution_count": null,
      "outputs": []
    },
    {
      "cell_type": "markdown",
      "metadata": {
        "id": "Mxs3eMplmbEP"
      },
      "source": [
        "As we have done with the previous method, it is necessary initialise hyperparameters."
      ]
    },
    {
      "cell_type": "code",
      "metadata": {
        "id": "R_PQHlgCizLB"
      },
      "source": [
        "r = random.Random()\n",
        "lim_unigram = 5000\n",
        "target_size = 4\n",
        "hidden_size = 100\n",
        "train_keep_prob = 0.6\n",
        "l2_alpha = 0.00001\n",
        "learn_rate = 0.01\n",
        "clip_ratio = 5\n",
        "batch_size_train = 500\n",
        "epochs = 90"
      ],
      "execution_count": null,
      "outputs": []
    },
    {
      "cell_type": "markdown",
      "metadata": {
        "id": "JK3hqO6cizLE"
      },
      "source": [
        "#### **4.2.3 Cross-Validation for Hyperparameter tuning**"
      ]
    },
    {
      "cell_type": "markdown",
      "metadata": {
        "id": "vlUhmvdspk7y"
      },
      "source": [
        "We do the same process as we did with the gradient boosting machine fot the hyperparameter tuning. "
      ]
    },
    {
      "cell_type": "markdown",
      "metadata": {
        "id": "qx3BqsEZizLE"
      },
      "source": [
        "First, we can see what hyperparameters the model has:\n",
        "\n"
      ]
    },
    {
      "cell_type": "code",
      "metadata": {
        "id": "-4e7xm7zizLE"
      },
      "source": [
        "rf_0 = RandomForestClassifier(random_state = 8)\n",
        "\n",
        "print('Parameters currently in use:\\n')\n",
        "pprint(rf_0.get_params())"
      ],
      "execution_count": null,
      "outputs": []
    },
    {
      "cell_type": "markdown",
      "metadata": {
        "id": "ybM_6ncBoRMf"
      },
      "source": [
        "We'll tune the following ones:\n",
        "\n",
        "Tree-related hyperparameters:\n",
        "* `n_estimators` = number of trees in the forest.\n",
        "* `max_features` = max number of features considered for splitting a node\n",
        "* `max_depth` = max number of levels in each decision tree\n",
        "* `min_samples_split` = min number of data points placed in a node before the node is split\n",
        "* `min_samples_leaf` = min number of data points allowed in a leaf node\n"
      ]
    },
    {
      "cell_type": "markdown",
      "metadata": {
        "id": "s7yuHAlmizLF"
      },
      "source": [
        "\n",
        "We first need to define the grid. Since we have a huge amount of hyperparameters, we'll try few values for each one."
      ]
    },
    {
      "cell_type": "code",
      "metadata": {
        "id": "arzXCMN3izLF"
      },
      "source": [
        "n_estimators = [int(x) for x in np.linspace(start = 200, stop = 1000, num = 5)]\n",
        "max_features = ['auto', 'sqrt']\n",
        "max_depth = [int(x) for x in np.linspace(20, 100, num = 5)]\n",
        "max_depth.append(None)\n",
        "min_samples_split = [2, 5, 10]\n",
        "min_samples_leaf = [1, 2, 4]\n",
        "\n",
        "bootstrap = [True, False]\n",
        "\n",
        "random_grid = {'n_estimators': n_estimators,\n",
        "               'max_features': max_features,\n",
        "               'max_depth': max_depth,\n",
        "               'min_samples_split': min_samples_split,\n",
        "               'min_samples_leaf': min_samples_leaf,\n",
        "               'bootstrap': bootstrap}\n",
        "\n",
        "pprint(random_grid)"
      ],
      "execution_count": null,
      "outputs": []
    },
    {
      "cell_type": "markdown",
      "metadata": {
        "id": "HVSAxrQ2izLF"
      },
      "source": [
        "The forest could be more accurate with or without bootstrap, with more or less deept... so we will cheeck the diferent posibilities with a RandomForestClassifier, this has the next parameters.\n",
        "\n",
        "* `param_distributions:` the parameters we want to cheeck\n",
        "\n",
        "* `n_iter:` number of iterations in witch we check diferent parameter combinations\n",
        "\n",
        "* `scoring:` scoring method\n",
        "\n",
        "* `cv:` (cross validation) number of folds\n",
        "\n",
        "* `verbose:` verbosity on fitting and predicting\n",
        "\n",
        "* `random_state:` randomness seed\n",
        "\n",
        "`n_iter` and `cv` are the most significant in execution time but are also the mores significant to find better results."
      ]
    },
    {
      "cell_type": "markdown",
      "metadata": {
        "id": "6cJX6AUnizLF"
      },
      "source": [
        "#### **4.2.4 Randomized Search Cross Validation**"
      ]
    },
    {
      "cell_type": "markdown",
      "metadata": {
        "id": "5QemMswNpZbf"
      },
      "source": [
        "We'll perform the Random Search with the Scikit Learn method RandomizedSearchCV."
      ]
    },
    {
      "cell_type": "code",
      "metadata": {
        "id": "tcOg3cPlizLG"
      },
      "source": [
        "rfc = RandomForestClassifier(random_state=8)\n",
        "\n",
        "random_search = RandomizedSearchCV(estimator=rfc,\n",
        "                                   param_distributions=random_grid,\n",
        "                                   n_iter=10,\n",
        "                                   scoring='accuracy',\n",
        "                                   cv=3, \n",
        "                                   verbose=1, \n",
        "                                   random_state=8)\n",
        "\n",
        "random_search.fit(features_train, labels_train)"
      ],
      "execution_count": null,
      "outputs": []
    },
    {
      "cell_type": "markdown",
      "metadata": {
        "id": "tp995hNMqhgm"
      },
      "source": [
        "We can see the best hyperparameters resulting from the Random Search:"
      ]
    },
    {
      "cell_type": "code",
      "metadata": {
        "id": "N3uVnWvoizLG"
      },
      "source": [
        "print(\"The best hyperparameters from Random Search are:\")\n",
        "print(random_search.best_params_)\n",
        "print(\"\")\n",
        "print(\"The mean accuracy of a model with these hyperparameters is:\")\n",
        "print(random_search.best_score_)"
      ],
      "execution_count": null,
      "outputs": []
    },
    {
      "cell_type": "markdown",
      "metadata": {
        "id": "D1MDOdb6izLG"
      },
      "source": [
        "#### **4.2.5 Grid Search Cross Validation**"
      ]
    },
    {
      "cell_type": "markdown",
      "metadata": {
        "id": "IO-UX1ruqnEb"
      },
      "source": [
        " we'll perform the Grid Search with the Scikit Learn method GridSearchCV."
      ]
    },
    {
      "cell_type": "code",
      "metadata": {
        "id": "K1yW9jBnizLH"
      },
      "source": [
        "bootstrap = [False]\n",
        "max_depth = [30, 40, 50]\n",
        "max_features = ['sqrt']\n",
        "min_samples_leaf = [1, 2, 4]\n",
        "min_samples_split = [5, 10, 15]\n",
        "n_estimators = [800]\n",
        "\n",
        "param_grid = {\n",
        "    'bootstrap': bootstrap,\n",
        "    'max_depth': max_depth,\n",
        "    'max_features': max_features,\n",
        "    'min_samples_leaf': min_samples_leaf,\n",
        "    'min_samples_split': min_samples_split,\n",
        "    'n_estimators': n_estimators\n",
        "}\n",
        "\n",
        "rfc = RandomForestClassifier(random_state=8)\n",
        "\n",
        "cv_sets = ShuffleSplit(n_splits = 3, test_size = .33, random_state = 8)\n",
        "\n",
        "grid_search = GridSearchCV(estimator=rfc, \n",
        "                           param_grid=param_grid,\n",
        "                           scoring='accuracy',\n",
        "                           cv=cv_sets,\n",
        "                           verbose=1)\n",
        "\n",
        "grid_search.fit(features_train, labels_train)"
      ],
      "execution_count": null,
      "outputs": []
    },
    {
      "cell_type": "markdown",
      "metadata": {
        "id": "iRz77fo9q-HP"
      },
      "source": [
        "We can see the best hyperparameters resulting from the Grid Search:"
      ]
    },
    {
      "cell_type": "code",
      "metadata": {
        "id": "SLrMEFkEizLH"
      },
      "source": [
        "print(\"The best hyperparameters from Grid Search are:\")\n",
        "print(grid_search.best_params_)\n",
        "print(\"\")\n",
        "print(\"The mean accuracy of a model with these hyperparameters is:\")\n",
        "print(grid_search.best_score_)"
      ],
      "execution_count": null,
      "outputs": []
    },
    {
      "cell_type": "code",
      "metadata": {
        "id": "f-mBFR9ZizLH"
      },
      "source": [
        "best_rfc = grid_search.best_estimator_"
      ],
      "execution_count": null,
      "outputs": []
    },
    {
      "cell_type": "code",
      "metadata": {
        "id": "xPCFOyUuizLI"
      },
      "source": [
        "best_rfc"
      ],
      "execution_count": null,
      "outputs": []
    },
    {
      "cell_type": "markdown",
      "metadata": {
        "id": "TlhHOs67izLI"
      },
      "source": [
        "#### **4.2.6 Model fit and performance**"
      ]
    },
    {
      "cell_type": "markdown",
      "metadata": {
        "id": "rB-enfw8rD6d"
      },
      "source": [
        "Now, we can fit the model to our training data:"
      ]
    },
    {
      "cell_type": "code",
      "metadata": {
        "id": "8CBEljkKizLI"
      },
      "source": [
        "best_rfc.fit(features_train, labels_train)"
      ],
      "execution_count": null,
      "outputs": []
    },
    {
      "cell_type": "code",
      "metadata": {
        "id": "uiXwXRGTizLI"
      },
      "source": [
        "rfc_pred = best_rfc.predict(features_test)"
      ],
      "execution_count": null,
      "outputs": []
    },
    {
      "cell_type": "markdown",
      "metadata": {
        "id": "mZ3DyJgbizLJ"
      },
      "source": [
        "#### **4.2.7 Training accuracy**"
      ]
    },
    {
      "cell_type": "markdown",
      "metadata": {
        "id": "lBa7ZIfhvOee"
      },
      "source": [
        "As we did before with the sklearn.metrics we can see some interesting metric of our model."
      ]
    },
    {
      "cell_type": "code",
      "metadata": {
        "id": "3sQ4RdFVizLJ"
      },
      "source": [
        "print(\"The training accuracy is: \")\n",
        "print(accuracy_score(labels_train, best_rfc.predict(features_train)))"
      ],
      "execution_count": null,
      "outputs": []
    },
    {
      "cell_type": "markdown",
      "metadata": {
        "id": "RnzePN4wizLJ"
      },
      "source": [
        "#### **4.2.8 Test accuracy**"
      ]
    },
    {
      "cell_type": "code",
      "metadata": {
        "id": "JsaHs7_BizLJ"
      },
      "source": [
        "print(\"The test accuracy is: \")\n",
        "print(accuracy_score(labels_test, rfc_pred))"
      ],
      "execution_count": null,
      "outputs": []
    },
    {
      "cell_type": "markdown",
      "metadata": {
        "id": "q7ztU3F5izLK"
      },
      "source": [
        "#### **4.2.9 Classification report**"
      ]
    },
    {
      "cell_type": "code",
      "metadata": {
        "id": "DYfKUjduizLK"
      },
      "source": [
        "print(\"Classification report\")\n",
        "print(classification_report(labels_test,rfc_pred))"
      ],
      "execution_count": null,
      "outputs": []
    },
    {
      "cell_type": "markdown",
      "metadata": {
        "id": "gD3vG-SgizLK"
      },
      "source": [
        "#### **4.2.10 Confusion matrix**"
      ]
    },
    {
      "cell_type": "code",
      "metadata": {
        "id": "-hCNpInRizLK"
      },
      "source": [
        "conf_matrix = confusion_matrix(labels_test, rfc_pred)\n",
        "plt.figure(figsize=(12.8,6))\n",
        "sns.heatmap(conf_matrix, \n",
        "            annot=True,\n",
        "            cmap=\"Blues\")\n",
        "plt.ylabel('Predicted')\n",
        "plt.xlabel('Actual')\n",
        "plt.title('Confusion matrix')\n",
        "plt.show()"
      ],
      "execution_count": null,
      "outputs": []
    },
    {
      "cell_type": "code",
      "metadata": {
        "id": "M99NZZJhizLL"
      },
      "source": [
        "base_model = RandomForestClassifier(random_state = 8)\n",
        "base_model.fit(features_train, labels_train)\n",
        "accuracy_score(labels_test, base_model.predict(features_test))"
      ],
      "execution_count": null,
      "outputs": []
    },
    {
      "cell_type": "markdown",
      "metadata": {
        "id": "ViQ-C8zkizLL"
      },
      "source": [
        "#### **4.2.11 Save the results into a Dataframe for later comparison**"
      ]
    },
    {
      "cell_type": "markdown",
      "metadata": {
        "id": "i10qDKgtizLL"
      },
      "source": [
        "The remaining code is to save the results"
      ]
    },
    {
      "cell_type": "code",
      "metadata": {
        "id": "4hQX13OxizLL"
      },
      "source": [
        "d = {\n",
        "     'Model': 'Random Forest',\n",
        "     'Training Set Accuracy': accuracy_score(labels_train, best_rfc.predict(features_train)),\n",
        "     'Test Set Accuracy': accuracy_score(labels_test, rfc_pred)\n",
        "}\n",
        "\n",
        "df_models_rfc = pd.DataFrame(d, index=[0])"
      ],
      "execution_count": null,
      "outputs": []
    },
    {
      "cell_type": "code",
      "metadata": {
        "id": "PY7osj96izLL"
      },
      "source": [
        "df_models_rfc"
      ],
      "execution_count": null,
      "outputs": []
    },
    {
      "cell_type": "code",
      "metadata": {
        "id": "CnZP-pbuizLM"
      },
      "source": [
        "with open('/content/best_rfc.pickle', 'wb') as output:\n",
        "    pickle.dump(best_rfc, output)\n",
        "    \n",
        "with open('/content/df_models_rfc.pickle', 'wb') as output:\n",
        "    pickle.dump(df_models_rfc, output)"
      ],
      "execution_count": null,
      "outputs": []
    },
    {
      "cell_type": "markdown",
      "metadata": {
        "id": "GZEcMFGEkNOL"
      },
      "source": [
        "### **4.3 Ridge Logistic Regression**"
      ]
    },
    {
      "cell_type": "markdown",
      "metadata": {
        "id": "rz99xqwngq33"
      },
      "source": [
        "#### **4.3.1 Concepts**"
      ]
    },
    {
      "cell_type": "markdown",
      "metadata": {
        "id": "4ZAwYWszguPT"
      },
      "source": [
        "In statistical modeling, regression analysis is a set of statistical processes for estimating the relationships between a dependent variable (often called the 'outcome variable') and one or more independent variables (often called 'predictors', 'covariates', or 'features').\n",
        "\n",
        "When we talk about Regression, we often end up discussing Linear and Logistic Regression. But do you know that there are 7 types of regressions?\n",
        "\n",
        "In this case we are going to talk about Ridge Regression. Ridge regression is a regularization technique for linear regression model to perform well in scenarios where there is high variance as compare to the data which is used to train the model. When we talk about regularization we talk about a technique to penalize the model for the overfitting of data and adding the parameter which tune the model for better outcome.\n",
        "\n"
      ]
    },
    {
      "cell_type": "markdown",
      "metadata": {
        "id": "2t7CNh4or1VA"
      },
      "source": [
        "**Linear Regression**\n",
        "\n",
        "It is one of the most widely known modeling technique. Linear regression is usually among the first few topics which people pick while learning predictive modeling. In this technique, the dependent variable is continuous, independent variable(s) can be continuous or discrete, and nature of regression line is linear.\n",
        "\n",
        "Linear Regression establishes a relationship between dependent variable (Y) and one or more independent variables (X) using a best fit straight line (also known as regression line).\n",
        "\n",
        "![](https://drive.google.com/uc?export=view&id=1wkyZS-b1Ap_yU5J8P-pQyun3Ev3Y8ZJi)\n",
        "\n",
        "**Ridge Regression**\n",
        "\n",
        "Ridge Regression is a technique used when the data suffers from multicollinearity ( independent variables are highly correlated). In multicollinearity, even though the least squares estimates (OLS) are unbiased, their variances are large which deviates the observed value far from the true value. By adding a degree of bias to the regression estimates, ridge regression reduces the standard errors.\n",
        "\n",
        "![](https://drive.google.com/uc?export=view&id=1G-Y-s33Npes5FHOQnauzOMpQE2CcPsnd)"
      ]
    },
    {
      "cell_type": "markdown",
      "metadata": {
        "id": "xgP-BgGugudn"
      },
      "source": [
        "#### **4.3.2 Training the model**\n",
        "\n",
        "Let's implement the algorithm in Python, we will use again the scikit-learn an open source machine learning library. Also in this model we will use TensorFlow. TensorFlow is a free and open-source software library for machine learning. It can be used across a range of tasks but has a particular focus on training and inference of deep neural networks.\n",
        "\n",
        "\n",
        "\n"
      ]
    },
    {
      "cell_type": "code",
      "metadata": {
        "id": "wkAFQxm4kVq1"
      },
      "source": [
        "from csv import DictReader\n",
        "from csv import DictWriter\n",
        "import numpy as np\n",
        "import pandas as pd\n",
        "import random as random;\n",
        "from sklearn.feature_extraction.text import CountVectorizer\n",
        "from sklearn.feature_extraction.text import TfidfTransformer\n",
        "from sklearn.feature_extraction.text import TfidfVectorizer\n",
        "from sklearn.metrics.pairwise import cosine_similarity\n",
        "import tensorflow as tf\n",
        "from tensorflow.python.keras.layers import  Input, Embedding, Dot, Reshape, Dense\n",
        "from tensorflow.python.keras.models import Model"
      ],
      "execution_count": null,
      "outputs": []
    },
    {
      "cell_type": "markdown",
      "metadata": {
        "id": "vZD-yJD3kVrB"
      },
      "source": [
        "\n",
        "\n",
        "We define a function to save the predictions of our model in a CSV file.\n"
      ]
    },
    {
      "cell_type": "code",
      "metadata": {
        "id": "WBQTwv1MkVrB"
      },
      "source": [
        "def save_predictions(pred, file):\n",
        "\n",
        "    with open(file, 'w') as csvfile:\n",
        "        fieldnames = ['Stance']\n",
        "        writer = DictWriter(csvfile, fieldnames=fieldnames)\n",
        "\n",
        "        writer.writeheader()\n",
        "        for instance in pred:\n",
        "            writer.writerow({'Stance': label_ref_rev[instance]})"
      ],
      "execution_count": null,
      "outputs": []
    },
    {
      "cell_type": "markdown",
      "metadata": {
        "id": "7gFzS6-roZj9"
      },
      "source": [
        "We set a value before training to our hyperparameters."
      ]
    },
    {
      "cell_type": "code",
      "metadata": {
        "id": "r1bnxy86kVrC"
      },
      "source": [
        "# Initialise hyperparameters\n",
        "r = random.Random()\n",
        "lim_unigram = 5000\n",
        "target_size = 4\n",
        "hidden_size = 100\n",
        "train_keep_prob = 0.6\n",
        "l2_alpha = 0.00001\n",
        "learn_rate = 0.01\n",
        "clip_ratio = 5\n",
        "batch_size_train = 500\n",
        "epochs = 90"
      ],
      "execution_count": null,
      "outputs": []
    },
    {
      "cell_type": "markdown",
      "metadata": {
        "id": "pQUqJ8B7pPk2"
      },
      "source": [
        "We import all the necessary libraries with the algorithms that we will use for the training of our model."
      ]
    },
    {
      "cell_type": "code",
      "metadata": {
        "id": "GDg6ershkVrC"
      },
      "source": [
        "import pickle\n",
        "import numpy as np\n",
        "from sklearn.feature_extraction.text import TfidfVectorizer\n",
        "from sklearn.linear_model import LogisticRegression\n",
        "from pprint import pprint\n",
        "from sklearn.model_selection import RandomizedSearchCV\n",
        "from sklearn.model_selection import GridSearchCV\n",
        "from sklearn.metrics import classification_report, confusion_matrix, accuracy_score\n",
        "from sklearn.model_selection import ShuffleSplit\n",
        "import matplotlib.pyplot as plt\n",
        "import seaborn as sns\n",
        "import pandas as pd"
      ],
      "execution_count": null,
      "outputs": []
    },
    {
      "cell_type": "markdown",
      "metadata": {
        "id": "iDGLxzqRoGVU"
      },
      "source": [
        "#### **4.3.3 Cross-Validation for Hyperparameter tuning**"
      ]
    },
    {
      "cell_type": "markdown",
      "metadata": {
        "id": "klP4fBJFoGVU"
      },
      "source": [
        "As some of the previously trained models, it is necessary to optimize the hyperparameters."
      ]
    },
    {
      "cell_type": "code",
      "metadata": {
        "id": "RS7lRDgCoGVV"
      },
      "source": [
        "lr_0 = LogisticRegression(random_state = 8)\n",
        "\n",
        "print('Parameters currently in use:\\n')\n",
        "pprint(lr_0.get_params())"
      ],
      "execution_count": null,
      "outputs": []
    },
    {
      "cell_type": "markdown",
      "metadata": {
        "id": "jhtCvA-SoGVX"
      },
      "source": [
        "We'll tune the following ones:\n",
        "\n",
        "* `C` = Inverse of regularization strength. Smaller values specify stronger regularization.\n",
        "* `multi_class` = We'll choose `multinomial` because this is a multi-class problem.\n",
        "* `solver` = Algorithm to use in the optimization problem. For multiclass problems, only `newton-cg`, `sag`, `saga` and `lbfgs` handle multinomial loss.\n",
        "* `class_weight`: Weights associated with classes. \n",
        "* `penalty`: Used to specify the norm used in the penalization. The ‘newton-cg’, ‘sag’ and ‘lbfgs’ solvers support only l2 penalties."
      ]
    },
    {
      "cell_type": "markdown",
      "metadata": {
        "id": "pcn9nINboGVX"
      },
      "source": [
        "#### **4.3.4 Randomized Search Cross Validation**"
      ]
    },
    {
      "cell_type": "markdown",
      "metadata": {
        "id": "YpZbbfkOoGVY"
      },
      "source": [
        "First we need to define the grid since we have a lot of hyperparameters."
      ]
    },
    {
      "cell_type": "code",
      "metadata": {
        "id": "XS_0rWwEoGVY"
      },
      "source": [
        "C = [float(x) for x in np.linspace(start = 0.1, stop = 1, num = 10)]\n",
        "multi_class = ['multinomial']\n",
        "solver = ['newton-cg', 'sag', 'saga', 'lbfgs']\n",
        "class_weight = ['balanced', None]\n",
        "penalty = ['l2']\n",
        "\n",
        "random_grid = {'C': C,\n",
        "               'multi_class': multi_class,\n",
        "               'solver': solver,\n",
        "               'class_weight': class_weight,\n",
        "               'penalty': penalty}\n",
        "\n",
        "pprint(random_grid)"
      ],
      "execution_count": null,
      "outputs": []
    },
    {
      "cell_type": "markdown",
      "metadata": {
        "id": "iBEB6EUaoGVa"
      },
      "source": [
        "we'll perform the Grid Search with the Scikit Learn method RandomizedSearchCV."
      ]
    },
    {
      "cell_type": "code",
      "metadata": {
        "id": "T8yqrU8joGVb"
      },
      "source": [
        "lrc = LogisticRegression(random_state=8)\n",
        "\n",
        "random_search = RandomizedSearchCV(estimator=lrc,\n",
        "                                   param_distributions=random_grid,\n",
        "                                   n_iter=10,\n",
        "                                   scoring='accuracy',\n",
        "                                   cv=3, \n",
        "                                   verbose=1, \n",
        "                                   random_state=8)\n",
        "\n",
        "random_search.fit(features_train, labels_train)"
      ],
      "execution_count": null,
      "outputs": []
    },
    {
      "cell_type": "markdown",
      "metadata": {
        "id": "AdPt589yoGVd"
      },
      "source": [
        "We can see the best hyperparameters resulting from the Random Search:"
      ]
    },
    {
      "cell_type": "code",
      "metadata": {
        "id": "S3HsADz_oGVe"
      },
      "source": [
        "print(\"The best hyperparameters from Random Search are:\")\n",
        "print(random_search.best_params_)\n",
        "print(\"\")\n",
        "print(\"The mean accuracy of a model with these hyperparameters is:\")\n",
        "print(random_search.best_score_)"
      ],
      "execution_count": null,
      "outputs": []
    },
    {
      "cell_type": "markdown",
      "metadata": {
        "id": "clvVb-P-oGVf"
      },
      "source": [
        "After that, we can do a more exhaustive search centered in those values:"
      ]
    },
    {
      "cell_type": "markdown",
      "metadata": {
        "id": "x5ws0pO_oGVg"
      },
      "source": [
        "#### **4.3.5 Grid Search Cross Validation**"
      ]
    },
    {
      "cell_type": "markdown",
      "metadata": {
        "id": "yjsQ12XYu1KT"
      },
      "source": [
        "we'll perform the Grid Search with the Scikit Learn method GridSearchCV."
      ]
    },
    {
      "cell_type": "code",
      "metadata": {
        "id": "KXxCESnGoGVg"
      },
      "source": [
        "C = [float(x) for x in np.linspace(start = 0.6, stop = 1, num = 10)]\n",
        "multi_class = ['multinomial']\n",
        "solver = ['sag']\n",
        "class_weight = ['balanced']\n",
        "penalty = ['l2']\n",
        "\n",
        "param_grid = {'C': C,\n",
        "               'multi_class': multi_class,\n",
        "               'solver': solver,\n",
        "               'class_weight': class_weight,\n",
        "               'penalty': penalty}\n",
        "\n",
        "lrc = LogisticRegression(random_state=8)\n",
        "\n",
        "cv_sets = ShuffleSplit(n_splits = 3, test_size = .33, random_state = 8)\n",
        "\n",
        "grid_search = GridSearchCV(estimator=lrc, \n",
        "                           param_grid=param_grid,\n",
        "                           scoring='accuracy',\n",
        "                           cv=cv_sets,\n",
        "                           verbose=1)\n",
        "\n",
        "grid_search.fit(features_train, labels_train)"
      ],
      "execution_count": null,
      "outputs": []
    },
    {
      "cell_type": "markdown",
      "metadata": {
        "id": "NbrdbzavoGVi"
      },
      "source": [
        "The best hyperparameters turn out to be:"
      ]
    },
    {
      "cell_type": "code",
      "metadata": {
        "id": "NzDB44l0oGVj"
      },
      "source": [
        "print(\"The best hyperparameters from Grid Search are:\")\n",
        "print(grid_search.best_params_)\n",
        "print(\"\")\n",
        "print(\"The mean accuracy of a model with these hyperparameters is:\")\n",
        "print(grid_search.best_score_)"
      ],
      "execution_count": null,
      "outputs": []
    },
    {
      "cell_type": "markdown",
      "metadata": {
        "id": "Y4XUlnDboGVl"
      },
      "source": [
        "Let's save the model in `best_lrc`:"
      ]
    },
    {
      "cell_type": "code",
      "metadata": {
        "id": "LyL73BeSoGVl"
      },
      "source": [
        "best_lrc = grid_search.best_estimator_"
      ],
      "execution_count": null,
      "outputs": []
    },
    {
      "cell_type": "code",
      "metadata": {
        "id": "Ox3PfPn0oGVn"
      },
      "source": [
        "best_lrc"
      ],
      "execution_count": null,
      "outputs": []
    },
    {
      "cell_type": "markdown",
      "metadata": {
        "id": "lNaB6t3coGVp"
      },
      "source": [
        "We now know the best logistic regression model. Let's fit it and see how it performs:"
      ]
    },
    {
      "cell_type": "markdown",
      "metadata": {
        "id": "whZSreH9oGVp"
      },
      "source": [
        "#### **4.3.6 Model fit and performance**"
      ]
    },
    {
      "cell_type": "markdown",
      "metadata": {
        "id": "oLcEb_wToGVp"
      },
      "source": [
        "Now, we can fit the model to our training data:"
      ]
    },
    {
      "cell_type": "code",
      "metadata": {
        "id": "ER-c7OmGoGVq"
      },
      "source": [
        "best_lrc.fit(features_train, labels_train)"
      ],
      "execution_count": null,
      "outputs": []
    },
    {
      "cell_type": "markdown",
      "metadata": {
        "id": "wW5NdHyCoGVs"
      },
      "source": [
        "And get the predictions:"
      ]
    },
    {
      "cell_type": "code",
      "metadata": {
        "id": "DM7DYa_AoGVs"
      },
      "source": [
        "lrc_pred = best_lrc.predict(features_test)"
      ],
      "execution_count": null,
      "outputs": []
    },
    {
      "cell_type": "markdown",
      "metadata": {
        "id": "v8NoYQ_8oGVu"
      },
      "source": [
        "The conditional class probabilities can be obtained by typing:\n",
        "\n",
        "`lrc_pred = best_lrc.predict_proba(features_test)`"
      ]
    },
    {
      "cell_type": "markdown",
      "metadata": {
        "id": "IdKWWN4hoGVv"
      },
      "source": [
        "For performance analysis, we will use the confusion matrix, the classification report and the accuracy on both training and test data:"
      ]
    },
    {
      "cell_type": "markdown",
      "metadata": {
        "id": "CqTEaaORoGVv"
      },
      "source": [
        "#### **4.3.7 Training accuracy**"
      ]
    },
    {
      "cell_type": "markdown",
      "metadata": {
        "id": "ky7ivmxxrNnY"
      },
      "source": [
        "As we did before with the sklearn.metrics we can see some interesting metric of our model."
      ]
    },
    {
      "cell_type": "code",
      "metadata": {
        "id": "hyvFAOHboGVw"
      },
      "source": [
        "print(\"The training accuracy is: \")\n",
        "print(accuracy_score(labels_train, best_lrc.predict(features_train)))"
      ],
      "execution_count": null,
      "outputs": []
    },
    {
      "cell_type": "markdown",
      "metadata": {
        "id": "EW-xc8I8oGVy"
      },
      "source": [
        "#### **4.3.8 Test accuracy**"
      ]
    },
    {
      "cell_type": "code",
      "metadata": {
        "id": "no_6HqR2oGVy"
      },
      "source": [
        "print(\"The test accuracy is: \")\n",
        "print(accuracy_score(labels_test, lrc_pred))"
      ],
      "execution_count": null,
      "outputs": []
    },
    {
      "cell_type": "markdown",
      "metadata": {
        "id": "7V1Av44xoGV0"
      },
      "source": [
        "#### **4.3.9 Classification report**"
      ]
    },
    {
      "cell_type": "code",
      "metadata": {
        "id": "fZh8wKi0oGV1"
      },
      "source": [
        "print(\"Classification report\")\n",
        "print(classification_report(labels_test,lrc_pred))"
      ],
      "execution_count": null,
      "outputs": []
    },
    {
      "cell_type": "markdown",
      "metadata": {
        "id": "jzQVYudYoGV2"
      },
      "source": [
        "#### **4.3.10 Confusion matrix**"
      ]
    },
    {
      "cell_type": "code",
      "metadata": {
        "id": "hI1CKvEyoGV2"
      },
      "source": [
        "conf_matrix = confusion_matrix(labels_test, lrc_pred)\n",
        "plt.figure(figsize=(12.8,6))\n",
        "sns.heatmap(conf_matrix, \n",
        "            annot=True,\n",
        "            cmap=\"Blues\")\n",
        "plt.ylabel('Predicted')\n",
        "plt.xlabel('Actual')\n",
        "plt.title('Confusion matrix')\n",
        "plt.show()\n"
      ],
      "execution_count": null,
      "outputs": []
    },
    {
      "cell_type": "markdown",
      "metadata": {
        "id": "r3PrBcQnoGV4"
      },
      "source": [
        "At this point, we could get the average time the model takes to get predictions. We want the algorithm to be fast since we are creating an app which will gather data from the internet and get the predicted categories. However, since the difference when predicting 10-20 observations will be very little, we won't take this into account.\n",
        "\n",
        "However, the code below could do this task:\n",
        "\n",
        "```python\n",
        "features_time = features_train\n",
        "elapsed_list = []\n",
        "for i in range(0,10):\n",
        "    \n",
        "    start = time.time()\n",
        "    predictions = best_lrc.predict(features_time)\n",
        "    end = time.time()\n",
        "    elapsed = end - start\n",
        "    elapsed_list.append(elapsed)\n",
        "\n",
        "mean_time_elapsed = np.mean(elapsed_list)\n",
        "```"
      ]
    },
    {
      "cell_type": "markdown",
      "metadata": {
        "id": "-atjwLC8oGV4"
      },
      "source": [
        "Let's see if the hyperparameter tuning process has returned a better model:"
      ]
    },
    {
      "cell_type": "code",
      "metadata": {
        "id": "xTTq-P-yoGV5"
      },
      "source": [
        "base_model = LogisticRegression(random_state = 8)\n",
        "base_model.fit(features_train, labels_train)\n",
        "accuracy_score(labels_test, base_model.predict(features_test))"
      ],
      "execution_count": null,
      "outputs": []
    },
    {
      "cell_type": "code",
      "metadata": {
        "id": "43uAleu3oGV6"
      },
      "source": [
        "best_lrc.fit(features_train, labels_train)\n",
        "accuracy_score(labels_test, best_lrc.predict(features_test))"
      ],
      "execution_count": null,
      "outputs": []
    },
    {
      "cell_type": "markdown",
      "metadata": {
        "id": "uG3hS5AioGV8"
      },
      "source": [
        "We get approximately the same accuracy."
      ]
    },
    {
      "cell_type": "markdown",
      "metadata": {
        "id": "Yoz6d2qNw284"
      },
      "source": [
        "#### **4.3.11 Save the results into a Dataframe for later comparison**"
      ]
    },
    {
      "cell_type": "markdown",
      "metadata": {
        "id": "iqxL_DqnoGV9"
      },
      "source": [
        "We'll create a dataset with a model summary to compare models:"
      ]
    },
    {
      "cell_type": "code",
      "metadata": {
        "id": "RKj-reHDoGV_"
      },
      "source": [
        "d = {\n",
        "     'Model': 'Logistic Regression',\n",
        "     'Training Set Accuracy': accuracy_score(labels_train, best_lrc.predict(features_train)),\n",
        "     'Test Set Accuracy': accuracy_score(labels_test, lrc_pred)\n",
        "}\n",
        "\n",
        "df_models_lrc = pd.DataFrame(d, index=[0])"
      ],
      "execution_count": null,
      "outputs": []
    },
    {
      "cell_type": "code",
      "metadata": {
        "id": "n4QHokPeoGWB"
      },
      "source": [
        "df_models_lrc"
      ],
      "execution_count": null,
      "outputs": []
    },
    {
      "cell_type": "markdown",
      "metadata": {
        "id": "iVZfPMRCoGWC"
      },
      "source": [
        "Let's save the model and this dataset:"
      ]
    },
    {
      "cell_type": "code",
      "metadata": {
        "id": "0xc9cFimoGWD"
      },
      "source": [
        "# with open('Models/best_lrc.pickle', 'wb') as output:\n",
        "#     pickle.dump(best_lrc, output)\n",
        "    \n",
        "# with open('Models/df_models_lrc.pickle', 'wb') as output:\n",
        "#     pickle.dump(df_models_lrc, output)"
      ],
      "execution_count": null,
      "outputs": []
    },
    {
      "cell_type": "markdown",
      "metadata": {
        "id": "keU8-GJJaey8"
      },
      "source": [
        "### **4.4 Multilayer Perceptrons (MLP)** NEW\n",
        "\n",
        "\n"
      ]
    },
    {
      "cell_type": "markdown",
      "metadata": {
        "id": "laAtefRRf7xr"
      },
      "source": [
        "#### **4.4.1 Concepts**"
      ]
    },
    {
      "cell_type": "markdown",
      "metadata": {
        "id": "y3qqGfGYgZiE"
      },
      "source": [
        "\n",
        "The Perceptron, that neural network whose name evokes how the future looked from the perspective of the 1950s, is a simple algorithm intended to perform binary classification; i.e. it predicts whether input belongs to a certain category of interest or not (ex: fraud/ not-fraud).\n",
        "The perceptron is a linear classifier — an algorithm that classifies input by separating two categories with a straight line. Input is typically a feature vector x multiplied by weights w and added to a bias b: y = w * x + b.\n",
        "\n",
        "![picture](https://drive.google.com/uc?export=view&id=1VvnFOmvkXM3Obt3i7JGO4dR8WANnlW2V)\n",
        "\n",
        "\n",
        "\n",
        "Perceptrons produce a single output based on several real-valued inputs by forming a linear combination using input weights (and sometimes passing the output through a non-linear activation function).\n",
        "\n",
        "Rosenblatt built a single-layer perceptron ; it did not include multiple layers, which allow neural networks to model a feature hierarchy. It was, therefore, a shallow neural network, which ended up preventing his perceptron from performing non-linear classification, such as the classic logic XOR function (an XOR operator trigger when input exhibits either one trait or another, but not both; it stands for “exclusive OR”).\n",
        "\n",
        "Fast forward to 1986, when Hinton, Rumelhart, and Williams published a paper “Learning representations by back-propagating errors”, introducing backpropagation and hidden layers concepts — therefore so to speak giving birth to Multilayer Perceptrons (MLPs):\n",
        " \n",
        "\n",
        "*   Backpropagation, a procedure to repeatedly adjust the weights so as to minimize the difference between actual output and desired output.\n",
        "*   Hidden Layers, which are neuron nodes stacked in between inputs and outputs, allowing neural networks to learn more complicated features (such as XOR logic).\n",
        "\n",
        "\n",
        "An MLP can be thought of, therefore, as a deep artificial neural network. It is composed of more than one perceptron. They are composed of an input layer to receive the signal, an output layer that makes a decision or prediction about the input, and in between those two, an arbitrary number of hidden layers that are the true computational engine of the MLP.\n",
        "\n",
        "Multilayer perceptrons train on a set of input-output pairs and learn to model the correlation (or dependencies) between those inputs and outputs. Training involves adjusting the parameters, or the weights and biases, of the model in order to minimize error. Backpropagation is used to make those weigh and bias adjustments relative to the error, and the error itself can be measured in a variety of ways, including by root mean squared error (RMSE).\n",
        "\n",
        "Feedforward networks such as MLPs are just like ping-pong: they are mainly involved in two motions, a constant back and forth (forward and backward passes):\n",
        "\n",
        "*   In the forward pass, the signal flow moves from the input layer through the hidden layers to the output layer, and the decision of the output layer is measured against the ground truth labels.\n",
        "*   In the backward pass, using backpropagation and the chain rule of calculus, partial derivatives of the error function regarding the various weights and biases are back-propagated through the MLP. That act of differentiation gives us a gradient, or a landscape of error, along which the parameters may be adjusted as they move the MLP one step closer to the error minimum. (this can be done with any gradient-based optimization algorithm such as stochastic gradient descent).\n",
        "\n",
        "The network keeps playing that game of ping-pong until the error can go no lower. This state is known as convergence.\n",
        "\n",
        "![picture](https://drive.google.com/uc?export=view&id=1a23Ogj4vLsjFT4Qwce23PbVIZ2LTDLbT)\n",
        "\n"
      ]
    },
    {
      "cell_type": "markdown",
      "metadata": {
        "id": "qowkYY5Z34N5"
      },
      "source": [
        "#### **4.4.2 Import the necessary libraries**"
      ]
    },
    {
      "cell_type": "markdown",
      "metadata": {
        "id": "sqm145PAHCYK"
      },
      "source": [
        "TensorFlow and Keras is an open-source library that is able to perform various tasks in deep learning, namely regression and classification. Because of its complexity, several steps need to be followed:\n",
        "\n",
        "\n",
        "\n",
        "*   Define the model\n",
        "*   Compile the model\n",
        "*   Fit the model\n",
        "*   Evaluate the model\n",
        "*   Make a prediction\n",
        "\n",
        "To explain in more details, let’s have a look at the full-step implementation of an MLP model as below:"
      ]
    },
    {
      "cell_type": "markdown",
      "metadata": {
        "id": "8T8dXYTB4jP-"
      },
      "source": [
        "Before starting to implement the model it is necessary to implement the necessary libraries."
      ]
    },
    {
      "cell_type": "code",
      "metadata": {
        "id": "WsDW3-wA4dYv"
      },
      "source": [
        "import pandas as pd\n",
        "\n",
        "from tensorflow.keras import Sequential\n",
        "from tensorflow.keras.layers import Dense, Dropout\n",
        "from tensorflow.keras.callbacks import EarlyStopping\n"
      ],
      "execution_count": null,
      "outputs": []
    },
    {
      "cell_type": "markdown",
      "metadata": {
        "id": "4lCqrvZv4u2h"
      },
      "source": [
        "#### **4.4.3 Define the model**"
      ]
    },
    {
      "cell_type": "markdown",
      "metadata": {
        "id": "0K4SlDxF8JDo"
      },
      "source": [
        "*   **Type of Model:** we can choose either Sequential or Functional Model API from TensorFlow. While Sequential Model is the simplest model to implement where it provides a “sequential” path with layers after layers in a linear manner, Functional Model is a more complex and yet flexible model where we need to manually specify the input and output layers.\n",
        "\n",
        "*   **Number of nodes:** it depends on how complex you want your model to be. There’s no “one size fit all” option but rather we need to test and learn to see how many nodes per each layer produces the highest accuracy.\n",
        "\n",
        "*  **Activation:** for each node in each layer, the neural network calculates the weighted sum of the inputs (and adds a bias) then decides whether it should “activate” the node or not. This means the weighted sum should pass a certain threshold for the node to be “activated”. To find the bounds, we need to determine the activation function that helps define the upper and lower range of the bounds.\n",
        "\n",
        "![picture](https://drive.google.com/uc?export=view&id=1n0Km5do7PBTh3BG8rkWDTUJnhmA6vSRh)\n",
        "\n",
        "*   **Initializer:** as seen from above, initializers help define the way to set the initial random weights (w) of the input layers. There are a number of different initializers that go well with different activation functions, which we will test in the following content.\n",
        "\n"
      ]
    },
    {
      "cell_type": "code",
      "metadata": {
        "id": "6KBUeEcW5B63"
      },
      "source": [
        "model = Sequential()\n",
        "\n",
        "model.add(Dense(16, activation = 'relu', kernel_initializer = 'he_normal', input_shape = (features_train.shape[1],)))\n",
        "model.add(Dense(8, activation = 'relu', kernel_initializer = 'he_normal'))\n",
        "model.add(Dense(1))"
      ],
      "execution_count": null,
      "outputs": []
    },
    {
      "cell_type": "markdown",
      "metadata": {
        "id": "nIzstAoc5spI"
      },
      "source": [
        "#### **4.4.4 Compile the model** "
      ]
    },
    {
      "cell_type": "markdown",
      "metadata": {
        "id": "tyvuTcfm9-dW"
      },
      "source": [
        "\n",
        "\n",
        "*   **Optimizer:** optimizer helps change the attributes of the neural network (e.g. weights, learning rates, etc.) in order to reduce the losses of the model as much as possible. Similar to activation and initializer, there are a handful of optimizers that we should test out to find which produces the model with the highest accuracy.\n",
        "\n",
        "*   **Loss:** as the name tells, loss function indicates the method that the model uses to optimize towards in order to reduce the error. Technically, loss is used to calculate the gradients and gradients are used to update the weights of the neural network.\n",
        "\n",
        "*   **Metrics:** depending on the type of model we build (e.g. regression, classification), we will choose the relevant metric to evaluate how well the model is trained (e.g. MAE/MSE/RMSE for regression and Accuracy for classification)\n",
        "\n",
        "\n"
      ]
    },
    {
      "cell_type": "code",
      "metadata": {
        "id": "qbwiOuhx5yel"
      },
      "source": [
        "#model.compile(optimizer = 'adam', loss = 'mse', metrics = 'mae')\n",
        "model.compile(optimizer='adam', loss='binary_crossentropy', metrics=['acc'])"
      ],
      "execution_count": null,
      "outputs": []
    },
    {
      "cell_type": "markdown",
      "metadata": {
        "id": "ACHvBcNu54oe"
      },
      "source": [
        "#### **4.4.5 Fit the model**"
      ]
    },
    {
      "cell_type": "markdown",
      "metadata": {
        "id": "25o4BK7G-SPE"
      },
      "source": [
        "\n",
        "\n",
        "*   **Epochs:** the number of epochs is the number of complete passes through the entire example in the training set. For example, if we set the number of epochs to 5, it means the training set will be looped 5 times before the model produces the final result.\n",
        "\n",
        "*  **Batch_size:** batch size is the number of samples in an epoch used to estimate model error before the model gets updated. For example, if we set the batch size to 32, it means 32 samples of the training set will be used to train the model and update the model. Then, the next 32 samples will be used until no samples are left in an epoch. The procedure will be repeated if we have more than 1 epoch.\n",
        "\n"
      ]
    },
    {
      "cell_type": "code",
      "metadata": {
        "id": "-Gpmo6Kf58-d"
      },
      "source": [
        "history = model.fit(features_train, labels_train, validation_data=(features_test, labels_test), epochs=50,batch_size=64, verbose=0)"
      ],
      "execution_count": null,
      "outputs": []
    },
    {
      "cell_type": "markdown",
      "metadata": {
        "id": "ynquW6196mzy"
      },
      "source": [
        "#### **4.4.6 Evaluate the model**"
      ]
    },
    {
      "cell_type": "markdown",
      "metadata": {
        "id": "tR_lg_QQ-fd5"
      },
      "source": [
        "\n",
        "*   **.evaluate():** we will call this function on the test set to print out the error value as well as the metrics we want the model to optimize for.\n",
        "\n",
        "*   **Learning curve:** I suggest we should draw the learning curve for each model we test, as it’s important to see how the model is trained through each epoch and whether overfitting or underfitting occurs to the model.\n",
        "\n"
      ]
    },
    {
      "cell_type": "code",
      "metadata": {
        "id": "j3AzMv1a6s2w"
      },
      "source": [
        "#loss, mae = model.evaluate(features_test, labels_test)\n",
        "trainingAccuracy = model.evaluate(features_train, labels_train)\n",
        "testAccuracy = model.evaluate(features_test, labels_test)\n",
        "\n",
        "print()\n",
        "\n",
        "print(\"trainingAccuracy:\", trainingAccuracy)\n",
        "print(\"TestAccuracy:\", testAccuracy)"
      ],
      "execution_count": null,
      "outputs": []
    },
    {
      "cell_type": "markdown",
      "metadata": {
        "id": "xmC9V1Ik66sc"
      },
      "source": [
        "#### **4.4.7 Plot the learning curve**"
      ]
    },
    {
      "cell_type": "markdown",
      "metadata": {
        "id": "A-Z4T9Nm-urs"
      },
      "source": [
        "That’s all the core parameters that we should be familiar in neural networks. Now let’s print out the result."
      ]
    },
    {
      "cell_type": "code",
      "metadata": {
        "id": "guJRO0XQ7CR3"
      },
      "source": [
        "#plt.plot(history.history['loss'], label='train')\n",
        "#plt.plot(history.history['val_loss'], label='val')\n",
        "#plt.show()\n",
        "\n",
        "plt.plot(history.history['acc'], label='train')\n",
        "plt.show()"
      ],
      "execution_count": null,
      "outputs": []
    },
    {
      "cell_type": "markdown",
      "metadata": {
        "id": "ROMHZm4POQIT"
      },
      "source": [
        "As seen, we achieved a accuracy of 0.2597 with the setting of the above model. \n"
      ]
    },
    {
      "cell_type": "markdown",
      "metadata": {
        "id": "iMuBchTZVEgn"
      },
      "source": [
        "#### **4.4.8 Save the results into a Dataframe for later comparison**"
      ]
    },
    {
      "cell_type": "code",
      "metadata": {
        "id": "9YYzxdGmVHg-"
      },
      "source": [
        "df_models_mlp = pd.DataFrame()\n",
        "\n",
        "df_models_mlp.insert(0,\"Test Set Accuracy\",[testAccuracy],True)\n",
        "df_models_mlp.insert(0,\"Training Set Accuracy\",[trainingAccuracy],True)\n",
        "df_models_mlp.insert(0,\"Model\",['Multilayer Perceptron'],True)\n",
        "\n",
        "#df_models_mlp = df_models_mlp.drop(labels=[\"Model\", \"Training Set Accuracy\",\"Test Set Accuracy\"], axis=1)\n"
      ],
      "execution_count": null,
      "outputs": []
    },
    {
      "cell_type": "markdown",
      "metadata": {
        "id": "ums4EeeukZSU"
      },
      "source": [
        "### **4.5 Comparing Results**\n",
        "\n",
        "Here we will compare the performance of several models in order to select the best one to classify fake news."
      ]
    },
    {
      "cell_type": "code",
      "metadata": {
        "id": "yVeRxi76pCGc"
      },
      "source": [
        "df_models_gbc"
      ],
      "execution_count": null,
      "outputs": []
    },
    {
      "cell_type": "code",
      "metadata": {
        "id": "N7_CR0PspFRM"
      },
      "source": [
        "df_models_rfc"
      ],
      "execution_count": null,
      "outputs": []
    },
    {
      "cell_type": "code",
      "metadata": {
        "id": "Et5Qd-vmdjgD"
      },
      "source": [
        "df_models_lrc"
      ],
      "execution_count": null,
      "outputs": []
    },
    {
      "cell_type": "code",
      "metadata": {
        "id": "BmUWo88TV9aE"
      },
      "source": [
        "df_models_mlp"
      ],
      "execution_count": null,
      "outputs": []
    },
    {
      "cell_type": "markdown",
      "metadata": {
        "id": "T-hX84BVzwp3"
      },
      "source": [
        "The most accurate algorithm is Logistic Regression.\n",
        "\n"
      ]
    },
    {
      "cell_type": "markdown",
      "metadata": {
        "id": "qMHBv5QRgHFk"
      },
      "source": [
        "## **5. Build and share data apps with Streamlit** "
      ]
    },
    {
      "cell_type": "markdown",
      "metadata": {
        "id": "20_KobNaANvr"
      },
      "source": [
        "Here we can see an interactive App about our Fake News EDA built with Streamlit"
      ]
    },
    {
      "cell_type": "code",
      "metadata": {
        "colab": {
          "base_uri": "https://localhost:8080/"
        },
        "id": "i92rhqJ1fcQG",
        "outputId": "fcfbde1e-4368-428f-e42d-a5305522496b"
      },
      "source": [
        "#%%writefile streamlit.py\n",
        "import numpy as np\n",
        "import pandas as pd\n",
        "import streamlit as st\n",
        "import os\n",
        "import seaborn as sns\n",
        "import matplotlib.pyplot as plt\n",
        "import matplotlib.ticker as mtick\n",
        "\n",
        "st.title(\"EDA FAKE NEWS\")\n",
        "st.header(\"We can see an interactive App about our Fake News EDA built with streamlit\")\n",
        "st.header(\"\")\n",
        "\n",
        "#EDA\n",
        "my_dataset = 'train_df.csv'\n",
        "\n",
        "#Load Dataset\n",
        "@st.cache(persist = True)\n",
        "def explore_data(dataset):\n",
        "  df = pd.read_csv(os.path.join(dataset))\n",
        "  return df\n",
        "\n",
        "data = explore_data(my_dataset)\n",
        "\n",
        "if st.checkbox(\"Show Dataset\"):\n",
        "  if st.button(\"Head\"):\n",
        "    st.write(data.head())\n",
        "  elif st.button(\"Tail\"):\n",
        "    st.write(data.tail())\n",
        "  else: \n",
        "    st.write(data.head(2))  \n",
        "\n",
        "st.text(\"\")\n",
        "\n",
        "#Show entire dataset\n",
        "if st.checkbox(\"Show All Dataset\"):\n",
        "  st.dataframe(data) \n",
        "\n",
        "st.text(\"\")\n",
        "\n",
        "#Show Column Name\n",
        "if st.checkbox(\"Show Column Names\"):\n",
        "  st.write(data.columns) \n",
        "\n",
        "st.text(\"\")\n",
        "\n",
        "#Show dimensions\n",
        "data_dimensions = st.radio(\"What Dimensions Do You Want to See\", (\"Rows\", \"Columns\", \"All\"))\n",
        "if data_dimensions == \"Rows\":\n",
        "  st.text(\"Showing Rows\")\n",
        "  st.write(data.shape[0])\n",
        "elif data_dimensions == \"Columns\":\n",
        "  st.text(\"Showing Columns\")\n",
        "  st.write(data.shape[1])\n",
        "else:\n",
        "  st.text(\"Showing Shape of Dataset\")\n",
        "  st.write(data.shape)\n",
        "\n",
        "st.text(\"\")\n",
        "\n",
        "#Show SetRevisionSummary\n",
        "if st.checkbox(\"Show Summary of Dataset\"):\n",
        "  st.write(data.describe())\n",
        "\n",
        "st.text(\"\")\n",
        "\n",
        "#Select a Column\n",
        "col_option = st.selectbox(\"Select Column\", (\"Body ID\",\"Stance\", \"pos_tags_body\", \"pos_tags_headline\", \"wordnet_pos_body\", \n",
        "\"wordnet_pos_headline\", \"lemmatized_body_string\", \"lemmatized_headline_string\"))\n",
        "if col_option == \"Body ID\":\n",
        "  st.write(data['Body ID'])\n",
        "elif col_option == \"Stance\":\n",
        "  st.write(data['Stance'])\n",
        "elif col_option == \"pos_tags_body\":\n",
        "  st.write(data['pos_tags_body'])\n",
        "elif col_option == \"pos_tags_headline\":\n",
        "  st.write(data['pos_tags_headline'])\n",
        "elif col_option == \"wordnet_pos_body\":\n",
        "  st.write(data['wordnet_pos_body'])\n",
        "elif col_option == \"wordnet_pos_headline\":\n",
        "  st.write(data['wordnet_pos_headline'])\n",
        "elif col_option == \"lemmatized_body_string\":\n",
        "  st.write(data['lemmatized_body_string'])\n",
        "elif col_option == \"lemmatized_headline_string\":\n",
        "  st.write(data['lemmatized_headline_string'])\n",
        "else:\n",
        "  st.write(\"Select Column\")\n",
        "\n",
        "st.text(\"\")\n",
        "\n",
        "#Plot\n",
        "\n",
        "def plot_CountArticlesByStance():\n",
        "\n",
        "  stances = data['Stance']\n",
        "\n",
        "  pkmn_type_colors = ['#78C850',  # Grass\n",
        "                    '#F08030',  # Fire\n",
        "                    '#6890F0',  # Water\n",
        "                    '#A8B820',  # Bug\n",
        "                    '#A8A878',  # Normal\n",
        "                    '#A040A0',  # Poison\n",
        "                    '#F8D030',  # Electric\n",
        "                    '#E0C068',  # Ground\n",
        "                    '#EE99AC',  # Fairy\n",
        "                    '#C03028',  # Fighting\n",
        "                    '#F85888',  # Psychic\n",
        "                    '#B8A038',  # Rock\n",
        "                    '#705898',  # Ghost\n",
        "                    '#98D8D8',  # Ice\n",
        "                    '#7038F8',  # Dragon\n",
        "                   ]\n",
        "  fmt = '{x:,.0f}'\n",
        "  plt.figure(figsize=(12.8,6))\n",
        "  ax = stances.value_counts().plot(kind='bar', color=pkmn_type_colors,rot=0)\n",
        "  ax.yaxis.set_major_formatter(mtick.StrMethodFormatter(fmt))\n",
        "  for p in ax.patches: \n",
        "    ax.annotate(np.round(p.get_height(),decimals=2), \n",
        "                (p.get_x()+p.get_width()/2., p.get_height()), \n",
        "                ha='center', va='center', xytext=(0, 10), textcoords='offset points')\n",
        "    \n",
        "  plt.xlabel(\"Stance\", labelpad=14)\n",
        "  plt.ylabel(\"Articles\", labelpad=14)\n",
        "  plt.title(\"Count Articles by Stance\", y=1.02);\n",
        "\n",
        "def plot_PercentatgeArticlesByStance():\n",
        "  pkmn_type_colors = ['#78C850',  # Grass\n",
        "                    '#F08030',  # Fire\n",
        "                    '#6890F0',  # Water\n",
        "                    '#A8B820',  # Bug\n",
        "                    '#A8A878',  # Normal\n",
        "                    '#A040A0',  # Poison\n",
        "                    '#F8D030',  # Electric\n",
        "                    '#E0C068',  # Ground\n",
        "                    '#EE99AC',  # Fairy\n",
        "                    '#C03028',  # Fighting\n",
        "                    '#F85888',  # Psychic\n",
        "                    '#B8A038',  # Rock\n",
        "                    '#705898',  # Ghost\n",
        "                    '#98D8D8',  # Ice\n",
        "                    '#7038F8',  # Dragon\n",
        "                   ]\n",
        "\n",
        "  train_df_by_stances = data.groupby('Stance')['Body ID'].count()\n",
        "  TotalArticles = train_df_by_stances[0:].sum()\n",
        "  train_df_by_stances['Percent of Total'] = train_df_by_stances[0:]*100 / TotalArticles\n",
        "  print(train_df_by_stances['Percent of Total'])\n",
        "\n",
        "  plt.figure(figsize=(18.6,6))\n",
        "  ax= train_df_by_stances['Percent of Total'].plot(kind='bar', color=pkmn_type_colors)\n",
        "  labels = list(train_df_by_stances.index)\n",
        "  ax.set_xlabel(labels)\n",
        "  ax.yaxis.set_major_formatter(mtick.PercentFormatter())\n",
        "\n",
        "  for p in ax.patches: \n",
        "    ax.annotate(np.round(p.get_height(),decimals=2), \n",
        "                (p.get_x()+p.get_width()/2., p.get_height()), \n",
        "                ha='center', va='center', xytext=(0, 10), \n",
        "                textcoords='offset points')\n",
        "\n",
        "  plt.xlabel(\"Stance\", labelpad=14)\n",
        "  plt.ylabel(\"% of Articles\", labelpad=14)\n",
        "  plt.title(\"% of Articles in each Stance\", y=1.02);\n",
        "\n",
        "\n",
        "plot_option = st.selectbox(\"Some graphics about our Dataset\", (\"Count Articles By Stance\", \"Percentatge of Articles By Stance\"))\n",
        "\n",
        "if plot_option == \"Count Articles By Stance\":\n",
        "  st.text(\"0 = Fake, 1 = Fact\")\n",
        "  st.write(plot_CountArticlesByStance())\n",
        "  st.set_option('deprecation.showPyplotGlobalUse', False)\n",
        "  st.pyplot()\n",
        "if plot_option == \"Percentatge of Articles By Stance\":\n",
        "  st.text(\"0 = Fake, 1 = Fact\")\n",
        "  st.write(plot_PercentatgeArticlesByStance())\n",
        "  st.set_option('deprecation.showPyplotGlobalUse', False)\n",
        "  st.pyplot()\n",
        "\n",
        "\n",
        "\n",
        "\n"
      ],
      "execution_count": null,
      "outputs": [
        {
          "output_type": "stream",
          "text": [
            "Overwriting streamlit.py\n"
          ],
          "name": "stdout"
        }
      ]
    },
    {
      "cell_type": "markdown",
      "metadata": {
        "id": "6MZvFKhPpJ3j"
      },
      "source": [
        "## **6. Deployment of our best model** "
      ]
    },
    {
      "cell_type": "markdown",
      "metadata": {
        "id": "lL2ezZfipTO0"
      },
      "source": [
        "\n",
        "After training and selecting the best model, the last step is converting our python script into a webapp or an application so that users can use it without the manipulation of codes and in a friendly user interface. Flask python-driven web application is a good choice.\n",
        "\n",
        "The advantage of web applications is that they’re platform independent and can be run by anyone who has access to the Internet. Their code is implemented on a back-end server, where the program processes incoming requests and responds through a shared protocol that’s understood by all browsers.\n",
        "\n",
        "Python powers many large web applications and is a common choice as a back-end language. Many Python-driven web applications are planned from the start as web applications and are built using Python web frameworks such as Flask.\n",
        "\n",
        "Python-driven web applications use Python code to determine what actions to take and what content to show. Your code is run by the web server that hosts your website, which means that your users don’t need to install anything. All they need to interact with your code is a browser and an Internet connection. Getting Python to run on a website can be complicated, but there are a number of different web frameworks that automatically take care of the details.\n",
        "\n",
        "For more details, you could check: https://realpython.com/python-web-applications/ \n"
      ]
    },
    {
      "cell_type": "markdown",
      "metadata": {
        "id": "zmCdOsAApYcc"
      },
      "source": [
        "## **7. Conclusion** "
      ]
    },
    {
      "cell_type": "markdown",
      "metadata": {
        "id": "eWFMffAypmyA"
      },
      "source": [
        "Lorem ipsum dolor sit amet, consectetur adipiscing elit, sed do eiusmod tempor incididunt ut labore et dolore magna aliqua. Ut enim ad minim veniam, quis nostrud exercitation ullamco laboris nisi ut aliquip ex ea commodo consequat. Duis aute irure dolor in reprehenderit in voluptate velit esse cillum dolore eu fugiat nulla pariatur. Excepteur sint occaecat cupidatat non proident, sunt in culpa qui officia deserunt mollit anim id est laborum.\n"
      ]
    },
    {
      "cell_type": "markdown",
      "metadata": {
        "id": "6bK_2O5zpl0Q"
      },
      "source": [
        "# 🌐 Sources used in this notebook\n",
        "\n",
        "\n",
        "*  Training and testing examples were taken from http://www.fakenewschallenge.org/\n",
        "\n",
        "*   Parts of our code or text were reused from the following notebooks:\n",
        "   *  https://colab.research.google.com/drive/14MTJZLVmGNCxeb4mDslTTTk51o1SC5fb?authuser=5#scrollTo=yXfTwR7Ue0on\n",
        "   *  https://github.com/StavroK/MtySaturdayAI2020\n",
        "  \n",
        "* This workshop was inspired by the following Saturdays.AI project:\n",
        "   *  https://github.com/StavroK/MtySaturdayAI2020/blob/master/decks/2020_Mty_Saturdays_Project_BKaramanosvDEMODAY.pptx\n",
        "\n",
        "We got support from several different website some are listed below:\n",
        "https://towardsdatascience.com/preprocessing-text-data-using-python-576206753c28\n",
        "https://towardsdatascience.com/how-to-deal-with-imbalanced-data-in-python-f9b71aba53eb"
      ]
    },
    {
      "cell_type": "code",
      "metadata": {
        "id": "Pru5U4MYsFRf"
      },
      "source": [
        ""
      ],
      "execution_count": null,
      "outputs": []
    }
  ]
}